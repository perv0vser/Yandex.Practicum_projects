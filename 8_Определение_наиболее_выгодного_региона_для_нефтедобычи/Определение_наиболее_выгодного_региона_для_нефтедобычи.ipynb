{
 "cells": [
  {
   "cell_type": "markdown",
   "metadata": {},
   "source": [
    "# Выбор локации для скважины"
   ]
  },
  {
   "cell_type": "markdown",
   "metadata": {},
   "source": [
    "Для добывающей сырье компании нужно решить, где бурить новую скважину.\n",
    "\n",
    "Предоставлены пробы нефти в трёх регионах: в каждом 100 000 месторождений, где измерили качество нефти и объём её запасов. Требуется построить модель машинного обучения, которая поможет определить регион, где добыча принесёт наибольшую прибыль. Нужно также проанализировать возможные прибыль и риски.\n",
    "\n",
    "**Шаги для выбора локации:**\n",
    "\n",
    "- В избранном регионе ищут месторождения, для каждого определяют значения признаков;\n",
    "- Строят модель и оценивают объём запасов;\n",
    "- Выбирают месторождения с самым высокими оценками значений. Количество месторождений зависит от бюджета компании и стоимости разработки одной скважины;\n",
    "- Прибыль равна суммарной прибыли отобранных месторождений."
   ]
  },
  {
   "cell_type": "markdown",
   "metadata": {},
   "source": [
    "**Условия задачи:**\n",
    "- Для обучения модели подходит только линейная регрессия (остальные — недостаточно предсказуемые).\n",
    "- При разведке региона исследуют 500 точек, из которых с помощью машинного обучения выбирают 200 лучших для разработки.\n",
    "- Бюджет на разработку скважин в регионе — 10 млрд рублей.\n",
    "- При нынешних ценах один баррель сырья приносит 450 рублей дохода. Доход с каждой единицы продукта составляет 450 тыс. рублей, поскольку объём указан в тысячах баррелей.\n",
    "- После оценки рисков нужно оставить лишь те регионы, в которых вероятность убытков меньше 2.5%. Среди них выбирают регион с наибольшей средней прибылью."
   ]
  },
  {
   "cell_type": "markdown",
   "metadata": {},
   "source": [
    "**Значения столбцов:**\n",
    "- id — уникальный идентификатор скважины;\n",
    "- f0, f1, f2 — три признака точек (неважно, что они означают, но сами признаки значимы);\n",
    "- product — объём запасов в скважине (тыс. баррелей)."
   ]
  },
  {
   "cell_type": "markdown",
   "metadata": {},
   "source": [
    "## 1. Загрузка и подготовка данных"
   ]
  },
  {
   "cell_type": "code",
   "execution_count": 1,
   "metadata": {},
   "outputs": [],
   "source": [
    "import pandas as pd\n",
    "import numpy as np \n",
    "\n",
    "from sklearn.linear_model import LinearRegression\n",
    "\n",
    "from sklearn.metrics import mean_squared_error\n",
    "from sklearn.model_selection import train_test_split \n",
    "from sklearn.preprocessing import StandardScaler\n",
    "from numpy.random import RandomState\n",
    "\n",
    "pd.options.mode.chained_assignment=None"
   ]
  },
  {
   "cell_type": "code",
   "execution_count": 2,
   "metadata": {
    "scrolled": true
   },
   "outputs": [
    {
     "data": {
      "text/html": [
       "<div>\n",
       "<style scoped>\n",
       "    .dataframe tbody tr th:only-of-type {\n",
       "        vertical-align: middle;\n",
       "    }\n",
       "\n",
       "    .dataframe tbody tr th {\n",
       "        vertical-align: top;\n",
       "    }\n",
       "\n",
       "    .dataframe thead th {\n",
       "        text-align: right;\n",
       "    }\n",
       "</style>\n",
       "<table border=\"1\" class=\"dataframe\">\n",
       "  <thead>\n",
       "    <tr style=\"text-align: right;\">\n",
       "      <th></th>\n",
       "      <th>id</th>\n",
       "      <th>f0</th>\n",
       "      <th>f1</th>\n",
       "      <th>f2</th>\n",
       "      <th>product</th>\n",
       "    </tr>\n",
       "  </thead>\n",
       "  <tbody>\n",
       "    <tr>\n",
       "      <th>94400</th>\n",
       "      <td>broNg</td>\n",
       "      <td>-0.409803</td>\n",
       "      <td>0.853466</td>\n",
       "      <td>0.475550</td>\n",
       "      <td>47.032384</td>\n",
       "    </tr>\n",
       "    <tr>\n",
       "      <th>60980</th>\n",
       "      <td>ReLhH</td>\n",
       "      <td>-0.339466</td>\n",
       "      <td>0.901200</td>\n",
       "      <td>7.289915</td>\n",
       "      <td>111.377611</td>\n",
       "    </tr>\n",
       "    <tr>\n",
       "      <th>20272</th>\n",
       "      <td>OMfbg</td>\n",
       "      <td>0.490629</td>\n",
       "      <td>-0.391895</td>\n",
       "      <td>-1.050727</td>\n",
       "      <td>106.195451</td>\n",
       "    </tr>\n",
       "    <tr>\n",
       "      <th>58523</th>\n",
       "      <td>eLZiV</td>\n",
       "      <td>-0.825188</td>\n",
       "      <td>0.264688</td>\n",
       "      <td>3.038618</td>\n",
       "      <td>61.147705</td>\n",
       "    </tr>\n",
       "    <tr>\n",
       "      <th>24177</th>\n",
       "      <td>0TXkv</td>\n",
       "      <td>0.028340</td>\n",
       "      <td>0.103588</td>\n",
       "      <td>4.505864</td>\n",
       "      <td>103.184892</td>\n",
       "    </tr>\n",
       "  </tbody>\n",
       "</table>\n",
       "</div>"
      ],
      "text/plain": [
       "          id        f0        f1        f2     product\n",
       "94400  broNg -0.409803  0.853466  0.475550   47.032384\n",
       "60980  ReLhH -0.339466  0.901200  7.289915  111.377611\n",
       "20272  OMfbg  0.490629 -0.391895 -1.050727  106.195451\n",
       "58523  eLZiV -0.825188  0.264688  3.038618   61.147705\n",
       "24177  0TXkv  0.028340  0.103588  4.505864  103.184892"
      ]
     },
     "execution_count": 2,
     "metadata": {},
     "output_type": "execute_result"
    }
   ],
   "source": [
    "try:\n",
    "    df0 = pd.read_csv('/datasets/geo_data_0.csv') # читаем csv-файл и сохраняем в переменную df\n",
    "except:\n",
    "    df0 = pd.read_csv('https://code.s3.yandex.net/datasets/geo_data_0.csv') \n",
    "\n",
    "df0.sample(5) # смотрим случайные 5 строк из датасета для ознакомления"
   ]
  },
  {
   "cell_type": "code",
   "execution_count": 3,
   "metadata": {},
   "outputs": [
    {
     "name": "stdout",
     "output_type": "stream",
     "text": [
      "<class 'pandas.core.frame.DataFrame'>\n",
      "RangeIndex: 100000 entries, 0 to 99999\n",
      "Data columns (total 5 columns):\n",
      " #   Column   Non-Null Count   Dtype  \n",
      "---  ------   --------------   -----  \n",
      " 0   id       100000 non-null  object \n",
      " 1   f0       100000 non-null  float64\n",
      " 2   f1       100000 non-null  float64\n",
      " 3   f2       100000 non-null  float64\n",
      " 4   product  100000 non-null  float64\n",
      "dtypes: float64(4), object(1)\n",
      "memory usage: 3.8+ MB\n"
     ]
    }
   ],
   "source": [
    "df0.info() # пропусков нет, названия столбцов в порядке, форматы данных адекватные"
   ]
  },
  {
   "cell_type": "code",
   "execution_count": 4,
   "metadata": {
    "scrolled": true
   },
   "outputs": [
    {
     "data": {
      "text/html": [
       "<div>\n",
       "<style scoped>\n",
       "    .dataframe tbody tr th:only-of-type {\n",
       "        vertical-align: middle;\n",
       "    }\n",
       "\n",
       "    .dataframe tbody tr th {\n",
       "        vertical-align: top;\n",
       "    }\n",
       "\n",
       "    .dataframe thead th {\n",
       "        text-align: right;\n",
       "    }\n",
       "</style>\n",
       "<table border=\"1\" class=\"dataframe\">\n",
       "  <thead>\n",
       "    <tr style=\"text-align: right;\">\n",
       "      <th></th>\n",
       "      <th>f0</th>\n",
       "      <th>f1</th>\n",
       "      <th>f2</th>\n",
       "      <th>product</th>\n",
       "    </tr>\n",
       "  </thead>\n",
       "  <tbody>\n",
       "    <tr>\n",
       "      <th>count</th>\n",
       "      <td>100000.000000</td>\n",
       "      <td>100000.000000</td>\n",
       "      <td>100000.000000</td>\n",
       "      <td>100000.000000</td>\n",
       "    </tr>\n",
       "    <tr>\n",
       "      <th>mean</th>\n",
       "      <td>0.500419</td>\n",
       "      <td>0.250143</td>\n",
       "      <td>2.502647</td>\n",
       "      <td>92.500000</td>\n",
       "    </tr>\n",
       "    <tr>\n",
       "      <th>std</th>\n",
       "      <td>0.871832</td>\n",
       "      <td>0.504433</td>\n",
       "      <td>3.248248</td>\n",
       "      <td>44.288691</td>\n",
       "    </tr>\n",
       "    <tr>\n",
       "      <th>min</th>\n",
       "      <td>-1.408605</td>\n",
       "      <td>-0.848218</td>\n",
       "      <td>-12.088328</td>\n",
       "      <td>0.000000</td>\n",
       "    </tr>\n",
       "    <tr>\n",
       "      <th>25%</th>\n",
       "      <td>-0.072580</td>\n",
       "      <td>-0.200881</td>\n",
       "      <td>0.287748</td>\n",
       "      <td>56.497507</td>\n",
       "    </tr>\n",
       "    <tr>\n",
       "      <th>50%</th>\n",
       "      <td>0.502360</td>\n",
       "      <td>0.250252</td>\n",
       "      <td>2.515969</td>\n",
       "      <td>91.849972</td>\n",
       "    </tr>\n",
       "    <tr>\n",
       "      <th>75%</th>\n",
       "      <td>1.073581</td>\n",
       "      <td>0.700646</td>\n",
       "      <td>4.715088</td>\n",
       "      <td>128.564089</td>\n",
       "    </tr>\n",
       "    <tr>\n",
       "      <th>max</th>\n",
       "      <td>2.362331</td>\n",
       "      <td>1.343769</td>\n",
       "      <td>16.003790</td>\n",
       "      <td>185.364347</td>\n",
       "    </tr>\n",
       "  </tbody>\n",
       "</table>\n",
       "</div>"
      ],
      "text/plain": [
       "                  f0             f1             f2        product\n",
       "count  100000.000000  100000.000000  100000.000000  100000.000000\n",
       "mean        0.500419       0.250143       2.502647      92.500000\n",
       "std         0.871832       0.504433       3.248248      44.288691\n",
       "min        -1.408605      -0.848218     -12.088328       0.000000\n",
       "25%        -0.072580      -0.200881       0.287748      56.497507\n",
       "50%         0.502360       0.250252       2.515969      91.849972\n",
       "75%         1.073581       0.700646       4.715088     128.564089\n",
       "max         2.362331       1.343769      16.003790     185.364347"
      ]
     },
     "execution_count": 4,
     "metadata": {},
     "output_type": "execute_result"
    }
   ],
   "source": [
    "df0.describe() # совсем откровенных аномалий (вроде отрицательного значения product) не наблюдается"
   ]
  },
  {
   "cell_type": "code",
   "execution_count": 5,
   "metadata": {},
   "outputs": [
    {
     "data": {
      "text/html": [
       "<div>\n",
       "<style scoped>\n",
       "    .dataframe tbody tr th:only-of-type {\n",
       "        vertical-align: middle;\n",
       "    }\n",
       "\n",
       "    .dataframe tbody tr th {\n",
       "        vertical-align: top;\n",
       "    }\n",
       "\n",
       "    .dataframe thead th {\n",
       "        text-align: right;\n",
       "    }\n",
       "</style>\n",
       "<table border=\"1\" class=\"dataframe\">\n",
       "  <thead>\n",
       "    <tr style=\"text-align: right;\">\n",
       "      <th></th>\n",
       "      <th>f0</th>\n",
       "      <th>f1</th>\n",
       "      <th>f2</th>\n",
       "      <th>product</th>\n",
       "    </tr>\n",
       "  </thead>\n",
       "  <tbody>\n",
       "    <tr>\n",
       "      <th>f0</th>\n",
       "      <td>1.000000</td>\n",
       "      <td>-0.440723</td>\n",
       "      <td>-0.003153</td>\n",
       "      <td>0.143536</td>\n",
       "    </tr>\n",
       "    <tr>\n",
       "      <th>f1</th>\n",
       "      <td>-0.440723</td>\n",
       "      <td>1.000000</td>\n",
       "      <td>0.001724</td>\n",
       "      <td>-0.192356</td>\n",
       "    </tr>\n",
       "    <tr>\n",
       "      <th>f2</th>\n",
       "      <td>-0.003153</td>\n",
       "      <td>0.001724</td>\n",
       "      <td>1.000000</td>\n",
       "      <td>0.483663</td>\n",
       "    </tr>\n",
       "    <tr>\n",
       "      <th>product</th>\n",
       "      <td>0.143536</td>\n",
       "      <td>-0.192356</td>\n",
       "      <td>0.483663</td>\n",
       "      <td>1.000000</td>\n",
       "    </tr>\n",
       "  </tbody>\n",
       "</table>\n",
       "</div>"
      ],
      "text/plain": [
       "               f0        f1        f2   product\n",
       "f0       1.000000 -0.440723 -0.003153  0.143536\n",
       "f1      -0.440723  1.000000  0.001724 -0.192356\n",
       "f2      -0.003153  0.001724  1.000000  0.483663\n",
       "product  0.143536 -0.192356  0.483663  1.000000"
      ]
     },
     "execution_count": 5,
     "metadata": {},
     "output_type": "execute_result"
    }
   ],
   "source": [
    "df0.corr() # даже максимальные коэффициенты корреляции между разными признаками ниже значения в 0.5 по модулю, для   \n",
    "# подозрений же о наличии мультиколлинеарности нужен уровень выше хотя бы 0.7; конечно только расчета коэффициентов корреляции не \n",
    "# достаточно, чтобы полностью отбросить риски наличия мультиколлинеарности, но в рамках наших текущих знаний - это все, \n",
    "# что мы можем проанализировать"
   ]
  },
  {
   "cell_type": "code",
   "execution_count": 6,
   "metadata": {},
   "outputs": [
    {
     "data": {
      "text/plain": [
       "0"
      ]
     },
     "execution_count": 6,
     "metadata": {},
     "output_type": "execute_result"
    }
   ],
   "source": [
    "df0.duplicated().sum() # проверяем наличие полных дубликатов"
   ]
  },
  {
   "cell_type": "code",
   "execution_count": 7,
   "metadata": {},
   "outputs": [
    {
     "data": {
      "text/plain": [
       "99990"
      ]
     },
     "execution_count": 7,
     "metadata": {},
     "output_type": "execute_result"
    }
   ],
   "source": [
    "df0.id.nunique() # посмотрим нет ли дубликатов в столбце id"
   ]
  },
  {
   "cell_type": "code",
   "execution_count": 8,
   "metadata": {},
   "outputs": [
    {
     "data": {
      "text/html": [
       "<div>\n",
       "<style scoped>\n",
       "    .dataframe tbody tr th:only-of-type {\n",
       "        vertical-align: middle;\n",
       "    }\n",
       "\n",
       "    .dataframe tbody tr th {\n",
       "        vertical-align: top;\n",
       "    }\n",
       "\n",
       "    .dataframe thead th {\n",
       "        text-align: right;\n",
       "    }\n",
       "</style>\n",
       "<table border=\"1\" class=\"dataframe\">\n",
       "  <thead>\n",
       "    <tr style=\"text-align: right;\">\n",
       "      <th></th>\n",
       "      <th>id</th>\n",
       "      <th>f0</th>\n",
       "      <th>f1</th>\n",
       "      <th>f2</th>\n",
       "      <th>product</th>\n",
       "    </tr>\n",
       "  </thead>\n",
       "  <tbody>\n",
       "    <tr>\n",
       "      <th>66136</th>\n",
       "      <td>74z30</td>\n",
       "      <td>1.084962</td>\n",
       "      <td>-0.312358</td>\n",
       "      <td>6.990771</td>\n",
       "      <td>127.643327</td>\n",
       "    </tr>\n",
       "    <tr>\n",
       "      <th>64022</th>\n",
       "      <td>74z30</td>\n",
       "      <td>0.741456</td>\n",
       "      <td>0.459229</td>\n",
       "      <td>5.153109</td>\n",
       "      <td>140.771492</td>\n",
       "    </tr>\n",
       "    <tr>\n",
       "      <th>51970</th>\n",
       "      <td>A5aEY</td>\n",
       "      <td>-0.180335</td>\n",
       "      <td>0.935548</td>\n",
       "      <td>-2.094773</td>\n",
       "      <td>33.020205</td>\n",
       "    </tr>\n",
       "    <tr>\n",
       "      <th>3389</th>\n",
       "      <td>A5aEY</td>\n",
       "      <td>-0.039949</td>\n",
       "      <td>0.156872</td>\n",
       "      <td>0.209861</td>\n",
       "      <td>89.249364</td>\n",
       "    </tr>\n",
       "    <tr>\n",
       "      <th>69163</th>\n",
       "      <td>AGS9W</td>\n",
       "      <td>-0.933795</td>\n",
       "      <td>0.116194</td>\n",
       "      <td>-3.655896</td>\n",
       "      <td>19.230453</td>\n",
       "    </tr>\n",
       "    <tr>\n",
       "      <th>42529</th>\n",
       "      <td>AGS9W</td>\n",
       "      <td>1.454747</td>\n",
       "      <td>-0.479651</td>\n",
       "      <td>0.683380</td>\n",
       "      <td>126.370504</td>\n",
       "    </tr>\n",
       "    <tr>\n",
       "      <th>931</th>\n",
       "      <td>HZww2</td>\n",
       "      <td>0.755284</td>\n",
       "      <td>0.368511</td>\n",
       "      <td>1.863211</td>\n",
       "      <td>30.681774</td>\n",
       "    </tr>\n",
       "    <tr>\n",
       "      <th>7530</th>\n",
       "      <td>HZww2</td>\n",
       "      <td>1.061194</td>\n",
       "      <td>-0.373969</td>\n",
       "      <td>10.430210</td>\n",
       "      <td>158.828695</td>\n",
       "    </tr>\n",
       "    <tr>\n",
       "      <th>63593</th>\n",
       "      <td>QcMuo</td>\n",
       "      <td>0.635635</td>\n",
       "      <td>-0.473422</td>\n",
       "      <td>0.862670</td>\n",
       "      <td>64.578675</td>\n",
       "    </tr>\n",
       "    <tr>\n",
       "      <th>1949</th>\n",
       "      <td>QcMuo</td>\n",
       "      <td>0.506563</td>\n",
       "      <td>-0.323775</td>\n",
       "      <td>-2.215583</td>\n",
       "      <td>75.496502</td>\n",
       "    </tr>\n",
       "    <tr>\n",
       "      <th>75715</th>\n",
       "      <td>Tdehs</td>\n",
       "      <td>0.112079</td>\n",
       "      <td>0.430296</td>\n",
       "      <td>3.218993</td>\n",
       "      <td>60.964018</td>\n",
       "    </tr>\n",
       "    <tr>\n",
       "      <th>21426</th>\n",
       "      <td>Tdehs</td>\n",
       "      <td>0.829407</td>\n",
       "      <td>0.298807</td>\n",
       "      <td>-0.049563</td>\n",
       "      <td>96.035308</td>\n",
       "    </tr>\n",
       "    <tr>\n",
       "      <th>92341</th>\n",
       "      <td>TtcGQ</td>\n",
       "      <td>0.110711</td>\n",
       "      <td>1.022689</td>\n",
       "      <td>0.911381</td>\n",
       "      <td>101.318008</td>\n",
       "    </tr>\n",
       "    <tr>\n",
       "      <th>60140</th>\n",
       "      <td>TtcGQ</td>\n",
       "      <td>0.569276</td>\n",
       "      <td>-0.104876</td>\n",
       "      <td>6.440215</td>\n",
       "      <td>85.350186</td>\n",
       "    </tr>\n",
       "    <tr>\n",
       "      <th>89582</th>\n",
       "      <td>bsk9y</td>\n",
       "      <td>0.398908</td>\n",
       "      <td>-0.400253</td>\n",
       "      <td>10.122376</td>\n",
       "      <td>163.433078</td>\n",
       "    </tr>\n",
       "    <tr>\n",
       "      <th>97785</th>\n",
       "      <td>bsk9y</td>\n",
       "      <td>0.378429</td>\n",
       "      <td>0.005837</td>\n",
       "      <td>0.160827</td>\n",
       "      <td>160.637302</td>\n",
       "    </tr>\n",
       "    <tr>\n",
       "      <th>41724</th>\n",
       "      <td>bxg6G</td>\n",
       "      <td>-0.823752</td>\n",
       "      <td>0.546319</td>\n",
       "      <td>3.630479</td>\n",
       "      <td>93.007798</td>\n",
       "    </tr>\n",
       "    <tr>\n",
       "      <th>1364</th>\n",
       "      <td>bxg6G</td>\n",
       "      <td>0.411645</td>\n",
       "      <td>0.856830</td>\n",
       "      <td>-3.653440</td>\n",
       "      <td>73.604260</td>\n",
       "    </tr>\n",
       "    <tr>\n",
       "      <th>16633</th>\n",
       "      <td>fiKDv</td>\n",
       "      <td>0.157341</td>\n",
       "      <td>1.028359</td>\n",
       "      <td>5.585586</td>\n",
       "      <td>95.817889</td>\n",
       "    </tr>\n",
       "    <tr>\n",
       "      <th>90815</th>\n",
       "      <td>fiKDv</td>\n",
       "      <td>0.049883</td>\n",
       "      <td>0.841313</td>\n",
       "      <td>6.394613</td>\n",
       "      <td>137.346586</td>\n",
       "    </tr>\n",
       "  </tbody>\n",
       "</table>\n",
       "</div>"
      ],
      "text/plain": [
       "          id        f0        f1         f2     product\n",
       "66136  74z30  1.084962 -0.312358   6.990771  127.643327\n",
       "64022  74z30  0.741456  0.459229   5.153109  140.771492\n",
       "51970  A5aEY -0.180335  0.935548  -2.094773   33.020205\n",
       "3389   A5aEY -0.039949  0.156872   0.209861   89.249364\n",
       "69163  AGS9W -0.933795  0.116194  -3.655896   19.230453\n",
       "42529  AGS9W  1.454747 -0.479651   0.683380  126.370504\n",
       "931    HZww2  0.755284  0.368511   1.863211   30.681774\n",
       "7530   HZww2  1.061194 -0.373969  10.430210  158.828695\n",
       "63593  QcMuo  0.635635 -0.473422   0.862670   64.578675\n",
       "1949   QcMuo  0.506563 -0.323775  -2.215583   75.496502\n",
       "75715  Tdehs  0.112079  0.430296   3.218993   60.964018\n",
       "21426  Tdehs  0.829407  0.298807  -0.049563   96.035308\n",
       "92341  TtcGQ  0.110711  1.022689   0.911381  101.318008\n",
       "60140  TtcGQ  0.569276 -0.104876   6.440215   85.350186\n",
       "89582  bsk9y  0.398908 -0.400253  10.122376  163.433078\n",
       "97785  bsk9y  0.378429  0.005837   0.160827  160.637302\n",
       "41724  bxg6G -0.823752  0.546319   3.630479   93.007798\n",
       "1364   bxg6G  0.411645  0.856830  -3.653440   73.604260\n",
       "16633  fiKDv  0.157341  1.028359   5.585586   95.817889\n",
       "90815  fiKDv  0.049883  0.841313   6.394613  137.346586"
      ]
     },
     "execution_count": 8,
     "metadata": {},
     "output_type": "execute_result"
    }
   ],
   "source": [
    "duplicated_id_region0 = df0.groupby('id')['id'].value_counts().sort_values(ascending=False).head(10).unstack()\n",
    "df0_duplicated_id = df0[df0['id'].isin(duplicated_id_region0.index)].sort_values(by='id')\n",
    "df0_duplicated_id"
   ]
  },
  {
   "cell_type": "code",
   "execution_count": 9,
   "metadata": {},
   "outputs": [
    {
     "data": {
      "text/plain": [
       "(99980, 5)"
      ]
     },
     "execution_count": 9,
     "metadata": {},
     "output_type": "execute_result"
    }
   ],
   "source": [
    "# удаляем объекты с задублированными id\n",
    "df0 = df0.drop(df0_duplicated_id.index)\n",
    "df0.shape"
   ]
  },
  {
   "cell_type": "code",
   "execution_count": 10,
   "metadata": {},
   "outputs": [
    {
     "data": {
      "text/plain": [
       "99980"
      ]
     },
     "execution_count": 10,
     "metadata": {},
     "output_type": "execute_result"
    }
   ],
   "source": [
    "df0.id.nunique() # проверяем отсутствие дубликатов"
   ]
  },
  {
   "cell_type": "code",
   "execution_count": 11,
   "metadata": {
    "scrolled": true
   },
   "outputs": [
    {
     "data": {
      "text/html": [
       "<div>\n",
       "<style scoped>\n",
       "    .dataframe tbody tr th:only-of-type {\n",
       "        vertical-align: middle;\n",
       "    }\n",
       "\n",
       "    .dataframe tbody tr th {\n",
       "        vertical-align: top;\n",
       "    }\n",
       "\n",
       "    .dataframe thead th {\n",
       "        text-align: right;\n",
       "    }\n",
       "</style>\n",
       "<table border=\"1\" class=\"dataframe\">\n",
       "  <thead>\n",
       "    <tr style=\"text-align: right;\">\n",
       "      <th></th>\n",
       "      <th>id</th>\n",
       "      <th>f0</th>\n",
       "      <th>f1</th>\n",
       "      <th>f2</th>\n",
       "      <th>product</th>\n",
       "    </tr>\n",
       "  </thead>\n",
       "  <tbody>\n",
       "    <tr>\n",
       "      <th>62377</th>\n",
       "      <td>oa1As</td>\n",
       "      <td>13.327970</td>\n",
       "      <td>-1.301379</td>\n",
       "      <td>0.008769</td>\n",
       "      <td>0.000000</td>\n",
       "    </tr>\n",
       "    <tr>\n",
       "      <th>83410</th>\n",
       "      <td>m5rTF</td>\n",
       "      <td>3.177526</td>\n",
       "      <td>-1.795695</td>\n",
       "      <td>-0.004163</td>\n",
       "      <td>0.000000</td>\n",
       "    </tr>\n",
       "    <tr>\n",
       "      <th>97011</th>\n",
       "      <td>bp2Zk</td>\n",
       "      <td>-6.251172</td>\n",
       "      <td>-12.491243</td>\n",
       "      <td>1.992214</td>\n",
       "      <td>57.085625</td>\n",
       "    </tr>\n",
       "    <tr>\n",
       "      <th>72491</th>\n",
       "      <td>LWx9j</td>\n",
       "      <td>-5.423087</td>\n",
       "      <td>-4.090863</td>\n",
       "      <td>1.996071</td>\n",
       "      <td>57.085625</td>\n",
       "    </tr>\n",
       "    <tr>\n",
       "      <th>78610</th>\n",
       "      <td>q1ySJ</td>\n",
       "      <td>-2.390464</td>\n",
       "      <td>-1.749470</td>\n",
       "      <td>3.999152</td>\n",
       "      <td>110.992147</td>\n",
       "    </tr>\n",
       "  </tbody>\n",
       "</table>\n",
       "</div>"
      ],
      "text/plain": [
       "          id         f0         f1        f2     product\n",
       "62377  oa1As  13.327970  -1.301379  0.008769    0.000000\n",
       "83410  m5rTF   3.177526  -1.795695 -0.004163    0.000000\n",
       "97011  bp2Zk  -6.251172 -12.491243  1.992214   57.085625\n",
       "72491  LWx9j  -5.423087  -4.090863  1.996071   57.085625\n",
       "78610  q1ySJ  -2.390464  -1.749470  3.999152  110.992147"
      ]
     },
     "execution_count": 11,
     "metadata": {},
     "output_type": "execute_result"
    }
   ],
   "source": [
    "try:\n",
    "    df1 = pd.read_csv('/datasets/geo_data_1.csv') # читаем csv-файл и сохраняем в переменную df\n",
    "except:\n",
    "    df1 = pd.read_csv('https://code.s3.yandex.net/datasets/geo_data_1.csv') \n",
    "\n",
    "df1.sample(5) # смотрим случайные 5 строк из датасета для ознакомления"
   ]
  },
  {
   "cell_type": "code",
   "execution_count": 12,
   "metadata": {},
   "outputs": [
    {
     "name": "stdout",
     "output_type": "stream",
     "text": [
      "<class 'pandas.core.frame.DataFrame'>\n",
      "RangeIndex: 100000 entries, 0 to 99999\n",
      "Data columns (total 5 columns):\n",
      " #   Column   Non-Null Count   Dtype  \n",
      "---  ------   --------------   -----  \n",
      " 0   id       100000 non-null  object \n",
      " 1   f0       100000 non-null  float64\n",
      " 2   f1       100000 non-null  float64\n",
      " 3   f2       100000 non-null  float64\n",
      " 4   product  100000 non-null  float64\n",
      "dtypes: float64(4), object(1)\n",
      "memory usage: 3.8+ MB\n"
     ]
    }
   ],
   "source": [
    "df1.info() # пропусков нет, названия столбцов в порядке, форматы данных адекватные"
   ]
  },
  {
   "cell_type": "code",
   "execution_count": 13,
   "metadata": {},
   "outputs": [
    {
     "data": {
      "text/html": [
       "<div>\n",
       "<style scoped>\n",
       "    .dataframe tbody tr th:only-of-type {\n",
       "        vertical-align: middle;\n",
       "    }\n",
       "\n",
       "    .dataframe tbody tr th {\n",
       "        vertical-align: top;\n",
       "    }\n",
       "\n",
       "    .dataframe thead th {\n",
       "        text-align: right;\n",
       "    }\n",
       "</style>\n",
       "<table border=\"1\" class=\"dataframe\">\n",
       "  <thead>\n",
       "    <tr style=\"text-align: right;\">\n",
       "      <th></th>\n",
       "      <th>f0</th>\n",
       "      <th>f1</th>\n",
       "      <th>f2</th>\n",
       "      <th>product</th>\n",
       "    </tr>\n",
       "  </thead>\n",
       "  <tbody>\n",
       "    <tr>\n",
       "      <th>count</th>\n",
       "      <td>100000.000000</td>\n",
       "      <td>100000.000000</td>\n",
       "      <td>100000.000000</td>\n",
       "      <td>100000.000000</td>\n",
       "    </tr>\n",
       "    <tr>\n",
       "      <th>mean</th>\n",
       "      <td>1.141296</td>\n",
       "      <td>-4.796579</td>\n",
       "      <td>2.494541</td>\n",
       "      <td>68.825000</td>\n",
       "    </tr>\n",
       "    <tr>\n",
       "      <th>std</th>\n",
       "      <td>8.965932</td>\n",
       "      <td>5.119872</td>\n",
       "      <td>1.703572</td>\n",
       "      <td>45.944423</td>\n",
       "    </tr>\n",
       "    <tr>\n",
       "      <th>min</th>\n",
       "      <td>-31.609576</td>\n",
       "      <td>-26.358598</td>\n",
       "      <td>-0.018144</td>\n",
       "      <td>0.000000</td>\n",
       "    </tr>\n",
       "    <tr>\n",
       "      <th>25%</th>\n",
       "      <td>-6.298551</td>\n",
       "      <td>-8.267985</td>\n",
       "      <td>1.000021</td>\n",
       "      <td>26.953261</td>\n",
       "    </tr>\n",
       "    <tr>\n",
       "      <th>50%</th>\n",
       "      <td>1.153055</td>\n",
       "      <td>-4.813172</td>\n",
       "      <td>2.011479</td>\n",
       "      <td>57.085625</td>\n",
       "    </tr>\n",
       "    <tr>\n",
       "      <th>75%</th>\n",
       "      <td>8.621015</td>\n",
       "      <td>-1.332816</td>\n",
       "      <td>3.999904</td>\n",
       "      <td>107.813044</td>\n",
       "    </tr>\n",
       "    <tr>\n",
       "      <th>max</th>\n",
       "      <td>29.421755</td>\n",
       "      <td>18.734063</td>\n",
       "      <td>5.019721</td>\n",
       "      <td>137.945408</td>\n",
       "    </tr>\n",
       "  </tbody>\n",
       "</table>\n",
       "</div>"
      ],
      "text/plain": [
       "                  f0             f1             f2        product\n",
       "count  100000.000000  100000.000000  100000.000000  100000.000000\n",
       "mean        1.141296      -4.796579       2.494541      68.825000\n",
       "std         8.965932       5.119872       1.703572      45.944423\n",
       "min       -31.609576     -26.358598      -0.018144       0.000000\n",
       "25%        -6.298551      -8.267985       1.000021      26.953261\n",
       "50%         1.153055      -4.813172       2.011479      57.085625\n",
       "75%         8.621015      -1.332816       3.999904     107.813044\n",
       "max        29.421755      18.734063       5.019721     137.945408"
      ]
     },
     "execution_count": 13,
     "metadata": {},
     "output_type": "execute_result"
    }
   ],
   "source": [
    "df1.describe() # совсем откровенных аномалий (вроде отрицательного значения product) не наблюдается"
   ]
  },
  {
   "cell_type": "code",
   "execution_count": 14,
   "metadata": {},
   "outputs": [
    {
     "data": {
      "text/html": [
       "<div>\n",
       "<style scoped>\n",
       "    .dataframe tbody tr th:only-of-type {\n",
       "        vertical-align: middle;\n",
       "    }\n",
       "\n",
       "    .dataframe tbody tr th {\n",
       "        vertical-align: top;\n",
       "    }\n",
       "\n",
       "    .dataframe thead th {\n",
       "        text-align: right;\n",
       "    }\n",
       "</style>\n",
       "<table border=\"1\" class=\"dataframe\">\n",
       "  <thead>\n",
       "    <tr style=\"text-align: right;\">\n",
       "      <th></th>\n",
       "      <th>f0</th>\n",
       "      <th>f1</th>\n",
       "      <th>f2</th>\n",
       "      <th>product</th>\n",
       "    </tr>\n",
       "  </thead>\n",
       "  <tbody>\n",
       "    <tr>\n",
       "      <th>f0</th>\n",
       "      <td>1.000000</td>\n",
       "      <td>0.182287</td>\n",
       "      <td>-0.001777</td>\n",
       "      <td>-0.030491</td>\n",
       "    </tr>\n",
       "    <tr>\n",
       "      <th>f1</th>\n",
       "      <td>0.182287</td>\n",
       "      <td>1.000000</td>\n",
       "      <td>-0.002595</td>\n",
       "      <td>-0.010155</td>\n",
       "    </tr>\n",
       "    <tr>\n",
       "      <th>f2</th>\n",
       "      <td>-0.001777</td>\n",
       "      <td>-0.002595</td>\n",
       "      <td>1.000000</td>\n",
       "      <td>0.999397</td>\n",
       "    </tr>\n",
       "    <tr>\n",
       "      <th>product</th>\n",
       "      <td>-0.030491</td>\n",
       "      <td>-0.010155</td>\n",
       "      <td>0.999397</td>\n",
       "      <td>1.000000</td>\n",
       "    </tr>\n",
       "  </tbody>\n",
       "</table>\n",
       "</div>"
      ],
      "text/plain": [
       "               f0        f1        f2   product\n",
       "f0       1.000000  0.182287 -0.001777 -0.030491\n",
       "f1       0.182287  1.000000 -0.002595 -0.010155\n",
       "f2      -0.001777 -0.002595  1.000000  0.999397\n",
       "product -0.030491 -0.010155  0.999397  1.000000"
      ]
     },
     "execution_count": 14,
     "metadata": {},
     "output_type": "execute_result"
    }
   ],
   "source": [
    "df1.corr() # даже максимальные коэффициенты корреляции между разными признаками ниже значения в 0.2 по модулю, для   \n",
    "# подозрений же о наличии мультиколлинеарности нужен уровень выше хотя бы 0.7; конечно только расчета коэффициентов корреляции не \n",
    "# достаточно, чтобы полностью отбросить риски наличия мультиколлинеарности, но в рамках наших текущих знаний - это все, \n",
    "# что мы можем проанализировать"
   ]
  },
  {
   "cell_type": "code",
   "execution_count": 15,
   "metadata": {},
   "outputs": [
    {
     "data": {
      "text/plain": [
       "0"
      ]
     },
     "execution_count": 15,
     "metadata": {},
     "output_type": "execute_result"
    }
   ],
   "source": [
    "df1.duplicated().sum() # проверяем наличие полных дубликатов"
   ]
  },
  {
   "cell_type": "code",
   "execution_count": 16,
   "metadata": {},
   "outputs": [
    {
     "data": {
      "text/plain": [
       "99996"
      ]
     },
     "execution_count": 16,
     "metadata": {},
     "output_type": "execute_result"
    }
   ],
   "source": [
    "df1.id.nunique() # посмотрим нет ли дубликатов в столбце id"
   ]
  },
  {
   "cell_type": "code",
   "execution_count": 17,
   "metadata": {},
   "outputs": [
    {
     "data": {
      "text/html": [
       "<div>\n",
       "<style scoped>\n",
       "    .dataframe tbody tr th:only-of-type {\n",
       "        vertical-align: middle;\n",
       "    }\n",
       "\n",
       "    .dataframe tbody tr th {\n",
       "        vertical-align: top;\n",
       "    }\n",
       "\n",
       "    .dataframe thead th {\n",
       "        text-align: right;\n",
       "    }\n",
       "</style>\n",
       "<table border=\"1\" class=\"dataframe\">\n",
       "  <thead>\n",
       "    <tr style=\"text-align: right;\">\n",
       "      <th></th>\n",
       "      <th>id</th>\n",
       "      <th>f0</th>\n",
       "      <th>f1</th>\n",
       "      <th>f2</th>\n",
       "      <th>product</th>\n",
       "    </tr>\n",
       "  </thead>\n",
       "  <tbody>\n",
       "    <tr>\n",
       "      <th>5849</th>\n",
       "      <td>5ltQ6</td>\n",
       "      <td>-3.435401</td>\n",
       "      <td>-12.296043</td>\n",
       "      <td>1.999796</td>\n",
       "      <td>57.085625</td>\n",
       "    </tr>\n",
       "    <tr>\n",
       "      <th>84461</th>\n",
       "      <td>5ltQ6</td>\n",
       "      <td>18.213839</td>\n",
       "      <td>2.191999</td>\n",
       "      <td>3.993869</td>\n",
       "      <td>107.813044</td>\n",
       "    </tr>\n",
       "    <tr>\n",
       "      <th>1305</th>\n",
       "      <td>LHZR0</td>\n",
       "      <td>11.170835</td>\n",
       "      <td>-1.945066</td>\n",
       "      <td>3.002872</td>\n",
       "      <td>80.859783</td>\n",
       "    </tr>\n",
       "    <tr>\n",
       "      <th>41906</th>\n",
       "      <td>LHZR0</td>\n",
       "      <td>-8.989672</td>\n",
       "      <td>-4.286607</td>\n",
       "      <td>2.009139</td>\n",
       "      <td>57.085625</td>\n",
       "    </tr>\n",
       "    <tr>\n",
       "      <th>2721</th>\n",
       "      <td>bfPNe</td>\n",
       "      <td>-9.494442</td>\n",
       "      <td>-5.463692</td>\n",
       "      <td>4.006042</td>\n",
       "      <td>110.992147</td>\n",
       "    </tr>\n",
       "    <tr>\n",
       "      <th>82178</th>\n",
       "      <td>bfPNe</td>\n",
       "      <td>-6.202799</td>\n",
       "      <td>-4.820045</td>\n",
       "      <td>2.995107</td>\n",
       "      <td>84.038886</td>\n",
       "    </tr>\n",
       "    <tr>\n",
       "      <th>47591</th>\n",
       "      <td>wt4Uk</td>\n",
       "      <td>-9.091098</td>\n",
       "      <td>-8.109279</td>\n",
       "      <td>-0.002314</td>\n",
       "      <td>3.179103</td>\n",
       "    </tr>\n",
       "    <tr>\n",
       "      <th>82873</th>\n",
       "      <td>wt4Uk</td>\n",
       "      <td>10.259972</td>\n",
       "      <td>-9.376355</td>\n",
       "      <td>4.994297</td>\n",
       "      <td>134.766305</td>\n",
       "    </tr>\n",
       "  </tbody>\n",
       "</table>\n",
       "</div>"
      ],
      "text/plain": [
       "          id         f0         f1        f2     product\n",
       "5849   5ltQ6  -3.435401 -12.296043  1.999796   57.085625\n",
       "84461  5ltQ6  18.213839   2.191999  3.993869  107.813044\n",
       "1305   LHZR0  11.170835  -1.945066  3.002872   80.859783\n",
       "41906  LHZR0  -8.989672  -4.286607  2.009139   57.085625\n",
       "2721   bfPNe  -9.494442  -5.463692  4.006042  110.992147\n",
       "82178  bfPNe  -6.202799  -4.820045  2.995107   84.038886\n",
       "47591  wt4Uk  -9.091098  -8.109279 -0.002314    3.179103\n",
       "82873  wt4Uk  10.259972  -9.376355  4.994297  134.766305"
      ]
     },
     "execution_count": 17,
     "metadata": {},
     "output_type": "execute_result"
    }
   ],
   "source": [
    "duplicated_id_region1 = df1.groupby('id')['id'].value_counts().sort_values(ascending=False).head(4).unstack()\n",
    "df1_duplicated_id = df1[df1['id'].isin(duplicated_id_region1.index)].sort_values(by='id')\n",
    "df1_duplicated_id"
   ]
  },
  {
   "cell_type": "code",
   "execution_count": 18,
   "metadata": {},
   "outputs": [
    {
     "data": {
      "text/plain": [
       "(99992, 5)"
      ]
     },
     "execution_count": 18,
     "metadata": {},
     "output_type": "execute_result"
    }
   ],
   "source": [
    "# удаляем объекты с задублированными id\n",
    "df1 = df1.drop(df1_duplicated_id.index)\n",
    "df1.shape"
   ]
  },
  {
   "cell_type": "code",
   "execution_count": 19,
   "metadata": {},
   "outputs": [
    {
     "data": {
      "text/plain": [
       "99992"
      ]
     },
     "execution_count": 19,
     "metadata": {},
     "output_type": "execute_result"
    }
   ],
   "source": [
    "df1.id.nunique() # проверяем отсутствие дубликатов"
   ]
  },
  {
   "cell_type": "code",
   "execution_count": 20,
   "metadata": {
    "scrolled": true
   },
   "outputs": [
    {
     "data": {
      "text/html": [
       "<div>\n",
       "<style scoped>\n",
       "    .dataframe tbody tr th:only-of-type {\n",
       "        vertical-align: middle;\n",
       "    }\n",
       "\n",
       "    .dataframe tbody tr th {\n",
       "        vertical-align: top;\n",
       "    }\n",
       "\n",
       "    .dataframe thead th {\n",
       "        text-align: right;\n",
       "    }\n",
       "</style>\n",
       "<table border=\"1\" class=\"dataframe\">\n",
       "  <thead>\n",
       "    <tr style=\"text-align: right;\">\n",
       "      <th></th>\n",
       "      <th>id</th>\n",
       "      <th>f0</th>\n",
       "      <th>f1</th>\n",
       "      <th>f2</th>\n",
       "      <th>product</th>\n",
       "    </tr>\n",
       "  </thead>\n",
       "  <tbody>\n",
       "    <tr>\n",
       "      <th>5631</th>\n",
       "      <td>hHJWx</td>\n",
       "      <td>-3.965570</td>\n",
       "      <td>0.561443</td>\n",
       "      <td>0.805358</td>\n",
       "      <td>105.210251</td>\n",
       "    </tr>\n",
       "    <tr>\n",
       "      <th>57700</th>\n",
       "      <td>lKEyU</td>\n",
       "      <td>-0.403480</td>\n",
       "      <td>-2.054513</td>\n",
       "      <td>3.102665</td>\n",
       "      <td>44.421004</td>\n",
       "    </tr>\n",
       "    <tr>\n",
       "      <th>12301</th>\n",
       "      <td>PWob2</td>\n",
       "      <td>1.748170</td>\n",
       "      <td>-1.943102</td>\n",
       "      <td>-0.350699</td>\n",
       "      <td>91.156240</td>\n",
       "    </tr>\n",
       "    <tr>\n",
       "      <th>31462</th>\n",
       "      <td>FGdga</td>\n",
       "      <td>-1.210856</td>\n",
       "      <td>1.303434</td>\n",
       "      <td>-0.478658</td>\n",
       "      <td>34.724857</td>\n",
       "    </tr>\n",
       "    <tr>\n",
       "      <th>83946</th>\n",
       "      <td>DFOkk</td>\n",
       "      <td>-1.486918</td>\n",
       "      <td>0.113909</td>\n",
       "      <td>2.465207</td>\n",
       "      <td>42.192526</td>\n",
       "    </tr>\n",
       "  </tbody>\n",
       "</table>\n",
       "</div>"
      ],
      "text/plain": [
       "          id        f0        f1        f2     product\n",
       "5631   hHJWx -3.965570  0.561443  0.805358  105.210251\n",
       "57700  lKEyU -0.403480 -2.054513  3.102665   44.421004\n",
       "12301  PWob2  1.748170 -1.943102 -0.350699   91.156240\n",
       "31462  FGdga -1.210856  1.303434 -0.478658   34.724857\n",
       "83946  DFOkk -1.486918  0.113909  2.465207   42.192526"
      ]
     },
     "execution_count": 20,
     "metadata": {},
     "output_type": "execute_result"
    }
   ],
   "source": [
    "try:\n",
    "    df2 = pd.read_csv('/datasets/geo_data_2.csv') # читаем csv-файл и сохраняем в переменную df\n",
    "except:\n",
    "    df2 = pd.read_csv('https://code.s3.yandex.net/datasets/geo_data_2.csv') \n",
    "\n",
    "df2.sample(5) # смотрим случайные 5 строк из датасета для ознакомления"
   ]
  },
  {
   "cell_type": "code",
   "execution_count": 21,
   "metadata": {},
   "outputs": [
    {
     "name": "stdout",
     "output_type": "stream",
     "text": [
      "<class 'pandas.core.frame.DataFrame'>\n",
      "RangeIndex: 100000 entries, 0 to 99999\n",
      "Data columns (total 5 columns):\n",
      " #   Column   Non-Null Count   Dtype  \n",
      "---  ------   --------------   -----  \n",
      " 0   id       100000 non-null  object \n",
      " 1   f0       100000 non-null  float64\n",
      " 2   f1       100000 non-null  float64\n",
      " 3   f2       100000 non-null  float64\n",
      " 4   product  100000 non-null  float64\n",
      "dtypes: float64(4), object(1)\n",
      "memory usage: 3.8+ MB\n"
     ]
    }
   ],
   "source": [
    "df2.info() # пропусков нет, названия столбцов в порядке, форматы данных адекватные"
   ]
  },
  {
   "cell_type": "code",
   "execution_count": 22,
   "metadata": {
    "scrolled": true
   },
   "outputs": [
    {
     "data": {
      "text/html": [
       "<div>\n",
       "<style scoped>\n",
       "    .dataframe tbody tr th:only-of-type {\n",
       "        vertical-align: middle;\n",
       "    }\n",
       "\n",
       "    .dataframe tbody tr th {\n",
       "        vertical-align: top;\n",
       "    }\n",
       "\n",
       "    .dataframe thead th {\n",
       "        text-align: right;\n",
       "    }\n",
       "</style>\n",
       "<table border=\"1\" class=\"dataframe\">\n",
       "  <thead>\n",
       "    <tr style=\"text-align: right;\">\n",
       "      <th></th>\n",
       "      <th>f0</th>\n",
       "      <th>f1</th>\n",
       "      <th>f2</th>\n",
       "      <th>product</th>\n",
       "    </tr>\n",
       "  </thead>\n",
       "  <tbody>\n",
       "    <tr>\n",
       "      <th>count</th>\n",
       "      <td>100000.000000</td>\n",
       "      <td>100000.000000</td>\n",
       "      <td>100000.000000</td>\n",
       "      <td>100000.000000</td>\n",
       "    </tr>\n",
       "    <tr>\n",
       "      <th>mean</th>\n",
       "      <td>0.002023</td>\n",
       "      <td>-0.002081</td>\n",
       "      <td>2.495128</td>\n",
       "      <td>95.000000</td>\n",
       "    </tr>\n",
       "    <tr>\n",
       "      <th>std</th>\n",
       "      <td>1.732045</td>\n",
       "      <td>1.730417</td>\n",
       "      <td>3.473445</td>\n",
       "      <td>44.749921</td>\n",
       "    </tr>\n",
       "    <tr>\n",
       "      <th>min</th>\n",
       "      <td>-8.760004</td>\n",
       "      <td>-7.084020</td>\n",
       "      <td>-11.970335</td>\n",
       "      <td>0.000000</td>\n",
       "    </tr>\n",
       "    <tr>\n",
       "      <th>25%</th>\n",
       "      <td>-1.162288</td>\n",
       "      <td>-1.174820</td>\n",
       "      <td>0.130359</td>\n",
       "      <td>59.450441</td>\n",
       "    </tr>\n",
       "    <tr>\n",
       "      <th>50%</th>\n",
       "      <td>0.009424</td>\n",
       "      <td>-0.009482</td>\n",
       "      <td>2.484236</td>\n",
       "      <td>94.925613</td>\n",
       "    </tr>\n",
       "    <tr>\n",
       "      <th>75%</th>\n",
       "      <td>1.158535</td>\n",
       "      <td>1.163678</td>\n",
       "      <td>4.858794</td>\n",
       "      <td>130.595027</td>\n",
       "    </tr>\n",
       "    <tr>\n",
       "      <th>max</th>\n",
       "      <td>7.238262</td>\n",
       "      <td>7.844801</td>\n",
       "      <td>16.739402</td>\n",
       "      <td>190.029838</td>\n",
       "    </tr>\n",
       "  </tbody>\n",
       "</table>\n",
       "</div>"
      ],
      "text/plain": [
       "                  f0             f1             f2        product\n",
       "count  100000.000000  100000.000000  100000.000000  100000.000000\n",
       "mean        0.002023      -0.002081       2.495128      95.000000\n",
       "std         1.732045       1.730417       3.473445      44.749921\n",
       "min        -8.760004      -7.084020     -11.970335       0.000000\n",
       "25%        -1.162288      -1.174820       0.130359      59.450441\n",
       "50%         0.009424      -0.009482       2.484236      94.925613\n",
       "75%         1.158535       1.163678       4.858794     130.595027\n",
       "max         7.238262       7.844801      16.739402     190.029838"
      ]
     },
     "execution_count": 22,
     "metadata": {},
     "output_type": "execute_result"
    }
   ],
   "source": [
    "df2.describe() # совсем откровенных аномалий (вроде отрицательного значения product) не наблюдается"
   ]
  },
  {
   "cell_type": "code",
   "execution_count": 23,
   "metadata": {},
   "outputs": [
    {
     "data": {
      "text/html": [
       "<div>\n",
       "<style scoped>\n",
       "    .dataframe tbody tr th:only-of-type {\n",
       "        vertical-align: middle;\n",
       "    }\n",
       "\n",
       "    .dataframe tbody tr th {\n",
       "        vertical-align: top;\n",
       "    }\n",
       "\n",
       "    .dataframe thead th {\n",
       "        text-align: right;\n",
       "    }\n",
       "</style>\n",
       "<table border=\"1\" class=\"dataframe\">\n",
       "  <thead>\n",
       "    <tr style=\"text-align: right;\">\n",
       "      <th></th>\n",
       "      <th>f0</th>\n",
       "      <th>f1</th>\n",
       "      <th>f2</th>\n",
       "      <th>product</th>\n",
       "    </tr>\n",
       "  </thead>\n",
       "  <tbody>\n",
       "    <tr>\n",
       "      <th>f0</th>\n",
       "      <td>1.000000</td>\n",
       "      <td>0.000528</td>\n",
       "      <td>-0.000448</td>\n",
       "      <td>-0.001987</td>\n",
       "    </tr>\n",
       "    <tr>\n",
       "      <th>f1</th>\n",
       "      <td>0.000528</td>\n",
       "      <td>1.000000</td>\n",
       "      <td>0.000779</td>\n",
       "      <td>-0.001012</td>\n",
       "    </tr>\n",
       "    <tr>\n",
       "      <th>f2</th>\n",
       "      <td>-0.000448</td>\n",
       "      <td>0.000779</td>\n",
       "      <td>1.000000</td>\n",
       "      <td>0.445871</td>\n",
       "    </tr>\n",
       "    <tr>\n",
       "      <th>product</th>\n",
       "      <td>-0.001987</td>\n",
       "      <td>-0.001012</td>\n",
       "      <td>0.445871</td>\n",
       "      <td>1.000000</td>\n",
       "    </tr>\n",
       "  </tbody>\n",
       "</table>\n",
       "</div>"
      ],
      "text/plain": [
       "               f0        f1        f2   product\n",
       "f0       1.000000  0.000528 -0.000448 -0.001987\n",
       "f1       0.000528  1.000000  0.000779 -0.001012\n",
       "f2      -0.000448  0.000779  1.000000  0.445871\n",
       "product -0.001987 -0.001012  0.445871  1.000000"
      ]
     },
     "execution_count": 23,
     "metadata": {},
     "output_type": "execute_result"
    }
   ],
   "source": [
    "df2.corr() # коэффициенты корреляции между разными признаками близки к 0, для подозрений же о наличии мультиколлинеарности \n",
    "# нужен уровень выше хотя бы 0.7; конечно только расчета коэффициентов корреляции не достаточно, чтобы полностью отбросить риски \n",
    "# наличия мультиколлинеарности, но в рамках наших текущих знаний - это все, что мы можем проанализировать"
   ]
  },
  {
   "cell_type": "code",
   "execution_count": 24,
   "metadata": {},
   "outputs": [
    {
     "data": {
      "text/plain": [
       "0"
      ]
     },
     "execution_count": 24,
     "metadata": {},
     "output_type": "execute_result"
    }
   ],
   "source": [
    "df2.duplicated().sum() # проверяем наличие полных дубликатов"
   ]
  },
  {
   "cell_type": "code",
   "execution_count": 25,
   "metadata": {},
   "outputs": [
    {
     "data": {
      "text/plain": [
       "99996"
      ]
     },
     "execution_count": 25,
     "metadata": {},
     "output_type": "execute_result"
    }
   ],
   "source": [
    "df2.id.nunique() # посмотрим нет ли дубликатов в столбце id"
   ]
  },
  {
   "cell_type": "code",
   "execution_count": 26,
   "metadata": {},
   "outputs": [
    {
     "data": {
      "text/html": [
       "<div>\n",
       "<style scoped>\n",
       "    .dataframe tbody tr th:only-of-type {\n",
       "        vertical-align: middle;\n",
       "    }\n",
       "\n",
       "    .dataframe tbody tr th {\n",
       "        vertical-align: top;\n",
       "    }\n",
       "\n",
       "    .dataframe thead th {\n",
       "        text-align: right;\n",
       "    }\n",
       "</style>\n",
       "<table border=\"1\" class=\"dataframe\">\n",
       "  <thead>\n",
       "    <tr style=\"text-align: right;\">\n",
       "      <th></th>\n",
       "      <th>id</th>\n",
       "      <th>f0</th>\n",
       "      <th>f1</th>\n",
       "      <th>f2</th>\n",
       "      <th>product</th>\n",
       "    </tr>\n",
       "  </thead>\n",
       "  <tbody>\n",
       "    <tr>\n",
       "      <th>5849</th>\n",
       "      <td>5ltQ6</td>\n",
       "      <td>-3.435401</td>\n",
       "      <td>-12.296043</td>\n",
       "      <td>1.999796</td>\n",
       "      <td>57.085625</td>\n",
       "    </tr>\n",
       "    <tr>\n",
       "      <th>84461</th>\n",
       "      <td>5ltQ6</td>\n",
       "      <td>18.213839</td>\n",
       "      <td>2.191999</td>\n",
       "      <td>3.993869</td>\n",
       "      <td>107.813044</td>\n",
       "    </tr>\n",
       "    <tr>\n",
       "      <th>1305</th>\n",
       "      <td>LHZR0</td>\n",
       "      <td>11.170835</td>\n",
       "      <td>-1.945066</td>\n",
       "      <td>3.002872</td>\n",
       "      <td>80.859783</td>\n",
       "    </tr>\n",
       "    <tr>\n",
       "      <th>41906</th>\n",
       "      <td>LHZR0</td>\n",
       "      <td>-8.989672</td>\n",
       "      <td>-4.286607</td>\n",
       "      <td>2.009139</td>\n",
       "      <td>57.085625</td>\n",
       "    </tr>\n",
       "    <tr>\n",
       "      <th>2721</th>\n",
       "      <td>bfPNe</td>\n",
       "      <td>-9.494442</td>\n",
       "      <td>-5.463692</td>\n",
       "      <td>4.006042</td>\n",
       "      <td>110.992147</td>\n",
       "    </tr>\n",
       "    <tr>\n",
       "      <th>82178</th>\n",
       "      <td>bfPNe</td>\n",
       "      <td>-6.202799</td>\n",
       "      <td>-4.820045</td>\n",
       "      <td>2.995107</td>\n",
       "      <td>84.038886</td>\n",
       "    </tr>\n",
       "    <tr>\n",
       "      <th>47591</th>\n",
       "      <td>wt4Uk</td>\n",
       "      <td>-9.091098</td>\n",
       "      <td>-8.109279</td>\n",
       "      <td>-0.002314</td>\n",
       "      <td>3.179103</td>\n",
       "    </tr>\n",
       "    <tr>\n",
       "      <th>82873</th>\n",
       "      <td>wt4Uk</td>\n",
       "      <td>10.259972</td>\n",
       "      <td>-9.376355</td>\n",
       "      <td>4.994297</td>\n",
       "      <td>134.766305</td>\n",
       "    </tr>\n",
       "  </tbody>\n",
       "</table>\n",
       "</div>"
      ],
      "text/plain": [
       "          id         f0         f1        f2     product\n",
       "5849   5ltQ6  -3.435401 -12.296043  1.999796   57.085625\n",
       "84461  5ltQ6  18.213839   2.191999  3.993869  107.813044\n",
       "1305   LHZR0  11.170835  -1.945066  3.002872   80.859783\n",
       "41906  LHZR0  -8.989672  -4.286607  2.009139   57.085625\n",
       "2721   bfPNe  -9.494442  -5.463692  4.006042  110.992147\n",
       "82178  bfPNe  -6.202799  -4.820045  2.995107   84.038886\n",
       "47591  wt4Uk  -9.091098  -8.109279 -0.002314    3.179103\n",
       "82873  wt4Uk  10.259972  -9.376355  4.994297  134.766305"
      ]
     },
     "execution_count": 26,
     "metadata": {},
     "output_type": "execute_result"
    }
   ],
   "source": [
    "duplicated_id_region2 = df2.groupby('id')['id'].value_counts().sort_values(ascending=False).head(4).unstack()\n",
    "df2_duplicated_id = df2[df2['id'].isin(duplicated_id_region2.index)].sort_values(by='id')\n",
    "df1_duplicated_id"
   ]
  },
  {
   "cell_type": "code",
   "execution_count": 27,
   "metadata": {},
   "outputs": [
    {
     "data": {
      "text/plain": [
       "(99992, 5)"
      ]
     },
     "execution_count": 27,
     "metadata": {},
     "output_type": "execute_result"
    }
   ],
   "source": [
    "# удаляем объекты с задублированными id\n",
    "df2 = df2.drop(df2_duplicated_id.index)\n",
    "df2.shape"
   ]
  },
  {
   "cell_type": "code",
   "execution_count": 28,
   "metadata": {},
   "outputs": [
    {
     "data": {
      "text/plain": [
       "99992"
      ]
     },
     "execution_count": 28,
     "metadata": {},
     "output_type": "execute_result"
    }
   ],
   "source": [
    "df1.id.nunique() # проверяем отсутствие дубликатов"
   ]
  },
  {
   "cell_type": "markdown",
   "metadata": {},
   "source": [
    "**Вывод:** Значимых уровней линейной зависимости между фичами обнаружено не было, так что считаем, что проблема мультиколлинеарности не стоит. Полных дубликатов не выявлено, однако обнаружены строки с одинаковыми ID, так как количество их незначительно и невозможно определить, какая из срок с одинаковыми ID является корректной, пришлось удалить каждую пару одинаковых ID."
   ]
  },
  {
   "cell_type": "markdown",
   "metadata": {},
   "source": [
    "**Вывод:** Пропусков нет, названия столбцов в порядке, форматы данных адекватные, откровенных аномалий не наблюдается - двигаемся дальше."
   ]
  },
  {
   "cell_type": "markdown",
   "metadata": {},
   "source": [
    "## 2. Обучение и проверка модели для каждого региона"
   ]
  },
  {
   "cell_type": "markdown",
   "metadata": {},
   "source": [
    " ### 2.1. Разбивка данных на обучающую и валидационную выборки в соотношении 75:25."
   ]
  },
  {
   "cell_type": "code",
   "execution_count": 29,
   "metadata": {},
   "outputs": [],
   "source": [
    "ts = 0.25 # заносим значение test_size в переменную ts\n",
    "rs = 12345 # заносим значение random_state в переменную rs"
   ]
  },
  {
   "cell_type": "code",
   "execution_count": 30,
   "metadata": {},
   "outputs": [],
   "source": [
    "# использовал функцию для однотипнх вычислений после комментария ревьюера\n",
    "\n",
    "def train_valid_spit(df):    \n",
    "    features = df.drop(['id', 'product'], axis=1)\n",
    "    target = df['product']\n",
    "    features_train, features_valid, target_train, target_valid = train_test_split(features, target,\n",
    "    test_size=ts, random_state=rs)\n",
    "    return features_train, features_valid, target_train, target_valid\n",
    "\n",
    "features_train0, features_valid0, target_train0, target_valid0 = train_valid_spit(df0)\n",
    "features_train1, features_valid1, target_train1, target_valid1 = train_valid_spit(df1)\n",
    "features_train2, features_valid2, target_train2, target_valid2 = train_valid_spit(df2)"
   ]
  },
  {
   "cell_type": "code",
   "execution_count": 31,
   "metadata": {},
   "outputs": [],
   "source": [
    "# использовал функцию для однотипнх вычислений после комментария ревьюера\n",
    "\n",
    "def scale(features_train, features_valid):\n",
    "    scaler = StandardScaler()\n",
    "    scaler.fit(features_train)\n",
    "    features_train = scaler.transform(features_train)\n",
    "    features_valid = scaler.transform(features_valid)\n",
    "    return features_train, features_valid\n",
    "\n",
    "features_train0, features_valid0 = scale(features_train0, features_valid0)\n",
    "features_train1, features_valid1 = scale(features_train1, features_valid1)\n",
    "features_train2, features_valid2 = scale(features_train2, features_valid2)"
   ]
  },
  {
   "cell_type": "markdown",
   "metadata": {},
   "source": [
    " ### 2.2. Обучение модели и получение предсказаний на валидационной выборке."
   ]
  },
  {
   "cell_type": "code",
   "execution_count": 32,
   "metadata": {},
   "outputs": [],
   "source": [
    "# использовал функцию для однотипнх вычислений после комментария ревьюера\n",
    "\n",
    "def pred_val(features_train, target_train, features_valid):\n",
    "    model = LinearRegression()\n",
    "    model.fit(features_train, target_train)\n",
    "    predictions_valid = model.predict(features_valid)\n",
    "    return predictions_valid\n",
    "\n",
    "predictions_valid0 = pred_val(features_train0, target_train0, features_valid0)\n",
    "predictions_valid1 = pred_val(features_train1, target_train1, features_valid1)\n",
    "predictions_valid2 = pred_val(features_train2, target_train2, features_valid2)"
   ]
  },
  {
   "cell_type": "markdown",
   "metadata": {},
   "source": [
    " ### 2.3. Сохранение предсказаний и правильных ответов на валидационной выборке."
   ]
  },
  {
   "cell_type": "markdown",
   "metadata": {},
   "source": [
    "Предсказания и правильные ответы на валидационной выборке уже сохранены в соответствующих переменных на предыдущих шагах."
   ]
  },
  {
   "cell_type": "markdown",
   "metadata": {},
   "source": [
    " ### 2.4. Вывод на экран среднего запаса предсказанного сырья и RMSE модели."
   ]
  },
  {
   "cell_type": "code",
   "execution_count": 33,
   "metadata": {},
   "outputs": [
    {
     "name": "stdout",
     "output_type": "stream",
     "text": [
      "Средний запас предсказанного сырья для региона 0: 92.42 тыс. баррелей\n",
      "Средний запас фактического сырья для региона 0: 92.39 тыс. баррелей\n",
      "RMSE модели линейной регрессии для региона 0 на валидационной выборке: 37.72 тыс. баррелей\n"
     ]
    }
   ],
   "source": [
    "# добавил средний запас фактического сырья после комментария ревьюера:\n",
    "meantarget0 = target_valid0.mean()\n",
    "# считаем средний запас предсказанного сырья: \n",
    "meanpred0 = predictions_valid0.mean()\n",
    "# посчитаем значение метрики RMSE на валидационной выборке:\n",
    "rmse0 = mean_squared_error(target_valid0, predictions_valid0) ** 0.5\n",
    "print('Средний запас предсказанного сырья для региона 0:', round(meanpred0, 2), 'тыс. баррелей')\n",
    "print('Средний запас фактического сырья для региона 0:', round(meantarget0, 2), 'тыс. баррелей')\n",
    "print('RMSE модели линейной регрессии для региона 0 на валидационной выборке:', round(rmse0, 2), 'тыс. баррелей')"
   ]
  },
  {
   "cell_type": "code",
   "execution_count": 34,
   "metadata": {
    "scrolled": true
   },
   "outputs": [
    {
     "name": "stdout",
     "output_type": "stream",
     "text": [
      "Средний запас предсказанного сырья для региона 1: 68.98 тыс. баррелей\n",
      "Средний запас фактического сырья для региона 0: 68.98 тыс. баррелей\n",
      "RMSE модели линейной регрессии для региона 1 на валидационной выборке: 0.89 тыс. баррелей\n"
     ]
    }
   ],
   "source": [
    "# добавил средний запас фактического сырья после комментария ревьюера:\n",
    "meantarget1 = target_valid1.mean()\n",
    "# считаем средний запас предсказанного сырья:\n",
    "meanpred1 = predictions_valid1.mean()\n",
    "# посчитаем значение метрики RMSE на валидационной выборке:\n",
    "rmse1 = mean_squared_error(target_valid1, predictions_valid1) ** 0.5\n",
    "print('Средний запас предсказанного сырья для региона 1:', round(meanpred1, 2), 'тыс. баррелей')\n",
    "print('Средний запас фактического сырья для региона 0:', round(meantarget1, 2), 'тыс. баррелей')\n",
    "print('RMSE модели линейной регрессии для региона 1 на валидационной выборке:', round(rmse1, 2), 'тыс. баррелей')"
   ]
  },
  {
   "cell_type": "code",
   "execution_count": 35,
   "metadata": {},
   "outputs": [
    {
     "name": "stdout",
     "output_type": "stream",
     "text": [
      "Средний запас предсказанного сырья для региона 2: 95.12 тыс. баррелей\n",
      "Средний запас фактического сырья для региона 0: 94.55 тыс. баррелей\n",
      "RMSE модели линейной регрессии для региона 2 на валидационной выборке: 39.98 тыс. баррелей\n"
     ]
    }
   ],
   "source": [
    "# добавил средний запас фактического сырья после комментария ревьюера:\n",
    "meantarget2 = target_valid2.mean()\n",
    "# считаем средний запас предсказанного сырья:\n",
    "meanpred2 = predictions_valid2.mean()\n",
    "# посчитаем значение метрики RMSE на валидационной выборке:\n",
    "rmse2 = mean_squared_error(target_valid2, predictions_valid2) ** 0.5\n",
    "print('Средний запас предсказанного сырья для региона 2:', round(meanpred2, 2), 'тыс. баррелей')\n",
    "print('Средний запас фактического сырья для региона 0:', round(meantarget2, 2), 'тыс. баррелей')\n",
    "print('RMSE модели линейной регрессии для региона 2 на валидационной выборке:', round(rmse2, 2), 'тыс. баррелей')"
   ]
  },
  {
   "cell_type": "markdown",
   "metadata": {},
   "source": [
    "**Сравнение предсказанных средних запасов по регионам с реальными:** Значения средних из почти 25000 предсказанных запасов сырья для каждого региона оказались поразительно близки к значениям реальных средних запасов из валидационной выборки для тех же регионов. Скорее всего это связано с достаточно большим объемом данных (одно из проявлений закона больших чисел): отдельные предсказания могут отклоняться достаточно значительно, судя по значениям метрики RMSE, особенно для регионов 0 и 2 (отклонения могут составить до примерно 40% от среднего значения), однако при расчете среднего отклонения могут компенсировать друг друга и его значение получается близким к фактическому среднему.  "
   ]
  },
  {
   "cell_type": "markdown",
   "metadata": {},
   "source": [
    " ### 2.5. Анализ результатов."
   ]
  },
  {
   "cell_type": "markdown",
   "metadata": {},
   "source": [
    "Лучший регион по средним фактическим запасам - регион2 (94.55 тыс. баррелей), немного отстает регион0 (92.39 тыс. баррелей) и с ощутимым отставанием идет регион1 (68.98 тыс. баррелей). Однако по показателю RMSE как раз регион1 лидирует с сильным перевесом (0.89 тыс. баррелей), тогда как регион0 и регион2 идут почти вровень (37.72 и 39.98 тыс. баррелей соответственно)."
   ]
  },
  {
   "cell_type": "markdown",
   "metadata": {},
   "source": [
    "## 3. Подготовка к расчёту прибыли"
   ]
  },
  {
   "cell_type": "markdown",
   "metadata": {},
   "source": [
    "### 3.1. Все ключевые значения для расчётов сохраним в отдельных переменных."
   ]
  },
  {
   "cell_type": "code",
   "execution_count": 36,
   "metadata": {},
   "outputs": [],
   "source": [
    "points_to_research = 500 # при разведке региона исследуют 500 точек\n",
    "points_to_develop = 200 # с помощью машинного обучения выбирают 200 лучших для разработки\n",
    "development_budget = 10000000000 # бюджет на разработку скважин в регионе — 10 млрд рублей\n",
    "revenue_per_product_unit = 450000 # доход с каждой единицы продукта составляет 450 тыс. руб.\n",
    "loss_risk_threshold = 0.025 # нужно оставить лишь те регионы, в которых вероятность убытков меньше 2.5%"
   ]
  },
  {
   "cell_type": "markdown",
   "metadata": {},
   "source": [
    "### 3.2. Рассчитаем достаточный объём сырья для безубыточной разработки новой скважины. Сравним полученный объём сырья со средним запасом в каждом регионе."
   ]
  },
  {
   "cell_type": "code",
   "execution_count": 37,
   "metadata": {},
   "outputs": [
    {
     "name": "stdout",
     "output_type": "stream",
     "text": [
      "Достаточный объём сырья с региона для безубыточной разработки скважин: 22222.22 тыс. баррелей\n",
      "Достаточный объём сырья со скважины для безубыточной разработки новой скважины: 111.11 тыс. баррелей\n"
     ]
    }
   ],
   "source": [
    "# считаем порог безубыточности для региона и для каждой скважины в среднем:\n",
    "regional_breakeven_treshold = development_budget / revenue_per_product_unit\n",
    "point_breakeven_treshold = regional_breakeven_treshold / points_to_develop\n",
    "\n",
    "print('Достаточный объём сырья с региона для безубыточной разработки скважин:', round(regional_breakeven_treshold, 2), \\\n",
    "     'тыс. баррелей')\n",
    "print('Достаточный объём сырья со скважины для безубыточной разработки новой скважины:', round(point_breakeven_treshold, 2), \\\n",
    "     'тыс. баррелей')    "
   ]
  },
  {
   "cell_type": "code",
   "execution_count": 38,
   "metadata": {},
   "outputs": [
    {
     "name": "stdout",
     "output_type": "stream",
     "text": [
      "Средний фактический запас скважин в регионе 0: 92.39 тыс. баррелей\n",
      "Является недостаточным для безубыточной разработки.\n"
     ]
    }
   ],
   "source": [
    "# сравним полученный порог со средним запасом в регионе:\n",
    "print('Средний фактический запас скважин в регионе 0:', round(meantarget0, 2), 'тыс. баррелей')\n",
    "if meantarget0 >= point_breakeven_treshold:\n",
    "    print('Является достаточным для безубыточной разработки.')\n",
    "else:\n",
    "    print('Является недостаточным для безубыточной разработки.')"
   ]
  },
  {
   "cell_type": "code",
   "execution_count": 39,
   "metadata": {},
   "outputs": [
    {
     "name": "stdout",
     "output_type": "stream",
     "text": [
      "Средний фактический запас скважин в регионе 1: 68.98 тыс. баррелей\n",
      "Является недостаточным для безубыточной разработки.\n"
     ]
    }
   ],
   "source": [
    "# сравним полученный порог со средним запасом в регионе:\n",
    "print('Средний фактический запас скважин в регионе 1:', round(meantarget1, 2), 'тыс. баррелей')\n",
    "if meantarget1 >= point_breakeven_treshold:\n",
    "    print('Является достаточным для безубыточной разработки.')\n",
    "else:\n",
    "    print('Является недостаточным для безубыточной разработки.')"
   ]
  },
  {
   "cell_type": "code",
   "execution_count": 40,
   "metadata": {},
   "outputs": [
    {
     "name": "stdout",
     "output_type": "stream",
     "text": [
      "Средний фактический запас скважин в регионе 2: 94.55 тыс. баррелей\n",
      "Является недостаточным для безубыточной разработки.\n"
     ]
    }
   ],
   "source": [
    "# сравним полученный порог со средним запасом в регионе:\n",
    "print('Средний фактический запас скважин в регионе 2:', round(meantarget2, 2), 'тыс. баррелей')\n",
    "if meantarget2 >= point_breakeven_treshold:\n",
    "    print('Является достаточным для безубыточной разработки.')\n",
    "else:\n",
    "    print('Является недостаточным для безубыточной разработки.')"
   ]
  },
  {
   "cell_type": "markdown",
   "metadata": {},
   "source": [
    "**Вывод:** Порог для безубыточной разработки составляет 22 222.22 тыс. баррелей для региона (суммарно 200 скважин) и соответственно 111.11 тыс. баррелей в среднем для каждой скважины (из конечных 200, которые будут отобраны). Средние предсказанные запасы по всем скважинам во всех 3х регионах ниже значения порога для безубыточной разработки. Однако при расчете среднего из 25000 скважин (размер валидационной выборки) на него может влиять большое кол-во скважин с низким потенциалом, нам же нужно выбрать для разработки 200 лучших по показателям."
   ]
  },
  {
   "cell_type": "markdown",
   "metadata": {},
   "source": [
    "## 4. Напишем функцию для расчёта прибыли по выбранным скважинам и предсказаниям модели:"
   ]
  },
  {
   "cell_type": "markdown",
   "metadata": {},
   "source": [
    "### 4.1., 4.2. Выберем скважины с максимальными значениями предсказаний и просуммируем целевое значение объёма сырья, соответствующее этим предсказаниям."
   ]
  },
  {
   "cell_type": "code",
   "execution_count": 41,
   "metadata": {},
   "outputs": [],
   "source": [
    "# задаем функцию для расчета прибыли по выбранным скважинам, на вход она принимает соответствующие предсказания на валидационной в-ке\n",
    "def revenue(predictions_valid, target_valid):\n",
    "    predicted_best200 = pd.Series(predictions_valid).sort_values(ascending=False)[:points_to_develop]\n",
    "    target_best200 = (target_valid.reset_index(drop = True)[predicted_best200.index])\n",
    "    total_product = target_best200.sum()\n",
    "    return total_product * revenue_per_product_unit - development_budget"
   ]
  },
  {
   "cell_type": "code",
   "execution_count": 42,
   "metadata": {},
   "outputs": [
    {
     "data": {
      "text/html": [
       "<div>\n",
       "<style scoped>\n",
       "    .dataframe tbody tr th:only-of-type {\n",
       "        vertical-align: middle;\n",
       "    }\n",
       "\n",
       "    .dataframe tbody tr th {\n",
       "        vertical-align: top;\n",
       "    }\n",
       "\n",
       "    .dataframe thead th {\n",
       "        text-align: right;\n",
       "    }\n",
       "</style>\n",
       "<table border=\"1\" class=\"dataframe\">\n",
       "  <thead>\n",
       "    <tr style=\"text-align: right;\">\n",
       "      <th></th>\n",
       "      <th>target</th>\n",
       "    </tr>\n",
       "  </thead>\n",
       "  <tbody>\n",
       "    <tr>\n",
       "      <th>0</th>\n",
       "      <td>1</td>\n",
       "    </tr>\n",
       "    <tr>\n",
       "      <th>0</th>\n",
       "      <td>1</td>\n",
       "    </tr>\n",
       "    <tr>\n",
       "      <th>0</th>\n",
       "      <td>1</td>\n",
       "    </tr>\n",
       "    <tr>\n",
       "      <th>0</th>\n",
       "      <td>1</td>\n",
       "    </tr>\n",
       "  </tbody>\n",
       "</table>\n",
       "</div>"
      ],
      "text/plain": [
       "   target\n",
       "0       1\n",
       "0       1\n",
       "0       1\n",
       "0       1"
      ]
     },
     "execution_count": 42,
     "metadata": {},
     "output_type": "execute_result"
    }
   ],
   "source": [
    "pre = pd.DataFrame({'pred': [1, 1]}, index = [0, 0])\n",
    "tar = pd.DataFrame({'target': [1, 1]}, index = [0, 0])\n",
    "\n",
    "tar.loc[pre.index]"
   ]
  },
  {
   "cell_type": "markdown",
   "metadata": {},
   "source": [
    "### 4.3. Рассчитаем прибыль для полученного объёма сырья."
   ]
  },
  {
   "cell_type": "code",
   "execution_count": 43,
   "metadata": {},
   "outputs": [
    {
     "name": "stdout",
     "output_type": "stream",
     "text": [
      "Суммарная фактическая прибыль с лучших 200 предсказанных скважин в регионе0: 3136026056.66\n",
      "Суммарная фактическая прибыль с лучших 200 предсказанных скважин в регионе1: 2415086696.68\n",
      "Суммарная пфактическая прибыль с лучших 200 предсказанных скважин в регионе2: 2465945792.01\n"
     ]
    }
   ],
   "source": [
    "print('Суммарная фактическая прибыль с лучших 200 предсказанных скважин в регионе0:', \\\n",
    "      round(revenue(predictions_valid0, target_valid0), 2))\n",
    "print('Суммарная фактическая прибыль с лучших 200 предсказанных скважин в регионе1:', \\\n",
    "      round(revenue(predictions_valid1, target_valid1), 2))\n",
    "print('Суммарная пфактическая прибыль с лучших 200 предсказанных скважин в регионе2:', \\\n",
    "      round(revenue(predictions_valid2, target_valid2), 2))"
   ]
  },
  {
   "cell_type": "markdown",
   "metadata": {},
   "source": [
    "**Вывод:** Если выбирать 200 лучших по предсказанным запасам скважин из всех почти 25000 скважин из валидационной выборки по региону, то скважины по всем 3 регионам обещают положительную прибыль. Лучший показатель у региона0 (3.14 млрд. руб.), ощутимо отстают регион2 (2.47 млрд. руб) и регион1 (почти 2.42 млрд. руб.). Однако возможна разведка только 500 рандомных скважин в каждом регионе, посмотрим, какие показатели будут по 200 лучшим, выбранным из 500 случайных. "
   ]
  },
  {
   "cell_type": "markdown",
   "metadata": {},
   "source": [
    "## 5. Посчитаем риски и прибыль для каждого региона:"
   ]
  },
  {
   "cell_type": "markdown",
   "metadata": {},
   "source": [
    "### 5.1. Применим технику Bootstrap с 1000 выборок, чтобы найти распределение прибыли."
   ]
  },
  {
   "cell_type": "code",
   "execution_count": 44,
   "metadata": {},
   "outputs": [],
   "source": [
    "state = np.random.RandomState(rs) # задаем значение случайности для сэмплирования подвыборок\n",
    "# задаем функцию, чтобы избежать повторяющегося кода:    \n",
    "def revenue_bootstrap(predictions_valid, target_valid):\n",
    "    values = []                                                          # сэмплируем подвыборки по 500 скважин\n",
    "    for i in range(1000):\n",
    "        predictions_valid_subsample = pd.Series(predictions_valid) \\\n",
    "        .sample(n=points_to_research, replace=True, random_state=state)   # тут мне кажется корректнее использовать\n",
    "        values.append(revenue(predictions_valid_subsample, target_valid)) # replace=False, но оставил, как было в теории\n",
    "# собираем значения прибыли на всех 1000 подвыборках по 500 штук                                                                     \n",
    "    values = pd.Series(values)\n",
    "# получаем среднее значение\n",
    "    mean = values.mean()\n",
    "# считаем 0.025- и 0.975-квантиль для определения 95%-го доверительного интервала \n",
    "    lower = values.quantile(0.025)\n",
    "    upper = values.quantile(0.975)\n",
    "# считаем вероятность отрицательной прибыли на 1000 подвыборок по 500 скважин с помощью самописной функции\n",
    "    loss_risk = values.apply(lambda x: x < 0).sum()/len(values)\n",
    "\n",
    "    return mean, lower, upper, loss_risk\n",
    "\n",
    "mean0, lower0, upper0, loss_risk0 = revenue_bootstrap(predictions_valid0, target_valid0)\n",
    "mean1, lower1, upper1, loss_risk1 = revenue_bootstrap(predictions_valid1, target_valid1)\n",
    "mean2, lower2, upper2, loss_risk2 = revenue_bootstrap(predictions_valid0, target_valid0)\n"
   ]
  },
  {
   "cell_type": "markdown",
   "metadata": {},
   "source": [
    "### 5.2. Найдем среднюю прибыль, 95%-й доверительный интервал и риск убытков. Убыток — это отрицательная прибыль."
   ]
  },
  {
   "cell_type": "code",
   "execution_count": 45,
   "metadata": {},
   "outputs": [
    {
     "name": "stdout",
     "output_type": "stream",
     "text": [
      "Данные по региону0:\n",
      " \n",
      "Средняя суммарная предсказанная прибыль с лучших 200 скважин в регионе из 1000 подвыборок: 431538186.58\n",
      "95%-й доверительный итервал для средней суммарной прибыли с лучших 200 скважин в регионе: от -80924626.51 до 941037638.4\n",
      "Риск убытков по региону: 0.06\n",
      "Регион не проходит по уровню риска убытков.\n",
      " \n",
      "Данные по региону1:\n",
      " \n",
      "Средняя суммарная предсказанная прибыль с лучших 200 скважин в регионе из 1000 подвыборок: 465108803.27\n",
      "95%-й доверительный итервал для средней суммарной прибыли с лучших 200 скважин в регионе: от 80299334.72 до 864399761.38\n",
      "Риск убытков по региону: 0.01\n",
      "Регион проходит по уровню риска убытков.\n",
      " \n",
      "Данные по региону2:\n",
      " \n",
      "Средняя суммарная предсказанная прибыль с лучших 200 скважин в регионе из 1000 подвыборок: 426894654.75\n",
      "95%-й доверительный итервал для средней суммарной прибыли с лучших 200 скважин в регионе: от -114359139.73 до 936751736.17\n",
      "Риск убытков по региону: 0.05\n",
      "Регион не проходит по уровню риска убытков.\n",
      " \n"
     ]
    }
   ],
   "source": [
    "print('Данные по региону0:')\n",
    "print(' ')\n",
    "print('Средняя суммарная предсказанная прибыль с лучших 200 скважин в регионе из 1000 подвыборок:', round(mean0, 2))\n",
    "print('95%-й доверительный итервал для средней суммарной прибыли с лучших 200 скважин в регионе: от', round(lower0, 2),'до', \\\n",
    "      round(upper0, 2))\n",
    "print('Риск убытков по региону:', round(loss_risk0, 2))\n",
    "if loss_risk0 >= loss_risk_threshold:\n",
    "    print('Регион не проходит по уровню риска убытков.')\n",
    "else:\n",
    "    print('Регион проходит по уровню риска убытков.')\n",
    "print(' ')\n",
    "print('Данные по региону1:')\n",
    "print(' ')\n",
    "print('Средняя суммарная предсказанная прибыль с лучших 200 скважин в регионе из 1000 подвыборок:', round(mean1, 2))\n",
    "print('95%-й доверительный итервал для средней суммарной прибыли с лучших 200 скважин в регионе: от', round(lower1, 2),'до', \\\n",
    "      round(upper1, 2))\n",
    "print('Риск убытков по региону:', round(loss_risk1, 2))\n",
    "if loss_risk1 >= loss_risk_threshold:\n",
    "    print('Регион не проходит по уровню риска убытков.')\n",
    "else:\n",
    "    print('Регион проходит по уровню риска убытков.')\n",
    "print(' ')\n",
    "print('Данные по региону2:')\n",
    "print(' ')\n",
    "print('Средняя суммарная предсказанная прибыль с лучших 200 скважин в регионе из 1000 подвыборок:', round(mean2, 2))\n",
    "print('95%-й доверительный итервал для средней суммарной прибыли с лучших 200 скважин в регионе: от', round(lower2, 2),'до', \\\n",
    "      round(upper2, 2))\n",
    "print('Риск убытков по региону:', round(loss_risk2, 2))\n",
    "if loss_risk2 >= loss_risk_threshold:\n",
    "    print('Регион не проходит по уровню риска убытков.')\n",
    "else:\n",
    "    print('Регион проходит по уровню риска убытков.')\n",
    "print(' ')"
   ]
  },
  {
   "cell_type": "markdown",
   "metadata": {},
   "source": [
    "### 5.3. Напишем выводы: предложим регион для разработки скважин и обоснуем выбор."
   ]
  },
  {
   "cell_type": "code",
   "execution_count": 46,
   "metadata": {},
   "outputs": [
    {
     "name": "stdout",
     "output_type": "stream",
     "text": [
      "Сопоставим полученные параметры по регионам (0|1|2):\n",
      " \n",
      "Средний запас фактического сырья по регионам из выборки 25000 скважин:\n",
      "92.39 | 68.98 | 94.55\n",
      " \n",
      "RMSE предсказаний по регионам:\n",
      "37.72 | 0.89 | 39.98\n",
      " \n",
      "Суммарная фактическая прибыль с лучших 200 предсказанных скважин по регионам из выборки 25000 скважин:\n",
      "3136026056.66 | 2415086696.68 | 2465945792.01\n",
      " \n",
      "Средняя суммарная фактическая прибыль с 200 лучших скважин по региону из 1000 подвыборок по 500 скважин:\n",
      "431538186.58 | 465108803.27 | 426894654.75\n",
      " \n",
      "95%-й доверительный итервал для средней суммарной прибыли с лучших 200 скважин по региону:\n",
      "-80924626.51 до 941037638.4 | 80299334.72 до 864399761.38 | -114359139.73 до 936751736.17\n",
      " \n",
      "Риск убытков по региону:\n",
      "0.06 | 0.01 | 0.05\n",
      " \n"
     ]
    }
   ],
   "source": [
    "print('Сопоставим полученные параметры по регионам (0|1|2):')\n",
    "print(' ')\n",
    "print('Средний запас фактического сырья по регионам из выборки 25000 скважин:')\n",
    "print(round(meantarget0, 2), '|', round(meantarget1, 2), '|', round(meantarget2, 2))\n",
    "print(' ')\n",
    "print('RMSE предсказаний по регионам:') \n",
    "print(round(rmse0, 2), '|', round(rmse1, 2), '|', round(rmse2, 2))\n",
    "print(' ')\n",
    "print('Суммарная фактическая прибыль с лучших 200 предсказанных скважин по регионам из выборки 25000 скважин:')\n",
    "print(round(revenue(predictions_valid0, target_valid0), 2), '|', round(revenue(predictions_valid1, target_valid1), 2), \\\n",
    "      '|', round(revenue(predictions_valid2, target_valid2), 2))\n",
    "print(' ')\n",
    "print('Средняя суммарная фактическая прибыль с 200 лучших скважин по региону из 1000 подвыборок по 500 скважин:')\n",
    "print(round(mean0, 2), '|', round(mean1, 2), '|', round(mean2, 2))\n",
    "print(' ')\n",
    "print('95%-й доверительный итервал для средней суммарной прибыли с лучших 200 скважин по региону:')\n",
    "print(round(lower0, 2),'до', round(upper0, 2), '|', round(lower1, 2),'до', round(upper1, 2), '|', round(lower2, 2), \\\n",
    "      'до', round(upper2, 2))\n",
    "print(' ')\n",
    "print('Риск убытков по региону:')\n",
    "print(round(loss_risk0, 2), '|', round(loss_risk1, 2), '|', round(loss_risk2, 2))\n",
    "print(' ')"
   ]
  },
  {
   "cell_type": "markdown",
   "metadata": {},
   "source": [
    "**Вывод:** Так как по условию задачи мы исследуем только 500 скважин из каждого региона, то метрики, полученные из данных почти 25000 скважин использовать для сравнения некорректно. Однако выбор упрощается при изучении рисков убытков и сравнении с допустимым в рамках проекта порогом (2.5%): только регион1 проходит этот отсев со значением параметра в 1%. Также регион 2 единственный имеет 95%й доверительный интервал, лежащий полностью в положительном диапазоне. Для разработки предлагаем взять регион1. "
   ]
  }
 ],
 "metadata": {
  "ExecuteTimeLog": [
   {
    "duration": 894,
    "start_time": "2023-01-25T12:39:07.930Z"
   },
   {
    "duration": 137,
    "start_time": "2023-01-25T12:39:08.825Z"
   },
   {
    "duration": 13,
    "start_time": "2023-01-25T12:39:08.964Z"
   },
   {
    "duration": 43,
    "start_time": "2023-01-25T12:39:08.978Z"
   },
   {
    "duration": 25,
    "start_time": "2023-01-25T12:39:09.023Z"
   },
   {
    "duration": 39,
    "start_time": "2023-01-25T12:39:09.049Z"
   },
   {
    "duration": 20,
    "start_time": "2023-01-25T12:39:09.089Z"
   },
   {
    "duration": 257,
    "start_time": "2023-01-25T12:39:09.110Z"
   },
   {
    "duration": 8,
    "start_time": "2023-01-25T12:39:09.369Z"
   },
   {
    "duration": 21,
    "start_time": "2023-01-25T12:39:09.378Z"
   },
   {
    "duration": 121,
    "start_time": "2023-01-25T12:39:09.401Z"
   },
   {
    "duration": 25,
    "start_time": "2023-01-25T12:39:09.524Z"
   },
   {
    "duration": 33,
    "start_time": "2023-01-25T12:39:09.551Z"
   },
   {
    "duration": 13,
    "start_time": "2023-01-25T12:39:09.587Z"
   },
   {
    "duration": 62,
    "start_time": "2023-01-25T12:39:09.601Z"
   },
   {
    "duration": 20,
    "start_time": "2023-01-25T12:39:09.665Z"
   },
   {
    "duration": 246,
    "start_time": "2023-01-25T12:39:09.686Z"
   },
   {
    "duration": 15,
    "start_time": "2023-01-25T12:39:09.934Z"
   },
   {
    "duration": 19,
    "start_time": "2023-01-25T12:39:09.951Z"
   },
   {
    "duration": 130,
    "start_time": "2023-01-25T12:39:09.972Z"
   },
   {
    "duration": 14,
    "start_time": "2023-01-25T12:39:10.103Z"
   },
   {
    "duration": 38,
    "start_time": "2023-01-25T12:39:10.118Z"
   },
   {
    "duration": 12,
    "start_time": "2023-01-25T12:39:10.158Z"
   },
   {
    "duration": 41,
    "start_time": "2023-01-25T12:39:10.172Z"
   },
   {
    "duration": 47,
    "start_time": "2023-01-25T12:39:10.214Z"
   },
   {
    "duration": 252,
    "start_time": "2023-01-25T12:39:10.262Z"
   },
   {
    "duration": 8,
    "start_time": "2023-01-25T12:39:10.515Z"
   },
   {
    "duration": 33,
    "start_time": "2023-01-25T12:39:10.525Z"
   },
   {
    "duration": 3,
    "start_time": "2023-01-25T12:39:10.559Z"
   },
   {
    "duration": 36,
    "start_time": "2023-01-25T12:39:10.563Z"
   },
   {
    "duration": 20,
    "start_time": "2023-01-25T12:39:10.600Z"
   },
   {
    "duration": 134,
    "start_time": "2023-01-25T12:39:10.622Z"
   },
   {
    "duration": 9,
    "start_time": "2023-01-25T12:39:10.847Z"
   },
   {
    "duration": 110,
    "start_time": "2023-01-25T12:39:10.858Z"
   },
   {
    "duration": 24,
    "start_time": "2023-01-25T12:39:10.970Z"
   },
   {
    "duration": 25,
    "start_time": "2023-01-25T12:39:10.996Z"
   },
   {
    "duration": 17,
    "start_time": "2023-01-25T12:39:11.023Z"
   },
   {
    "duration": 17,
    "start_time": "2023-01-25T12:39:11.042Z"
   },
   {
    "duration": 6,
    "start_time": "2023-01-25T12:39:11.061Z"
   },
   {
    "duration": 8,
    "start_time": "2023-01-25T12:39:11.068Z"
   },
   {
    "duration": 8,
    "start_time": "2023-01-25T12:39:11.080Z"
   },
   {
    "duration": 20,
    "start_time": "2023-01-25T12:39:11.090Z"
   },
   {
    "duration": 2752,
    "start_time": "2023-01-25T12:39:11.112Z"
   },
   {
    "duration": 10,
    "start_time": "2023-01-25T12:39:13.866Z"
   },
   {
    "duration": 23,
    "start_time": "2023-01-25T12:39:13.878Z"
   },
   {
    "duration": 907,
    "start_time": "2023-01-25T12:40:06.821Z"
   },
   {
    "duration": 138,
    "start_time": "2023-01-25T12:40:07.730Z"
   },
   {
    "duration": 14,
    "start_time": "2023-01-25T12:40:07.869Z"
   },
   {
    "duration": 43,
    "start_time": "2023-01-25T12:40:07.884Z"
   },
   {
    "duration": 29,
    "start_time": "2023-01-25T12:40:07.930Z"
   },
   {
    "duration": 40,
    "start_time": "2023-01-25T12:40:07.960Z"
   },
   {
    "duration": 29,
    "start_time": "2023-01-25T12:40:08.001Z"
   },
   {
    "duration": 264,
    "start_time": "2023-01-25T12:40:08.032Z"
   },
   {
    "duration": 10,
    "start_time": "2023-01-25T12:40:08.298Z"
   },
   {
    "duration": 21,
    "start_time": "2023-01-25T12:40:08.309Z"
   },
   {
    "duration": 139,
    "start_time": "2023-01-25T12:40:08.332Z"
   },
   {
    "duration": 15,
    "start_time": "2023-01-25T12:40:08.473Z"
   },
   {
    "duration": 34,
    "start_time": "2023-01-25T12:40:08.490Z"
   },
   {
    "duration": 15,
    "start_time": "2023-01-25T12:40:08.548Z"
   },
   {
    "duration": 40,
    "start_time": "2023-01-25T12:40:08.565Z"
   },
   {
    "duration": 43,
    "start_time": "2023-01-25T12:40:08.606Z"
   },
   {
    "duration": 252,
    "start_time": "2023-01-25T12:40:08.651Z"
   },
   {
    "duration": 8,
    "start_time": "2023-01-25T12:40:08.905Z"
   },
   {
    "duration": 38,
    "start_time": "2023-01-25T12:40:08.914Z"
   },
   {
    "duration": 131,
    "start_time": "2023-01-25T12:40:08.954Z"
   },
   {
    "duration": 18,
    "start_time": "2023-01-25T12:40:09.087Z"
   },
   {
    "duration": 45,
    "start_time": "2023-01-25T12:40:09.106Z"
   },
   {
    "duration": 13,
    "start_time": "2023-01-25T12:40:09.152Z"
   },
   {
    "duration": 41,
    "start_time": "2023-01-25T12:40:09.166Z"
   },
   {
    "duration": 43,
    "start_time": "2023-01-25T12:40:09.209Z"
   },
   {
    "duration": 240,
    "start_time": "2023-01-25T12:40:09.254Z"
   },
   {
    "duration": 10,
    "start_time": "2023-01-25T12:40:09.496Z"
   },
   {
    "duration": 18,
    "start_time": "2023-01-25T12:40:09.507Z"
   },
   {
    "duration": 21,
    "start_time": "2023-01-25T12:40:09.527Z"
   },
   {
    "duration": 28,
    "start_time": "2023-01-25T12:40:09.550Z"
   },
   {
    "duration": 21,
    "start_time": "2023-01-25T12:40:09.579Z"
   },
   {
    "duration": 150,
    "start_time": "2023-01-25T12:40:09.601Z"
   },
   {
    "duration": 95,
    "start_time": "2023-01-25T12:40:09.753Z"
   },
   {
    "duration": 99,
    "start_time": "2023-01-25T12:40:09.850Z"
   },
   {
    "duration": 10,
    "start_time": "2023-01-25T12:40:09.950Z"
   },
   {
    "duration": 5,
    "start_time": "2023-01-25T12:40:09.962Z"
   },
   {
    "duration": 9,
    "start_time": "2023-01-25T12:40:09.969Z"
   },
   {
    "duration": 5,
    "start_time": "2023-01-25T12:40:09.980Z"
   },
   {
    "duration": 5,
    "start_time": "2023-01-25T12:40:09.987Z"
   },
   {
    "duration": 8,
    "start_time": "2023-01-25T12:40:09.993Z"
   },
   {
    "duration": 13,
    "start_time": "2023-01-25T12:40:10.004Z"
   },
   {
    "duration": 30,
    "start_time": "2023-01-25T12:40:10.018Z"
   },
   {
    "duration": 6716,
    "start_time": "2023-01-25T12:40:10.049Z"
   },
   {
    "duration": 9,
    "start_time": "2023-01-25T12:40:16.766Z"
   },
   {
    "duration": 22,
    "start_time": "2023-01-25T12:40:16.777Z"
   },
   {
    "duration": 10,
    "start_time": "2023-01-25T12:44:37.216Z"
   },
   {
    "duration": 905,
    "start_time": "2023-01-25T12:45:51.172Z"
   },
   {
    "duration": 152,
    "start_time": "2023-01-25T12:45:52.078Z"
   },
   {
    "duration": 21,
    "start_time": "2023-01-25T12:45:52.231Z"
   },
   {
    "duration": 41,
    "start_time": "2023-01-25T12:45:52.254Z"
   },
   {
    "duration": 14,
    "start_time": "2023-01-25T12:45:52.298Z"
   },
   {
    "duration": 64,
    "start_time": "2023-01-25T12:45:52.314Z"
   },
   {
    "duration": 27,
    "start_time": "2023-01-25T12:45:52.380Z"
   },
   {
    "duration": 357,
    "start_time": "2023-01-25T12:45:52.409Z"
   },
   {
    "duration": 9,
    "start_time": "2023-01-25T12:45:52.768Z"
   },
   {
    "duration": 20,
    "start_time": "2023-01-25T12:45:52.779Z"
   },
   {
    "duration": 148,
    "start_time": "2023-01-25T12:45:52.801Z"
   },
   {
    "duration": 13,
    "start_time": "2023-01-25T12:45:52.951Z"
   },
   {
    "duration": 33,
    "start_time": "2023-01-25T12:45:52.966Z"
   },
   {
    "duration": 14,
    "start_time": "2023-01-25T12:45:53.002Z"
   },
   {
    "duration": 64,
    "start_time": "2023-01-25T12:45:53.017Z"
   },
   {
    "duration": 23,
    "start_time": "2023-01-25T12:45:53.083Z"
   },
   {
    "duration": 279,
    "start_time": "2023-01-25T12:45:53.108Z"
   },
   {
    "duration": 9,
    "start_time": "2023-01-25T12:45:53.389Z"
   },
   {
    "duration": 23,
    "start_time": "2023-01-25T12:45:53.400Z"
   },
   {
    "duration": 161,
    "start_time": "2023-01-25T12:45:53.424Z"
   },
   {
    "duration": 13,
    "start_time": "2023-01-25T12:45:53.587Z"
   },
   {
    "duration": 47,
    "start_time": "2023-01-25T12:45:53.602Z"
   },
   {
    "duration": 20,
    "start_time": "2023-01-25T12:45:53.652Z"
   },
   {
    "duration": 74,
    "start_time": "2023-01-25T12:45:53.674Z"
   },
   {
    "duration": 33,
    "start_time": "2023-01-25T12:45:53.750Z"
   },
   {
    "duration": 272,
    "start_time": "2023-01-25T12:45:53.785Z"
   },
   {
    "duration": 10,
    "start_time": "2023-01-25T12:45:54.059Z"
   },
   {
    "duration": 22,
    "start_time": "2023-01-25T12:45:54.071Z"
   },
   {
    "duration": 3,
    "start_time": "2023-01-25T12:45:54.095Z"
   },
   {
    "duration": 52,
    "start_time": "2023-01-25T12:45:54.099Z"
   },
   {
    "duration": 33,
    "start_time": "2023-01-25T12:45:54.153Z"
   },
   {
    "duration": 362,
    "start_time": "2023-01-25T12:45:54.188Z"
   },
   {
    "duration": 98,
    "start_time": "2023-01-25T12:45:54.552Z"
   },
   {
    "duration": 7,
    "start_time": "2023-01-25T12:45:54.652Z"
   },
   {
    "duration": 11,
    "start_time": "2023-01-25T12:45:54.660Z"
   },
   {
    "duration": 5,
    "start_time": "2023-01-25T12:45:54.672Z"
   },
   {
    "duration": 9,
    "start_time": "2023-01-25T12:45:54.679Z"
   },
   {
    "duration": 59,
    "start_time": "2023-01-25T12:45:54.689Z"
   },
   {
    "duration": 12,
    "start_time": "2023-01-25T12:45:54.751Z"
   },
   {
    "duration": 9,
    "start_time": "2023-01-25T12:45:54.765Z"
   },
   {
    "duration": 4,
    "start_time": "2023-01-25T12:45:54.778Z"
   },
   {
    "duration": 11,
    "start_time": "2023-01-25T12:45:54.783Z"
   },
   {
    "duration": 16,
    "start_time": "2023-01-25T12:45:54.795Z"
   },
   {
    "duration": 2668,
    "start_time": "2023-01-25T12:45:54.812Z"
   },
   {
    "duration": 8,
    "start_time": "2023-01-25T12:45:57.482Z"
   },
   {
    "duration": 21,
    "start_time": "2023-01-25T12:45:57.492Z"
   }
  ],
  "kernelspec": {
   "display_name": "Python 3 (ipykernel)",
   "language": "python",
   "name": "python3"
  },
  "language_info": {
   "codemirror_mode": {
    "name": "ipython",
    "version": 3
   },
   "file_extension": ".py",
   "mimetype": "text/x-python",
   "name": "python",
   "nbconvert_exporter": "python",
   "pygments_lexer": "ipython3",
   "version": "3.9.12"
  },
  "toc": {
   "base_numbering": 1,
   "nav_menu": {},
   "number_sections": true,
   "sideBar": true,
   "skip_h1_title": true,
   "title_cell": "Table of Contents",
   "title_sidebar": "Contents",
   "toc_cell": false,
   "toc_position": {},
   "toc_section_display": true,
   "toc_window_display": false
  }
 },
 "nbformat": 4,
 "nbformat_minor": 2
}
