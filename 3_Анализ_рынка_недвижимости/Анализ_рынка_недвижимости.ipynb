{
 "cells": [
  {
   "cell_type": "markdown",
   "metadata": {},
   "source": [
    "# Исследование объявлений о продаже квартир\n",
    "\n",
    "В нашем распоряжении данные онлайн сервиса по продаже недвижимости — архив объявлений о продаже квартир в Санкт-Петербурге и соседних населённых пунктов за несколько лет. Нужно научиться определять рыночную стоимость объектов недвижимости. Задача проекта — установить параметры. Это позволит построить автоматизированную систему: она отследит аномалии и мошенническую деятельность. \n",
    "\n",
    "По каждой квартире на продажу доступны два вида данных. Первые вписаны пользователем, вторые — получены автоматически на основе картографических данных. Например, расстояние до центра, аэропорта, ближайшего парка и водоёма. "
   ]
  },
  {
   "cell_type": "markdown",
   "metadata": {},
   "source": [
    "### 1 Загрузка и изучение данных. "
   ]
  },
  {
   "cell_type": "markdown",
   "metadata": {},
   "source": [
    "**1. Импортируем библиотеку pandas. Загружаем данные из csv-файла в датафрейм в учетом типа разделителя данных и сохраняем в переменную `data`.**"
   ]
  },
  {
   "cell_type": "code",
   "execution_count": 358,
   "metadata": {
    "scrolled": false
   },
   "outputs": [
    {
     "data": {
      "text/html": [
       "<div>\n",
       "<style scoped>\n",
       "    .dataframe tbody tr th:only-of-type {\n",
       "        vertical-align: middle;\n",
       "    }\n",
       "\n",
       "    .dataframe tbody tr th {\n",
       "        vertical-align: top;\n",
       "    }\n",
       "\n",
       "    .dataframe thead th {\n",
       "        text-align: right;\n",
       "    }\n",
       "</style>\n",
       "<table border=\"1\" class=\"dataframe\">\n",
       "  <thead>\n",
       "    <tr style=\"text-align: right;\">\n",
       "      <th></th>\n",
       "      <th>total_images</th>\n",
       "      <th>last_price</th>\n",
       "      <th>total_area</th>\n",
       "      <th>first_day_exposition</th>\n",
       "      <th>rooms</th>\n",
       "      <th>ceiling_height</th>\n",
       "      <th>floors_total</th>\n",
       "      <th>living_area</th>\n",
       "      <th>floor</th>\n",
       "      <th>is_apartment</th>\n",
       "      <th>...</th>\n",
       "      <th>kitchen_area</th>\n",
       "      <th>balcony</th>\n",
       "      <th>locality_name</th>\n",
       "      <th>airports_nearest</th>\n",
       "      <th>cityCenters_nearest</th>\n",
       "      <th>parks_around3000</th>\n",
       "      <th>parks_nearest</th>\n",
       "      <th>ponds_around3000</th>\n",
       "      <th>ponds_nearest</th>\n",
       "      <th>days_exposition</th>\n",
       "    </tr>\n",
       "  </thead>\n",
       "  <tbody>\n",
       "    <tr>\n",
       "      <th>0</th>\n",
       "      <td>20</td>\n",
       "      <td>13000000.0</td>\n",
       "      <td>108.0</td>\n",
       "      <td>2019-03-07T00:00:00</td>\n",
       "      <td>3</td>\n",
       "      <td>2.70</td>\n",
       "      <td>16.0</td>\n",
       "      <td>51.0</td>\n",
       "      <td>8</td>\n",
       "      <td>NaN</td>\n",
       "      <td>...</td>\n",
       "      <td>25.0</td>\n",
       "      <td>NaN</td>\n",
       "      <td>Санкт-Петербург</td>\n",
       "      <td>18863.0</td>\n",
       "      <td>16028.0</td>\n",
       "      <td>1.0</td>\n",
       "      <td>482.0</td>\n",
       "      <td>2.0</td>\n",
       "      <td>755.0</td>\n",
       "      <td>NaN</td>\n",
       "    </tr>\n",
       "    <tr>\n",
       "      <th>1</th>\n",
       "      <td>7</td>\n",
       "      <td>3350000.0</td>\n",
       "      <td>40.4</td>\n",
       "      <td>2018-12-04T00:00:00</td>\n",
       "      <td>1</td>\n",
       "      <td>NaN</td>\n",
       "      <td>11.0</td>\n",
       "      <td>18.6</td>\n",
       "      <td>1</td>\n",
       "      <td>NaN</td>\n",
       "      <td>...</td>\n",
       "      <td>11.0</td>\n",
       "      <td>2.0</td>\n",
       "      <td>посёлок Шушары</td>\n",
       "      <td>12817.0</td>\n",
       "      <td>18603.0</td>\n",
       "      <td>0.0</td>\n",
       "      <td>NaN</td>\n",
       "      <td>0.0</td>\n",
       "      <td>NaN</td>\n",
       "      <td>81.0</td>\n",
       "    </tr>\n",
       "    <tr>\n",
       "      <th>2</th>\n",
       "      <td>10</td>\n",
       "      <td>5196000.0</td>\n",
       "      <td>56.0</td>\n",
       "      <td>2015-08-20T00:00:00</td>\n",
       "      <td>2</td>\n",
       "      <td>NaN</td>\n",
       "      <td>5.0</td>\n",
       "      <td>34.3</td>\n",
       "      <td>4</td>\n",
       "      <td>NaN</td>\n",
       "      <td>...</td>\n",
       "      <td>8.3</td>\n",
       "      <td>0.0</td>\n",
       "      <td>Санкт-Петербург</td>\n",
       "      <td>21741.0</td>\n",
       "      <td>13933.0</td>\n",
       "      <td>1.0</td>\n",
       "      <td>90.0</td>\n",
       "      <td>2.0</td>\n",
       "      <td>574.0</td>\n",
       "      <td>558.0</td>\n",
       "    </tr>\n",
       "    <tr>\n",
       "      <th>3</th>\n",
       "      <td>0</td>\n",
       "      <td>64900000.0</td>\n",
       "      <td>159.0</td>\n",
       "      <td>2015-07-24T00:00:00</td>\n",
       "      <td>3</td>\n",
       "      <td>NaN</td>\n",
       "      <td>14.0</td>\n",
       "      <td>NaN</td>\n",
       "      <td>9</td>\n",
       "      <td>NaN</td>\n",
       "      <td>...</td>\n",
       "      <td>NaN</td>\n",
       "      <td>0.0</td>\n",
       "      <td>Санкт-Петербург</td>\n",
       "      <td>28098.0</td>\n",
       "      <td>6800.0</td>\n",
       "      <td>2.0</td>\n",
       "      <td>84.0</td>\n",
       "      <td>3.0</td>\n",
       "      <td>234.0</td>\n",
       "      <td>424.0</td>\n",
       "    </tr>\n",
       "    <tr>\n",
       "      <th>4</th>\n",
       "      <td>2</td>\n",
       "      <td>10000000.0</td>\n",
       "      <td>100.0</td>\n",
       "      <td>2018-06-19T00:00:00</td>\n",
       "      <td>2</td>\n",
       "      <td>3.03</td>\n",
       "      <td>14.0</td>\n",
       "      <td>32.0</td>\n",
       "      <td>13</td>\n",
       "      <td>NaN</td>\n",
       "      <td>...</td>\n",
       "      <td>41.0</td>\n",
       "      <td>NaN</td>\n",
       "      <td>Санкт-Петербург</td>\n",
       "      <td>31856.0</td>\n",
       "      <td>8098.0</td>\n",
       "      <td>2.0</td>\n",
       "      <td>112.0</td>\n",
       "      <td>1.0</td>\n",
       "      <td>48.0</td>\n",
       "      <td>121.0</td>\n",
       "    </tr>\n",
       "  </tbody>\n",
       "</table>\n",
       "<p>5 rows × 22 columns</p>\n",
       "</div>"
      ],
      "text/plain": [
       "   total_images  last_price  total_area first_day_exposition  rooms  \\\n",
       "0            20  13000000.0       108.0  2019-03-07T00:00:00      3   \n",
       "1             7   3350000.0        40.4  2018-12-04T00:00:00      1   \n",
       "2            10   5196000.0        56.0  2015-08-20T00:00:00      2   \n",
       "3             0  64900000.0       159.0  2015-07-24T00:00:00      3   \n",
       "4             2  10000000.0       100.0  2018-06-19T00:00:00      2   \n",
       "\n",
       "   ceiling_height  floors_total  living_area  floor is_apartment  ...  \\\n",
       "0            2.70          16.0         51.0      8          NaN  ...   \n",
       "1             NaN          11.0         18.6      1          NaN  ...   \n",
       "2             NaN           5.0         34.3      4          NaN  ...   \n",
       "3             NaN          14.0          NaN      9          NaN  ...   \n",
       "4            3.03          14.0         32.0     13          NaN  ...   \n",
       "\n",
       "   kitchen_area  balcony    locality_name  airports_nearest  \\\n",
       "0          25.0      NaN  Санкт-Петербург           18863.0   \n",
       "1          11.0      2.0   посёлок Шушары           12817.0   \n",
       "2           8.3      0.0  Санкт-Петербург           21741.0   \n",
       "3           NaN      0.0  Санкт-Петербург           28098.0   \n",
       "4          41.0      NaN  Санкт-Петербург           31856.0   \n",
       "\n",
       "  cityCenters_nearest  parks_around3000  parks_nearest  ponds_around3000  \\\n",
       "0             16028.0               1.0          482.0               2.0   \n",
       "1             18603.0               0.0            NaN               0.0   \n",
       "2             13933.0               1.0           90.0               2.0   \n",
       "3              6800.0               2.0           84.0               3.0   \n",
       "4              8098.0               2.0          112.0               1.0   \n",
       "\n",
       "   ponds_nearest  days_exposition  \n",
       "0          755.0              NaN  \n",
       "1            NaN             81.0  \n",
       "2          574.0            558.0  \n",
       "3          234.0            424.0  \n",
       "4           48.0            121.0  \n",
       "\n",
       "[5 rows x 22 columns]"
      ]
     },
     "execution_count": 358,
     "metadata": {},
     "output_type": "execute_result"
    }
   ],
   "source": [
    "import pandas as pd  # импортируем библиотеку pandas\n",
    "\n",
    "try:\n",
    "    data = pd.read_csv('/datasets/real_estate_data.csv', sep='\\t') # читаем csv-файл и сохраняем в переменную data\n",
    "except:\n",
    "    data = pd.read_csv('https://code.s3.yandex.net/datasets/real_estate_data.csv', sep='\\t') \n",
    "\n",
    "data.head()  # смотрим первые 5 строк данных\n",
    "\n",
    "from IPython.core.interactiveshell import InteractiveShell\n",
    "InteractiveShell.ast_node_interactivity = \"all\""
   ]
  },
  {
   "cell_type": "markdown",
   "metadata": {},
   "source": [
    "**2. Изучим основную информацию о датафрейме с помощью метода `info()`**"
   ]
  },
  {
   "cell_type": "code",
   "execution_count": 359,
   "metadata": {},
   "outputs": [
    {
     "name": "stdout",
     "output_type": "stream",
     "text": [
      "<class 'pandas.core.frame.DataFrame'>\n",
      "RangeIndex: 23699 entries, 0 to 23698\n",
      "Data columns (total 22 columns):\n",
      " #   Column                Non-Null Count  Dtype  \n",
      "---  ------                --------------  -----  \n",
      " 0   total_images          23699 non-null  int64  \n",
      " 1   last_price            23699 non-null  float64\n",
      " 2   total_area            23699 non-null  float64\n",
      " 3   first_day_exposition  23699 non-null  object \n",
      " 4   rooms                 23699 non-null  int64  \n",
      " 5   ceiling_height        14504 non-null  float64\n",
      " 6   floors_total          23613 non-null  float64\n",
      " 7   living_area           21796 non-null  float64\n",
      " 8   floor                 23699 non-null  int64  \n",
      " 9   is_apartment          2775 non-null   object \n",
      " 10  studio                23699 non-null  bool   \n",
      " 11  open_plan             23699 non-null  bool   \n",
      " 12  kitchen_area          21421 non-null  float64\n",
      " 13  balcony               12180 non-null  float64\n",
      " 14  locality_name         23650 non-null  object \n",
      " 15  airports_nearest      18157 non-null  float64\n",
      " 16  cityCenters_nearest   18180 non-null  float64\n",
      " 17  parks_around3000      18181 non-null  float64\n",
      " 18  parks_nearest         8079 non-null   float64\n",
      " 19  ponds_around3000      18181 non-null  float64\n",
      " 20  ponds_nearest         9110 non-null   float64\n",
      " 21  days_exposition       20518 non-null  float64\n",
      "dtypes: bool(2), float64(14), int64(3), object(3)\n",
      "memory usage: 3.7+ MB\n"
     ]
    }
   ],
   "source": [
    "data.info() # смотрим общую информацию о датасете"
   ]
  },
  {
   "cell_type": "markdown",
   "metadata": {},
   "source": [
    "**Вывод:** Есть пропуски в данных, ими мы займемся позже. С наименованиями столбцов в основном все нормально, но в одном замечен camel case - заменим на snake case."
   ]
  },
  {
   "cell_type": "code",
   "execution_count": 360,
   "metadata": {},
   "outputs": [
    {
     "data": {
      "text/html": [
       "<div>\n",
       "<style scoped>\n",
       "    .dataframe tbody tr th:only-of-type {\n",
       "        vertical-align: middle;\n",
       "    }\n",
       "\n",
       "    .dataframe tbody tr th {\n",
       "        vertical-align: top;\n",
       "    }\n",
       "\n",
       "    .dataframe thead th {\n",
       "        text-align: right;\n",
       "    }\n",
       "</style>\n",
       "<table border=\"1\" class=\"dataframe\">\n",
       "  <thead>\n",
       "    <tr style=\"text-align: right;\">\n",
       "      <th></th>\n",
       "      <th>total_images</th>\n",
       "      <th>last_price</th>\n",
       "      <th>total_area</th>\n",
       "      <th>first_day_exposition</th>\n",
       "      <th>rooms</th>\n",
       "      <th>ceiling_height</th>\n",
       "      <th>floors_total</th>\n",
       "      <th>living_area</th>\n",
       "      <th>floor</th>\n",
       "      <th>is_apartment</th>\n",
       "      <th>...</th>\n",
       "      <th>kitchen_area</th>\n",
       "      <th>balcony</th>\n",
       "      <th>locality_name</th>\n",
       "      <th>airports_nearest</th>\n",
       "      <th>city_centers_nearest</th>\n",
       "      <th>parks_around3000</th>\n",
       "      <th>parks_nearest</th>\n",
       "      <th>ponds_around3000</th>\n",
       "      <th>ponds_nearest</th>\n",
       "      <th>days_exposition</th>\n",
       "    </tr>\n",
       "  </thead>\n",
       "  <tbody>\n",
       "    <tr>\n",
       "      <th>0</th>\n",
       "      <td>20</td>\n",
       "      <td>13000000.0</td>\n",
       "      <td>108.0</td>\n",
       "      <td>2019-03-07T00:00:00</td>\n",
       "      <td>3</td>\n",
       "      <td>2.70</td>\n",
       "      <td>16.0</td>\n",
       "      <td>51.0</td>\n",
       "      <td>8</td>\n",
       "      <td>NaN</td>\n",
       "      <td>...</td>\n",
       "      <td>25.0</td>\n",
       "      <td>NaN</td>\n",
       "      <td>Санкт-Петербург</td>\n",
       "      <td>18863.0</td>\n",
       "      <td>16028.0</td>\n",
       "      <td>1.0</td>\n",
       "      <td>482.0</td>\n",
       "      <td>2.0</td>\n",
       "      <td>755.0</td>\n",
       "      <td>NaN</td>\n",
       "    </tr>\n",
       "    <tr>\n",
       "      <th>1</th>\n",
       "      <td>7</td>\n",
       "      <td>3350000.0</td>\n",
       "      <td>40.4</td>\n",
       "      <td>2018-12-04T00:00:00</td>\n",
       "      <td>1</td>\n",
       "      <td>NaN</td>\n",
       "      <td>11.0</td>\n",
       "      <td>18.6</td>\n",
       "      <td>1</td>\n",
       "      <td>NaN</td>\n",
       "      <td>...</td>\n",
       "      <td>11.0</td>\n",
       "      <td>2.0</td>\n",
       "      <td>посёлок Шушары</td>\n",
       "      <td>12817.0</td>\n",
       "      <td>18603.0</td>\n",
       "      <td>0.0</td>\n",
       "      <td>NaN</td>\n",
       "      <td>0.0</td>\n",
       "      <td>NaN</td>\n",
       "      <td>81.0</td>\n",
       "    </tr>\n",
       "    <tr>\n",
       "      <th>2</th>\n",
       "      <td>10</td>\n",
       "      <td>5196000.0</td>\n",
       "      <td>56.0</td>\n",
       "      <td>2015-08-20T00:00:00</td>\n",
       "      <td>2</td>\n",
       "      <td>NaN</td>\n",
       "      <td>5.0</td>\n",
       "      <td>34.3</td>\n",
       "      <td>4</td>\n",
       "      <td>NaN</td>\n",
       "      <td>...</td>\n",
       "      <td>8.3</td>\n",
       "      <td>0.0</td>\n",
       "      <td>Санкт-Петербург</td>\n",
       "      <td>21741.0</td>\n",
       "      <td>13933.0</td>\n",
       "      <td>1.0</td>\n",
       "      <td>90.0</td>\n",
       "      <td>2.0</td>\n",
       "      <td>574.0</td>\n",
       "      <td>558.0</td>\n",
       "    </tr>\n",
       "    <tr>\n",
       "      <th>3</th>\n",
       "      <td>0</td>\n",
       "      <td>64900000.0</td>\n",
       "      <td>159.0</td>\n",
       "      <td>2015-07-24T00:00:00</td>\n",
       "      <td>3</td>\n",
       "      <td>NaN</td>\n",
       "      <td>14.0</td>\n",
       "      <td>NaN</td>\n",
       "      <td>9</td>\n",
       "      <td>NaN</td>\n",
       "      <td>...</td>\n",
       "      <td>NaN</td>\n",
       "      <td>0.0</td>\n",
       "      <td>Санкт-Петербург</td>\n",
       "      <td>28098.0</td>\n",
       "      <td>6800.0</td>\n",
       "      <td>2.0</td>\n",
       "      <td>84.0</td>\n",
       "      <td>3.0</td>\n",
       "      <td>234.0</td>\n",
       "      <td>424.0</td>\n",
       "    </tr>\n",
       "    <tr>\n",
       "      <th>4</th>\n",
       "      <td>2</td>\n",
       "      <td>10000000.0</td>\n",
       "      <td>100.0</td>\n",
       "      <td>2018-06-19T00:00:00</td>\n",
       "      <td>2</td>\n",
       "      <td>3.03</td>\n",
       "      <td>14.0</td>\n",
       "      <td>32.0</td>\n",
       "      <td>13</td>\n",
       "      <td>NaN</td>\n",
       "      <td>...</td>\n",
       "      <td>41.0</td>\n",
       "      <td>NaN</td>\n",
       "      <td>Санкт-Петербург</td>\n",
       "      <td>31856.0</td>\n",
       "      <td>8098.0</td>\n",
       "      <td>2.0</td>\n",
       "      <td>112.0</td>\n",
       "      <td>1.0</td>\n",
       "      <td>48.0</td>\n",
       "      <td>121.0</td>\n",
       "    </tr>\n",
       "  </tbody>\n",
       "</table>\n",
       "<p>5 rows × 22 columns</p>\n",
       "</div>"
      ],
      "text/plain": [
       "   total_images  last_price  total_area first_day_exposition  rooms  \\\n",
       "0            20  13000000.0       108.0  2019-03-07T00:00:00      3   \n",
       "1             7   3350000.0        40.4  2018-12-04T00:00:00      1   \n",
       "2            10   5196000.0        56.0  2015-08-20T00:00:00      2   \n",
       "3             0  64900000.0       159.0  2015-07-24T00:00:00      3   \n",
       "4             2  10000000.0       100.0  2018-06-19T00:00:00      2   \n",
       "\n",
       "   ceiling_height  floors_total  living_area  floor is_apartment  ...  \\\n",
       "0            2.70          16.0         51.0      8          NaN  ...   \n",
       "1             NaN          11.0         18.6      1          NaN  ...   \n",
       "2             NaN           5.0         34.3      4          NaN  ...   \n",
       "3             NaN          14.0          NaN      9          NaN  ...   \n",
       "4            3.03          14.0         32.0     13          NaN  ...   \n",
       "\n",
       "   kitchen_area  balcony    locality_name  airports_nearest  \\\n",
       "0          25.0      NaN  Санкт-Петербург           18863.0   \n",
       "1          11.0      2.0   посёлок Шушары           12817.0   \n",
       "2           8.3      0.0  Санкт-Петербург           21741.0   \n",
       "3           NaN      0.0  Санкт-Петербург           28098.0   \n",
       "4          41.0      NaN  Санкт-Петербург           31856.0   \n",
       "\n",
       "  city_centers_nearest  parks_around3000  parks_nearest  ponds_around3000  \\\n",
       "0              16028.0               1.0          482.0               2.0   \n",
       "1              18603.0               0.0            NaN               0.0   \n",
       "2              13933.0               1.0           90.0               2.0   \n",
       "3               6800.0               2.0           84.0               3.0   \n",
       "4               8098.0               2.0          112.0               1.0   \n",
       "\n",
       "   ponds_nearest  days_exposition  \n",
       "0          755.0              NaN  \n",
       "1            NaN             81.0  \n",
       "2          574.0            558.0  \n",
       "3          234.0            424.0  \n",
       "4           48.0            121.0  \n",
       "\n",
       "[5 rows x 22 columns]"
      ]
     },
     "execution_count": 360,
     "metadata": {},
     "output_type": "execute_result"
    }
   ],
   "source": [
    "data = data.rename(columns={'cityCenters_nearest': 'city_centers_nearest'}) # в наименовании одного из столбцов обнаружен camel case - меняем на snake\n",
    "data.head() # проверяем"
   ]
  },
  {
   "cell_type": "markdown",
   "metadata": {},
   "source": [
    "**3. Для лучшей наглядности построим общую гистограмму с помощью метода `hist()`.**"
   ]
  },
  {
   "cell_type": "code",
   "execution_count": 361,
   "metadata": {},
   "outputs": [
    {
     "data": {
      "text/plain": [
       "array([[<AxesSubplot:title={'center':'total_images'}>,\n",
       "        <AxesSubplot:title={'center':'last_price'}>,\n",
       "        <AxesSubplot:title={'center':'total_area'}>,\n",
       "        <AxesSubplot:title={'center':'rooms'}>],\n",
       "       [<AxesSubplot:title={'center':'ceiling_height'}>,\n",
       "        <AxesSubplot:title={'center':'floors_total'}>,\n",
       "        <AxesSubplot:title={'center':'living_area'}>,\n",
       "        <AxesSubplot:title={'center':'floor'}>],\n",
       "       [<AxesSubplot:title={'center':'kitchen_area'}>,\n",
       "        <AxesSubplot:title={'center':'balcony'}>,\n",
       "        <AxesSubplot:title={'center':'airports_nearest'}>,\n",
       "        <AxesSubplot:title={'center':'city_centers_nearest'}>],\n",
       "       [<AxesSubplot:title={'center':'parks_around3000'}>,\n",
       "        <AxesSubplot:title={'center':'parks_nearest'}>,\n",
       "        <AxesSubplot:title={'center':'ponds_around3000'}>,\n",
       "        <AxesSubplot:title={'center':'ponds_nearest'}>],\n",
       "       [<AxesSubplot:title={'center':'days_exposition'}>, <AxesSubplot:>,\n",
       "        <AxesSubplot:>, <AxesSubplot:>]], dtype=object)"
      ]
     },
     "execution_count": 361,
     "metadata": {},
     "output_type": "execute_result"
    },
    {
     "data": {
      "image/png": "[encoded data removed]",
      "text/plain": [
       "<Figure size 1080x1440 with 20 Axes>"
      ]
     },
     "metadata": {
      "needs_background": "light"
     },
     "output_type": "display_data"
    }
   ],
   "source": [
    "data.hist(figsize=(15, 20)) # строим общую гистограмму для всех числовых данных датасета"
   ]
  },
  {
   "cell_type": "markdown",
   "metadata": {},
   "source": [
    "**Вывод:** По беглому взгляду на гистограммы бросается в глаза, что в параметрах \"last_price\", \"total_area\"(а соответственно и связанных \"kitchen_area\" и \"living_area\"), \"ceiling_height\" присутствуют редкие большие значения, сильно отличающиеся от основной массы, возможно это выбросы, ошибки, аномалии - будем разбираться."
   ]
  },
  {
   "cell_type": "markdown",
   "metadata": {},
   "source": [
    "**4. Изучим период, за который были собраны данные**"
   ]
  },
  {
   "cell_type": "code",
   "execution_count": 362,
   "metadata": {},
   "outputs": [
    {
     "data": {
      "text/plain": [
       "('2014-11-27T00:00:00', '2019-05-03T00:00:00')"
      ]
     },
     "execution_count": 362,
     "metadata": {},
     "output_type": "execute_result"
    }
   ],
   "source": [
    "data['first_day_exposition'].min(), data['first_day_exposition'].max() # посмотрим за какой период у нас данные"
   ]
  },
  {
   "cell_type": "markdown",
   "metadata": {},
   "source": [
    "**Вывод:** По разнице между минимальным и максимальным значением даты публкации видим, что у нас данные примерно за 4.5 года с конца ноября 2014 по начало мая 2019 года. Санкции уже привели к скачку курса доллара и в рамках наблюдаемого диапазона, резкого роста цен в рублях, не связанного с событиями на самом рынке недвижимости, не должно было возникнуть."
   ]
  },
  {
   "cell_type": "markdown",
   "metadata": {},
   "source": [
    "### 2 Предобработка данных"
   ]
  },
  {
   "cell_type": "markdown",
   "metadata": {},
   "source": [
    "**1. Найдем и изучим пропущенные значения в столбцах**"
   ]
  },
  {
   "cell_type": "code",
   "execution_count": 363,
   "metadata": {},
   "outputs": [
    {
     "data": {
      "text/plain": [
       "total_images                0\n",
       "last_price                  0\n",
       "total_area                  0\n",
       "first_day_exposition        0\n",
       "rooms                       0\n",
       "ceiling_height           9195\n",
       "floors_total               86\n",
       "living_area              1903\n",
       "floor                       0\n",
       "is_apartment            20924\n",
       "studio                      0\n",
       "open_plan                   0\n",
       "kitchen_area             2278\n",
       "balcony                 11519\n",
       "locality_name              49\n",
       "airports_nearest         5542\n",
       "city_centers_nearest     5519\n",
       "parks_around3000         5518\n",
       "parks_nearest           15620\n",
       "ponds_around3000         5518\n",
       "ponds_nearest           14589\n",
       "days_exposition          3181\n",
       "dtype: int64"
      ]
     },
     "execution_count": 363,
     "metadata": {},
     "output_type": "execute_result"
    },
    {
     "data": {
      "text/plain": [
       "total_images             0.000000\n",
       "last_price               0.000000\n",
       "total_area               0.000000\n",
       "first_day_exposition     0.000000\n",
       "rooms                    0.000000\n",
       "ceiling_height          38.799105\n",
       "floors_total             0.362885\n",
       "living_area              8.029875\n",
       "floor                    0.000000\n",
       "is_apartment            88.290645\n",
       "studio                   0.000000\n",
       "open_plan                0.000000\n",
       "kitchen_area             9.612220\n",
       "balcony                 48.605426\n",
       "locality_name            0.206760\n",
       "airports_nearest        23.384953\n",
       "city_centers_nearest    23.287902\n",
       "parks_around3000        23.283683\n",
       "parks_nearest           65.909954\n",
       "ponds_around3000        23.283683\n",
       "ponds_nearest           61.559559\n",
       "days_exposition         13.422507\n",
       "dtype: float64"
      ]
     },
     "execution_count": 363,
     "metadata": {},
     "output_type": "execute_result"
    }
   ],
   "source": [
    "data.isna().sum()\n",
    "data.isna().mean()*100 # изучим количества пропусков значений по столбцам (домножил на 100, чтобы было красивее (т.е. в %))"
   ]
  },
  {
   "cell_type": "markdown",
   "metadata": {},
   "source": [
    "**Вывод:** Пропуски в таких столбцах, как балконы или является ли объект апартаментами скорее всего соответствуют отсутствию балконов и статуса (в случае с апартаментами это еще косвенно подтверждается низкой долей апартаментов среди объектов ими не являющихся). Заменим пропуски на 0 и False (по сути тоже 0)."
   ]
  },
  {
   "cell_type": "code",
   "execution_count": 364,
   "metadata": {},
   "outputs": [],
   "source": [
    "data['balcony'] = data['balcony'].fillna(value=0) # пропуски заменяем на 0 (см. выводы выше)\n",
    "data['is_apartment'] = data['is_apartment'].fillna(value=False) # пропуски заменяем на False (см. выводы выше)"
   ]
  },
  {
   "cell_type": "markdown",
   "metadata": {},
   "source": [
    "**Вывод:** Аналогично поступим с пропусками в столбцах с кол-вом парков и водоемов в радиусе 3км - пропуск, по логике, обозначает отсутствие таковых. Если только в строках с пропусками нет соответствующей информации по расстоянию до ближайших парков/водоемов. Однако в этих строках тоже пропуски данных. С другой стороны среди строк с пропущеными данными по расстоянию до ближайших парков/водоемов примерно 2/3 - это 0 парков/водоемов в радиусе 3км и 1/3 пропуски. Заменяем пропуски в столбцах с 3км радиусами на 0. Пропусков же в столбцах с расстояниями до парка/водоема слишком много и о них можно лишь сделать вывод, что они все, скорее всего, свыше 3000м. Это можно будет учесть при категоризации данных о расстояниях, если она потребуется для дальнейшего анализа. "
   ]
  },
  {
   "cell_type": "code",
   "execution_count": 365,
   "metadata": {},
   "outputs": [
    {
     "data": {
      "text/plain": [
       "NaN    5518\n",
       "Name: parks_nearest, dtype: int64"
      ]
     },
     "execution_count": 365,
     "metadata": {},
     "output_type": "execute_result"
    },
    {
     "data": {
      "text/plain": [
       "NaN    5518\n",
       "Name: ponds_nearest, dtype: int64"
      ]
     },
     "execution_count": 365,
     "metadata": {},
     "output_type": "execute_result"
    },
    {
     "data": {
      "text/plain": [
       "0.0    10102\n",
       "NaN     5518\n",
       "Name: parks_around3000, dtype: int64"
      ]
     },
     "execution_count": 365,
     "metadata": {},
     "output_type": "execute_result"
    },
    {
     "data": {
      "text/plain": [
       "0.0    9071\n",
       "NaN    5518\n",
       "Name: ponds_around3000, dtype: int64"
      ]
     },
     "execution_count": 365,
     "metadata": {},
     "output_type": "execute_result"
    }
   ],
   "source": [
    "data.loc[data['parks_around3000'].isna(), 'parks_nearest'].value_counts(dropna=False) # проверяем, нет ли данных о расстоянии в другом столбце\n",
    "data.loc[data['ponds_around3000'].isna(), 'ponds_nearest'].value_counts(dropna=False) # проверяем, нет ли данных о расстоянии в другом столбце\n",
    "\n",
    "data.loc[data['parks_nearest'].isna(), 'parks_around3000'].value_counts(dropna=False)\n",
    "data.loc[data['ponds_nearest'].isna(), 'ponds_around3000'].value_counts(dropna=False)\n",
    "\n",
    "data['parks_around3000'] = data['parks_around3000'].fillna(value=0) \n",
    "data['ponds_around3000'] = data['ponds_around3000'].fillna(value=0)"
   ]
  },
  {
   "cell_type": "markdown",
   "metadata": {},
   "source": [
    "**Вывод:** Что касается пропусков в столбце с наименованиями населенных пунктов (пропуски составляют 0.2% от всех строк, эти данные потребуются нам для исследования), то на практике было бы правильно установить причину пропусков и восстановить данные. Такой возможности нет в учебном проекте. Придётся заполнить эти пропуски явными обозначениями и оценить, насколько они повредят расчётам."
   ]
  },
  {
   "cell_type": "code",
   "execution_count": 366,
   "metadata": {},
   "outputs": [],
   "source": [
    "data['locality_name'] = data['locality_name'].fillna('unknown')"
   ]
  },
  {
   "cell_type": "markdown",
   "metadata": {},
   "source": [
    "**Вывод:** Также пропуски есть в столбцах с данными о высоте потолка (39% строк), общем кол-ве этажей в здании (0.4%), жилой площади (8%), площади кухни (10%), расстояних до ближайших аэропорта (23%), центра города (23%), парка (66%), водоема (62%) и количестве дней публикации объявления (13%). О расстояниях до парков и водоемов уже сказано выше. Что касается высоты потолков и других числовых данных, то нужно сначала получше изучить их самих и возможные взаимосвязи, тогда можно будет рассмотреть возможность заполнения еще каких-то из пропусков."
   ]
  },
  {
   "cell_type": "code",
   "execution_count": 367,
   "metadata": {},
   "outputs": [
    {
     "data": {
      "text/plain": [
       "total_images                0\n",
       "last_price                  0\n",
       "total_area                  0\n",
       "first_day_exposition        0\n",
       "rooms                       0\n",
       "ceiling_height           9195\n",
       "floors_total               86\n",
       "living_area              1903\n",
       "floor                       0\n",
       "is_apartment                0\n",
       "studio                      0\n",
       "open_plan                   0\n",
       "kitchen_area             2278\n",
       "balcony                     0\n",
       "locality_name               0\n",
       "airports_nearest         5542\n",
       "city_centers_nearest     5519\n",
       "parks_around3000            0\n",
       "parks_nearest           15620\n",
       "ponds_around3000            0\n",
       "ponds_nearest           14589\n",
       "days_exposition          3181\n",
       "dtype: int64"
      ]
     },
     "execution_count": 367,
     "metadata": {},
     "output_type": "execute_result"
    }
   ],
   "source": [
    "data.isna().sum()"
   ]
  },
  {
   "cell_type": "markdown",
   "metadata": {},
   "source": [
    "**2. Рассмотрим типы данных в столбцах**"
   ]
  },
  {
   "cell_type": "code",
   "execution_count": 368,
   "metadata": {},
   "outputs": [
    {
     "data": {
      "text/plain": [
       "array([1.219e+04, 4.300e+05, 4.400e+05, ..., 4.013e+08, 4.200e+08,\n",
       "       7.630e+08])"
      ]
     },
     "execution_count": 368,
     "metadata": {},
     "output_type": "execute_result"
    }
   ],
   "source": [
    "data['last_price'].sort_values().unique()"
   ]
  },
  {
   "cell_type": "code",
   "execution_count": 369,
   "metadata": {},
   "outputs": [
    {
     "name": "stdout",
     "output_type": "stream",
     "text": [
      "<class 'pandas.core.frame.DataFrame'>\n",
      "RangeIndex: 23699 entries, 0 to 23698\n",
      "Data columns (total 22 columns):\n",
      " #   Column                Non-Null Count  Dtype  \n",
      "---  ------                --------------  -----  \n",
      " 0   total_images          23699 non-null  int64  \n",
      " 1   last_price            23699 non-null  float64\n",
      " 2   total_area            23699 non-null  float64\n",
      " 3   first_day_exposition  23699 non-null  object \n",
      " 4   rooms                 23699 non-null  int64  \n",
      " 5   ceiling_height        14504 non-null  float64\n",
      " 6   floors_total          23613 non-null  float64\n",
      " 7   living_area           21796 non-null  float64\n",
      " 8   floor                 23699 non-null  int64  \n",
      " 9   is_apartment          23699 non-null  bool   \n",
      " 10  studio                23699 non-null  bool   \n",
      " 11  open_plan             23699 non-null  bool   \n",
      " 12  kitchen_area          21421 non-null  float64\n",
      " 13  balcony               23699 non-null  float64\n",
      " 14  locality_name         23699 non-null  object \n",
      " 15  airports_nearest      18157 non-null  float64\n",
      " 16  city_centers_nearest  18180 non-null  float64\n",
      " 17  parks_around3000      23699 non-null  float64\n",
      " 18  parks_nearest         8079 non-null   float64\n",
      " 19  ponds_around3000      23699 non-null  float64\n",
      " 20  ponds_nearest         9110 non-null   float64\n",
      " 21  days_exposition       20518 non-null  float64\n",
      "dtypes: bool(3), float64(14), int64(3), object(2)\n",
      "memory usage: 3.5+ MB\n"
     ]
    }
   ],
   "source": [
    "data.info()   # выводим информацию о типах данных по столбцам\n",
    "data['balcony'] = data['balcony'].astype(int)  # из-за пропусков тип данных в столбцах был с плавающей точкой\n",
    "data['parks_around3000'] = data['parks_around3000'].astype(int) # в столбцах, где мы ранее заполнили пропуски\n",
    "data['ponds_around3000'] = data['ponds_around3000'].astype(int) # можно поменять тип данных на целочисленный\n",
    "# тип данных в столбце с датами размещения объявлений следует сменить на datetime, чтобы в дальнейшем совершать операции с ними\n",
    "data['first_day_exposition'] = pd.to_datetime(data['first_day_exposition'], format='%Y-%m-%dT%H:%M:%S')\n",
    "# например округлим даты до дней, так как время размещения объявления не так важно для целей исследования\n",
    "data['first_day_exposition'] = data['first_day_exposition'].dt.round('1d')\n",
    "\n",
    "#pd.to_numeric(data['last_price'], errors='coerce')\n",
    "\n",
    "data['last_price'] = data['last_price'].astype(int) # правим тип данных с ценами на целочисленный (после комментария ревьюера)"
   ]
  },
  {
   "cell_type": "markdown",
   "metadata": {},
   "source": [
    "**Вывод:** Из-за пропусков тип данных в столбцах о балконах, а также парках и водоемах в 3км радиусе был с плавающей точкой. Теперь, когда мы заполнили пропуски, можно это поправить и сделать тип целочисленным (кол-ва балконов, парков и водоемов представлены целыми числами). Если позже заполним пропуски в других столбцах, где данные отображают целые числа, то можно будет изменить тип и там.\n",
    "Тип данных в столбце с датами размещения объявлений следует сменить на datetime, чтобы в дальнейшем совершать операции с ними (например округлять или выделить день недели или год). Мало кто продаёт квартиру с копейками в цене, тип столбца 'last_price' правим на целочисленный."
   ]
  },
  {
   "cell_type": "code",
   "execution_count": 370,
   "metadata": {},
   "outputs": [
    {
     "name": "stdout",
     "output_type": "stream",
     "text": [
      "<class 'pandas.core.frame.DataFrame'>\n",
      "RangeIndex: 23699 entries, 0 to 23698\n",
      "Data columns (total 22 columns):\n",
      " #   Column                Non-Null Count  Dtype         \n",
      "---  ------                --------------  -----         \n",
      " 0   total_images          23699 non-null  int64         \n",
      " 1   last_price            23699 non-null  int64         \n",
      " 2   total_area            23699 non-null  float64       \n",
      " 3   first_day_exposition  23699 non-null  datetime64[ns]\n",
      " 4   rooms                 23699 non-null  int64         \n",
      " 5   ceiling_height        14504 non-null  float64       \n",
      " 6   floors_total          23613 non-null  float64       \n",
      " 7   living_area           21796 non-null  float64       \n",
      " 8   floor                 23699 non-null  int64         \n",
      " 9   is_apartment          23699 non-null  bool          \n",
      " 10  studio                23699 non-null  bool          \n",
      " 11  open_plan             23699 non-null  bool          \n",
      " 12  kitchen_area          21421 non-null  float64       \n",
      " 13  balcony               23699 non-null  int64         \n",
      " 14  locality_name         23699 non-null  object        \n",
      " 15  airports_nearest      18157 non-null  float64       \n",
      " 16  city_centers_nearest  18180 non-null  float64       \n",
      " 17  parks_around3000      23699 non-null  int64         \n",
      " 18  parks_nearest         8079 non-null   float64       \n",
      " 19  ponds_around3000      23699 non-null  int64         \n",
      " 20  ponds_nearest         9110 non-null   float64       \n",
      " 21  days_exposition       20518 non-null  float64       \n",
      "dtypes: bool(3), datetime64[ns](1), float64(10), int64(7), object(1)\n",
      "memory usage: 3.5+ MB\n"
     ]
    }
   ],
   "source": [
    "data.info() # снова выводим информацию о датасете для контроля изменений типов данных"
   ]
  },
  {
   "cell_type": "code",
   "execution_count": 371,
   "metadata": {},
   "outputs": [
    {
     "data": {
      "text/html": [
       "<div>\n",
       "<style scoped>\n",
       "    .dataframe tbody tr th:only-of-type {\n",
       "        vertical-align: middle;\n",
       "    }\n",
       "\n",
       "    .dataframe tbody tr th {\n",
       "        vertical-align: top;\n",
       "    }\n",
       "\n",
       "    .dataframe thead th {\n",
       "        text-align: right;\n",
       "    }\n",
       "</style>\n",
       "<table border=\"1\" class=\"dataframe\">\n",
       "  <thead>\n",
       "    <tr style=\"text-align: right;\">\n",
       "      <th></th>\n",
       "      <th>total_images</th>\n",
       "      <th>last_price</th>\n",
       "      <th>total_area</th>\n",
       "      <th>first_day_exposition</th>\n",
       "      <th>rooms</th>\n",
       "      <th>ceiling_height</th>\n",
       "      <th>floors_total</th>\n",
       "      <th>living_area</th>\n",
       "      <th>floor</th>\n",
       "      <th>is_apartment</th>\n",
       "      <th>...</th>\n",
       "      <th>kitchen_area</th>\n",
       "      <th>balcony</th>\n",
       "      <th>locality_name</th>\n",
       "      <th>airports_nearest</th>\n",
       "      <th>city_centers_nearest</th>\n",
       "      <th>parks_around3000</th>\n",
       "      <th>parks_nearest</th>\n",
       "      <th>ponds_around3000</th>\n",
       "      <th>ponds_nearest</th>\n",
       "      <th>days_exposition</th>\n",
       "    </tr>\n",
       "  </thead>\n",
       "  <tbody>\n",
       "    <tr>\n",
       "      <th>0</th>\n",
       "      <td>20</td>\n",
       "      <td>13000000</td>\n",
       "      <td>108.0</td>\n",
       "      <td>2019-03-07</td>\n",
       "      <td>3</td>\n",
       "      <td>2.70</td>\n",
       "      <td>16.0</td>\n",
       "      <td>51.0</td>\n",
       "      <td>8</td>\n",
       "      <td>False</td>\n",
       "      <td>...</td>\n",
       "      <td>25.0</td>\n",
       "      <td>0</td>\n",
       "      <td>Санкт-Петербург</td>\n",
       "      <td>18863.0</td>\n",
       "      <td>16028.0</td>\n",
       "      <td>1</td>\n",
       "      <td>482.0</td>\n",
       "      <td>2</td>\n",
       "      <td>755.0</td>\n",
       "      <td>NaN</td>\n",
       "    </tr>\n",
       "    <tr>\n",
       "      <th>1</th>\n",
       "      <td>7</td>\n",
       "      <td>3350000</td>\n",
       "      <td>40.4</td>\n",
       "      <td>2018-12-04</td>\n",
       "      <td>1</td>\n",
       "      <td>NaN</td>\n",
       "      <td>11.0</td>\n",
       "      <td>18.6</td>\n",
       "      <td>1</td>\n",
       "      <td>False</td>\n",
       "      <td>...</td>\n",
       "      <td>11.0</td>\n",
       "      <td>2</td>\n",
       "      <td>посёлок Шушары</td>\n",
       "      <td>12817.0</td>\n",
       "      <td>18603.0</td>\n",
       "      <td>0</td>\n",
       "      <td>NaN</td>\n",
       "      <td>0</td>\n",
       "      <td>NaN</td>\n",
       "      <td>81.0</td>\n",
       "    </tr>\n",
       "    <tr>\n",
       "      <th>2</th>\n",
       "      <td>10</td>\n",
       "      <td>5196000</td>\n",
       "      <td>56.0</td>\n",
       "      <td>2015-08-20</td>\n",
       "      <td>2</td>\n",
       "      <td>NaN</td>\n",
       "      <td>5.0</td>\n",
       "      <td>34.3</td>\n",
       "      <td>4</td>\n",
       "      <td>False</td>\n",
       "      <td>...</td>\n",
       "      <td>8.3</td>\n",
       "      <td>0</td>\n",
       "      <td>Санкт-Петербург</td>\n",
       "      <td>21741.0</td>\n",
       "      <td>13933.0</td>\n",
       "      <td>1</td>\n",
       "      <td>90.0</td>\n",
       "      <td>2</td>\n",
       "      <td>574.0</td>\n",
       "      <td>558.0</td>\n",
       "    </tr>\n",
       "    <tr>\n",
       "      <th>3</th>\n",
       "      <td>0</td>\n",
       "      <td>64900000</td>\n",
       "      <td>159.0</td>\n",
       "      <td>2015-07-24</td>\n",
       "      <td>3</td>\n",
       "      <td>NaN</td>\n",
       "      <td>14.0</td>\n",
       "      <td>NaN</td>\n",
       "      <td>9</td>\n",
       "      <td>False</td>\n",
       "      <td>...</td>\n",
       "      <td>NaN</td>\n",
       "      <td>0</td>\n",
       "      <td>Санкт-Петербург</td>\n",
       "      <td>28098.0</td>\n",
       "      <td>6800.0</td>\n",
       "      <td>2</td>\n",
       "      <td>84.0</td>\n",
       "      <td>3</td>\n",
       "      <td>234.0</td>\n",
       "      <td>424.0</td>\n",
       "    </tr>\n",
       "    <tr>\n",
       "      <th>4</th>\n",
       "      <td>2</td>\n",
       "      <td>10000000</td>\n",
       "      <td>100.0</td>\n",
       "      <td>2018-06-19</td>\n",
       "      <td>2</td>\n",
       "      <td>3.03</td>\n",
       "      <td>14.0</td>\n",
       "      <td>32.0</td>\n",
       "      <td>13</td>\n",
       "      <td>False</td>\n",
       "      <td>...</td>\n",
       "      <td>41.0</td>\n",
       "      <td>0</td>\n",
       "      <td>Санкт-Петербург</td>\n",
       "      <td>31856.0</td>\n",
       "      <td>8098.0</td>\n",
       "      <td>2</td>\n",
       "      <td>112.0</td>\n",
       "      <td>1</td>\n",
       "      <td>48.0</td>\n",
       "      <td>121.0</td>\n",
       "    </tr>\n",
       "  </tbody>\n",
       "</table>\n",
       "<p>5 rows × 22 columns</p>\n",
       "</div>"
      ],
      "text/plain": [
       "   total_images  last_price  total_area first_day_exposition  rooms  \\\n",
       "0            20    13000000       108.0           2019-03-07      3   \n",
       "1             7     3350000        40.4           2018-12-04      1   \n",
       "2            10     5196000        56.0           2015-08-20      2   \n",
       "3             0    64900000       159.0           2015-07-24      3   \n",
       "4             2    10000000       100.0           2018-06-19      2   \n",
       "\n",
       "   ceiling_height  floors_total  living_area  floor  is_apartment  ...  \\\n",
       "0            2.70          16.0         51.0      8         False  ...   \n",
       "1             NaN          11.0         18.6      1         False  ...   \n",
       "2             NaN           5.0         34.3      4         False  ...   \n",
       "3             NaN          14.0          NaN      9         False  ...   \n",
       "4            3.03          14.0         32.0     13         False  ...   \n",
       "\n",
       "   kitchen_area  balcony    locality_name  airports_nearest  \\\n",
       "0          25.0        0  Санкт-Петербург           18863.0   \n",
       "1          11.0        2   посёлок Шушары           12817.0   \n",
       "2           8.3        0  Санкт-Петербург           21741.0   \n",
       "3           NaN        0  Санкт-Петербург           28098.0   \n",
       "4          41.0        0  Санкт-Петербург           31856.0   \n",
       "\n",
       "  city_centers_nearest  parks_around3000  parks_nearest  ponds_around3000  \\\n",
       "0              16028.0                 1          482.0                 2   \n",
       "1              18603.0                 0            NaN                 0   \n",
       "2              13933.0                 1           90.0                 2   \n",
       "3               6800.0                 2           84.0                 3   \n",
       "4               8098.0                 2          112.0                 1   \n",
       "\n",
       "   ponds_nearest  days_exposition  \n",
       "0          755.0              NaN  \n",
       "1            NaN             81.0  \n",
       "2          574.0            558.0  \n",
       "3          234.0            424.0  \n",
       "4           48.0            121.0  \n",
       "\n",
       "[5 rows x 22 columns]"
      ]
     },
     "execution_count": 371,
     "metadata": {},
     "output_type": "execute_result"
    }
   ],
   "source": [
    "data.head() # чтобы убедиться в правильном отображении даты после округления"
   ]
  },
  {
   "cell_type": "markdown",
   "metadata": {},
   "source": [
    "**3. Изучим значения в столбце с названиями населенных пунктов на предмет неявных дубликатов**"
   ]
  },
  {
   "cell_type": "code",
   "execution_count": 372,
   "metadata": {
    "scrolled": false
   },
   "outputs": [
    {
     "data": {
      "text/plain": [
       "array(['unknown', 'Бокситогорск', 'Волосово', 'Волхов', 'Всеволожск',\n",
       "       'Выборг', 'Высоцк', 'Гатчина', 'Зеленогорск', 'Ивангород',\n",
       "       'Каменногорск', 'Кингисепп', 'Кириши', 'Кировск', 'Колпино',\n",
       "       'Коммунар', 'Красное Село', 'Кронштадт', 'Кудрово',\n",
       "       'Лодейное Поле', 'Ломоносов', 'Луга', 'Любань', 'Мурино',\n",
       "       'Никольское', 'Новая Ладога', 'Отрадное', 'Павловск', 'Петергоф',\n",
       "       'Пикалёво', 'Подпорожье', 'Приморск', 'Приозерск', 'Пушкин',\n",
       "       'Санкт-Петербург', 'Светогорск', 'Сертолово', 'Сестрорецк',\n",
       "       'Сланцы', 'Сосновый Бор', 'Сясьстрой', 'Тихвин', 'Тосно',\n",
       "       'Шлиссельбург', 'городской поселок Большая Ижора',\n",
       "       'городской поселок Янино-1', 'городской посёлок Будогощь',\n",
       "       'городской посёлок Виллози', 'городской посёлок Лесогорский',\n",
       "       'городской посёлок Мга', 'городской посёлок Назия',\n",
       "       'городской посёлок Новоселье', 'городской посёлок Павлово',\n",
       "       'городской посёлок Рощино', 'городской посёлок Свирьстрой',\n",
       "       'городской посёлок Советский', 'городской посёлок Фёдоровское',\n",
       "       'городской посёлок Янино-1', 'деревня Агалатово', 'деревня Аро',\n",
       "       'деревня Батово', 'деревня Бегуницы', 'деревня Белогорка',\n",
       "       'деревня Большая Вруда', 'деревня Большая Пустомержа',\n",
       "       'деревня Большие Колпаны', 'деревня Большое Рейзино',\n",
       "       'деревня Большой Сабск', 'деревня Бор', 'деревня Борисова Грива',\n",
       "       'деревня Ваганово', 'деревня Вартемяги', 'деревня Вахнова Кара',\n",
       "       'деревня Выскатка', 'деревня Гарболово', 'деревня Глинка',\n",
       "       'деревня Горбунки', 'деревня Гостилицы', 'деревня Заклинье',\n",
       "       'деревня Заневка', 'деревня Зимитицы', 'деревня Извара',\n",
       "       'деревня Иссад', 'деревня Калитино', 'деревня Кальтино',\n",
       "       'деревня Камышовка', 'деревня Каськово', 'деревня Келози',\n",
       "       'деревня Кипень', 'деревня Кисельня', 'деревня Колтуши',\n",
       "       'деревня Коркино', 'деревня Котлы', 'деревня Кривко',\n",
       "       'деревня Кудрово', 'деревня Кузьмолово', 'деревня Курковицы',\n",
       "       'деревня Куровицы', 'деревня Куттузи', 'деревня Лаврики',\n",
       "       'деревня Лаголово', 'деревня Лампово', 'деревня Лесколово',\n",
       "       'деревня Лопухинка', 'деревня Лупполово',\n",
       "       'деревня Малая Романовка', 'деревня Малое Верево',\n",
       "       'деревня Малое Карлино', 'деревня Малые Колпаны',\n",
       "       'деревня Мануйлово', 'деревня Меньково', 'деревня Мины',\n",
       "       'деревня Мистолово', 'деревня Ненимяки', 'деревня Нижние Осельки',\n",
       "       'деревня Нижняя', 'деревня Низино', 'деревня Новое Девяткино',\n",
       "       'деревня Новолисино', 'деревня Нурма', 'деревня Оржицы',\n",
       "       'деревня Парицы', 'деревня Пельгора', 'деревня Пеники',\n",
       "       'деревня Пижма', 'деревня Пикколово', 'деревня Пудомяги',\n",
       "       'деревня Пустынка', 'деревня Пчева', 'деревня Рабитицы',\n",
       "       'деревня Разбегаево', 'деревня Раздолье', 'деревня Разметелево',\n",
       "       'деревня Рапполово', 'деревня Реброво', 'деревня Русско',\n",
       "       'деревня Сижно', 'деревня Снегирёвка', 'деревня Старая',\n",
       "       'деревня Старая Пустошь', 'деревня Старое Хинколово',\n",
       "       'деревня Старополье', 'деревня Старосиверская',\n",
       "       'деревня Старые Бегуницы', 'деревня Суоранда',\n",
       "       'деревня Сяськелево', 'деревня Тарасово', 'деревня Терпилицы',\n",
       "       'деревня Тихковицы', 'деревня Тойворово', 'деревня Торосово',\n",
       "       'деревня Торошковичи', 'деревня Трубников Бор',\n",
       "       'деревня Фалилеево', 'деревня Фёдоровское', 'деревня Хапо-Ое',\n",
       "       'деревня Хязельки', 'деревня Чудской Бор', 'деревня Шпаньково',\n",
       "       'деревня Щеглово', 'деревня Юкки', 'деревня Ялгино',\n",
       "       'деревня Яльгелево', 'деревня Ям-Тесово',\n",
       "       'коттеджный поселок Кивеннапа Север', 'коттеджный поселок Счастье',\n",
       "       'коттеджный посёлок Лесное', 'поселок Аннино', 'поселок Барышево',\n",
       "       'поселок Бугры', 'поселок Возрождение', 'поселок Войсковицы',\n",
       "       'поселок Володарское', 'поселок Гаврилово', 'поселок Гарболово',\n",
       "       'поселок Гладкое', 'поселок Глажево', 'поселок Глебычево',\n",
       "       'поселок Гончарово', 'поселок Громово', 'поселок Дружноселье',\n",
       "       'поселок Елизаветино', 'поселок Жилгородок', 'поселок Жилпосёлок',\n",
       "       'поселок Житково', 'поселок Заводской', 'поселок Запорожское',\n",
       "       'поселок Зимитицы', 'поселок Ильичёво', 'поселок Калитино',\n",
       "       'поселок Каложицы', 'поселок Кингисеппский', 'поселок Кирпичное',\n",
       "       'поселок Кобралово', 'поселок Кобринское', 'поселок Коммунары',\n",
       "       'поселок Коробицыно', 'поселок Котельский',\n",
       "       'поселок Красная Долина', 'поселок Красносельское',\n",
       "       'поселок Лесное', 'поселок Лисий Нос', 'поселок Лукаши',\n",
       "       'поселок Любань', 'поселок Мельниково', 'поселок Мичуринское',\n",
       "       'поселок Молодцово', 'поселок Мурино', 'поселок Новый Свет',\n",
       "       'поселок Новый Учхоз', 'поселок Оредеж',\n",
       "       'поселок Пансионат Зелёный Бор', 'поселок Первомайское',\n",
       "       'поселок Перово', 'поселок Петровское', 'поселок Победа',\n",
       "       'поселок Поляны', 'поселок Почап', 'поселок Починок',\n",
       "       'поселок Пушное', 'поселок Пчевжа', 'поселок Рабитицы',\n",
       "       'поселок Романовка', 'поселок Ромашки', 'поселок Рябово',\n",
       "       'поселок Севастьяново', 'поселок Селезнёво', 'поселок Сельцо',\n",
       "       'поселок Семиозерье', 'поселок Семрино', 'поселок Серебрянский',\n",
       "       'поселок Совхозный', 'поселок Старая Малукса',\n",
       "       'поселок Стеклянный', 'поселок Сумино', 'поселок Суходолье',\n",
       "       'поселок Тельмана', 'поселок Терволово', 'поселок Торковичи',\n",
       "       'поселок Тёсово-4', 'поселок Углово', 'поселок Усть-Луга',\n",
       "       'поселок Ушаки', 'поселок Цвелодубово', 'поселок Цвылёво',\n",
       "       'поселок городского типа Большая Ижора',\n",
       "       'поселок городского типа Вырица',\n",
       "       'поселок городского типа Дружная Горка',\n",
       "       'поселок городского типа Дубровка',\n",
       "       'поселок городского типа Ефимовский',\n",
       "       'поселок городского типа Кондратьево',\n",
       "       'поселок городского типа Красный Бор',\n",
       "       'поселок городского типа Кузьмоловский',\n",
       "       'поселок городского типа Лебяжье',\n",
       "       'поселок городского типа Лесогорский',\n",
       "       'поселок городского типа Назия',\n",
       "       'поселок городского типа Никольский',\n",
       "       'поселок городского типа Приладожский',\n",
       "       'поселок городского типа Рахья', 'поселок городского типа Рощино',\n",
       "       'поселок городского типа Рябово',\n",
       "       'поселок городского типа Синявино',\n",
       "       'поселок городского типа Советский',\n",
       "       'поселок городского типа Токсово',\n",
       "       'поселок городского типа Форносово',\n",
       "       'поселок городского типа имени Свердлова',\n",
       "       'поселок станции Вещево', 'поселок станции Корнево',\n",
       "       'поселок станции Лужайка', 'поселок станции Приветнинское',\n",
       "       'посёлок Александровская', 'посёлок Алексеевка', 'посёлок Аннино',\n",
       "       'посёлок Белоостров', 'посёлок Бугры', 'посёлок Возрождение',\n",
       "       'посёлок Войскорово', 'посёлок Высокоключевой',\n",
       "       'посёлок Гаврилово', 'посёлок Дзержинского', 'посёлок Жилгородок',\n",
       "       'посёлок Ильичёво', 'посёлок Кикерино', 'посёлок Кобралово',\n",
       "       'посёлок Коробицыно', 'посёлок Левашово', 'посёлок Ленинское',\n",
       "       'посёлок Лисий Нос', 'посёлок Мельниково', 'посёлок Металлострой',\n",
       "       'посёлок Мичуринское', 'посёлок Молодёжное', 'посёлок Мурино',\n",
       "       'посёлок Мыза-Ивановка', 'посёлок Новогорелово',\n",
       "       'посёлок Новый Свет', 'посёлок Пансионат Зелёный Бор',\n",
       "       'посёлок Парголово', 'посёлок Перово', 'посёлок Песочный',\n",
       "       'посёлок Петро-Славянка', 'посёлок Петровское',\n",
       "       'посёлок Платформа 69-й километр', 'посёлок Плодовое',\n",
       "       'посёлок Плоское', 'посёлок Победа', 'посёлок Поляны',\n",
       "       'посёлок Понтонный', 'посёлок Пригородный', 'посёлок Пудость',\n",
       "       'посёлок Репино', 'посёлок Ропша', 'посёлок Сапёрное',\n",
       "       'посёлок Сапёрный', 'посёлок Сосново', 'посёлок Старая Малукса',\n",
       "       'посёлок Стеклянный', 'посёлок Стрельна', 'посёлок Суйда',\n",
       "       'посёлок Сумино', 'посёлок Тельмана', 'посёлок Терволово',\n",
       "       'посёлок Торфяное', 'посёлок Усть-Ижора', 'посёлок Усть-Луга',\n",
       "       'посёлок Форт Красная Горка', 'посёлок Шугозеро', 'посёлок Шушары',\n",
       "       'посёлок Щеглово', 'посёлок городского типа Важины',\n",
       "       'посёлок городского типа Вознесенье',\n",
       "       'посёлок городского типа Вырица',\n",
       "       'посёлок городского типа Красный Бор',\n",
       "       'посёлок городского типа Кузнечное',\n",
       "       'посёлок городского типа Кузьмоловский',\n",
       "       'посёлок городского типа Лебяжье', 'посёлок городского типа Мга',\n",
       "       'посёлок городского типа Павлово',\n",
       "       'посёлок городского типа Рощино', 'посёлок городского типа Рябово',\n",
       "       'посёлок городского типа Сиверский',\n",
       "       'посёлок городского типа Тайцы', 'посёлок городского типа Токсово',\n",
       "       'посёлок городского типа Ульяновка',\n",
       "       'посёлок городского типа Форносово',\n",
       "       'посёлок городского типа имени Морозова',\n",
       "       'посёлок городского типа имени Свердлова',\n",
       "       'посёлок при железнодорожной станции Вещево',\n",
       "       'посёлок при железнодорожной станции Приветнинское',\n",
       "       'посёлок станции Громово', 'посёлок станции Свирь',\n",
       "       'садоводческое некоммерческое товарищество Лесная Поляна',\n",
       "       'садовое товарищество Новая Ропша',\n",
       "       'садовое товарищество Приладожский', 'садовое товарищество Рахья',\n",
       "       'садовое товарищество Садко', 'село Копорье', 'село Никольское',\n",
       "       'село Павлово', 'село Паша', 'село Путилово', 'село Рождествено',\n",
       "       'село Русско-Высоцкое', 'село Старая Ладога', 'село Шум'],\n",
       "      dtype=object)"
      ]
     },
     "execution_count": 372,
     "metadata": {},
     "output_type": "execute_result"
    },
    {
     "data": {
      "text/plain": [
       "Санкт-Петербург                                      15721\n",
       "посёлок Мурино                                         522\n",
       "посёлок Шушары                                         440\n",
       "Всеволожск                                             398\n",
       "Пушкин                                                 369\n",
       "                                                     ...  \n",
       "поселок Почап                                            1\n",
       "посёлок при железнодорожной станции Приветнинское        1\n",
       "поселок Тёсово-4                                         1\n",
       "деревня Куровицы                                         1\n",
       "поселок Калитино                                         1\n",
       "Name: locality_name, Length: 365, dtype: int64"
      ]
     },
     "execution_count": 372,
     "metadata": {},
     "output_type": "execute_result"
    }
   ],
   "source": [
    "data['locality_name'].sort_values().unique()\n",
    "data['locality_name'].value_counts()"
   ]
  },
  {
   "cell_type": "code",
   "execution_count": 373,
   "metadata": {},
   "outputs": [
    {
     "data": {
      "text/plain": [
       "array(['unknown', 'Агалатово', 'Александровская', 'Алексеевка', 'Аннино',\n",
       "       'Аро', 'Барышево', 'Батово', 'Бегуницы', 'Белогорка', 'Белоостров',\n",
       "       'Бокситогорск', 'Большая Вруда', 'Большая Ижора',\n",
       "       'Большая Пустомержа', 'Большие Колпаны', 'Большое Рейзино',\n",
       "       'Большой Сабск', 'Бор', 'Борисова Грива', 'Бугры', 'Будогощь',\n",
       "       'Ваганово', 'Важины', 'Вартемяги', 'Вахнова Кара', 'Вещево',\n",
       "       'Виллози', 'Вознесенье', 'Возрождение', 'Войсковицы', 'Войскорово',\n",
       "       'Володарское', 'Волосово', 'Волхов', 'Всеволожск', 'Выборг',\n",
       "       'Вырица', 'Выскатка', 'Высокоключевой', 'Высоцк', 'Гаврилово',\n",
       "       'Гарболово', 'Гатчина', 'Гладкое', 'Глажево', 'Глебычево',\n",
       "       'Глинка', 'Гончарово', 'Горбунки', 'Гостилицы', 'Громово',\n",
       "       'Дзержинского', 'Дружная Горка', 'Дружноселье', 'Дубровка',\n",
       "       'Елизаветино', 'Ефимовский', 'Жилгородок', 'Жилпосёлок', 'Житково',\n",
       "       'Заводской', 'Заклинье', 'Заневка', 'Запорожское', 'Зеленогорск',\n",
       "       'Зимитицы', 'Ивангород', 'Извара', 'Ильичёво', 'Иссад', 'Калитино',\n",
       "       'Каложицы', 'Кальтино', 'Каменногорск', 'Камышовка', 'Каськово',\n",
       "       'Келози', 'Кивеннапа Север', 'Кикерино', 'Кингисепп',\n",
       "       'Кингисеппский', 'Кипень', 'Кириши', 'Кировск', 'Кирпичное',\n",
       "       'Кисельня', 'Кобралово', 'Кобринское', 'Колпино', 'Колтуши',\n",
       "       'Коммунар', 'Коммунары', 'Кондратьево', 'Копорье', 'Коркино',\n",
       "       'Корнево', 'Коробицыно', 'Котельский', 'Котлы', 'Красная Долина',\n",
       "       'Красное Село', 'Красносельское', 'Красный Бор', 'Кривко',\n",
       "       'Кронштадт', 'Кудрово', 'Кузнечное', 'Кузьмолово', 'Кузьмоловский',\n",
       "       'Курковицы', 'Куровицы', 'Куттузи', 'Лаврики', 'Лаголово',\n",
       "       'Лампово', 'Лебяжье', 'Левашово', 'Ленинское', 'Лесколово',\n",
       "       'Лесная Поляна', 'Лесное', 'Лесогорский', 'Лисий Нос',\n",
       "       'Лодейное Поле', 'Ломоносов', 'Лопухинка', 'Луга', 'Лужайка',\n",
       "       'Лукаши', 'Лупполово', 'Любань', 'Малая Романовка', 'Малое Верево',\n",
       "       'Малое Карлино', 'Малые Колпаны', 'Мануйлово', 'Мга', 'Мельниково',\n",
       "       'Меньково', 'Металлострой', 'Мины', 'Мистолово', 'Мичуринское',\n",
       "       'Молодцово', 'Молодёжное', 'Морозова', 'Мурино', 'Мыза-Ивановка',\n",
       "       'Назия', 'Ненимяки', 'Нижние Осельки', 'Нижняя', 'Низино',\n",
       "       'Никольский', 'Никольское', 'Новая Ладога', 'Новая Ропша',\n",
       "       'Новогорелово', 'Новое Девяткино', 'Новолисино', 'Новоселье',\n",
       "       'Новый Свет', 'Новый Учхоз', 'Нурма', 'Оредеж', 'Оржицы',\n",
       "       'Отрадное', 'Павлово', 'Павловск', 'Пансионат Зелёный Бор',\n",
       "       'Парголово', 'Парицы', 'Паша', 'Пельгора', 'Пеники',\n",
       "       'Первомайское', 'Перово', 'Песочный', 'Петергоф', 'Петро-Славянка',\n",
       "       'Петровское', 'Пижма', 'Пикалёво', 'Пикколово',\n",
       "       'Платформа 69-й километр', 'Плодовое', 'Плоское', 'Победа',\n",
       "       'Подпорожье', 'Поляны', 'Понтонный', 'Почап', 'Починок',\n",
       "       'Приветнинское', 'Пригородный', 'Приладожский', 'Приморск',\n",
       "       'Приозерск', 'Пудомяги', 'Пудость', 'Пустынка', 'Путилово',\n",
       "       'Пушкин', 'Пушное', 'Пчева', 'Пчевжа', 'Рабитицы', 'Разбегаево',\n",
       "       'Раздолье', 'Разметелево', 'Рапполово', 'Рахья', 'Реброво',\n",
       "       'Репино', 'Рождествено', 'Романовка', 'Ромашки', 'Ропша', 'Рощино',\n",
       "       'Русско', 'Русско-Высоцкое', 'Рябово', 'Садко', 'Санкт-Петербург',\n",
       "       'Сапёрное', 'Сапёрный', 'Свердлова', 'Светогорск', 'Свирь',\n",
       "       'Свирьстрой', 'Севастьяново', 'Селезнёво', 'Сельцо', 'Семиозерье',\n",
       "       'Семрино', 'Серебрянский', 'Сертолово', 'Сестрорецк', 'Сиверский',\n",
       "       'Сижно', 'Синявино', 'Сланцы', 'Снегирёвка', 'Советский',\n",
       "       'Совхозный', 'Сосново', 'Сосновый Бор', 'Старая', 'Старая Ладога',\n",
       "       'Старая Малукса', 'Старая Пустошь', 'Старое Хинколово',\n",
       "       'Старополье', 'Старосиверская', 'Старые Бегуницы', 'Стеклянный',\n",
       "       'Стрельна', 'Суйда', 'Сумино', 'Суоранда', 'Суходолье', 'Счастье',\n",
       "       'Сяськелево', 'Сясьстрой', 'Тайцы', 'Тарасово', 'Тельмана',\n",
       "       'Терволово', 'Терпилицы', 'Тихвин', 'Тихковицы', 'Тойворово',\n",
       "       'Токсово', 'Торковичи', 'Торосово', 'Торошковичи', 'Торфяное',\n",
       "       'Тосно', 'Трубников Бор', 'Тёсово-4', 'Углово', 'Ульяновка',\n",
       "       'Усть-Ижора', 'Усть-Луга', 'Ушаки', 'Фалилеево', 'Форносово',\n",
       "       'Форт Красная Горка', 'Фёдоровское', 'Хапо-Ое', 'Хязельки',\n",
       "       'Цвелодубово', 'Цвылёво', 'Чудской Бор', 'Шлиссельбург',\n",
       "       'Шпаньково', 'Шугозеро', 'Шум', 'Шушары', 'Щеглово', 'Юкки',\n",
       "       'Ялгино', 'Яльгелево', 'Ям-Тесово', 'Янино-1'], dtype=object)"
      ]
     },
     "execution_count": 373,
     "metadata": {},
     "output_type": "execute_result"
    },
    {
     "data": {
      "text/plain": [
       "Санкт-Петербург    15721\n",
       "Мурино               590\n",
       "Кудрово              472\n",
       "Шушары               440\n",
       "Всеволожск           398\n",
       "                   ...  \n",
       "Петро-Славянка         1\n",
       "Свирьстрой             1\n",
       "Хязельки               1\n",
       "Снегирёвка             1\n",
       "Трубников Бор          1\n",
       "Name: locality_name, Length: 306, dtype: int64"
      ]
     },
     "execution_count": 373,
     "metadata": {},
     "output_type": "execute_result"
    }
   ],
   "source": [
    "duplicates = ['садоводческое некоммерческое товарищество ', 'садовое товарищество ', 'деревня ', 'городской поселок ', 'городской посёлок ', 'поселок городского типа ', 'посёлок городского типа ', 'поселок ', 'посёлок ', 'село ', 'при железнодорожной станции ', 'станции ', 'коттеджный ', 'имени ']\n",
    "for duplicate in duplicates:\n",
    "    data['locality_name'] = data['locality_name'].str.replace(duplicate,'')\n",
    "\n",
    "data['locality_name'].sort_values().unique()\n",
    "data['locality_name'].value_counts()"
   ]
  },
  {
   "cell_type": "markdown",
   "metadata": {},
   "source": [
    "**Вывод:** Убрали 59 неявных дубликатов (365 - 306). Например Кудрово вообще не было в топе упоминаний, видимо было сильно разделено между разными написаниями (\"деревня Кудрово\" и просто \"Кудрово\"). Теперь распределения будут отображены корректнее."
   ]
  },
  {
   "cell_type": "markdown",
   "metadata": {},
   "source": [
    "**4. Найдем и устраним аномалии в данных**"
   ]
  },
  {
   "cell_type": "code",
   "execution_count": 374,
   "metadata": {},
   "outputs": [
    {
     "data": {
      "text/html": [
       "<div>\n",
       "<style scoped>\n",
       "    .dataframe tbody tr th:only-of-type {\n",
       "        vertical-align: middle;\n",
       "    }\n",
       "\n",
       "    .dataframe tbody tr th {\n",
       "        vertical-align: top;\n",
       "    }\n",
       "\n",
       "    .dataframe thead th {\n",
       "        text-align: right;\n",
       "    }\n",
       "</style>\n",
       "<table border=\"1\" class=\"dataframe\">\n",
       "  <thead>\n",
       "    <tr style=\"text-align: right;\">\n",
       "      <th></th>\n",
       "      <th>total_images</th>\n",
       "      <th>last_price</th>\n",
       "      <th>total_area</th>\n",
       "      <th>rooms</th>\n",
       "      <th>ceiling_height</th>\n",
       "      <th>floors_total</th>\n",
       "      <th>living_area</th>\n",
       "      <th>floor</th>\n",
       "      <th>kitchen_area</th>\n",
       "      <th>balcony</th>\n",
       "      <th>airports_nearest</th>\n",
       "      <th>city_centers_nearest</th>\n",
       "      <th>parks_around3000</th>\n",
       "      <th>parks_nearest</th>\n",
       "      <th>ponds_around3000</th>\n",
       "      <th>ponds_nearest</th>\n",
       "      <th>days_exposition</th>\n",
       "    </tr>\n",
       "  </thead>\n",
       "  <tbody>\n",
       "    <tr>\n",
       "      <th>count</th>\n",
       "      <td>23699.000000</td>\n",
       "      <td>2.369900e+04</td>\n",
       "      <td>23699.000000</td>\n",
       "      <td>23699.000000</td>\n",
       "      <td>14504.000000</td>\n",
       "      <td>23613.000000</td>\n",
       "      <td>21796.000000</td>\n",
       "      <td>23699.000000</td>\n",
       "      <td>21421.000000</td>\n",
       "      <td>23699.000000</td>\n",
       "      <td>18157.000000</td>\n",
       "      <td>18180.000000</td>\n",
       "      <td>23699.000000</td>\n",
       "      <td>8079.000000</td>\n",
       "      <td>23699.000000</td>\n",
       "      <td>9110.000000</td>\n",
       "      <td>20518.000000</td>\n",
       "    </tr>\n",
       "    <tr>\n",
       "      <th>mean</th>\n",
       "      <td>9.858475</td>\n",
       "      <td>6.541549e+06</td>\n",
       "      <td>60.348651</td>\n",
       "      <td>2.070636</td>\n",
       "      <td>2.771499</td>\n",
       "      <td>10.673824</td>\n",
       "      <td>34.457852</td>\n",
       "      <td>5.892358</td>\n",
       "      <td>10.569807</td>\n",
       "      <td>0.591080</td>\n",
       "      <td>28793.672193</td>\n",
       "      <td>14191.277833</td>\n",
       "      <td>0.469049</td>\n",
       "      <td>490.804555</td>\n",
       "      <td>0.590911</td>\n",
       "      <td>517.980900</td>\n",
       "      <td>180.888634</td>\n",
       "    </tr>\n",
       "    <tr>\n",
       "      <th>std</th>\n",
       "      <td>5.682529</td>\n",
       "      <td>1.088701e+07</td>\n",
       "      <td>35.654083</td>\n",
       "      <td>1.078405</td>\n",
       "      <td>1.261056</td>\n",
       "      <td>6.597173</td>\n",
       "      <td>22.030445</td>\n",
       "      <td>4.885249</td>\n",
       "      <td>5.905438</td>\n",
       "      <td>0.959298</td>\n",
       "      <td>12630.880622</td>\n",
       "      <td>8608.386210</td>\n",
       "      <td>0.748534</td>\n",
       "      <td>342.317995</td>\n",
       "      <td>0.883999</td>\n",
       "      <td>277.720643</td>\n",
       "      <td>219.727988</td>\n",
       "    </tr>\n",
       "    <tr>\n",
       "      <th>min</th>\n",
       "      <td>0.000000</td>\n",
       "      <td>1.219000e+04</td>\n",
       "      <td>12.000000</td>\n",
       "      <td>0.000000</td>\n",
       "      <td>1.000000</td>\n",
       "      <td>1.000000</td>\n",
       "      <td>2.000000</td>\n",
       "      <td>1.000000</td>\n",
       "      <td>1.300000</td>\n",
       "      <td>0.000000</td>\n",
       "      <td>0.000000</td>\n",
       "      <td>181.000000</td>\n",
       "      <td>0.000000</td>\n",
       "      <td>1.000000</td>\n",
       "      <td>0.000000</td>\n",
       "      <td>13.000000</td>\n",
       "      <td>1.000000</td>\n",
       "    </tr>\n",
       "    <tr>\n",
       "      <th>25%</th>\n",
       "      <td>6.000000</td>\n",
       "      <td>3.400000e+06</td>\n",
       "      <td>40.000000</td>\n",
       "      <td>1.000000</td>\n",
       "      <td>2.520000</td>\n",
       "      <td>5.000000</td>\n",
       "      <td>18.600000</td>\n",
       "      <td>2.000000</td>\n",
       "      <td>7.000000</td>\n",
       "      <td>0.000000</td>\n",
       "      <td>18585.000000</td>\n",
       "      <td>9238.000000</td>\n",
       "      <td>0.000000</td>\n",
       "      <td>288.000000</td>\n",
       "      <td>0.000000</td>\n",
       "      <td>294.000000</td>\n",
       "      <td>45.000000</td>\n",
       "    </tr>\n",
       "    <tr>\n",
       "      <th>50%</th>\n",
       "      <td>9.000000</td>\n",
       "      <td>4.650000e+06</td>\n",
       "      <td>52.000000</td>\n",
       "      <td>2.000000</td>\n",
       "      <td>2.650000</td>\n",
       "      <td>9.000000</td>\n",
       "      <td>30.000000</td>\n",
       "      <td>4.000000</td>\n",
       "      <td>9.100000</td>\n",
       "      <td>0.000000</td>\n",
       "      <td>26726.000000</td>\n",
       "      <td>13098.500000</td>\n",
       "      <td>0.000000</td>\n",
       "      <td>455.000000</td>\n",
       "      <td>0.000000</td>\n",
       "      <td>502.000000</td>\n",
       "      <td>95.000000</td>\n",
       "    </tr>\n",
       "    <tr>\n",
       "      <th>75%</th>\n",
       "      <td>14.000000</td>\n",
       "      <td>6.800000e+06</td>\n",
       "      <td>69.900000</td>\n",
       "      <td>3.000000</td>\n",
       "      <td>2.800000</td>\n",
       "      <td>16.000000</td>\n",
       "      <td>42.300000</td>\n",
       "      <td>8.000000</td>\n",
       "      <td>12.000000</td>\n",
       "      <td>1.000000</td>\n",
       "      <td>37273.000000</td>\n",
       "      <td>16293.000000</td>\n",
       "      <td>1.000000</td>\n",
       "      <td>612.000000</td>\n",
       "      <td>1.000000</td>\n",
       "      <td>729.000000</td>\n",
       "      <td>232.000000</td>\n",
       "    </tr>\n",
       "    <tr>\n",
       "      <th>max</th>\n",
       "      <td>50.000000</td>\n",
       "      <td>7.630000e+08</td>\n",
       "      <td>900.000000</td>\n",
       "      <td>19.000000</td>\n",
       "      <td>100.000000</td>\n",
       "      <td>60.000000</td>\n",
       "      <td>409.700000</td>\n",
       "      <td>33.000000</td>\n",
       "      <td>112.000000</td>\n",
       "      <td>5.000000</td>\n",
       "      <td>84869.000000</td>\n",
       "      <td>65968.000000</td>\n",
       "      <td>3.000000</td>\n",
       "      <td>3190.000000</td>\n",
       "      <td>3.000000</td>\n",
       "      <td>1344.000000</td>\n",
       "      <td>1580.000000</td>\n",
       "    </tr>\n",
       "  </tbody>\n",
       "</table>\n",
       "</div>"
      ],
      "text/plain": [
       "       total_images    last_price    total_area         rooms  ceiling_height  \\\n",
       "count  23699.000000  2.369900e+04  23699.000000  23699.000000    14504.000000   \n",
       "mean       9.858475  6.541549e+06     60.348651      2.070636        2.771499   \n",
       "std        5.682529  1.088701e+07     35.654083      1.078405        1.261056   \n",
       "min        0.000000  1.219000e+04     12.000000      0.000000        1.000000   \n",
       "25%        6.000000  3.400000e+06     40.000000      1.000000        2.520000   \n",
       "50%        9.000000  4.650000e+06     52.000000      2.000000        2.650000   \n",
       "75%       14.000000  6.800000e+06     69.900000      3.000000        2.800000   \n",
       "max       50.000000  7.630000e+08    900.000000     19.000000      100.000000   \n",
       "\n",
       "       floors_total   living_area         floor  kitchen_area       balcony  \\\n",
       "count  23613.000000  21796.000000  23699.000000  21421.000000  23699.000000   \n",
       "mean      10.673824     34.457852      5.892358     10.569807      0.591080   \n",
       "std        6.597173     22.030445      4.885249      5.905438      0.959298   \n",
       "min        1.000000      2.000000      1.000000      1.300000      0.000000   \n",
       "25%        5.000000     18.600000      2.000000      7.000000      0.000000   \n",
       "50%        9.000000     30.000000      4.000000      9.100000      0.000000   \n",
       "75%       16.000000     42.300000      8.000000     12.000000      1.000000   \n",
       "max       60.000000    409.700000     33.000000    112.000000      5.000000   \n",
       "\n",
       "       airports_nearest  city_centers_nearest  parks_around3000  \\\n",
       "count      18157.000000          18180.000000      23699.000000   \n",
       "mean       28793.672193          14191.277833          0.469049   \n",
       "std        12630.880622           8608.386210          0.748534   \n",
       "min            0.000000            181.000000          0.000000   \n",
       "25%        18585.000000           9238.000000          0.000000   \n",
       "50%        26726.000000          13098.500000          0.000000   \n",
       "75%        37273.000000          16293.000000          1.000000   \n",
       "max        84869.000000          65968.000000          3.000000   \n",
       "\n",
       "       parks_nearest  ponds_around3000  ponds_nearest  days_exposition  \n",
       "count    8079.000000      23699.000000    9110.000000     20518.000000  \n",
       "mean      490.804555          0.590911     517.980900       180.888634  \n",
       "std       342.317995          0.883999     277.720643       219.727988  \n",
       "min         1.000000          0.000000      13.000000         1.000000  \n",
       "25%       288.000000          0.000000     294.000000        45.000000  \n",
       "50%       455.000000          0.000000     502.000000        95.000000  \n",
       "75%       612.000000          1.000000     729.000000       232.000000  \n",
       "max      3190.000000          3.000000    1344.000000      1580.000000  "
      ]
     },
     "execution_count": 374,
     "metadata": {},
     "output_type": "execute_result"
    }
   ],
   "source": [
    "data.describe() # отобразим информацию о распределении данных в числовых столбцах"
   ]
  },
  {
   "cell_type": "markdown",
   "metadata": {},
   "source": [
    "**Максимальное значение высоты потолка в 100м немного беспокоит, разберемся с этим столбцом поподробнее:**"
   ]
  },
  {
   "cell_type": "code",
   "execution_count": 375,
   "metadata": {},
   "outputs": [
    {
     "data": {
      "text/plain": [
       "(1.0, 14.0)"
      ]
     },
     "execution_count": 375,
     "metadata": {},
     "output_type": "execute_result"
    },
    {
     "data": {
      "text/plain": [
       "<AxesSubplot:>"
      ]
     },
     "execution_count": 375,
     "metadata": {},
     "output_type": "execute_result"
    },
    {
     "data": {
      "image/png": "[encoded data removed]",
      "text/plain": [
       "<Figure size 432x288 with 1 Axes>"
      ]
     },
     "metadata": {
      "needs_background": "light"
     },
     "output_type": "display_data"
    }
   ],
   "source": [
    "import matplotlib.pyplot as plt\n",
    "plt.ylim(1, 14)\n",
    "data.boxplot(column='ceiling_height')  "
   ]
  },
  {
   "cell_type": "code",
   "execution_count": 376,
   "metadata": {},
   "outputs": [
    {
     "data": {
      "text/plain": [
       "<AxesSubplot:>"
      ]
     },
     "execution_count": 376,
     "metadata": {},
     "output_type": "execute_result"
    },
    {
     "data": {
      "image/png": "[encoded data removed]",
      "text/plain": [
       "<Figure size 432x288 with 1 Axes>"
      ]
     },
     "metadata": {
      "needs_background": "light"
     },
     "output_type": "display_data"
    }
   ],
   "source": [
    "data['ceiling_height'].hist(range=(2, 4.5))"
   ]
  },
  {
   "cell_type": "markdown",
   "metadata": {},
   "source": [
    "**Вывод:** Большинство значений, обозначающих высоту потолка сосредоточены в диапазоне от 2.2 до 4.5м, однако есть заметное на \"ящике с усами\" количество значений и до 6м и даже есть значения в районе 8, 10, 14м. Изучим уникальные значения свыше 4.5 м и ниже 2м (эти точно аномальные, учитывая рост человека). "
   ]
  },
  {
   "cell_type": "code",
   "execution_count": 377,
   "metadata": {
    "scrolled": true
   },
   "outputs": [
    {
     "data": {
      "text/plain": [
       "27.00     8\n",
       "25.00     7\n",
       "8.00      3\n",
       "4.70      2\n",
       "5.30      2\n",
       "32.00     2\n",
       "14.00     1\n",
       "4.80      1\n",
       "4.65      1\n",
       "1.20      1\n",
       "6.00      1\n",
       "8.30      1\n",
       "100.00    1\n",
       "5.60      1\n",
       "5.80      1\n",
       "5.50      1\n",
       "20.00     1\n",
       "5.20      1\n",
       "10.30     1\n",
       "1.75      1\n",
       "5.00      1\n",
       "26.00     1\n",
       "4.90      1\n",
       "22.60     1\n",
       "27.50     1\n",
       "24.00     1\n",
       "1.00      1\n",
       "Name: ceiling_height, dtype: int64"
      ]
     },
     "execution_count": 377,
     "metadata": {},
     "output_type": "execute_result"
    }
   ],
   "source": [
    "data.loc[(data['ceiling_height'] < 2) | (data['ceiling_height'] > 4.5), 'ceiling_height'].value_counts() #.reset_index()"
   ]
  },
  {
   "cell_type": "markdown",
   "metadata": {},
   "source": [
    "**Вывод:** По высотам потолков 25 м и 32 м и т.п. логично предположить, что на самом деле это вещественные значения: 2.5 м и 3.2 м и т.п. Так как есть несколько значений в районе 10м, то предположим, что и явная аномалия в 100м также требует деления на 10. "
   ]
  },
  {
   "cell_type": "code",
   "execution_count": 378,
   "metadata": {},
   "outputs": [],
   "source": [
    "max_ceiling_height = 14\n",
    "\n",
    "# запрос (логическое выражение для отбора нужных строк): \n",
    "q_ceiling_is_too_high = data.ceiling_height > max_ceiling_height\n",
    "\n",
    "# корректируем значения\n",
    "data.loc[q_ceiling_is_too_high, 'ceiling_height'] = data.loc[q_ceiling_is_too_high, 'ceiling_height'] / 10"
   ]
  },
  {
   "cell_type": "code",
   "execution_count": 379,
   "metadata": {},
   "outputs": [
    {
     "data": {
      "text/plain": [
       "8.00     3\n",
       "4.70     2\n",
       "5.30     2\n",
       "5.00     1\n",
       "5.80     1\n",
       "10.30    1\n",
       "5.50     1\n",
       "5.20     1\n",
       "10.00    1\n",
       "14.00    1\n",
       "5.60     1\n",
       "4.90     1\n",
       "8.30     1\n",
       "6.00     1\n",
       "4.80     1\n",
       "4.65     1\n",
       "Name: ceiling_height, dtype: int64"
      ]
     },
     "execution_count": 379,
     "metadata": {},
     "output_type": "execute_result"
    }
   ],
   "source": [
    "data.loc[data['ceiling_height'] > 4.5, 'ceiling_height'].value_counts() # проверяем результат"
   ]
  },
  {
   "cell_type": "markdown",
   "metadata": {},
   "source": [
    "**Вывод:** Что касается высот потолков ниже 2м (1, 1.2, 1.75) - они явно не совместимы с реальной жизнью, поэтому такие значения удалим."
   ]
  },
  {
   "cell_type": "code",
   "execution_count": 380,
   "metadata": {},
   "outputs": [],
   "source": [
    "data = data[(data['ceiling_height'] != 1) & (data['ceiling_height'] != 1.2) & (data['ceiling_height'] != 1.75)]\n",
    "#data = data.query('ceiling_height >=2') "
   ]
  },
  {
   "cell_type": "code",
   "execution_count": 381,
   "metadata": {},
   "outputs": [
    {
     "data": {
      "text/plain": [
       "Series([], Name: ceiling_height, dtype: int64)"
      ]
     },
     "execution_count": 381,
     "metadata": {},
     "output_type": "execute_result"
    }
   ],
   "source": [
    "data.loc[(data['ceiling_height'] < 2), 'ceiling_height'].value_counts() # проверяем удаление строк"
   ]
  },
  {
   "cell_type": "markdown",
   "metadata": {},
   "source": [
    "**Еще немного работы с пропусками, после того, как мы удалили аномалии в столбце с высотой потолков:**"
   ]
  },
  {
   "cell_type": "markdown",
   "metadata": {},
   "source": [
    "Средняя высота потолков может разниться, исходя из типа застройки в разных населенных пунктах, поэтому заполнить пропуски в этом столбце нужно медианным значением по каждому типу из столбца locality_name. "
   ]
  },
  {
   "cell_type": "code",
   "execution_count": 382,
   "metadata": {},
   "outputs": [
    {
     "data": {
      "text/html": [
       "<div>\n",
       "<style scoped>\n",
       "    .dataframe tbody tr th:only-of-type {\n",
       "        vertical-align: middle;\n",
       "    }\n",
       "\n",
       "    .dataframe tbody tr th {\n",
       "        vertical-align: top;\n",
       "    }\n",
       "\n",
       "    .dataframe thead th {\n",
       "        text-align: right;\n",
       "    }\n",
       "</style>\n",
       "<table border=\"1\" class=\"dataframe\">\n",
       "  <thead>\n",
       "    <tr style=\"text-align: right;\">\n",
       "      <th></th>\n",
       "      <th>count</th>\n",
       "      <th>median</th>\n",
       "    </tr>\n",
       "    <tr>\n",
       "      <th>locality_name</th>\n",
       "      <th></th>\n",
       "      <th></th>\n",
       "    </tr>\n",
       "  </thead>\n",
       "  <tbody>\n",
       "    <tr>\n",
       "      <th>Бокситогорск</th>\n",
       "      <td>2</td>\n",
       "      <td>3.900</td>\n",
       "    </tr>\n",
       "    <tr>\n",
       "      <th>Ропша</th>\n",
       "      <td>1</td>\n",
       "      <td>3.200</td>\n",
       "    </tr>\n",
       "    <tr>\n",
       "      <th>Ваганово</th>\n",
       "      <td>2</td>\n",
       "      <td>3.150</td>\n",
       "    </tr>\n",
       "    <tr>\n",
       "      <th>Глинка</th>\n",
       "      <td>2</td>\n",
       "      <td>3.100</td>\n",
       "    </tr>\n",
       "    <tr>\n",
       "      <th>Счастье</th>\n",
       "      <td>1</td>\n",
       "      <td>3.000</td>\n",
       "    </tr>\n",
       "    <tr>\n",
       "      <th>Каськово</th>\n",
       "      <td>1</td>\n",
       "      <td>3.000</td>\n",
       "    </tr>\n",
       "    <tr>\n",
       "      <th>Бор</th>\n",
       "      <td>1</td>\n",
       "      <td>2.950</td>\n",
       "    </tr>\n",
       "    <tr>\n",
       "      <th>unknown</th>\n",
       "      <td>14</td>\n",
       "      <td>2.875</td>\n",
       "    </tr>\n",
       "    <tr>\n",
       "      <th>Лисий Нос</th>\n",
       "      <td>2</td>\n",
       "      <td>2.850</td>\n",
       "    </tr>\n",
       "    <tr>\n",
       "      <th>Новоселье</th>\n",
       "      <td>12</td>\n",
       "      <td>2.800</td>\n",
       "    </tr>\n",
       "    <tr>\n",
       "      <th>Репино</th>\n",
       "      <td>4</td>\n",
       "      <td>2.775</td>\n",
       "    </tr>\n",
       "    <tr>\n",
       "      <th>Александровская</th>\n",
       "      <td>1</td>\n",
       "      <td>2.770</td>\n",
       "    </tr>\n",
       "    <tr>\n",
       "      <th>Заневка</th>\n",
       "      <td>4</td>\n",
       "      <td>2.750</td>\n",
       "    </tr>\n",
       "    <tr>\n",
       "      <th>Мистолово</th>\n",
       "      <td>3</td>\n",
       "      <td>2.750</td>\n",
       "    </tr>\n",
       "    <tr>\n",
       "      <th>Куттузи</th>\n",
       "      <td>3</td>\n",
       "      <td>2.750</td>\n",
       "    </tr>\n",
       "    <tr>\n",
       "      <th>Кудрово</th>\n",
       "      <td>195</td>\n",
       "      <td>2.750</td>\n",
       "    </tr>\n",
       "    <tr>\n",
       "      <th>Новая Ропша</th>\n",
       "      <td>1</td>\n",
       "      <td>2.750</td>\n",
       "    </tr>\n",
       "    <tr>\n",
       "      <th>Кальтино</th>\n",
       "      <td>2</td>\n",
       "      <td>2.750</td>\n",
       "    </tr>\n",
       "    <tr>\n",
       "      <th>Синявино</th>\n",
       "      <td>12</td>\n",
       "      <td>2.750</td>\n",
       "    </tr>\n",
       "    <tr>\n",
       "      <th>Юкки</th>\n",
       "      <td>4</td>\n",
       "      <td>2.725</td>\n",
       "    </tr>\n",
       "    <tr>\n",
       "      <th>Кикерино</th>\n",
       "      <td>4</td>\n",
       "      <td>2.700</td>\n",
       "    </tr>\n",
       "    <tr>\n",
       "      <th>Колтуши</th>\n",
       "      <td>7</td>\n",
       "      <td>2.700</td>\n",
       "    </tr>\n",
       "    <tr>\n",
       "      <th>Старая</th>\n",
       "      <td>41</td>\n",
       "      <td>2.700</td>\n",
       "    </tr>\n",
       "    <tr>\n",
       "      <th>Кивеннапа Север</th>\n",
       "      <td>1</td>\n",
       "      <td>2.700</td>\n",
       "    </tr>\n",
       "    <tr>\n",
       "      <th>Дубровка</th>\n",
       "      <td>7</td>\n",
       "      <td>2.700</td>\n",
       "    </tr>\n",
       "    <tr>\n",
       "      <th>Лукаши</th>\n",
       "      <td>1</td>\n",
       "      <td>2.700</td>\n",
       "    </tr>\n",
       "    <tr>\n",
       "      <th>Мины</th>\n",
       "      <td>1</td>\n",
       "      <td>2.700</td>\n",
       "    </tr>\n",
       "    <tr>\n",
       "      <th>Мурино</th>\n",
       "      <td>228</td>\n",
       "      <td>2.700</td>\n",
       "    </tr>\n",
       "    <tr>\n",
       "      <th>Нижняя</th>\n",
       "      <td>1</td>\n",
       "      <td>2.700</td>\n",
       "    </tr>\n",
       "    <tr>\n",
       "      <th>Всеволожск</th>\n",
       "      <td>272</td>\n",
       "      <td>2.700</td>\n",
       "    </tr>\n",
       "    <tr>\n",
       "      <th>Почап</th>\n",
       "      <td>1</td>\n",
       "      <td>2.700</td>\n",
       "    </tr>\n",
       "    <tr>\n",
       "      <th>Тайцы</th>\n",
       "      <td>1</td>\n",
       "      <td>2.700</td>\n",
       "    </tr>\n",
       "    <tr>\n",
       "      <th>Борисова Грива</th>\n",
       "      <td>1</td>\n",
       "      <td>2.700</td>\n",
       "    </tr>\n",
       "    <tr>\n",
       "      <th>Сестрорецк</th>\n",
       "      <td>129</td>\n",
       "      <td>2.700</td>\n",
       "    </tr>\n",
       "    <tr>\n",
       "      <th>Санкт-Петербург</th>\n",
       "      <td>10102</td>\n",
       "      <td>2.700</td>\n",
       "    </tr>\n",
       "    <tr>\n",
       "      <th>Торфяное</th>\n",
       "      <td>3</td>\n",
       "      <td>2.700</td>\n",
       "    </tr>\n",
       "    <tr>\n",
       "      <th>Ульяновка</th>\n",
       "      <td>8</td>\n",
       "      <td>2.700</td>\n",
       "    </tr>\n",
       "    <tr>\n",
       "      <th>Вартемяги</th>\n",
       "      <td>11</td>\n",
       "      <td>2.700</td>\n",
       "    </tr>\n",
       "    <tr>\n",
       "      <th>Пансионат Зелёный Бор</th>\n",
       "      <td>1</td>\n",
       "      <td>2.700</td>\n",
       "    </tr>\n",
       "    <tr>\n",
       "      <th>Новое Девяткино</th>\n",
       "      <td>97</td>\n",
       "      <td>2.700</td>\n",
       "    </tr>\n",
       "    <tr>\n",
       "      <th>Суйда</th>\n",
       "      <td>2</td>\n",
       "      <td>2.675</td>\n",
       "    </tr>\n",
       "    <tr>\n",
       "      <th>Петровское</th>\n",
       "      <td>4</td>\n",
       "      <td>2.650</td>\n",
       "    </tr>\n",
       "    <tr>\n",
       "      <th>Малое Карлино</th>\n",
       "      <td>4</td>\n",
       "      <td>2.650</td>\n",
       "    </tr>\n",
       "    <tr>\n",
       "      <th>Новогорелово</th>\n",
       "      <td>3</td>\n",
       "      <td>2.650</td>\n",
       "    </tr>\n",
       "    <tr>\n",
       "      <th>Щеглово</th>\n",
       "      <td>7</td>\n",
       "      <td>2.650</td>\n",
       "    </tr>\n",
       "    <tr>\n",
       "      <th>Ефимовский</th>\n",
       "      <td>1</td>\n",
       "      <td>2.650</td>\n",
       "    </tr>\n",
       "    <tr>\n",
       "      <th>Ильичёво</th>\n",
       "      <td>7</td>\n",
       "      <td>2.650</td>\n",
       "    </tr>\n",
       "    <tr>\n",
       "      <th>Зимитицы</th>\n",
       "      <td>2</td>\n",
       "      <td>2.650</td>\n",
       "    </tr>\n",
       "    <tr>\n",
       "      <th>Янино-1</th>\n",
       "      <td>29</td>\n",
       "      <td>2.650</td>\n",
       "    </tr>\n",
       "    <tr>\n",
       "      <th>Вахнова Кара</th>\n",
       "      <td>1</td>\n",
       "      <td>2.650</td>\n",
       "    </tr>\n",
       "  </tbody>\n",
       "</table>\n",
       "</div>"
      ],
      "text/plain": [
       "                       count  median\n",
       "locality_name                       \n",
       "Бокситогорск               2   3.900\n",
       "Ропша                      1   3.200\n",
       "Ваганово                   2   3.150\n",
       "Глинка                     2   3.100\n",
       "Счастье                    1   3.000\n",
       "Каськово                   1   3.000\n",
       "Бор                        1   2.950\n",
       "unknown                   14   2.875\n",
       "Лисий Нос                  2   2.850\n",
       "Новоселье                 12   2.800\n",
       "Репино                     4   2.775\n",
       "Александровская            1   2.770\n",
       "Заневка                    4   2.750\n",
       "Мистолово                  3   2.750\n",
       "Куттузи                    3   2.750\n",
       "Кудрово                  195   2.750\n",
       "Новая Ропша                1   2.750\n",
       "Кальтино                   2   2.750\n",
       "Синявино                  12   2.750\n",
       "Юкки                       4   2.725\n",
       "Кикерино                   4   2.700\n",
       "Колтуши                    7   2.700\n",
       "Старая                    41   2.700\n",
       "Кивеннапа Север            1   2.700\n",
       "Дубровка                   7   2.700\n",
       "Лукаши                     1   2.700\n",
       "Мины                       1   2.700\n",
       "Мурино                   228   2.700\n",
       "Нижняя                     1   2.700\n",
       "Всеволожск               272   2.700\n",
       "Почап                      1   2.700\n",
       "Тайцы                      1   2.700\n",
       "Борисова Грива             1   2.700\n",
       "Сестрорецк               129   2.700\n",
       "Санкт-Петербург        10102   2.700\n",
       "Торфяное                   3   2.700\n",
       "Ульяновка                  8   2.700\n",
       "Вартемяги                 11   2.700\n",
       "Пансионат Зелёный Бор      1   2.700\n",
       "Новое Девяткино           97   2.700\n",
       "Суйда                      2   2.675\n",
       "Петровское                 4   2.650\n",
       "Малое Карлино              4   2.650\n",
       "Новогорелово               3   2.650\n",
       "Щеглово                    7   2.650\n",
       "Ефимовский                 1   2.650\n",
       "Ильичёво                   7   2.650\n",
       "Зимитицы                   2   2.650\n",
       "Янино-1                   29   2.650\n",
       "Вахнова Кара               1   2.650"
      ]
     },
     "execution_count": 382,
     "metadata": {},
     "output_type": "execute_result"
    },
    {
     "data": {
      "text/plain": [
       "2.55"
      ]
     },
     "execution_count": 382,
     "metadata": {},
     "output_type": "execute_result"
    },
    {
     "data": {
      "text/plain": [
       "2.65"
      ]
     },
     "execution_count": 382,
     "metadata": {},
     "output_type": "execute_result"
    },
    {
     "data": {
      "text/plain": [
       "2.6500000000000004"
      ]
     },
     "execution_count": 382,
     "metadata": {},
     "output_type": "execute_result"
    }
   ],
   "source": [
    "# Можно было бы предположить, что высота потолков более всего зависит от расстояния до центра СПб (так как там, как правило, высокие потолки), однако топ 50 ниже это опровергает.\n",
    "# Но тут важно понимать, что в СПб очень большое кол-во объектов и даже при большом (относительно пригорода) кол-ве домов с высокими потолками медиана всё равно будет ниже, так как гораздо большее кол-во домов строились по советским стандартам \n",
    "# Можно было бы для дальнейших целей использовать медианы по каждому нас. пункту, но, к сожалению, выборки по некоторым слишком малы, поэтому следует укрупнить группы\n",
    "\n",
    "data.groupby('locality_name')['ceiling_height'].agg(['count', 'median']).sort_values('median', axis=0, ascending=False).head(50)\n",
    "#первый вариант медианы для заполнения пропусков\n",
    "median_of_each_town_median = data.groupby('locality_name')['ceiling_height'].median().median()\n",
    "median_of_each_town_median\n",
    "#второй вариант медианы для заполнения пропусков\n",
    "data['ceiling_height'].median()\n",
    "#третий вариант медианы для заполнения пропусков\n",
    "suburbs_median = data.loc[data['locality_name'] != \"Санкт-Петербург\", 'ceiling_height'].median()\n",
    "bigcity_median = data.loc[data['locality_name'] == \"Санкт-Петербург\", 'ceiling_height'].median()\n",
    "bigcity_suburbs_median = (suburbs_median + bigcity_median) / 2\n",
    "bigcity_suburbs_median"
   ]
  },
  {
   "cell_type": "code",
   "execution_count": 383,
   "metadata": {},
   "outputs": [
    {
     "data": {
      "text/plain": [
       "0.4166944433367784"
      ]
     },
     "execution_count": 383,
     "metadata": {},
     "output_type": "execute_result"
    },
    {
     "data": {
      "text/plain": [
       "-0.31875352603975704"
      ]
     },
     "execution_count": 383,
     "metadata": {},
     "output_type": "execute_result"
    },
    {
     "data": {
      "text/plain": [
       "0.3480064530249608"
      ]
     },
     "execution_count": 383,
     "metadata": {},
     "output_type": "execute_result"
    }
   ],
   "source": [
    "# добавил для наглядности примеры самой сильной линейной связи между высотой потолков и другими параметрами из датасета\n",
    "\n",
    "data['ceiling_height'].corr(data['total_area'])\n",
    "data['ceiling_height'].corr(data['city_centers_nearest'])\n",
    "data['ceiling_height'].corr(data['last_price'])"
   ]
  },
  {
   "cell_type": "code",
   "execution_count": 384,
   "metadata": {},
   "outputs": [],
   "source": [
    "for t in data['locality_name'].unique():\n",
    "    data.loc[(data['locality_name'] == t) & (data['ceiling_height'].isna()), 'ceiling_height'] = \\\n",
    "    data.loc[(data['locality_name'] == t), 'ceiling_height'].median()"
   ]
  },
  {
   "cell_type": "code",
   "execution_count": 385,
   "metadata": {},
   "outputs": [
    {
     "data": {
      "text/plain": [
       "total_images                0\n",
       "last_price                  0\n",
       "total_area                  0\n",
       "first_day_exposition        0\n",
       "rooms                       0\n",
       "ceiling_height             95\n",
       "floors_total               86\n",
       "living_area              1903\n",
       "floor                       0\n",
       "is_apartment                0\n",
       "studio                      0\n",
       "open_plan                   0\n",
       "kitchen_area             2278\n",
       "balcony                     0\n",
       "locality_name               0\n",
       "airports_nearest         5541\n",
       "city_centers_nearest     5518\n",
       "parks_around3000            0\n",
       "parks_nearest           15618\n",
       "ponds_around3000            0\n",
       "ponds_nearest           14588\n",
       "days_exposition          3181\n",
       "dtype: int64"
      ]
     },
     "execution_count": 385,
     "metadata": {},
     "output_type": "execute_result"
    }
   ],
   "source": [
    "data.isna().sum()"
   ]
  },
  {
   "cell_type": "markdown",
   "metadata": {},
   "source": [
    "**Минимальное значение в столбце с кол-вом комнат 0 тоже вызывает озабоченность, изучим подробнее:**"
   ]
  },
  {
   "cell_type": "code",
   "execution_count": 386,
   "metadata": {},
   "outputs": [
    {
     "data": {
      "text/plain": [
       "array([ 0,  1,  2,  3,  4,  5,  6,  7,  8,  9, 10, 11, 12, 14, 15, 16, 19])"
      ]
     },
     "execution_count": 386,
     "metadata": {},
     "output_type": "execute_result"
    }
   ],
   "source": [
    "data['rooms'].sort_values().unique()"
   ]
  },
  {
   "cell_type": "code",
   "execution_count": 387,
   "metadata": {
    "scrolled": false
   },
   "outputs": [
    {
     "data": {
      "text/html": [
       "<div>\n",
       "<style scoped>\n",
       "    .dataframe tbody tr th:only-of-type {\n",
       "        vertical-align: middle;\n",
       "    }\n",
       "\n",
       "    .dataframe tbody tr th {\n",
       "        vertical-align: top;\n",
       "    }\n",
       "\n",
       "    .dataframe thead tr th {\n",
       "        text-align: left;\n",
       "    }\n",
       "\n",
       "    .dataframe thead tr:last-of-type th {\n",
       "        text-align: right;\n",
       "    }\n",
       "</style>\n",
       "<table border=\"1\" class=\"dataframe\">\n",
       "  <thead>\n",
       "    <tr>\n",
       "      <th></th>\n",
       "      <th colspan=\"2\" halign=\"left\">total_area</th>\n",
       "      <th colspan=\"2\" halign=\"left\">studio</th>\n",
       "    </tr>\n",
       "    <tr>\n",
       "      <th></th>\n",
       "      <th>count</th>\n",
       "      <th>median</th>\n",
       "      <th>sum</th>\n",
       "      <th>mean</th>\n",
       "    </tr>\n",
       "    <tr>\n",
       "      <th>rooms</th>\n",
       "      <th></th>\n",
       "      <th></th>\n",
       "      <th></th>\n",
       "      <th></th>\n",
       "    </tr>\n",
       "  </thead>\n",
       "  <tbody>\n",
       "    <tr>\n",
       "      <th>0</th>\n",
       "      <td>197</td>\n",
       "      <td>26.05</td>\n",
       "      <td>138</td>\n",
       "      <td>0.700508</td>\n",
       "    </tr>\n",
       "    <tr>\n",
       "      <th>1</th>\n",
       "      <td>8046</td>\n",
       "      <td>36.53</td>\n",
       "      <td>11</td>\n",
       "      <td>0.001367</td>\n",
       "    </tr>\n",
       "    <tr>\n",
       "      <th>2</th>\n",
       "      <td>7938</td>\n",
       "      <td>53.00</td>\n",
       "      <td>0</td>\n",
       "      <td>0.000000</td>\n",
       "    </tr>\n",
       "    <tr>\n",
       "      <th>3</th>\n",
       "      <td>5814</td>\n",
       "      <td>73.00</td>\n",
       "      <td>0</td>\n",
       "      <td>0.000000</td>\n",
       "    </tr>\n",
       "    <tr>\n",
       "      <th>4</th>\n",
       "      <td>1180</td>\n",
       "      <td>99.30</td>\n",
       "      <td>0</td>\n",
       "      <td>0.000000</td>\n",
       "    </tr>\n",
       "    <tr>\n",
       "      <th>5</th>\n",
       "      <td>326</td>\n",
       "      <td>146.45</td>\n",
       "      <td>0</td>\n",
       "      <td>0.000000</td>\n",
       "    </tr>\n",
       "    <tr>\n",
       "      <th>6</th>\n",
       "      <td>105</td>\n",
       "      <td>184.30</td>\n",
       "      <td>0</td>\n",
       "      <td>0.000000</td>\n",
       "    </tr>\n",
       "    <tr>\n",
       "      <th>7</th>\n",
       "      <td>59</td>\n",
       "      <td>214.00</td>\n",
       "      <td>0</td>\n",
       "      <td>0.000000</td>\n",
       "    </tr>\n",
       "    <tr>\n",
       "      <th>8</th>\n",
       "      <td>12</td>\n",
       "      <td>235.70</td>\n",
       "      <td>0</td>\n",
       "      <td>0.000000</td>\n",
       "    </tr>\n",
       "    <tr>\n",
       "      <th>9</th>\n",
       "      <td>8</td>\n",
       "      <td>300.95</td>\n",
       "      <td>0</td>\n",
       "      <td>0.000000</td>\n",
       "    </tr>\n",
       "    <tr>\n",
       "      <th>10</th>\n",
       "      <td>3</td>\n",
       "      <td>272.60</td>\n",
       "      <td>0</td>\n",
       "      <td>0.000000</td>\n",
       "    </tr>\n",
       "    <tr>\n",
       "      <th>11</th>\n",
       "      <td>2</td>\n",
       "      <td>188.90</td>\n",
       "      <td>0</td>\n",
       "      <td>0.000000</td>\n",
       "    </tr>\n",
       "    <tr>\n",
       "      <th>12</th>\n",
       "      <td>1</td>\n",
       "      <td>900.00</td>\n",
       "      <td>0</td>\n",
       "      <td>0.000000</td>\n",
       "    </tr>\n",
       "    <tr>\n",
       "      <th>14</th>\n",
       "      <td>2</td>\n",
       "      <td>304.20</td>\n",
       "      <td>0</td>\n",
       "      <td>0.000000</td>\n",
       "    </tr>\n",
       "    <tr>\n",
       "      <th>15</th>\n",
       "      <td>1</td>\n",
       "      <td>590.00</td>\n",
       "      <td>0</td>\n",
       "      <td>0.000000</td>\n",
       "    </tr>\n",
       "    <tr>\n",
       "      <th>16</th>\n",
       "      <td>1</td>\n",
       "      <td>270.00</td>\n",
       "      <td>0</td>\n",
       "      <td>0.000000</td>\n",
       "    </tr>\n",
       "    <tr>\n",
       "      <th>19</th>\n",
       "      <td>1</td>\n",
       "      <td>374.60</td>\n",
       "      <td>0</td>\n",
       "      <td>0.000000</td>\n",
       "    </tr>\n",
       "  </tbody>\n",
       "</table>\n",
       "</div>"
      ],
      "text/plain": [
       "      total_area         studio          \n",
       "           count  median    sum      mean\n",
       "rooms                                    \n",
       "0            197   26.05    138  0.700508\n",
       "1           8046   36.53     11  0.001367\n",
       "2           7938   53.00      0  0.000000\n",
       "3           5814   73.00      0  0.000000\n",
       "4           1180   99.30      0  0.000000\n",
       "5            326  146.45      0  0.000000\n",
       "6            105  184.30      0  0.000000\n",
       "7             59  214.00      0  0.000000\n",
       "8             12  235.70      0  0.000000\n",
       "9              8  300.95      0  0.000000\n",
       "10             3  272.60      0  0.000000\n",
       "11             2  188.90      0  0.000000\n",
       "12             1  900.00      0  0.000000\n",
       "14             2  304.20      0  0.000000\n",
       "15             1  590.00      0  0.000000\n",
       "16             1  270.00      0  0.000000\n",
       "19             1  374.60      0  0.000000"
      ]
     },
     "execution_count": 387,
     "metadata": {},
     "output_type": "execute_result"
    },
    {
     "data": {
      "text/plain": [
       "149"
      ]
     },
     "execution_count": 387,
     "metadata": {},
     "output_type": "execute_result"
    }
   ],
   "source": [
    "data.groupby('rooms').agg({'total_area': ['count', 'median'], 'studio': ['sum', 'mean']})\n",
    "data['studio'].sum()"
   ]
  },
  {
   "cell_type": "markdown",
   "metadata": {},
   "source": [
    "138 из 197 строк с 0 комнат имеют признак True в столбце \"студия\". Возможно таким образом (через 0 комнат пытались обозначить студию)"
   ]
  },
  {
   "cell_type": "code",
   "execution_count": 388,
   "metadata": {},
   "outputs": [
    {
     "data": {
      "text/plain": [
       "0"
      ]
     },
     "execution_count": 388,
     "metadata": {},
     "output_type": "execute_result"
    }
   ],
   "source": [
    "data.duplicated().sum() # подсчёт явных дубликатов"
   ]
  },
  {
   "cell_type": "markdown",
   "metadata": {},
   "source": [
    "**Вывод:** Дубликатов нет, идем дальше."
   ]
  },
  {
   "cell_type": "markdown",
   "metadata": {},
   "source": [
    "### 3 Добавление в таблицу новых столбцов"
   ]
  },
  {
   "cell_type": "markdown",
   "metadata": {},
   "source": [
    "Добавим в таблицу новые столбцы для дальнейшего исследования зависимостей"
   ]
  },
  {
   "cell_type": "code",
   "execution_count": 389,
   "metadata": {},
   "outputs": [],
   "source": [
    "data['sqm_price'] = (data['last_price'] / data['total_area']).round(2) # цена за квадратный метр\n",
    "data['weekday_exposition'] = data['first_day_exposition'].dt.weekday # день недели публикации: 0-пнд, 1-вт и т.д.\n",
    "data['month_exposition'] = data['first_day_exposition'].dt.month # месяц публикации (1-январь и т.д.)\n",
    "data['year_exposition'] = data['first_day_exposition'].dt.year # год публикации\n",
    "\n",
    "#для категоризации данных об этаже создадим функцию (так как требуются данные из 2 разных столбцов - функция будет перебирать строки)\n",
    "def categorize_floor(row):\n",
    "    floor = row['floor']\n",
    "    floors_total = row['floors_total']\n",
    "    try:\n",
    "        if floor == 1:\n",
    "            return 'первый'\n",
    "        elif floor == floors_total:\n",
    "            return 'последний'\n",
    "        return 'другой'\n",
    "    except:\n",
    "        return 'unknown'\n",
    "    \n",
    "data['floor_category'] = data.apply(categorize_floor, axis=1) # тип этажа (1й, последний или другой)\n",
    "data['city_centers_km'] = (data['city_centers_nearest'] / 1000).round() # расстояние до центра в км"
   ]
  },
  {
   "cell_type": "code",
   "execution_count": 390,
   "metadata": {},
   "outputs": [
    {
     "data": {
      "text/html": [
       "<div>\n",
       "<style scoped>\n",
       "    .dataframe tbody tr th:only-of-type {\n",
       "        vertical-align: middle;\n",
       "    }\n",
       "\n",
       "    .dataframe tbody tr th {\n",
       "        vertical-align: top;\n",
       "    }\n",
       "\n",
       "    .dataframe thead th {\n",
       "        text-align: right;\n",
       "    }\n",
       "</style>\n",
       "<table border=\"1\" class=\"dataframe\">\n",
       "  <thead>\n",
       "    <tr style=\"text-align: right;\">\n",
       "      <th></th>\n",
       "      <th>total_images</th>\n",
       "      <th>last_price</th>\n",
       "      <th>total_area</th>\n",
       "      <th>first_day_exposition</th>\n",
       "      <th>rooms</th>\n",
       "      <th>ceiling_height</th>\n",
       "      <th>floors_total</th>\n",
       "      <th>living_area</th>\n",
       "      <th>floor</th>\n",
       "      <th>is_apartment</th>\n",
       "      <th>...</th>\n",
       "      <th>parks_nearest</th>\n",
       "      <th>ponds_around3000</th>\n",
       "      <th>ponds_nearest</th>\n",
       "      <th>days_exposition</th>\n",
       "      <th>sqm_price</th>\n",
       "      <th>weekday_exposition</th>\n",
       "      <th>month_exposition</th>\n",
       "      <th>year_exposition</th>\n",
       "      <th>floor_category</th>\n",
       "      <th>city_centers_km</th>\n",
       "    </tr>\n",
       "  </thead>\n",
       "  <tbody>\n",
       "    <tr>\n",
       "      <th>0</th>\n",
       "      <td>20</td>\n",
       "      <td>13000000</td>\n",
       "      <td>108.0</td>\n",
       "      <td>2019-03-07</td>\n",
       "      <td>3</td>\n",
       "      <td>2.70</td>\n",
       "      <td>16.0</td>\n",
       "      <td>51.0</td>\n",
       "      <td>8</td>\n",
       "      <td>False</td>\n",
       "      <td>...</td>\n",
       "      <td>482.0</td>\n",
       "      <td>2</td>\n",
       "      <td>755.0</td>\n",
       "      <td>NaN</td>\n",
       "      <td>120370.37</td>\n",
       "      <td>3</td>\n",
       "      <td>3</td>\n",
       "      <td>2019</td>\n",
       "      <td>другой</td>\n",
       "      <td>16.0</td>\n",
       "    </tr>\n",
       "    <tr>\n",
       "      <th>1</th>\n",
       "      <td>7</td>\n",
       "      <td>3350000</td>\n",
       "      <td>40.4</td>\n",
       "      <td>2018-12-04</td>\n",
       "      <td>1</td>\n",
       "      <td>2.63</td>\n",
       "      <td>11.0</td>\n",
       "      <td>18.6</td>\n",
       "      <td>1</td>\n",
       "      <td>False</td>\n",
       "      <td>...</td>\n",
       "      <td>NaN</td>\n",
       "      <td>0</td>\n",
       "      <td>NaN</td>\n",
       "      <td>81.0</td>\n",
       "      <td>82920.79</td>\n",
       "      <td>1</td>\n",
       "      <td>12</td>\n",
       "      <td>2018</td>\n",
       "      <td>первый</td>\n",
       "      <td>19.0</td>\n",
       "    </tr>\n",
       "    <tr>\n",
       "      <th>2</th>\n",
       "      <td>10</td>\n",
       "      <td>5196000</td>\n",
       "      <td>56.0</td>\n",
       "      <td>2015-08-20</td>\n",
       "      <td>2</td>\n",
       "      <td>2.70</td>\n",
       "      <td>5.0</td>\n",
       "      <td>34.3</td>\n",
       "      <td>4</td>\n",
       "      <td>False</td>\n",
       "      <td>...</td>\n",
       "      <td>90.0</td>\n",
       "      <td>2</td>\n",
       "      <td>574.0</td>\n",
       "      <td>558.0</td>\n",
       "      <td>92785.71</td>\n",
       "      <td>3</td>\n",
       "      <td>8</td>\n",
       "      <td>2015</td>\n",
       "      <td>другой</td>\n",
       "      <td>14.0</td>\n",
       "    </tr>\n",
       "    <tr>\n",
       "      <th>3</th>\n",
       "      <td>0</td>\n",
       "      <td>64900000</td>\n",
       "      <td>159.0</td>\n",
       "      <td>2015-07-24</td>\n",
       "      <td>3</td>\n",
       "      <td>2.70</td>\n",
       "      <td>14.0</td>\n",
       "      <td>NaN</td>\n",
       "      <td>9</td>\n",
       "      <td>False</td>\n",
       "      <td>...</td>\n",
       "      <td>84.0</td>\n",
       "      <td>3</td>\n",
       "      <td>234.0</td>\n",
       "      <td>424.0</td>\n",
       "      <td>408176.10</td>\n",
       "      <td>4</td>\n",
       "      <td>7</td>\n",
       "      <td>2015</td>\n",
       "      <td>другой</td>\n",
       "      <td>7.0</td>\n",
       "    </tr>\n",
       "    <tr>\n",
       "      <th>4</th>\n",
       "      <td>2</td>\n",
       "      <td>10000000</td>\n",
       "      <td>100.0</td>\n",
       "      <td>2018-06-19</td>\n",
       "      <td>2</td>\n",
       "      <td>3.03</td>\n",
       "      <td>14.0</td>\n",
       "      <td>32.0</td>\n",
       "      <td>13</td>\n",
       "      <td>False</td>\n",
       "      <td>...</td>\n",
       "      <td>112.0</td>\n",
       "      <td>1</td>\n",
       "      <td>48.0</td>\n",
       "      <td>121.0</td>\n",
       "      <td>100000.00</td>\n",
       "      <td>1</td>\n",
       "      <td>6</td>\n",
       "      <td>2018</td>\n",
       "      <td>другой</td>\n",
       "      <td>8.0</td>\n",
       "    </tr>\n",
       "  </tbody>\n",
       "</table>\n",
       "<p>5 rows × 28 columns</p>\n",
       "</div>"
      ],
      "text/plain": [
       "   total_images  last_price  total_area first_day_exposition  rooms  \\\n",
       "0            20    13000000       108.0           2019-03-07      3   \n",
       "1             7     3350000        40.4           2018-12-04      1   \n",
       "2            10     5196000        56.0           2015-08-20      2   \n",
       "3             0    64900000       159.0           2015-07-24      3   \n",
       "4             2    10000000       100.0           2018-06-19      2   \n",
       "\n",
       "   ceiling_height  floors_total  living_area  floor  is_apartment  ...  \\\n",
       "0            2.70          16.0         51.0      8         False  ...   \n",
       "1            2.63          11.0         18.6      1         False  ...   \n",
       "2            2.70           5.0         34.3      4         False  ...   \n",
       "3            2.70          14.0          NaN      9         False  ...   \n",
       "4            3.03          14.0         32.0     13         False  ...   \n",
       "\n",
       "   parks_nearest  ponds_around3000  ponds_nearest  days_exposition  sqm_price  \\\n",
       "0          482.0                 2          755.0              NaN  120370.37   \n",
       "1            NaN                 0            NaN             81.0   82920.79   \n",
       "2           90.0                 2          574.0            558.0   92785.71   \n",
       "3           84.0                 3          234.0            424.0  408176.10   \n",
       "4          112.0                 1           48.0            121.0  100000.00   \n",
       "\n",
       "   weekday_exposition  month_exposition  year_exposition  floor_category  \\\n",
       "0                   3                 3             2019          другой   \n",
       "1                   1                12             2018          первый   \n",
       "2                   3                 8             2015          другой   \n",
       "3                   4                 7             2015          другой   \n",
       "4                   1                 6             2018          другой   \n",
       "\n",
       "   city_centers_km  \n",
       "0             16.0  \n",
       "1             19.0  \n",
       "2             14.0  \n",
       "3              7.0  \n",
       "4              8.0  \n",
       "\n",
       "[5 rows x 28 columns]"
      ]
     },
     "execution_count": 390,
     "metadata": {},
     "output_type": "execute_result"
    }
   ],
   "source": [
    "data.head() # проверяем корректность добавления столбцов"
   ]
  },
  {
   "cell_type": "markdown",
   "metadata": {},
   "source": [
    "### 4 Исследовательский анализ данных"
   ]
  },
  {
   "cell_type": "markdown",
   "metadata": {},
   "source": [
    "**1.  Подробнее изучим параметры объектов**"
   ]
  },
  {
   "cell_type": "markdown",
   "metadata": {},
   "source": [
    "- общая площадь;\n",
    "- жилая площадь;\n",
    "- площадь кухни;\n",
    "- цена объекта;\n",
    "- количество комнат;\n",
    "- высота потолков;\n",
    "- этаж квартиры;\n",
    "- тип этажа квартиры («первый», «последний», «другой»);\n",
    "- общее количество этажей в доме;\n",
    "- расстояние до центра города в метрах;\n",
    "- расстояние до ближайшего аэропорта;\n",
    "- расстояние до ближайшего парка;\n",
    "- день и месяц публикации объявления.\n",
    "\n",
    "Построим отдельные гистограммы для каждого из этих параметров. "
   ]
  },
  {
   "cell_type": "code",
   "execution_count": 391,
   "metadata": {
    "scrolled": true
   },
   "outputs": [
    {
     "data": {
      "text/plain": [
       "count    23696.000000\n",
       "mean        60.350476\n",
       "std         35.655896\n",
       "min         12.000000\n",
       "25%         40.000000\n",
       "50%         52.000000\n",
       "75%         69.900000\n",
       "max        900.000000\n",
       "Name: total_area, dtype: float64"
      ]
     },
     "execution_count": 391,
     "metadata": {},
     "output_type": "execute_result"
    },
    {
     "data": {
      "text/plain": [
       "<AxesSubplot:>"
      ]
     },
     "execution_count": 391,
     "metadata": {},
     "output_type": "execute_result"
    },
    {
     "data": {
      "image/png": "[encoded data removed]",
      "text/plain": [
       "<Figure size 432x288 with 1 Axes>"
      ]
     },
     "metadata": {
      "needs_background": "light"
     },
     "output_type": "display_data"
    },
    {
     "data": {
      "text/plain": [
       "<AxesSubplot:>"
      ]
     },
     "execution_count": 391,
     "metadata": {},
     "output_type": "execute_result"
    },
    {
     "data": {
      "image/png": "[encoded data removed]",
      "text/plain": [
       "<Figure size 432x288 with 1 Axes>"
      ]
     },
     "metadata": {
      "needs_background": "light"
     },
     "output_type": "display_data"
    },
    {
     "data": {
      "text/plain": [
       "<AxesSubplot:>"
      ]
     },
     "execution_count": 391,
     "metadata": {},
     "output_type": "execute_result"
    },
    {
     "data": {
      "image/png": "[encoded data removed]",
      "text/plain": [
       "<Figure size 432x288 with 1 Axes>"
      ]
     },
     "metadata": {
      "needs_background": "light"
     },
     "output_type": "display_data"
    }
   ],
   "source": [
    "import matplotlib.pyplot as plt\n",
    "\n",
    "data['total_area'].describe()\n",
    "data['total_area'].hist(range=(0, 350))\n",
    "plt.show()\n",
    "data['total_area'].hist(range=(0, 60))\n",
    "plt.show()\n",
    "data['total_area'].hist(range=(60, 150))"
   ]
  },
  {
   "cell_type": "markdown",
   "metadata": {},
   "source": [
    "**Вывод:** Большая часть объявлений сосредоточена на площадях 30 до 80 квадратных метров. До 30 метров объявлений достаточно мало, что немного удивляет на фоне новостроек, заполненных студиями. Возможно в датасете только объявения по вторичке, а переуступки и подобное не учитываются. Квадратуры свыше 80 встречаются достаточно часто, но с ростом площади все менее и менее распространены. Где-то от 175 - 200 кв.м вправо тянется длинный хвост редких значений/аномалий."
   ]
  },
  {
   "cell_type": "code",
   "execution_count": 392,
   "metadata": {
    "scrolled": true
   },
   "outputs": [
    {
     "data": {
      "text/plain": [
       "count    21793.000000\n",
       "mean        34.459049\n",
       "std         22.031604\n",
       "min          2.000000\n",
       "25%         18.600000\n",
       "50%         30.000000\n",
       "75%         42.300000\n",
       "max        409.700000\n",
       "Name: living_area, dtype: float64"
      ]
     },
     "execution_count": 392,
     "metadata": {},
     "output_type": "execute_result"
    },
    {
     "data": {
      "text/plain": [
       "<AxesSubplot:>"
      ]
     },
     "execution_count": 392,
     "metadata": {},
     "output_type": "execute_result"
    },
    {
     "data": {
      "image/png": "[encoded data removed]",
      "text/plain": [
       "<Figure size 432x288 with 1 Axes>"
      ]
     },
     "metadata": {
      "needs_background": "light"
     },
     "output_type": "display_data"
    },
    {
     "data": {
      "text/plain": [
       "<AxesSubplot:>"
      ]
     },
     "execution_count": 392,
     "metadata": {},
     "output_type": "execute_result"
    },
    {
     "data": {
      "image/png": "[encoded data removed]",
      "text/plain": [
       "<Figure size 432x288 with 1 Axes>"
      ]
     },
     "metadata": {
      "needs_background": "light"
     },
     "output_type": "display_data"
    },
    {
     "data": {
      "text/plain": [
       "<AxesSubplot:>"
      ]
     },
     "execution_count": 392,
     "metadata": {},
     "output_type": "execute_result"
    },
    {
     "data": {
      "image/png": "[encoded data removed]",
      "text/plain": [
       "<Figure size 432x288 with 1 Axes>"
      ]
     },
     "metadata": {
      "needs_background": "light"
     },
     "output_type": "display_data"
    },
    {
     "data": {
      "text/plain": [
       "0.9395372164632472"
      ]
     },
     "execution_count": 392,
     "metadata": {},
     "output_type": "execute_result"
    },
    {
     "data": {
      "text/plain": [
       "0.428663236842772"
      ]
     },
     "execution_count": 392,
     "metadata": {},
     "output_type": "execute_result"
    }
   ],
   "source": [
    "data['living_area'].describe()\n",
    "data['living_area'].hist(range=(0, 200))\n",
    "plt.show()\n",
    "data['living_area'].hist(range=(0, 25))\n",
    "plt.show()\n",
    "data['living_area'].hist(range=(25, 60))\n",
    "plt.show()\n",
    "data['living_area'].corr(data['total_area'])\n",
    "data['living_area'].corr(data['kitchen_area'])"
   ]
  },
  {
   "cell_type": "markdown",
   "metadata": {},
   "source": [
    "**Вывод:** Большая часть объявлений сосредоточена на жилых площадях от 15 до 60 квадратных метров. До 15 метров объявлений достаточно мало, до 10м - скорее аномалии. Локальные пики в районе 30 и 40-45м возможно связаны с типовыми квадратурами жил пдощади при разных планировках/кол-вах комнат. Где-то от 120 - 140 кв.м вправо тянется длинный хвост редких значений/аномалий. Изучили линейную взаимосвязь жилой площади с общей и площадью кухни. У жилой лощади и общей уровень корреляции близкий к 1, что говорит о том, что при увеличении общей площади практически пропорционально растет площадь жилых помещенй, то есть в большинстве случаев рост общей площади означает соответствующий рост жилой площади, а вот площадь кухни у больших квартир не всегда будет выше, чем у более скромных (это логично, ведь в типовых домах есть вариации 1, 2, 3 и т.д. квартир, при этом планировка кухни у них может быть одинаковой). Поэтому корреляция между жилой и кухонной площадью менее 0.5."
   ]
  },
  {
   "cell_type": "code",
   "execution_count": 393,
   "metadata": {
    "scrolled": true
   },
   "outputs": [
    {
     "data": {
      "text/plain": [
       "count    21418.000000\n",
       "mean        10.570189\n",
       "std          5.905717\n",
       "min          1.300000\n",
       "25%          7.000000\n",
       "50%          9.100000\n",
       "75%         12.000000\n",
       "max        112.000000\n",
       "Name: kitchen_area, dtype: float64"
      ]
     },
     "execution_count": 393,
     "metadata": {},
     "output_type": "execute_result"
    },
    {
     "data": {
      "text/plain": [
       "<AxesSubplot:>"
      ]
     },
     "execution_count": 393,
     "metadata": {},
     "output_type": "execute_result"
    },
    {
     "data": {
      "image/png": "[encoded data removed]",
      "text/plain": [
       "<Figure size 432x288 with 1 Axes>"
      ]
     },
     "metadata": {
      "needs_background": "light"
     },
     "output_type": "display_data"
    },
    {
     "data": {
      "text/plain": [
       "<AxesSubplot:>"
      ]
     },
     "execution_count": 393,
     "metadata": {},
     "output_type": "execute_result"
    },
    {
     "data": {
      "image/png": "[encoded data removed]",
      "text/plain": [
       "<Figure size 432x288 with 1 Axes>"
      ]
     },
     "metadata": {
      "needs_background": "light"
     },
     "output_type": "display_data"
    },
    {
     "data": {
      "text/plain": [
       "<AxesSubplot:>"
      ]
     },
     "execution_count": 393,
     "metadata": {},
     "output_type": "execute_result"
    },
    {
     "data": {
      "image/png": "[encoded data removed]",
      "text/plain": [
       "<Figure size 432x288 with 1 Axes>"
      ]
     },
     "metadata": {
      "needs_background": "light"
     },
     "output_type": "display_data"
    },
    {
     "data": {
      "text/plain": [
       "0.6091112575055264"
      ]
     },
     "execution_count": 393,
     "metadata": {},
     "output_type": "execute_result"
    }
   ],
   "source": [
    "data['kitchen_area'].describe()\n",
    "data['kitchen_area'].hist(range=(0, 60))\n",
    "plt.show()\n",
    "data['kitchen_area'].hist(range=(0, 10))\n",
    "plt.show()\n",
    "data['kitchen_area'].hist(range=(10, 20))\n",
    "plt.show()\n",
    "data['kitchen_area'].corr(data['total_area'])"
   ]
  },
  {
   "cell_type": "markdown",
   "metadata": {},
   "source": [
    "**Вывод:** Большая часть объявлений сосредоточена на жилых площадях от 6 до 16 квадратных метров. С 4 до 5 метров объявлений достаточно мало, но они есть, а до 4м - скорее аномалии. Где-то от 40 кв.м вправо тянется длинный хвост редких значений/аномалий. Как описано в выводе по площади жилых помещений, рост площади кухни менее линейно связан с ростои общей площади, что показывает корреляция в районе 0.6. Что также наводит на мысль о том, что у нас могут быть в теории 2 идентичные по прочим характеристикам (локации, кол-ву комнат и т.п.) квартиры с одинаковой общей площадью, но при этом доля этой площади, относящаяся к кухне у одной из квартир может быть больше и скорее всего квадратный метр такой квартиры будет цениться выше. Вернемся к этому предположению позже при изучении факторов, влияющих на цену квартиры."
   ]
  },
  {
   "cell_type": "code",
   "execution_count": 394,
   "metadata": {
    "scrolled": true
   },
   "outputs": [
    {
     "data": {
      "text/plain": [
       "count    2.369600e+04\n",
       "mean     6.541887e+06\n",
       "std      1.088764e+07\n",
       "min      1.219000e+04\n",
       "25%      3.400000e+06\n",
       "50%      4.650000e+06\n",
       "75%      6.800000e+06\n",
       "max      7.630000e+08\n",
       "Name: last_price, dtype: float64"
      ]
     },
     "execution_count": 394,
     "metadata": {},
     "output_type": "execute_result"
    },
    {
     "data": {
      "text/plain": [
       "<AxesSubplot:>"
      ]
     },
     "execution_count": 394,
     "metadata": {},
     "output_type": "execute_result"
    },
    {
     "data": {
      "image/png": "[encoded data removed]",
      "text/plain": [
       "<Figure size 432x288 with 1 Axes>"
      ]
     },
     "metadata": {
      "needs_background": "light"
     },
     "output_type": "display_data"
    },
    {
     "data": {
      "text/plain": [
       "<AxesSubplot:>"
      ]
     },
     "execution_count": 394,
     "metadata": {},
     "output_type": "execute_result"
    },
    {
     "data": {
      "image/png": "[encoded data removed]",
      "text/plain": [
       "<Figure size 432x288 with 1 Axes>"
      ]
     },
     "metadata": {
      "needs_background": "light"
     },
     "output_type": "display_data"
    },
    {
     "data": {
      "text/plain": [
       "<AxesSubplot:>"
      ]
     },
     "execution_count": 394,
     "metadata": {},
     "output_type": "execute_result"
    },
    {
     "data": {
      "image/png": "[encoded data removed]",
      "text/plain": [
       "<Figure size 432x288 with 1 Axes>"
      ]
     },
     "metadata": {
      "needs_background": "light"
     },
     "output_type": "display_data"
    },
    {
     "data": {
      "text/html": [
       "<div>\n",
       "<style scoped>\n",
       "    .dataframe tbody tr th:only-of-type {\n",
       "        vertical-align: middle;\n",
       "    }\n",
       "\n",
       "    .dataframe tbody tr th {\n",
       "        vertical-align: top;\n",
       "    }\n",
       "\n",
       "    .dataframe thead th {\n",
       "        text-align: right;\n",
       "    }\n",
       "</style>\n",
       "<table border=\"1\" class=\"dataframe\">\n",
       "  <thead>\n",
       "    <tr style=\"text-align: right;\">\n",
       "      <th></th>\n",
       "      <th>total_images</th>\n",
       "      <th>last_price</th>\n",
       "      <th>total_area</th>\n",
       "      <th>first_day_exposition</th>\n",
       "      <th>rooms</th>\n",
       "      <th>ceiling_height</th>\n",
       "      <th>floors_total</th>\n",
       "      <th>living_area</th>\n",
       "      <th>floor</th>\n",
       "      <th>is_apartment</th>\n",
       "      <th>...</th>\n",
       "      <th>parks_nearest</th>\n",
       "      <th>ponds_around3000</th>\n",
       "      <th>ponds_nearest</th>\n",
       "      <th>days_exposition</th>\n",
       "      <th>sqm_price</th>\n",
       "      <th>weekday_exposition</th>\n",
       "      <th>month_exposition</th>\n",
       "      <th>year_exposition</th>\n",
       "      <th>floor_category</th>\n",
       "      <th>city_centers_km</th>\n",
       "    </tr>\n",
       "  </thead>\n",
       "  <tbody>\n",
       "    <tr>\n",
       "      <th>8793</th>\n",
       "      <td>7</td>\n",
       "      <td>12190</td>\n",
       "      <td>109.0</td>\n",
       "      <td>2019-03-20</td>\n",
       "      <td>2</td>\n",
       "      <td>2.75</td>\n",
       "      <td>25.0</td>\n",
       "      <td>32.0</td>\n",
       "      <td>25</td>\n",
       "      <td>False</td>\n",
       "      <td>...</td>\n",
       "      <td>805.0</td>\n",
       "      <td>0</td>\n",
       "      <td>NaN</td>\n",
       "      <td>8.0</td>\n",
       "      <td>111.83</td>\n",
       "      <td>2</td>\n",
       "      <td>3</td>\n",
       "      <td>2019</td>\n",
       "      <td>последний</td>\n",
       "      <td>9.0</td>\n",
       "    </tr>\n",
       "  </tbody>\n",
       "</table>\n",
       "<p>1 rows × 28 columns</p>\n",
       "</div>"
      ],
      "text/plain": [
       "      total_images  last_price  total_area first_day_exposition  rooms  \\\n",
       "8793             7       12190       109.0           2019-03-20      2   \n",
       "\n",
       "      ceiling_height  floors_total  living_area  floor  is_apartment  ...  \\\n",
       "8793            2.75          25.0         32.0     25         False  ...   \n",
       "\n",
       "      parks_nearest  ponds_around3000  ponds_nearest  days_exposition  \\\n",
       "8793          805.0                 0            NaN              8.0   \n",
       "\n",
       "     sqm_price  weekday_exposition  month_exposition  year_exposition  \\\n",
       "8793    111.83                   2                 3             2019   \n",
       "\n",
       "      floor_category  city_centers_km  \n",
       "8793       последний              9.0  \n",
       "\n",
       "[1 rows x 28 columns]"
      ]
     },
     "execution_count": 394,
     "metadata": {},
     "output_type": "execute_result"
    },
    {
     "data": {
      "text/plain": [
       "8793    Санкт-Петербург\n",
       "Name: locality_name, dtype: object"
      ]
     },
     "execution_count": 394,
     "metadata": {},
     "output_type": "execute_result"
    }
   ],
   "source": [
    "data['last_price'].describe()\n",
    "data['last_price'].hist(range=(0, 5e7))\n",
    "plt.show()\n",
    "data['last_price'].hist(range=(0, 1e7))\n",
    "plt.show()\n",
    "data['last_price'].hist(range=(0, 1e6))\n",
    "plt.show()\n",
    "data.query('last_price < 4e5')\n",
    "data.loc[data['last_price'] < 4e5, 'locality_name']"
   ]
  },
  {
   "cell_type": "markdown",
   "metadata": {},
   "source": [
    "**Вывод:** Большая часть объявлений сосредоточена на ценах от 2 до 7 млн. руб. Цены до 2млн. встречаются реже, начинаясь от 400000, а вот возле нуля явно какой-то выброс/аномалия - изучим поподробнее. Оказывается это всего 1 объявление и с ним очевидно что-то не так - бело бы целесообразным направить его в качестве примера для баг-репорта коллегам. Цена всего 12190 руб., что нереально. При этом общая площадь 109 кв.м, 2 комнаты, Санкт-петербург, 9км от центра. Можно было бы предположить, что это опечатка и указана цена за метр (правда даже ее надо умножить на 10 для реалистичности), либо указана цена не в руб. а в тыс. руб., такое тоже встречается иногда. Можно рассмотреть медианы значений цен по известным нам характеристикам данной квартиры, чтобы оценить правдоподобность ошибки. Где-то от 30 млн. вправо тянется длинный хвост редких значений/аномалий."
   ]
  },
  {
   "cell_type": "code",
   "execution_count": 395,
   "metadata": {
    "scrolled": true
   },
   "outputs": [
    {
     "data": {
      "text/plain": [
       "count    23696.000000\n",
       "mean         2.070687\n",
       "std          1.078450\n",
       "min          0.000000\n",
       "25%          1.000000\n",
       "50%          2.000000\n",
       "75%          3.000000\n",
       "max         19.000000\n",
       "Name: rooms, dtype: float64"
      ]
     },
     "execution_count": 395,
     "metadata": {},
     "output_type": "execute_result"
    },
    {
     "data": {
      "text/plain": [
       "<AxesSubplot:>"
      ]
     },
     "execution_count": 395,
     "metadata": {},
     "output_type": "execute_result"
    },
    {
     "data": {
      "image/png": "[encoded data removed]",
      "text/plain": [
       "<Figure size 432x288 with 1 Axes>"
      ]
     },
     "metadata": {
      "needs_background": "light"
     },
     "output_type": "display_data"
    },
    {
     "data": {
      "text/plain": [
       "<AxesSubplot:>"
      ]
     },
     "execution_count": 395,
     "metadata": {},
     "output_type": "execute_result"
    },
    {
     "data": {
      "image/png": "[encoded data removed]",
      "text/plain": [
       "<Figure size 432x288 with 1 Axes>"
      ]
     },
     "metadata": {
      "needs_background": "light"
     },
     "output_type": "display_data"
    }
   ],
   "source": [
    "data['rooms'].describe()\n",
    "data['rooms'].hist(range=(0, 10))\n",
    "plt.show()\n",
    "data['rooms'].hist(range=(0, 3))"
   ]
  },
  {
   "cell_type": "markdown",
   "metadata": {},
   "source": [
    "**Вывод:** Большая часть объявлений сосредоточена на квартирах от 1 до 4 комнат. Есть небольшой выброс в 0 комнат, но мы рассматривали этот вопрос ранее и скорее всего большую часть этих квартир можно перевести в 1 комнатные (студии), либо удалить, так как доля их невелика. Где-то от 6-7 комнат вправо тянется хвост редких значений/аномалий."
   ]
  },
  {
   "cell_type": "code",
   "execution_count": 396,
   "metadata": {
    "scrolled": true
   },
   "outputs": [
    {
     "data": {
      "text/plain": [
       "count    23601.000000\n",
       "mean         2.706082\n",
       "std          0.257324\n",
       "min          2.000000\n",
       "25%          2.550000\n",
       "50%          2.700000\n",
       "75%          2.700000\n",
       "max         14.000000\n",
       "Name: ceiling_height, dtype: float64"
      ]
     },
     "execution_count": 396,
     "metadata": {},
     "output_type": "execute_result"
    },
    {
     "data": {
      "text/plain": [
       "<AxesSubplot:>"
      ]
     },
     "execution_count": 396,
     "metadata": {},
     "output_type": "execute_result"
    },
    {
     "data": {
      "image/png": "[encoded data removed]",
      "text/plain": [
       "<Figure size 432x288 with 1 Axes>"
      ]
     },
     "metadata": {
      "needs_background": "light"
     },
     "output_type": "display_data"
    },
    {
     "data": {
      "text/plain": [
       "<AxesSubplot:>"
      ]
     },
     "execution_count": 396,
     "metadata": {},
     "output_type": "execute_result"
    },
    {
     "data": {
      "image/png": "[encoded data removed]",
      "text/plain": [
       "<Figure size 432x288 with 1 Axes>"
      ]
     },
     "metadata": {
      "needs_background": "light"
     },
     "output_type": "display_data"
    }
   ],
   "source": [
    "data['ceiling_height'].describe()\n",
    "data['ceiling_height'].hist(range=(2, 4.5))\n",
    "plt.show()\n",
    "data['ceiling_height'].hist(range=(2.5, 3))"
   ]
  },
  {
   "cell_type": "markdown",
   "metadata": {},
   "source": [
    "**Вывод:** Большая часть объявлений сосредоточена на квартирах со стандартными более менее современными потолками: от 2.5м до 2.75. Совсем крупные или наоборот мелкие аномалии мы удалили ранее. Где-то от 3.5м вправо до значения в 14м тянется хвост редких значений/аномалий."
   ]
  },
  {
   "cell_type": "code",
   "execution_count": 397,
   "metadata": {
    "scrolled": true
   },
   "outputs": [
    {
     "data": {
      "text/plain": [
       "count    23696.000000\n",
       "mean         5.892556\n",
       "std          4.885446\n",
       "min          1.000000\n",
       "25%          2.000000\n",
       "50%          4.000000\n",
       "75%          8.000000\n",
       "max         33.000000\n",
       "Name: floor, dtype: float64"
      ]
     },
     "execution_count": 397,
     "metadata": {},
     "output_type": "execute_result"
    },
    {
     "data": {
      "text/plain": [
       "<AxesSubplot:>"
      ]
     },
     "execution_count": 397,
     "metadata": {},
     "output_type": "execute_result"
    },
    {
     "data": {
      "image/png": "[encoded data removed]",
      "text/plain": [
       "<Figure size 432x288 with 1 Axes>"
      ]
     },
     "metadata": {
      "needs_background": "light"
     },
     "output_type": "display_data"
    },
    {
     "data": {
      "text/plain": [
       "<AxesSubplot:>"
      ]
     },
     "execution_count": 397,
     "metadata": {},
     "output_type": "execute_result"
    },
    {
     "data": {
      "image/png": "[encoded data removed]",
      "text/plain": [
       "<Figure size 432x288 with 1 Axes>"
      ]
     },
     "metadata": {
      "needs_background": "light"
     },
     "output_type": "display_data"
    },
    {
     "data": {
      "text/plain": [
       "<AxesSubplot:>"
      ]
     },
     "execution_count": 397,
     "metadata": {},
     "output_type": "execute_result"
    },
    {
     "data": {
      "image/png": "[encoded data removed]",
      "text/plain": [
       "<Figure size 432x288 with 1 Axes>"
      ]
     },
     "metadata": {
      "needs_background": "light"
     },
     "output_type": "display_data"
    }
   ],
   "source": [
    "data['floor'].describe()\n",
    "data['floor'].hist(range=(0, 35))\n",
    "plt.show()\n",
    "data['floor'].hist(range=(0, 12))\n",
    "plt.show()\n",
    "data['floor'].hist(range=(20, 35))"
   ]
  },
  {
   "cell_type": "markdown",
   "metadata": {},
   "source": [
    "**Вывод:** Большая часть объявлений сосредоточена на квартирах в домах со стандартными позднесоветскими или новыми девелоперскими этажностями: от 1 до 10 этажей. Этажности свыше 10 пока что не занимают и 10%, но девелоперы работают над этим, строя дома-миллионники. Где-то от 28 этажей вправо тянется хвост редких значений/аномалий."
   ]
  },
  {
   "cell_type": "code",
   "execution_count": 398,
   "metadata": {},
   "outputs": [
    {
     "data": {
      "text/plain": [
       "count      23696\n",
       "unique         3\n",
       "top       другой\n",
       "freq       17444\n",
       "Name: floor_category, dtype: object"
      ]
     },
     "execution_count": 398,
     "metadata": {},
     "output_type": "execute_result"
    },
    {
     "data": {
      "text/plain": [
       "<AxesSubplot:>"
      ]
     },
     "execution_count": 398,
     "metadata": {},
     "output_type": "execute_result"
    },
    {
     "data": {
      "image/png": "[encoded data removed]",
      "text/plain": [
       "<Figure size 432x288 with 1 Axes>"
      ]
     },
     "metadata": {
      "needs_background": "light"
     },
     "output_type": "display_data"
    }
   ],
   "source": [
    "data['floor_category'].describe()\n",
    "data['floor_category'].hist()"
   ]
  },
  {
   "cell_type": "markdown",
   "metadata": {},
   "source": [
    "**Вывод:** Большая часть объявлений сосредоточена на квартирах не на первом или последнем этажах: во-первых таких этажей впринципе больше в городах, во-вторых они пользуются большей популярностью. Вариантов с последним этажем несколько больше, чем с первым, но на оба приходится всего по 10% (примерно) объявлений."
   ]
  },
  {
   "cell_type": "code",
   "execution_count": 399,
   "metadata": {
    "scrolled": true
   },
   "outputs": [
    {
     "data": {
      "text/plain": [
       "count    23610.00000\n",
       "mean        10.67302\n",
       "std          6.59512\n",
       "min          1.00000\n",
       "25%          5.00000\n",
       "50%          9.00000\n",
       "75%         16.00000\n",
       "max         60.00000\n",
       "Name: floors_total, dtype: float64"
      ]
     },
     "execution_count": 399,
     "metadata": {},
     "output_type": "execute_result"
    },
    {
     "data": {
      "text/plain": [
       "<AxesSubplot:>"
      ]
     },
     "execution_count": 399,
     "metadata": {},
     "output_type": "execute_result"
    },
    {
     "data": {
      "image/png": "[encoded data removed]",
      "text/plain": [
       "<Figure size 432x288 with 1 Axes>"
      ]
     },
     "metadata": {
      "needs_background": "light"
     },
     "output_type": "display_data"
    },
    {
     "data": {
      "text/plain": [
       "<AxesSubplot:>"
      ]
     },
     "execution_count": 399,
     "metadata": {},
     "output_type": "execute_result"
    },
    {
     "data": {
      "image/png": "[encoded data removed]",
      "text/plain": [
       "<Figure size 432x288 with 1 Axes>"
      ]
     },
     "metadata": {
      "needs_background": "light"
     },
     "output_type": "display_data"
    }
   ],
   "source": [
    "data['floors_total'].describe()\n",
    "data['floors_total'].hist(range=(0, 40))\n",
    "plt.show()\n",
    "data['floors_total'].hist(range=(0, 10))"
   ]
  },
  {
   "cell_type": "markdown",
   "metadata": {},
   "source": [
    "**Вывод:** Характерные пики на 5 и 9 этажах - самая типовая советская этажность в больших городах, следующие пики на 16 этажах (еще один \"привет\" союзу) и на +/- 25 (это уже спальный новострой)"
   ]
  },
  {
   "cell_type": "code",
   "execution_count": 400,
   "metadata": {
    "scrolled": true
   },
   "outputs": [
    {
     "data": {
      "text/plain": [
       "count    18178.000000\n",
       "mean     14190.932446\n",
       "std       8608.734851\n",
       "min        181.000000\n",
       "25%       9238.000000\n",
       "50%      13096.500000\n",
       "75%      16293.000000\n",
       "max      65968.000000\n",
       "Name: city_centers_nearest, dtype: float64"
      ]
     },
     "execution_count": 400,
     "metadata": {},
     "output_type": "execute_result"
    },
    {
     "data": {
      "text/plain": [
       "<AxesSubplot:>"
      ]
     },
     "execution_count": 400,
     "metadata": {},
     "output_type": "execute_result"
    },
    {
     "data": {
      "image/png": "[encoded data removed]",
      "text/plain": [
       "<Figure size 432x288 with 1 Axes>"
      ]
     },
     "metadata": {
      "needs_background": "light"
     },
     "output_type": "display_data"
    },
    {
     "data": {
      "text/plain": [
       "<AxesSubplot:>"
      ]
     },
     "execution_count": 400,
     "metadata": {},
     "output_type": "execute_result"
    },
    {
     "data": {
      "image/png": "[encoded data removed]",
      "text/plain": [
       "<Figure size 432x288 with 1 Axes>"
      ]
     },
     "metadata": {
      "needs_background": "light"
     },
     "output_type": "display_data"
    }
   ],
   "source": [
    "data['city_centers_nearest'].describe()\n",
    "data['city_centers_nearest'].hist()\n",
    "plt.show()\n",
    "data['city_centers_nearest'].hist(range=(0, 2e4))"
   ]
  },
  {
   "cell_type": "markdown",
   "metadata": {},
   "source": [
    "**Вывод:** В топе варианты \"чтобы подешевле, но все еще с метро\" (окраина), потом близко к центру, но не центр и пик уже на загородной недвижимости, чтобы подальше от суеты или побюджетнее (кому что)"
   ]
  },
  {
   "cell_type": "code",
   "execution_count": 401,
   "metadata": {
    "scrolled": true
   },
   "outputs": [
    {
     "data": {
      "text/plain": [
       "count    18155.000000\n",
       "mean     28793.991793\n",
       "std      12631.316063\n",
       "min          0.000000\n",
       "25%      18583.500000\n",
       "50%      26726.000000\n",
       "75%      37274.000000\n",
       "max      84869.000000\n",
       "Name: airports_nearest, dtype: float64"
      ]
     },
     "execution_count": 401,
     "metadata": {},
     "output_type": "execute_result"
    },
    {
     "data": {
      "text/plain": [
       "<AxesSubplot:>"
      ]
     },
     "execution_count": 401,
     "metadata": {},
     "output_type": "execute_result"
    },
    {
     "data": {
      "image/png": "[encoded data removed]",
      "text/plain": [
       "<Figure size 432x288 with 1 Axes>"
      ]
     },
     "metadata": {
      "needs_background": "light"
     },
     "output_type": "display_data"
    },
    {
     "data": {
      "text/plain": [
       "<AxesSubplot:>"
      ]
     },
     "execution_count": 401,
     "metadata": {},
     "output_type": "execute_result"
    },
    {
     "data": {
      "image/png": "[encoded data removed]",
      "text/plain": [
       "<Figure size 432x288 with 1 Axes>"
      ]
     },
     "metadata": {
      "needs_background": "light"
     },
     "output_type": "display_data"
    }
   ],
   "source": [
    "data['airports_nearest'].describe()\n",
    "data['airports_nearest'].hist()\n",
    "plt.show()\n",
    "data['airports_nearest'].hist(range=(0, 2e4))"
   ]
  },
  {
   "cell_type": "markdown",
   "metadata": {},
   "source": [
    "**Вывод:** Совсем уж близко к аэропорту не стремятся, лучше от 10км в сторону"
   ]
  },
  {
   "cell_type": "code",
   "execution_count": 402,
   "metadata": {
    "scrolled": true
   },
   "outputs": [
    {
     "data": {
      "text/plain": [
       "count    8078.000000\n",
       "mean      490.829042\n",
       "std       342.332109\n",
       "min         1.000000\n",
       "25%       288.000000\n",
       "50%       455.000000\n",
       "75%       612.000000\n",
       "max      3190.000000\n",
       "Name: parks_nearest, dtype: float64"
      ]
     },
     "execution_count": 402,
     "metadata": {},
     "output_type": "execute_result"
    },
    {
     "data": {
      "text/plain": [
       "<AxesSubplot:>"
      ]
     },
     "execution_count": 402,
     "metadata": {},
     "output_type": "execute_result"
    },
    {
     "data": {
      "image/png": "[encoded data removed]",
      "text/plain": [
       "<Figure size 432x288 with 1 Axes>"
      ]
     },
     "metadata": {
      "needs_background": "light"
     },
     "output_type": "display_data"
    },
    {
     "data": {
      "text/plain": [
       "<AxesSubplot:>"
      ]
     },
     "execution_count": 402,
     "metadata": {},
     "output_type": "execute_result"
    },
    {
     "data": {
      "image/png": "[encoded data removed]",
      "text/plain": [
       "<Figure size 432x288 with 1 Axes>"
      ]
     },
     "metadata": {
      "needs_background": "light"
     },
     "output_type": "display_data"
    }
   ],
   "source": [
    "data['parks_nearest'].describe()\n",
    "data['parks_nearest'].hist()\n",
    "plt.show()\n",
    "data['parks_nearest'].hist(range=(0, 1000))"
   ]
  },
  {
   "cell_type": "markdown",
   "metadata": {},
   "source": [
    "**Вывод:** Пик в районе 500м от парка наиболее распространенная золотая середина между цивилизацией и природой"
   ]
  },
  {
   "cell_type": "code",
   "execution_count": 403,
   "metadata": {},
   "outputs": [
    {
     "data": {
      "text/plain": [
       "count    23696.000000\n",
       "mean         2.569505\n",
       "std          1.789085\n",
       "min          0.000000\n",
       "25%          1.000000\n",
       "50%          3.000000\n",
       "75%          4.000000\n",
       "max          6.000000\n",
       "Name: weekday_exposition, dtype: float64"
      ]
     },
     "execution_count": 403,
     "metadata": {},
     "output_type": "execute_result"
    },
    {
     "data": {
      "text/plain": [
       "<AxesSubplot:>"
      ]
     },
     "execution_count": 403,
     "metadata": {},
     "output_type": "execute_result"
    },
    {
     "data": {
      "image/png": "[encoded data removed]",
      "text/plain": [
       "<Figure size 432x288 with 1 Axes>"
      ]
     },
     "metadata": {
      "needs_background": "light"
     },
     "output_type": "display_data"
    }
   ],
   "source": [
    "data['weekday_exposition'].describe()\n",
    "data['weekday_exposition'].hist()"
   ]
  },
  {
   "cell_type": "markdown",
   "metadata": {},
   "source": [
    "**Вывод:** Видимо на выходных есть дела поважнее у частных лиц, агенства же на выходных, как правило, не работают"
   ]
  },
  {
   "cell_type": "code",
   "execution_count": 404,
   "metadata": {},
   "outputs": [
    {
     "data": {
      "text/plain": [
       "count    23696.00000\n",
       "mean         6.39973\n",
       "std          3.49161\n",
       "min          1.00000\n",
       "25%          3.00000\n",
       "50%          6.00000\n",
       "75%         10.00000\n",
       "max         12.00000\n",
       "Name: month_exposition, dtype: float64"
      ]
     },
     "execution_count": 404,
     "metadata": {},
     "output_type": "execute_result"
    },
    {
     "data": {
      "text/plain": [
       "<AxesSubplot:>"
      ]
     },
     "execution_count": 404,
     "metadata": {},
     "output_type": "execute_result"
    },
    {
     "data": {
      "image/png": "[encoded data removed]",
      "text/plain": [
       "<Figure size 432x288 with 1 Axes>"
      ]
     },
     "metadata": {
      "needs_background": "light"
     },
     "output_type": "display_data"
    }
   ],
   "source": [
    "data['month_exposition'].describe()\n",
    "data['month_exposition'].hist()"
   ]
  },
  {
   "cell_type": "markdown",
   "metadata": {},
   "source": [
    "**Вывод:** Лично для меня немного удивительный пик на первые месяцы зимы (все-таки новый год, возможно хочется встретить НГ в новом доме или на каникулах появляется время заняться продажей. В остальном понятный спад на майские и лето и постепенный рост осенью"
   ]
  },
  {
   "cell_type": "markdown",
   "metadata": {},
   "source": [
    "**2.  Изучим, как быстро продавались квартиры**"
   ]
  },
  {
   "cell_type": "code",
   "execution_count": 405,
   "metadata": {},
   "outputs": [
    {
     "data": {
      "text/plain": [
       "<AxesSubplot:>"
      ]
     },
     "execution_count": 405,
     "metadata": {},
     "output_type": "execute_result"
    },
    {
     "data": {
      "image/png": "[encoded data removed]",
      "text/plain": [
       "<Figure size 432x288 with 1 Axes>"
      ]
     },
     "metadata": {
      "needs_background": "light"
     },
     "output_type": "display_data"
    },
    {
     "data": {
      "text/plain": [
       "<AxesSubplot:>"
      ]
     },
     "execution_count": 405,
     "metadata": {},
     "output_type": "execute_result"
    },
    {
     "data": {
      "image/png": "[encoded data removed]",
      "text/plain": [
       "<Figure size 432x288 with 1 Axes>"
      ]
     },
     "metadata": {
      "needs_background": "light"
     },
     "output_type": "display_data"
    },
    {
     "data": {
      "text/plain": [
       "<AxesSubplot:>"
      ]
     },
     "execution_count": 405,
     "metadata": {},
     "output_type": "execute_result"
    },
    {
     "data": {
      "image/png": "[encoded data removed]",
      "text/plain": [
       "<Figure size 432x288 with 1 Axes>"
      ]
     },
     "metadata": {
      "needs_background": "light"
     },
     "output_type": "display_data"
    },
    {
     "data": {
      "text/plain": [
       "<AxesSubplot:>"
      ]
     },
     "execution_count": 405,
     "metadata": {},
     "output_type": "execute_result"
    },
    {
     "data": {
      "image/png": "[encoded data removed]",
      "text/plain": [
       "<Figure size 432x288 with 1 Axes>"
      ]
     },
     "metadata": {
      "needs_background": "light"
     },
     "output_type": "display_data"
    },
    {
     "data": {
      "text/plain": [
       "<AxesSubplot:>"
      ]
     },
     "execution_count": 405,
     "metadata": {},
     "output_type": "execute_result"
    },
    {
     "data": {
      "image/png": "[encoded data removed]",
      "text/plain": [
       "<Figure size 432x288 with 1 Axes>"
      ]
     },
     "metadata": {
      "needs_background": "light"
     },
     "output_type": "display_data"
    },
    {
     "data": {
      "text/plain": [
       "<AxesSubplot:>"
      ]
     },
     "execution_count": 405,
     "metadata": {},
     "output_type": "execute_result"
    },
    {
     "data": {
      "image/png": "[encoded data removed]",
      "text/plain": [
       "<Figure size 432x288 with 1 Axes>"
      ]
     },
     "metadata": {
      "needs_background": "light"
     },
     "output_type": "display_data"
    },
    {
     "data": {
      "text/plain": [
       "<AxesSubplot:>"
      ]
     },
     "execution_count": 405,
     "metadata": {},
     "output_type": "execute_result"
    },
    {
     "data": {
      "image/png": "[encoded data removed]",
      "text/plain": [
       "<Figure size 432x288 with 1 Axes>"
      ]
     },
     "metadata": {
      "needs_background": "light"
     },
     "output_type": "display_data"
    }
   ],
   "source": [
    "data['days_exposition'].hist()\n",
    "plt.show()\n",
    "data['days_exposition'].hist(range=(1, 400))\n",
    "plt.show()\n",
    "data['days_exposition'].hist(range=(365, 1600))\n",
    "plt.show()\n",
    "data['days_exposition'].hist(range=(1, 200))\n",
    "plt.show()\n",
    "data['days_exposition'].hist(range=(1, 100))\n",
    "plt.show()\n",
    "data['days_exposition'].hist(range=(1, 28))\n",
    "plt.show()\n",
    "data['days_exposition'].hist(range=(0, 7))"
   ]
  },
  {
   "cell_type": "code",
   "execution_count": 406,
   "metadata": {},
   "outputs": [
    {
     "data": {
      "text/plain": [
       "count    20515.000000\n",
       "mean       180.898903\n",
       "std        219.739089\n",
       "min          1.000000\n",
       "25%         45.000000\n",
       "50%         95.000000\n",
       "75%        232.000000\n",
       "max       1580.000000\n",
       "Name: days_exposition, dtype: float64"
      ]
     },
     "execution_count": 406,
     "metadata": {},
     "output_type": "execute_result"
    }
   ],
   "source": [
    "data['days_exposition'].describe()"
   ]
  },
  {
   "cell_type": "code",
   "execution_count": 407,
   "metadata": {},
   "outputs": [
    {
     "data": {
      "text/plain": [
       "<AxesSubplot:>"
      ]
     },
     "execution_count": 407,
     "metadata": {},
     "output_type": "execute_result"
    },
    {
     "data": {
      "image/png": "[encoded data removed]",
      "text/plain": [
       "<Figure size 432x288 with 1 Axes>"
      ]
     },
     "metadata": {
      "needs_background": "light"
     },
     "output_type": "display_data"
    }
   ],
   "source": [
    "data.boxplot('days_exposition')"
   ]
  },
  {
   "cell_type": "code",
   "execution_count": 408,
   "metadata": {},
   "outputs": [
    {
     "data": {
      "text/html": [
       "<div>\n",
       "<style scoped>\n",
       "    .dataframe tbody tr th:only-of-type {\n",
       "        vertical-align: middle;\n",
       "    }\n",
       "\n",
       "    .dataframe tbody tr th {\n",
       "        vertical-align: top;\n",
       "    }\n",
       "\n",
       "    .dataframe thead th {\n",
       "        text-align: right;\n",
       "    }\n",
       "</style>\n",
       "<table border=\"1\" class=\"dataframe\">\n",
       "  <thead>\n",
       "    <tr style=\"text-align: right;\">\n",
       "      <th></th>\n",
       "      <th>total_images</th>\n",
       "      <th>last_price</th>\n",
       "      <th>total_area</th>\n",
       "      <th>first_day_exposition</th>\n",
       "      <th>rooms</th>\n",
       "      <th>ceiling_height</th>\n",
       "      <th>floors_total</th>\n",
       "      <th>living_area</th>\n",
       "      <th>floor</th>\n",
       "      <th>is_apartment</th>\n",
       "      <th>...</th>\n",
       "      <th>parks_nearest</th>\n",
       "      <th>ponds_around3000</th>\n",
       "      <th>ponds_nearest</th>\n",
       "      <th>days_exposition</th>\n",
       "      <th>sqm_price</th>\n",
       "      <th>weekday_exposition</th>\n",
       "      <th>month_exposition</th>\n",
       "      <th>year_exposition</th>\n",
       "      <th>floor_category</th>\n",
       "      <th>city_centers_km</th>\n",
       "    </tr>\n",
       "  </thead>\n",
       "  <tbody>\n",
       "    <tr>\n",
       "      <th>109</th>\n",
       "      <td>2</td>\n",
       "      <td>7497600</td>\n",
       "      <td>62.5</td>\n",
       "      <td>2015-12-08</td>\n",
       "      <td>2</td>\n",
       "      <td>2.60</td>\n",
       "      <td>5.0</td>\n",
       "      <td>35.5</td>\n",
       "      <td>5</td>\n",
       "      <td>False</td>\n",
       "      <td>...</td>\n",
       "      <td>517.0</td>\n",
       "      <td>0</td>\n",
       "      <td>NaN</td>\n",
       "      <td>1048.0</td>\n",
       "      <td>119961.60</td>\n",
       "      <td>1</td>\n",
       "      <td>12</td>\n",
       "      <td>2015</td>\n",
       "      <td>последний</td>\n",
       "      <td>27.0</td>\n",
       "    </tr>\n",
       "    <tr>\n",
       "      <th>353</th>\n",
       "      <td>4</td>\n",
       "      <td>5990000</td>\n",
       "      <td>43.5</td>\n",
       "      <td>2015-05-08</td>\n",
       "      <td>1</td>\n",
       "      <td>3.00</td>\n",
       "      <td>5.0</td>\n",
       "      <td>25.0</td>\n",
       "      <td>4</td>\n",
       "      <td>False</td>\n",
       "      <td>...</td>\n",
       "      <td>93.0</td>\n",
       "      <td>0</td>\n",
       "      <td>NaN</td>\n",
       "      <td>1292.0</td>\n",
       "      <td>137701.15</td>\n",
       "      <td>4</td>\n",
       "      <td>5</td>\n",
       "      <td>2015</td>\n",
       "      <td>другой</td>\n",
       "      <td>10.0</td>\n",
       "    </tr>\n",
       "    <tr>\n",
       "      <th>398</th>\n",
       "      <td>7</td>\n",
       "      <td>12789000</td>\n",
       "      <td>79.3</td>\n",
       "      <td>2014-12-09</td>\n",
       "      <td>2</td>\n",
       "      <td>3.00</td>\n",
       "      <td>8.0</td>\n",
       "      <td>43.1</td>\n",
       "      <td>5</td>\n",
       "      <td>False</td>\n",
       "      <td>...</td>\n",
       "      <td>537.0</td>\n",
       "      <td>0</td>\n",
       "      <td>NaN</td>\n",
       "      <td>1345.0</td>\n",
       "      <td>161273.64</td>\n",
       "      <td>1</td>\n",
       "      <td>12</td>\n",
       "      <td>2014</td>\n",
       "      <td>другой</td>\n",
       "      <td>11.0</td>\n",
       "    </tr>\n",
       "    <tr>\n",
       "      <th>437</th>\n",
       "      <td>12</td>\n",
       "      <td>3350000</td>\n",
       "      <td>37.0</td>\n",
       "      <td>2015-02-24</td>\n",
       "      <td>1</td>\n",
       "      <td>2.55</td>\n",
       "      <td>6.0</td>\n",
       "      <td>17.8</td>\n",
       "      <td>6</td>\n",
       "      <td>False</td>\n",
       "      <td>...</td>\n",
       "      <td>185.0</td>\n",
       "      <td>1</td>\n",
       "      <td>755.0</td>\n",
       "      <td>1273.0</td>\n",
       "      <td>90540.54</td>\n",
       "      <td>1</td>\n",
       "      <td>2</td>\n",
       "      <td>2015</td>\n",
       "      <td>последний</td>\n",
       "      <td>34.0</td>\n",
       "    </tr>\n",
       "    <tr>\n",
       "      <th>459</th>\n",
       "      <td>13</td>\n",
       "      <td>5200000</td>\n",
       "      <td>51.0</td>\n",
       "      <td>2016-03-02</td>\n",
       "      <td>2</td>\n",
       "      <td>2.55</td>\n",
       "      <td>9.0</td>\n",
       "      <td>32.0</td>\n",
       "      <td>5</td>\n",
       "      <td>False</td>\n",
       "      <td>...</td>\n",
       "      <td>NaN</td>\n",
       "      <td>0</td>\n",
       "      <td>NaN</td>\n",
       "      <td>1153.0</td>\n",
       "      <td>101960.78</td>\n",
       "      <td>2</td>\n",
       "      <td>3</td>\n",
       "      <td>2016</td>\n",
       "      <td>другой</td>\n",
       "      <td>16.0</td>\n",
       "    </tr>\n",
       "    <tr>\n",
       "      <th>...</th>\n",
       "      <td>...</td>\n",
       "      <td>...</td>\n",
       "      <td>...</td>\n",
       "      <td>...</td>\n",
       "      <td>...</td>\n",
       "      <td>...</td>\n",
       "      <td>...</td>\n",
       "      <td>...</td>\n",
       "      <td>...</td>\n",
       "      <td>...</td>\n",
       "      <td>...</td>\n",
       "      <td>...</td>\n",
       "      <td>...</td>\n",
       "      <td>...</td>\n",
       "      <td>...</td>\n",
       "      <td>...</td>\n",
       "      <td>...</td>\n",
       "      <td>...</td>\n",
       "      <td>...</td>\n",
       "      <td>...</td>\n",
       "      <td>...</td>\n",
       "    </tr>\n",
       "    <tr>\n",
       "      <th>23248</th>\n",
       "      <td>5</td>\n",
       "      <td>4900000</td>\n",
       "      <td>80.0</td>\n",
       "      <td>2014-12-25</td>\n",
       "      <td>3</td>\n",
       "      <td>2.70</td>\n",
       "      <td>15.0</td>\n",
       "      <td>47.0</td>\n",
       "      <td>14</td>\n",
       "      <td>False</td>\n",
       "      <td>...</td>\n",
       "      <td>NaN</td>\n",
       "      <td>0</td>\n",
       "      <td>NaN</td>\n",
       "      <td>1187.0</td>\n",
       "      <td>61250.00</td>\n",
       "      <td>3</td>\n",
       "      <td>12</td>\n",
       "      <td>2014</td>\n",
       "      <td>другой</td>\n",
       "      <td>NaN</td>\n",
       "    </tr>\n",
       "    <tr>\n",
       "      <th>23318</th>\n",
       "      <td>6</td>\n",
       "      <td>5620020</td>\n",
       "      <td>82.3</td>\n",
       "      <td>2015-03-10</td>\n",
       "      <td>3</td>\n",
       "      <td>2.70</td>\n",
       "      <td>21.0</td>\n",
       "      <td>45.6</td>\n",
       "      <td>12</td>\n",
       "      <td>False</td>\n",
       "      <td>...</td>\n",
       "      <td>NaN</td>\n",
       "      <td>1</td>\n",
       "      <td>31.0</td>\n",
       "      <td>1200.0</td>\n",
       "      <td>68287.00</td>\n",
       "      <td>1</td>\n",
       "      <td>3</td>\n",
       "      <td>2015</td>\n",
       "      <td>другой</td>\n",
       "      <td>17.0</td>\n",
       "    </tr>\n",
       "    <tr>\n",
       "      <th>23389</th>\n",
       "      <td>6</td>\n",
       "      <td>2850000</td>\n",
       "      <td>40.0</td>\n",
       "      <td>2015-01-26</td>\n",
       "      <td>1</td>\n",
       "      <td>2.60</td>\n",
       "      <td>10.0</td>\n",
       "      <td>19.0</td>\n",
       "      <td>8</td>\n",
       "      <td>False</td>\n",
       "      <td>...</td>\n",
       "      <td>NaN</td>\n",
       "      <td>0</td>\n",
       "      <td>NaN</td>\n",
       "      <td>1012.0</td>\n",
       "      <td>71250.00</td>\n",
       "      <td>0</td>\n",
       "      <td>1</td>\n",
       "      <td>2015</td>\n",
       "      <td>другой</td>\n",
       "      <td>NaN</td>\n",
       "    </tr>\n",
       "    <tr>\n",
       "      <th>23426</th>\n",
       "      <td>17</td>\n",
       "      <td>8778000</td>\n",
       "      <td>47.5</td>\n",
       "      <td>2014-12-29</td>\n",
       "      <td>1</td>\n",
       "      <td>3.00</td>\n",
       "      <td>7.0</td>\n",
       "      <td>NaN</td>\n",
       "      <td>4</td>\n",
       "      <td>False</td>\n",
       "      <td>...</td>\n",
       "      <td>1424.0</td>\n",
       "      <td>3</td>\n",
       "      <td>204.0</td>\n",
       "      <td>1360.0</td>\n",
       "      <td>184800.00</td>\n",
       "      <td>0</td>\n",
       "      <td>12</td>\n",
       "      <td>2014</td>\n",
       "      <td>другой</td>\n",
       "      <td>10.0</td>\n",
       "    </tr>\n",
       "    <tr>\n",
       "      <th>23540</th>\n",
       "      <td>10</td>\n",
       "      <td>1500000</td>\n",
       "      <td>43.7</td>\n",
       "      <td>2016-06-28</td>\n",
       "      <td>2</td>\n",
       "      <td>2.55</td>\n",
       "      <td>3.0</td>\n",
       "      <td>28.0</td>\n",
       "      <td>2</td>\n",
       "      <td>False</td>\n",
       "      <td>...</td>\n",
       "      <td>NaN</td>\n",
       "      <td>0</td>\n",
       "      <td>NaN</td>\n",
       "      <td>1007.0</td>\n",
       "      <td>34324.94</td>\n",
       "      <td>1</td>\n",
       "      <td>6</td>\n",
       "      <td>2016</td>\n",
       "      <td>другой</td>\n",
       "      <td>NaN</td>\n",
       "    </tr>\n",
       "  </tbody>\n",
       "</table>\n",
       "<p>276 rows × 28 columns</p>\n",
       "</div>"
      ],
      "text/plain": [
       "       total_images  last_price  total_area first_day_exposition  rooms  \\\n",
       "109               2     7497600        62.5           2015-12-08      2   \n",
       "353               4     5990000        43.5           2015-05-08      1   \n",
       "398               7    12789000        79.3           2014-12-09      2   \n",
       "437              12     3350000        37.0           2015-02-24      1   \n",
       "459              13     5200000        51.0           2016-03-02      2   \n",
       "...             ...         ...         ...                  ...    ...   \n",
       "23248             5     4900000        80.0           2014-12-25      3   \n",
       "23318             6     5620020        82.3           2015-03-10      3   \n",
       "23389             6     2850000        40.0           2015-01-26      1   \n",
       "23426            17     8778000        47.5           2014-12-29      1   \n",
       "23540            10     1500000        43.7           2016-06-28      2   \n",
       "\n",
       "       ceiling_height  floors_total  living_area  floor  is_apartment  ...  \\\n",
       "109              2.60           5.0         35.5      5         False  ...   \n",
       "353              3.00           5.0         25.0      4         False  ...   \n",
       "398              3.00           8.0         43.1      5         False  ...   \n",
       "437              2.55           6.0         17.8      6         False  ...   \n",
       "459              2.55           9.0         32.0      5         False  ...   \n",
       "...               ...           ...          ...    ...           ...  ...   \n",
       "23248            2.70          15.0         47.0     14         False  ...   \n",
       "23318            2.70          21.0         45.6     12         False  ...   \n",
       "23389            2.60          10.0         19.0      8         False  ...   \n",
       "23426            3.00           7.0          NaN      4         False  ...   \n",
       "23540            2.55           3.0         28.0      2         False  ...   \n",
       "\n",
       "       parks_nearest  ponds_around3000  ponds_nearest  days_exposition  \\\n",
       "109            517.0                 0            NaN           1048.0   \n",
       "353             93.0                 0            NaN           1292.0   \n",
       "398            537.0                 0            NaN           1345.0   \n",
       "437            185.0                 1          755.0           1273.0   \n",
       "459              NaN                 0            NaN           1153.0   \n",
       "...              ...               ...            ...              ...   \n",
       "23248            NaN                 0            NaN           1187.0   \n",
       "23318            NaN                 1           31.0           1200.0   \n",
       "23389            NaN                 0            NaN           1012.0   \n",
       "23426         1424.0                 3          204.0           1360.0   \n",
       "23540            NaN                 0            NaN           1007.0   \n",
       "\n",
       "       sqm_price  weekday_exposition  month_exposition  year_exposition  \\\n",
       "109    119961.60                   1                12             2015   \n",
       "353    137701.15                   4                 5             2015   \n",
       "398    161273.64                   1                12             2014   \n",
       "437     90540.54                   1                 2             2015   \n",
       "459    101960.78                   2                 3             2016   \n",
       "...          ...                 ...               ...              ...   \n",
       "23248   61250.00                   3                12             2014   \n",
       "23318   68287.00                   1                 3             2015   \n",
       "23389   71250.00                   0                 1             2015   \n",
       "23426  184800.00                   0                12             2014   \n",
       "23540   34324.94                   1                 6             2016   \n",
       "\n",
       "       floor_category  city_centers_km  \n",
       "109         последний             27.0  \n",
       "353            другой             10.0  \n",
       "398            другой             11.0  \n",
       "437         последний             34.0  \n",
       "459            другой             16.0  \n",
       "...               ...              ...  \n",
       "23248          другой              NaN  \n",
       "23318          другой             17.0  \n",
       "23389          другой              NaN  \n",
       "23426          другой             10.0  \n",
       "23540          другой              NaN  \n",
       "\n",
       "[276 rows x 28 columns]"
      ]
     },
     "execution_count": 408,
     "metadata": {},
     "output_type": "execute_result"
    }
   ],
   "source": [
    "data.query('days_exposition > 1000')"
   ]
  },
  {
   "cell_type": "markdown",
   "metadata": {},
   "source": [
    "**Вывод:** Более 50% записей приходятся на время экспозиции от 1 до примерно 160 дней. 3/4 продаж состоятся в пределах 232 дней. Согласно \"ящику с усами\" значения после 500 дней можно рассматривать в качестве выбросов, однако сильная разница между медианой и средней в верхнюю сторону и жирная непрерывная линия, лежащая за правым \"усом\", говорят о том, что этих выбросов достаточно значимое кол-во (высокое стандартное отклонение тоже говорит о сильном разбросе данных). Тем не менее, согласно основной гистограмме продаж с экспозицией дольше года уже менее 10%, дольше 1.5 лет - ниже 5%, дольше 2 лет - ниже 2.5%. Что касается аномально быстрых продаж, то это от 1 до 4 дней - менее 1%, однако уже начиная с 5 дней идет рост до 2% и далее до 5-10%. Пик продаж приходится на диапазон 40-60 дней (выше 10% суммарно). Шансы продать квартиру за первй месяц несколько ниже (до 10%), а в последующие после 2х первых месяцы - всё ниже и ниже (5% и ниже). Это всё, естественно, если не учитывать прочие факторы, влияющие на скорость продажи (такие как ликвидность объекта, размер дисконта от рынка и т.п.)."
   ]
  },
  {
   "cell_type": "markdown",
   "metadata": {},
   "source": [
    "Какие продажи можно считать быстрыми, а какие — необычно долгими?\n",
    "\n",
    "Если посмотреть на гистограммы и \"ящик с усами\", то я бы сказал, что аномально быстрые продажи (выбросы) - до 3 дней (почти 0), редкостно быстрые - до 7 дней (менее 1%). Согласно правому \"усу\" ящика значения выше примерно 500 дней можно рассматривать, как выбросы, а согласно гистограммам все, что выше 1000 дней уже аномально долго, так как и доля таких объявлений падает в район 1%. Вообще долгих объявлений многовато, похоже на какую-то тенденцию, а не выбросы, может быть люди не снимают объявления после продажи или выставляют новые, а старые не удаляют. Если же мы говорим не о фильтрации аномалий, то укрупненно я бы назвал продажи до 2-3 месяцев быстрыми, а более длительные - долгими."
   ]
  },
  {
   "cell_type": "markdown",
   "metadata": {},
   "source": [
    "**3.  Сравним, какие факторы больше всего влияют на общую стоимость объекта**"
   ]
  },
  {
   "cell_type": "code",
   "execution_count": 409,
   "metadata": {},
   "outputs": [
    {
     "data": {
      "text/html": [
       "<div>\n",
       "<style scoped>\n",
       "    .dataframe tbody tr th:only-of-type {\n",
       "        vertical-align: middle;\n",
       "    }\n",
       "\n",
       "    .dataframe tbody tr th {\n",
       "        vertical-align: top;\n",
       "    }\n",
       "\n",
       "    .dataframe thead th {\n",
       "        text-align: right;\n",
       "    }\n",
       "</style>\n",
       "<table border=\"1\" class=\"dataframe\">\n",
       "  <thead>\n",
       "    <tr style=\"text-align: right;\">\n",
       "      <th></th>\n",
       "      <th>total_images</th>\n",
       "      <th>last_price</th>\n",
       "      <th>total_area</th>\n",
       "      <th>rooms</th>\n",
       "      <th>ceiling_height</th>\n",
       "      <th>floors_total</th>\n",
       "      <th>living_area</th>\n",
       "      <th>floor</th>\n",
       "      <th>is_apartment</th>\n",
       "      <th>studio</th>\n",
       "      <th>...</th>\n",
       "      <th>parks_around3000</th>\n",
       "      <th>parks_nearest</th>\n",
       "      <th>ponds_around3000</th>\n",
       "      <th>ponds_nearest</th>\n",
       "      <th>days_exposition</th>\n",
       "      <th>sqm_price</th>\n",
       "      <th>weekday_exposition</th>\n",
       "      <th>month_exposition</th>\n",
       "      <th>year_exposition</th>\n",
       "      <th>city_centers_km</th>\n",
       "    </tr>\n",
       "  </thead>\n",
       "  <tbody>\n",
       "    <tr>\n",
       "      <th>total_images</th>\n",
       "      <td>1.000000</td>\n",
       "      <td>0.104457</td>\n",
       "      <td>0.115329</td>\n",
       "      <td>0.099261</td>\n",
       "      <td>0.049835</td>\n",
       "      <td>0.010520</td>\n",
       "      <td>0.104748</td>\n",
       "      <td>0.031290</td>\n",
       "      <td>0.010531</td>\n",
       "      <td>-0.029307</td>\n",
       "      <td>...</td>\n",
       "      <td>0.036952</td>\n",
       "      <td>-0.008276</td>\n",
       "      <td>0.011328</td>\n",
       "      <td>-0.003089</td>\n",
       "      <td>-0.026625</td>\n",
       "      <td>0.132739</td>\n",
       "      <td>-0.010503</td>\n",
       "      <td>0.005050</td>\n",
       "      <td>0.140368</td>\n",
       "      <td>-0.047089</td>\n",
       "    </tr>\n",
       "    <tr>\n",
       "      <th>last_price</th>\n",
       "      <td>0.104457</td>\n",
       "      <td>1.000000</td>\n",
       "      <td>0.653672</td>\n",
       "      <td>0.363342</td>\n",
       "      <td>0.264562</td>\n",
       "      <td>-0.006974</td>\n",
       "      <td>0.566489</td>\n",
       "      <td>0.026556</td>\n",
       "      <td>0.026956</td>\n",
       "      <td>-0.025364</td>\n",
       "      <td>...</td>\n",
       "      <td>0.197848</td>\n",
       "      <td>-0.016428</td>\n",
       "      <td>0.208684</td>\n",
       "      <td>-0.084890</td>\n",
       "      <td>0.081149</td>\n",
       "      <td>0.736505</td>\n",
       "      <td>0.001513</td>\n",
       "      <td>0.002800</td>\n",
       "      <td>-0.043099</td>\n",
       "      <td>-0.206988</td>\n",
       "    </tr>\n",
       "    <tr>\n",
       "      <th>total_area</th>\n",
       "      <td>0.115329</td>\n",
       "      <td>0.653672</td>\n",
       "      <td>1.000000</td>\n",
       "      <td>0.758343</td>\n",
       "      <td>0.343373</td>\n",
       "      <td>-0.075733</td>\n",
       "      <td>0.939537</td>\n",
       "      <td>-0.024779</td>\n",
       "      <td>0.029631</td>\n",
       "      <td>-0.072658</td>\n",
       "      <td>...</td>\n",
       "      <td>0.200220</td>\n",
       "      <td>-0.021520</td>\n",
       "      <td>0.200402</td>\n",
       "      <td>-0.098122</td>\n",
       "      <td>0.149670</td>\n",
       "      <td>0.301951</td>\n",
       "      <td>-0.004748</td>\n",
       "      <td>0.004962</td>\n",
       "      <td>-0.079926</td>\n",
       "      <td>-0.231238</td>\n",
       "    </tr>\n",
       "    <tr>\n",
       "      <th>rooms</th>\n",
       "      <td>0.099261</td>\n",
       "      <td>0.363342</td>\n",
       "      <td>0.758343</td>\n",
       "      <td>1.000000</td>\n",
       "      <td>0.204983</td>\n",
       "      <td>-0.228141</td>\n",
       "      <td>0.845974</td>\n",
       "      <td>-0.150879</td>\n",
       "      <td>0.000397</td>\n",
       "      <td>-0.147293</td>\n",
       "      <td>...</td>\n",
       "      <td>0.157493</td>\n",
       "      <td>-0.054567</td>\n",
       "      <td>0.121422</td>\n",
       "      <td>-0.057894</td>\n",
       "      <td>0.126942</td>\n",
       "      <td>0.055422</td>\n",
       "      <td>-0.004176</td>\n",
       "      <td>-0.004422</td>\n",
       "      <td>-0.055434</td>\n",
       "      <td>-0.184344</td>\n",
       "    </tr>\n",
       "    <tr>\n",
       "      <th>ceiling_height</th>\n",
       "      <td>0.049835</td>\n",
       "      <td>0.264562</td>\n",
       "      <td>0.343373</td>\n",
       "      <td>0.204983</td>\n",
       "      <td>1.000000</td>\n",
       "      <td>-0.036477</td>\n",
       "      <td>0.328196</td>\n",
       "      <td>-0.013313</td>\n",
       "      <td>0.081675</td>\n",
       "      <td>0.013475</td>\n",
       "      <td>...</td>\n",
       "      <td>0.226286</td>\n",
       "      <td>-0.049989</td>\n",
       "      <td>0.202869</td>\n",
       "      <td>-0.104789</td>\n",
       "      <td>0.094940</td>\n",
       "      <td>0.296323</td>\n",
       "      <td>-0.012805</td>\n",
       "      <td>0.002570</td>\n",
       "      <td>-0.057215</td>\n",
       "      <td>-0.297510</td>\n",
       "    </tr>\n",
       "    <tr>\n",
       "      <th>floors_total</th>\n",
       "      <td>0.010520</td>\n",
       "      <td>-0.006974</td>\n",
       "      <td>-0.075733</td>\n",
       "      <td>-0.228141</td>\n",
       "      <td>-0.036477</td>\n",
       "      <td>1.000000</td>\n",
       "      <td>-0.169259</td>\n",
       "      <td>0.678301</td>\n",
       "      <td>-0.026356</td>\n",
       "      <td>0.070187</td>\n",
       "      <td>...</td>\n",
       "      <td>-0.158798</td>\n",
       "      <td>0.097561</td>\n",
       "      <td>-0.049238</td>\n",
       "      <td>0.039637</td>\n",
       "      <td>-0.052134</td>\n",
       "      <td>0.148075</td>\n",
       "      <td>0.013228</td>\n",
       "      <td>0.016500</td>\n",
       "      <td>0.007883</td>\n",
       "      <td>0.018920</td>\n",
       "    </tr>\n",
       "    <tr>\n",
       "      <th>living_area</th>\n",
       "      <td>0.104748</td>\n",
       "      <td>0.566489</td>\n",
       "      <td>0.939537</td>\n",
       "      <td>0.845974</td>\n",
       "      <td>0.328196</td>\n",
       "      <td>-0.169259</td>\n",
       "      <td>1.000000</td>\n",
       "      <td>-0.097234</td>\n",
       "      <td>0.026968</td>\n",
       "      <td>-0.056236</td>\n",
       "      <td>...</td>\n",
       "      <td>0.212362</td>\n",
       "      <td>-0.050188</td>\n",
       "      <td>0.182579</td>\n",
       "      <td>-0.081863</td>\n",
       "      <td>0.142442</td>\n",
       "      <td>0.226343</td>\n",
       "      <td>-0.005658</td>\n",
       "      <td>-0.002436</td>\n",
       "      <td>-0.072712</td>\n",
       "      <td>-0.231052</td>\n",
       "    </tr>\n",
       "    <tr>\n",
       "      <th>floor</th>\n",
       "      <td>0.031290</td>\n",
       "      <td>0.026556</td>\n",
       "      <td>-0.024779</td>\n",
       "      <td>-0.150879</td>\n",
       "      <td>-0.013313</td>\n",
       "      <td>0.678301</td>\n",
       "      <td>-0.097234</td>\n",
       "      <td>1.000000</td>\n",
       "      <td>-0.013296</td>\n",
       "      <td>0.036938</td>\n",
       "      <td>...</td>\n",
       "      <td>-0.105276</td>\n",
       "      <td>0.073076</td>\n",
       "      <td>-0.029740</td>\n",
       "      <td>0.024840</td>\n",
       "      <td>-0.039447</td>\n",
       "      <td>0.129020</td>\n",
       "      <td>0.012283</td>\n",
       "      <td>0.019406</td>\n",
       "      <td>0.004891</td>\n",
       "      <td>0.008583</td>\n",
       "    </tr>\n",
       "    <tr>\n",
       "      <th>is_apartment</th>\n",
       "      <td>0.010531</td>\n",
       "      <td>0.026956</td>\n",
       "      <td>0.029631</td>\n",
       "      <td>0.000397</td>\n",
       "      <td>0.081675</td>\n",
       "      <td>-0.026356</td>\n",
       "      <td>0.026968</td>\n",
       "      <td>-0.013296</td>\n",
       "      <td>1.000000</td>\n",
       "      <td>-0.003658</td>\n",
       "      <td>...</td>\n",
       "      <td>0.021563</td>\n",
       "      <td>-0.033414</td>\n",
       "      <td>0.024413</td>\n",
       "      <td>0.003342</td>\n",
       "      <td>0.015260</td>\n",
       "      <td>0.044725</td>\n",
       "      <td>-0.009497</td>\n",
       "      <td>0.002374</td>\n",
       "      <td>0.009413</td>\n",
       "      <td>0.003557</td>\n",
       "    </tr>\n",
       "    <tr>\n",
       "      <th>studio</th>\n",
       "      <td>-0.029307</td>\n",
       "      <td>-0.025364</td>\n",
       "      <td>-0.072658</td>\n",
       "      <td>-0.147293</td>\n",
       "      <td>0.013475</td>\n",
       "      <td>0.070187</td>\n",
       "      <td>-0.056236</td>\n",
       "      <td>0.036938</td>\n",
       "      <td>-0.003658</td>\n",
       "      <td>1.000000</td>\n",
       "      <td>...</td>\n",
       "      <td>-0.032015</td>\n",
       "      <td>0.009130</td>\n",
       "      <td>-0.009680</td>\n",
       "      <td>0.002587</td>\n",
       "      <td>-0.022480</td>\n",
       "      <td>0.015634</td>\n",
       "      <td>-0.000852</td>\n",
       "      <td>0.000985</td>\n",
       "      <td>0.011960</td>\n",
       "      <td>-0.007466</td>\n",
       "    </tr>\n",
       "    <tr>\n",
       "      <th>open_plan</th>\n",
       "      <td>-0.024410</td>\n",
       "      <td>-0.008804</td>\n",
       "      <td>-0.034888</td>\n",
       "      <td>-0.087505</td>\n",
       "      <td>0.004268</td>\n",
       "      <td>0.050817</td>\n",
       "      <td>-0.033714</td>\n",
       "      <td>0.035823</td>\n",
       "      <td>-0.002449</td>\n",
       "      <td>-0.004236</td>\n",
       "      <td>...</td>\n",
       "      <td>-0.016378</td>\n",
       "      <td>0.010610</td>\n",
       "      <td>-0.004120</td>\n",
       "      <td>-0.003342</td>\n",
       "      <td>-0.024115</td>\n",
       "      <td>0.008264</td>\n",
       "      <td>0.011036</td>\n",
       "      <td>0.025771</td>\n",
       "      <td>-0.021095</td>\n",
       "      <td>-0.003800</td>\n",
       "    </tr>\n",
       "    <tr>\n",
       "      <th>kitchen_area</th>\n",
       "      <td>0.104716</td>\n",
       "      <td>0.519858</td>\n",
       "      <td>0.609111</td>\n",
       "      <td>0.269935</td>\n",
       "      <td>0.311433</td>\n",
       "      <td>0.164034</td>\n",
       "      <td>0.428663</td>\n",
       "      <td>0.135493</td>\n",
       "      <td>0.049032</td>\n",
       "      <td>NaN</td>\n",
       "      <td>...</td>\n",
       "      <td>0.118574</td>\n",
       "      <td>0.029626</td>\n",
       "      <td>0.175792</td>\n",
       "      <td>-0.105357</td>\n",
       "      <td>0.100592</td>\n",
       "      <td>0.397465</td>\n",
       "      <td>-0.008558</td>\n",
       "      <td>0.002542</td>\n",
       "      <td>-0.054755</td>\n",
       "      <td>-0.190562</td>\n",
       "    </tr>\n",
       "    <tr>\n",
       "      <th>balcony</th>\n",
       "      <td>0.048891</td>\n",
       "      <td>0.008540</td>\n",
       "      <td>0.009910</td>\n",
       "      <td>-0.015549</td>\n",
       "      <td>-0.033940</td>\n",
       "      <td>0.172956</td>\n",
       "      <td>-0.014808</td>\n",
       "      <td>0.168550</td>\n",
       "      <td>0.033019</td>\n",
       "      <td>0.028893</td>\n",
       "      <td>...</td>\n",
       "      <td>-0.069769</td>\n",
       "      <td>0.033217</td>\n",
       "      <td>-0.038254</td>\n",
       "      <td>0.019927</td>\n",
       "      <td>-0.027865</td>\n",
       "      <td>0.023350</td>\n",
       "      <td>-0.001565</td>\n",
       "      <td>0.009406</td>\n",
       "      <td>0.004567</td>\n",
       "      <td>0.065301</td>\n",
       "    </tr>\n",
       "    <tr>\n",
       "      <th>airports_nearest</th>\n",
       "      <td>-0.002356</td>\n",
       "      <td>-0.026249</td>\n",
       "      <td>-0.030777</td>\n",
       "      <td>-0.061245</td>\n",
       "      <td>-0.077862</td>\n",
       "      <td>0.108508</td>\n",
       "      <td>-0.057948</td>\n",
       "      <td>0.071585</td>\n",
       "      <td>0.016469</td>\n",
       "      <td>-0.021878</td>\n",
       "      <td>...</td>\n",
       "      <td>0.000693</td>\n",
       "      <td>-0.070033</td>\n",
       "      <td>-0.049515</td>\n",
       "      <td>0.013964</td>\n",
       "      <td>-0.018281</td>\n",
       "      <td>-0.038741</td>\n",
       "      <td>0.001329</td>\n",
       "      <td>0.006581</td>\n",
       "      <td>0.008943</td>\n",
       "      <td>0.272681</td>\n",
       "    </tr>\n",
       "    <tr>\n",
       "      <th>city_centers_nearest</th>\n",
       "      <td>-0.047634</td>\n",
       "      <td>-0.206739</td>\n",
       "      <td>-0.231427</td>\n",
       "      <td>-0.184831</td>\n",
       "      <td>-0.297424</td>\n",
       "      <td>0.019624</td>\n",
       "      <td>-0.231342</td>\n",
       "      <td>0.009093</td>\n",
       "      <td>0.003734</td>\n",
       "      <td>-0.007026</td>\n",
       "      <td>...</td>\n",
       "      <td>-0.161726</td>\n",
       "      <td>-0.040636</td>\n",
       "      <td>-0.074688</td>\n",
       "      <td>0.029038</td>\n",
       "      <td>-0.060694</td>\n",
       "      <td>-0.317949</td>\n",
       "      <td>0.008919</td>\n",
       "      <td>-0.009020</td>\n",
       "      <td>0.032347</td>\n",
       "      <td>0.999452</td>\n",
       "    </tr>\n",
       "    <tr>\n",
       "      <th>parks_around3000</th>\n",
       "      <td>0.036952</td>\n",
       "      <td>0.197848</td>\n",
       "      <td>0.200220</td>\n",
       "      <td>0.157493</td>\n",
       "      <td>0.226286</td>\n",
       "      <td>-0.158798</td>\n",
       "      <td>0.212362</td>\n",
       "      <td>-0.105276</td>\n",
       "      <td>0.021563</td>\n",
       "      <td>-0.032015</td>\n",
       "      <td>...</td>\n",
       "      <td>1.000000</td>\n",
       "      <td>-0.259464</td>\n",
       "      <td>0.392712</td>\n",
       "      <td>-0.167182</td>\n",
       "      <td>0.055946</td>\n",
       "      <td>0.291679</td>\n",
       "      <td>-0.011298</td>\n",
       "      <td>-0.002674</td>\n",
       "      <td>-0.049046</td>\n",
       "      <td>-0.162437</td>\n",
       "    </tr>\n",
       "    <tr>\n",
       "      <th>parks_nearest</th>\n",
       "      <td>-0.008276</td>\n",
       "      <td>-0.016428</td>\n",
       "      <td>-0.021520</td>\n",
       "      <td>-0.054567</td>\n",
       "      <td>-0.049989</td>\n",
       "      <td>0.097561</td>\n",
       "      <td>-0.050188</td>\n",
       "      <td>0.073076</td>\n",
       "      <td>-0.033414</td>\n",
       "      <td>0.009130</td>\n",
       "      <td>...</td>\n",
       "      <td>-0.259464</td>\n",
       "      <td>1.000000</td>\n",
       "      <td>0.077352</td>\n",
       "      <td>0.000611</td>\n",
       "      <td>0.023191</td>\n",
       "      <td>0.006922</td>\n",
       "      <td>-0.004570</td>\n",
       "      <td>0.019041</td>\n",
       "      <td>-0.020151</td>\n",
       "      <td>-0.040229</td>\n",
       "    </tr>\n",
       "    <tr>\n",
       "      <th>ponds_around3000</th>\n",
       "      <td>0.011328</td>\n",
       "      <td>0.208684</td>\n",
       "      <td>0.200402</td>\n",
       "      <td>0.121422</td>\n",
       "      <td>0.202869</td>\n",
       "      <td>-0.049238</td>\n",
       "      <td>0.182579</td>\n",
       "      <td>-0.029740</td>\n",
       "      <td>0.024413</td>\n",
       "      <td>-0.009680</td>\n",
       "      <td>...</td>\n",
       "      <td>0.392712</td>\n",
       "      <td>0.077352</td>\n",
       "      <td>1.000000</td>\n",
       "      <td>-0.341587</td>\n",
       "      <td>0.066445</td>\n",
       "      <td>0.304384</td>\n",
       "      <td>-0.000067</td>\n",
       "      <td>-0.005550</td>\n",
       "      <td>-0.049719</td>\n",
       "      <td>-0.076266</td>\n",
       "    </tr>\n",
       "    <tr>\n",
       "      <th>ponds_nearest</th>\n",
       "      <td>-0.003089</td>\n",
       "      <td>-0.084890</td>\n",
       "      <td>-0.098122</td>\n",
       "      <td>-0.057894</td>\n",
       "      <td>-0.104789</td>\n",
       "      <td>0.039637</td>\n",
       "      <td>-0.081863</td>\n",
       "      <td>0.024840</td>\n",
       "      <td>0.003342</td>\n",
       "      <td>0.002587</td>\n",
       "      <td>...</td>\n",
       "      <td>-0.167182</td>\n",
       "      <td>0.000611</td>\n",
       "      <td>-0.341587</td>\n",
       "      <td>1.000000</td>\n",
       "      <td>-0.078086</td>\n",
       "      <td>-0.105041</td>\n",
       "      <td>-0.002681</td>\n",
       "      <td>0.012498</td>\n",
       "      <td>0.038249</td>\n",
       "      <td>0.031173</td>\n",
       "    </tr>\n",
       "    <tr>\n",
       "      <th>days_exposition</th>\n",
       "      <td>-0.026625</td>\n",
       "      <td>0.081149</td>\n",
       "      <td>0.149670</td>\n",
       "      <td>0.126942</td>\n",
       "      <td>0.094940</td>\n",
       "      <td>-0.052134</td>\n",
       "      <td>0.142442</td>\n",
       "      <td>-0.039447</td>\n",
       "      <td>0.015260</td>\n",
       "      <td>-0.022480</td>\n",
       "      <td>...</td>\n",
       "      <td>0.055946</td>\n",
       "      <td>0.023191</td>\n",
       "      <td>0.066445</td>\n",
       "      <td>-0.078086</td>\n",
       "      <td>1.000000</td>\n",
       "      <td>0.048154</td>\n",
       "      <td>-0.024528</td>\n",
       "      <td>-0.029997</td>\n",
       "      <td>-0.611305</td>\n",
       "      <td>-0.060669</td>\n",
       "    </tr>\n",
       "    <tr>\n",
       "      <th>sqm_price</th>\n",
       "      <td>0.132739</td>\n",
       "      <td>0.736505</td>\n",
       "      <td>0.301951</td>\n",
       "      <td>0.055422</td>\n",
       "      <td>0.296323</td>\n",
       "      <td>0.148075</td>\n",
       "      <td>0.226343</td>\n",
       "      <td>0.129020</td>\n",
       "      <td>0.044725</td>\n",
       "      <td>0.015634</td>\n",
       "      <td>...</td>\n",
       "      <td>0.291679</td>\n",
       "      <td>0.006922</td>\n",
       "      <td>0.304384</td>\n",
       "      <td>-0.105041</td>\n",
       "      <td>0.048154</td>\n",
       "      <td>1.000000</td>\n",
       "      <td>-0.007345</td>\n",
       "      <td>-0.001982</td>\n",
       "      <td>0.008493</td>\n",
       "      <td>-0.318676</td>\n",
       "    </tr>\n",
       "    <tr>\n",
       "      <th>weekday_exposition</th>\n",
       "      <td>-0.010503</td>\n",
       "      <td>0.001513</td>\n",
       "      <td>-0.004748</td>\n",
       "      <td>-0.004176</td>\n",
       "      <td>-0.012805</td>\n",
       "      <td>0.013228</td>\n",
       "      <td>-0.005658</td>\n",
       "      <td>0.012283</td>\n",
       "      <td>-0.009497</td>\n",
       "      <td>-0.000852</td>\n",
       "      <td>...</td>\n",
       "      <td>-0.011298</td>\n",
       "      <td>-0.004570</td>\n",
       "      <td>-0.000067</td>\n",
       "      <td>-0.002681</td>\n",
       "      <td>-0.024528</td>\n",
       "      <td>-0.007345</td>\n",
       "      <td>1.000000</td>\n",
       "      <td>0.011577</td>\n",
       "      <td>-0.004825</td>\n",
       "      <td>0.008718</td>\n",
       "    </tr>\n",
       "    <tr>\n",
       "      <th>month_exposition</th>\n",
       "      <td>0.005050</td>\n",
       "      <td>0.002800</td>\n",
       "      <td>0.004962</td>\n",
       "      <td>-0.004422</td>\n",
       "      <td>0.002570</td>\n",
       "      <td>0.016500</td>\n",
       "      <td>-0.002436</td>\n",
       "      <td>0.019406</td>\n",
       "      <td>0.002374</td>\n",
       "      <td>0.000985</td>\n",
       "      <td>...</td>\n",
       "      <td>-0.002674</td>\n",
       "      <td>0.019041</td>\n",
       "      <td>-0.005550</td>\n",
       "      <td>0.012498</td>\n",
       "      <td>-0.029997</td>\n",
       "      <td>-0.001982</td>\n",
       "      <td>0.011577</td>\n",
       "      <td>1.000000</td>\n",
       "      <td>-0.269663</td>\n",
       "      <td>-0.009110</td>\n",
       "    </tr>\n",
       "    <tr>\n",
       "      <th>year_exposition</th>\n",
       "      <td>0.140368</td>\n",
       "      <td>-0.043099</td>\n",
       "      <td>-0.079926</td>\n",
       "      <td>-0.055434</td>\n",
       "      <td>-0.057215</td>\n",
       "      <td>0.007883</td>\n",
       "      <td>-0.072712</td>\n",
       "      <td>0.004891</td>\n",
       "      <td>0.009413</td>\n",
       "      <td>0.011960</td>\n",
       "      <td>...</td>\n",
       "      <td>-0.049046</td>\n",
       "      <td>-0.020151</td>\n",
       "      <td>-0.049719</td>\n",
       "      <td>0.038249</td>\n",
       "      <td>-0.611305</td>\n",
       "      <td>0.008493</td>\n",
       "      <td>-0.004825</td>\n",
       "      <td>-0.269663</td>\n",
       "      <td>1.000000</td>\n",
       "      <td>0.032523</td>\n",
       "    </tr>\n",
       "    <tr>\n",
       "      <th>city_centers_km</th>\n",
       "      <td>-0.047089</td>\n",
       "      <td>-0.206988</td>\n",
       "      <td>-0.231238</td>\n",
       "      <td>-0.184344</td>\n",
       "      <td>-0.297510</td>\n",
       "      <td>0.018920</td>\n",
       "      <td>-0.231052</td>\n",
       "      <td>0.008583</td>\n",
       "      <td>0.003557</td>\n",
       "      <td>-0.007466</td>\n",
       "      <td>...</td>\n",
       "      <td>-0.162437</td>\n",
       "      <td>-0.040229</td>\n",
       "      <td>-0.076266</td>\n",
       "      <td>0.031173</td>\n",
       "      <td>-0.060669</td>\n",
       "      <td>-0.318676</td>\n",
       "      <td>0.008718</td>\n",
       "      <td>-0.009110</td>\n",
       "      <td>0.032523</td>\n",
       "      <td>1.000000</td>\n",
       "    </tr>\n",
       "  </tbody>\n",
       "</table>\n",
       "<p>25 rows × 25 columns</p>\n",
       "</div>"
      ],
      "text/plain": [
       "                      total_images  last_price  total_area     rooms  \\\n",
       "total_images              1.000000    0.104457    0.115329  0.099261   \n",
       "last_price                0.104457    1.000000    0.653672  0.363342   \n",
       "total_area                0.115329    0.653672    1.000000  0.758343   \n",
       "rooms                     0.099261    0.363342    0.758343  1.000000   \n",
       "ceiling_height            0.049835    0.264562    0.343373  0.204983   \n",
       "floors_total              0.010520   -0.006974   -0.075733 -0.228141   \n",
       "living_area               0.104748    0.566489    0.939537  0.845974   \n",
       "floor                     0.031290    0.026556   -0.024779 -0.150879   \n",
       "is_apartment              0.010531    0.026956    0.029631  0.000397   \n",
       "studio                   -0.029307   -0.025364   -0.072658 -0.147293   \n",
       "open_plan                -0.024410   -0.008804   -0.034888 -0.087505   \n",
       "kitchen_area              0.104716    0.519858    0.609111  0.269935   \n",
       "balcony                   0.048891    0.008540    0.009910 -0.015549   \n",
       "airports_nearest         -0.002356   -0.026249   -0.030777 -0.061245   \n",
       "city_centers_nearest     -0.047634   -0.206739   -0.231427 -0.184831   \n",
       "parks_around3000          0.036952    0.197848    0.200220  0.157493   \n",
       "parks_nearest            -0.008276   -0.016428   -0.021520 -0.054567   \n",
       "ponds_around3000          0.011328    0.208684    0.200402  0.121422   \n",
       "ponds_nearest            -0.003089   -0.084890   -0.098122 -0.057894   \n",
       "days_exposition          -0.026625    0.081149    0.149670  0.126942   \n",
       "sqm_price                 0.132739    0.736505    0.301951  0.055422   \n",
       "weekday_exposition       -0.010503    0.001513   -0.004748 -0.004176   \n",
       "month_exposition          0.005050    0.002800    0.004962 -0.004422   \n",
       "year_exposition           0.140368   -0.043099   -0.079926 -0.055434   \n",
       "city_centers_km          -0.047089   -0.206988   -0.231238 -0.184344   \n",
       "\n",
       "                      ceiling_height  floors_total  living_area     floor  \\\n",
       "total_images                0.049835      0.010520     0.104748  0.031290   \n",
       "last_price                  0.264562     -0.006974     0.566489  0.026556   \n",
       "total_area                  0.343373     -0.075733     0.939537 -0.024779   \n",
       "rooms                       0.204983     -0.228141     0.845974 -0.150879   \n",
       "ceiling_height              1.000000     -0.036477     0.328196 -0.013313   \n",
       "floors_total               -0.036477      1.000000    -0.169259  0.678301   \n",
       "living_area                 0.328196     -0.169259     1.000000 -0.097234   \n",
       "floor                      -0.013313      0.678301    -0.097234  1.000000   \n",
       "is_apartment                0.081675     -0.026356     0.026968 -0.013296   \n",
       "studio                      0.013475      0.070187    -0.056236  0.036938   \n",
       "open_plan                   0.004268      0.050817    -0.033714  0.035823   \n",
       "kitchen_area                0.311433      0.164034     0.428663  0.135493   \n",
       "balcony                    -0.033940      0.172956    -0.014808  0.168550   \n",
       "airports_nearest           -0.077862      0.108508    -0.057948  0.071585   \n",
       "city_centers_nearest       -0.297424      0.019624    -0.231342  0.009093   \n",
       "parks_around3000            0.226286     -0.158798     0.212362 -0.105276   \n",
       "parks_nearest              -0.049989      0.097561    -0.050188  0.073076   \n",
       "ponds_around3000            0.202869     -0.049238     0.182579 -0.029740   \n",
       "ponds_nearest              -0.104789      0.039637    -0.081863  0.024840   \n",
       "days_exposition             0.094940     -0.052134     0.142442 -0.039447   \n",
       "sqm_price                   0.296323      0.148075     0.226343  0.129020   \n",
       "weekday_exposition         -0.012805      0.013228    -0.005658  0.012283   \n",
       "month_exposition            0.002570      0.016500    -0.002436  0.019406   \n",
       "year_exposition            -0.057215      0.007883    -0.072712  0.004891   \n",
       "city_centers_km            -0.297510      0.018920    -0.231052  0.008583   \n",
       "\n",
       "                      is_apartment    studio  ...  parks_around3000  \\\n",
       "total_images              0.010531 -0.029307  ...          0.036952   \n",
       "last_price                0.026956 -0.025364  ...          0.197848   \n",
       "total_area                0.029631 -0.072658  ...          0.200220   \n",
       "rooms                     0.000397 -0.147293  ...          0.157493   \n",
       "ceiling_height            0.081675  0.013475  ...          0.226286   \n",
       "floors_total             -0.026356  0.070187  ...         -0.158798   \n",
       "living_area               0.026968 -0.056236  ...          0.212362   \n",
       "floor                    -0.013296  0.036938  ...         -0.105276   \n",
       "is_apartment              1.000000 -0.003658  ...          0.021563   \n",
       "studio                   -0.003658  1.000000  ...         -0.032015   \n",
       "open_plan                -0.002449 -0.004236  ...         -0.016378   \n",
       "kitchen_area              0.049032       NaN  ...          0.118574   \n",
       "balcony                   0.033019  0.028893  ...         -0.069769   \n",
       "airports_nearest          0.016469 -0.021878  ...          0.000693   \n",
       "city_centers_nearest      0.003734 -0.007026  ...         -0.161726   \n",
       "parks_around3000          0.021563 -0.032015  ...          1.000000   \n",
       "parks_nearest            -0.033414  0.009130  ...         -0.259464   \n",
       "ponds_around3000          0.024413 -0.009680  ...          0.392712   \n",
       "ponds_nearest             0.003342  0.002587  ...         -0.167182   \n",
       "days_exposition           0.015260 -0.022480  ...          0.055946   \n",
       "sqm_price                 0.044725  0.015634  ...          0.291679   \n",
       "weekday_exposition       -0.009497 -0.000852  ...         -0.011298   \n",
       "month_exposition          0.002374  0.000985  ...         -0.002674   \n",
       "year_exposition           0.009413  0.011960  ...         -0.049046   \n",
       "city_centers_km           0.003557 -0.007466  ...         -0.162437   \n",
       "\n",
       "                      parks_nearest  ponds_around3000  ponds_nearest  \\\n",
       "total_images              -0.008276          0.011328      -0.003089   \n",
       "last_price                -0.016428          0.208684      -0.084890   \n",
       "total_area                -0.021520          0.200402      -0.098122   \n",
       "rooms                     -0.054567          0.121422      -0.057894   \n",
       "ceiling_height            -0.049989          0.202869      -0.104789   \n",
       "floors_total               0.097561         -0.049238       0.039637   \n",
       "living_area               -0.050188          0.182579      -0.081863   \n",
       "floor                      0.073076         -0.029740       0.024840   \n",
       "is_apartment              -0.033414          0.024413       0.003342   \n",
       "studio                     0.009130         -0.009680       0.002587   \n",
       "open_plan                  0.010610         -0.004120      -0.003342   \n",
       "kitchen_area               0.029626          0.175792      -0.105357   \n",
       "balcony                    0.033217         -0.038254       0.019927   \n",
       "airports_nearest          -0.070033         -0.049515       0.013964   \n",
       "city_centers_nearest      -0.040636         -0.074688       0.029038   \n",
       "parks_around3000          -0.259464          0.392712      -0.167182   \n",
       "parks_nearest              1.000000          0.077352       0.000611   \n",
       "ponds_around3000           0.077352          1.000000      -0.341587   \n",
       "ponds_nearest              0.000611         -0.341587       1.000000   \n",
       "days_exposition            0.023191          0.066445      -0.078086   \n",
       "sqm_price                  0.006922          0.304384      -0.105041   \n",
       "weekday_exposition        -0.004570         -0.000067      -0.002681   \n",
       "month_exposition           0.019041         -0.005550       0.012498   \n",
       "year_exposition           -0.020151         -0.049719       0.038249   \n",
       "city_centers_km           -0.040229         -0.076266       0.031173   \n",
       "\n",
       "                      days_exposition  sqm_price  weekday_exposition  \\\n",
       "total_images                -0.026625   0.132739           -0.010503   \n",
       "last_price                   0.081149   0.736505            0.001513   \n",
       "total_area                   0.149670   0.301951           -0.004748   \n",
       "rooms                        0.126942   0.055422           -0.004176   \n",
       "ceiling_height               0.094940   0.296323           -0.012805   \n",
       "floors_total                -0.052134   0.148075            0.013228   \n",
       "living_area                  0.142442   0.226343           -0.005658   \n",
       "floor                       -0.039447   0.129020            0.012283   \n",
       "is_apartment                 0.015260   0.044725           -0.009497   \n",
       "studio                      -0.022480   0.015634           -0.000852   \n",
       "open_plan                   -0.024115   0.008264            0.011036   \n",
       "kitchen_area                 0.100592   0.397465           -0.008558   \n",
       "balcony                     -0.027865   0.023350           -0.001565   \n",
       "airports_nearest            -0.018281  -0.038741            0.001329   \n",
       "city_centers_nearest        -0.060694  -0.317949            0.008919   \n",
       "parks_around3000             0.055946   0.291679           -0.011298   \n",
       "parks_nearest                0.023191   0.006922           -0.004570   \n",
       "ponds_around3000             0.066445   0.304384           -0.000067   \n",
       "ponds_nearest               -0.078086  -0.105041           -0.002681   \n",
       "days_exposition              1.000000   0.048154           -0.024528   \n",
       "sqm_price                    0.048154   1.000000           -0.007345   \n",
       "weekday_exposition          -0.024528  -0.007345            1.000000   \n",
       "month_exposition            -0.029997  -0.001982            0.011577   \n",
       "year_exposition             -0.611305   0.008493           -0.004825   \n",
       "city_centers_km             -0.060669  -0.318676            0.008718   \n",
       "\n",
       "                      month_exposition  year_exposition  city_centers_km  \n",
       "total_images                  0.005050         0.140368        -0.047089  \n",
       "last_price                    0.002800        -0.043099        -0.206988  \n",
       "total_area                    0.004962        -0.079926        -0.231238  \n",
       "rooms                        -0.004422        -0.055434        -0.184344  \n",
       "ceiling_height                0.002570        -0.057215        -0.297510  \n",
       "floors_total                  0.016500         0.007883         0.018920  \n",
       "living_area                  -0.002436        -0.072712        -0.231052  \n",
       "floor                         0.019406         0.004891         0.008583  \n",
       "is_apartment                  0.002374         0.009413         0.003557  \n",
       "studio                        0.000985         0.011960        -0.007466  \n",
       "open_plan                     0.025771        -0.021095        -0.003800  \n",
       "kitchen_area                  0.002542        -0.054755        -0.190562  \n",
       "balcony                       0.009406         0.004567         0.065301  \n",
       "airports_nearest              0.006581         0.008943         0.272681  \n",
       "city_centers_nearest         -0.009020         0.032347         0.999452  \n",
       "parks_around3000             -0.002674        -0.049046        -0.162437  \n",
       "parks_nearest                 0.019041        -0.020151        -0.040229  \n",
       "ponds_around3000             -0.005550        -0.049719        -0.076266  \n",
       "ponds_nearest                 0.012498         0.038249         0.031173  \n",
       "days_exposition              -0.029997        -0.611305        -0.060669  \n",
       "sqm_price                    -0.001982         0.008493        -0.318676  \n",
       "weekday_exposition            0.011577        -0.004825         0.008718  \n",
       "month_exposition              1.000000        -0.269663        -0.009110  \n",
       "year_exposition              -0.269663         1.000000         0.032523  \n",
       "city_centers_km              -0.009110         0.032523         1.000000  \n",
       "\n",
       "[25 rows x 25 columns]"
      ]
     },
     "execution_count": 409,
     "metadata": {},
     "output_type": "execute_result"
    }
   ],
   "source": [
    "data.corr()"
   ]
  },
  {
   "cell_type": "code",
   "execution_count": 410,
   "metadata": {},
   "outputs": [
    {
     "data": {
      "text/plain": [
       "0         (69.9, 900.0]\n",
       "1          (40.0, 52.0]\n",
       "2          (52.0, 69.9]\n",
       "3         (69.9, 900.0]\n",
       "4         (69.9, 900.0]\n",
       "              ...      \n",
       "23694     (69.9, 900.0]\n",
       "23695      (52.0, 69.9]\n",
       "23696      (52.0, 69.9]\n",
       "23697     (69.9, 900.0]\n",
       "23698    (11.999, 40.0]\n",
       "Name: total_area, Length: 23696, dtype: category\n",
       "Categories (4, interval[float64]): [(11.999, 40.0] < (40.0, 52.0] < (52.0, 69.9] < (69.9, 900.0]]"
      ]
     },
     "metadata": {},
     "output_type": "display_data"
    },
    {
     "data": {
      "text/html": [
       "<div>\n",
       "<style scoped>\n",
       "    .dataframe tbody tr th:only-of-type {\n",
       "        vertical-align: middle;\n",
       "    }\n",
       "\n",
       "    .dataframe tbody tr th {\n",
       "        vertical-align: top;\n",
       "    }\n",
       "\n",
       "    .dataframe thead th {\n",
       "        text-align: right;\n",
       "    }\n",
       "</style>\n",
       "<table border=\"1\" class=\"dataframe\">\n",
       "  <thead>\n",
       "    <tr style=\"text-align: right;\">\n",
       "      <th></th>\n",
       "      <th>total_images</th>\n",
       "      <th>last_price</th>\n",
       "      <th>total_area</th>\n",
       "      <th>first_day_exposition</th>\n",
       "      <th>rooms</th>\n",
       "      <th>ceiling_height</th>\n",
       "      <th>floors_total</th>\n",
       "      <th>living_area</th>\n",
       "      <th>floor</th>\n",
       "      <th>is_apartment</th>\n",
       "      <th>...</th>\n",
       "      <th>ponds_around3000</th>\n",
       "      <th>ponds_nearest</th>\n",
       "      <th>days_exposition</th>\n",
       "      <th>sqm_price</th>\n",
       "      <th>weekday_exposition</th>\n",
       "      <th>month_exposition</th>\n",
       "      <th>year_exposition</th>\n",
       "      <th>floor_category</th>\n",
       "      <th>city_centers_km</th>\n",
       "      <th>area_category</th>\n",
       "    </tr>\n",
       "  </thead>\n",
       "  <tbody>\n",
       "    <tr>\n",
       "      <th>0</th>\n",
       "      <td>20</td>\n",
       "      <td>13000000</td>\n",
       "      <td>108.0</td>\n",
       "      <td>2019-03-07</td>\n",
       "      <td>3</td>\n",
       "      <td>2.70</td>\n",
       "      <td>16.0</td>\n",
       "      <td>51.0</td>\n",
       "      <td>8</td>\n",
       "      <td>False</td>\n",
       "      <td>...</td>\n",
       "      <td>2</td>\n",
       "      <td>755.0</td>\n",
       "      <td>NaN</td>\n",
       "      <td>120370.37</td>\n",
       "      <td>3</td>\n",
       "      <td>3</td>\n",
       "      <td>2019</td>\n",
       "      <td>другой</td>\n",
       "      <td>16.0</td>\n",
       "      <td>свыше 70</td>\n",
       "    </tr>\n",
       "    <tr>\n",
       "      <th>1</th>\n",
       "      <td>7</td>\n",
       "      <td>3350000</td>\n",
       "      <td>40.4</td>\n",
       "      <td>2018-12-04</td>\n",
       "      <td>1</td>\n",
       "      <td>2.63</td>\n",
       "      <td>11.0</td>\n",
       "      <td>18.6</td>\n",
       "      <td>1</td>\n",
       "      <td>False</td>\n",
       "      <td>...</td>\n",
       "      <td>0</td>\n",
       "      <td>NaN</td>\n",
       "      <td>81.0</td>\n",
       "      <td>82920.79</td>\n",
       "      <td>1</td>\n",
       "      <td>12</td>\n",
       "      <td>2018</td>\n",
       "      <td>первый</td>\n",
       "      <td>19.0</td>\n",
       "      <td>до 52</td>\n",
       "    </tr>\n",
       "    <tr>\n",
       "      <th>2</th>\n",
       "      <td>10</td>\n",
       "      <td>5196000</td>\n",
       "      <td>56.0</td>\n",
       "      <td>2015-08-20</td>\n",
       "      <td>2</td>\n",
       "      <td>2.70</td>\n",
       "      <td>5.0</td>\n",
       "      <td>34.3</td>\n",
       "      <td>4</td>\n",
       "      <td>False</td>\n",
       "      <td>...</td>\n",
       "      <td>2</td>\n",
       "      <td>574.0</td>\n",
       "      <td>558.0</td>\n",
       "      <td>92785.71</td>\n",
       "      <td>3</td>\n",
       "      <td>8</td>\n",
       "      <td>2015</td>\n",
       "      <td>другой</td>\n",
       "      <td>14.0</td>\n",
       "      <td>до 70</td>\n",
       "    </tr>\n",
       "    <tr>\n",
       "      <th>3</th>\n",
       "      <td>0</td>\n",
       "      <td>64900000</td>\n",
       "      <td>159.0</td>\n",
       "      <td>2015-07-24</td>\n",
       "      <td>3</td>\n",
       "      <td>2.70</td>\n",
       "      <td>14.0</td>\n",
       "      <td>NaN</td>\n",
       "      <td>9</td>\n",
       "      <td>False</td>\n",
       "      <td>...</td>\n",
       "      <td>3</td>\n",
       "      <td>234.0</td>\n",
       "      <td>424.0</td>\n",
       "      <td>408176.10</td>\n",
       "      <td>4</td>\n",
       "      <td>7</td>\n",
       "      <td>2015</td>\n",
       "      <td>другой</td>\n",
       "      <td>7.0</td>\n",
       "      <td>свыше 70</td>\n",
       "    </tr>\n",
       "    <tr>\n",
       "      <th>4</th>\n",
       "      <td>2</td>\n",
       "      <td>10000000</td>\n",
       "      <td>100.0</td>\n",
       "      <td>2018-06-19</td>\n",
       "      <td>2</td>\n",
       "      <td>3.03</td>\n",
       "      <td>14.0</td>\n",
       "      <td>32.0</td>\n",
       "      <td>13</td>\n",
       "      <td>False</td>\n",
       "      <td>...</td>\n",
       "      <td>1</td>\n",
       "      <td>48.0</td>\n",
       "      <td>121.0</td>\n",
       "      <td>100000.00</td>\n",
       "      <td>1</td>\n",
       "      <td>6</td>\n",
       "      <td>2018</td>\n",
       "      <td>другой</td>\n",
       "      <td>8.0</td>\n",
       "      <td>свыше 70</td>\n",
       "    </tr>\n",
       "  </tbody>\n",
       "</table>\n",
       "<p>5 rows × 29 columns</p>\n",
       "</div>"
      ],
      "text/plain": [
       "   total_images  last_price  total_area first_day_exposition  rooms  \\\n",
       "0            20    13000000       108.0           2019-03-07      3   \n",
       "1             7     3350000        40.4           2018-12-04      1   \n",
       "2            10     5196000        56.0           2015-08-20      2   \n",
       "3             0    64900000       159.0           2015-07-24      3   \n",
       "4             2    10000000       100.0           2018-06-19      2   \n",
       "\n",
       "   ceiling_height  floors_total  living_area  floor  is_apartment  ...  \\\n",
       "0            2.70          16.0         51.0      8         False  ...   \n",
       "1            2.63          11.0         18.6      1         False  ...   \n",
       "2            2.70           5.0         34.3      4         False  ...   \n",
       "3            2.70          14.0          NaN      9         False  ...   \n",
       "4            3.03          14.0         32.0     13         False  ...   \n",
       "\n",
       "   ponds_around3000  ponds_nearest  days_exposition  sqm_price  \\\n",
       "0                 2          755.0              NaN  120370.37   \n",
       "1                 0            NaN             81.0   82920.79   \n",
       "2                 2          574.0            558.0   92785.71   \n",
       "3                 3          234.0            424.0  408176.10   \n",
       "4                 1           48.0            121.0  100000.00   \n",
       "\n",
       "  weekday_exposition  month_exposition  year_exposition  floor_category  \\\n",
       "0                  3                 3             2019          другой   \n",
       "1                  1                12             2018          первый   \n",
       "2                  3                 8             2015          другой   \n",
       "3                  4                 7             2015          другой   \n",
       "4                  1                 6             2018          другой   \n",
       "\n",
       "   city_centers_km  area_category  \n",
       "0             16.0       свыше 70  \n",
       "1             19.0          до 52  \n",
       "2             14.0          до 70  \n",
       "3              7.0       свыше 70  \n",
       "4              8.0       свыше 70  \n",
       "\n",
       "[5 rows x 29 columns]"
      ]
     },
     "metadata": {},
     "output_type": "display_data"
    }
   ],
   "source": [
    "display(pd.qcut(data.total_area,4))\n",
    "\n",
    "data['area_category'] = pd.qcut(data['total_area'],4,['до 40', 'до 52', 'до 70', 'свыше 70'])\n",
    "\n",
    "display(data.head())"
   ]
  },
  {
   "cell_type": "code",
   "execution_count": 411,
   "metadata": {},
   "outputs": [
    {
     "data": {
      "text/html": [
       "<div>\n",
       "<style scoped>\n",
       "    .dataframe tbody tr th:only-of-type {\n",
       "        vertical-align: middle;\n",
       "    }\n",
       "\n",
       "    .dataframe tbody tr th {\n",
       "        vertical-align: top;\n",
       "    }\n",
       "\n",
       "    .dataframe thead tr th {\n",
       "        text-align: left;\n",
       "    }\n",
       "\n",
       "    .dataframe thead tr:last-of-type th {\n",
       "        text-align: right;\n",
       "    }\n",
       "</style>\n",
       "<table border=\"1\" class=\"dataframe\">\n",
       "  <thead>\n",
       "    <tr>\n",
       "      <th></th>\n",
       "      <th colspan=\"2\" halign=\"left\">last_price</th>\n",
       "    </tr>\n",
       "    <tr>\n",
       "      <th></th>\n",
       "      <th>count</th>\n",
       "      <th>median</th>\n",
       "    </tr>\n",
       "    <tr>\n",
       "      <th>area_category</th>\n",
       "      <th></th>\n",
       "      <th></th>\n",
       "    </tr>\n",
       "  </thead>\n",
       "  <tbody>\n",
       "    <tr>\n",
       "      <th>до 40</th>\n",
       "      <td>6041</td>\n",
       "      <td>3300000</td>\n",
       "    </tr>\n",
       "    <tr>\n",
       "      <th>до 52</th>\n",
       "      <td>5912</td>\n",
       "      <td>4100000</td>\n",
       "    </tr>\n",
       "    <tr>\n",
       "      <th>до 70</th>\n",
       "      <td>5822</td>\n",
       "      <td>5300000</td>\n",
       "    </tr>\n",
       "    <tr>\n",
       "      <th>свыше 70</th>\n",
       "      <td>5921</td>\n",
       "      <td>9200000</td>\n",
       "    </tr>\n",
       "  </tbody>\n",
       "</table>\n",
       "</div>"
      ],
      "text/plain": [
       "              last_price         \n",
       "                   count   median\n",
       "area_category                    \n",
       "до 40               6041  3300000\n",
       "до 52               5912  4100000\n",
       "до 70               5822  5300000\n",
       "свыше 70            5921  9200000"
      ]
     },
     "execution_count": 411,
     "metadata": {},
     "output_type": "execute_result"
    }
   ],
   "source": [
    "data_groupedby_area_category = data.groupby('area_category').agg({'last_price': ['count', 'median']})\n",
    "data_groupedby_area_category"
   ]
  },
  {
   "cell_type": "code",
   "execution_count": 412,
   "metadata": {},
   "outputs": [
    {
     "data": {
      "text/plain": [
       "<AxesSubplot:xlabel='total_area', ylabel='last_price'>"
      ]
     },
     "execution_count": 412,
     "metadata": {},
     "output_type": "execute_result"
    },
    {
     "data": {
      "image/png": "[encoded data removed]",
      "text/plain": [
       "<Figure size 432x288 with 1 Axes>"
      ]
     },
     "metadata": {
      "needs_background": "light"
     },
     "output_type": "display_data"
    }
   ],
   "source": [
    "data.plot(x='total_area', y='last_price', kind='scatter', alpha=0.1)"
   ]
  },
  {
   "cell_type": "markdown",
   "metadata": {},
   "source": [
    "**Вывод:** Сильнее всего стоимость объекта коррелирует с общей площадью квартиры (коэф. 0.65), логично, что с ростом площади растет цена квартиры (см. также сводную таблицу, где показано как с ростом площади растет и средняя стоимость), однако корреляция ближе к 0.5, чем к 1, так как с ростом площади цена квадратного метра может уменьшаться (действуют более \"оптовые\" цены)."
   ]
  },
  {
   "cell_type": "code",
   "execution_count": 413,
   "metadata": {},
   "outputs": [
    {
     "data": {
      "text/plain": [
       "<AxesSubplot:xlabel='living_area', ylabel='last_price'>"
      ]
     },
     "execution_count": 413,
     "metadata": {},
     "output_type": "execute_result"
    },
    {
     "data": {
      "image/png": "[encoded data removed]",
      "text/plain": [
       "<Figure size 432x288 with 1 Axes>"
      ]
     },
     "metadata": {
      "needs_background": "light"
     },
     "output_type": "display_data"
    }
   ],
   "source": [
    "data.plot(x='living_area', y='last_price', kind='scatter', alpha=0.1)"
   ]
  },
  {
   "cell_type": "markdown",
   "metadata": {},
   "source": [
    "**Вывод:** Ранее мы уже заметили, что корреляция между жилой и общей площадью объекта близка к 1, поэтому и линейная зависимость общей цены объекта от этих показателей выглядит похожей (0.57 для жилой площади).\n",
    "Если же говорить о цене квадратного метра, то его зависимость от этих величин значительно ниже (0.3 и 0.22), что означает, что при прочих равных общая и жилая площади в меньшей степени влияют на цену квадратного метра, чем некоторые другие параметры (см. ниже), тем не менее некоторая положительная линейная зависимость есть, то есть с ростом площади растет и цена квадрата, но не пропорционально. Растет скорее всего потому, что квартиры больших площадей обычно строят в домах более высокого класса."
   ]
  },
  {
   "cell_type": "code",
   "execution_count": 414,
   "metadata": {},
   "outputs": [
    {
     "data": {
      "text/plain": [
       "<AxesSubplot:xlabel='kitchen_area', ylabel='last_price'>"
      ]
     },
     "execution_count": 414,
     "metadata": {},
     "output_type": "execute_result"
    },
    {
     "data": {
      "image/png": "[encoded data removed]",
      "text/plain": [
       "<Figure size 432x288 with 1 Axes>"
      ]
     },
     "metadata": {
      "needs_background": "light"
     },
     "output_type": "display_data"
    }
   ],
   "source": [
    "data.plot(x='kitchen_area', y='last_price', kind='scatter', alpha=0.1)"
   ]
  },
  {
   "cell_type": "markdown",
   "metadata": {},
   "source": [
    "**Вывод:** Ранее мы уже заметили, что корреляция между общей и кухонной площадью объекта ниже, чем в случае с жилой площадью (это связано с тем, что количество и площадь жилых комнат может расти, а кухня при этом оставаться неизменной планировки или меняться менее значительно), поэтому и линейная зависимость общей цены объекта от площади кухни несколько ниже (0.52).\n",
    "А вот если говорить о цене квадратного метра, то его зависимость от площади кухни наоборот, выше, чем от общей и жилой площади и составляет  0.39 (против 0.3 и 0.22). Таким образом, наше предположение на стадии исследования подтвердилось. "
   ]
  },
  {
   "cell_type": "code",
   "execution_count": 415,
   "metadata": {},
   "outputs": [
    {
     "data": {
      "text/html": [
       "<div>\n",
       "<style scoped>\n",
       "    .dataframe tbody tr th:only-of-type {\n",
       "        vertical-align: middle;\n",
       "    }\n",
       "\n",
       "    .dataframe tbody tr th {\n",
       "        vertical-align: top;\n",
       "    }\n",
       "\n",
       "    .dataframe thead tr th {\n",
       "        text-align: left;\n",
       "    }\n",
       "\n",
       "    .dataframe thead tr:last-of-type th {\n",
       "        text-align: right;\n",
       "    }\n",
       "</style>\n",
       "<table border=\"1\" class=\"dataframe\">\n",
       "  <thead>\n",
       "    <tr>\n",
       "      <th></th>\n",
       "      <th colspan=\"2\" halign=\"left\">last_price</th>\n",
       "    </tr>\n",
       "    <tr>\n",
       "      <th></th>\n",
       "      <th>count</th>\n",
       "      <th>median</th>\n",
       "    </tr>\n",
       "    <tr>\n",
       "      <th>weekday_exposition</th>\n",
       "      <th></th>\n",
       "      <th></th>\n",
       "    </tr>\n",
       "  </thead>\n",
       "  <tbody>\n",
       "    <tr>\n",
       "      <th>0</th>\n",
       "      <td>3611</td>\n",
       "      <td>4650000</td>\n",
       "    </tr>\n",
       "    <tr>\n",
       "      <th>1</th>\n",
       "      <td>4182</td>\n",
       "      <td>4730000</td>\n",
       "    </tr>\n",
       "    <tr>\n",
       "      <th>2</th>\n",
       "      <td>3973</td>\n",
       "      <td>4700000</td>\n",
       "    </tr>\n",
       "    <tr>\n",
       "      <th>3</th>\n",
       "      <td>4295</td>\n",
       "      <td>4650000</td>\n",
       "    </tr>\n",
       "    <tr>\n",
       "      <th>4</th>\n",
       "      <td>4000</td>\n",
       "      <td>4585000</td>\n",
       "    </tr>\n",
       "    <tr>\n",
       "      <th>5</th>\n",
       "      <td>1936</td>\n",
       "      <td>4555000</td>\n",
       "    </tr>\n",
       "    <tr>\n",
       "      <th>6</th>\n",
       "      <td>1699</td>\n",
       "      <td>4550000</td>\n",
       "    </tr>\n",
       "  </tbody>\n",
       "</table>\n",
       "</div>"
      ],
      "text/plain": [
       "                   last_price         \n",
       "                        count   median\n",
       "weekday_exposition                    \n",
       "0                        3611  4650000\n",
       "1                        4182  4730000\n",
       "2                        3973  4700000\n",
       "3                        4295  4650000\n",
       "4                        4000  4585000\n",
       "5                        1936  4555000\n",
       "6                        1699  4550000"
      ]
     },
     "execution_count": 415,
     "metadata": {},
     "output_type": "execute_result"
    }
   ],
   "source": [
    "data_groupedby_weekday_exposition = data.groupby('weekday_exposition').agg({'last_price': ['count', 'median']})\n",
    "data_groupedby_weekday_exposition"
   ]
  },
  {
   "cell_type": "code",
   "execution_count": 416,
   "metadata": {},
   "outputs": [
    {
     "data": {
      "text/plain": [
       "<AxesSubplot:xlabel='weekday_exposition', ylabel='last_price'>"
      ]
     },
     "execution_count": 416,
     "metadata": {},
     "output_type": "execute_result"
    },
    {
     "data": {
      "image/png": "[encoded data removed]",
      "text/plain": [
       "<Figure size 432x288 with 1 Axes>"
      ]
     },
     "metadata": {
      "needs_background": "light"
     },
     "output_type": "display_data"
    }
   ],
   "source": [
    "data.plot(x='weekday_exposition', y='last_price', kind='scatter', alpha=0.1)"
   ]
  },
  {
   "cell_type": "markdown",
   "metadata": {},
   "source": [
    "**Вывод:** Медиана цен выше всего во вторник и снижается с каждым днем к выходным. На выходных уровень самый низкий. В понедельник уровень такой же, как в четверг. Но все эти значения все равно близки. Исходя из таблицы корреляции линейная зависимость цены от дня недели очень мала (0.0015)."
   ]
  },
  {
   "cell_type": "code",
   "execution_count": 417,
   "metadata": {},
   "outputs": [
    {
     "data": {
      "text/html": [
       "<div>\n",
       "<style scoped>\n",
       "    .dataframe tbody tr th:only-of-type {\n",
       "        vertical-align: middle;\n",
       "    }\n",
       "\n",
       "    .dataframe tbody tr th {\n",
       "        vertical-align: top;\n",
       "    }\n",
       "\n",
       "    .dataframe thead tr th {\n",
       "        text-align: left;\n",
       "    }\n",
       "\n",
       "    .dataframe thead tr:last-of-type th {\n",
       "        text-align: right;\n",
       "    }\n",
       "</style>\n",
       "<table border=\"1\" class=\"dataframe\">\n",
       "  <thead>\n",
       "    <tr>\n",
       "      <th></th>\n",
       "      <th colspan=\"2\" halign=\"left\">last_price</th>\n",
       "    </tr>\n",
       "    <tr>\n",
       "      <th></th>\n",
       "      <th>count</th>\n",
       "      <th>median</th>\n",
       "    </tr>\n",
       "    <tr>\n",
       "      <th>month_exposition</th>\n",
       "      <th></th>\n",
       "      <th></th>\n",
       "    </tr>\n",
       "  </thead>\n",
       "  <tbody>\n",
       "    <tr>\n",
       "      <th>1</th>\n",
       "      <td>1500</td>\n",
       "      <td>4600000</td>\n",
       "    </tr>\n",
       "    <tr>\n",
       "      <th>2</th>\n",
       "      <td>2640</td>\n",
       "      <td>4650000</td>\n",
       "    </tr>\n",
       "    <tr>\n",
       "      <th>3</th>\n",
       "      <td>2587</td>\n",
       "      <td>4650000</td>\n",
       "    </tr>\n",
       "    <tr>\n",
       "      <th>4</th>\n",
       "      <td>2379</td>\n",
       "      <td>4800000</td>\n",
       "    </tr>\n",
       "    <tr>\n",
       "      <th>5</th>\n",
       "      <td>1274</td>\n",
       "      <td>4515000</td>\n",
       "    </tr>\n",
       "    <tr>\n",
       "      <th>6</th>\n",
       "      <td>1760</td>\n",
       "      <td>4400000</td>\n",
       "    </tr>\n",
       "    <tr>\n",
       "      <th>7</th>\n",
       "      <td>1695</td>\n",
       "      <td>4650000</td>\n",
       "    </tr>\n",
       "    <tr>\n",
       "      <th>8</th>\n",
       "      <td>1743</td>\n",
       "      <td>4570000</td>\n",
       "    </tr>\n",
       "    <tr>\n",
       "      <th>9</th>\n",
       "      <td>1981</td>\n",
       "      <td>4700000</td>\n",
       "    </tr>\n",
       "    <tr>\n",
       "      <th>10</th>\n",
       "      <td>2125</td>\n",
       "      <td>4570000</td>\n",
       "    </tr>\n",
       "    <tr>\n",
       "      <th>11</th>\n",
       "      <td>2371</td>\n",
       "      <td>4700000</td>\n",
       "    </tr>\n",
       "    <tr>\n",
       "      <th>12</th>\n",
       "      <td>1641</td>\n",
       "      <td>4700000</td>\n",
       "    </tr>\n",
       "  </tbody>\n",
       "</table>\n",
       "</div>"
      ],
      "text/plain": [
       "                 last_price         \n",
       "                      count   median\n",
       "month_exposition                    \n",
       "1                      1500  4600000\n",
       "2                      2640  4650000\n",
       "3                      2587  4650000\n",
       "4                      2379  4800000\n",
       "5                      1274  4515000\n",
       "6                      1760  4400000\n",
       "7                      1695  4650000\n",
       "8                      1743  4570000\n",
       "9                      1981  4700000\n",
       "10                     2125  4570000\n",
       "11                     2371  4700000\n",
       "12                     1641  4700000"
      ]
     },
     "execution_count": 417,
     "metadata": {},
     "output_type": "execute_result"
    }
   ],
   "source": [
    "data_groupedby_month_exposition = data.groupby('month_exposition').agg({'last_price': ['count', 'median']})\n",
    "data_groupedby_month_exposition"
   ]
  },
  {
   "cell_type": "code",
   "execution_count": 418,
   "metadata": {},
   "outputs": [
    {
     "data": {
      "text/plain": [
       "<AxesSubplot:xlabel='month_exposition', ylabel='last_price'>"
      ]
     },
     "execution_count": 418,
     "metadata": {},
     "output_type": "execute_result"
    },
    {
     "data": {
      "image/png": "[encoded data removed]",
      "text/plain": [
       "<Figure size 432x288 with 1 Axes>"
      ]
     },
     "metadata": {
      "needs_background": "light"
     },
     "output_type": "display_data"
    }
   ],
   "source": [
    "data.plot(x='month_exposition', y='last_price', kind='scatter', alpha=0.1)"
   ]
  },
  {
   "cell_type": "markdown",
   "metadata": {},
   "source": [
    "**Вывод:** Медиана цен выше всего в апреле, чуть пониже идут сентябрь, ноябрь и декабрь. Самые низкие показатели в июне, чуть выше в мае и в августе. В целом же разброс не столь критичен, а линейная связь цены и месяца публикации крайне мала (0.0022). Если же сравнивать, то она есколько выше, чем зависимотсь от дня недели публикации."
   ]
  },
  {
   "cell_type": "code",
   "execution_count": 419,
   "metadata": {},
   "outputs": [
    {
     "data": {
      "text/html": [
       "<div>\n",
       "<style scoped>\n",
       "    .dataframe tbody tr th:only-of-type {\n",
       "        vertical-align: middle;\n",
       "    }\n",
       "\n",
       "    .dataframe tbody tr th {\n",
       "        vertical-align: top;\n",
       "    }\n",
       "\n",
       "    .dataframe thead tr th {\n",
       "        text-align: left;\n",
       "    }\n",
       "\n",
       "    .dataframe thead tr:last-of-type th {\n",
       "        text-align: right;\n",
       "    }\n",
       "</style>\n",
       "<table border=\"1\" class=\"dataframe\">\n",
       "  <thead>\n",
       "    <tr>\n",
       "      <th></th>\n",
       "      <th colspan=\"2\" halign=\"left\">last_price</th>\n",
       "    </tr>\n",
       "    <tr>\n",
       "      <th></th>\n",
       "      <th>count</th>\n",
       "      <th>median</th>\n",
       "    </tr>\n",
       "    <tr>\n",
       "      <th>year_exposition</th>\n",
       "      <th></th>\n",
       "      <th></th>\n",
       "    </tr>\n",
       "  </thead>\n",
       "  <tbody>\n",
       "    <tr>\n",
       "      <th>2014</th>\n",
       "      <td>137</td>\n",
       "      <td>7700000</td>\n",
       "    </tr>\n",
       "    <tr>\n",
       "      <th>2015</th>\n",
       "      <td>1191</td>\n",
       "      <td>5350000</td>\n",
       "    </tr>\n",
       "    <tr>\n",
       "      <th>2016</th>\n",
       "      <td>2783</td>\n",
       "      <td>4550000</td>\n",
       "    </tr>\n",
       "    <tr>\n",
       "      <th>2017</th>\n",
       "      <td>8188</td>\n",
       "      <td>4500000</td>\n",
       "    </tr>\n",
       "    <tr>\n",
       "      <th>2018</th>\n",
       "      <td>8518</td>\n",
       "      <td>4550000</td>\n",
       "    </tr>\n",
       "    <tr>\n",
       "      <th>2019</th>\n",
       "      <td>2879</td>\n",
       "      <td>5050000</td>\n",
       "    </tr>\n",
       "  </tbody>\n",
       "</table>\n",
       "</div>"
      ],
      "text/plain": [
       "                last_price         \n",
       "                     count   median\n",
       "year_exposition                    \n",
       "2014                   137  7700000\n",
       "2015                  1191  5350000\n",
       "2016                  2783  4550000\n",
       "2017                  8188  4500000\n",
       "2018                  8518  4550000\n",
       "2019                  2879  5050000"
      ]
     },
     "execution_count": 419,
     "metadata": {},
     "output_type": "execute_result"
    }
   ],
   "source": [
    "data_groupedby_year_exposition = data.groupby('year_exposition').agg({'last_price': ['count', 'median']})\n",
    "data_groupedby_year_exposition"
   ]
  },
  {
   "cell_type": "code",
   "execution_count": 420,
   "metadata": {},
   "outputs": [
    {
     "data": {
      "text/plain": [
       "<AxesSubplot:xlabel='year_exposition', ylabel='last_price'>"
      ]
     },
     "execution_count": 420,
     "metadata": {},
     "output_type": "execute_result"
    },
    {
     "data": {
      "image/png": "[encoded data removed]",
      "text/plain": [
       "<Figure size 432x288 with 1 Axes>"
      ]
     },
     "metadata": {
      "needs_background": "light"
     },
     "output_type": "display_data"
    }
   ],
   "source": [
    "data.plot(x='year_exposition', y='last_price', kind='scatter', alpha=0.1)"
   ]
  },
  {
   "cell_type": "markdown",
   "metadata": {},
   "source": [
    "**Вывод:** 2014 год брать некорректно из-за маленькой выборки, с 2015 по 2017 наблюдалось снижение средней стоимости, а с 2018 началось обратное движение. Корреляция незначительная и отрицательная (-0.043), как раз из-за снижения стоимости с годами."
   ]
  },
  {
   "cell_type": "code",
   "execution_count": 421,
   "metadata": {},
   "outputs": [
    {
     "data": {
      "text/html": [
       "<div>\n",
       "<style scoped>\n",
       "    .dataframe tbody tr th:only-of-type {\n",
       "        vertical-align: middle;\n",
       "    }\n",
       "\n",
       "    .dataframe tbody tr th {\n",
       "        vertical-align: top;\n",
       "    }\n",
       "\n",
       "    .dataframe thead tr th {\n",
       "        text-align: left;\n",
       "    }\n",
       "\n",
       "    .dataframe thead tr:last-of-type th {\n",
       "        text-align: right;\n",
       "    }\n",
       "</style>\n",
       "<table border=\"1\" class=\"dataframe\">\n",
       "  <thead>\n",
       "    <tr>\n",
       "      <th></th>\n",
       "      <th colspan=\"2\" halign=\"left\">last_price</th>\n",
       "    </tr>\n",
       "    <tr>\n",
       "      <th></th>\n",
       "      <th>count</th>\n",
       "      <th>median</th>\n",
       "    </tr>\n",
       "    <tr>\n",
       "      <th>floor_category</th>\n",
       "      <th></th>\n",
       "      <th></th>\n",
       "    </tr>\n",
       "  </thead>\n",
       "  <tbody>\n",
       "    <tr>\n",
       "      <th>другой</th>\n",
       "      <td>17444</td>\n",
       "      <td>4850000</td>\n",
       "    </tr>\n",
       "    <tr>\n",
       "      <th>первый</th>\n",
       "      <td>2916</td>\n",
       "      <td>3900000</td>\n",
       "    </tr>\n",
       "    <tr>\n",
       "      <th>последний</th>\n",
       "      <td>3336</td>\n",
       "      <td>4300000</td>\n",
       "    </tr>\n",
       "  </tbody>\n",
       "</table>\n",
       "</div>"
      ],
      "text/plain": [
       "               last_price         \n",
       "                    count   median\n",
       "floor_category                    \n",
       "другой              17444  4850000\n",
       "первый               2916  3900000\n",
       "последний            3336  4300000"
      ]
     },
     "execution_count": 421,
     "metadata": {},
     "output_type": "execute_result"
    }
   ],
   "source": [
    "data_groupedby_floor_category = data.groupby('floor_category').agg({'last_price': ['count', 'median']})\n",
    "data_groupedby_floor_category"
   ]
  },
  {
   "cell_type": "code",
   "execution_count": 422,
   "metadata": {},
   "outputs": [
    {
     "data": {
      "text/plain": [
       "<AxesSubplot:xlabel='floor_category', ylabel='last_price'>"
      ]
     },
     "execution_count": 422,
     "metadata": {},
     "output_type": "execute_result"
    },
    {
     "data": {
      "image/png": "[encoded data removed]",
      "text/plain": [
       "<Figure size 432x288 with 1 Axes>"
      ]
     },
     "metadata": {
      "needs_background": "light"
     },
     "output_type": "display_data"
    }
   ],
   "source": [
    "data.plot(x='floor_category', y='last_price', kind='scatter', alpha=0.1)"
   ]
  },
  {
   "cell_type": "markdown",
   "metadata": {},
   "source": [
    "**Вывод:** Ожидаемо дешевле всего первые этажи, далее последние и в топе \"другие\""
   ]
  },
  {
   "cell_type": "markdown",
   "metadata": {},
   "source": [
    "**4.  Посчитаем стоимости квадратных метров в 10 наиболее популярных населенных пунктах**"
   ]
  },
  {
   "cell_type": "code",
   "execution_count": 423,
   "metadata": {},
   "outputs": [
    {
     "data": {
      "text/plain": [
       "Санкт-Петербург    15719\n",
       "Мурино               590\n",
       "Кудрово              472\n",
       "Шушары               440\n",
       "Всеволожск           398\n",
       "Пушкин               369\n",
       "Колпино              338\n",
       "Парголово            327\n",
       "Гатчина              307\n",
       "Выборг               237\n",
       "Name: locality_name, dtype: int64"
      ]
     },
     "metadata": {},
     "output_type": "display_data"
    },
    {
     "data": {
      "text/html": [
       "<div>\n",
       "<style scoped>\n",
       "    .dataframe tbody tr th:only-of-type {\n",
       "        vertical-align: middle;\n",
       "    }\n",
       "\n",
       "    .dataframe tbody tr th {\n",
       "        vertical-align: top;\n",
       "    }\n",
       "\n",
       "    .dataframe thead th {\n",
       "        text-align: right;\n",
       "    }\n",
       "</style>\n",
       "<table border=\"1\" class=\"dataframe\">\n",
       "  <thead>\n",
       "    <tr style=\"text-align: right;\">\n",
       "      <th></th>\n",
       "      <th>sqm_price</th>\n",
       "    </tr>\n",
       "    <tr>\n",
       "      <th>locality_name</th>\n",
       "      <th></th>\n",
       "    </tr>\n",
       "  </thead>\n",
       "  <tbody>\n",
       "    <tr>\n",
       "      <th>Санкт-Петербург</th>\n",
       "      <td>114850.160718</td>\n",
       "    </tr>\n",
       "    <tr>\n",
       "      <th>Пушкин</th>\n",
       "      <td>103125.819377</td>\n",
       "    </tr>\n",
       "    <tr>\n",
       "      <th>Кудрово</th>\n",
       "      <td>95324.930508</td>\n",
       "    </tr>\n",
       "    <tr>\n",
       "      <th>Парголово</th>\n",
       "      <td>90175.913089</td>\n",
       "    </tr>\n",
       "    <tr>\n",
       "      <th>Мурино</th>\n",
       "      <td>86087.512017</td>\n",
       "    </tr>\n",
       "    <tr>\n",
       "      <th>Шушары</th>\n",
       "      <td>78677.364318</td>\n",
       "    </tr>\n",
       "    <tr>\n",
       "      <th>Колпино</th>\n",
       "      <td>75424.579112</td>\n",
       "    </tr>\n",
       "    <tr>\n",
       "      <th>Гатчина</th>\n",
       "      <td>68746.146515</td>\n",
       "    </tr>\n",
       "    <tr>\n",
       "      <th>Всеволожск</th>\n",
       "      <td>68654.473970</td>\n",
       "    </tr>\n",
       "    <tr>\n",
       "      <th>Выборг</th>\n",
       "      <td>58141.909325</td>\n",
       "    </tr>\n",
       "  </tbody>\n",
       "</table>\n",
       "</div>"
      ],
      "text/plain": [
       "                     sqm_price\n",
       "locality_name                 \n",
       "Санкт-Петербург  114850.160718\n",
       "Пушкин           103125.819377\n",
       "Кудрово           95324.930508\n",
       "Парголово         90175.913089\n",
       "Мурино            86087.512017\n",
       "Шушары            78677.364318\n",
       "Колпино           75424.579112\n",
       "Гатчина           68746.146515\n",
       "Всеволожск        68654.473970\n",
       "Выборг            58141.909325"
      ]
     },
     "execution_count": 423,
     "metadata": {},
     "output_type": "execute_result"
    }
   ],
   "source": [
    "locality_best_10 = data['locality_name'].value_counts().head(10)\n",
    "display(locality_best_10)\n",
    "data.query('locality_name in @locality_best_10.index').pivot_table(index='locality_name', values='sqm_price').sort_values('sqm_price', ascending=False)"
   ]
  },
  {
   "cell_type": "markdown",
   "metadata": {},
   "source": [
    "**Вывод:** Ожидаемо самые дорогие метры в Санкт-Петербурге, а самые дешевые в среднем из этой десятки оказались в Выборге"
   ]
  },
  {
   "cell_type": "markdown",
   "metadata": {},
   "source": [
    "**5.  Исследуем зависимость стоимости объектов в Санкт-Петербурге от расстояния до центра города** "
   ]
  },
  {
   "cell_type": "code",
   "execution_count": 424,
   "metadata": {},
   "outputs": [
    {
     "data": {
      "text/html": [
       "<div>\n",
       "<style scoped>\n",
       "    .dataframe tbody tr th:only-of-type {\n",
       "        vertical-align: middle;\n",
       "    }\n",
       "\n",
       "    .dataframe tbody tr th {\n",
       "        vertical-align: top;\n",
       "    }\n",
       "\n",
       "    .dataframe thead th {\n",
       "        text-align: right;\n",
       "    }\n",
       "</style>\n",
       "<table border=\"1\" class=\"dataframe\">\n",
       "  <thead>\n",
       "    <tr style=\"text-align: right;\">\n",
       "      <th></th>\n",
       "      <th>city_centers_km</th>\n",
       "      <th>nunique_last_price</th>\n",
       "      <th>median_last_price</th>\n",
       "    </tr>\n",
       "  </thead>\n",
       "  <tbody>\n",
       "    <tr>\n",
       "      <th>0</th>\n",
       "      <td>0.0</td>\n",
       "      <td>24</td>\n",
       "      <td>17900000</td>\n",
       "    </tr>\n",
       "    <tr>\n",
       "      <th>1</th>\n",
       "      <td>1.0</td>\n",
       "      <td>149</td>\n",
       "      <td>11395000</td>\n",
       "    </tr>\n",
       "    <tr>\n",
       "      <th>2</th>\n",
       "      <td>2.0</td>\n",
       "      <td>191</td>\n",
       "      <td>10000000</td>\n",
       "    </tr>\n",
       "    <tr>\n",
       "      <th>3</th>\n",
       "      <td>3.0</td>\n",
       "      <td>217</td>\n",
       "      <td>8409000</td>\n",
       "    </tr>\n",
       "    <tr>\n",
       "      <th>4</th>\n",
       "      <td>4.0</td>\n",
       "      <td>366</td>\n",
       "      <td>9200000</td>\n",
       "    </tr>\n",
       "    <tr>\n",
       "      <th>5</th>\n",
       "      <td>5.0</td>\n",
       "      <td>495</td>\n",
       "      <td>9500000</td>\n",
       "    </tr>\n",
       "    <tr>\n",
       "      <th>6</th>\n",
       "      <td>6.0</td>\n",
       "      <td>398</td>\n",
       "      <td>8900000</td>\n",
       "    </tr>\n",
       "    <tr>\n",
       "      <th>7</th>\n",
       "      <td>7.0</td>\n",
       "      <td>276</td>\n",
       "      <td>7800000</td>\n",
       "    </tr>\n",
       "    <tr>\n",
       "      <th>8</th>\n",
       "      <td>8.0</td>\n",
       "      <td>383</td>\n",
       "      <td>7450000</td>\n",
       "    </tr>\n",
       "    <tr>\n",
       "      <th>9</th>\n",
       "      <td>9.0</td>\n",
       "      <td>297</td>\n",
       "      <td>5300000</td>\n",
       "    </tr>\n",
       "    <tr>\n",
       "      <th>10</th>\n",
       "      <td>10.0</td>\n",
       "      <td>329</td>\n",
       "      <td>5000000</td>\n",
       "    </tr>\n",
       "    <tr>\n",
       "      <th>11</th>\n",
       "      <td>11.0</td>\n",
       "      <td>426</td>\n",
       "      <td>5072500</td>\n",
       "    </tr>\n",
       "    <tr>\n",
       "      <th>12</th>\n",
       "      <td>12.0</td>\n",
       "      <td>449</td>\n",
       "      <td>4950000</td>\n",
       "    </tr>\n",
       "    <tr>\n",
       "      <th>13</th>\n",
       "      <td>13.0</td>\n",
       "      <td>457</td>\n",
       "      <td>5200000</td>\n",
       "    </tr>\n",
       "    <tr>\n",
       "      <th>14</th>\n",
       "      <td>14.0</td>\n",
       "      <td>371</td>\n",
       "      <td>4860000</td>\n",
       "    </tr>\n",
       "    <tr>\n",
       "      <th>15</th>\n",
       "      <td>15.0</td>\n",
       "      <td>439</td>\n",
       "      <td>4900000</td>\n",
       "    </tr>\n",
       "    <tr>\n",
       "      <th>16</th>\n",
       "      <td>16.0</td>\n",
       "      <td>378</td>\n",
       "      <td>4750000</td>\n",
       "    </tr>\n",
       "    <tr>\n",
       "      <th>17</th>\n",
       "      <td>17.0</td>\n",
       "      <td>356</td>\n",
       "      <td>4580000</td>\n",
       "    </tr>\n",
       "    <tr>\n",
       "      <th>18</th>\n",
       "      <td>18.0</td>\n",
       "      <td>148</td>\n",
       "      <td>4300000</td>\n",
       "    </tr>\n",
       "    <tr>\n",
       "      <th>19</th>\n",
       "      <td>19.0</td>\n",
       "      <td>110</td>\n",
       "      <td>4500000</td>\n",
       "    </tr>\n",
       "    <tr>\n",
       "      <th>20</th>\n",
       "      <td>20.0</td>\n",
       "      <td>40</td>\n",
       "      <td>5625000</td>\n",
       "    </tr>\n",
       "    <tr>\n",
       "      <th>21</th>\n",
       "      <td>21.0</td>\n",
       "      <td>102</td>\n",
       "      <td>5289476</td>\n",
       "    </tr>\n",
       "    <tr>\n",
       "      <th>22</th>\n",
       "      <td>22.0</td>\n",
       "      <td>142</td>\n",
       "      <td>4925000</td>\n",
       "    </tr>\n",
       "    <tr>\n",
       "      <th>23</th>\n",
       "      <td>23.0</td>\n",
       "      <td>65</td>\n",
       "      <td>4500000</td>\n",
       "    </tr>\n",
       "    <tr>\n",
       "      <th>24</th>\n",
       "      <td>24.0</td>\n",
       "      <td>25</td>\n",
       "      <td>3480000</td>\n",
       "    </tr>\n",
       "    <tr>\n",
       "      <th>25</th>\n",
       "      <td>25.0</td>\n",
       "      <td>24</td>\n",
       "      <td>3794881</td>\n",
       "    </tr>\n",
       "    <tr>\n",
       "      <th>26</th>\n",
       "      <td>26.0</td>\n",
       "      <td>46</td>\n",
       "      <td>3320000</td>\n",
       "    </tr>\n",
       "    <tr>\n",
       "      <th>27</th>\n",
       "      <td>27.0</td>\n",
       "      <td>2</td>\n",
       "      <td>8300000</td>\n",
       "    </tr>\n",
       "    <tr>\n",
       "      <th>28</th>\n",
       "      <td>28.0</td>\n",
       "      <td>7</td>\n",
       "      <td>4990000</td>\n",
       "    </tr>\n",
       "    <tr>\n",
       "      <th>29</th>\n",
       "      <td>29.0</td>\n",
       "      <td>5</td>\n",
       "      <td>4535000</td>\n",
       "    </tr>\n",
       "  </tbody>\n",
       "</table>\n",
       "</div>"
      ],
      "text/plain": [
       "    city_centers_km  nunique_last_price  median_last_price\n",
       "0               0.0                  24           17900000\n",
       "1               1.0                 149           11395000\n",
       "2               2.0                 191           10000000\n",
       "3               3.0                 217            8409000\n",
       "4               4.0                 366            9200000\n",
       "5               5.0                 495            9500000\n",
       "6               6.0                 398            8900000\n",
       "7               7.0                 276            7800000\n",
       "8               8.0                 383            7450000\n",
       "9               9.0                 297            5300000\n",
       "10             10.0                 329            5000000\n",
       "11             11.0                 426            5072500\n",
       "12             12.0                 449            4950000\n",
       "13             13.0                 457            5200000\n",
       "14             14.0                 371            4860000\n",
       "15             15.0                 439            4900000\n",
       "16             16.0                 378            4750000\n",
       "17             17.0                 356            4580000\n",
       "18             18.0                 148            4300000\n",
       "19             19.0                 110            4500000\n",
       "20             20.0                  40            5625000\n",
       "21             21.0                 102            5289476\n",
       "22             22.0                 142            4925000\n",
       "23             23.0                  65            4500000\n",
       "24             24.0                  25            3480000\n",
       "25             25.0                  24            3794881\n",
       "26             26.0                  46            3320000\n",
       "27             27.0                   2            8300000\n",
       "28             28.0                   7            4990000\n",
       "29             29.0                   5            4535000"
      ]
     },
     "metadata": {},
     "output_type": "display_data"
    },
    {
     "data": {
      "text/plain": [
       "'Средняя стоимость одного километра приближения к ценрту равна: 607500'"
      ]
     },
     "metadata": {},
     "output_type": "display_data"
    },
    {
     "data": {
      "text/plain": [
       "<AxesSubplot:xlabel='city_centers_km'>"
      ]
     },
     "execution_count": 424,
     "metadata": {},
     "output_type": "execute_result"
    },
    {
     "data": {
      "image/png": "[encoded data removed]",
      "text/plain": [
       "<Figure size 1080x432 with 1 Axes>"
      ]
     },
     "metadata": {
      "needs_background": "light"
     },
     "output_type": "display_data"
    }
   ],
   "source": [
    "import numpy as np\n",
    "\n",
    "city_centers_km = data.query('locality_name == \"Санкт-Петербург\"').pivot_table(index='city_centers_km', values='last_price', aggfunc=[pd.Series.nunique, np.median]).reset_index() #.sort_values('sqm_price', ascending=False)\n",
    "city_centers_km.columns = ['_'.join(col).rstrip('_') for col in city_centers_km.columns.values]\n",
    "display(city_centers_km)\n",
    "city_centers_km_price = (city_centers_km.loc[0, 'median_last_price'] - city_centers_km.loc[26, 'median_last_price']) / city_centers_km.loc[0, 'nunique_last_price']\n",
    "display(f'Средняя стоимость одного километра приближения к ценрту равна: {city_centers_km_price.astype(int)}')\n",
    "\n",
    "data.query('locality_name == \"Санкт-Петербург\"').pivot_table(index='city_centers_km', values='last_price', aggfunc=[np.median]).plot(xlim=(0, 26), kind='bar', figsize=(15, 6))\n"
   ]
  },
  {
   "cell_type": "markdown",
   "metadata": {},
   "source": [
    "**Вывод:** Выборки по 27 - 29 км от центра слишком малы, чтобы на них полагаться, поэтому возьмем диапазон от 0 км (то есть ценра до 26км от него). Как распределены шаги между медианными значениями цен по каждому километру можно судить по графику. Среднюю же стоимость километра для простоты определим как среднее арифметическое (см. расчеты и вывод результата выше)."
   ]
  },
  {
   "cell_type": "markdown",
   "metadata": {},
   "source": [
    "### Общий вывод"
   ]
  },
  {
   "cell_type": "markdown",
   "metadata": {},
   "source": [
    "**Главное, от чего зависит стоимость недвижимости при прочих равных - это расположение. Стоимость кв.м. в Санкт-Петербурге ожидаемо выше, чем в пригороде. В рамках же самого города, естественно стоимость метра растет по мере приближения к центру города. В одном и том же месте недвижимость будет тем дороже, чем выше площадь квартиры (самая сильная линейная связь), жилая площадь, площадь кухни (это если говорить о полной стоимости, а если о цене квадратного метра, то наоборот, площадь кухни влияет сильнее, чем общая и жилая площади), далее количество комнат, этаж и его тип. Год, месяц и день недели на фоне всего перечисленного выше практически не влияет, однако если эти показатели сравнивать, то степень влияния уменьшается именно в таком порядка: от года к дню недели. Если условия в объявлении адекватны рынку, то квартира скорее всего уйдет за первые 2 месяца, далее вероятность уже пойдет на спад. Ну и лучше продать до мая или уже начинать с сентября, чтобы было больше шансов.**"
   ]
  }
 ],
 "metadata": {
  "ExecuteTimeLog": [
   {
    "duration": 46,
    "start_time": "2022-11-04T11:13:59.986Z"
   },
   {
    "duration": 44,
    "start_time": "2022-11-04T11:14:14.839Z"
   },
   {
    "duration": 144,
    "start_time": "2022-11-04T11:14:51.559Z"
   },
   {
    "duration": 419,
    "start_time": "2022-11-04T11:15:04.618Z"
   },
   {
    "duration": 85,
    "start_time": "2022-11-04T11:15:25.177Z"
   },
   {
    "duration": 100,
    "start_time": "2022-11-04T11:16:31.811Z"
   },
   {
    "duration": 86,
    "start_time": "2022-11-04T11:17:02.632Z"
   },
   {
    "duration": 84,
    "start_time": "2022-11-04T11:18:17.703Z"
   },
   {
    "duration": 91,
    "start_time": "2022-11-04T11:18:39.196Z"
   },
   {
    "duration": 87,
    "start_time": "2022-11-04T11:19:07.183Z"
   },
   {
    "duration": 88,
    "start_time": "2022-11-04T11:20:23.747Z"
   },
   {
    "duration": 114,
    "start_time": "2022-11-04T11:20:36.805Z"
   },
   {
    "duration": 1989,
    "start_time": "2022-11-04T11:21:00.343Z"
   },
   {
    "duration": 5,
    "start_time": "2022-11-04T11:46:51.483Z"
   },
   {
    "duration": 5,
    "start_time": "2022-11-04T11:47:19.093Z"
   },
   {
    "duration": 6,
    "start_time": "2022-11-04T11:48:06.452Z"
   },
   {
    "duration": 120,
    "start_time": "2022-11-04T11:48:13.712Z"
   },
   {
    "duration": 123,
    "start_time": "2022-11-04T11:48:46.968Z"
   },
   {
    "duration": 146,
    "start_time": "2022-11-04T11:50:25.128Z"
   },
   {
    "duration": 128,
    "start_time": "2022-11-04T11:51:33.752Z"
   },
   {
    "duration": 143,
    "start_time": "2022-11-04T11:51:40.205Z"
   },
   {
    "duration": 197,
    "start_time": "2022-11-04T11:52:01.805Z"
   },
   {
    "duration": 136,
    "start_time": "2022-11-04T11:52:20.869Z"
   },
   {
    "duration": 135,
    "start_time": "2022-11-04T11:52:29.729Z"
   },
   {
    "duration": 5,
    "start_time": "2022-11-04T11:53:14.152Z"
   },
   {
    "duration": 5,
    "start_time": "2022-11-04T11:53:25.410Z"
   },
   {
    "duration": 154,
    "start_time": "2022-11-04T11:53:34.021Z"
   },
   {
    "duration": 679,
    "start_time": "2022-11-04T14:38:06.503Z"
   },
   {
    "duration": 2435,
    "start_time": "2022-11-04T14:38:23.456Z"
   },
   {
    "duration": 110,
    "start_time": "2022-11-04T14:38:38.348Z"
   },
   {
    "duration": 121,
    "start_time": "2022-11-04T14:42:38.744Z"
   },
   {
    "duration": 41,
    "start_time": "2022-11-04T14:42:44.222Z"
   },
   {
    "duration": 70,
    "start_time": "2022-11-04T14:42:56.437Z"
   },
   {
    "duration": 98,
    "start_time": "2022-11-04T14:43:36.766Z"
   },
   {
    "duration": 118,
    "start_time": "2022-11-04T14:44:41.729Z"
   },
   {
    "duration": 111,
    "start_time": "2022-11-04T14:44:57.732Z"
   },
   {
    "duration": 110,
    "start_time": "2022-11-04T14:45:20.262Z"
   },
   {
    "duration": 261,
    "start_time": "2022-11-04T14:45:27.248Z"
   },
   {
    "duration": 105,
    "start_time": "2022-11-04T14:45:33.335Z"
   },
   {
    "duration": 117,
    "start_time": "2022-11-04T14:45:43.743Z"
   },
   {
    "duration": 136,
    "start_time": "2022-11-04T14:46:13.705Z"
   },
   {
    "duration": 117,
    "start_time": "2022-11-04T14:46:21.324Z"
   },
   {
    "duration": 136,
    "start_time": "2022-11-04T14:47:07.058Z"
   },
   {
    "duration": 9,
    "start_time": "2022-11-04T15:09:11.985Z"
   },
   {
    "duration": 15,
    "start_time": "2022-11-04T15:18:21.699Z"
   },
   {
    "duration": 4,
    "start_time": "2022-11-04T15:28:17.779Z"
   },
   {
    "duration": 3,
    "start_time": "2022-11-04T15:28:42.641Z"
   },
   {
    "duration": 3,
    "start_time": "2022-11-04T15:33:03.289Z"
   },
   {
    "duration": 7,
    "start_time": "2022-11-04T15:33:21.407Z"
   },
   {
    "duration": 6,
    "start_time": "2022-11-04T15:34:23.855Z"
   },
   {
    "duration": 6,
    "start_time": "2022-11-04T15:35:07.473Z"
   },
   {
    "duration": 10,
    "start_time": "2022-11-04T15:35:45.204Z"
   },
   {
    "duration": 26,
    "start_time": "2022-11-04T15:37:39.963Z"
   },
   {
    "duration": 42,
    "start_time": "2022-11-04T15:40:13.801Z"
   },
   {
    "duration": 40,
    "start_time": "2022-11-04T15:40:32.665Z"
   },
   {
    "duration": 55,
    "start_time": "2022-11-04T15:44:01.843Z"
   },
   {
    "duration": 2824,
    "start_time": "2022-11-04T20:43:48.945Z"
   },
   {
    "duration": 1842,
    "start_time": "2022-11-04T21:12:06.958Z"
   },
   {
    "duration": 11,
    "start_time": "2022-11-04T21:12:18.907Z"
   },
   {
    "duration": 10,
    "start_time": "2022-11-04T21:12:30.547Z"
   },
   {
    "duration": 4,
    "start_time": "2022-11-04T21:12:35.141Z"
   },
   {
    "duration": 7,
    "start_time": "2022-11-04T21:13:19.808Z"
   },
   {
    "duration": 6,
    "start_time": "2022-11-04T21:13:32.574Z"
   },
   {
    "duration": 8,
    "start_time": "2022-11-04T21:22:57.840Z"
   },
   {
    "duration": 37,
    "start_time": "2022-11-04T21:23:27.195Z"
   },
   {
    "duration": 52,
    "start_time": "2022-11-04T21:23:54.254Z"
   },
   {
    "duration": 27,
    "start_time": "2022-11-04T21:34:59.496Z"
   },
   {
    "duration": 7,
    "start_time": "2022-11-04T21:46:54.995Z"
   },
   {
    "duration": 6,
    "start_time": "2022-11-04T22:06:28.650Z"
   },
   {
    "duration": 9,
    "start_time": "2022-11-04T22:06:49.708Z"
   },
   {
    "duration": 61,
    "start_time": "2022-11-04T22:13:42.635Z"
   },
   {
    "duration": 105,
    "start_time": "2022-11-04T23:03:05.509Z"
   },
   {
    "duration": 779,
    "start_time": "2022-11-04T23:05:58.853Z"
   },
   {
    "duration": 385,
    "start_time": "2022-11-04T23:06:59.038Z"
   },
   {
    "duration": 9,
    "start_time": "2022-11-04T23:10:20.893Z"
   },
   {
    "duration": 9,
    "start_time": "2022-11-04T23:11:56.610Z"
   },
   {
    "duration": 9,
    "start_time": "2022-11-04T23:12:19.224Z"
   },
   {
    "duration": 1943,
    "start_time": "2022-11-04T23:12:29.115Z"
   },
   {
    "duration": 7,
    "start_time": "2022-11-04T23:12:39.479Z"
   },
   {
    "duration": 66,
    "start_time": "2022-11-04T23:12:44.104Z"
   },
   {
    "duration": 9,
    "start_time": "2022-11-04T23:12:48.734Z"
   },
   {
    "duration": 11,
    "start_time": "2022-11-04T23:13:00.757Z"
   },
   {
    "duration": 9,
    "start_time": "2022-11-04T23:13:19.773Z"
   },
   {
    "duration": 12,
    "start_time": "2022-11-04T23:14:55.121Z"
   },
   {
    "duration": 9,
    "start_time": "2022-11-04T23:16:13.540Z"
   },
   {
    "duration": 11,
    "start_time": "2022-11-04T23:16:58.421Z"
   },
   {
    "duration": 7,
    "start_time": "2022-11-04T23:17:53.578Z"
   },
   {
    "duration": 7,
    "start_time": "2022-11-04T23:19:11.101Z"
   },
   {
    "duration": 8,
    "start_time": "2022-11-04T23:19:36.254Z"
   },
   {
    "duration": 8,
    "start_time": "2022-11-04T23:21:18.638Z"
   },
   {
    "duration": 10,
    "start_time": "2022-11-04T23:24:53.729Z"
   },
   {
    "duration": 8,
    "start_time": "2022-11-04T23:52:45.810Z"
   },
   {
    "duration": 10,
    "start_time": "2022-11-04T23:53:18.961Z"
   },
   {
    "duration": 11,
    "start_time": "2022-11-04T23:54:17.007Z"
   },
   {
    "duration": 17,
    "start_time": "2022-11-04T23:54:41.473Z"
   },
   {
    "duration": 8,
    "start_time": "2022-11-05T00:04:06.048Z"
   },
   {
    "duration": 1759,
    "start_time": "2022-11-05T00:04:26.931Z"
   },
   {
    "duration": 7,
    "start_time": "2022-11-05T00:04:34.722Z"
   },
   {
    "duration": 180,
    "start_time": "2022-11-05T00:04:37.870Z"
   },
   {
    "duration": 8,
    "start_time": "2022-11-05T00:04:41.036Z"
   },
   {
    "duration": 21,
    "start_time": "2022-11-05T00:04:45.633Z"
   },
   {
    "duration": 7,
    "start_time": "2022-11-05T00:04:52.683Z"
   },
   {
    "duration": 7,
    "start_time": "2022-11-05T00:18:09.441Z"
   },
   {
    "duration": 6,
    "start_time": "2022-11-05T00:24:24.647Z"
   },
   {
    "duration": 6,
    "start_time": "2022-11-05T00:34:58.469Z"
   },
   {
    "duration": 18,
    "start_time": "2022-11-05T00:35:54.333Z"
   },
   {
    "duration": 9,
    "start_time": "2022-11-05T00:36:03.538Z"
   },
   {
    "duration": 5,
    "start_time": "2022-11-05T00:37:08.266Z"
   },
   {
    "duration": 5,
    "start_time": "2022-11-05T00:37:47.482Z"
   },
   {
    "duration": 9,
    "start_time": "2022-11-05T00:38:53.064Z"
   },
   {
    "duration": 40,
    "start_time": "2022-11-05T00:40:32.007Z"
   },
   {
    "duration": 57,
    "start_time": "2022-11-05T00:40:45.499Z"
   },
   {
    "duration": 40,
    "start_time": "2022-11-05T00:48:31.491Z"
   },
   {
    "duration": 33,
    "start_time": "2022-11-05T00:49:40.898Z"
   },
   {
    "duration": 16,
    "start_time": "2022-11-05T01:05:18.495Z"
   },
   {
    "duration": 27,
    "start_time": "2022-11-05T01:08:05.477Z"
   },
   {
    "duration": 17,
    "start_time": "2022-11-05T01:08:40.145Z"
   },
   {
    "duration": 17,
    "start_time": "2022-11-05T01:09:59.190Z"
   },
   {
    "duration": 50,
    "start_time": "2022-11-05T01:11:35.567Z"
   },
   {
    "duration": 23,
    "start_time": "2022-11-05T01:11:57.190Z"
   },
   {
    "duration": 28,
    "start_time": "2022-11-05T01:12:41.372Z"
   },
   {
    "duration": 79,
    "start_time": "2022-11-05T01:13:55.808Z"
   },
   {
    "duration": 84,
    "start_time": "2022-11-05T01:15:05.407Z"
   },
   {
    "duration": 48,
    "start_time": "2022-11-05T13:01:31.928Z"
   },
   {
    "duration": 2860,
    "start_time": "2022-11-05T13:01:43.195Z"
   },
   {
    "duration": 7,
    "start_time": "2022-11-05T13:02:40.819Z"
   },
   {
    "duration": 71,
    "start_time": "2022-11-05T13:02:49.373Z"
   },
   {
    "duration": 9,
    "start_time": "2022-11-05T13:02:54.836Z"
   },
   {
    "duration": 6,
    "start_time": "2022-11-05T13:03:03.680Z"
   },
   {
    "duration": 84,
    "start_time": "2022-11-05T13:03:12.237Z"
   },
   {
    "duration": 38,
    "start_time": "2022-11-05T13:29:29.997Z"
   },
   {
    "duration": 35,
    "start_time": "2022-11-05T13:29:41.429Z"
   },
   {
    "duration": 42,
    "start_time": "2022-11-05T13:29:52.756Z"
   },
   {
    "duration": 35,
    "start_time": "2022-11-05T13:30:46.803Z"
   },
   {
    "duration": 36,
    "start_time": "2022-11-05T13:31:48.475Z"
   },
   {
    "duration": 6,
    "start_time": "2022-11-05T13:41:24.414Z"
   },
   {
    "duration": 7,
    "start_time": "2022-11-05T13:41:45.600Z"
   },
   {
    "duration": 7,
    "start_time": "2022-11-05T13:42:37.992Z"
   },
   {
    "duration": 79,
    "start_time": "2022-11-05T13:45:56.381Z"
   },
   {
    "duration": 3,
    "start_time": "2022-11-05T14:08:24.034Z"
   },
   {
    "duration": 20,
    "start_time": "2022-11-05T14:08:31.984Z"
   },
   {
    "duration": 11,
    "start_time": "2022-11-05T14:08:41.559Z"
   },
   {
    "duration": 12,
    "start_time": "2022-11-05T14:09:30.168Z"
   },
   {
    "duration": 13,
    "start_time": "2022-11-05T14:11:36.404Z"
   },
   {
    "duration": 21,
    "start_time": "2022-11-05T14:25:01.385Z"
   },
   {
    "duration": 12,
    "start_time": "2022-11-05T14:25:38.771Z"
   },
   {
    "duration": 23,
    "start_time": "2022-11-05T14:39:54.039Z"
   },
   {
    "duration": 25,
    "start_time": "2022-11-05T14:40:23.035Z"
   },
   {
    "duration": 6,
    "start_time": "2022-11-05T15:00:33.064Z"
   },
   {
    "duration": 29,
    "start_time": "2022-11-05T15:02:51.767Z"
   },
   {
    "duration": 99,
    "start_time": "2022-11-05T15:11:12.361Z"
   },
   {
    "duration": 13,
    "start_time": "2022-11-05T15:15:16.805Z"
   },
   {
    "duration": 1735,
    "start_time": "2022-11-05T15:16:00.205Z"
   },
   {
    "duration": 63,
    "start_time": "2022-11-05T15:16:54.652Z"
   },
   {
    "duration": 10,
    "start_time": "2022-11-05T15:30:00.382Z"
   },
   {
    "duration": 86,
    "start_time": "2022-11-05T15:31:43.933Z"
   },
   {
    "duration": 9,
    "start_time": "2022-11-05T15:32:02.389Z"
   },
   {
    "duration": 13,
    "start_time": "2022-11-05T15:32:28.179Z"
   },
   {
    "duration": 8,
    "start_time": "2022-11-05T15:32:40.888Z"
   },
   {
    "duration": 18,
    "start_time": "2022-11-05T15:32:49.619Z"
   },
   {
    "duration": 51,
    "start_time": "2022-11-05T21:08:29.562Z"
   },
   {
    "duration": 707,
    "start_time": "2022-11-05T21:08:36.616Z"
   },
   {
    "duration": 23,
    "start_time": "2022-11-05T21:08:41.654Z"
   },
   {
    "duration": 25,
    "start_time": "2022-11-05T21:08:48.579Z"
   },
   {
    "duration": 71,
    "start_time": "2022-11-05T21:10:45.367Z"
   },
   {
    "duration": 2310,
    "start_time": "2022-11-05T21:10:52.966Z"
   },
   {
    "duration": 11,
    "start_time": "2022-11-05T21:11:10.677Z"
   },
   {
    "duration": 20,
    "start_time": "2022-11-05T21:12:33.200Z"
   },
   {
    "duration": 25,
    "start_time": "2022-11-05T21:12:43.591Z"
   },
   {
    "duration": 14,
    "start_time": "2022-11-05T21:12:53.839Z"
   },
   {
    "duration": 33,
    "start_time": "2022-11-05T21:12:59.615Z"
   },
   {
    "duration": 2,
    "start_time": "2022-11-05T21:14:05.243Z"
   },
   {
    "duration": 39,
    "start_time": "2022-11-05T21:16:03.984Z"
   },
   {
    "duration": 20,
    "start_time": "2022-11-05T21:16:10.421Z"
   },
   {
    "duration": 16,
    "start_time": "2022-11-05T21:22:28.470Z"
   },
   {
    "duration": 20,
    "start_time": "2022-11-05T21:32:26.297Z"
   },
   {
    "duration": 22,
    "start_time": "2022-11-05T21:32:46.345Z"
   },
   {
    "duration": 16,
    "start_time": "2022-11-05T21:36:43.190Z"
   },
   {
    "duration": 9,
    "start_time": "2022-11-05T21:37:46.975Z"
   },
   {
    "duration": 13,
    "start_time": "2022-11-05T21:38:07.785Z"
   },
   {
    "duration": 109,
    "start_time": "2022-11-05T21:39:24.319Z"
   },
   {
    "duration": 14,
    "start_time": "2022-11-05T21:39:29.654Z"
   },
   {
    "duration": 25,
    "start_time": "2022-11-05T21:39:42.552Z"
   },
   {
    "duration": 72,
    "start_time": "2022-11-05T21:39:46.773Z"
   },
   {
    "duration": 1961,
    "start_time": "2022-11-05T21:40:48.637Z"
   },
   {
    "duration": 8,
    "start_time": "2022-11-05T21:41:00.123Z"
   },
   {
    "duration": 16,
    "start_time": "2022-11-05T21:41:08.163Z"
   },
   {
    "duration": 8,
    "start_time": "2022-11-05T21:43:54.292Z"
   },
   {
    "duration": 26,
    "start_time": "2022-11-05T21:44:04.276Z"
   },
   {
    "duration": 11,
    "start_time": "2022-11-05T21:44:07.302Z"
   },
   {
    "duration": 27,
    "start_time": "2022-11-05T21:44:56.648Z"
   },
   {
    "duration": 33,
    "start_time": "2022-11-05T21:45:42.376Z"
   },
   {
    "duration": 10,
    "start_time": "2022-11-05T21:46:09.843Z"
   },
   {
    "duration": 16,
    "start_time": "2022-11-05T21:46:31.908Z"
   },
   {
    "duration": 32,
    "start_time": "2022-11-05T21:46:44.847Z"
   },
   {
    "duration": 15,
    "start_time": "2022-11-05T22:21:05.606Z"
   },
   {
    "duration": 32,
    "start_time": "2022-11-05T22:21:59.908Z"
   },
   {
    "duration": 22,
    "start_time": "2022-11-05T22:22:30.485Z"
   },
   {
    "duration": 23,
    "start_time": "2022-11-05T22:27:35.918Z"
   },
   {
    "duration": 37,
    "start_time": "2022-11-05T22:27:56.974Z"
   },
   {
    "duration": 38,
    "start_time": "2022-11-05T22:29:01.670Z"
   },
   {
    "duration": 124,
    "start_time": "2022-11-05T22:30:38.860Z"
   },
   {
    "duration": 14,
    "start_time": "2022-11-05T22:30:44.884Z"
   },
   {
    "duration": 26,
    "start_time": "2022-11-05T22:30:52.193Z"
   },
   {
    "duration": 70,
    "start_time": "2022-11-05T22:30:56.027Z"
   },
   {
    "duration": 1949,
    "start_time": "2022-11-05T22:30:59.787Z"
   },
   {
    "duration": 7,
    "start_time": "2022-11-05T22:31:06.281Z"
   },
   {
    "duration": 15,
    "start_time": "2022-11-05T22:31:11.596Z"
   },
   {
    "duration": 23,
    "start_time": "2022-11-05T22:31:21.172Z"
   },
   {
    "duration": 8,
    "start_time": "2022-11-05T22:31:24.623Z"
   },
   {
    "duration": 26,
    "start_time": "2022-11-05T22:31:29.283Z"
   },
   {
    "duration": 13,
    "start_time": "2022-11-05T22:31:50.489Z"
   },
   {
    "duration": 24,
    "start_time": "2022-11-05T22:32:12.861Z"
   },
   {
    "duration": 17,
    "start_time": "2022-11-05T22:32:17.224Z"
   },
   {
    "duration": 37,
    "start_time": "2022-11-05T22:32:26.156Z"
   },
   {
    "duration": 52,
    "start_time": "2022-11-05T22:33:07.365Z"
   },
   {
    "duration": 56,
    "start_time": "2022-11-05T22:49:02.281Z"
   },
   {
    "duration": 67,
    "start_time": "2022-11-05T22:52:15.728Z"
   },
   {
    "duration": 20,
    "start_time": "2022-11-05T22:58:27.511Z"
   },
   {
    "duration": 18,
    "start_time": "2022-11-05T22:59:37.313Z"
   },
   {
    "duration": 16,
    "start_time": "2022-11-05T22:59:52.578Z"
   },
   {
    "duration": 29,
    "start_time": "2022-11-05T23:00:47.309Z"
   },
   {
    "duration": 20,
    "start_time": "2022-11-05T23:01:10.841Z"
   },
   {
    "duration": 70,
    "start_time": "2022-11-05T23:02:31.069Z"
   },
   {
    "duration": 74,
    "start_time": "2022-11-05T23:20:34.130Z"
   },
   {
    "duration": 70,
    "start_time": "2022-11-05T23:31:18.848Z"
   },
   {
    "duration": 109,
    "start_time": "2022-11-05T23:33:25.923Z"
   },
   {
    "duration": 100,
    "start_time": "2022-11-05T23:33:55.415Z"
   },
   {
    "duration": 96,
    "start_time": "2022-11-05T23:36:42.546Z"
   },
   {
    "duration": 136,
    "start_time": "2022-11-05T23:44:48.423Z"
   },
   {
    "duration": 135,
    "start_time": "2022-11-05T23:45:54.492Z"
   },
   {
    "duration": 123,
    "start_time": "2022-11-05T23:46:26.056Z"
   },
   {
    "duration": 19,
    "start_time": "2022-11-05T23:51:29.810Z"
   },
   {
    "duration": 49,
    "start_time": "2022-11-05T23:58:08.693Z"
   },
   {
    "duration": 22,
    "start_time": "2022-11-05T23:58:36.553Z"
   },
   {
    "duration": 46,
    "start_time": "2022-11-05T23:58:58.269Z"
   },
   {
    "duration": 102,
    "start_time": "2022-11-06T08:24:34.280Z"
   },
   {
    "duration": 43,
    "start_time": "2022-11-06T08:24:45.851Z"
   },
   {
    "duration": 521,
    "start_time": "2022-11-06T08:25:26.931Z"
   },
   {
    "duration": 15,
    "start_time": "2022-11-06T08:25:31.418Z"
   },
   {
    "duration": 2221,
    "start_time": "2022-11-06T08:25:49.775Z"
   },
   {
    "duration": 7,
    "start_time": "2022-11-06T08:25:55.441Z"
   },
   {
    "duration": 16,
    "start_time": "2022-11-06T08:26:00.295Z"
   },
   {
    "duration": 70,
    "start_time": "2022-11-06T08:26:23.191Z"
   },
   {
    "duration": 26,
    "start_time": "2022-11-06T08:26:34.717Z"
   },
   {
    "duration": 19,
    "start_time": "2022-11-06T08:27:11.056Z"
   },
   {
    "duration": 9,
    "start_time": "2022-11-06T08:27:18.854Z"
   },
   {
    "duration": 30,
    "start_time": "2022-11-06T08:27:22.462Z"
   },
   {
    "duration": 14,
    "start_time": "2022-11-06T08:27:29.052Z"
   },
   {
    "duration": 30,
    "start_time": "2022-11-06T08:27:33.828Z"
   },
   {
    "duration": 22,
    "start_time": "2022-11-06T08:27:37.576Z"
   },
   {
    "duration": 163,
    "start_time": "2022-11-06T08:27:53.061Z"
   },
   {
    "duration": 138,
    "start_time": "2022-11-06T08:30:18.977Z"
   },
   {
    "duration": 107,
    "start_time": "2022-11-06T08:31:02.441Z"
   },
   {
    "duration": 165,
    "start_time": "2022-11-06T08:31:18.219Z"
   },
   {
    "duration": 140,
    "start_time": "2022-11-06T08:33:29.721Z"
   },
   {
    "duration": 110,
    "start_time": "2022-11-06T08:33:44.109Z"
   },
   {
    "duration": 15,
    "start_time": "2022-11-06T08:33:48.239Z"
   },
   {
    "duration": 27,
    "start_time": "2022-11-06T08:33:55.044Z"
   },
   {
    "duration": 2078,
    "start_time": "2022-11-06T08:33:58.863Z"
   },
   {
    "duration": 8,
    "start_time": "2022-11-06T08:34:07.827Z"
   },
   {
    "duration": 18,
    "start_time": "2022-11-06T08:34:13.872Z"
   },
   {
    "duration": 24,
    "start_time": "2022-11-06T08:34:19.975Z"
   },
   {
    "duration": 25,
    "start_time": "2022-11-06T08:34:27.340Z"
   },
   {
    "duration": 14,
    "start_time": "2022-11-06T08:34:31.640Z"
   },
   {
    "duration": 26,
    "start_time": "2022-11-06T08:34:35.341Z"
   },
   {
    "duration": 36,
    "start_time": "2022-11-06T08:34:38.041Z"
   },
   {
    "duration": 170,
    "start_time": "2022-11-06T08:34:56.028Z"
   },
   {
    "duration": 139,
    "start_time": "2022-11-06T08:37:58.653Z"
   },
   {
    "duration": 151,
    "start_time": "2022-11-06T08:41:13.240Z"
   },
   {
    "duration": 82,
    "start_time": "2022-11-06T08:46:44.902Z"
   },
   {
    "duration": 14,
    "start_time": "2022-11-06T08:48:34.116Z"
   },
   {
    "duration": 40,
    "start_time": "2022-11-06T08:49:01.595Z"
   },
   {
    "duration": 26,
    "start_time": "2022-11-06T08:50:51.141Z"
   },
   {
    "duration": 18,
    "start_time": "2022-11-06T08:51:07.442Z"
   },
   {
    "duration": 42,
    "start_time": "2022-11-06T08:51:58.344Z"
   },
   {
    "duration": 6,
    "start_time": "2022-11-06T08:52:49.858Z"
   },
   {
    "duration": 24,
    "start_time": "2022-11-06T08:54:47.859Z"
   },
   {
    "duration": 3,
    "start_time": "2022-11-06T11:21:57.138Z"
   },
   {
    "duration": 129,
    "start_time": "2022-11-06T11:22:31.852Z"
   },
   {
    "duration": 200,
    "start_time": "2022-11-06T11:23:06.479Z"
   },
   {
    "duration": 119,
    "start_time": "2022-11-06T11:23:43.907Z"
   },
   {
    "duration": 121,
    "start_time": "2022-11-06T11:24:21.162Z"
   },
   {
    "duration": 110,
    "start_time": "2022-11-06T11:25:15.473Z"
   },
   {
    "duration": 166,
    "start_time": "2022-11-06T11:26:01.151Z"
   },
   {
    "duration": 165,
    "start_time": "2022-11-06T11:27:31.255Z"
   },
   {
    "duration": 275,
    "start_time": "2022-11-06T11:35:08.650Z"
   },
   {
    "duration": 130,
    "start_time": "2022-11-06T11:36:27.986Z"
   },
   {
    "duration": 118,
    "start_time": "2022-11-06T11:40:59.447Z"
   },
   {
    "duration": 144,
    "start_time": "2022-11-06T11:47:47.037Z"
   },
   {
    "duration": 129,
    "start_time": "2022-11-06T11:48:06.084Z"
   },
   {
    "duration": 118,
    "start_time": "2022-11-06T11:48:41.714Z"
   },
   {
    "duration": 114,
    "start_time": "2022-11-06T11:48:54.963Z"
   },
   {
    "duration": 16,
    "start_time": "2022-11-06T11:48:58.650Z"
   },
   {
    "duration": 26,
    "start_time": "2022-11-06T11:49:04.911Z"
   },
   {
    "duration": 1956,
    "start_time": "2022-11-06T11:49:09.208Z"
   },
   {
    "duration": 7,
    "start_time": "2022-11-06T11:49:18.417Z"
   },
   {
    "duration": 15,
    "start_time": "2022-11-06T11:49:27.190Z"
   },
   {
    "duration": 23,
    "start_time": "2022-11-06T11:50:52.583Z"
   },
   {
    "duration": 24,
    "start_time": "2022-11-06T11:51:02.098Z"
   },
   {
    "duration": 14,
    "start_time": "2022-11-06T11:51:06.773Z"
   },
   {
    "duration": 34,
    "start_time": "2022-11-06T11:51:14.471Z"
   },
   {
    "duration": 23,
    "start_time": "2022-11-06T11:52:17.805Z"
   },
   {
    "duration": 154,
    "start_time": "2022-11-06T11:52:35.213Z"
   },
   {
    "duration": 166,
    "start_time": "2022-11-06T11:54:02.898Z"
   },
   {
    "duration": 174,
    "start_time": "2022-11-06T11:55:33.918Z"
   },
   {
    "duration": 28,
    "start_time": "2022-11-06T11:55:55.034Z"
   },
   {
    "duration": 195,
    "start_time": "2022-11-06T11:56:00.600Z"
   },
   {
    "duration": 114,
    "start_time": "2022-11-06T11:56:07.790Z"
   },
   {
    "duration": 15,
    "start_time": "2022-11-06T11:56:12.661Z"
   },
   {
    "duration": 26,
    "start_time": "2022-11-06T11:56:16.499Z"
   },
   {
    "duration": 1993,
    "start_time": "2022-11-06T11:56:20.202Z"
   },
   {
    "duration": 7,
    "start_time": "2022-11-06T11:56:28.919Z"
   },
   {
    "duration": 16,
    "start_time": "2022-11-06T11:57:35.450Z"
   },
   {
    "duration": 22,
    "start_time": "2022-11-06T11:57:52.603Z"
   },
   {
    "duration": 23,
    "start_time": "2022-11-06T11:57:57.239Z"
   },
   {
    "duration": 13,
    "start_time": "2022-11-06T11:58:02.141Z"
   },
   {
    "duration": 25,
    "start_time": "2022-11-06T11:58:05.535Z"
   },
   {
    "duration": 21,
    "start_time": "2022-11-06T11:58:09.702Z"
   },
   {
    "duration": 158,
    "start_time": "2022-11-06T11:58:18.739Z"
   },
   {
    "duration": 68,
    "start_time": "2022-11-06T11:59:51.635Z"
   },
   {
    "duration": 116,
    "start_time": "2022-11-06T11:59:56.952Z"
   },
   {
    "duration": 9,
    "start_time": "2022-11-06T12:03:15.695Z"
   },
   {
    "duration": 116,
    "start_time": "2022-11-06T12:05:34.409Z"
   },
   {
    "duration": 96,
    "start_time": "2022-11-06T12:06:21.141Z"
   },
   {
    "duration": 111,
    "start_time": "2022-11-06T12:07:11.775Z"
   },
   {
    "duration": 123,
    "start_time": "2022-11-06T12:07:24.886Z"
   },
   {
    "duration": 112,
    "start_time": "2022-11-06T12:09:56.718Z"
   },
   {
    "duration": 107,
    "start_time": "2022-11-06T12:10:18.862Z"
   },
   {
    "duration": 114,
    "start_time": "2022-11-06T12:12:00.458Z"
   },
   {
    "duration": 108,
    "start_time": "2022-11-06T12:12:11.960Z"
   },
   {
    "duration": 115,
    "start_time": "2022-11-06T12:16:52.485Z"
   },
   {
    "duration": 12,
    "start_time": "2022-11-06T12:17:48.542Z"
   },
   {
    "duration": 5,
    "start_time": "2022-11-06T12:24:53.847Z"
   },
   {
    "duration": 9,
    "start_time": "2022-11-06T12:25:15.020Z"
   },
   {
    "duration": 9,
    "start_time": "2022-11-06T12:25:50.188Z"
   },
   {
    "duration": 122,
    "start_time": "2022-11-06T12:25:58.452Z"
   },
   {
    "duration": 16,
    "start_time": "2022-11-06T12:26:02.987Z"
   },
   {
    "duration": 35,
    "start_time": "2022-11-06T12:26:06.720Z"
   },
   {
    "duration": 2054,
    "start_time": "2022-11-06T12:26:10.779Z"
   },
   {
    "duration": 7,
    "start_time": "2022-11-06T12:26:20.067Z"
   },
   {
    "duration": 15,
    "start_time": "2022-11-06T12:26:27.243Z"
   },
   {
    "duration": 23,
    "start_time": "2022-11-06T12:26:32.939Z"
   },
   {
    "duration": 8,
    "start_time": "2022-11-06T12:26:37.398Z"
   },
   {
    "duration": 24,
    "start_time": "2022-11-06T12:26:41.416Z"
   },
   {
    "duration": 14,
    "start_time": "2022-11-06T12:26:51.675Z"
   },
   {
    "duration": 27,
    "start_time": "2022-11-06T12:26:56.336Z"
   },
   {
    "duration": 22,
    "start_time": "2022-11-06T12:27:07.817Z"
   },
   {
    "duration": 186,
    "start_time": "2022-11-06T12:27:16.312Z"
   },
   {
    "duration": 68,
    "start_time": "2022-11-06T12:27:28.510Z"
   },
   {
    "duration": 113,
    "start_time": "2022-11-06T12:27:31.742Z"
   },
   {
    "duration": 125,
    "start_time": "2022-11-06T12:27:34.948Z"
   },
   {
    "duration": 12,
    "start_time": "2022-11-06T12:27:38.150Z"
   },
   {
    "duration": 5,
    "start_time": "2022-11-06T12:27:43.115Z"
   },
   {
    "duration": 11,
    "start_time": "2022-11-06T12:27:46.831Z"
   },
   {
    "duration": 7,
    "start_time": "2022-11-06T12:28:33.048Z"
   },
   {
    "duration": 35,
    "start_time": "2022-11-06T12:29:17.726Z"
   },
   {
    "duration": 34,
    "start_time": "2022-11-06T12:29:57.827Z"
   },
   {
    "duration": 27,
    "start_time": "2022-11-06T13:39:48.638Z"
   },
   {
    "duration": 27,
    "start_time": "2022-11-06T13:40:39.544Z"
   },
   {
    "duration": 122,
    "start_time": "2022-11-06T13:41:44.918Z"
   },
   {
    "duration": 15,
    "start_time": "2022-11-06T13:41:48.770Z"
   },
   {
    "duration": 40,
    "start_time": "2022-11-06T13:41:53.717Z"
   },
   {
    "duration": 2151,
    "start_time": "2022-11-06T13:41:58.837Z"
   },
   {
    "duration": 7,
    "start_time": "2022-11-06T13:42:06.014Z"
   },
   {
    "duration": 16,
    "start_time": "2022-11-06T13:42:11.774Z"
   },
   {
    "duration": 26,
    "start_time": "2022-11-06T13:42:17.549Z"
   },
   {
    "duration": 13,
    "start_time": "2022-11-06T13:42:24.453Z"
   },
   {
    "duration": 27,
    "start_time": "2022-11-06T13:42:28.357Z"
   },
   {
    "duration": 17,
    "start_time": "2022-11-06T13:42:34.565Z"
   },
   {
    "duration": 40,
    "start_time": "2022-11-06T13:42:38.133Z"
   },
   {
    "duration": 23,
    "start_time": "2022-11-06T13:42:42.258Z"
   },
   {
    "duration": 185,
    "start_time": "2022-11-06T13:43:03.083Z"
   },
   {
    "duration": 89,
    "start_time": "2022-11-06T13:43:11.661Z"
   },
   {
    "duration": 126,
    "start_time": "2022-11-06T13:43:14.957Z"
   },
   {
    "duration": 142,
    "start_time": "2022-11-06T13:43:18.477Z"
   },
   {
    "duration": 17,
    "start_time": "2022-11-06T13:43:22.622Z"
   },
   {
    "duration": 54,
    "start_time": "2022-11-06T13:43:29.814Z"
   },
   {
    "duration": 21,
    "start_time": "2022-11-06T13:43:48.164Z"
   },
   {
    "duration": 16,
    "start_time": "2022-11-06T13:43:51.769Z"
   },
   {
    "duration": 36,
    "start_time": "2022-11-06T13:43:55.421Z"
   },
   {
    "duration": 15,
    "start_time": "2022-11-06T13:44:51.516Z"
   },
   {
    "duration": 26,
    "start_time": "2022-11-06T13:44:54.379Z"
   },
   {
    "duration": 20,
    "start_time": "2022-11-06T13:45:53.862Z"
   },
   {
    "duration": 22,
    "start_time": "2022-11-06T13:48:46.832Z"
   },
   {
    "duration": 22,
    "start_time": "2022-11-06T13:49:07.120Z"
   },
   {
    "duration": 15,
    "start_time": "2022-11-06T13:49:46.168Z"
   },
   {
    "duration": 25,
    "start_time": "2022-11-06T13:49:51.700Z"
   },
   {
    "duration": 11,
    "start_time": "2022-11-06T13:50:06.807Z"
   },
   {
    "duration": 15,
    "start_time": "2022-11-06T13:50:18.207Z"
   },
   {
    "duration": 25,
    "start_time": "2022-11-06T13:50:23.672Z"
   },
   {
    "duration": 18,
    "start_time": "2022-11-06T13:50:53.262Z"
   },
   {
    "duration": 26,
    "start_time": "2022-11-06T13:50:55.781Z"
   },
   {
    "duration": 35,
    "start_time": "2022-11-06T14:06:15.054Z"
   },
   {
    "duration": 22,
    "start_time": "2022-11-06T14:06:49.239Z"
   },
   {
    "duration": 699,
    "start_time": "2022-11-06T14:07:28.754Z"
   },
   {
    "duration": 1080,
    "start_time": "2022-11-06T14:08:12.587Z"
   },
   {
    "duration": 24,
    "start_time": "2022-11-06T14:17:40.902Z"
   },
   {
    "duration": 24,
    "start_time": "2022-11-06T14:22:09.886Z"
   },
   {
    "duration": 307,
    "start_time": "2022-11-06T14:23:02.318Z"
   },
   {
    "duration": 75,
    "start_time": "2022-11-06T14:26:54.076Z"
   },
   {
    "duration": 16,
    "start_time": "2022-11-06T14:27:38.753Z"
   },
   {
    "duration": 24,
    "start_time": "2022-11-06T14:27:43.994Z"
   },
   {
    "duration": 319,
    "start_time": "2022-11-06T15:00:50.304Z"
   },
   {
    "duration": 25,
    "start_time": "2022-11-06T15:00:53.824Z"
   },
   {
    "duration": 309,
    "start_time": "2022-11-06T15:01:30.524Z"
   },
   {
    "duration": 25,
    "start_time": "2022-11-06T15:01:34.630Z"
   },
   {
    "duration": 302,
    "start_time": "2022-11-06T15:02:07.410Z"
   },
   {
    "duration": 37,
    "start_time": "2022-11-06T15:02:12.266Z"
   },
   {
    "duration": 12,
    "start_time": "2022-11-06T16:08:49.003Z"
   },
   {
    "duration": 122,
    "start_time": "2022-11-06T16:09:35.687Z"
   },
   {
    "duration": 171,
    "start_time": "2022-11-06T16:10:39.684Z"
   },
   {
    "duration": 8,
    "start_time": "2022-11-06T16:13:08.796Z"
   },
   {
    "duration": 10,
    "start_time": "2022-11-06T16:14:39.634Z"
   },
   {
    "duration": 8,
    "start_time": "2022-11-06T16:17:01.733Z"
   },
   {
    "duration": 7,
    "start_time": "2022-11-06T16:19:01.980Z"
   },
   {
    "duration": 149,
    "start_time": "2022-11-06T16:21:08.332Z"
   },
   {
    "duration": 14,
    "start_time": "2022-11-06T16:25:32.646Z"
   },
   {
    "duration": 42,
    "start_time": "2022-11-06T16:42:20.663Z"
   },
   {
    "duration": 37,
    "start_time": "2022-11-06T16:43:09.485Z"
   },
   {
    "duration": 38,
    "start_time": "2022-11-06T16:43:45.671Z"
   },
   {
    "duration": 35,
    "start_time": "2022-11-06T16:44:16.110Z"
   },
   {
    "duration": 57,
    "start_time": "2022-11-06T16:44:41.597Z"
   },
   {
    "duration": 5,
    "start_time": "2022-11-06T16:46:49.584Z"
   },
   {
    "duration": 8,
    "start_time": "2022-11-06T16:47:07.213Z"
   },
   {
    "duration": 7,
    "start_time": "2022-11-06T16:48:03.924Z"
   },
   {
    "duration": 40,
    "start_time": "2022-11-06T16:48:55.982Z"
   },
   {
    "duration": 36,
    "start_time": "2022-11-06T16:51:24.546Z"
   },
   {
    "duration": 42,
    "start_time": "2022-11-06T16:52:13.807Z"
   },
   {
    "duration": 57,
    "start_time": "2022-11-06T16:52:27.892Z"
   },
   {
    "duration": 37,
    "start_time": "2022-11-06T16:52:47.152Z"
   },
   {
    "duration": 12,
    "start_time": "2022-11-06T16:56:54.888Z"
   },
   {
    "duration": 8,
    "start_time": "2022-11-06T16:57:50.264Z"
   },
   {
    "duration": 17,
    "start_time": "2022-11-06T17:00:52.061Z"
   },
   {
    "duration": 16,
    "start_time": "2022-11-06T17:01:50.724Z"
   },
   {
    "duration": 25,
    "start_time": "2022-11-06T17:04:58.216Z"
   },
   {
    "duration": 19,
    "start_time": "2022-11-06T17:07:15.449Z"
   },
   {
    "duration": 16,
    "start_time": "2022-11-06T17:07:36.065Z"
   },
   {
    "duration": 5,
    "start_time": "2022-11-06T17:08:39.231Z"
   },
   {
    "duration": 3,
    "start_time": "2022-11-06T17:12:09.248Z"
   },
   {
    "duration": 141,
    "start_time": "2022-11-06T17:15:36.252Z"
   },
   {
    "duration": 12,
    "start_time": "2022-11-06T17:17:14.431Z"
   },
   {
    "duration": 126,
    "start_time": "2022-11-06T17:20:12.203Z"
   },
   {
    "duration": 150,
    "start_time": "2022-11-06T17:20:30.074Z"
   },
   {
    "duration": 128,
    "start_time": "2022-11-06T17:20:45.366Z"
   },
   {
    "duration": 226,
    "start_time": "2022-11-06T17:25:37.968Z"
   },
   {
    "duration": 149,
    "start_time": "2022-11-06T17:25:51.920Z"
   },
   {
    "duration": 277,
    "start_time": "2022-11-06T17:26:47.550Z"
   },
   {
    "duration": 280,
    "start_time": "2022-11-06T17:27:22.190Z"
   },
   {
    "duration": 509,
    "start_time": "2022-11-06T17:27:45.694Z"
   },
   {
    "duration": 8,
    "start_time": "2022-11-06T17:30:03.071Z"
   },
   {
    "duration": 120,
    "start_time": "2022-11-06T17:30:19.062Z"
   },
   {
    "duration": 777,
    "start_time": "2022-11-06T17:46:52.972Z"
   },
   {
    "duration": 37,
    "start_time": "2022-11-06T17:57:09.848Z"
   },
   {
    "duration": 27,
    "start_time": "2022-11-06T17:57:34.999Z"
   },
   {
    "duration": 38,
    "start_time": "2022-11-06T17:57:50.182Z"
   },
   {
    "duration": 597,
    "start_time": "2022-11-06T17:58:17.168Z"
   },
   {
    "duration": 39,
    "start_time": "2022-11-06T18:07:38.415Z"
   },
   {
    "duration": 40,
    "start_time": "2022-11-06T18:08:06.240Z"
   },
   {
    "duration": 37,
    "start_time": "2022-11-06T18:08:31.701Z"
   },
   {
    "duration": 40,
    "start_time": "2022-11-06T18:08:54.650Z"
   },
   {
    "duration": 41,
    "start_time": "2022-11-06T18:09:06.242Z"
   },
   {
    "duration": 41,
    "start_time": "2022-11-06T18:09:30.068Z"
   },
   {
    "duration": 36,
    "start_time": "2022-11-06T18:09:59.927Z"
   },
   {
    "duration": 55,
    "start_time": "2022-11-06T18:10:18.063Z"
   },
   {
    "duration": 43,
    "start_time": "2022-11-06T18:10:31.261Z"
   },
   {
    "duration": 39,
    "start_time": "2022-11-06T18:12:45.604Z"
   },
   {
    "duration": 652,
    "start_time": "2022-11-06T18:13:16.961Z"
   },
   {
    "duration": 697,
    "start_time": "2022-11-06T18:14:02.236Z"
   },
   {
    "duration": 678,
    "start_time": "2022-11-06T18:14:32.741Z"
   },
   {
    "duration": 612,
    "start_time": "2022-11-06T18:14:43.653Z"
   },
   {
    "duration": 37,
    "start_time": "2022-11-06T18:16:05.962Z"
   },
   {
    "duration": 37,
    "start_time": "2022-11-06T18:16:26.838Z"
   },
   {
    "duration": 9,
    "start_time": "2022-11-06T18:49:19.964Z"
   },
   {
    "duration": 10,
    "start_time": "2022-11-06T18:49:31.996Z"
   },
   {
    "duration": 9,
    "start_time": "2022-11-06T18:50:24.985Z"
   },
   {
    "duration": 13,
    "start_time": "2022-11-06T19:06:19.128Z"
   },
   {
    "duration": 68,
    "start_time": "2022-11-06T19:09:23.488Z"
   },
   {
    "duration": 13,
    "start_time": "2022-11-06T19:09:47.025Z"
   },
   {
    "duration": 34,
    "start_time": "2022-11-06T19:10:48.726Z"
   },
   {
    "duration": 35,
    "start_time": "2022-11-06T19:11:05.745Z"
   },
   {
    "duration": 9,
    "start_time": "2022-11-06T19:13:47.483Z"
   },
   {
    "duration": 8,
    "start_time": "2022-11-06T19:15:08.857Z"
   },
   {
    "duration": 13,
    "start_time": "2022-11-06T19:15:42.907Z"
   },
   {
    "duration": 192,
    "start_time": "2022-11-06T19:31:26.505Z"
   },
   {
    "duration": 178,
    "start_time": "2022-11-06T19:32:31.383Z"
   },
   {
    "duration": 183,
    "start_time": "2022-11-06T19:35:07.393Z"
   },
   {
    "duration": 171,
    "start_time": "2022-11-06T19:35:16.225Z"
   },
   {
    "duration": 170,
    "start_time": "2022-11-06T19:35:27.751Z"
   },
   {
    "duration": 317,
    "start_time": "2022-11-06T19:40:23.049Z"
   },
   {
    "duration": 134,
    "start_time": "2022-11-06T19:41:03.058Z"
   },
   {
    "duration": 168,
    "start_time": "2022-11-06T19:42:11.911Z"
   },
   {
    "duration": 52,
    "start_time": "2022-11-06T20:51:35.676Z"
   },
   {
    "duration": 761,
    "start_time": "2022-11-06T20:51:46.549Z"
   },
   {
    "duration": 22,
    "start_time": "2022-11-06T20:51:51.665Z"
   },
   {
    "duration": 29,
    "start_time": "2022-11-06T20:51:55.519Z"
   },
   {
    "duration": 2643,
    "start_time": "2022-11-06T20:52:00.374Z"
   },
   {
    "duration": 10,
    "start_time": "2022-11-06T20:52:08.859Z"
   },
   {
    "duration": 19,
    "start_time": "2022-11-06T20:52:25.750Z"
   },
   {
    "duration": 3,
    "start_time": "2022-11-06T20:52:31.653Z"
   },
   {
    "duration": 24,
    "start_time": "2022-11-06T20:52:36.004Z"
   },
   {
    "duration": 10,
    "start_time": "2022-11-06T20:52:41.836Z"
   },
   {
    "duration": 29,
    "start_time": "2022-11-06T20:52:47.189Z"
   },
   {
    "duration": 14,
    "start_time": "2022-11-06T20:52:52.069Z"
   },
   {
    "duration": 31,
    "start_time": "2022-11-06T20:52:56.274Z"
   },
   {
    "duration": 23,
    "start_time": "2022-11-06T20:53:01.314Z"
   },
   {
    "duration": 186,
    "start_time": "2022-11-06T20:53:09.419Z"
   },
   {
    "duration": 77,
    "start_time": "2022-11-06T20:53:18.885Z"
   },
   {
    "duration": 122,
    "start_time": "2022-11-06T20:53:22.884Z"
   },
   {
    "duration": 122,
    "start_time": "2022-11-06T20:53:35.621Z"
   },
   {
    "duration": 16,
    "start_time": "2022-11-06T20:53:46.603Z"
   },
   {
    "duration": 42,
    "start_time": "2022-11-06T20:53:53.079Z"
   },
   {
    "duration": 3,
    "start_time": "2022-11-06T20:54:10.519Z"
   },
   {
    "duration": 6,
    "start_time": "2022-11-06T20:54:15.994Z"
   },
   {
    "duration": 19,
    "start_time": "2022-11-06T20:54:19.918Z"
   },
   {
    "duration": 5,
    "start_time": "2022-11-06T20:54:27.381Z"
   },
   {
    "duration": 25,
    "start_time": "2022-11-06T20:54:29.651Z"
   },
   {
    "duration": 307,
    "start_time": "2022-11-06T20:54:34.313Z"
   },
   {
    "duration": 27,
    "start_time": "2022-11-06T20:54:40.995Z"
   },
   {
    "duration": 9,
    "start_time": "2022-11-06T20:55:09.157Z"
   },
   {
    "duration": 227,
    "start_time": "2022-11-06T20:55:12.872Z"
   },
   {
    "duration": 2,
    "start_time": "2022-11-06T20:55:16.816Z"
   },
   {
    "duration": 690,
    "start_time": "2022-11-06T20:55:47.712Z"
   },
   {
    "duration": 10,
    "start_time": "2022-11-06T20:55:58.125Z"
   },
   {
    "duration": 139,
    "start_time": "2022-11-06T20:56:01.874Z"
   },
   {
    "duration": 46,
    "start_time": "2022-11-06T20:56:07.799Z"
   },
   {
    "duration": 43,
    "start_time": "2022-11-06T20:56:16.821Z"
   },
   {
    "duration": 14,
    "start_time": "2022-11-06T20:56:22.244Z"
   },
   {
    "duration": 216,
    "start_time": "2022-11-06T20:56:26.178Z"
   },
   {
    "duration": 6,
    "start_time": "2022-11-06T20:56:35.852Z"
   },
   {
    "duration": 30101,
    "start_time": "2022-11-06T21:04:30.203Z"
   },
   {
    "duration": 128,
    "start_time": "2022-11-06T21:05:33.104Z"
   },
   {
    "duration": 17248,
    "start_time": "2022-11-06T21:05:47.985Z"
   },
   {
    "duration": 2,
    "start_time": "2022-11-06T21:08:24.840Z"
   },
   {
    "duration": 52,
    "start_time": "2022-11-06T21:08:36.338Z"
   },
   {
    "duration": 2,
    "start_time": "2022-11-06T21:12:21.075Z"
   },
   {
    "duration": 115,
    "start_time": "2022-11-06T21:21:29.719Z"
   },
   {
    "duration": 29,
    "start_time": "2022-11-06T21:21:35.006Z"
   },
   {
    "duration": 27,
    "start_time": "2022-11-06T21:21:50.489Z"
   },
   {
    "duration": 29,
    "start_time": "2022-11-06T21:22:04.676Z"
   },
   {
    "duration": 24,
    "start_time": "2022-11-06T21:22:13.955Z"
   },
   {
    "duration": 185,
    "start_time": "2022-11-06T21:22:29.779Z"
   },
   {
    "duration": 76,
    "start_time": "2022-11-06T21:22:50.614Z"
   },
   {
    "duration": 147,
    "start_time": "2022-11-06T21:22:53.547Z"
   },
   {
    "duration": 131,
    "start_time": "2022-11-06T21:22:57.653Z"
   },
   {
    "duration": 14,
    "start_time": "2022-11-06T21:23:03.599Z"
   },
   {
    "duration": 7,
    "start_time": "2022-11-06T21:23:46.172Z"
   },
   {
    "duration": 20,
    "start_time": "2022-11-06T21:24:15.219Z"
   },
   {
    "duration": 17,
    "start_time": "2022-11-06T21:25:10.463Z"
   },
   {
    "duration": 5,
    "start_time": "2022-11-06T21:25:16.665Z"
   },
   {
    "duration": 24,
    "start_time": "2022-11-06T21:25:19.842Z"
   },
   {
    "duration": 319,
    "start_time": "2022-11-06T21:25:34.650Z"
   },
   {
    "duration": 10,
    "start_time": "2022-11-06T21:25:46.672Z"
   },
   {
    "duration": 150,
    "start_time": "2022-11-06T21:25:50.399Z"
   },
   {
    "duration": 685,
    "start_time": "2022-11-06T21:25:54.967Z"
   },
   {
    "duration": 14,
    "start_time": "2022-11-06T21:26:01.422Z"
   },
   {
    "duration": 125,
    "start_time": "2022-11-06T21:26:05.799Z"
   },
   {
    "duration": 44,
    "start_time": "2022-11-06T21:26:21.175Z"
   },
   {
    "duration": 82,
    "start_time": "2022-11-06T21:26:25.649Z"
   },
   {
    "duration": 13,
    "start_time": "2022-11-06T21:34:53.514Z"
   },
   {
    "duration": 118,
    "start_time": "2022-11-06T21:42:21.700Z"
   },
   {
    "duration": 17,
    "start_time": "2022-11-06T21:42:25.045Z"
   },
   {
    "duration": 28,
    "start_time": "2022-11-06T21:42:28.825Z"
   },
   {
    "duration": 1942,
    "start_time": "2022-11-06T21:42:32.993Z"
   },
   {
    "duration": 8,
    "start_time": "2022-11-06T21:42:39.737Z"
   },
   {
    "duration": 17,
    "start_time": "2022-11-06T21:42:44.407Z"
   },
   {
    "duration": 25,
    "start_time": "2022-11-06T21:42:50.176Z"
   },
   {
    "duration": 26,
    "start_time": "2022-11-06T21:42:57.070Z"
   },
   {
    "duration": 14,
    "start_time": "2022-11-06T21:43:07.624Z"
   },
   {
    "duration": 37,
    "start_time": "2022-11-06T21:43:11.427Z"
   },
   {
    "duration": 22,
    "start_time": "2022-11-06T21:43:15.166Z"
   },
   {
    "duration": 187,
    "start_time": "2022-11-06T21:43:22.216Z"
   },
   {
    "duration": 74,
    "start_time": "2022-11-06T21:43:44.032Z"
   },
   {
    "duration": 124,
    "start_time": "2022-11-06T21:43:53.734Z"
   },
   {
    "duration": 126,
    "start_time": "2022-11-06T21:43:57.482Z"
   },
   {
    "duration": 12,
    "start_time": "2022-11-06T21:44:02.939Z"
   },
   {
    "duration": 38,
    "start_time": "2022-11-06T21:44:18.791Z"
   },
   {
    "duration": 6,
    "start_time": "2022-11-06T21:44:28.709Z"
   },
   {
    "duration": 19,
    "start_time": "2022-11-06T21:44:32.487Z"
   },
   {
    "duration": 5,
    "start_time": "2022-11-06T21:44:40.759Z"
   },
   {
    "duration": 23,
    "start_time": "2022-11-06T21:44:43.036Z"
   },
   {
    "duration": 306,
    "start_time": "2022-11-06T21:44:46.390Z"
   },
   {
    "duration": 27,
    "start_time": "2022-11-06T21:44:50.224Z"
   },
   {
    "duration": 9,
    "start_time": "2022-11-06T21:44:54.479Z"
   },
   {
    "duration": 147,
    "start_time": "2022-11-06T21:44:57.414Z"
   },
   {
    "duration": 753,
    "start_time": "2022-11-06T21:45:01.359Z"
   },
   {
    "duration": 10,
    "start_time": "2022-11-06T21:45:07.308Z"
   },
   {
    "duration": 146,
    "start_time": "2022-11-06T21:45:12.821Z"
   },
   {
    "duration": 50,
    "start_time": "2022-11-06T21:45:19.335Z"
   },
   {
    "duration": 80,
    "start_time": "2022-11-06T21:45:24.639Z"
   },
   {
    "duration": 39,
    "start_time": "2022-11-06T21:45:29.910Z"
   },
   {
    "duration": 12,
    "start_time": "2022-11-06T21:45:39.649Z"
   },
   {
    "duration": 185,
    "start_time": "2022-11-06T21:45:43.778Z"
   },
   {
    "duration": 13,
    "start_time": "2022-11-06T21:45:48.317Z"
   },
   {
    "duration": 15,
    "start_time": "2022-11-06T21:46:05.568Z"
   },
   {
    "duration": 14,
    "start_time": "2022-11-06T21:46:33.872Z"
   },
   {
    "duration": 15,
    "start_time": "2022-11-06T21:51:21.738Z"
   },
   {
    "duration": 15,
    "start_time": "2022-11-06T21:52:33.232Z"
   },
   {
    "duration": 13,
    "start_time": "2022-11-06T21:52:55.736Z"
   },
   {
    "duration": 12,
    "start_time": "2022-11-06T21:54:10.575Z"
   },
   {
    "duration": 14,
    "start_time": "2022-11-06T21:54:40.503Z"
   },
   {
    "duration": 13,
    "start_time": "2022-11-06T21:55:47.001Z"
   },
   {
    "duration": 13,
    "start_time": "2022-11-06T21:58:30.398Z"
   },
   {
    "duration": 22,
    "start_time": "2022-11-06T21:58:49.944Z"
   },
   {
    "duration": 13,
    "start_time": "2022-11-06T22:00:03.092Z"
   },
   {
    "duration": 18,
    "start_time": "2022-11-06T22:09:29.661Z"
   },
   {
    "duration": 8,
    "start_time": "2022-11-06T22:10:28.070Z"
   },
   {
    "duration": 117,
    "start_time": "2022-11-06T22:10:47.703Z"
   },
   {
    "duration": 3,
    "start_time": "2022-11-06T22:11:13.132Z"
   },
   {
    "duration": 7,
    "start_time": "2022-11-06T22:14:59.011Z"
   },
   {
    "duration": 8,
    "start_time": "2022-11-06T22:15:16.028Z"
   },
   {
    "duration": 114,
    "start_time": "2022-11-06T22:15:42.196Z"
   },
   {
    "duration": 15,
    "start_time": "2022-11-06T22:15:46.635Z"
   },
   {
    "duration": 30,
    "start_time": "2022-11-06T22:15:50.853Z"
   },
   {
    "duration": 1990,
    "start_time": "2022-11-06T22:15:55.092Z"
   },
   {
    "duration": 8,
    "start_time": "2022-11-06T22:16:01.771Z"
   },
   {
    "duration": 16,
    "start_time": "2022-11-06T22:16:05.813Z"
   },
   {
    "duration": 24,
    "start_time": "2022-11-06T22:16:17.874Z"
   },
   {
    "duration": 9,
    "start_time": "2022-11-06T22:16:23.268Z"
   },
   {
    "duration": 26,
    "start_time": "2022-11-06T22:16:27.709Z"
   },
   {
    "duration": 19,
    "start_time": "2022-11-06T22:16:33.267Z"
   },
   {
    "duration": 28,
    "start_time": "2022-11-06T22:16:37.819Z"
   },
   {
    "duration": 23,
    "start_time": "2022-11-06T22:16:41.356Z"
   },
   {
    "duration": 185,
    "start_time": "2022-11-06T22:16:53.646Z"
   },
   {
    "duration": 75,
    "start_time": "2022-11-06T22:17:02.978Z"
   },
   {
    "duration": 127,
    "start_time": "2022-11-06T22:17:06.618Z"
   },
   {
    "duration": 125,
    "start_time": "2022-11-06T22:17:09.522Z"
   },
   {
    "duration": 13,
    "start_time": "2022-11-06T22:17:14.195Z"
   },
   {
    "duration": 37,
    "start_time": "2022-11-06T22:17:17.867Z"
   },
   {
    "duration": 6,
    "start_time": "2022-11-06T22:17:23.258Z"
   },
   {
    "duration": 17,
    "start_time": "2022-11-06T22:17:28.471Z"
   },
   {
    "duration": 4,
    "start_time": "2022-11-06T22:17:32.737Z"
   },
   {
    "duration": 25,
    "start_time": "2022-11-06T22:17:35.236Z"
   },
   {
    "duration": 1117,
    "start_time": "2022-11-06T22:17:39.098Z"
   },
   {
    "duration": 26,
    "start_time": "2022-11-06T22:17:41.811Z"
   },
   {
    "duration": 10,
    "start_time": "2022-11-06T22:17:46.353Z"
   },
   {
    "duration": 148,
    "start_time": "2022-11-06T22:17:48.977Z"
   },
   {
    "duration": 715,
    "start_time": "2022-11-06T22:17:53.856Z"
   },
   {
    "duration": 11,
    "start_time": "2022-11-06T22:17:58.616Z"
   },
   {
    "duration": 132,
    "start_time": "2022-11-06T22:18:02.137Z"
   },
   {
    "duration": 41,
    "start_time": "2022-11-06T22:18:06.186Z"
   },
   {
    "duration": 68,
    "start_time": "2022-11-06T22:18:10.354Z"
   },
   {
    "duration": 41,
    "start_time": "2022-11-06T22:18:14.945Z"
   },
   {
    "duration": 13,
    "start_time": "2022-11-06T22:18:20.610Z"
   },
   {
    "duration": 185,
    "start_time": "2022-11-06T22:18:24.920Z"
   },
   {
    "duration": 13,
    "start_time": "2022-11-06T22:18:28.849Z"
   },
   {
    "duration": 13,
    "start_time": "2022-11-06T22:18:31.969Z"
   },
   {
    "duration": 13,
    "start_time": "2022-11-06T22:18:34.933Z"
   },
   {
    "duration": 13,
    "start_time": "2022-11-06T22:18:38.065Z"
   },
   {
    "duration": 14,
    "start_time": "2022-11-06T22:18:41.241Z"
   },
   {
    "duration": 8,
    "start_time": "2022-11-06T22:18:45.438Z"
   },
   {
    "duration": 11,
    "start_time": "2022-11-06T22:20:27.355Z"
   },
   {
    "duration": 50,
    "start_time": "2022-11-06T22:34:55.392Z"
   },
   {
    "duration": 11,
    "start_time": "2022-11-06T22:35:00.491Z"
   },
   {
    "duration": 6,
    "start_time": "2022-11-06T22:35:04.563Z"
   },
   {
    "duration": 8,
    "start_time": "2022-11-06T22:35:30.183Z"
   },
   {
    "duration": 24,
    "start_time": "2022-11-06T22:38:57.966Z"
   },
   {
    "duration": 24,
    "start_time": "2022-11-06T22:39:19.796Z"
   },
   {
    "duration": 44,
    "start_time": "2022-11-06T22:42:02.596Z"
   },
   {
    "duration": 26,
    "start_time": "2022-11-06T22:42:07.907Z"
   },
   {
    "duration": 14,
    "start_time": "2022-11-06T22:43:04.938Z"
   },
   {
    "duration": 25,
    "start_time": "2022-11-06T22:43:32.692Z"
   },
   {
    "duration": 171,
    "start_time": "2022-11-06T22:45:31.510Z"
   },
   {
    "duration": 26,
    "start_time": "2022-11-06T22:48:33.998Z"
   },
   {
    "duration": 25,
    "start_time": "2022-11-06T22:48:49.808Z"
   },
   {
    "duration": 26,
    "start_time": "2022-11-06T22:49:14.900Z"
   },
   {
    "duration": 21,
    "start_time": "2022-11-06T23:02:06.048Z"
   },
   {
    "duration": 14,
    "start_time": "2022-11-06T23:05:26.205Z"
   },
   {
    "duration": 13,
    "start_time": "2022-11-06T23:05:53.670Z"
   },
   {
    "duration": 14,
    "start_time": "2022-11-06T23:06:16.007Z"
   },
   {
    "duration": 12,
    "start_time": "2022-11-06T23:08:05.685Z"
   },
   {
    "duration": 15,
    "start_time": "2022-11-06T23:09:06.397Z"
   },
   {
    "duration": 41,
    "start_time": "2022-11-06T23:09:38.619Z"
   },
   {
    "duration": 40,
    "start_time": "2022-11-06T23:14:53.734Z"
   },
   {
    "duration": 41,
    "start_time": "2022-11-06T23:18:13.979Z"
   },
   {
    "duration": 39,
    "start_time": "2022-11-06T23:18:44.375Z"
   },
   {
    "duration": 40,
    "start_time": "2022-11-06T23:19:46.078Z"
   },
   {
    "duration": 44,
    "start_time": "2022-11-06T23:20:25.732Z"
   },
   {
    "duration": 762,
    "start_time": "2022-11-06T23:34:43.185Z"
   },
   {
    "duration": 41,
    "start_time": "2022-11-06T23:40:22.710Z"
   },
   {
    "duration": 43,
    "start_time": "2022-11-06T23:41:13.684Z"
   },
   {
    "duration": 42,
    "start_time": "2022-11-06T23:41:35.320Z"
   },
   {
    "duration": 41,
    "start_time": "2022-11-06T23:42:49.413Z"
   },
   {
    "duration": 46,
    "start_time": "2022-11-06T23:43:17.695Z"
   },
   {
    "duration": 54,
    "start_time": "2022-11-06T23:43:36.490Z"
   },
   {
    "duration": 42,
    "start_time": "2022-11-06T23:45:45.822Z"
   },
   {
    "duration": 41,
    "start_time": "2022-11-06T23:46:31.842Z"
   },
   {
    "duration": 45,
    "start_time": "2022-11-06T23:46:43.675Z"
   },
   {
    "duration": 43,
    "start_time": "2022-11-06T23:47:06.210Z"
   }
  ],
  "kernelspec": {
   "display_name": "Python 3 (ipykernel)",
   "language": "python",
   "name": "python3"
  },
  "language_info": {
   "codemirror_mode": {
    "name": "ipython",
    "version": 3
   },
   "file_extension": ".py",
   "mimetype": "text/x-python",
   "name": "python",
   "nbconvert_exporter": "python",
   "pygments_lexer": "ipython3",
   "version": "3.9.12"
  },
  "toc": {
   "base_numbering": 1,
   "nav_menu": {},
   "number_sections": true,
   "sideBar": true,
   "skip_h1_title": true,
   "title_cell": "Table of Contents",
   "title_sidebar": "Contents",
   "toc_cell": false,
   "toc_position": {},
   "toc_section_display": true,
   "toc_window_display": false
  }
 },
 "nbformat": 4,
 "nbformat_minor": 2
}
