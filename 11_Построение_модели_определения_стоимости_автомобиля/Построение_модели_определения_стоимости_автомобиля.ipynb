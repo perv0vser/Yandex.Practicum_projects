{
 "cells": [
  {
   "cell_type": "markdown",
   "metadata": {},
   "source": [
    "# Определение стоимости автомобилей"
   ]
  },
  {
   "cell_type": "markdown",
   "metadata": {},
   "source": [
    "Сервис по продаже автомобилей с пробегом разрабатывает приложение для привлечения новых клиентов. В нём можно быстро узнать рыночную стоимость своего автомобиля. В нашем распоряжении исторические данные: технические характеристики, комплектации и цены автомобилей. Нам нужно построить модель для определения стоимости. \n",
    "\n",
    "Заказчику важны:\n",
    "\n",
    "- качество предсказания;\n",
    "- скорость предсказания;\n",
    "- время обучения."
   ]
  },
  {
   "cell_type": "markdown",
   "metadata": {},
   "source": [
    "Основные шаги:\n",
    "1. Загрузка данных.\n",
    "2. Изучение данных. Заполнение пропусков и обработка аномалий. Удаление неинформативных признаков.\n",
    "3. Подготовка выборки для обучения моделей.\n",
    "4. Обучение моделей с подбором гиперпараметров.\n",
    "5. Анализ времени обучения, предсказания и качества моделей.\n",
    "6. Выбор лучшей модели, проверка качества на тестовой выборке.\n",
    "\n",
    "Примечания:\n",
    "- Для оценки качества моделей применяем метрику RMSE.\n",
    "- Значение метрики RMSE должно быть меньше 2500."
   ]
  },
  {
   "cell_type": "markdown",
   "metadata": {},
   "source": [
    "Признаки\n",
    "- DateCrawled — дата скачивания анкеты из базы\n",
    "- VehicleType — тип автомобильного кузова\n",
    "- RegistrationYear — год регистрации автомобиля\n",
    "- Gearbox — тип коробки передач\n",
    "- Power — мощность (л. с.)\n",
    "- Model — модель автомобиля\n",
    "- Kilometer — пробег (км)\n",
    "- RegistrationMonth — месяц регистрации автомобиля\n",
    "- FuelType — тип топлива\n",
    "- Brand — марка автомобиля\n",
    "- Repaired — была машина в ремонте или нет\n",
    "- DateCreated — дата создания анкеты\n",
    "- NumberOfPictures — количество фотографий автомобиля\n",
    "- PostalCode — почтовый индекс владельца анкеты (пользователя)\n",
    "- LastSeen — дата последней активности пользователя\n",
    "\n",
    "Целевой признак\n",
    "- Price — цена (евро)"
   ]
  },
  {
   "cell_type": "code",
   "execution_count": 8,
   "metadata": {},
   "outputs": [],
   "source": [
    "import pandas as pd\n",
    "import numpy as np \n",
    "import matplotlib.pyplot as plt\n",
    "import seaborn as sns\n",
    "import lightgbm as lgb\n",
    "\n",
    "from catboost import CatBoostRegressor\n",
    "from sklearn.linear_model import ElasticNet\n",
    "\n",
    "from sklearn.model_selection import train_test_split\n",
    "from sklearn.preprocessing import StandardScaler, OneHotEncoder\n",
    "from sklearn.metrics import mean_squared_error\n",
    "from sklearn.dummy import DummyRegressor\n",
    "\n",
    "pd.options.mode.chained_assignment=None"
   ]
  },
  {
   "cell_type": "markdown",
   "metadata": {},
   "source": [
    "## Подготовка данных"
   ]
  },
  {
   "cell_type": "code",
   "execution_count": 9,
   "metadata": {},
   "outputs": [
    {
     "data": {
      "text/html": [
       "<div>\n",
       "<style scoped>\n",
       "    .dataframe tbody tr th:only-of-type {\n",
       "        vertical-align: middle;\n",
       "    }\n",
       "\n",
       "    .dataframe tbody tr th {\n",
       "        vertical-align: top;\n",
       "    }\n",
       "\n",
       "    .dataframe thead th {\n",
       "        text-align: right;\n",
       "    }\n",
       "</style>\n",
       "<table border=\"1\" class=\"dataframe\">\n",
       "  <thead>\n",
       "    <tr style=\"text-align: right;\">\n",
       "      <th></th>\n",
       "      <th>DateCrawled</th>\n",
       "      <th>Price</th>\n",
       "      <th>VehicleType</th>\n",
       "      <th>RegistrationYear</th>\n",
       "      <th>Gearbox</th>\n",
       "      <th>Power</th>\n",
       "      <th>Model</th>\n",
       "      <th>Kilometer</th>\n",
       "      <th>RegistrationMonth</th>\n",
       "      <th>FuelType</th>\n",
       "      <th>Brand</th>\n",
       "      <th>Repaired</th>\n",
       "      <th>DateCreated</th>\n",
       "      <th>NumberOfPictures</th>\n",
       "      <th>PostalCode</th>\n",
       "      <th>LastSeen</th>\n",
       "    </tr>\n",
       "  </thead>\n",
       "  <tbody>\n",
       "    <tr>\n",
       "      <th>119698</th>\n",
       "      <td>2016-03-09 11:48:21</td>\n",
       "      <td>2222</td>\n",
       "      <td>sedan</td>\n",
       "      <td>2001</td>\n",
       "      <td>manual</td>\n",
       "      <td>75</td>\n",
       "      <td>golf</td>\n",
       "      <td>150000</td>\n",
       "      <td>8</td>\n",
       "      <td>petrol</td>\n",
       "      <td>volkswagen</td>\n",
       "      <td>no</td>\n",
       "      <td>2016-03-09 00:00:00</td>\n",
       "      <td>0</td>\n",
       "      <td>38259</td>\n",
       "      <td>2016-03-10 17:16:59</td>\n",
       "    </tr>\n",
       "    <tr>\n",
       "      <th>114974</th>\n",
       "      <td>2016-03-10 10:25:24</td>\n",
       "      <td>7400</td>\n",
       "      <td>bus</td>\n",
       "      <td>2010</td>\n",
       "      <td>manual</td>\n",
       "      <td>102</td>\n",
       "      <td>transporter</td>\n",
       "      <td>150000</td>\n",
       "      <td>8</td>\n",
       "      <td>gasoline</td>\n",
       "      <td>volkswagen</td>\n",
       "      <td>no</td>\n",
       "      <td>2016-03-10 00:00:00</td>\n",
       "      <td>0</td>\n",
       "      <td>60598</td>\n",
       "      <td>2016-03-21 19:18:23</td>\n",
       "    </tr>\n",
       "    <tr>\n",
       "      <th>324824</th>\n",
       "      <td>2016-03-22 16:54:13</td>\n",
       "      <td>900</td>\n",
       "      <td>NaN</td>\n",
       "      <td>2016</td>\n",
       "      <td>NaN</td>\n",
       "      <td>101</td>\n",
       "      <td>golf</td>\n",
       "      <td>150000</td>\n",
       "      <td>3</td>\n",
       "      <td>NaN</td>\n",
       "      <td>volkswagen</td>\n",
       "      <td>NaN</td>\n",
       "      <td>2016-03-22 00:00:00</td>\n",
       "      <td>0</td>\n",
       "      <td>47798</td>\n",
       "      <td>2016-03-22 16:54:13</td>\n",
       "    </tr>\n",
       "    <tr>\n",
       "      <th>126565</th>\n",
       "      <td>2016-04-04 22:25:35</td>\n",
       "      <td>1</td>\n",
       "      <td>sedan</td>\n",
       "      <td>2002</td>\n",
       "      <td>auto</td>\n",
       "      <td>272</td>\n",
       "      <td>7er</td>\n",
       "      <td>5000</td>\n",
       "      <td>10</td>\n",
       "      <td>petrol</td>\n",
       "      <td>bmw</td>\n",
       "      <td>NaN</td>\n",
       "      <td>2016-04-04 00:00:00</td>\n",
       "      <td>0</td>\n",
       "      <td>65183</td>\n",
       "      <td>2016-04-05 12:30:13</td>\n",
       "    </tr>\n",
       "    <tr>\n",
       "      <th>268201</th>\n",
       "      <td>2016-04-03 11:59:32</td>\n",
       "      <td>5300</td>\n",
       "      <td>sedan</td>\n",
       "      <td>2005</td>\n",
       "      <td>manual</td>\n",
       "      <td>90</td>\n",
       "      <td>astra</td>\n",
       "      <td>90000</td>\n",
       "      <td>9</td>\n",
       "      <td>NaN</td>\n",
       "      <td>opel</td>\n",
       "      <td>NaN</td>\n",
       "      <td>2016-04-03 00:00:00</td>\n",
       "      <td>0</td>\n",
       "      <td>58095</td>\n",
       "      <td>2016-04-03 11:59:32</td>\n",
       "    </tr>\n",
       "  </tbody>\n",
       "</table>\n",
       "</div>"
      ],
      "text/plain": [
       "                DateCrawled  Price VehicleType  RegistrationYear Gearbox  \\\n",
       "119698  2016-03-09 11:48:21   2222       sedan              2001  manual   \n",
       "114974  2016-03-10 10:25:24   7400         bus              2010  manual   \n",
       "324824  2016-03-22 16:54:13    900         NaN              2016     NaN   \n",
       "126565  2016-04-04 22:25:35      1       sedan              2002    auto   \n",
       "268201  2016-04-03 11:59:32   5300       sedan              2005  manual   \n",
       "\n",
       "        Power        Model  Kilometer  RegistrationMonth  FuelType  \\\n",
       "119698     75         golf     150000                  8    petrol   \n",
       "114974    102  transporter     150000                  8  gasoline   \n",
       "324824    101         golf     150000                  3       NaN   \n",
       "126565    272          7er       5000                 10    petrol   \n",
       "268201     90        astra      90000                  9       NaN   \n",
       "\n",
       "             Brand Repaired          DateCreated  NumberOfPictures  \\\n",
       "119698  volkswagen       no  2016-03-09 00:00:00                 0   \n",
       "114974  volkswagen       no  2016-03-10 00:00:00                 0   \n",
       "324824  volkswagen      NaN  2016-03-22 00:00:00                 0   \n",
       "126565         bmw      NaN  2016-04-04 00:00:00                 0   \n",
       "268201        opel      NaN  2016-04-03 00:00:00                 0   \n",
       "\n",
       "        PostalCode             LastSeen  \n",
       "119698       38259  2016-03-10 17:16:59  \n",
       "114974       60598  2016-03-21 19:18:23  \n",
       "324824       47798  2016-03-22 16:54:13  \n",
       "126565       65183  2016-04-05 12:30:13  \n",
       "268201       58095  2016-04-03 11:59:32  "
      ]
     },
     "execution_count": 9,
     "metadata": {},
     "output_type": "execute_result"
    }
   ],
   "source": [
    "# читаем csv-файл и сохраняем в переменную df\n",
    "try:\n",
    "    df = pd.read_csv('/Users/sergeypervov/Downloads/autos.csv')\n",
    "except:\n",
    "    df = pd.read_csv('https://code.s3.yandex.net/datasets/autos.csv') \n",
    "\n",
    "df.sample(5) # смотрим случайные 5 строк из датасета для ознакомления "
   ]
  },
  {
   "cell_type": "code",
   "execution_count": 10,
   "metadata": {
    "scrolled": false
   },
   "outputs": [
    {
     "name": "stdout",
     "output_type": "stream",
     "text": [
      "<class 'pandas.core.frame.DataFrame'>\n",
      "RangeIndex: 354369 entries, 0 to 354368\n",
      "Data columns (total 16 columns):\n",
      " #   Column             Non-Null Count   Dtype \n",
      "---  ------             --------------   ----- \n",
      " 0   DateCrawled        354369 non-null  object\n",
      " 1   Price              354369 non-null  int64 \n",
      " 2   VehicleType        316879 non-null  object\n",
      " 3   RegistrationYear   354369 non-null  int64 \n",
      " 4   Gearbox            334536 non-null  object\n",
      " 5   Power              354369 non-null  int64 \n",
      " 6   Model              334664 non-null  object\n",
      " 7   Kilometer          354369 non-null  int64 \n",
      " 8   RegistrationMonth  354369 non-null  int64 \n",
      " 9   FuelType           321474 non-null  object\n",
      " 10  Brand              354369 non-null  object\n",
      " 11  Repaired           283215 non-null  object\n",
      " 12  DateCreated        354369 non-null  object\n",
      " 13  NumberOfPictures   354369 non-null  int64 \n",
      " 14  PostalCode         354369 non-null  int64 \n",
      " 15  LastSeen           354369 non-null  object\n",
      "dtypes: int64(7), object(9)\n",
      "memory usage: 43.3+ MB\n"
     ]
    }
   ],
   "source": [
    "df.info() # смотрим информацию о датасете"
   ]
  },
  {
   "cell_type": "markdown",
   "metadata": {},
   "source": [
    "**Промежуточный вывод:** В наименованиях столбцов использован CamelCase вместо snake_case, формат данных в ячейках с датами нужно привести к datetime и уже видно, что в данных есть пропуски."
   ]
  },
  {
   "cell_type": "code",
   "execution_count": 11,
   "metadata": {},
   "outputs": [
    {
     "data": {
      "text/plain": [
       "Index(['datecrawled', 'price', 'vehicletype', 'registrationyear', 'gearbox',\n",
       "       'power', 'model', 'kilometer', 'registrationmonth', 'fueltype', 'brand',\n",
       "       'repaired', 'datecreated', 'numberofpictures', 'postalcode',\n",
       "       'lastseen'],\n",
       "      dtype='object')"
      ]
     },
     "execution_count": 11,
     "metadata": {},
     "output_type": "execute_result"
    }
   ],
   "source": [
    "df.columns = df.columns.str.lower() # уберем заглавные буквы в названиях столбцов\n",
    "df.columns"
   ]
  },
  {
   "cell_type": "code",
   "execution_count": 12,
   "metadata": {},
   "outputs": [
    {
     "data": {
      "text/plain": [
       "Index(['date_crawled', 'price', 'vehicle_type', 'registration_year', 'gearbox',\n",
       "       'power', 'model', 'kilometer', 'registration_month', 'fuel_type',\n",
       "       'brand', 'repaired', 'date_created', 'number_of_pictures',\n",
       "       'postal_code', 'last_seen'],\n",
       "      dtype='object')"
      ]
     },
     "execution_count": 12,
     "metadata": {},
     "output_type": "execute_result"
    }
   ],
   "source": [
    "df = df.rename(columns={'datecrawled': 'date_crawled', 'vehicletype': 'vehicle_type', 'registrationyear': \\\n",
    "'registration_year', 'registrationmonth': 'registration_month', 'fueltype': 'fuel_type', 'datecreated': \\\n",
    "'date_created', 'numberofpictures': 'number_of_pictures', 'postalcode': 'postal_code', 'lastseen': 'last_seen'})\n",
    "df.columns   # в наименованиях из 2 слов добавим \"_\" между ними, чтобы улучшить читабельность, проверим результат"
   ]
  },
  {
   "cell_type": "code",
   "execution_count": 13,
   "metadata": {},
   "outputs": [
    {
     "data": {
      "text/plain": [
       "date_crawled              0\n",
       "price                     0\n",
       "vehicle_type          37490\n",
       "registration_year         0\n",
       "gearbox               19833\n",
       "power                     0\n",
       "model                 19705\n",
       "kilometer                 0\n",
       "registration_month        0\n",
       "fuel_type             32895\n",
       "brand                     0\n",
       "repaired              71154\n",
       "date_created              0\n",
       "number_of_pictures        0\n",
       "postal_code               0\n",
       "last_seen                 0\n",
       "dtype: int64"
      ]
     },
     "execution_count": 13,
     "metadata": {},
     "output_type": "execute_result"
    }
   ],
   "source": [
    "df.isna().sum() # рассмотрим пропуски поподробнее"
   ]
  },
  {
   "cell_type": "code",
   "execution_count": 14,
   "metadata": {},
   "outputs": [
    {
     "data": {
      "text/plain": [
       "date_crawled          0\n",
       "price                 0\n",
       "vehicle_type          0\n",
       "registration_year     0\n",
       "gearbox               0\n",
       "power                 0\n",
       "model                 0\n",
       "kilometer             0\n",
       "registration_month    0\n",
       "fuel_type             0\n",
       "brand                 0\n",
       "repaired              0\n",
       "date_created          0\n",
       "number_of_pictures    0\n",
       "postal_code           0\n",
       "last_seen             0\n",
       "dtype: int64"
      ]
     },
     "execution_count": 14,
     "metadata": {},
     "output_type": "execute_result"
    }
   ],
   "source": [
    "columns_to_replace = ['vehicle_type', 'gearbox', 'model', 'fuel_type', 'repaired']\n",
    "for column in columns_to_replace:\n",
    "    df[column] = df[column].fillna('unknown')\n",
    "\n",
    "df.isna().sum() # все пропуски в категориальных данных, поэтому заменим их на значение 'unknown'"
   ]
  },
  {
   "cell_type": "code",
   "execution_count": 15,
   "metadata": {
    "scrolled": false
   },
   "outputs": [
    {
     "name": "stdout",
     "output_type": "stream",
     "text": [
      "<class 'pandas.core.frame.DataFrame'>\n",
      "RangeIndex: 354369 entries, 0 to 354368\n",
      "Data columns (total 16 columns):\n",
      " #   Column              Non-Null Count   Dtype         \n",
      "---  ------              --------------   -----         \n",
      " 0   date_crawled        354369 non-null  datetime64[ns]\n",
      " 1   price               354369 non-null  int64         \n",
      " 2   vehicle_type        354369 non-null  object        \n",
      " 3   registration_year   354369 non-null  int64         \n",
      " 4   gearbox             354369 non-null  object        \n",
      " 5   power               354369 non-null  int64         \n",
      " 6   model               354369 non-null  object        \n",
      " 7   kilometer           354369 non-null  int64         \n",
      " 8   registration_month  354369 non-null  int64         \n",
      " 9   fuel_type           354369 non-null  object        \n",
      " 10  brand               354369 non-null  object        \n",
      " 11  repaired            354369 non-null  object        \n",
      " 12  date_created        354369 non-null  datetime64[ns]\n",
      " 13  number_of_pictures  354369 non-null  int64         \n",
      " 14  postal_code         354369 non-null  int64         \n",
      " 15  last_seen           354369 non-null  datetime64[ns]\n",
      "dtypes: datetime64[ns](3), int64(7), object(6)\n",
      "memory usage: 43.3+ MB\n"
     ]
    }
   ],
   "source": [
    "df['date_crawled'] = pd.to_datetime(df['date_crawled'], format='%Y-%m-%dT%H:%M:%S')\n",
    "df['date_created'] = pd.to_datetime(df['date_created'], format='%Y-%m-%dT%H:%M:%S')\n",
    "df['last_seen'] = pd.to_datetime(df['last_seen'], format='%Y-%m-%dT%H:%M:%S')\n",
    "# приведем формат данных в столбцах с датами к формату datetime\n",
    "\n",
    "df.info()"
   ]
  },
  {
   "cell_type": "code",
   "execution_count": 16,
   "metadata": {},
   "outputs": [
    {
     "data": {
      "text/html": [
       "<div>\n",
       "<style scoped>\n",
       "    .dataframe tbody tr th:only-of-type {\n",
       "        vertical-align: middle;\n",
       "    }\n",
       "\n",
       "    .dataframe tbody tr th {\n",
       "        vertical-align: top;\n",
       "    }\n",
       "\n",
       "    .dataframe thead th {\n",
       "        text-align: right;\n",
       "    }\n",
       "</style>\n",
       "<table border=\"1\" class=\"dataframe\">\n",
       "  <thead>\n",
       "    <tr style=\"text-align: right;\">\n",
       "      <th></th>\n",
       "      <th>date_crawled</th>\n",
       "      <th>price</th>\n",
       "      <th>vehicle_type</th>\n",
       "      <th>registration_year</th>\n",
       "      <th>gearbox</th>\n",
       "      <th>power</th>\n",
       "      <th>model</th>\n",
       "      <th>kilometer</th>\n",
       "      <th>registration_month</th>\n",
       "      <th>fuel_type</th>\n",
       "      <th>brand</th>\n",
       "      <th>repaired</th>\n",
       "      <th>date_created</th>\n",
       "      <th>number_of_pictures</th>\n",
       "      <th>postal_code</th>\n",
       "      <th>last_seen</th>\n",
       "      <th>age</th>\n",
       "    </tr>\n",
       "  </thead>\n",
       "  <tbody>\n",
       "    <tr>\n",
       "      <th>354093</th>\n",
       "      <td>2016-03-09 20:53:17</td>\n",
       "      <td>11390</td>\n",
       "      <td>wagon</td>\n",
       "      <td>2007</td>\n",
       "      <td>manual</td>\n",
       "      <td>232</td>\n",
       "      <td>a6</td>\n",
       "      <td>150000</td>\n",
       "      <td>11</td>\n",
       "      <td>gasoline</td>\n",
       "      <td>audi</td>\n",
       "      <td>no</td>\n",
       "      <td>2016-03-09</td>\n",
       "      <td>0</td>\n",
       "      <td>45899</td>\n",
       "      <td>2016-03-12 22:46:19</td>\n",
       "      <td>9</td>\n",
       "    </tr>\n",
       "    <tr>\n",
       "      <th>54291</th>\n",
       "      <td>2016-03-30 19:57:31</td>\n",
       "      <td>7700</td>\n",
       "      <td>sedan</td>\n",
       "      <td>2005</td>\n",
       "      <td>manual</td>\n",
       "      <td>179</td>\n",
       "      <td>a6</td>\n",
       "      <td>150000</td>\n",
       "      <td>4</td>\n",
       "      <td>gasoline</td>\n",
       "      <td>audi</td>\n",
       "      <td>no</td>\n",
       "      <td>2016-03-30</td>\n",
       "      <td>0</td>\n",
       "      <td>73312</td>\n",
       "      <td>2016-04-07 11:45:57</td>\n",
       "      <td>11</td>\n",
       "    </tr>\n",
       "    <tr>\n",
       "      <th>169602</th>\n",
       "      <td>2016-03-12 20:06:24</td>\n",
       "      <td>7700</td>\n",
       "      <td>sedan</td>\n",
       "      <td>2009</td>\n",
       "      <td>manual</td>\n",
       "      <td>80</td>\n",
       "      <td>golf</td>\n",
       "      <td>60000</td>\n",
       "      <td>4</td>\n",
       "      <td>petrol</td>\n",
       "      <td>volkswagen</td>\n",
       "      <td>no</td>\n",
       "      <td>2016-03-12</td>\n",
       "      <td>0</td>\n",
       "      <td>65614</td>\n",
       "      <td>2016-03-14 17:30:17</td>\n",
       "      <td>7</td>\n",
       "    </tr>\n",
       "    <tr>\n",
       "      <th>225903</th>\n",
       "      <td>2016-03-26 12:52:53</td>\n",
       "      <td>10990</td>\n",
       "      <td>small</td>\n",
       "      <td>2011</td>\n",
       "      <td>manual</td>\n",
       "      <td>105</td>\n",
       "      <td>fabia</td>\n",
       "      <td>100000</td>\n",
       "      <td>11</td>\n",
       "      <td>gasoline</td>\n",
       "      <td>skoda</td>\n",
       "      <td>no</td>\n",
       "      <td>2016-03-26</td>\n",
       "      <td>0</td>\n",
       "      <td>21279</td>\n",
       "      <td>2016-04-06 00:45:01</td>\n",
       "      <td>5</td>\n",
       "    </tr>\n",
       "    <tr>\n",
       "      <th>228659</th>\n",
       "      <td>2016-03-17 09:36:43</td>\n",
       "      <td>2500</td>\n",
       "      <td>unknown</td>\n",
       "      <td>2016</td>\n",
       "      <td>auto</td>\n",
       "      <td>193</td>\n",
       "      <td>clk</td>\n",
       "      <td>150000</td>\n",
       "      <td>2</td>\n",
       "      <td>unknown</td>\n",
       "      <td>mercedes_benz</td>\n",
       "      <td>no</td>\n",
       "      <td>2016-03-17</td>\n",
       "      <td>0</td>\n",
       "      <td>71686</td>\n",
       "      <td>2016-04-06 07:17:33</td>\n",
       "      <td>0</td>\n",
       "    </tr>\n",
       "  </tbody>\n",
       "</table>\n",
       "</div>"
      ],
      "text/plain": [
       "              date_crawled  price vehicle_type  registration_year gearbox  \\\n",
       "354093 2016-03-09 20:53:17  11390        wagon               2007  manual   \n",
       "54291  2016-03-30 19:57:31   7700        sedan               2005  manual   \n",
       "169602 2016-03-12 20:06:24   7700        sedan               2009  manual   \n",
       "225903 2016-03-26 12:52:53  10990        small               2011  manual   \n",
       "228659 2016-03-17 09:36:43   2500      unknown               2016    auto   \n",
       "\n",
       "        power  model  kilometer  registration_month fuel_type          brand  \\\n",
       "354093    232     a6     150000                  11  gasoline           audi   \n",
       "54291     179     a6     150000                   4  gasoline           audi   \n",
       "169602     80   golf      60000                   4    petrol     volkswagen   \n",
       "225903    105  fabia     100000                  11  gasoline          skoda   \n",
       "228659    193    clk     150000                   2   unknown  mercedes_benz   \n",
       "\n",
       "       repaired date_created  number_of_pictures  postal_code  \\\n",
       "354093       no   2016-03-09                   0        45899   \n",
       "54291        no   2016-03-30                   0        73312   \n",
       "169602       no   2016-03-12                   0        65614   \n",
       "225903       no   2016-03-26                   0        21279   \n",
       "228659       no   2016-03-17                   0        71686   \n",
       "\n",
       "                 last_seen  age  \n",
       "354093 2016-03-12 22:46:19    9  \n",
       "54291  2016-04-07 11:45:57   11  \n",
       "169602 2016-03-14 17:30:17    7  \n",
       "225903 2016-04-06 00:45:01    5  \n",
       "228659 2016-04-06 07:17:33    0  "
      ]
     },
     "execution_count": 16,
     "metadata": {},
     "output_type": "execute_result"
    }
   ],
   "source": [
    "df['age'] = df['date_created'].dt.year - df['registration_year'] # так как у нас объявления за разные годы, то важен именно\n",
    "#возраст авто, а не конкретная дата регистрации, поэтому добавим столбец, показывающий, сколько авто полных лет на момент размещения\n",
    "df.sample(5)"
   ]
  },
  {
   "cell_type": "code",
   "execution_count": 17,
   "metadata": {
    "scrolled": false
   },
   "outputs": [
    {
     "name": "stderr",
     "output_type": "stream",
     "text": [
      "/var/folders/8y/6qgr48pn4js29rkc2ts9hck80000gn/T/ipykernel_13926/2087345762.py:1: FutureWarning: Treating datetime data as categorical rather than numeric in `.describe` is deprecated and will be removed in a future version of pandas. Specify `datetime_is_numeric=True` to silence this warning and adopt the future behavior now.\n",
      "  df.describe(include='all').T  # посмотрим укрупненно на статистики данных\n",
      "/var/folders/8y/6qgr48pn4js29rkc2ts9hck80000gn/T/ipykernel_13926/2087345762.py:1: FutureWarning: Treating datetime data as categorical rather than numeric in `.describe` is deprecated and will be removed in a future version of pandas. Specify `datetime_is_numeric=True` to silence this warning and adopt the future behavior now.\n",
      "  df.describe(include='all').T  # посмотрим укрупненно на статистики данных\n",
      "/var/folders/8y/6qgr48pn4js29rkc2ts9hck80000gn/T/ipykernel_13926/2087345762.py:1: FutureWarning: Treating datetime data as categorical rather than numeric in `.describe` is deprecated and will be removed in a future version of pandas. Specify `datetime_is_numeric=True` to silence this warning and adopt the future behavior now.\n",
      "  df.describe(include='all').T  # посмотрим укрупненно на статистики данных\n"
     ]
    },
    {
     "data": {
      "text/html": [
       "<div>\n",
       "<style scoped>\n",
       "    .dataframe tbody tr th:only-of-type {\n",
       "        vertical-align: middle;\n",
       "    }\n",
       "\n",
       "    .dataframe tbody tr th {\n",
       "        vertical-align: top;\n",
       "    }\n",
       "\n",
       "    .dataframe thead th {\n",
       "        text-align: right;\n",
       "    }\n",
       "</style>\n",
       "<table border=\"1\" class=\"dataframe\">\n",
       "  <thead>\n",
       "    <tr style=\"text-align: right;\">\n",
       "      <th></th>\n",
       "      <th>count</th>\n",
       "      <th>unique</th>\n",
       "      <th>top</th>\n",
       "      <th>freq</th>\n",
       "      <th>first</th>\n",
       "      <th>last</th>\n",
       "      <th>mean</th>\n",
       "      <th>std</th>\n",
       "      <th>min</th>\n",
       "      <th>25%</th>\n",
       "      <th>50%</th>\n",
       "      <th>75%</th>\n",
       "      <th>max</th>\n",
       "    </tr>\n",
       "  </thead>\n",
       "  <tbody>\n",
       "    <tr>\n",
       "      <th>date_crawled</th>\n",
       "      <td>354369</td>\n",
       "      <td>271174</td>\n",
       "      <td>2016-03-24 14:49:47</td>\n",
       "      <td>7</td>\n",
       "      <td>2016-03-05 14:06:22</td>\n",
       "      <td>2016-04-07 14:36:58</td>\n",
       "      <td>NaN</td>\n",
       "      <td>NaN</td>\n",
       "      <td>NaN</td>\n",
       "      <td>NaN</td>\n",
       "      <td>NaN</td>\n",
       "      <td>NaN</td>\n",
       "      <td>NaN</td>\n",
       "    </tr>\n",
       "    <tr>\n",
       "      <th>price</th>\n",
       "      <td>354369.0</td>\n",
       "      <td>NaN</td>\n",
       "      <td>NaN</td>\n",
       "      <td>NaN</td>\n",
       "      <td>NaT</td>\n",
       "      <td>NaT</td>\n",
       "      <td>4416.656776</td>\n",
       "      <td>4514.158514</td>\n",
       "      <td>0.0</td>\n",
       "      <td>1050.0</td>\n",
       "      <td>2700.0</td>\n",
       "      <td>6400.0</td>\n",
       "      <td>20000.0</td>\n",
       "    </tr>\n",
       "    <tr>\n",
       "      <th>vehicle_type</th>\n",
       "      <td>354369</td>\n",
       "      <td>9</td>\n",
       "      <td>sedan</td>\n",
       "      <td>91457</td>\n",
       "      <td>NaT</td>\n",
       "      <td>NaT</td>\n",
       "      <td>NaN</td>\n",
       "      <td>NaN</td>\n",
       "      <td>NaN</td>\n",
       "      <td>NaN</td>\n",
       "      <td>NaN</td>\n",
       "      <td>NaN</td>\n",
       "      <td>NaN</td>\n",
       "    </tr>\n",
       "    <tr>\n",
       "      <th>registration_year</th>\n",
       "      <td>354369.0</td>\n",
       "      <td>NaN</td>\n",
       "      <td>NaN</td>\n",
       "      <td>NaN</td>\n",
       "      <td>NaT</td>\n",
       "      <td>NaT</td>\n",
       "      <td>2004.234448</td>\n",
       "      <td>90.227958</td>\n",
       "      <td>1000.0</td>\n",
       "      <td>1999.0</td>\n",
       "      <td>2003.0</td>\n",
       "      <td>2008.0</td>\n",
       "      <td>9999.0</td>\n",
       "    </tr>\n",
       "    <tr>\n",
       "      <th>gearbox</th>\n",
       "      <td>354369</td>\n",
       "      <td>3</td>\n",
       "      <td>manual</td>\n",
       "      <td>268251</td>\n",
       "      <td>NaT</td>\n",
       "      <td>NaT</td>\n",
       "      <td>NaN</td>\n",
       "      <td>NaN</td>\n",
       "      <td>NaN</td>\n",
       "      <td>NaN</td>\n",
       "      <td>NaN</td>\n",
       "      <td>NaN</td>\n",
       "      <td>NaN</td>\n",
       "    </tr>\n",
       "    <tr>\n",
       "      <th>power</th>\n",
       "      <td>354369.0</td>\n",
       "      <td>NaN</td>\n",
       "      <td>NaN</td>\n",
       "      <td>NaN</td>\n",
       "      <td>NaT</td>\n",
       "      <td>NaT</td>\n",
       "      <td>110.094337</td>\n",
       "      <td>189.850405</td>\n",
       "      <td>0.0</td>\n",
       "      <td>69.0</td>\n",
       "      <td>105.0</td>\n",
       "      <td>143.0</td>\n",
       "      <td>20000.0</td>\n",
       "    </tr>\n",
       "    <tr>\n",
       "      <th>model</th>\n",
       "      <td>354369</td>\n",
       "      <td>251</td>\n",
       "      <td>golf</td>\n",
       "      <td>29232</td>\n",
       "      <td>NaT</td>\n",
       "      <td>NaT</td>\n",
       "      <td>NaN</td>\n",
       "      <td>NaN</td>\n",
       "      <td>NaN</td>\n",
       "      <td>NaN</td>\n",
       "      <td>NaN</td>\n",
       "      <td>NaN</td>\n",
       "      <td>NaN</td>\n",
       "    </tr>\n",
       "    <tr>\n",
       "      <th>kilometer</th>\n",
       "      <td>354369.0</td>\n",
       "      <td>NaN</td>\n",
       "      <td>NaN</td>\n",
       "      <td>NaN</td>\n",
       "      <td>NaT</td>\n",
       "      <td>NaT</td>\n",
       "      <td>128211.172535</td>\n",
       "      <td>37905.34153</td>\n",
       "      <td>5000.0</td>\n",
       "      <td>125000.0</td>\n",
       "      <td>150000.0</td>\n",
       "      <td>150000.0</td>\n",
       "      <td>150000.0</td>\n",
       "    </tr>\n",
       "    <tr>\n",
       "      <th>registration_month</th>\n",
       "      <td>354369.0</td>\n",
       "      <td>NaN</td>\n",
       "      <td>NaN</td>\n",
       "      <td>NaN</td>\n",
       "      <td>NaT</td>\n",
       "      <td>NaT</td>\n",
       "      <td>5.714645</td>\n",
       "      <td>3.726421</td>\n",
       "      <td>0.0</td>\n",
       "      <td>3.0</td>\n",
       "      <td>6.0</td>\n",
       "      <td>9.0</td>\n",
       "      <td>12.0</td>\n",
       "    </tr>\n",
       "    <tr>\n",
       "      <th>fuel_type</th>\n",
       "      <td>354369</td>\n",
       "      <td>8</td>\n",
       "      <td>petrol</td>\n",
       "      <td>216352</td>\n",
       "      <td>NaT</td>\n",
       "      <td>NaT</td>\n",
       "      <td>NaN</td>\n",
       "      <td>NaN</td>\n",
       "      <td>NaN</td>\n",
       "      <td>NaN</td>\n",
       "      <td>NaN</td>\n",
       "      <td>NaN</td>\n",
       "      <td>NaN</td>\n",
       "    </tr>\n",
       "    <tr>\n",
       "      <th>brand</th>\n",
       "      <td>354369</td>\n",
       "      <td>40</td>\n",
       "      <td>volkswagen</td>\n",
       "      <td>77013</td>\n",
       "      <td>NaT</td>\n",
       "      <td>NaT</td>\n",
       "      <td>NaN</td>\n",
       "      <td>NaN</td>\n",
       "      <td>NaN</td>\n",
       "      <td>NaN</td>\n",
       "      <td>NaN</td>\n",
       "      <td>NaN</td>\n",
       "      <td>NaN</td>\n",
       "    </tr>\n",
       "    <tr>\n",
       "      <th>repaired</th>\n",
       "      <td>354369</td>\n",
       "      <td>3</td>\n",
       "      <td>no</td>\n",
       "      <td>247161</td>\n",
       "      <td>NaT</td>\n",
       "      <td>NaT</td>\n",
       "      <td>NaN</td>\n",
       "      <td>NaN</td>\n",
       "      <td>NaN</td>\n",
       "      <td>NaN</td>\n",
       "      <td>NaN</td>\n",
       "      <td>NaN</td>\n",
       "      <td>NaN</td>\n",
       "    </tr>\n",
       "    <tr>\n",
       "      <th>date_created</th>\n",
       "      <td>354369</td>\n",
       "      <td>109</td>\n",
       "      <td>2016-04-03 00:00:00</td>\n",
       "      <td>13719</td>\n",
       "      <td>2014-03-10 00:00:00</td>\n",
       "      <td>2016-04-07 00:00:00</td>\n",
       "      <td>NaN</td>\n",
       "      <td>NaN</td>\n",
       "      <td>NaN</td>\n",
       "      <td>NaN</td>\n",
       "      <td>NaN</td>\n",
       "      <td>NaN</td>\n",
       "      <td>NaN</td>\n",
       "    </tr>\n",
       "    <tr>\n",
       "      <th>number_of_pictures</th>\n",
       "      <td>354369.0</td>\n",
       "      <td>NaN</td>\n",
       "      <td>NaN</td>\n",
       "      <td>NaN</td>\n",
       "      <td>NaT</td>\n",
       "      <td>NaT</td>\n",
       "      <td>0.0</td>\n",
       "      <td>0.0</td>\n",
       "      <td>0.0</td>\n",
       "      <td>0.0</td>\n",
       "      <td>0.0</td>\n",
       "      <td>0.0</td>\n",
       "      <td>0.0</td>\n",
       "    </tr>\n",
       "    <tr>\n",
       "      <th>postal_code</th>\n",
       "      <td>354369.0</td>\n",
       "      <td>NaN</td>\n",
       "      <td>NaN</td>\n",
       "      <td>NaN</td>\n",
       "      <td>NaT</td>\n",
       "      <td>NaT</td>\n",
       "      <td>50508.689087</td>\n",
       "      <td>25783.096248</td>\n",
       "      <td>1067.0</td>\n",
       "      <td>30165.0</td>\n",
       "      <td>49413.0</td>\n",
       "      <td>71083.0</td>\n",
       "      <td>99998.0</td>\n",
       "    </tr>\n",
       "    <tr>\n",
       "      <th>last_seen</th>\n",
       "      <td>354369</td>\n",
       "      <td>179150</td>\n",
       "      <td>2016-04-06 13:45:54</td>\n",
       "      <td>17</td>\n",
       "      <td>2016-03-05 14:15:08</td>\n",
       "      <td>2016-04-07 14:58:51</td>\n",
       "      <td>NaN</td>\n",
       "      <td>NaN</td>\n",
       "      <td>NaN</td>\n",
       "      <td>NaN</td>\n",
       "      <td>NaN</td>\n",
       "      <td>NaN</td>\n",
       "      <td>NaN</td>\n",
       "    </tr>\n",
       "    <tr>\n",
       "      <th>age</th>\n",
       "      <td>354369.0</td>\n",
       "      <td>NaN</td>\n",
       "      <td>NaN</td>\n",
       "      <td>NaN</td>\n",
       "      <td>NaT</td>\n",
       "      <td>NaT</td>\n",
       "      <td>11.765476</td>\n",
       "      <td>90.227958</td>\n",
       "      <td>-7983.0</td>\n",
       "      <td>8.0</td>\n",
       "      <td>13.0</td>\n",
       "      <td>17.0</td>\n",
       "      <td>1016.0</td>\n",
       "    </tr>\n",
       "  </tbody>\n",
       "</table>\n",
       "</div>"
      ],
      "text/plain": [
       "                       count  unique                  top    freq  \\\n",
       "date_crawled          354369  271174  2016-03-24 14:49:47       7   \n",
       "price               354369.0     NaN                  NaN     NaN   \n",
       "vehicle_type          354369       9                sedan   91457   \n",
       "registration_year   354369.0     NaN                  NaN     NaN   \n",
       "gearbox               354369       3               manual  268251   \n",
       "power               354369.0     NaN                  NaN     NaN   \n",
       "model                 354369     251                 golf   29232   \n",
       "kilometer           354369.0     NaN                  NaN     NaN   \n",
       "registration_month  354369.0     NaN                  NaN     NaN   \n",
       "fuel_type             354369       8               petrol  216352   \n",
       "brand                 354369      40           volkswagen   77013   \n",
       "repaired              354369       3                   no  247161   \n",
       "date_created          354369     109  2016-04-03 00:00:00   13719   \n",
       "number_of_pictures  354369.0     NaN                  NaN     NaN   \n",
       "postal_code         354369.0     NaN                  NaN     NaN   \n",
       "last_seen             354369  179150  2016-04-06 13:45:54      17   \n",
       "age                 354369.0     NaN                  NaN     NaN   \n",
       "\n",
       "                                 first                last           mean  \\\n",
       "date_crawled       2016-03-05 14:06:22 2016-04-07 14:36:58            NaN   \n",
       "price                              NaT                 NaT    4416.656776   \n",
       "vehicle_type                       NaT                 NaT            NaN   \n",
       "registration_year                  NaT                 NaT    2004.234448   \n",
       "gearbox                            NaT                 NaT            NaN   \n",
       "power                              NaT                 NaT     110.094337   \n",
       "model                              NaT                 NaT            NaN   \n",
       "kilometer                          NaT                 NaT  128211.172535   \n",
       "registration_month                 NaT                 NaT       5.714645   \n",
       "fuel_type                          NaT                 NaT            NaN   \n",
       "brand                              NaT                 NaT            NaN   \n",
       "repaired                           NaT                 NaT            NaN   \n",
       "date_created       2014-03-10 00:00:00 2016-04-07 00:00:00            NaN   \n",
       "number_of_pictures                 NaT                 NaT            0.0   \n",
       "postal_code                        NaT                 NaT   50508.689087   \n",
       "last_seen          2016-03-05 14:15:08 2016-04-07 14:58:51            NaN   \n",
       "age                                NaT                 NaT      11.765476   \n",
       "\n",
       "                             std     min       25%       50%       75%  \\\n",
       "date_crawled                 NaN     NaN       NaN       NaN       NaN   \n",
       "price                4514.158514     0.0    1050.0    2700.0    6400.0   \n",
       "vehicle_type                 NaN     NaN       NaN       NaN       NaN   \n",
       "registration_year      90.227958  1000.0    1999.0    2003.0    2008.0   \n",
       "gearbox                      NaN     NaN       NaN       NaN       NaN   \n",
       "power                 189.850405     0.0      69.0     105.0     143.0   \n",
       "model                        NaN     NaN       NaN       NaN       NaN   \n",
       "kilometer            37905.34153  5000.0  125000.0  150000.0  150000.0   \n",
       "registration_month      3.726421     0.0       3.0       6.0       9.0   \n",
       "fuel_type                    NaN     NaN       NaN       NaN       NaN   \n",
       "brand                        NaN     NaN       NaN       NaN       NaN   \n",
       "repaired                     NaN     NaN       NaN       NaN       NaN   \n",
       "date_created                 NaN     NaN       NaN       NaN       NaN   \n",
       "number_of_pictures           0.0     0.0       0.0       0.0       0.0   \n",
       "postal_code         25783.096248  1067.0   30165.0   49413.0   71083.0   \n",
       "last_seen                    NaN     NaN       NaN       NaN       NaN   \n",
       "age                    90.227958 -7983.0       8.0      13.0      17.0   \n",
       "\n",
       "                         max  \n",
       "date_crawled             NaN  \n",
       "price                20000.0  \n",
       "vehicle_type             NaN  \n",
       "registration_year     9999.0  \n",
       "gearbox                  NaN  \n",
       "power                20000.0  \n",
       "model                    NaN  \n",
       "kilometer           150000.0  \n",
       "registration_month      12.0  \n",
       "fuel_type                NaN  \n",
       "brand                    NaN  \n",
       "repaired                 NaN  \n",
       "date_created             NaN  \n",
       "number_of_pictures       0.0  \n",
       "postal_code          99998.0  \n",
       "last_seen                NaN  \n",
       "age                   1016.0  "
      ]
     },
     "execution_count": 17,
     "metadata": {},
     "output_type": "execute_result"
    }
   ],
   "source": [
    "df.describe(include='all').T  # посмотрим укрупненно на статистики данных"
   ]
  },
  {
   "cell_type": "markdown",
   "metadata": {},
   "source": [
    "**Промежуточный вывод:** У нас данные об объявлениях за 2 года (с матра 2014 по апрель 2016). В ценах есть аномальное значение \"0\", подробнее рассмотрим далее. В годе регистрации есть аномалии, как в меньшую, так и в большую стороны: минимальное значение - 1000й год, максимальное - 9999й, подробнее рассмотрим далее. С мощностью двигателя тоже явно есть аномалии , так как мин. знаяение \"0\", а макс. - \"20000\" л.с. при том, что даже суперкары в основном имеют мощность 1600 л.с., изредка до 5000 л.с., подробнее рассмотрим далее. Похоже, что столбец с количеством фотографий неинформативен, так как имеет одни нулевые значения, проверим это далее. В почтовых индексах есть 4-значные коды, чего не бывает в РФ, возможно это только первые цифры кода, попробуем разобраться далее. Чтобы корректнее оценить возраст авто, нужно сначала избавиться от аномалий в данных о годе регистрации."
   ]
  },
  {
   "cell_type": "code",
   "execution_count": 18,
   "metadata": {},
   "outputs": [
    {
     "data": {
      "text/plain": [
       "0    354369\n",
       "Name: number_of_pictures, dtype: int64"
      ]
     },
     "execution_count": 18,
     "metadata": {},
     "output_type": "execute_result"
    }
   ],
   "source": [
    "df['number_of_pictures'].value_counts() # перепроверим гипотезу о нулевых значениях в столбце с фотографиями"
   ]
  },
  {
   "cell_type": "code",
   "execution_count": 19,
   "metadata": {},
   "outputs": [
    {
     "name": "stdout",
     "output_type": "stream",
     "text": [
      "<class 'pandas.core.frame.DataFrame'>\n",
      "RangeIndex: 354369 entries, 0 to 354368\n",
      "Data columns (total 16 columns):\n",
      " #   Column              Non-Null Count   Dtype         \n",
      "---  ------              --------------   -----         \n",
      " 0   date_crawled        354369 non-null  datetime64[ns]\n",
      " 1   price               354369 non-null  int64         \n",
      " 2   vehicle_type        354369 non-null  object        \n",
      " 3   registration_year   354369 non-null  int64         \n",
      " 4   gearbox             354369 non-null  object        \n",
      " 5   power               354369 non-null  int64         \n",
      " 6   model               354369 non-null  object        \n",
      " 7   kilometer           354369 non-null  int64         \n",
      " 8   registration_month  354369 non-null  int64         \n",
      " 9   fuel_type           354369 non-null  object        \n",
      " 10  brand               354369 non-null  object        \n",
      " 11  repaired            354369 non-null  object        \n",
      " 12  date_created        354369 non-null  datetime64[ns]\n",
      " 13  postal_code         354369 non-null  int64         \n",
      " 14  last_seen           354369 non-null  datetime64[ns]\n",
      " 15  age                 354369 non-null  int64         \n",
      "dtypes: datetime64[ns](3), int64(7), object(6)\n",
      "memory usage: 43.3+ MB\n"
     ]
    }
   ],
   "source": [
    "df = df.drop(['number_of_pictures'] , axis=1).copy() # так и есть, можно удалить данный столбец, как неинформативный\n",
    "df.info()"
   ]
  },
  {
   "cell_type": "code",
   "execution_count": 20,
   "metadata": {},
   "outputs": [
    {
     "data": {
      "text/html": [
       "<div>\n",
       "<style scoped>\n",
       "    .dataframe tbody tr th:only-of-type {\n",
       "        vertical-align: middle;\n",
       "    }\n",
       "\n",
       "    .dataframe tbody tr th {\n",
       "        vertical-align: top;\n",
       "    }\n",
       "\n",
       "    .dataframe thead th {\n",
       "        text-align: right;\n",
       "    }\n",
       "</style>\n",
       "<table border=\"1\" class=\"dataframe\">\n",
       "  <thead>\n",
       "    <tr style=\"text-align: right;\">\n",
       "      <th></th>\n",
       "      <th>price</th>\n",
       "      <th>registration_year</th>\n",
       "      <th>power</th>\n",
       "      <th>kilometer</th>\n",
       "      <th>registration_month</th>\n",
       "      <th>age</th>\n",
       "    </tr>\n",
       "  </thead>\n",
       "  <tbody>\n",
       "    <tr>\n",
       "      <th>price</th>\n",
       "      <td>1.000000</td>\n",
       "      <td>0.026916</td>\n",
       "      <td>0.158872</td>\n",
       "      <td>-0.333199</td>\n",
       "      <td>0.110581</td>\n",
       "      <td>-0.026917</td>\n",
       "    </tr>\n",
       "    <tr>\n",
       "      <th>registration_year</th>\n",
       "      <td>0.026916</td>\n",
       "      <td>1.000000</td>\n",
       "      <td>-0.000828</td>\n",
       "      <td>-0.053447</td>\n",
       "      <td>-0.011619</td>\n",
       "      <td>-1.000000</td>\n",
       "    </tr>\n",
       "    <tr>\n",
       "      <th>power</th>\n",
       "      <td>0.158872</td>\n",
       "      <td>-0.000828</td>\n",
       "      <td>1.000000</td>\n",
       "      <td>0.024002</td>\n",
       "      <td>0.043380</td>\n",
       "      <td>0.000828</td>\n",
       "    </tr>\n",
       "    <tr>\n",
       "      <th>kilometer</th>\n",
       "      <td>-0.333199</td>\n",
       "      <td>-0.053447</td>\n",
       "      <td>0.024002</td>\n",
       "      <td>1.000000</td>\n",
       "      <td>0.009571</td>\n",
       "      <td>0.053447</td>\n",
       "    </tr>\n",
       "    <tr>\n",
       "      <th>registration_month</th>\n",
       "      <td>0.110581</td>\n",
       "      <td>-0.011619</td>\n",
       "      <td>0.043380</td>\n",
       "      <td>0.009571</td>\n",
       "      <td>1.000000</td>\n",
       "      <td>0.011619</td>\n",
       "    </tr>\n",
       "    <tr>\n",
       "      <th>age</th>\n",
       "      <td>-0.026917</td>\n",
       "      <td>-1.000000</td>\n",
       "      <td>0.000828</td>\n",
       "      <td>0.053447</td>\n",
       "      <td>0.011619</td>\n",
       "      <td>1.000000</td>\n",
       "    </tr>\n",
       "  </tbody>\n",
       "</table>\n",
       "</div>"
      ],
      "text/plain": [
       "                       price  registration_year     power  kilometer  \\\n",
       "price               1.000000           0.026916  0.158872  -0.333199   \n",
       "registration_year   0.026916           1.000000 -0.000828  -0.053447   \n",
       "power               0.158872          -0.000828  1.000000   0.024002   \n",
       "kilometer          -0.333199          -0.053447  0.024002   1.000000   \n",
       "registration_month  0.110581          -0.011619  0.043380   0.009571   \n",
       "age                -0.026917          -1.000000  0.000828   0.053447   \n",
       "\n",
       "                    registration_month       age  \n",
       "price                         0.110581 -0.026917  \n",
       "registration_year            -0.011619 -1.000000  \n",
       "power                         0.043380  0.000828  \n",
       "kilometer                     0.009571  0.053447  \n",
       "registration_month            1.000000  0.011619  \n",
       "age                           0.011619  1.000000  "
      ]
     },
     "execution_count": 20,
     "metadata": {},
     "output_type": "execute_result"
    }
   ],
   "source": [
    "df.drop(['postal_code'] , axis=1).corr() # посмотрим на корреляции между числовыми значениями, дропаем индекс, так как он\n",
    "# по сути категориальный, а не числовой"
   ]
  },
  {
   "cell_type": "code",
   "execution_count": 21,
   "metadata": {},
   "outputs": [
    {
     "data": {
      "image/png": "[encoded data removed]",
      "text/plain": [
       "<Figure size 1440x720 with 2 Axes>"
      ]
     },
     "metadata": {
      "needs_background": "light"
     },
     "output_type": "display_data"
    }
   ],
   "source": [
    "plt.figure(figsize=(20,10)) # визуализируем в виде хитмэпа, но уже без возраста, чтобы не отвлекаться на корр. с годом рег-и\n",
    "ax = sns.heatmap(df.drop(['postal_code', 'age'] , axis=1).corr(), annot=True, fmt=\".1f\", linewidths=.01)\n",
    "ax.tick_params(rotation=45, labelsize=15);"
   ]
  },
  {
   "cell_type": "markdown",
   "metadata": {},
   "source": [
    "**Промежуточный вывод:** Возраст коррелирует с годом регистрации авто по понятным причинам, но в фичах будет только один из этих признаков. В остальном, высоких значений корреляии между фичами нет, так что беспокоиться о рисках мультиколлинеарности для линейных моделей не приходится. Таргет же также не имеет ощутимых линейных связей с фичами, что не так хорошо для тех же линейных моделей. Месяц регистрации имеет немного более высокое значение корреляции, чем год. Связано это с тем, что, чем больше значение месяца, тем позже в году авто зарегистрировано, а значит, тем оно моложе, однако месяцев всего 12 вариантов и вес каждого получается больше, по сравнению с годами. Я бы оставил среди фичей только возраст авто, который заменит собой оба столбца, связанных с датой регистрации. В целом же из числовых фичей с таргетом сильнее всего коррелирует пробег (корреляция отрицательная, так как, чем больше пробег, тем ниже цена)."
   ]
  },
  {
   "cell_type": "code",
   "execution_count": 23,
   "metadata": {
    "scrolled": false
   },
   "outputs": [
    {
     "data": {
      "image/png": "[encoded data removed]",
      "text/plain": [
       "<Figure size 1440x720 with 1 Axes>"
      ]
     },
     "metadata": {
      "needs_background": "light"
     },
     "output_type": "display_data"
    }
   ],
   "source": [
    "plt.figure(figsize=(20, 10)) # рассмотрим поподробнее распределение цен\n",
    "ax = sns.histplot(data=df, x='price', binwidth=100, color='green', edgecolor='white')\n",
    "ax.set_title('Распределение цен на автомобили', fontsize=17)\n",
    "ax.set_xlabel('Цена',fontsize=15)\n",
    "ax.set_ylabel('Частота',fontsize=15)\n",
    "ax.tick_params(labelsize=15);"
   ]
  },
  {
   "cell_type": "code",
   "execution_count": 24,
   "metadata": {},
   "outputs": [
    {
     "data": {
      "image/png": "[encoded data removed]",
      "text/plain": [
       "<Figure size 1440x720 with 1 Axes>"
      ]
     },
     "metadata": {
      "needs_background": "light"
     },
     "output_type": "display_data"
    }
   ],
   "source": [
    "plt.figure(figsize=(20, 10))\n",
    "ax = sns.histplot(data=df, x='price', binwidth=10, color='green', edgecolor='white')\n",
    "ax.set_xlim(0,1000)\n",
    "ax.set_title('Распределение цен на автомобили', fontsize=17)\n",
    "ax.set_xlabel('Цена',fontsize=15)\n",
    "ax.set_ylabel('Частота',fontsize=15)\n",
    "ax.tick_params(labelsize=15);"
   ]
  },
  {
   "cell_type": "code",
   "execution_count": 26,
   "metadata": {},
   "outputs": [
    {
     "data": {
      "image/png": "[encoded data removed]",
      "text/plain": [
       "<Figure size 1440x720 with 1 Axes>"
      ]
     },
     "metadata": {
      "needs_background": "light"
     },
     "output_type": "display_data"
    }
   ],
   "source": [
    "plt.figure(figsize=(20, 10))\n",
    "ax = sns.histplot(data=df, x='price', binwidth=100, color='green', edgecolor='white')\n",
    "ax.set_xlim(10000,20000)\n",
    "ax.set_ylim(0,2000)\n",
    "ax.set_title('Распределение цен на автомобили', fontsize=17)\n",
    "ax.set_xlabel('Цена',fontsize=15)\n",
    "ax.set_ylabel('Частота',fontsize=15)\n",
    "ax.tick_params(labelsize=15);"
   ]
  },
  {
   "cell_type": "code",
   "execution_count": 27,
   "metadata": {},
   "outputs": [
    {
     "data": {
      "image/png": "[encoded data removed]",
      "text/plain": [
       "<Figure size 1440x360 with 1 Axes>"
      ]
     },
     "metadata": {
      "needs_background": "light"
     },
     "output_type": "display_data"
    }
   ],
   "source": [
    "# посмотрим также ящик с усами\n",
    "plt.figure(figsize=(20,5))\n",
    "#plt.xlim(0, 1000)\n",
    "ax = sns.boxplot(x='price', data=df, orient=\"h\", color='green')\n",
    "ax.set_title('Распределение цен на автомобили', fontsize=17)\n",
    "ax.set_xlabel('Цена',fontsize=15)\n",
    "ax.tick_params(labelsize=15);"
   ]
  },
  {
   "cell_type": "code",
   "execution_count": 28,
   "metadata": {},
   "outputs": [
    {
     "data": {
      "text/plain": [
       "(10772, 16)"
      ]
     },
     "execution_count": 28,
     "metadata": {},
     "output_type": "execute_result"
    }
   ],
   "source": [
    "df[df['price'] == 0].shape #посмотрим, сколько всего объявлений в датасете с бесплатными авто"
   ]
  },
  {
   "cell_type": "markdown",
   "metadata": {},
   "source": [
    "**Промежуточный вывод:** Хоть ящик с усами и показывает цены свыше примерно 14000 и до 20000 евро, как потенциальные выбросы, тем не менее - это вполне реальные цены, пусть и не с самой высокой частотностью, а вот значимое кол-во объявлений с нулевой стоимостью - точно аномалия, которую следует удалить из датасета до обучения модели. "
   ]
  },
  {
   "cell_type": "code",
   "execution_count": 29,
   "metadata": {},
   "outputs": [
    {
     "data": {
      "text/plain": [
       "array(['bus', 'convertible', 'coupe', 'other', 'sedan', 'small', 'suv',\n",
       "       'unknown', 'wagon'], dtype=object)"
      ]
     },
     "execution_count": 29,
     "metadata": {},
     "output_type": "execute_result"
    }
   ],
   "source": [
    "df['vehicle_type'].sort_values().unique() # посмотрим, нет ли неявных дубликатов среди уникальных типов кузова"
   ]
  },
  {
   "cell_type": "code",
   "execution_count": 30,
   "metadata": {},
   "outputs": [
    {
     "data": {
      "image/png": "[encoded data removed]",
      "text/plain": [
       "<Figure size 1440x720 with 1 Axes>"
      ]
     },
     "metadata": {
      "needs_background": "light"
     },
     "output_type": "display_data"
    }
   ],
   "source": [
    "# рассмотрим поподробнее распределение значений года регистрации авто\n",
    "\n",
    "plt.figure(figsize=(20, 10))\n",
    "ax = sns.histplot(data=df, x='registration_year', binwidth=50, color='green', edgecolor='white')\n",
    "ax.set_title('Распределение года регистрации авто', fontsize=17)\n",
    "ax.set_xlabel('Год регистрации',fontsize=15)\n",
    "ax.set_ylabel('Частота',fontsize=15)\n",
    "ax.tick_params(labelsize=15);"
   ]
  },
  {
   "cell_type": "code",
   "execution_count": 31,
   "metadata": {},
   "outputs": [
    {
     "data": {
      "image/png": "[encoded data removed]",
      "text/plain": [
       "<Figure size 1440x720 with 1 Axes>"
      ]
     },
     "metadata": {
      "needs_background": "light"
     },
     "output_type": "display_data"
    }
   ],
   "source": [
    "plt.figure(figsize=(20, 10))\n",
    "ax = sns.histplot(data=df, x='registration_year', binwidth=10, color='green', edgecolor='white')\n",
    "ax.set_ylim(0,50)\n",
    "ax.set_title('Распределение года регистрации авто', fontsize=17)\n",
    "ax.set_xlabel('Год регистрации',fontsize=15)\n",
    "ax.set_ylabel('Частота',fontsize=15)\n",
    "ax.tick_params(labelsize=15);"
   ]
  },
  {
   "cell_type": "code",
   "execution_count": 32,
   "metadata": {},
   "outputs": [
    {
     "data": {
      "image/png": "[encoded data removed]",
      "text/plain": [
       "<Figure size 1440x720 with 1 Axes>"
      ]
     },
     "metadata": {
      "needs_background": "light"
     },
     "output_type": "display_data"
    }
   ],
   "source": [
    "plt.figure(figsize=(20, 10))\n",
    "ax = sns.histplot(data=df, x='registration_year', binwidth=1, color='green', edgecolor='white')\n",
    "ax.set_xlim(1900,2016) # так как у нас самые поздние объявления 2016 года, то это максимальный возможный год регистрации авто\n",
    "#ax.set_ylim(0,500)\n",
    "ax.set_title('Распределение года регистрации авто', fontsize=17)\n",
    "ax.set_xlabel('Год регистрации',fontsize=15)\n",
    "ax.set_ylabel('Частота',fontsize=15)\n",
    "ax.tick_params(labelsize=15);"
   ]
  },
  {
   "cell_type": "code",
   "execution_count": 33,
   "metadata": {
    "scrolled": false
   },
   "outputs": [
    {
     "data": {
      "image/png": "[encoded data removed]",
      "text/plain": [
       "<Figure size 1440x720 with 1 Axes>"
      ]
     },
     "metadata": {
      "needs_background": "light"
     },
     "output_type": "display_data"
    }
   ],
   "source": [
    "plt.figure(figsize=(20, 10))\n",
    "ax = sns.histplot(data=df, x='registration_year', binwidth=1, color='green', edgecolor='white')\n",
    "ax.set_xlim(1986,2016) # до 1980 частотность совсем низкая, а лучше еще сильнее ограничить возраст авто, пожалуй 30лет, как\n",
    "# максимум будет более, чем достаточно (1986 - 2016)\n",
    "#ax.set_ylim(0,500)\n",
    "ax.set_title('Распределение года регистрации авто', fontsize=17)\n",
    "ax.set_xlabel('Год регистрации',fontsize=15)\n",
    "ax.set_ylabel('Частота',fontsize=15)\n",
    "ax.tick_params(labelsize=15);"
   ]
  },
  {
   "cell_type": "code",
   "execution_count": 34,
   "metadata": {},
   "outputs": [
    {
     "data": {
      "image/png": "[encoded data removed]",
      "text/plain": [
       "<Figure size 1440x360 with 1 Axes>"
      ]
     },
     "metadata": {
      "needs_background": "light"
     },
     "output_type": "display_data"
    }
   ],
   "source": [
    "plt.figure(figsize=(20,5)) # посмотрим также ящик с усами\n",
    "#plt.xlim(0, 1000);\n",
    "ax = sns.boxplot(x='registration_year', data=df, orient=\"h\", color='green')\n",
    "ax.set_title('Распределение года регистрации автомобиля', fontsize=17)\n",
    "ax.set_xlabel('Год регистрации',fontsize=15)\n",
    "ax.tick_params(labelsize=15);"
   ]
  },
  {
   "cell_type": "code",
   "execution_count": 35,
   "metadata": {},
   "outputs": [
    {
     "data": {
      "image/png": "[encoded data removed]",
      "text/plain": [
       "<Figure size 1440x360 with 1 Axes>"
      ]
     },
     "metadata": {
      "needs_background": "light"
     },
     "output_type": "display_data"
    }
   ],
   "source": [
    "plt.figure(figsize=(20,5)) \n",
    "plt.xlim(1900, 2016)\n",
    "ax = sns.boxplot(x='registration_year', data=df, orient=\"h\", color='green')\n",
    "ax.set_title('Распределение года регистрации автомобиля', fontsize=17)\n",
    "ax.set_xlabel('Год регистрации',fontsize=15)\n",
    "ax.tick_params(labelsize=15);"
   ]
  },
  {
   "cell_type": "markdown",
   "metadata": {},
   "source": [
    "**Промежуточный вывод:** Аномальные значения года регистрации после 2016 года следует удалить, как и те, что до 1900, а если еще брать во внимание низкую частоту значений до 1980-1985 включительно и нахождение в зоне выбросов на ящике с усами, плюс подключить здравый смысл и ограничить возраст авто хотя бы 30 годами, то лучше отбросить данные до 1986 года."
   ]
  },
  {
   "cell_type": "code",
   "execution_count": 36,
   "metadata": {},
   "outputs": [
    {
     "data": {
      "text/plain": [
       "array(['auto', 'manual', 'unknown'], dtype=object)"
      ]
     },
     "execution_count": 36,
     "metadata": {},
     "output_type": "execute_result"
    }
   ],
   "source": [
    "df['gearbox'].sort_values().unique() # смотрим значения КПП на предмет неявных дубликатов"
   ]
  },
  {
   "cell_type": "code",
   "execution_count": 37,
   "metadata": {},
   "outputs": [
    {
     "data": {
      "image/png": "[encoded data removed]",
      "text/plain": [
       "<Figure size 1440x720 with 1 Axes>"
      ]
     },
     "metadata": {
      "needs_background": "light"
     },
     "output_type": "display_data"
    }
   ],
   "source": [
    "# посмотрим распределение мощности двигателей в л.с.\n",
    "\n",
    "plt.figure(figsize=(20, 10))\n",
    "ax = sns.histplot(data=df, x='power', binwidth=100, color='green', edgecolor='white')\n",
    "#ax.set_xlim(0,240)\n",
    "#ax.set_ylim(0,1000)\n",
    "ax.set_title('Распределение мощности авто', fontsize=17)\n",
    "ax.set_xlabel('Мощность',fontsize=15)\n",
    "ax.set_ylabel('Частота',fontsize=15)\n",
    "ax.tick_params(labelsize=15);"
   ]
  },
  {
   "cell_type": "code",
   "execution_count": 38,
   "metadata": {},
   "outputs": [
    {
     "data": {
      "image/png": "[encoded data removed]",
      "text/plain": [
       "<Figure size 1440x720 with 1 Axes>"
      ]
     },
     "metadata": {
      "needs_background": "light"
     },
     "output_type": "display_data"
    }
   ],
   "source": [
    "plt.figure(figsize=(20, 10))\n",
    "ax = sns.histplot(data=df, x='power', binwidth=10, color='green', edgecolor='white')\n",
    "ax.set_xlim(0,1000)\n",
    "#ax.set_ylim(0,1000)\n",
    "ax.set_title('Распределение мощности авто', fontsize=17)\n",
    "ax.set_xlabel('Мощность',fontsize=15)\n",
    "ax.set_ylabel('Частота',fontsize=15)\n",
    "ax.tick_params(labelsize=15);"
   ]
  },
  {
   "cell_type": "code",
   "execution_count": 39,
   "metadata": {},
   "outputs": [
    {
     "data": {
      "image/png": "[encoded data removed]",
      "text/plain": [
       "<Figure size 1440x720 with 1 Axes>"
      ]
     },
     "metadata": {
      "needs_background": "light"
     },
     "output_type": "display_data"
    }
   ],
   "source": [
    "plt.figure(figsize=(20, 10))\n",
    "ax = sns.histplot(data=df, x='power', binwidth=10, color='green', edgecolor='white')\n",
    "ax.set_xlim(0,400)\n",
    "#ax.set_ylim(0,1000)\n",
    "ax.set_title('Распределение мощности авто', fontsize=17)\n",
    "ax.set_xlabel('Мощность',fontsize=15)\n",
    "ax.set_ylabel('Частота',fontsize=15)\n",
    "ax.tick_params(labelsize=15);"
   ]
  },
  {
   "cell_type": "code",
   "execution_count": 40,
   "metadata": {},
   "outputs": [
    {
     "data": {
      "image/png": "[encoded data removed]",
      "text/plain": [
       "<Figure size 1440x360 with 1 Axes>"
      ]
     },
     "metadata": {
      "needs_background": "light"
     },
     "output_type": "display_data"
    }
   ],
   "source": [
    "plt.figure(figsize=(20,5)) # посмотрим также ящик с усами\n",
    "#plt.xlim(1900, 2016)\n",
    "ax = sns.boxplot(x='power', data=df, orient=\"h\", color='green')\n",
    "ax.set_title('Распределение мощности двигателя автомобиля', fontsize=17)\n",
    "ax.set_xlabel('Мощность, л.с.',fontsize=15)\n",
    "ax.tick_params(labelsize=15);"
   ]
  },
  {
   "cell_type": "code",
   "execution_count": 41,
   "metadata": {},
   "outputs": [
    {
     "data": {
      "image/png": "[encoded data removed]",
      "text/plain": [
       "<Figure size 1440x360 with 1 Axes>"
      ]
     },
     "metadata": {
      "needs_background": "light"
     },
     "output_type": "display_data"
    }
   ],
   "source": [
    "plt.figure(figsize=(20,5))\n",
    "plt.xlim(0, 500)\n",
    "ax = sns.boxplot(x='power', data=df, orient=\"h\", color='green')\n",
    "ax.set_title('Распределение мощности двигателя автомобиля', fontsize=17)\n",
    "ax.set_xlabel('Мощность, л.с.',fontsize=15)\n",
    "ax.tick_params(labelsize=15);"
   ]
  },
  {
   "cell_type": "markdown",
   "metadata": {},
   "source": [
    "**Промежуточный вывод:** Аномалию в виде нулевого значения мощности нужно удалять из данных для обучения, да и до 40 и после 310 л.с. частота сильно падает, имеет смысл это также учесть, не говоря уже об аномалиях свыше 1600-5000 л.с. "
   ]
  },
  {
   "cell_type": "code",
   "execution_count": 42,
   "metadata": {
    "scrolled": true
   },
   "outputs": [
    {
     "data": {
      "text/plain": [
       "array(['100', '145', '147', '156', '159', '1_reihe', '1er', '200',\n",
       "       '2_reihe', '300c', '3_reihe', '3er', '4_reihe', '500', '5_reihe',\n",
       "       '5er', '601', '6_reihe', '6er', '7er', '80', '850', '90', '900',\n",
       "       '9000', '911', 'a1', 'a2', 'a3', 'a4', 'a5', 'a6', 'a8',\n",
       "       'a_klasse', 'accord', 'agila', 'alhambra', 'almera', 'altea',\n",
       "       'amarok', 'antara', 'arosa', 'astra', 'auris', 'avensis', 'aveo',\n",
       "       'aygo', 'b_klasse', 'b_max', 'beetle', 'berlingo', 'bora',\n",
       "       'boxster', 'bravo', 'c1', 'c2', 'c3', 'c4', 'c5', 'c_klasse',\n",
       "       'c_max', 'c_reihe', 'caddy', 'calibra', 'captiva', 'carisma',\n",
       "       'carnival', 'cayenne', 'cc', 'ceed', 'charade', 'cherokee',\n",
       "       'citigo', 'civic', 'cl', 'clio', 'clk', 'clubman', 'colt', 'combo',\n",
       "       'cooper', 'cordoba', 'corolla', 'corsa', 'cr_reihe', 'croma',\n",
       "       'crossfire', 'cuore', 'cx_reihe', 'defender', 'delta', 'discovery',\n",
       "       'doblo', 'ducato', 'duster', 'e_klasse', 'elefantino', 'eos',\n",
       "       'escort', 'espace', 'exeo', 'fabia', 'fiesta', 'focus', 'forester',\n",
       "       'forfour', 'fortwo', 'fox', 'freelander', 'fusion', 'g_klasse',\n",
       "       'galant', 'galaxy', 'getz', 'gl', 'glk', 'golf', 'grand', 'i3',\n",
       "       'i_reihe', 'ibiza', 'impreza', 'insignia', 'jazz', 'jetta',\n",
       "       'jimny', 'juke', 'justy', 'ka', 'kadett', 'kaefer', 'kalina',\n",
       "       'kalos', 'kangoo', 'kappa', 'kuga', 'laguna', 'lancer', 'lanos',\n",
       "       'legacy', 'leon', 'lodgy', 'logan', 'lupo', 'lybra', 'm_klasse',\n",
       "       'm_reihe', 'materia', 'matiz', 'megane', 'meriva', 'micra', 'mii',\n",
       "       'modus', 'mondeo', 'move', 'musa', 'mustang', 'mx_reihe', 'navara',\n",
       "       'niva', 'note', 'nubira', 'octavia', 'omega', 'one', 'other',\n",
       "       'outlander', 'pajero', 'panda', 'passat', 'phaeton', 'picanto',\n",
       "       'polo', 'primera', 'ptcruiser', 'punto', 'q3', 'q5', 'q7',\n",
       "       'qashqai', 'r19', 'range_rover', 'range_rover_evoque',\n",
       "       'range_rover_sport', 'rangerover', 'rav', 'rio', 'roadster',\n",
       "       'roomster', 'rx_reihe', 's60', 's_klasse', 's_max', 's_type',\n",
       "       'samara', 'sandero', 'santa', 'scenic', 'scirocco', 'seicento',\n",
       "       'serie_1', 'serie_2', 'serie_3', 'sharan', 'signum', 'sirion',\n",
       "       'sl', 'slk', 'sorento', 'spark', 'spider', 'sportage', 'sprinter',\n",
       "       'stilo', 'superb', 'swift', 'terios', 'tigra', 'tiguan', 'toledo',\n",
       "       'touareg', 'touran', 'transit', 'transporter', 'tt', 'tucson',\n",
       "       'twingo', 'unknown', 'up', 'v40', 'v50', 'v60', 'v70', 'v_klasse',\n",
       "       'vectra', 'verso', 'viano', 'vito', 'vivaro', 'voyager',\n",
       "       'wrangler', 'x_reihe', 'x_trail', 'x_type', 'xc_reihe', 'yaris',\n",
       "       'yeti', 'ypsilon', 'z_reihe', 'zafira'], dtype=object)"
      ]
     },
     "execution_count": 42,
     "metadata": {},
     "output_type": "execute_result"
    }
   ],
   "source": [
    "df['model'].sort_values().unique() # проверим модели авто на предмет скрытых дубликатов"
   ]
  },
  {
   "cell_type": "code",
   "execution_count": 43,
   "metadata": {
    "scrolled": true
   },
   "outputs": [
    {
     "data": {
      "text/plain": [
       "array(['100', '145', '147', '156', '159', '1_reihe', '1er', '200',\n",
       "       '2_reihe', '300c', '3_reihe', '3er', '4_reihe', '500', '5_reihe',\n",
       "       '5er', '601', '6_reihe', '6er', '7er', '80', '850', '90', '900',\n",
       "       '9000', '911', 'a1', 'a2', 'a3', 'a4', 'a5', 'a6', 'a8',\n",
       "       'a_klasse', 'accord', 'agila', 'alhambra', 'almera', 'altea',\n",
       "       'amarok', 'antara', 'arosa', 'astra', 'auris', 'avensis', 'aveo',\n",
       "       'aygo', 'b_klasse', 'b_max', 'beetle', 'berlingo', 'bora',\n",
       "       'boxster', 'bravo', 'c1', 'c2', 'c3', 'c4', 'c5', 'c_klasse',\n",
       "       'c_max', 'c_reihe', 'caddy', 'calibra', 'captiva', 'carisma',\n",
       "       'carnival', 'cayenne', 'cc', 'ceed', 'charade', 'cherokee',\n",
       "       'citigo', 'civic', 'cl', 'clio', 'clk', 'clubman', 'colt', 'combo',\n",
       "       'cooper', 'cordoba', 'corolla', 'corsa', 'cr_reihe', 'croma',\n",
       "       'crossfire', 'cuore', 'cx_reihe', 'defender', 'delta', 'discovery',\n",
       "       'doblo', 'ducato', 'duster', 'e_klasse', 'elefantino', 'eos',\n",
       "       'escort', 'espace', 'exeo', 'fabia', 'fiesta', 'focus', 'forester',\n",
       "       'forfour', 'fortwo', 'fox', 'freelander', 'fusion', 'g_klasse',\n",
       "       'galant', 'galaxy', 'getz', 'gl', 'glk', 'golf', 'grand', 'i3',\n",
       "       'i_reihe', 'ibiza', 'impreza', 'insignia', 'jazz', 'jetta',\n",
       "       'jimny', 'juke', 'justy', 'ka', 'kadett', 'kaefer', 'kalina',\n",
       "       'kalos', 'kangoo', 'kappa', 'kuga', 'laguna', 'lancer', 'lanos',\n",
       "       'legacy', 'leon', 'lodgy', 'logan', 'lupo', 'lybra', 'm_klasse',\n",
       "       'm_reihe', 'materia', 'matiz', 'megane', 'meriva', 'micra', 'mii',\n",
       "       'modus', 'mondeo', 'move', 'musa', 'mustang', 'mx_reihe', 'navara',\n",
       "       'niva', 'note', 'nubira', 'octavia', 'omega', 'one', 'other',\n",
       "       'outlander', 'pajero', 'panda', 'passat', 'phaeton', 'picanto',\n",
       "       'polo', 'primera', 'ptcruiser', 'punto', 'q3', 'q5', 'q7',\n",
       "       'qashqai', 'r19', 'range_rover', 'range_rover_evoque',\n",
       "       'range_rover_sport', 'rav', 'rio', 'roadster', 'roomster',\n",
       "       'rx_reihe', 's60', 's_klasse', 's_max', 's_type', 'samara',\n",
       "       'sandero', 'santa', 'scenic', 'scirocco', 'seicento', 'serie_1',\n",
       "       'serie_2', 'serie_3', 'sharan', 'signum', 'sirion', 'sl', 'slk',\n",
       "       'sorento', 'spark', 'spider', 'sportage', 'sprinter', 'stilo',\n",
       "       'superb', 'swift', 'terios', 'tigra', 'tiguan', 'toledo',\n",
       "       'touareg', 'touran', 'transit', 'transporter', 'tt', 'tucson',\n",
       "       'twingo', 'unknown', 'up', 'v40', 'v50', 'v60', 'v70', 'v_klasse',\n",
       "       'vectra', 'verso', 'viano', 'vito', 'vivaro', 'voyager',\n",
       "       'wrangler', 'x_reihe', 'x_trail', 'x_type', 'xc_reihe', 'yaris',\n",
       "       'yeti', 'ypsilon', 'z_reihe', 'zafira'], dtype=object)"
      ]
     },
     "execution_count": 43,
     "metadata": {},
     "output_type": "execute_result"
    }
   ],
   "source": [
    "df['model'] = df['model'].replace('rangerover', 'range_rover') # убираем неявные дубликаты\n",
    "df['model'].sort_values().unique() # проверим результат"
   ]
  },
  {
   "cell_type": "code",
   "execution_count": 44,
   "metadata": {},
   "outputs": [
    {
     "data": {
      "text/plain": [
       "array(['cng', 'electric', 'gasoline', 'hybrid', 'lpg', 'other', 'petrol',\n",
       "       'unknown'], dtype=object)"
      ]
     },
     "execution_count": 44,
     "metadata": {},
     "output_type": "execute_result"
    }
   ],
   "source": [
    "df['fuel_type'].sort_values().unique() # проверим тип топлива на предмет скрытых дубликатов"
   ]
  },
  {
   "cell_type": "code",
   "execution_count": 45,
   "metadata": {},
   "outputs": [
    {
     "data": {
      "text/plain": [
       "array(['cng', 'electric', 'gasoline', 'hybrid', 'lpg', 'other', 'unknown'],\n",
       "      dtype=object)"
      ]
     },
     "execution_count": 45,
     "metadata": {},
     "output_type": "execute_result"
    }
   ],
   "source": [
    "df['fuel_type'] = df['fuel_type'].replace('petrol', 'gasoline') #убираем неявные дубликаты(gasoline и petrol-это синонимы)\n",
    "df['fuel_type'].sort_values().unique() # проверим результат"
   ]
  },
  {
   "cell_type": "code",
   "execution_count": 46,
   "metadata": {
    "scrolled": true
   },
   "outputs": [
    {
     "data": {
      "text/plain": [
       "array(['alfa_romeo', 'audi', 'bmw', 'chevrolet', 'chrysler', 'citroen',\n",
       "       'dacia', 'daewoo', 'daihatsu', 'fiat', 'ford', 'honda', 'hyundai',\n",
       "       'jaguar', 'jeep', 'kia', 'lada', 'lancia', 'land_rover', 'mazda',\n",
       "       'mercedes_benz', 'mini', 'mitsubishi', 'nissan', 'opel', 'peugeot',\n",
       "       'porsche', 'renault', 'rover', 'saab', 'seat', 'skoda', 'smart',\n",
       "       'sonstige_autos', 'subaru', 'suzuki', 'toyota', 'trabant',\n",
       "       'volkswagen', 'volvo'], dtype=object)"
      ]
     },
     "execution_count": 46,
     "metadata": {},
     "output_type": "execute_result"
    }
   ],
   "source": [
    "df['brand'].sort_values().unique()"
   ]
  },
  {
   "cell_type": "code",
   "execution_count": 47,
   "metadata": {},
   "outputs": [
    {
     "data": {
      "text/plain": [
       "array(['other', 'discovery', 'unknown', 'range_rover', 'freelander',\n",
       "       'defender'], dtype=object)"
      ]
     },
     "execution_count": 47,
     "metadata": {},
     "output_type": "execute_result"
    }
   ],
   "source": [
    "df[df['brand'] == 'rover'].model.unique() # проверим, имеется ввиду Land Rover или иной производитель по моделям"
   ]
  },
  {
   "cell_type": "code",
   "execution_count": 48,
   "metadata": {},
   "outputs": [
    {
     "data": {
      "text/plain": [
       "array(['alfa_romeo', 'audi', 'bmw', 'chevrolet', 'chrysler', 'citroen',\n",
       "       'dacia', 'daewoo', 'daihatsu', 'fiat', 'ford', 'honda', 'hyundai',\n",
       "       'jaguar', 'jeep', 'kia', 'lada', 'lancia', 'land_rover', 'mazda',\n",
       "       'mercedes_benz', 'mini', 'mitsubishi', 'nissan', 'opel', 'peugeot',\n",
       "       'porsche', 'renault', 'saab', 'seat', 'skoda', 'smart',\n",
       "       'sonstige_autos', 'subaru', 'suzuki', 'toyota', 'trabant',\n",
       "       'volkswagen', 'volvo'], dtype=object)"
      ]
     },
     "execution_count": 48,
     "metadata": {},
     "output_type": "execute_result"
    }
   ],
   "source": [
    "df['brand'] = df['brand'].replace('rover', 'land_rover') # убираем неявные дубликаты\n",
    "df['brand'].sort_values().unique() # проверим результат"
   ]
  },
  {
   "cell_type": "code",
   "execution_count": 49,
   "metadata": {},
   "outputs": [
    {
     "data": {
      "text/plain": [
       "no         247161\n",
       "unknown     71154\n",
       "yes         36054\n",
       "Name: repaired, dtype: int64"
      ]
     },
     "execution_count": 49,
     "metadata": {},
     "output_type": "execute_result"
    }
   ],
   "source": [
    "df['repaired'].value_counts() "
   ]
  },
  {
   "cell_type": "code",
   "execution_count": 50,
   "metadata": {},
   "outputs": [
    {
     "data": {
      "text/plain": [
       "10115    819\n",
       "65428    613\n",
       "66333    343\n",
       "32257    317\n",
       "44145    317\n",
       "        ... \n",
       "91801      1\n",
       "31097      1\n",
       "82444      1\n",
       "94359      1\n",
       "31096      1\n",
       "Name: postal_code, Length: 8143, dtype: int64"
      ]
     },
     "execution_count": 50,
     "metadata": {},
     "output_type": "execute_result"
    }
   ],
   "source": [
    "df['postal_code'].value_counts()   #.head(1000)"
   ]
  },
  {
   "cell_type": "code",
   "execution_count": 51,
   "metadata": {},
   "outputs": [
    {
     "data": {
      "text/plain": [
       "(18159, 16)"
      ]
     },
     "execution_count": 51,
     "metadata": {},
     "output_type": "execute_result"
    }
   ],
   "source": [
    "df[df['postal_code'] <= 9999].shape"
   ]
  },
  {
   "cell_type": "code",
   "execution_count": 52,
   "metadata": {},
   "outputs": [
    {
     "data": {
      "text/plain": [
       "904    2095\n",
       "458    1849\n",
       "603    1595\n",
       "381    1481\n",
       "266    1452\n",
       "       ... \n",
       "536     302\n",
       "973     300\n",
       "851     291\n",
       "395     290\n",
       "815     289\n",
       "Name: postal_code, Length: 500, dtype: int64"
      ]
     },
     "execution_count": 52,
     "metadata": {},
     "output_type": "execute_result"
    }
   ],
   "source": [
    "six = df[df['postal_code'] > 9999]\n",
    "text = six.postal_code.astype(str)\n",
    "#code = text.str.extract(r'(\\d{1,3})')\n",
    "code = text.str[:3]\n",
    "code.value_counts().head(500)"
   ]
  },
  {
   "cell_type": "markdown",
   "metadata": {},
   "source": [
    "**Промежуточный вывод:** Было бы здорово увязать почтовые индексы по первым 3 цифрам с регионами, чтобы более укрупненно категоризировать данные, однако из 5 топовых по упоминаниям первых 3 цифр индексов только один соответствует реальному почтовому индексу РФ, остальные 4 не встречаются, возможно индексы не относятся к РФ, это могло бы объяснить и встречающиеся 4-значные индексы. Тем не менее, идентификация с конкретными регионами затруднена, индексы не совпадают с реальными. В такой ситуации будет спокойнее не использовать данный столбец при обучении модели, хоть и жаль, что не получится дифференцировать ценообразование в зависимости от региона. "
   ]
  },
  {
   "cell_type": "code",
   "execution_count": 53,
   "metadata": {},
   "outputs": [
    {
     "data": {
      "image/png": "[encoded data removed]",
      "text/plain": [
       "<Figure size 1440x720 with 1 Axes>"
      ]
     },
     "metadata": {
      "needs_background": "light"
     },
     "output_type": "display_data"
    }
   ],
   "source": [
    "# посмотрим подробнее распределение возраста авто (заранее ограничив влияние аномалий даты регистрации)\n",
    "# в данном случае нулевые значения не аномалия, а машины моложе года\n",
    "plt.figure(figsize=(20, 10))\n",
    "ax = sns.histplot(data=df, x='age', binwidth=1, color='green', edgecolor='white')\n",
    "ax.set_xlim(0,30)\n",
    "#ax.set_ylim(0,1000)\n",
    "ax.set_title('Распределение возраста авто', fontsize=17)\n",
    "ax.set_xlabel('Возраст',fontsize=15)\n",
    "ax.set_ylabel('Частота',fontsize=15)\n",
    "ax.tick_params(labelsize=15);"
   ]
  },
  {
   "cell_type": "code",
   "execution_count": 54,
   "metadata": {},
   "outputs": [
    {
     "data": {
      "image/png": "[encoded data removed]",
      "text/plain": [
       "<Figure size 1440x720 with 1 Axes>"
      ]
     },
     "metadata": {
      "needs_background": "light"
     },
     "output_type": "display_data"
    }
   ],
   "source": [
    "# посмотрим подробнее распределение пробега авто\n",
    "plt.figure(figsize=(20, 10))\n",
    "ax = sns.histplot(data=df, x='kilometer', binwidth=10000, color='green', edgecolor='white')\n",
    "ax.set_title('Распределение пробега авто', fontsize=17)\n",
    "ax.set_xlabel('Пробег, км',fontsize=15)\n",
    "ax.set_ylabel('Частота',fontsize=15)\n",
    "ax.tick_params(labelsize=15);"
   ]
  },
  {
   "cell_type": "code",
   "execution_count": 55,
   "metadata": {},
   "outputs": [
    {
     "data": {
      "image/png": "[encoded data removed]",
      "text/plain": [
       "<Figure size 1440x360 with 1 Axes>"
      ]
     },
     "metadata": {
      "needs_background": "light"
     },
     "output_type": "display_data"
    }
   ],
   "source": [
    "plt.figure(figsize=(20,5))\n",
    "#plt.xlim(0, 500)\n",
    "ax = sns.boxplot(x='kilometer', data=df, orient=\"h\", color='green')\n",
    "ax.set_title('Распределение пробега автомобиля', fontsize=17)\n",
    "ax.set_xlabel('Пробег, км',fontsize=15)\n",
    "ax.tick_params(labelsize=15);"
   ]
  },
  {
   "cell_type": "markdown",
   "metadata": {},
   "source": [
    "**Промежуточный вывод:** Немного неожиданное распределение пробегов: мало частот по небольшим и средним пробегам, хотя зачастую люди стараются продать авто до истечения срока гарантии и при только городском использовании пробеги не должны быть большими, однако нет причин не доверять статистике по конкретной выборке."
   ]
  },
  {
   "cell_type": "code",
   "execution_count": 56,
   "metadata": {},
   "outputs": [
    {
     "data": {
      "text/plain": [
       "4"
      ]
     },
     "execution_count": 56,
     "metadata": {},
     "output_type": "execute_result"
    }
   ],
   "source": [
    "df.duplicated().sum()"
   ]
  },
  {
   "cell_type": "markdown",
   "metadata": {},
   "source": [
    "**Промежуточный вывод:** Учитывая, что в датасете нет уникальных номеров объявлений и его размеры, то такое кол-во дубликатов вполне допустимо теоретически. "
   ]
  },
  {
   "cell_type": "code",
   "execution_count": 57,
   "metadata": {},
   "outputs": [
    {
     "data": {
      "text/plain": [
       "(289620, 16)"
      ]
     },
     "execution_count": 57,
     "metadata": {},
     "output_type": "execute_result"
    }
   ],
   "source": [
    "# итак, перед обучением моделей очистим датасет от выявленных аномалий\n",
    "\n",
    "df = df[(df['price'] > 0) & (df['registration_year'] >= 1986) & (df['registration_year'] <= 2016) & \\\n",
    "(df['power'] >= 40) & (df['power'] <= 310)].copy()\n",
    "df.shape"
   ]
  },
  {
   "cell_type": "code",
   "execution_count": 58,
   "metadata": {},
   "outputs": [
    {
     "data": {
      "image/png": "[encoded data removed]",
      "text/plain": [
       "<Figure size 1440x720 with 1 Axes>"
      ]
     },
     "metadata": {
      "needs_background": "light"
     },
     "output_type": "display_data"
    }
   ],
   "source": [
    "plt.figure(figsize=(20, 10)) # перепроверим распределение возраста авто, не появилось ли отрицательных значений (если объявление\n",
    "ax = sns.histplot(data=df, x='age', binwidth=1, color='green', edgecolor='white') # 2014 или 2015, а регистрация позже)\n",
    "ax.set_title('Распределение цен на автомобили', fontsize=17)\n",
    "ax.set_xlabel('Цена',fontsize=15)\n",
    "ax.set_ylabel('Частота',fontsize=15)\n",
    "ax.tick_params(labelsize=15);"
   ]
  },
  {
   "cell_type": "markdown",
   "metadata": {},
   "source": [
    "**Вывод:** Изначальная длина датасета 354369 строк. Пропуски были только в категориальных переменных, заполнили их значением \"unknown\". Заменили CamelCase в наименованиях столбцов на snake_case. Удалили неинформативный столбец с колияеством фото, так как он весь состоял из нулевых значений. Перед обучением убрали из датасета такие аномалии и выбросы, как нулевая цена, дата регистрации авто до 1986 и после 2016гг, мощность двигателя меньше 40 и свыше 310 л.с. После удаления аномалий и выбросов длина датасета сократилась до 289620 строк. Добавили новый столбец с возрастом авто, который заменит собой столбцы с годом и месяцем регистрации при обучении модели. Приняли решение об удалении столбца с почтовыми индексами при обучении, так как нет возможности увязать его с конкретными локациями - большая часть самых ходовых индексов не существует в РФ, а если относится к другой стране, то нет возможности идентифицировать, к какоц именно. Также при обучении будем удалять столбцы с датами: получения данных (не связано с объявлением), создания объявления (заменено на возраст авто), последнего дня объявления (можно бы было также изучить зависимость длительности экспозиции объявления от цены, однако нет гарантий, что объявление в 100% случаев убирали с площадки сразу после продажи, да и задача в проекте стоит другая)."
   ]
  },
  {
   "cell_type": "markdown",
   "metadata": {},
   "source": [
    "## Обучение моделей"
   ]
  },
  {
   "cell_type": "code",
   "execution_count": 59,
   "metadata": {},
   "outputs": [
    {
     "name": "stdout",
     "output_type": "stream",
     "text": [
      "<class 'pandas.core.frame.DataFrame'>\n",
      "Int64Index: 289620 entries, 1 to 354368\n",
      "Data columns (total 10 columns):\n",
      " #   Column        Non-Null Count   Dtype \n",
      "---  ------        --------------   ----- \n",
      " 0   price         289620 non-null  int64 \n",
      " 1   vehicle_type  289620 non-null  object\n",
      " 2   gearbox       289620 non-null  object\n",
      " 3   power         289620 non-null  int64 \n",
      " 4   model         289620 non-null  object\n",
      " 5   kilometer     289620 non-null  int64 \n",
      " 6   fuel_type     289620 non-null  object\n",
      " 7   brand         289620 non-null  object\n",
      " 8   repaired      289620 non-null  object\n",
      " 9   age           289620 non-null  int64 \n",
      "dtypes: int64(4), object(6)\n",
      "memory usage: 24.3+ MB\n"
     ]
    }
   ],
   "source": [
    "df = df.drop(['date_crawled', 'registration_year', 'registration_month', 'date_created', 'postal_code', 'last_seen'] \\\n",
    "             , axis=1).copy()\n",
    "df.info()"
   ]
  },
  {
   "cell_type": "markdown",
   "metadata": {},
   "source": [
    "**Промежуточный вывод:** Удалили 6 неинформативных или продублированных столбцов перед обучением."
   ]
  },
  {
   "cell_type": "code",
   "execution_count": 60,
   "metadata": {},
   "outputs": [],
   "source": [
    "RS = 12345\n",
    "cat_features = ['vehicle_type', 'gearbox', 'model', 'fuel_type', 'brand', 'repaired']\n",
    "#num_features = ['power', 'kilometer', 'age']"
   ]
  },
  {
   "cell_type": "markdown",
   "metadata": {},
   "source": [
    "### CatBoostRegressor"
   ]
  },
  {
   "cell_type": "code",
   "execution_count": 61,
   "metadata": {},
   "outputs": [],
   "source": [
    "features_cbr = df.drop(['price'], axis=1)\n",
    "target_cbr = df['price']"
   ]
  },
  {
   "cell_type": "code",
   "execution_count": 62,
   "metadata": {},
   "outputs": [],
   "source": [
    "# у нас ситуация, когда есть исходные данные и нужно их поделить на 3 выборки: делим в соотношении 3:1:1 (60%, 20%, 20%). \n",
    "# Метод train_test_split не дает возможности сразу разделить данные на 3 части, поэтому применяем его 2 раза последовательно:\n",
    "features_train_valid_cbr, features_test_cbr, target_train_valid_cbr, target_test_cbr = train_test_split(\n",
    "    features_cbr, target_cbr, test_size=0.2, random_state=RS) # отделяем 20% данных для тестовой выборки\n",
    "features_train_cbr, features_valid_cbr, target_train_cbr, target_valid_cbr = train_test_split(\n",
    "    features_train_valid_cbr, target_train_valid_cbr, test_size=0.25, random_state=RS) # отделяем 20% (25% от оставшихся) \n",
    "                                                                                  # данных для валидационной выборки"
   ]
  },
  {
   "cell_type": "code",
   "execution_count": 63,
   "metadata": {},
   "outputs": [
    {
     "name": "stdout",
     "output_type": "stream",
     "text": [
      "0:\tlearn: 4220.6033224\ttotal: 90.4ms\tremaining: 814ms\n",
      "9:\tlearn: 3099.2801678\ttotal: 262ms\tremaining: 0us\n",
      "0:\tlearn: 3820.9847909\ttotal: 39.7ms\tremaining: 357ms\n",
      "9:\tlearn: 2605.8693058\ttotal: 243ms\tremaining: 0us\n",
      "0:\tlearn: 3587.4014202\ttotal: 26.1ms\tremaining: 234ms\n",
      "9:\tlearn: 2565.0849044\ttotal: 201ms\tremaining: 0us\n",
      "0:\tlearn: 4050.7808096\ttotal: 36.6ms\tremaining: 330ms\n",
      "9:\tlearn: 2410.6936214\ttotal: 302ms\tremaining: 0us\n",
      "0:\tlearn: 3416.6041210\ttotal: 51.4ms\tremaining: 463ms\n",
      "9:\tlearn: 2036.7055072\ttotal: 368ms\tremaining: 0us\n",
      "0:\tlearn: 3020.3553495\ttotal: 39.1ms\tremaining: 352ms\n",
      "9:\tlearn: 2034.1949314\ttotal: 304ms\tremaining: 0us\n",
      "0:\tlearn: 3987.5083109\ttotal: 46.5ms\tremaining: 418ms\n",
      "9:\tlearn: 2138.4285279\ttotal: 402ms\tremaining: 0us\n",
      "0:\tlearn: 3257.7425541\ttotal: 47.6ms\tremaining: 428ms\n",
      "9:\tlearn: 1883.2014864\ttotal: 408ms\tremaining: 0us\n",
      "0:\tlearn: 2786.3965996\ttotal: 44.7ms\tremaining: 402ms\n",
      "9:\tlearn: 1891.0017928\ttotal: 400ms\tremaining: 0us\n",
      "0:\tlearn: 4220.6033224\ttotal: 25.2ms\tremaining: 730ms\n",
      "10:\tlearn: 3050.1465642\ttotal: 186ms\tremaining: 322ms\n",
      "20:\tlearn: 2690.5354310\ttotal: 350ms\tremaining: 150ms\n",
      "29:\tlearn: 2470.8086253\ttotal: 494ms\tremaining: 0us\n",
      "0:\tlearn: 3820.9847909\ttotal: 24.1ms\tremaining: 697ms\n",
      "10:\tlearn: 2546.2348157\ttotal: 189ms\tremaining: 326ms\n",
      "20:\tlearn: 2312.6830163\ttotal: 350ms\tremaining: 150ms\n",
      "29:\tlearn: 2249.3390114\ttotal: 487ms\tremaining: 0us\n",
      "0:\tlearn: 3587.4014202\ttotal: 23.4ms\tremaining: 679ms\n",
      "10:\tlearn: 2538.2619344\ttotal: 192ms\tremaining: 332ms\n",
      "20:\tlearn: 2341.9290860\ttotal: 353ms\tremaining: 151ms\n",
      "29:\tlearn: 2274.1405167\ttotal: 480ms\tremaining: 0us\n",
      "0:\tlearn: 4050.7808096\ttotal: 34.5ms\tremaining: 999ms\n",
      "10:\tlearn: 2346.0999677\ttotal: 317ms\tremaining: 547ms\n",
      "20:\tlearn: 2018.1224411\ttotal: 572ms\tremaining: 245ms\n",
      "29:\tlearn: 1930.7026867\ttotal: 791ms\tremaining: 0us\n",
      "0:\tlearn: 3416.6041210\ttotal: 34.2ms\tremaining: 992ms\n",
      "10:\tlearn: 2010.4815091\ttotal: 327ms\tremaining: 564ms\n",
      "20:\tlearn: 1905.4225141\ttotal: 616ms\tremaining: 264ms\n",
      "29:\tlearn: 1847.1603199\ttotal: 879ms\tremaining: 0us\n",
      "0:\tlearn: 3020.3553495\ttotal: 36ms\tremaining: 1.04s\n",
      "10:\tlearn: 2015.4961309\ttotal: 353ms\tremaining: 610ms\n",
      "20:\tlearn: 1884.7431599\ttotal: 626ms\tremaining: 268ms\n",
      "29:\tlearn: 1829.9965209\ttotal: 864ms\tremaining: 0us\n",
      "0:\tlearn: 3987.5083109\ttotal: 44.7ms\tremaining: 1.3s\n",
      "10:\tlearn: 2082.1773860\ttotal: 440ms\tremaining: 759ms\n",
      "20:\tlearn: 1857.6037560\ttotal: 904ms\tremaining: 387ms\n",
      "29:\tlearn: 1803.4013179\ttotal: 1.33s\tremaining: 0us\n",
      "0:\tlearn: 3257.7425541\ttotal: 64.8ms\tremaining: 1.88s\n",
      "10:\tlearn: 1867.7637426\ttotal: 603ms\tremaining: 1.04s\n",
      "20:\tlearn: 1777.1514615\ttotal: 1.09s\tremaining: 469ms\n",
      "29:\tlearn: 1729.2250469\ttotal: 1.56s\tremaining: 0us\n",
      "0:\tlearn: 2786.3965996\ttotal: 60.3ms\tremaining: 1.75s\n",
      "10:\tlearn: 1870.0101207\ttotal: 589ms\tremaining: 1.02s\n",
      "20:\tlearn: 1769.1425931\ttotal: 1.14s\tremaining: 487ms\n",
      "29:\tlearn: 1716.3250282\ttotal: 1.68s\tremaining: 0us\n",
      "0:\tlearn: 4220.6033224\ttotal: 23.8ms\tremaining: 1.17s\n",
      "10:\tlearn: 3050.1465642\ttotal: 186ms\tremaining: 658ms\n",
      "20:\tlearn: 2690.5354310\ttotal: 369ms\tremaining: 510ms\n",
      "30:\tlearn: 2456.9652070\ttotal: 545ms\tremaining: 334ms\n",
      "40:\tlearn: 2339.9018259\ttotal: 718ms\tremaining: 158ms\n",
      "49:\tlearn: 2272.2241772\ttotal: 865ms\tremaining: 0us\n",
      "0:\tlearn: 3820.9847909\ttotal: 23.6ms\tremaining: 1.16s\n",
      "10:\tlearn: 2546.2348157\ttotal: 189ms\tremaining: 671ms\n",
      "20:\tlearn: 2312.6830163\ttotal: 384ms\tremaining: 530ms\n",
      "30:\tlearn: 2244.4606998\ttotal: 552ms\tremaining: 338ms\n",
      "40:\tlearn: 2208.6567926\ttotal: 711ms\tremaining: 156ms\n",
      "49:\tlearn: 2187.7283608\ttotal: 856ms\tremaining: 0us\n",
      "0:\tlearn: 3587.4014202\ttotal: 23.8ms\tremaining: 1.17s\n",
      "10:\tlearn: 2538.2619344\ttotal: 200ms\tremaining: 710ms\n",
      "20:\tlearn: 2341.9290860\ttotal: 389ms\tremaining: 537ms\n",
      "30:\tlearn: 2266.2350737\ttotal: 565ms\tremaining: 346ms\n",
      "40:\tlearn: 2214.2988253\ttotal: 736ms\tremaining: 162ms\n",
      "49:\tlearn: 2189.7075431\ttotal: 884ms\tremaining: 0us\n",
      "0:\tlearn: 4050.7808096\ttotal: 35.7ms\tremaining: 1.75s\n",
      "10:\tlearn: 2346.0999677\ttotal: 345ms\tremaining: 1.22s\n",
      "20:\tlearn: 2018.1224411\ttotal: 632ms\tremaining: 873ms\n",
      "30:\tlearn: 1926.8483876\ttotal: 938ms\tremaining: 575ms\n",
      "40:\tlearn: 1884.6701306\ttotal: 1.2s\tremaining: 263ms\n",
      "49:\tlearn: 1850.8202863\ttotal: 1.46s\tremaining: 0us\n",
      "0:\tlearn: 3416.6041210\ttotal: 36.8ms\tremaining: 1.8s\n",
      "10:\tlearn: 2010.4815091\ttotal: 334ms\tremaining: 1.19s\n",
      "20:\tlearn: 1905.4225141\ttotal: 613ms\tremaining: 846ms\n",
      "30:\tlearn: 1842.4514369\ttotal: 905ms\tremaining: 555ms\n",
      "40:\tlearn: 1795.9940478\ttotal: 1.18s\tremaining: 260ms\n",
      "49:\tlearn: 1773.3959056\ttotal: 1.44s\tremaining: 0us\n",
      "0:\tlearn: 3020.3553495\ttotal: 51.4ms\tremaining: 2.52s\n",
      "10:\tlearn: 2015.4961309\ttotal: 461ms\tremaining: 1.63s\n",
      "20:\tlearn: 1884.7431599\ttotal: 883ms\tremaining: 1.22s\n",
      "30:\tlearn: 1826.2701827\ttotal: 1.28s\tremaining: 783ms\n",
      "40:\tlearn: 1783.6054801\ttotal: 1.66s\tremaining: 363ms\n",
      "49:\tlearn: 1750.3585857\ttotal: 2.06s\tremaining: 0us\n",
      "0:\tlearn: 3987.5083109\ttotal: 69.2ms\tremaining: 3.39s\n",
      "10:\tlearn: 2082.1773860\ttotal: 605ms\tremaining: 2.14s\n",
      "20:\tlearn: 1857.6037560\ttotal: 1.18s\tremaining: 1.63s\n",
      "30:\tlearn: 1799.1678941\ttotal: 1.73s\tremaining: 1.06s\n",
      "40:\tlearn: 1756.8561995\ttotal: 2.13s\tremaining: 468ms\n",
      "49:\tlearn: 1736.9347708\ttotal: 2.48s\tremaining: 0us\n",
      "0:\tlearn: 3257.7425541\ttotal: 51.2ms\tremaining: 2.51s\n",
      "10:\tlearn: 1867.7637426\ttotal: 527ms\tremaining: 1.87s\n",
      "20:\tlearn: 1777.1514615\ttotal: 976ms\tremaining: 1.35s\n",
      "30:\tlearn: 1725.2072202\ttotal: 1.44s\tremaining: 880ms\n",
      "40:\tlearn: 1690.3698797\ttotal: 1.88s\tremaining: 412ms\n",
      "49:\tlearn: 1663.3987064\ttotal: 2.22s\tremaining: 0us\n",
      "0:\tlearn: 2786.3965996\ttotal: 45.5ms\tremaining: 2.23s\n",
      "10:\tlearn: 1870.0101207\ttotal: 438ms\tremaining: 1.55s\n",
      "20:\tlearn: 1769.1425931\ttotal: 864ms\tremaining: 1.19s\n",
      "30:\tlearn: 1707.9234076\ttotal: 1.37s\tremaining: 839ms\n",
      "40:\tlearn: 1676.8672971\ttotal: 1.79s\tremaining: 392ms\n",
      "49:\tlearn: 1659.8835806\ttotal: 2.14s\tremaining: 0us\n"
     ]
    }
   ],
   "source": [
    "best_cbr_model = None\n",
    "best_cbr_rmse = 10000\n",
    "best_cbr_it = 0\n",
    "best_cbr_depth = 0\n",
    "best_cbr_lr = 0\n",
    "for it in range(10, 51, 20):\n",
    "    for depth in range(1, 6, 2):\n",
    "        for lr in np.arange(0.2, 0.9, 0.3):\n",
    "            model_cbr = CatBoostRegressor(loss_function='RMSE', iterations=it, learning_rate=lr, depth=depth, \\\n",
    "                                          random_seed=RS, verbose=10)\n",
    "            model_cbr.fit(features_train_cbr, target_train_cbr, cat_features=cat_features) # обучаем модель на тренировочной выборке\n",
    "            pred_valid_cbr = model_cbr.predict(features_valid_cbr) \n",
    "            rmse_cbr = mean_squared_error(target_valid_cbr, pred_valid_cbr, squared=False) # считаем качество модели на валидационной выборке\n",
    "            if rmse_cbr < best_cbr_rmse:\n",
    "                best_cbr_model = model_cbr # сохраняем наилучшую модель\n",
    "                best_cbr_rmse = rmse_cbr #  сохраняем наилучшее значение метрики rmse на валидационных данных\n",
    "                best_cbr_it = it #  сохраняем наилучшее значение гиперпараметра iterations на валидационных данных\n",
    "                best_cbr_depth = depth #  сохраняем наилучшее значение гиперпараметра depth на валидационных данных\n",
    "                best_cbr_lr = lr #  сохраняем наилучшее значение гиперпараметра learning_rate на валидационных данных"
   ]
  },
  {
   "cell_type": "code",
   "execution_count": 64,
   "metadata": {},
   "outputs": [
    {
     "name": "stdout",
     "output_type": "stream",
     "text": [
      "Качество лучшей модели CatBoost: 1653.718210737326 количество итераций: 50 максимальная глубина: 5 ставка обучения: 0.5\n"
     ]
    }
   ],
   "source": [
    "print('Качество лучшей модели CatBoost:', best_cbr_rmse, 'количество итераций:', best_cbr_it,\\\n",
    "'максимальная глубина:', best_cbr_depth, 'ставка обучения:', best_cbr_lr)"
   ]
  },
  {
   "cell_type": "code",
   "execution_count": 65,
   "metadata": {},
   "outputs": [
    {
     "name": "stdout",
     "output_type": "stream",
     "text": [
      "0:\tlearn: 3257.7425541\ttotal: 47.1ms\tremaining: 2.31s\n",
      "10:\tlearn: 1867.7637426\ttotal: 439ms\tremaining: 1.56s\n",
      "20:\tlearn: 1777.1514615\ttotal: 844ms\tremaining: 1.17s\n",
      "30:\tlearn: 1725.2072202\ttotal: 1.27s\tremaining: 779ms\n",
      "40:\tlearn: 1690.3698797\ttotal: 1.67s\tremaining: 367ms\n",
      "49:\tlearn: 1663.3987064\ttotal: 2.02s\tremaining: 0us\n",
      "CPU times: user 5.89 s, sys: 169 ms, total: 6.06 s\n",
      "Wall time: 2.33 s\n"
     ]
    },
    {
     "data": {
      "text/plain": [
       "<catboost.core.CatBoostRegressor at 0x1259a4ee0>"
      ]
     },
     "execution_count": 65,
     "metadata": {},
     "output_type": "execute_result"
    }
   ],
   "source": [
    "%%time\n",
    "\n",
    "best_cbr_model.fit(features_train_cbr, target_train_cbr, cat_features=cat_features)"
   ]
  },
  {
   "cell_type": "code",
   "execution_count": 66,
   "metadata": {},
   "outputs": [
    {
     "name": "stdout",
     "output_type": "stream",
     "text": [
      "CPU times: user 139 ms, sys: 4.43 ms, total: 143 ms\n",
      "Wall time: 144 ms\n"
     ]
    }
   ],
   "source": [
    "%%time\n",
    "\n",
    "best_pred_valid_cbr = best_cbr_model.predict(features_valid_cbr) "
   ]
  },
  {
   "cell_type": "markdown",
   "metadata": {},
   "source": [
    "### LightGBMRegressor"
   ]
  },
  {
   "cell_type": "code",
   "execution_count": 67,
   "metadata": {},
   "outputs": [],
   "source": [
    "df_lgbmr = df.copy()"
   ]
  },
  {
   "cell_type": "code",
   "execution_count": 68,
   "metadata": {},
   "outputs": [],
   "source": [
    "df_lgbmr[cat_features] = df_lgbmr[cat_features].astype('category')"
   ]
  },
  {
   "cell_type": "code",
   "execution_count": 69,
   "metadata": {},
   "outputs": [],
   "source": [
    "features_lgbmr = df_lgbmr.drop(['price'], axis=1)\n",
    "target_lgbmr = df_lgbmr['price']"
   ]
  },
  {
   "cell_type": "code",
   "execution_count": 70,
   "metadata": {},
   "outputs": [],
   "source": [
    "# у нас ситуация, когда есть исходные данные и нужно их поделить на 3 выборки: делим в соотношении 3:1:1 (60%, 20%, 20%). \n",
    "# Метод train_test_split не дает возможности сразу разделить данные на 3 части, поэтому применяем его 2 раза последовательно:\n",
    "features_train_valid_lgbmr, features_test_lgbmr, target_train_valid_lgbmr, target_test_lgbmr = train_test_split(\n",
    "    features_lgbmr, target_lgbmr, test_size=0.2, random_state=RS) # отделяем 20% данных для тестовой выборки\n",
    "features_train_lgbmr, features_valid_lgbmr, target_train_lgbmr, target_valid_lgbmr = train_test_split(\n",
    "    features_train_valid_lgbmr, target_train_valid_lgbmr, test_size=0.25, random_state=RS) # отделяем 20% (25% от оставшихся) \n",
    "                                                                                  # данных для валидационной выборки"
   ]
  },
  {
   "cell_type": "code",
   "execution_count": 71,
   "metadata": {
    "scrolled": true
   },
   "outputs": [
    {
     "name": "stdout",
     "output_type": "stream",
     "text": [
      "[LightGBM] [Warning] Accuracy may be bad since you didn't explicitly set num_leaves OR 2^max_depth > num_leaves. (num_leaves=31).\n",
      "[LightGBM] [Warning] Accuracy may be bad since you didn't explicitly set num_leaves OR 2^max_depth > num_leaves. (num_leaves=31).\n",
      "[LightGBM] [Warning] Accuracy may be bad since you didn't explicitly set num_leaves OR 2^max_depth > num_leaves. (num_leaves=31).\n",
      "[LightGBM] [Warning] Accuracy may be bad since you didn't explicitly set num_leaves OR 2^max_depth > num_leaves. (num_leaves=31).\n",
      "[LightGBM] [Warning] Accuracy may be bad since you didn't explicitly set num_leaves OR 2^max_depth > num_leaves. (num_leaves=31).\n",
      "[LightGBM] [Warning] Accuracy may be bad since you didn't explicitly set num_leaves OR 2^max_depth > num_leaves. (num_leaves=31).\n",
      "[LightGBM] [Warning] Accuracy may be bad since you didn't explicitly set num_leaves OR 2^max_depth > num_leaves. (num_leaves=31).\n",
      "[LightGBM] [Warning] Accuracy may be bad since you didn't explicitly set num_leaves OR 2^max_depth > num_leaves. (num_leaves=31).\n"
     ]
    }
   ],
   "source": [
    "best_lgbmr_model = None\n",
    "best_lgbmr_rmse = 10000\n",
    "best_lgbmr_est = 0\n",
    "best_lgbmr_depth = 0\n",
    "best_lgbmr_lr = 0\n",
    "for est in range(50, 101, 50):\n",
    "    for depth in range(-1, 102, 51):\n",
    "        for lr in np.arange(0.1, 0.9, 0.4):\n",
    "            model_lgbmr = lgb.LGBMRegressor(max_depth=depth, learning_rate=lr, n_estimators=est, random_state=RS, \\\n",
    "                                            n_jobs=- 1)\n",
    "            model_lgbmr.fit(features_train_lgbmr, target_train_lgbmr) # обучаем модель на тренировочной выборке\n",
    "            pred_valid_lgbmr = model_lgbmr.predict(features_valid_lgbmr) \n",
    "            rmse_lgbmr = mean_squared_error(target_valid_lgbmr, pred_valid_lgbmr, squared=False) # считаем качество модели на валидационной выборке\n",
    "            if rmse_lgbmr < best_lgbmr_rmse:\n",
    "                best_lgbmr_model = model_lgbmr # сохраняем наилучшую модель\n",
    "                best_lgbmr_rmse = rmse_lgbmr #  сохраняем наилучшее значение метрики rmse на валидационных данных\n",
    "                best_lgbmr_est = est #  сохраняем наилучшее значение гиперпараметра n_estimators на валидационных данных\n",
    "                best_lgbmr_depth = depth #  сохраняем наилучшее значение гиперпараметра max_depth на валидационных данных\n",
    "                best_lgbmr_lr = lr #  сохраняем наилучшее значение гиперпараметра learning_rate на валидационных данных"
   ]
  },
  {
   "cell_type": "code",
   "execution_count": 72,
   "metadata": {},
   "outputs": [
    {
     "name": "stdout",
     "output_type": "stream",
     "text": [
      "Качество лучшей модели LightGBM: 1509.011837649039 количество итераций: 100 максимальная глубина: -1 ставка обучения: 0.5\n"
     ]
    }
   ],
   "source": [
    "print('Качество лучшей модели LightGBM:', best_lgbmr_rmse, 'количество итераций:', best_lgbmr_est, \\\n",
    "'максимальная глубина:', best_lgbmr_depth, 'ставка обучения:', best_lgbmr_lr)"
   ]
  },
  {
   "cell_type": "code",
   "execution_count": 107,
   "metadata": {},
   "outputs": [
    {
     "name": "stdout",
     "output_type": "stream",
     "text": [
      "CPU times: user 2.67 s, sys: 73.8 ms, total: 2.74 s\n",
      "Wall time: 776 ms\n"
     ]
    },
    {
     "data": {
      "text/html": [
       "<style>#sk-container-id-5 {color: black;background-color: white;}#sk-container-id-5 pre{padding: 0;}#sk-container-id-5 div.sk-toggleable {background-color: white;}#sk-container-id-5 label.sk-toggleable__label {cursor: pointer;display: block;width: 100%;margin-bottom: 0;padding: 0.3em;box-sizing: border-box;text-align: center;}#sk-container-id-5 label.sk-toggleable__label-arrow:before {content: \"▸\";float: left;margin-right: 0.25em;color: #696969;}#sk-container-id-5 label.sk-toggleable__label-arrow:hover:before {color: black;}#sk-container-id-5 div.sk-estimator:hover label.sk-toggleable__label-arrow:before {color: black;}#sk-container-id-5 div.sk-toggleable__content {max-height: 0;max-width: 0;overflow: hidden;text-align: left;background-color: #f0f8ff;}#sk-container-id-5 div.sk-toggleable__content pre {margin: 0.2em;color: black;border-radius: 0.25em;background-color: #f0f8ff;}#sk-container-id-5 input.sk-toggleable__control:checked~div.sk-toggleable__content {max-height: 200px;max-width: 100%;overflow: auto;}#sk-container-id-5 input.sk-toggleable__control:checked~label.sk-toggleable__label-arrow:before {content: \"▾\";}#sk-container-id-5 div.sk-estimator input.sk-toggleable__control:checked~label.sk-toggleable__label {background-color: #d4ebff;}#sk-container-id-5 div.sk-label input.sk-toggleable__control:checked~label.sk-toggleable__label {background-color: #d4ebff;}#sk-container-id-5 input.sk-hidden--visually {border: 0;clip: rect(1px 1px 1px 1px);clip: rect(1px, 1px, 1px, 1px);height: 1px;margin: -1px;overflow: hidden;padding: 0;position: absolute;width: 1px;}#sk-container-id-5 div.sk-estimator {font-family: monospace;background-color: #f0f8ff;border: 1px dotted black;border-radius: 0.25em;box-sizing: border-box;margin-bottom: 0.5em;}#sk-container-id-5 div.sk-estimator:hover {background-color: #d4ebff;}#sk-container-id-5 div.sk-parallel-item::after {content: \"\";width: 100%;border-bottom: 1px solid gray;flex-grow: 1;}#sk-container-id-5 div.sk-label:hover label.sk-toggleable__label {background-color: #d4ebff;}#sk-container-id-5 div.sk-serial::before {content: \"\";position: absolute;border-left: 1px solid gray;box-sizing: border-box;top: 0;bottom: 0;left: 50%;z-index: 0;}#sk-container-id-5 div.sk-serial {display: flex;flex-direction: column;align-items: center;background-color: white;padding-right: 0.2em;padding-left: 0.2em;position: relative;}#sk-container-id-5 div.sk-item {position: relative;z-index: 1;}#sk-container-id-5 div.sk-parallel {display: flex;align-items: stretch;justify-content: center;background-color: white;position: relative;}#sk-container-id-5 div.sk-item::before, #sk-container-id-5 div.sk-parallel-item::before {content: \"\";position: absolute;border-left: 1px solid gray;box-sizing: border-box;top: 0;bottom: 0;left: 50%;z-index: -1;}#sk-container-id-5 div.sk-parallel-item {display: flex;flex-direction: column;z-index: 1;position: relative;background-color: white;}#sk-container-id-5 div.sk-parallel-item:first-child::after {align-self: flex-end;width: 50%;}#sk-container-id-5 div.sk-parallel-item:last-child::after {align-self: flex-start;width: 50%;}#sk-container-id-5 div.sk-parallel-item:only-child::after {width: 0;}#sk-container-id-5 div.sk-dashed-wrapped {border: 1px dashed gray;margin: 0 0.4em 0.5em 0.4em;box-sizing: border-box;padding-bottom: 0.4em;background-color: white;}#sk-container-id-5 div.sk-label label {font-family: monospace;font-weight: bold;display: inline-block;line-height: 1.2em;}#sk-container-id-5 div.sk-label-container {text-align: center;}#sk-container-id-5 div.sk-container {/* jupyter's `normalize.less` sets `[hidden] { display: none; }` but bootstrap.min.css set `[hidden] { display: none !important; }` so we also need the `!important` here to be able to override the default hidden behavior on the sphinx rendered scikit-learn.org. See: https://github.com/scikit-learn/scikit-learn/issues/21755 */display: inline-block !important;position: relative;}#sk-container-id-5 div.sk-text-repr-fallback {display: none;}</style><div id=\"sk-container-id-5\" class=\"sk-top-container\"><div class=\"sk-text-repr-fallback\"><pre>LGBMRegressor(learning_rate=0.5, random_state=12345)</pre><b>In a Jupyter environment, please rerun this cell to show the HTML representation or trust the notebook. <br />On GitHub, the HTML representation is unable to render, please try loading this page with nbviewer.org.</b></div><div class=\"sk-container\" hidden><div class=\"sk-item\"><div class=\"sk-estimator sk-toggleable\"><input class=\"sk-toggleable__control sk-hidden--visually\" id=\"sk-estimator-id-5\" type=\"checkbox\" checked><label for=\"sk-estimator-id-5\" class=\"sk-toggleable__label sk-toggleable__label-arrow\">LGBMRegressor</label><div class=\"sk-toggleable__content\"><pre>LGBMRegressor(learning_rate=0.5, random_state=12345)</pre></div></div></div></div></div>"
      ],
      "text/plain": [
       "LGBMRegressor(learning_rate=0.5, random_state=12345)"
      ]
     },
     "execution_count": 107,
     "metadata": {},
     "output_type": "execute_result"
    }
   ],
   "source": [
    "%%time\n",
    "\n",
    "best_lgbmr_model.fit(features_train_lgbmr, target_train_lgbmr)"
   ]
  },
  {
   "cell_type": "code",
   "execution_count": 112,
   "metadata": {},
   "outputs": [
    {
     "name": "stdout",
     "output_type": "stream",
     "text": [
      "CPU times: user 482 ms, sys: 6.99 ms, total: 489 ms\n",
      "Wall time: 185 ms\n"
     ]
    }
   ],
   "source": [
    "%%time\n",
    "\n",
    "best_pred_valid_lgbmr = best_lgbmr_model.predict(features_valid_lgbmr)"
   ]
  },
  {
   "cell_type": "markdown",
   "metadata": {},
   "source": [
    "### Линейная модель"
   ]
  },
  {
   "cell_type": "code",
   "execution_count": 81,
   "metadata": {},
   "outputs": [],
   "source": [
    "# преобразуем категориальные данные с помощью прямого кодирования\n",
    "#df_ohe = pd.get_dummies(df, columns = cat_features, drop_first=True) \n",
    "features_en = df.drop(['price'], axis=1)\n",
    "target_en = df['price']"
   ]
  },
  {
   "cell_type": "code",
   "execution_count": 82,
   "metadata": {},
   "outputs": [],
   "source": [
    "#Масштабирование приводило к ужасному качеству модели, пришлось от него отказаться\n",
    "\n",
    "#num_features = ['power', 'kilometer', 'age']\n",
    "\n",
    "#scaler = StandardScaler()\n",
    "#scaler.fit(features_train[num_features]) # масштабируем числовые данные для лучшей работы линейной модели\n",
    "#features_train[num_features] = scaler.transform(features_train[num_features])\n",
    "#features_test[num_features] = scaler.transform(features_test[num_features])"
   ]
  },
  {
   "cell_type": "code",
   "execution_count": 83,
   "metadata": {},
   "outputs": [],
   "source": [
    "# у нас ситуация, когда есть исходные данные и нужно их поделить на 3 выборки: делим в соотношении 3:1:1 (60%, 20%, 20%). \n",
    "# Метод train_test_split не дает возможности сразу разделить данные на 3 части, поэтому применяем его 2 раза последовательно:\n",
    "features_train_valid_en, features_test_en, target_train_valid_en, target_test_en = train_test_split(\n",
    "    features_en, target_en, test_size=0.2, random_state=RS) # отделяем 20% данных для тестовой выборки\n",
    "features_train_en, features_valid_en, target_train_en, target_valid_en = train_test_split(\n",
    "    features_train_valid_en, target_train_valid_en, test_size=0.25, random_state=RS) # отделяем 20% (25% от оставшихся) \n",
    "                                                                                  # данных для валидационной выборки"
   ]
  },
  {
   "cell_type": "code",
   "execution_count": 84,
   "metadata": {},
   "outputs": [
    {
     "name": "stderr",
     "output_type": "stream",
     "text": [
      "/var/folders/8y/6qgr48pn4js29rkc2ts9hck80000gn/T/ipykernel_13926/1676008170.py:12: PerformanceWarning: DataFrame is highly fragmented.  This is usually the result of calling `frame.insert` many times, which has poor performance.  Consider joining all columns at once using pd.concat(axis=1) instead. To get a de-fragmented frame, use `newframe = frame.copy()`\n",
      "  features_train_en[\n",
      "/var/folders/8y/6qgr48pn4js29rkc2ts9hck80000gn/T/ipykernel_13926/1676008170.py:12: PerformanceWarning: DataFrame is highly fragmented.  This is usually the result of calling `frame.insert` many times, which has poor performance.  Consider joining all columns at once using pd.concat(axis=1) instead. To get a de-fragmented frame, use `newframe = frame.copy()`\n",
      "  features_train_en[\n",
      "/var/folders/8y/6qgr48pn4js29rkc2ts9hck80000gn/T/ipykernel_13926/1676008170.py:12: PerformanceWarning: DataFrame is highly fragmented.  This is usually the result of calling `frame.insert` many times, which has poor performance.  Consider joining all columns at once using pd.concat(axis=1) instead. To get a de-fragmented frame, use `newframe = frame.copy()`\n",
      "  features_train_en[\n",
      "/var/folders/8y/6qgr48pn4js29rkc2ts9hck80000gn/T/ipykernel_13926/1676008170.py:12: PerformanceWarning: DataFrame is highly fragmented.  This is usually the result of calling `frame.insert` many times, which has poor performance.  Consider joining all columns at once using pd.concat(axis=1) instead. To get a de-fragmented frame, use `newframe = frame.copy()`\n",
      "  features_train_en[\n",
      "/var/folders/8y/6qgr48pn4js29rkc2ts9hck80000gn/T/ipykernel_13926/1676008170.py:12: PerformanceWarning: DataFrame is highly fragmented.  This is usually the result of calling `frame.insert` many times, which has poor performance.  Consider joining all columns at once using pd.concat(axis=1) instead. To get a de-fragmented frame, use `newframe = frame.copy()`\n",
      "  features_train_en[\n",
      "/var/folders/8y/6qgr48pn4js29rkc2ts9hck80000gn/T/ipykernel_13926/1676008170.py:12: PerformanceWarning: DataFrame is highly fragmented.  This is usually the result of calling `frame.insert` many times, which has poor performance.  Consider joining all columns at once using pd.concat(axis=1) instead. To get a de-fragmented frame, use `newframe = frame.copy()`\n",
      "  features_train_en[\n",
      "/var/folders/8y/6qgr48pn4js29rkc2ts9hck80000gn/T/ipykernel_13926/1676008170.py:12: PerformanceWarning: DataFrame is highly fragmented.  This is usually the result of calling `frame.insert` many times, which has poor performance.  Consider joining all columns at once using pd.concat(axis=1) instead. To get a de-fragmented frame, use `newframe = frame.copy()`\n",
      "  features_train_en[\n",
      "/var/folders/8y/6qgr48pn4js29rkc2ts9hck80000gn/T/ipykernel_13926/1676008170.py:12: PerformanceWarning: DataFrame is highly fragmented.  This is usually the result of calling `frame.insert` many times, which has poor performance.  Consider joining all columns at once using pd.concat(axis=1) instead. To get a de-fragmented frame, use `newframe = frame.copy()`\n",
      "  features_train_en[\n",
      "/var/folders/8y/6qgr48pn4js29rkc2ts9hck80000gn/T/ipykernel_13926/1676008170.py:12: PerformanceWarning: DataFrame is highly fragmented.  This is usually the result of calling `frame.insert` many times, which has poor performance.  Consider joining all columns at once using pd.concat(axis=1) instead. To get a de-fragmented frame, use `newframe = frame.copy()`\n",
      "  features_train_en[\n",
      "/var/folders/8y/6qgr48pn4js29rkc2ts9hck80000gn/T/ipykernel_13926/1676008170.py:12: PerformanceWarning: DataFrame is highly fragmented.  This is usually the result of calling `frame.insert` many times, which has poor performance.  Consider joining all columns at once using pd.concat(axis=1) instead. To get a de-fragmented frame, use `newframe = frame.copy()`\n",
      "  features_train_en[\n",
      "/var/folders/8y/6qgr48pn4js29rkc2ts9hck80000gn/T/ipykernel_13926/1676008170.py:12: PerformanceWarning: DataFrame is highly fragmented.  This is usually the result of calling `frame.insert` many times, which has poor performance.  Consider joining all columns at once using pd.concat(axis=1) instead. To get a de-fragmented frame, use `newframe = frame.copy()`\n",
      "  features_train_en[\n",
      "/var/folders/8y/6qgr48pn4js29rkc2ts9hck80000gn/T/ipykernel_13926/1676008170.py:12: PerformanceWarning: DataFrame is highly fragmented.  This is usually the result of calling `frame.insert` many times, which has poor performance.  Consider joining all columns at once using pd.concat(axis=1) instead. To get a de-fragmented frame, use `newframe = frame.copy()`\n",
      "  features_train_en[\n",
      "/var/folders/8y/6qgr48pn4js29rkc2ts9hck80000gn/T/ipykernel_13926/1676008170.py:12: PerformanceWarning: DataFrame is highly fragmented.  This is usually the result of calling `frame.insert` many times, which has poor performance.  Consider joining all columns at once using pd.concat(axis=1) instead. To get a de-fragmented frame, use `newframe = frame.copy()`\n",
      "  features_train_en[\n",
      "/var/folders/8y/6qgr48pn4js29rkc2ts9hck80000gn/T/ipykernel_13926/1676008170.py:12: PerformanceWarning: DataFrame is highly fragmented.  This is usually the result of calling `frame.insert` many times, which has poor performance.  Consider joining all columns at once using pd.concat(axis=1) instead. To get a de-fragmented frame, use `newframe = frame.copy()`\n",
      "  features_train_en[\n",
      "/var/folders/8y/6qgr48pn4js29rkc2ts9hck80000gn/T/ipykernel_13926/1676008170.py:12: PerformanceWarning: DataFrame is highly fragmented.  This is usually the result of calling `frame.insert` many times, which has poor performance.  Consider joining all columns at once using pd.concat(axis=1) instead. To get a de-fragmented frame, use `newframe = frame.copy()`\n",
      "  features_train_en[\n",
      "/var/folders/8y/6qgr48pn4js29rkc2ts9hck80000gn/T/ipykernel_13926/1676008170.py:12: PerformanceWarning: DataFrame is highly fragmented.  This is usually the result of calling `frame.insert` many times, which has poor performance.  Consider joining all columns at once using pd.concat(axis=1) instead. To get a de-fragmented frame, use `newframe = frame.copy()`\n",
      "  features_train_en[\n",
      "/var/folders/8y/6qgr48pn4js29rkc2ts9hck80000gn/T/ipykernel_13926/1676008170.py:12: PerformanceWarning: DataFrame is highly fragmented.  This is usually the result of calling `frame.insert` many times, which has poor performance.  Consider joining all columns at once using pd.concat(axis=1) instead. To get a de-fragmented frame, use `newframe = frame.copy()`\n",
      "  features_train_en[\n",
      "/var/folders/8y/6qgr48pn4js29rkc2ts9hck80000gn/T/ipykernel_13926/1676008170.py:12: PerformanceWarning: DataFrame is highly fragmented.  This is usually the result of calling `frame.insert` many times, which has poor performance.  Consider joining all columns at once using pd.concat(axis=1) instead. To get a de-fragmented frame, use `newframe = frame.copy()`\n",
      "  features_train_en[\n",
      "/var/folders/8y/6qgr48pn4js29rkc2ts9hck80000gn/T/ipykernel_13926/1676008170.py:12: PerformanceWarning: DataFrame is highly fragmented.  This is usually the result of calling `frame.insert` many times, which has poor performance.  Consider joining all columns at once using pd.concat(axis=1) instead. To get a de-fragmented frame, use `newframe = frame.copy()`\n",
      "  features_train_en[\n",
      "/var/folders/8y/6qgr48pn4js29rkc2ts9hck80000gn/T/ipykernel_13926/1676008170.py:12: PerformanceWarning: DataFrame is highly fragmented.  This is usually the result of calling `frame.insert` many times, which has poor performance.  Consider joining all columns at once using pd.concat(axis=1) instead. To get a de-fragmented frame, use `newframe = frame.copy()`\n",
      "  features_train_en[\n",
      "/var/folders/8y/6qgr48pn4js29rkc2ts9hck80000gn/T/ipykernel_13926/1676008170.py:12: PerformanceWarning: DataFrame is highly fragmented.  This is usually the result of calling `frame.insert` many times, which has poor performance.  Consider joining all columns at once using pd.concat(axis=1) instead. To get a de-fragmented frame, use `newframe = frame.copy()`\n",
      "  features_train_en[\n",
      "/var/folders/8y/6qgr48pn4js29rkc2ts9hck80000gn/T/ipykernel_13926/1676008170.py:12: PerformanceWarning: DataFrame is highly fragmented.  This is usually the result of calling `frame.insert` many times, which has poor performance.  Consider joining all columns at once using pd.concat(axis=1) instead. To get a de-fragmented frame, use `newframe = frame.copy()`\n",
      "  features_train_en[\n",
      "/var/folders/8y/6qgr48pn4js29rkc2ts9hck80000gn/T/ipykernel_13926/1676008170.py:12: PerformanceWarning: DataFrame is highly fragmented.  This is usually the result of calling `frame.insert` many times, which has poor performance.  Consider joining all columns at once using pd.concat(axis=1) instead. To get a de-fragmented frame, use `newframe = frame.copy()`\n",
      "  features_train_en[\n",
      "/var/folders/8y/6qgr48pn4js29rkc2ts9hck80000gn/T/ipykernel_13926/1676008170.py:12: PerformanceWarning: DataFrame is highly fragmented.  This is usually the result of calling `frame.insert` many times, which has poor performance.  Consider joining all columns at once using pd.concat(axis=1) instead. To get a de-fragmented frame, use `newframe = frame.copy()`\n",
      "  features_train_en[\n",
      "/var/folders/8y/6qgr48pn4js29rkc2ts9hck80000gn/T/ipykernel_13926/1676008170.py:12: PerformanceWarning: DataFrame is highly fragmented.  This is usually the result of calling `frame.insert` many times, which has poor performance.  Consider joining all columns at once using pd.concat(axis=1) instead. To get a de-fragmented frame, use `newframe = frame.copy()`\n",
      "  features_train_en[\n",
      "/var/folders/8y/6qgr48pn4js29rkc2ts9hck80000gn/T/ipykernel_13926/1676008170.py:12: PerformanceWarning: DataFrame is highly fragmented.  This is usually the result of calling `frame.insert` many times, which has poor performance.  Consider joining all columns at once using pd.concat(axis=1) instead. To get a de-fragmented frame, use `newframe = frame.copy()`\n",
      "  features_train_en[\n",
      "/var/folders/8y/6qgr48pn4js29rkc2ts9hck80000gn/T/ipykernel_13926/1676008170.py:12: PerformanceWarning: DataFrame is highly fragmented.  This is usually the result of calling `frame.insert` many times, which has poor performance.  Consider joining all columns at once using pd.concat(axis=1) instead. To get a de-fragmented frame, use `newframe = frame.copy()`\n",
      "  features_train_en[\n",
      "/var/folders/8y/6qgr48pn4js29rkc2ts9hck80000gn/T/ipykernel_13926/1676008170.py:12: PerformanceWarning: DataFrame is highly fragmented.  This is usually the result of calling `frame.insert` many times, which has poor performance.  Consider joining all columns at once using pd.concat(axis=1) instead. To get a de-fragmented frame, use `newframe = frame.copy()`\n",
      "  features_train_en[\n",
      "/var/folders/8y/6qgr48pn4js29rkc2ts9hck80000gn/T/ipykernel_13926/1676008170.py:12: PerformanceWarning: DataFrame is highly fragmented.  This is usually the result of calling `frame.insert` many times, which has poor performance.  Consider joining all columns at once using pd.concat(axis=1) instead. To get a de-fragmented frame, use `newframe = frame.copy()`\n",
      "  features_train_en[\n",
      "/var/folders/8y/6qgr48pn4js29rkc2ts9hck80000gn/T/ipykernel_13926/1676008170.py:12: PerformanceWarning: DataFrame is highly fragmented.  This is usually the result of calling `frame.insert` many times, which has poor performance.  Consider joining all columns at once using pd.concat(axis=1) instead. To get a de-fragmented frame, use `newframe = frame.copy()`\n",
      "  features_train_en[\n",
      "/var/folders/8y/6qgr48pn4js29rkc2ts9hck80000gn/T/ipykernel_13926/1676008170.py:12: PerformanceWarning: DataFrame is highly fragmented.  This is usually the result of calling `frame.insert` many times, which has poor performance.  Consider joining all columns at once using pd.concat(axis=1) instead. To get a de-fragmented frame, use `newframe = frame.copy()`\n",
      "  features_train_en[\n",
      "/var/folders/8y/6qgr48pn4js29rkc2ts9hck80000gn/T/ipykernel_13926/1676008170.py:12: PerformanceWarning: DataFrame is highly fragmented.  This is usually the result of calling `frame.insert` many times, which has poor performance.  Consider joining all columns at once using pd.concat(axis=1) instead. To get a de-fragmented frame, use `newframe = frame.copy()`\n",
      "  features_train_en[\n",
      "/var/folders/8y/6qgr48pn4js29rkc2ts9hck80000gn/T/ipykernel_13926/1676008170.py:12: PerformanceWarning: DataFrame is highly fragmented.  This is usually the result of calling `frame.insert` many times, which has poor performance.  Consider joining all columns at once using pd.concat(axis=1) instead. To get a de-fragmented frame, use `newframe = frame.copy()`\n",
      "  features_train_en[\n",
      "/var/folders/8y/6qgr48pn4js29rkc2ts9hck80000gn/T/ipykernel_13926/1676008170.py:12: PerformanceWarning: DataFrame is highly fragmented.  This is usually the result of calling `frame.insert` many times, which has poor performance.  Consider joining all columns at once using pd.concat(axis=1) instead. To get a de-fragmented frame, use `newframe = frame.copy()`\n",
      "  features_train_en[\n",
      "/var/folders/8y/6qgr48pn4js29rkc2ts9hck80000gn/T/ipykernel_13926/1676008170.py:12: PerformanceWarning: DataFrame is highly fragmented.  This is usually the result of calling `frame.insert` many times, which has poor performance.  Consider joining all columns at once using pd.concat(axis=1) instead. To get a de-fragmented frame, use `newframe = frame.copy()`\n",
      "  features_train_en[\n",
      "/var/folders/8y/6qgr48pn4js29rkc2ts9hck80000gn/T/ipykernel_13926/1676008170.py:12: PerformanceWarning: DataFrame is highly fragmented.  This is usually the result of calling `frame.insert` many times, which has poor performance.  Consider joining all columns at once using pd.concat(axis=1) instead. To get a de-fragmented frame, use `newframe = frame.copy()`\n",
      "  features_train_en[\n",
      "/var/folders/8y/6qgr48pn4js29rkc2ts9hck80000gn/T/ipykernel_13926/1676008170.py:12: PerformanceWarning: DataFrame is highly fragmented.  This is usually the result of calling `frame.insert` many times, which has poor performance.  Consider joining all columns at once using pd.concat(axis=1) instead. To get a de-fragmented frame, use `newframe = frame.copy()`\n",
      "  features_train_en[\n",
      "/var/folders/8y/6qgr48pn4js29rkc2ts9hck80000gn/T/ipykernel_13926/1676008170.py:12: PerformanceWarning: DataFrame is highly fragmented.  This is usually the result of calling `frame.insert` many times, which has poor performance.  Consider joining all columns at once using pd.concat(axis=1) instead. To get a de-fragmented frame, use `newframe = frame.copy()`\n",
      "  features_train_en[\n",
      "/var/folders/8y/6qgr48pn4js29rkc2ts9hck80000gn/T/ipykernel_13926/1676008170.py:12: PerformanceWarning: DataFrame is highly fragmented.  This is usually the result of calling `frame.insert` many times, which has poor performance.  Consider joining all columns at once using pd.concat(axis=1) instead. To get a de-fragmented frame, use `newframe = frame.copy()`\n",
      "  features_train_en[\n",
      "/var/folders/8y/6qgr48pn4js29rkc2ts9hck80000gn/T/ipykernel_13926/1676008170.py:12: PerformanceWarning: DataFrame is highly fragmented.  This is usually the result of calling `frame.insert` many times, which has poor performance.  Consider joining all columns at once using pd.concat(axis=1) instead. To get a de-fragmented frame, use `newframe = frame.copy()`\n",
      "  features_train_en[\n",
      "/var/folders/8y/6qgr48pn4js29rkc2ts9hck80000gn/T/ipykernel_13926/1676008170.py:12: PerformanceWarning: DataFrame is highly fragmented.  This is usually the result of calling `frame.insert` many times, which has poor performance.  Consider joining all columns at once using pd.concat(axis=1) instead. To get a de-fragmented frame, use `newframe = frame.copy()`\n",
      "  features_train_en[\n",
      "/var/folders/8y/6qgr48pn4js29rkc2ts9hck80000gn/T/ipykernel_13926/1676008170.py:12: PerformanceWarning: DataFrame is highly fragmented.  This is usually the result of calling `frame.insert` many times, which has poor performance.  Consider joining all columns at once using pd.concat(axis=1) instead. To get a de-fragmented frame, use `newframe = frame.copy()`\n",
      "  features_train_en[\n",
      "/var/folders/8y/6qgr48pn4js29rkc2ts9hck80000gn/T/ipykernel_13926/1676008170.py:12: PerformanceWarning: DataFrame is highly fragmented.  This is usually the result of calling `frame.insert` many times, which has poor performance.  Consider joining all columns at once using pd.concat(axis=1) instead. To get a de-fragmented frame, use `newframe = frame.copy()`\n",
      "  features_train_en[\n",
      "/var/folders/8y/6qgr48pn4js29rkc2ts9hck80000gn/T/ipykernel_13926/1676008170.py:12: PerformanceWarning: DataFrame is highly fragmented.  This is usually the result of calling `frame.insert` many times, which has poor performance.  Consider joining all columns at once using pd.concat(axis=1) instead. To get a de-fragmented frame, use `newframe = frame.copy()`\n",
      "  features_train_en[\n",
      "/var/folders/8y/6qgr48pn4js29rkc2ts9hck80000gn/T/ipykernel_13926/1676008170.py:12: PerformanceWarning: DataFrame is highly fragmented.  This is usually the result of calling `frame.insert` many times, which has poor performance.  Consider joining all columns at once using pd.concat(axis=1) instead. To get a de-fragmented frame, use `newframe = frame.copy()`\n",
      "  features_train_en[\n",
      "/var/folders/8y/6qgr48pn4js29rkc2ts9hck80000gn/T/ipykernel_13926/1676008170.py:12: PerformanceWarning: DataFrame is highly fragmented.  This is usually the result of calling `frame.insert` many times, which has poor performance.  Consider joining all columns at once using pd.concat(axis=1) instead. To get a de-fragmented frame, use `newframe = frame.copy()`\n",
      "  features_train_en[\n",
      "/var/folders/8y/6qgr48pn4js29rkc2ts9hck80000gn/T/ipykernel_13926/1676008170.py:12: PerformanceWarning: DataFrame is highly fragmented.  This is usually the result of calling `frame.insert` many times, which has poor performance.  Consider joining all columns at once using pd.concat(axis=1) instead. To get a de-fragmented frame, use `newframe = frame.copy()`\n",
      "  features_train_en[\n",
      "/var/folders/8y/6qgr48pn4js29rkc2ts9hck80000gn/T/ipykernel_13926/1676008170.py:12: PerformanceWarning: DataFrame is highly fragmented.  This is usually the result of calling `frame.insert` many times, which has poor performance.  Consider joining all columns at once using pd.concat(axis=1) instead. To get a de-fragmented frame, use `newframe = frame.copy()`\n",
      "  features_train_en[\n",
      "/var/folders/8y/6qgr48pn4js29rkc2ts9hck80000gn/T/ipykernel_13926/1676008170.py:12: PerformanceWarning: DataFrame is highly fragmented.  This is usually the result of calling `frame.insert` many times, which has poor performance.  Consider joining all columns at once using pd.concat(axis=1) instead. To get a de-fragmented frame, use `newframe = frame.copy()`\n",
      "  features_train_en[\n",
      "/var/folders/8y/6qgr48pn4js29rkc2ts9hck80000gn/T/ipykernel_13926/1676008170.py:12: PerformanceWarning: DataFrame is highly fragmented.  This is usually the result of calling `frame.insert` many times, which has poor performance.  Consider joining all columns at once using pd.concat(axis=1) instead. To get a de-fragmented frame, use `newframe = frame.copy()`\n",
      "  features_train_en[\n",
      "/var/folders/8y/6qgr48pn4js29rkc2ts9hck80000gn/T/ipykernel_13926/1676008170.py:12: PerformanceWarning: DataFrame is highly fragmented.  This is usually the result of calling `frame.insert` many times, which has poor performance.  Consider joining all columns at once using pd.concat(axis=1) instead. To get a de-fragmented frame, use `newframe = frame.copy()`\n",
      "  features_train_en[\n",
      "/var/folders/8y/6qgr48pn4js29rkc2ts9hck80000gn/T/ipykernel_13926/1676008170.py:12: PerformanceWarning: DataFrame is highly fragmented.  This is usually the result of calling `frame.insert` many times, which has poor performance.  Consider joining all columns at once using pd.concat(axis=1) instead. To get a de-fragmented frame, use `newframe = frame.copy()`\n",
      "  features_train_en[\n",
      "/var/folders/8y/6qgr48pn4js29rkc2ts9hck80000gn/T/ipykernel_13926/1676008170.py:12: PerformanceWarning: DataFrame is highly fragmented.  This is usually the result of calling `frame.insert` many times, which has poor performance.  Consider joining all columns at once using pd.concat(axis=1) instead. To get a de-fragmented frame, use `newframe = frame.copy()`\n",
      "  features_train_en[\n",
      "/var/folders/8y/6qgr48pn4js29rkc2ts9hck80000gn/T/ipykernel_13926/1676008170.py:12: PerformanceWarning: DataFrame is highly fragmented.  This is usually the result of calling `frame.insert` many times, which has poor performance.  Consider joining all columns at once using pd.concat(axis=1) instead. To get a de-fragmented frame, use `newframe = frame.copy()`\n",
      "  features_train_en[\n",
      "/var/folders/8y/6qgr48pn4js29rkc2ts9hck80000gn/T/ipykernel_13926/1676008170.py:12: PerformanceWarning: DataFrame is highly fragmented.  This is usually the result of calling `frame.insert` many times, which has poor performance.  Consider joining all columns at once using pd.concat(axis=1) instead. To get a de-fragmented frame, use `newframe = frame.copy()`\n",
      "  features_train_en[\n",
      "/var/folders/8y/6qgr48pn4js29rkc2ts9hck80000gn/T/ipykernel_13926/1676008170.py:12: PerformanceWarning: DataFrame is highly fragmented.  This is usually the result of calling `frame.insert` many times, which has poor performance.  Consider joining all columns at once using pd.concat(axis=1) instead. To get a de-fragmented frame, use `newframe = frame.copy()`\n",
      "  features_train_en[\n",
      "/var/folders/8y/6qgr48pn4js29rkc2ts9hck80000gn/T/ipykernel_13926/1676008170.py:12: PerformanceWarning: DataFrame is highly fragmented.  This is usually the result of calling `frame.insert` many times, which has poor performance.  Consider joining all columns at once using pd.concat(axis=1) instead. To get a de-fragmented frame, use `newframe = frame.copy()`\n",
      "  features_train_en[\n",
      "/var/folders/8y/6qgr48pn4js29rkc2ts9hck80000gn/T/ipykernel_13926/1676008170.py:12: PerformanceWarning: DataFrame is highly fragmented.  This is usually the result of calling `frame.insert` many times, which has poor performance.  Consider joining all columns at once using pd.concat(axis=1) instead. To get a de-fragmented frame, use `newframe = frame.copy()`\n",
      "  features_train_en[\n",
      "/var/folders/8y/6qgr48pn4js29rkc2ts9hck80000gn/T/ipykernel_13926/1676008170.py:12: PerformanceWarning: DataFrame is highly fragmented.  This is usually the result of calling `frame.insert` many times, which has poor performance.  Consider joining all columns at once using pd.concat(axis=1) instead. To get a de-fragmented frame, use `newframe = frame.copy()`\n",
      "  features_train_en[\n",
      "/var/folders/8y/6qgr48pn4js29rkc2ts9hck80000gn/T/ipykernel_13926/1676008170.py:12: PerformanceWarning: DataFrame is highly fragmented.  This is usually the result of calling `frame.insert` many times, which has poor performance.  Consider joining all columns at once using pd.concat(axis=1) instead. To get a de-fragmented frame, use `newframe = frame.copy()`\n",
      "  features_train_en[\n",
      "/var/folders/8y/6qgr48pn4js29rkc2ts9hck80000gn/T/ipykernel_13926/1676008170.py:12: PerformanceWarning: DataFrame is highly fragmented.  This is usually the result of calling `frame.insert` many times, which has poor performance.  Consider joining all columns at once using pd.concat(axis=1) instead. To get a de-fragmented frame, use `newframe = frame.copy()`\n",
      "  features_train_en[\n",
      "/var/folders/8y/6qgr48pn4js29rkc2ts9hck80000gn/T/ipykernel_13926/1676008170.py:12: PerformanceWarning: DataFrame is highly fragmented.  This is usually the result of calling `frame.insert` many times, which has poor performance.  Consider joining all columns at once using pd.concat(axis=1) instead. To get a de-fragmented frame, use `newframe = frame.copy()`\n",
      "  features_train_en[\n",
      "/var/folders/8y/6qgr48pn4js29rkc2ts9hck80000gn/T/ipykernel_13926/1676008170.py:12: PerformanceWarning: DataFrame is highly fragmented.  This is usually the result of calling `frame.insert` many times, which has poor performance.  Consider joining all columns at once using pd.concat(axis=1) instead. To get a de-fragmented frame, use `newframe = frame.copy()`\n",
      "  features_train_en[\n",
      "/var/folders/8y/6qgr48pn4js29rkc2ts9hck80000gn/T/ipykernel_13926/1676008170.py:12: PerformanceWarning: DataFrame is highly fragmented.  This is usually the result of calling `frame.insert` many times, which has poor performance.  Consider joining all columns at once using pd.concat(axis=1) instead. To get a de-fragmented frame, use `newframe = frame.copy()`\n",
      "  features_train_en[\n",
      "/var/folders/8y/6qgr48pn4js29rkc2ts9hck80000gn/T/ipykernel_13926/1676008170.py:12: PerformanceWarning: DataFrame is highly fragmented.  This is usually the result of calling `frame.insert` many times, which has poor performance.  Consider joining all columns at once using pd.concat(axis=1) instead. To get a de-fragmented frame, use `newframe = frame.copy()`\n",
      "  features_train_en[\n",
      "/var/folders/8y/6qgr48pn4js29rkc2ts9hck80000gn/T/ipykernel_13926/1676008170.py:12: PerformanceWarning: DataFrame is highly fragmented.  This is usually the result of calling `frame.insert` many times, which has poor performance.  Consider joining all columns at once using pd.concat(axis=1) instead. To get a de-fragmented frame, use `newframe = frame.copy()`\n",
      "  features_train_en[\n",
      "/var/folders/8y/6qgr48pn4js29rkc2ts9hck80000gn/T/ipykernel_13926/1676008170.py:12: PerformanceWarning: DataFrame is highly fragmented.  This is usually the result of calling `frame.insert` many times, which has poor performance.  Consider joining all columns at once using pd.concat(axis=1) instead. To get a de-fragmented frame, use `newframe = frame.copy()`\n",
      "  features_train_en[\n",
      "/var/folders/8y/6qgr48pn4js29rkc2ts9hck80000gn/T/ipykernel_13926/1676008170.py:12: PerformanceWarning: DataFrame is highly fragmented.  This is usually the result of calling `frame.insert` many times, which has poor performance.  Consider joining all columns at once using pd.concat(axis=1) instead. To get a de-fragmented frame, use `newframe = frame.copy()`\n",
      "  features_train_en[\n",
      "/var/folders/8y/6qgr48pn4js29rkc2ts9hck80000gn/T/ipykernel_13926/1676008170.py:12: PerformanceWarning: DataFrame is highly fragmented.  This is usually the result of calling `frame.insert` many times, which has poor performance.  Consider joining all columns at once using pd.concat(axis=1) instead. To get a de-fragmented frame, use `newframe = frame.copy()`\n",
      "  features_train_en[\n",
      "/var/folders/8y/6qgr48pn4js29rkc2ts9hck80000gn/T/ipykernel_13926/1676008170.py:12: PerformanceWarning: DataFrame is highly fragmented.  This is usually the result of calling `frame.insert` many times, which has poor performance.  Consider joining all columns at once using pd.concat(axis=1) instead. To get a de-fragmented frame, use `newframe = frame.copy()`\n",
      "  features_train_en[\n",
      "/var/folders/8y/6qgr48pn4js29rkc2ts9hck80000gn/T/ipykernel_13926/1676008170.py:12: PerformanceWarning: DataFrame is highly fragmented.  This is usually the result of calling `frame.insert` many times, which has poor performance.  Consider joining all columns at once using pd.concat(axis=1) instead. To get a de-fragmented frame, use `newframe = frame.copy()`\n",
      "  features_train_en[\n",
      "/var/folders/8y/6qgr48pn4js29rkc2ts9hck80000gn/T/ipykernel_13926/1676008170.py:12: PerformanceWarning: DataFrame is highly fragmented.  This is usually the result of calling `frame.insert` many times, which has poor performance.  Consider joining all columns at once using pd.concat(axis=1) instead. To get a de-fragmented frame, use `newframe = frame.copy()`\n",
      "  features_train_en[\n",
      "/var/folders/8y/6qgr48pn4js29rkc2ts9hck80000gn/T/ipykernel_13926/1676008170.py:12: PerformanceWarning: DataFrame is highly fragmented.  This is usually the result of calling `frame.insert` many times, which has poor performance.  Consider joining all columns at once using pd.concat(axis=1) instead. To get a de-fragmented frame, use `newframe = frame.copy()`\n",
      "  features_train_en[\n",
      "/var/folders/8y/6qgr48pn4js29rkc2ts9hck80000gn/T/ipykernel_13926/1676008170.py:12: PerformanceWarning: DataFrame is highly fragmented.  This is usually the result of calling `frame.insert` many times, which has poor performance.  Consider joining all columns at once using pd.concat(axis=1) instead. To get a de-fragmented frame, use `newframe = frame.copy()`\n",
      "  features_train_en[\n",
      "/var/folders/8y/6qgr48pn4js29rkc2ts9hck80000gn/T/ipykernel_13926/1676008170.py:12: PerformanceWarning: DataFrame is highly fragmented.  This is usually the result of calling `frame.insert` many times, which has poor performance.  Consider joining all columns at once using pd.concat(axis=1) instead. To get a de-fragmented frame, use `newframe = frame.copy()`\n",
      "  features_train_en[\n",
      "/var/folders/8y/6qgr48pn4js29rkc2ts9hck80000gn/T/ipykernel_13926/1676008170.py:12: PerformanceWarning: DataFrame is highly fragmented.  This is usually the result of calling `frame.insert` many times, which has poor performance.  Consider joining all columns at once using pd.concat(axis=1) instead. To get a de-fragmented frame, use `newframe = frame.copy()`\n",
      "  features_train_en[\n",
      "/var/folders/8y/6qgr48pn4js29rkc2ts9hck80000gn/T/ipykernel_13926/1676008170.py:12: PerformanceWarning: DataFrame is highly fragmented.  This is usually the result of calling `frame.insert` many times, which has poor performance.  Consider joining all columns at once using pd.concat(axis=1) instead. To get a de-fragmented frame, use `newframe = frame.copy()`\n",
      "  features_train_en[\n",
      "/var/folders/8y/6qgr48pn4js29rkc2ts9hck80000gn/T/ipykernel_13926/1676008170.py:12: PerformanceWarning: DataFrame is highly fragmented.  This is usually the result of calling `frame.insert` many times, which has poor performance.  Consider joining all columns at once using pd.concat(axis=1) instead. To get a de-fragmented frame, use `newframe = frame.copy()`\n",
      "  features_train_en[\n",
      "/var/folders/8y/6qgr48pn4js29rkc2ts9hck80000gn/T/ipykernel_13926/1676008170.py:12: PerformanceWarning: DataFrame is highly fragmented.  This is usually the result of calling `frame.insert` many times, which has poor performance.  Consider joining all columns at once using pd.concat(axis=1) instead. To get a de-fragmented frame, use `newframe = frame.copy()`\n",
      "  features_train_en[\n",
      "/var/folders/8y/6qgr48pn4js29rkc2ts9hck80000gn/T/ipykernel_13926/1676008170.py:12: PerformanceWarning: DataFrame is highly fragmented.  This is usually the result of calling `frame.insert` many times, which has poor performance.  Consider joining all columns at once using pd.concat(axis=1) instead. To get a de-fragmented frame, use `newframe = frame.copy()`\n",
      "  features_train_en[\n",
      "/var/folders/8y/6qgr48pn4js29rkc2ts9hck80000gn/T/ipykernel_13926/1676008170.py:12: PerformanceWarning: DataFrame is highly fragmented.  This is usually the result of calling `frame.insert` many times, which has poor performance.  Consider joining all columns at once using pd.concat(axis=1) instead. To get a de-fragmented frame, use `newframe = frame.copy()`\n",
      "  features_train_en[\n",
      "/var/folders/8y/6qgr48pn4js29rkc2ts9hck80000gn/T/ipykernel_13926/1676008170.py:12: PerformanceWarning: DataFrame is highly fragmented.  This is usually the result of calling `frame.insert` many times, which has poor performance.  Consider joining all columns at once using pd.concat(axis=1) instead. To get a de-fragmented frame, use `newframe = frame.copy()`\n",
      "  features_train_en[\n",
      "/var/folders/8y/6qgr48pn4js29rkc2ts9hck80000gn/T/ipykernel_13926/1676008170.py:12: PerformanceWarning: DataFrame is highly fragmented.  This is usually the result of calling `frame.insert` many times, which has poor performance.  Consider joining all columns at once using pd.concat(axis=1) instead. To get a de-fragmented frame, use `newframe = frame.copy()`\n",
      "  features_train_en[\n",
      "/var/folders/8y/6qgr48pn4js29rkc2ts9hck80000gn/T/ipykernel_13926/1676008170.py:12: PerformanceWarning: DataFrame is highly fragmented.  This is usually the result of calling `frame.insert` many times, which has poor performance.  Consider joining all columns at once using pd.concat(axis=1) instead. To get a de-fragmented frame, use `newframe = frame.copy()`\n",
      "  features_train_en[\n",
      "/var/folders/8y/6qgr48pn4js29rkc2ts9hck80000gn/T/ipykernel_13926/1676008170.py:12: PerformanceWarning: DataFrame is highly fragmented.  This is usually the result of calling `frame.insert` many times, which has poor performance.  Consider joining all columns at once using pd.concat(axis=1) instead. To get a de-fragmented frame, use `newframe = frame.copy()`\n",
      "  features_train_en[\n",
      "/var/folders/8y/6qgr48pn4js29rkc2ts9hck80000gn/T/ipykernel_13926/1676008170.py:12: PerformanceWarning: DataFrame is highly fragmented.  This is usually the result of calling `frame.insert` many times, which has poor performance.  Consider joining all columns at once using pd.concat(axis=1) instead. To get a de-fragmented frame, use `newframe = frame.copy()`\n",
      "  features_train_en[\n",
      "/var/folders/8y/6qgr48pn4js29rkc2ts9hck80000gn/T/ipykernel_13926/1676008170.py:12: PerformanceWarning: DataFrame is highly fragmented.  This is usually the result of calling `frame.insert` many times, which has poor performance.  Consider joining all columns at once using pd.concat(axis=1) instead. To get a de-fragmented frame, use `newframe = frame.copy()`\n",
      "  features_train_en[\n",
      "/var/folders/8y/6qgr48pn4js29rkc2ts9hck80000gn/T/ipykernel_13926/1676008170.py:12: PerformanceWarning: DataFrame is highly fragmented.  This is usually the result of calling `frame.insert` many times, which has poor performance.  Consider joining all columns at once using pd.concat(axis=1) instead. To get a de-fragmented frame, use `newframe = frame.copy()`\n",
      "  features_train_en[\n",
      "/var/folders/8y/6qgr48pn4js29rkc2ts9hck80000gn/T/ipykernel_13926/1676008170.py:12: PerformanceWarning: DataFrame is highly fragmented.  This is usually the result of calling `frame.insert` many times, which has poor performance.  Consider joining all columns at once using pd.concat(axis=1) instead. To get a de-fragmented frame, use `newframe = frame.copy()`\n",
      "  features_train_en[\n",
      "/var/folders/8y/6qgr48pn4js29rkc2ts9hck80000gn/T/ipykernel_13926/1676008170.py:12: PerformanceWarning: DataFrame is highly fragmented.  This is usually the result of calling `frame.insert` many times, which has poor performance.  Consider joining all columns at once using pd.concat(axis=1) instead. To get a de-fragmented frame, use `newframe = frame.copy()`\n",
      "  features_train_en[\n",
      "/var/folders/8y/6qgr48pn4js29rkc2ts9hck80000gn/T/ipykernel_13926/1676008170.py:12: PerformanceWarning: DataFrame is highly fragmented.  This is usually the result of calling `frame.insert` many times, which has poor performance.  Consider joining all columns at once using pd.concat(axis=1) instead. To get a de-fragmented frame, use `newframe = frame.copy()`\n",
      "  features_train_en[\n",
      "/var/folders/8y/6qgr48pn4js29rkc2ts9hck80000gn/T/ipykernel_13926/1676008170.py:12: PerformanceWarning: DataFrame is highly fragmented.  This is usually the result of calling `frame.insert` many times, which has poor performance.  Consider joining all columns at once using pd.concat(axis=1) instead. To get a de-fragmented frame, use `newframe = frame.copy()`\n",
      "  features_train_en[\n",
      "/var/folders/8y/6qgr48pn4js29rkc2ts9hck80000gn/T/ipykernel_13926/1676008170.py:12: PerformanceWarning: DataFrame is highly fragmented.  This is usually the result of calling `frame.insert` many times, which has poor performance.  Consider joining all columns at once using pd.concat(axis=1) instead. To get a de-fragmented frame, use `newframe = frame.copy()`\n",
      "  features_train_en[\n",
      "/var/folders/8y/6qgr48pn4js29rkc2ts9hck80000gn/T/ipykernel_13926/1676008170.py:12: PerformanceWarning: DataFrame is highly fragmented.  This is usually the result of calling `frame.insert` many times, which has poor performance.  Consider joining all columns at once using pd.concat(axis=1) instead. To get a de-fragmented frame, use `newframe = frame.copy()`\n",
      "  features_train_en[\n",
      "/var/folders/8y/6qgr48pn4js29rkc2ts9hck80000gn/T/ipykernel_13926/1676008170.py:12: PerformanceWarning: DataFrame is highly fragmented.  This is usually the result of calling `frame.insert` many times, which has poor performance.  Consider joining all columns at once using pd.concat(axis=1) instead. To get a de-fragmented frame, use `newframe = frame.copy()`\n",
      "  features_train_en[\n",
      "/var/folders/8y/6qgr48pn4js29rkc2ts9hck80000gn/T/ipykernel_13926/1676008170.py:12: PerformanceWarning: DataFrame is highly fragmented.  This is usually the result of calling `frame.insert` many times, which has poor performance.  Consider joining all columns at once using pd.concat(axis=1) instead. To get a de-fragmented frame, use `newframe = frame.copy()`\n",
      "  features_train_en[\n",
      "/var/folders/8y/6qgr48pn4js29rkc2ts9hck80000gn/T/ipykernel_13926/1676008170.py:12: PerformanceWarning: DataFrame is highly fragmented.  This is usually the result of calling `frame.insert` many times, which has poor performance.  Consider joining all columns at once using pd.concat(axis=1) instead. To get a de-fragmented frame, use `newframe = frame.copy()`\n",
      "  features_train_en[\n",
      "/var/folders/8y/6qgr48pn4js29rkc2ts9hck80000gn/T/ipykernel_13926/1676008170.py:12: PerformanceWarning: DataFrame is highly fragmented.  This is usually the result of calling `frame.insert` many times, which has poor performance.  Consider joining all columns at once using pd.concat(axis=1) instead. To get a de-fragmented frame, use `newframe = frame.copy()`\n",
      "  features_train_en[\n",
      "/var/folders/8y/6qgr48pn4js29rkc2ts9hck80000gn/T/ipykernel_13926/1676008170.py:12: PerformanceWarning: DataFrame is highly fragmented.  This is usually the result of calling `frame.insert` many times, which has poor performance.  Consider joining all columns at once using pd.concat(axis=1) instead. To get a de-fragmented frame, use `newframe = frame.copy()`\n",
      "  features_train_en[\n",
      "/var/folders/8y/6qgr48pn4js29rkc2ts9hck80000gn/T/ipykernel_13926/1676008170.py:12: PerformanceWarning: DataFrame is highly fragmented.  This is usually the result of calling `frame.insert` many times, which has poor performance.  Consider joining all columns at once using pd.concat(axis=1) instead. To get a de-fragmented frame, use `newframe = frame.copy()`\n",
      "  features_train_en[\n",
      "/var/folders/8y/6qgr48pn4js29rkc2ts9hck80000gn/T/ipykernel_13926/1676008170.py:12: PerformanceWarning: DataFrame is highly fragmented.  This is usually the result of calling `frame.insert` many times, which has poor performance.  Consider joining all columns at once using pd.concat(axis=1) instead. To get a de-fragmented frame, use `newframe = frame.copy()`\n",
      "  features_train_en[\n",
      "/var/folders/8y/6qgr48pn4js29rkc2ts9hck80000gn/T/ipykernel_13926/1676008170.py:12: PerformanceWarning: DataFrame is highly fragmented.  This is usually the result of calling `frame.insert` many times, which has poor performance.  Consider joining all columns at once using pd.concat(axis=1) instead. To get a de-fragmented frame, use `newframe = frame.copy()`\n",
      "  features_train_en[\n",
      "/var/folders/8y/6qgr48pn4js29rkc2ts9hck80000gn/T/ipykernel_13926/1676008170.py:12: PerformanceWarning: DataFrame is highly fragmented.  This is usually the result of calling `frame.insert` many times, which has poor performance.  Consider joining all columns at once using pd.concat(axis=1) instead. To get a de-fragmented frame, use `newframe = frame.copy()`\n",
      "  features_train_en[\n",
      "/var/folders/8y/6qgr48pn4js29rkc2ts9hck80000gn/T/ipykernel_13926/1676008170.py:12: PerformanceWarning: DataFrame is highly fragmented.  This is usually the result of calling `frame.insert` many times, which has poor performance.  Consider joining all columns at once using pd.concat(axis=1) instead. To get a de-fragmented frame, use `newframe = frame.copy()`\n",
      "  features_train_en[\n",
      "/var/folders/8y/6qgr48pn4js29rkc2ts9hck80000gn/T/ipykernel_13926/1676008170.py:12: PerformanceWarning: DataFrame is highly fragmented.  This is usually the result of calling `frame.insert` many times, which has poor performance.  Consider joining all columns at once using pd.concat(axis=1) instead. To get a de-fragmented frame, use `newframe = frame.copy()`\n",
      "  features_train_en[\n",
      "/var/folders/8y/6qgr48pn4js29rkc2ts9hck80000gn/T/ipykernel_13926/1676008170.py:12: PerformanceWarning: DataFrame is highly fragmented.  This is usually the result of calling `frame.insert` many times, which has poor performance.  Consider joining all columns at once using pd.concat(axis=1) instead. To get a de-fragmented frame, use `newframe = frame.copy()`\n",
      "  features_train_en[\n",
      "/var/folders/8y/6qgr48pn4js29rkc2ts9hck80000gn/T/ipykernel_13926/1676008170.py:12: PerformanceWarning: DataFrame is highly fragmented.  This is usually the result of calling `frame.insert` many times, which has poor performance.  Consider joining all columns at once using pd.concat(axis=1) instead. To get a de-fragmented frame, use `newframe = frame.copy()`\n",
      "  features_train_en[\n",
      "/var/folders/8y/6qgr48pn4js29rkc2ts9hck80000gn/T/ipykernel_13926/1676008170.py:12: PerformanceWarning: DataFrame is highly fragmented.  This is usually the result of calling `frame.insert` many times, which has poor performance.  Consider joining all columns at once using pd.concat(axis=1) instead. To get a de-fragmented frame, use `newframe = frame.copy()`\n",
      "  features_train_en[\n",
      "/var/folders/8y/6qgr48pn4js29rkc2ts9hck80000gn/T/ipykernel_13926/1676008170.py:12: PerformanceWarning: DataFrame is highly fragmented.  This is usually the result of calling `frame.insert` many times, which has poor performance.  Consider joining all columns at once using pd.concat(axis=1) instead. To get a de-fragmented frame, use `newframe = frame.copy()`\n",
      "  features_train_en[\n",
      "/var/folders/8y/6qgr48pn4js29rkc2ts9hck80000gn/T/ipykernel_13926/1676008170.py:12: PerformanceWarning: DataFrame is highly fragmented.  This is usually the result of calling `frame.insert` many times, which has poor performance.  Consider joining all columns at once using pd.concat(axis=1) instead. To get a de-fragmented frame, use `newframe = frame.copy()`\n",
      "  features_train_en[\n",
      "/var/folders/8y/6qgr48pn4js29rkc2ts9hck80000gn/T/ipykernel_13926/1676008170.py:12: PerformanceWarning: DataFrame is highly fragmented.  This is usually the result of calling `frame.insert` many times, which has poor performance.  Consider joining all columns at once using pd.concat(axis=1) instead. To get a de-fragmented frame, use `newframe = frame.copy()`\n",
      "  features_train_en[\n",
      "/var/folders/8y/6qgr48pn4js29rkc2ts9hck80000gn/T/ipykernel_13926/1676008170.py:12: PerformanceWarning: DataFrame is highly fragmented.  This is usually the result of calling `frame.insert` many times, which has poor performance.  Consider joining all columns at once using pd.concat(axis=1) instead. To get a de-fragmented frame, use `newframe = frame.copy()`\n",
      "  features_train_en[\n",
      "/var/folders/8y/6qgr48pn4js29rkc2ts9hck80000gn/T/ipykernel_13926/1676008170.py:12: PerformanceWarning: DataFrame is highly fragmented.  This is usually the result of calling `frame.insert` many times, which has poor performance.  Consider joining all columns at once using pd.concat(axis=1) instead. To get a de-fragmented frame, use `newframe = frame.copy()`\n",
      "  features_train_en[\n",
      "/var/folders/8y/6qgr48pn4js29rkc2ts9hck80000gn/T/ipykernel_13926/1676008170.py:12: PerformanceWarning: DataFrame is highly fragmented.  This is usually the result of calling `frame.insert` many times, which has poor performance.  Consider joining all columns at once using pd.concat(axis=1) instead. To get a de-fragmented frame, use `newframe = frame.copy()`\n",
      "  features_train_en[\n",
      "/var/folders/8y/6qgr48pn4js29rkc2ts9hck80000gn/T/ipykernel_13926/1676008170.py:12: PerformanceWarning: DataFrame is highly fragmented.  This is usually the result of calling `frame.insert` many times, which has poor performance.  Consider joining all columns at once using pd.concat(axis=1) instead. To get a de-fragmented frame, use `newframe = frame.copy()`\n",
      "  features_train_en[\n",
      "/var/folders/8y/6qgr48pn4js29rkc2ts9hck80000gn/T/ipykernel_13926/1676008170.py:12: PerformanceWarning: DataFrame is highly fragmented.  This is usually the result of calling `frame.insert` many times, which has poor performance.  Consider joining all columns at once using pd.concat(axis=1) instead. To get a de-fragmented frame, use `newframe = frame.copy()`\n",
      "  features_train_en[\n",
      "/var/folders/8y/6qgr48pn4js29rkc2ts9hck80000gn/T/ipykernel_13926/1676008170.py:12: PerformanceWarning: DataFrame is highly fragmented.  This is usually the result of calling `frame.insert` many times, which has poor performance.  Consider joining all columns at once using pd.concat(axis=1) instead. To get a de-fragmented frame, use `newframe = frame.copy()`\n",
      "  features_train_en[\n",
      "/var/folders/8y/6qgr48pn4js29rkc2ts9hck80000gn/T/ipykernel_13926/1676008170.py:12: PerformanceWarning: DataFrame is highly fragmented.  This is usually the result of calling `frame.insert` many times, which has poor performance.  Consider joining all columns at once using pd.concat(axis=1) instead. To get a de-fragmented frame, use `newframe = frame.copy()`\n",
      "  features_train_en[\n",
      "/var/folders/8y/6qgr48pn4js29rkc2ts9hck80000gn/T/ipykernel_13926/1676008170.py:12: PerformanceWarning: DataFrame is highly fragmented.  This is usually the result of calling `frame.insert` many times, which has poor performance.  Consider joining all columns at once using pd.concat(axis=1) instead. To get a de-fragmented frame, use `newframe = frame.copy()`\n",
      "  features_train_en[\n",
      "/var/folders/8y/6qgr48pn4js29rkc2ts9hck80000gn/T/ipykernel_13926/1676008170.py:12: PerformanceWarning: DataFrame is highly fragmented.  This is usually the result of calling `frame.insert` many times, which has poor performance.  Consider joining all columns at once using pd.concat(axis=1) instead. To get a de-fragmented frame, use `newframe = frame.copy()`\n",
      "  features_train_en[\n",
      "/var/folders/8y/6qgr48pn4js29rkc2ts9hck80000gn/T/ipykernel_13926/1676008170.py:12: PerformanceWarning: DataFrame is highly fragmented.  This is usually the result of calling `frame.insert` many times, which has poor performance.  Consider joining all columns at once using pd.concat(axis=1) instead. To get a de-fragmented frame, use `newframe = frame.copy()`\n",
      "  features_train_en[\n",
      "/var/folders/8y/6qgr48pn4js29rkc2ts9hck80000gn/T/ipykernel_13926/1676008170.py:12: PerformanceWarning: DataFrame is highly fragmented.  This is usually the result of calling `frame.insert` many times, which has poor performance.  Consider joining all columns at once using pd.concat(axis=1) instead. To get a de-fragmented frame, use `newframe = frame.copy()`\n",
      "  features_train_en[\n",
      "/var/folders/8y/6qgr48pn4js29rkc2ts9hck80000gn/T/ipykernel_13926/1676008170.py:12: PerformanceWarning: DataFrame is highly fragmented.  This is usually the result of calling `frame.insert` many times, which has poor performance.  Consider joining all columns at once using pd.concat(axis=1) instead. To get a de-fragmented frame, use `newframe = frame.copy()`\n",
      "  features_train_en[\n",
      "/var/folders/8y/6qgr48pn4js29rkc2ts9hck80000gn/T/ipykernel_13926/1676008170.py:12: PerformanceWarning: DataFrame is highly fragmented.  This is usually the result of calling `frame.insert` many times, which has poor performance.  Consider joining all columns at once using pd.concat(axis=1) instead. To get a de-fragmented frame, use `newframe = frame.copy()`\n",
      "  features_train_en[\n",
      "/var/folders/8y/6qgr48pn4js29rkc2ts9hck80000gn/T/ipykernel_13926/1676008170.py:12: PerformanceWarning: DataFrame is highly fragmented.  This is usually the result of calling `frame.insert` many times, which has poor performance.  Consider joining all columns at once using pd.concat(axis=1) instead. To get a de-fragmented frame, use `newframe = frame.copy()`\n",
      "  features_train_en[\n",
      "/var/folders/8y/6qgr48pn4js29rkc2ts9hck80000gn/T/ipykernel_13926/1676008170.py:12: PerformanceWarning: DataFrame is highly fragmented.  This is usually the result of calling `frame.insert` many times, which has poor performance.  Consider joining all columns at once using pd.concat(axis=1) instead. To get a de-fragmented frame, use `newframe = frame.copy()`\n",
      "  features_train_en[\n",
      "/var/folders/8y/6qgr48pn4js29rkc2ts9hck80000gn/T/ipykernel_13926/1676008170.py:12: PerformanceWarning: DataFrame is highly fragmented.  This is usually the result of calling `frame.insert` many times, which has poor performance.  Consider joining all columns at once using pd.concat(axis=1) instead. To get a de-fragmented frame, use `newframe = frame.copy()`\n",
      "  features_train_en[\n",
      "/var/folders/8y/6qgr48pn4js29rkc2ts9hck80000gn/T/ipykernel_13926/1676008170.py:12: PerformanceWarning: DataFrame is highly fragmented.  This is usually the result of calling `frame.insert` many times, which has poor performance.  Consider joining all columns at once using pd.concat(axis=1) instead. To get a de-fragmented frame, use `newframe = frame.copy()`\n",
      "  features_train_en[\n",
      "/var/folders/8y/6qgr48pn4js29rkc2ts9hck80000gn/T/ipykernel_13926/1676008170.py:12: PerformanceWarning: DataFrame is highly fragmented.  This is usually the result of calling `frame.insert` many times, which has poor performance.  Consider joining all columns at once using pd.concat(axis=1) instead. To get a de-fragmented frame, use `newframe = frame.copy()`\n",
      "  features_train_en[\n",
      "/var/folders/8y/6qgr48pn4js29rkc2ts9hck80000gn/T/ipykernel_13926/1676008170.py:12: PerformanceWarning: DataFrame is highly fragmented.  This is usually the result of calling `frame.insert` many times, which has poor performance.  Consider joining all columns at once using pd.concat(axis=1) instead. To get a de-fragmented frame, use `newframe = frame.copy()`\n",
      "  features_train_en[\n",
      "/var/folders/8y/6qgr48pn4js29rkc2ts9hck80000gn/T/ipykernel_13926/1676008170.py:12: PerformanceWarning: DataFrame is highly fragmented.  This is usually the result of calling `frame.insert` many times, which has poor performance.  Consider joining all columns at once using pd.concat(axis=1) instead. To get a de-fragmented frame, use `newframe = frame.copy()`\n",
      "  features_train_en[\n",
      "/var/folders/8y/6qgr48pn4js29rkc2ts9hck80000gn/T/ipykernel_13926/1676008170.py:12: PerformanceWarning: DataFrame is highly fragmented.  This is usually the result of calling `frame.insert` many times, which has poor performance.  Consider joining all columns at once using pd.concat(axis=1) instead. To get a de-fragmented frame, use `newframe = frame.copy()`\n",
      "  features_train_en[\n",
      "/var/folders/8y/6qgr48pn4js29rkc2ts9hck80000gn/T/ipykernel_13926/1676008170.py:12: PerformanceWarning: DataFrame is highly fragmented.  This is usually the result of calling `frame.insert` many times, which has poor performance.  Consider joining all columns at once using pd.concat(axis=1) instead. To get a de-fragmented frame, use `newframe = frame.copy()`\n",
      "  features_train_en[\n",
      "/var/folders/8y/6qgr48pn4js29rkc2ts9hck80000gn/T/ipykernel_13926/1676008170.py:12: PerformanceWarning: DataFrame is highly fragmented.  This is usually the result of calling `frame.insert` many times, which has poor performance.  Consider joining all columns at once using pd.concat(axis=1) instead. To get a de-fragmented frame, use `newframe = frame.copy()`\n",
      "  features_train_en[\n",
      "/var/folders/8y/6qgr48pn4js29rkc2ts9hck80000gn/T/ipykernel_13926/1676008170.py:12: PerformanceWarning: DataFrame is highly fragmented.  This is usually the result of calling `frame.insert` many times, which has poor performance.  Consider joining all columns at once using pd.concat(axis=1) instead. To get a de-fragmented frame, use `newframe = frame.copy()`\n",
      "  features_train_en[\n",
      "/var/folders/8y/6qgr48pn4js29rkc2ts9hck80000gn/T/ipykernel_13926/1676008170.py:12: PerformanceWarning: DataFrame is highly fragmented.  This is usually the result of calling `frame.insert` many times, which has poor performance.  Consider joining all columns at once using pd.concat(axis=1) instead. To get a de-fragmented frame, use `newframe = frame.copy()`\n",
      "  features_train_en[\n",
      "/var/folders/8y/6qgr48pn4js29rkc2ts9hck80000gn/T/ipykernel_13926/1676008170.py:12: PerformanceWarning: DataFrame is highly fragmented.  This is usually the result of calling `frame.insert` many times, which has poor performance.  Consider joining all columns at once using pd.concat(axis=1) instead. To get a de-fragmented frame, use `newframe = frame.copy()`\n",
      "  features_train_en[\n",
      "/var/folders/8y/6qgr48pn4js29rkc2ts9hck80000gn/T/ipykernel_13926/1676008170.py:12: PerformanceWarning: DataFrame is highly fragmented.  This is usually the result of calling `frame.insert` many times, which has poor performance.  Consider joining all columns at once using pd.concat(axis=1) instead. To get a de-fragmented frame, use `newframe = frame.copy()`\n",
      "  features_train_en[\n",
      "/var/folders/8y/6qgr48pn4js29rkc2ts9hck80000gn/T/ipykernel_13926/1676008170.py:12: PerformanceWarning: DataFrame is highly fragmented.  This is usually the result of calling `frame.insert` many times, which has poor performance.  Consider joining all columns at once using pd.concat(axis=1) instead. To get a de-fragmented frame, use `newframe = frame.copy()`\n",
      "  features_train_en[\n",
      "/var/folders/8y/6qgr48pn4js29rkc2ts9hck80000gn/T/ipykernel_13926/1676008170.py:12: PerformanceWarning: DataFrame is highly fragmented.  This is usually the result of calling `frame.insert` many times, which has poor performance.  Consider joining all columns at once using pd.concat(axis=1) instead. To get a de-fragmented frame, use `newframe = frame.copy()`\n",
      "  features_train_en[\n",
      "/var/folders/8y/6qgr48pn4js29rkc2ts9hck80000gn/T/ipykernel_13926/1676008170.py:12: PerformanceWarning: DataFrame is highly fragmented.  This is usually the result of calling `frame.insert` many times, which has poor performance.  Consider joining all columns at once using pd.concat(axis=1) instead. To get a de-fragmented frame, use `newframe = frame.copy()`\n",
      "  features_train_en[\n",
      "/var/folders/8y/6qgr48pn4js29rkc2ts9hck80000gn/T/ipykernel_13926/1676008170.py:12: PerformanceWarning: DataFrame is highly fragmented.  This is usually the result of calling `frame.insert` many times, which has poor performance.  Consider joining all columns at once using pd.concat(axis=1) instead. To get a de-fragmented frame, use `newframe = frame.copy()`\n",
      "  features_train_en[\n",
      "/var/folders/8y/6qgr48pn4js29rkc2ts9hck80000gn/T/ipykernel_13926/1676008170.py:12: PerformanceWarning: DataFrame is highly fragmented.  This is usually the result of calling `frame.insert` many times, which has poor performance.  Consider joining all columns at once using pd.concat(axis=1) instead. To get a de-fragmented frame, use `newframe = frame.copy()`\n",
      "  features_train_en[\n",
      "/var/folders/8y/6qgr48pn4js29rkc2ts9hck80000gn/T/ipykernel_13926/1676008170.py:12: PerformanceWarning: DataFrame is highly fragmented.  This is usually the result of calling `frame.insert` many times, which has poor performance.  Consider joining all columns at once using pd.concat(axis=1) instead. To get a de-fragmented frame, use `newframe = frame.copy()`\n",
      "  features_train_en[\n",
      "/var/folders/8y/6qgr48pn4js29rkc2ts9hck80000gn/T/ipykernel_13926/1676008170.py:12: PerformanceWarning: DataFrame is highly fragmented.  This is usually the result of calling `frame.insert` many times, which has poor performance.  Consider joining all columns at once using pd.concat(axis=1) instead. To get a de-fragmented frame, use `newframe = frame.copy()`\n",
      "  features_train_en[\n",
      "/var/folders/8y/6qgr48pn4js29rkc2ts9hck80000gn/T/ipykernel_13926/1676008170.py:12: PerformanceWarning: DataFrame is highly fragmented.  This is usually the result of calling `frame.insert` many times, which has poor performance.  Consider joining all columns at once using pd.concat(axis=1) instead. To get a de-fragmented frame, use `newframe = frame.copy()`\n",
      "  features_train_en[\n",
      "/var/folders/8y/6qgr48pn4js29rkc2ts9hck80000gn/T/ipykernel_13926/1676008170.py:12: PerformanceWarning: DataFrame is highly fragmented.  This is usually the result of calling `frame.insert` many times, which has poor performance.  Consider joining all columns at once using pd.concat(axis=1) instead. To get a de-fragmented frame, use `newframe = frame.copy()`\n",
      "  features_train_en[\n",
      "/var/folders/8y/6qgr48pn4js29rkc2ts9hck80000gn/T/ipykernel_13926/1676008170.py:12: PerformanceWarning: DataFrame is highly fragmented.  This is usually the result of calling `frame.insert` many times, which has poor performance.  Consider joining all columns at once using pd.concat(axis=1) instead. To get a de-fragmented frame, use `newframe = frame.copy()`\n",
      "  features_train_en[\n",
      "/var/folders/8y/6qgr48pn4js29rkc2ts9hck80000gn/T/ipykernel_13926/1676008170.py:12: PerformanceWarning: DataFrame is highly fragmented.  This is usually the result of calling `frame.insert` many times, which has poor performance.  Consider joining all columns at once using pd.concat(axis=1) instead. To get a de-fragmented frame, use `newframe = frame.copy()`\n",
      "  features_train_en[\n",
      "/var/folders/8y/6qgr48pn4js29rkc2ts9hck80000gn/T/ipykernel_13926/1676008170.py:12: PerformanceWarning: DataFrame is highly fragmented.  This is usually the result of calling `frame.insert` many times, which has poor performance.  Consider joining all columns at once using pd.concat(axis=1) instead. To get a de-fragmented frame, use `newframe = frame.copy()`\n",
      "  features_train_en[\n",
      "/var/folders/8y/6qgr48pn4js29rkc2ts9hck80000gn/T/ipykernel_13926/1676008170.py:12: PerformanceWarning: DataFrame is highly fragmented.  This is usually the result of calling `frame.insert` many times, which has poor performance.  Consider joining all columns at once using pd.concat(axis=1) instead. To get a de-fragmented frame, use `newframe = frame.copy()`\n",
      "  features_train_en[\n",
      "/var/folders/8y/6qgr48pn4js29rkc2ts9hck80000gn/T/ipykernel_13926/1676008170.py:12: PerformanceWarning: DataFrame is highly fragmented.  This is usually the result of calling `frame.insert` many times, which has poor performance.  Consider joining all columns at once using pd.concat(axis=1) instead. To get a de-fragmented frame, use `newframe = frame.copy()`\n",
      "  features_train_en[\n",
      "/var/folders/8y/6qgr48pn4js29rkc2ts9hck80000gn/T/ipykernel_13926/1676008170.py:12: PerformanceWarning: DataFrame is highly fragmented.  This is usually the result of calling `frame.insert` many times, which has poor performance.  Consider joining all columns at once using pd.concat(axis=1) instead. To get a de-fragmented frame, use `newframe = frame.copy()`\n",
      "  features_train_en[\n",
      "/var/folders/8y/6qgr48pn4js29rkc2ts9hck80000gn/T/ipykernel_13926/1676008170.py:12: PerformanceWarning: DataFrame is highly fragmented.  This is usually the result of calling `frame.insert` many times, which has poor performance.  Consider joining all columns at once using pd.concat(axis=1) instead. To get a de-fragmented frame, use `newframe = frame.copy()`\n",
      "  features_train_en[\n",
      "/var/folders/8y/6qgr48pn4js29rkc2ts9hck80000gn/T/ipykernel_13926/1676008170.py:12: PerformanceWarning: DataFrame is highly fragmented.  This is usually the result of calling `frame.insert` many times, which has poor performance.  Consider joining all columns at once using pd.concat(axis=1) instead. To get a de-fragmented frame, use `newframe = frame.copy()`\n",
      "  features_train_en[\n",
      "/var/folders/8y/6qgr48pn4js29rkc2ts9hck80000gn/T/ipykernel_13926/1676008170.py:12: PerformanceWarning: DataFrame is highly fragmented.  This is usually the result of calling `frame.insert` many times, which has poor performance.  Consider joining all columns at once using pd.concat(axis=1) instead. To get a de-fragmented frame, use `newframe = frame.copy()`\n",
      "  features_train_en[\n",
      "/var/folders/8y/6qgr48pn4js29rkc2ts9hck80000gn/T/ipykernel_13926/1676008170.py:12: PerformanceWarning: DataFrame is highly fragmented.  This is usually the result of calling `frame.insert` many times, which has poor performance.  Consider joining all columns at once using pd.concat(axis=1) instead. To get a de-fragmented frame, use `newframe = frame.copy()`\n",
      "  features_train_en[\n",
      "/var/folders/8y/6qgr48pn4js29rkc2ts9hck80000gn/T/ipykernel_13926/1676008170.py:12: PerformanceWarning: DataFrame is highly fragmented.  This is usually the result of calling `frame.insert` many times, which has poor performance.  Consider joining all columns at once using pd.concat(axis=1) instead. To get a de-fragmented frame, use `newframe = frame.copy()`\n",
      "  features_train_en[\n",
      "/var/folders/8y/6qgr48pn4js29rkc2ts9hck80000gn/T/ipykernel_13926/1676008170.py:12: PerformanceWarning: DataFrame is highly fragmented.  This is usually the result of calling `frame.insert` many times, which has poor performance.  Consider joining all columns at once using pd.concat(axis=1) instead. To get a de-fragmented frame, use `newframe = frame.copy()`\n",
      "  features_train_en[\n",
      "/var/folders/8y/6qgr48pn4js29rkc2ts9hck80000gn/T/ipykernel_13926/1676008170.py:12: PerformanceWarning: DataFrame is highly fragmented.  This is usually the result of calling `frame.insert` many times, which has poor performance.  Consider joining all columns at once using pd.concat(axis=1) instead. To get a de-fragmented frame, use `newframe = frame.copy()`\n",
      "  features_train_en[\n",
      "/var/folders/8y/6qgr48pn4js29rkc2ts9hck80000gn/T/ipykernel_13926/1676008170.py:12: PerformanceWarning: DataFrame is highly fragmented.  This is usually the result of calling `frame.insert` many times, which has poor performance.  Consider joining all columns at once using pd.concat(axis=1) instead. To get a de-fragmented frame, use `newframe = frame.copy()`\n",
      "  features_train_en[\n",
      "/var/folders/8y/6qgr48pn4js29rkc2ts9hck80000gn/T/ipykernel_13926/1676008170.py:12: PerformanceWarning: DataFrame is highly fragmented.  This is usually the result of calling `frame.insert` many times, which has poor performance.  Consider joining all columns at once using pd.concat(axis=1) instead. To get a de-fragmented frame, use `newframe = frame.copy()`\n",
      "  features_train_en[\n",
      "/var/folders/8y/6qgr48pn4js29rkc2ts9hck80000gn/T/ipykernel_13926/1676008170.py:12: PerformanceWarning: DataFrame is highly fragmented.  This is usually the result of calling `frame.insert` many times, which has poor performance.  Consider joining all columns at once using pd.concat(axis=1) instead. To get a de-fragmented frame, use `newframe = frame.copy()`\n",
      "  features_train_en[\n",
      "/var/folders/8y/6qgr48pn4js29rkc2ts9hck80000gn/T/ipykernel_13926/1676008170.py:12: PerformanceWarning: DataFrame is highly fragmented.  This is usually the result of calling `frame.insert` many times, which has poor performance.  Consider joining all columns at once using pd.concat(axis=1) instead. To get a de-fragmented frame, use `newframe = frame.copy()`\n",
      "  features_train_en[\n",
      "/var/folders/8y/6qgr48pn4js29rkc2ts9hck80000gn/T/ipykernel_13926/1676008170.py:12: PerformanceWarning: DataFrame is highly fragmented.  This is usually the result of calling `frame.insert` many times, which has poor performance.  Consider joining all columns at once using pd.concat(axis=1) instead. To get a de-fragmented frame, use `newframe = frame.copy()`\n",
      "  features_train_en[\n",
      "/var/folders/8y/6qgr48pn4js29rkc2ts9hck80000gn/T/ipykernel_13926/1676008170.py:12: PerformanceWarning: DataFrame is highly fragmented.  This is usually the result of calling `frame.insert` many times, which has poor performance.  Consider joining all columns at once using pd.concat(axis=1) instead. To get a de-fragmented frame, use `newframe = frame.copy()`\n",
      "  features_train_en[\n",
      "/var/folders/8y/6qgr48pn4js29rkc2ts9hck80000gn/T/ipykernel_13926/1676008170.py:12: PerformanceWarning: DataFrame is highly fragmented.  This is usually the result of calling `frame.insert` many times, which has poor performance.  Consider joining all columns at once using pd.concat(axis=1) instead. To get a de-fragmented frame, use `newframe = frame.copy()`\n",
      "  features_train_en[\n",
      "/var/folders/8y/6qgr48pn4js29rkc2ts9hck80000gn/T/ipykernel_13926/1676008170.py:12: PerformanceWarning: DataFrame is highly fragmented.  This is usually the result of calling `frame.insert` many times, which has poor performance.  Consider joining all columns at once using pd.concat(axis=1) instead. To get a de-fragmented frame, use `newframe = frame.copy()`\n",
      "  features_train_en[\n",
      "/var/folders/8y/6qgr48pn4js29rkc2ts9hck80000gn/T/ipykernel_13926/1676008170.py:12: PerformanceWarning: DataFrame is highly fragmented.  This is usually the result of calling `frame.insert` many times, which has poor performance.  Consider joining all columns at once using pd.concat(axis=1) instead. To get a de-fragmented frame, use `newframe = frame.copy()`\n",
      "  features_train_en[\n",
      "/var/folders/8y/6qgr48pn4js29rkc2ts9hck80000gn/T/ipykernel_13926/1676008170.py:12: PerformanceWarning: DataFrame is highly fragmented.  This is usually the result of calling `frame.insert` many times, which has poor performance.  Consider joining all columns at once using pd.concat(axis=1) instead. To get a de-fragmented frame, use `newframe = frame.copy()`\n",
      "  features_train_en[\n",
      "/var/folders/8y/6qgr48pn4js29rkc2ts9hck80000gn/T/ipykernel_13926/1676008170.py:12: PerformanceWarning: DataFrame is highly fragmented.  This is usually the result of calling `frame.insert` many times, which has poor performance.  Consider joining all columns at once using pd.concat(axis=1) instead. To get a de-fragmented frame, use `newframe = frame.copy()`\n",
      "  features_train_en[\n",
      "/var/folders/8y/6qgr48pn4js29rkc2ts9hck80000gn/T/ipykernel_13926/1676008170.py:12: PerformanceWarning: DataFrame is highly fragmented.  This is usually the result of calling `frame.insert` many times, which has poor performance.  Consider joining all columns at once using pd.concat(axis=1) instead. To get a de-fragmented frame, use `newframe = frame.copy()`\n",
      "  features_train_en[\n",
      "/var/folders/8y/6qgr48pn4js29rkc2ts9hck80000gn/T/ipykernel_13926/1676008170.py:12: PerformanceWarning: DataFrame is highly fragmented.  This is usually the result of calling `frame.insert` many times, which has poor performance.  Consider joining all columns at once using pd.concat(axis=1) instead. To get a de-fragmented frame, use `newframe = frame.copy()`\n",
      "  features_train_en[\n",
      "/var/folders/8y/6qgr48pn4js29rkc2ts9hck80000gn/T/ipykernel_13926/1676008170.py:12: PerformanceWarning: DataFrame is highly fragmented.  This is usually the result of calling `frame.insert` many times, which has poor performance.  Consider joining all columns at once using pd.concat(axis=1) instead. To get a de-fragmented frame, use `newframe = frame.copy()`\n",
      "  features_train_en[\n",
      "/var/folders/8y/6qgr48pn4js29rkc2ts9hck80000gn/T/ipykernel_13926/1676008170.py:12: PerformanceWarning: DataFrame is highly fragmented.  This is usually the result of calling `frame.insert` many times, which has poor performance.  Consider joining all columns at once using pd.concat(axis=1) instead. To get a de-fragmented frame, use `newframe = frame.copy()`\n",
      "  features_train_en[\n",
      "/var/folders/8y/6qgr48pn4js29rkc2ts9hck80000gn/T/ipykernel_13926/1676008170.py:12: PerformanceWarning: DataFrame is highly fragmented.  This is usually the result of calling `frame.insert` many times, which has poor performance.  Consider joining all columns at once using pd.concat(axis=1) instead. To get a de-fragmented frame, use `newframe = frame.copy()`\n",
      "  features_train_en[\n",
      "/var/folders/8y/6qgr48pn4js29rkc2ts9hck80000gn/T/ipykernel_13926/1676008170.py:12: PerformanceWarning: DataFrame is highly fragmented.  This is usually the result of calling `frame.insert` many times, which has poor performance.  Consider joining all columns at once using pd.concat(axis=1) instead. To get a de-fragmented frame, use `newframe = frame.copy()`\n",
      "  features_train_en[\n",
      "/var/folders/8y/6qgr48pn4js29rkc2ts9hck80000gn/T/ipykernel_13926/1676008170.py:12: PerformanceWarning: DataFrame is highly fragmented.  This is usually the result of calling `frame.insert` many times, which has poor performance.  Consider joining all columns at once using pd.concat(axis=1) instead. To get a de-fragmented frame, use `newframe = frame.copy()`\n",
      "  features_train_en[\n",
      "/var/folders/8y/6qgr48pn4js29rkc2ts9hck80000gn/T/ipykernel_13926/1676008170.py:12: PerformanceWarning: DataFrame is highly fragmented.  This is usually the result of calling `frame.insert` many times, which has poor performance.  Consider joining all columns at once using pd.concat(axis=1) instead. To get a de-fragmented frame, use `newframe = frame.copy()`\n",
      "  features_train_en[\n",
      "/var/folders/8y/6qgr48pn4js29rkc2ts9hck80000gn/T/ipykernel_13926/1676008170.py:12: PerformanceWarning: DataFrame is highly fragmented.  This is usually the result of calling `frame.insert` many times, which has poor performance.  Consider joining all columns at once using pd.concat(axis=1) instead. To get a de-fragmented frame, use `newframe = frame.copy()`\n",
      "  features_train_en[\n",
      "/var/folders/8y/6qgr48pn4js29rkc2ts9hck80000gn/T/ipykernel_13926/1676008170.py:12: PerformanceWarning: DataFrame is highly fragmented.  This is usually the result of calling `frame.insert` many times, which has poor performance.  Consider joining all columns at once using pd.concat(axis=1) instead. To get a de-fragmented frame, use `newframe = frame.copy()`\n",
      "  features_train_en[\n",
      "/var/folders/8y/6qgr48pn4js29rkc2ts9hck80000gn/T/ipykernel_13926/1676008170.py:12: PerformanceWarning: DataFrame is highly fragmented.  This is usually the result of calling `frame.insert` many times, which has poor performance.  Consider joining all columns at once using pd.concat(axis=1) instead. To get a de-fragmented frame, use `newframe = frame.copy()`\n",
      "  features_train_en[\n",
      "/var/folders/8y/6qgr48pn4js29rkc2ts9hck80000gn/T/ipykernel_13926/1676008170.py:12: PerformanceWarning: DataFrame is highly fragmented.  This is usually the result of calling `frame.insert` many times, which has poor performance.  Consider joining all columns at once using pd.concat(axis=1) instead. To get a de-fragmented frame, use `newframe = frame.copy()`\n",
      "  features_train_en[\n",
      "/var/folders/8y/6qgr48pn4js29rkc2ts9hck80000gn/T/ipykernel_13926/1676008170.py:12: PerformanceWarning: DataFrame is highly fragmented.  This is usually the result of calling `frame.insert` many times, which has poor performance.  Consider joining all columns at once using pd.concat(axis=1) instead. To get a de-fragmented frame, use `newframe = frame.copy()`\n",
      "  features_train_en[\n",
      "/var/folders/8y/6qgr48pn4js29rkc2ts9hck80000gn/T/ipykernel_13926/1676008170.py:12: PerformanceWarning: DataFrame is highly fragmented.  This is usually the result of calling `frame.insert` many times, which has poor performance.  Consider joining all columns at once using pd.concat(axis=1) instead. To get a de-fragmented frame, use `newframe = frame.copy()`\n",
      "  features_train_en[\n",
      "/var/folders/8y/6qgr48pn4js29rkc2ts9hck80000gn/T/ipykernel_13926/1676008170.py:12: PerformanceWarning: DataFrame is highly fragmented.  This is usually the result of calling `frame.insert` many times, which has poor performance.  Consider joining all columns at once using pd.concat(axis=1) instead. To get a de-fragmented frame, use `newframe = frame.copy()`\n",
      "  features_train_en[\n",
      "/var/folders/8y/6qgr48pn4js29rkc2ts9hck80000gn/T/ipykernel_13926/1676008170.py:12: PerformanceWarning: DataFrame is highly fragmented.  This is usually the result of calling `frame.insert` many times, which has poor performance.  Consider joining all columns at once using pd.concat(axis=1) instead. To get a de-fragmented frame, use `newframe = frame.copy()`\n",
      "  features_train_en[\n",
      "/var/folders/8y/6qgr48pn4js29rkc2ts9hck80000gn/T/ipykernel_13926/1676008170.py:12: PerformanceWarning: DataFrame is highly fragmented.  This is usually the result of calling `frame.insert` many times, which has poor performance.  Consider joining all columns at once using pd.concat(axis=1) instead. To get a de-fragmented frame, use `newframe = frame.copy()`\n",
      "  features_train_en[\n",
      "/var/folders/8y/6qgr48pn4js29rkc2ts9hck80000gn/T/ipykernel_13926/1676008170.py:12: PerformanceWarning: DataFrame is highly fragmented.  This is usually the result of calling `frame.insert` many times, which has poor performance.  Consider joining all columns at once using pd.concat(axis=1) instead. To get a de-fragmented frame, use `newframe = frame.copy()`\n",
      "  features_train_en[\n",
      "/var/folders/8y/6qgr48pn4js29rkc2ts9hck80000gn/T/ipykernel_13926/1676008170.py:12: PerformanceWarning: DataFrame is highly fragmented.  This is usually the result of calling `frame.insert` many times, which has poor performance.  Consider joining all columns at once using pd.concat(axis=1) instead. To get a de-fragmented frame, use `newframe = frame.copy()`\n",
      "  features_train_en[\n",
      "/var/folders/8y/6qgr48pn4js29rkc2ts9hck80000gn/T/ipykernel_13926/1676008170.py:12: PerformanceWarning: DataFrame is highly fragmented.  This is usually the result of calling `frame.insert` many times, which has poor performance.  Consider joining all columns at once using pd.concat(axis=1) instead. To get a de-fragmented frame, use `newframe = frame.copy()`\n",
      "  features_train_en[\n",
      "/var/folders/8y/6qgr48pn4js29rkc2ts9hck80000gn/T/ipykernel_13926/1676008170.py:12: PerformanceWarning: DataFrame is highly fragmented.  This is usually the result of calling `frame.insert` many times, which has poor performance.  Consider joining all columns at once using pd.concat(axis=1) instead. To get a de-fragmented frame, use `newframe = frame.copy()`\n",
      "  features_train_en[\n",
      "/var/folders/8y/6qgr48pn4js29rkc2ts9hck80000gn/T/ipykernel_13926/1676008170.py:12: PerformanceWarning: DataFrame is highly fragmented.  This is usually the result of calling `frame.insert` many times, which has poor performance.  Consider joining all columns at once using pd.concat(axis=1) instead. To get a de-fragmented frame, use `newframe = frame.copy()`\n",
      "  features_train_en[\n",
      "/var/folders/8y/6qgr48pn4js29rkc2ts9hck80000gn/T/ipykernel_13926/1676008170.py:12: PerformanceWarning: DataFrame is highly fragmented.  This is usually the result of calling `frame.insert` many times, which has poor performance.  Consider joining all columns at once using pd.concat(axis=1) instead. To get a de-fragmented frame, use `newframe = frame.copy()`\n",
      "  features_train_en[\n",
      "/var/folders/8y/6qgr48pn4js29rkc2ts9hck80000gn/T/ipykernel_13926/1676008170.py:12: PerformanceWarning: DataFrame is highly fragmented.  This is usually the result of calling `frame.insert` many times, which has poor performance.  Consider joining all columns at once using pd.concat(axis=1) instead. To get a de-fragmented frame, use `newframe = frame.copy()`\n",
      "  features_train_en[\n",
      "/var/folders/8y/6qgr48pn4js29rkc2ts9hck80000gn/T/ipykernel_13926/1676008170.py:12: PerformanceWarning: DataFrame is highly fragmented.  This is usually the result of calling `frame.insert` many times, which has poor performance.  Consider joining all columns at once using pd.concat(axis=1) instead. To get a de-fragmented frame, use `newframe = frame.copy()`\n",
      "  features_train_en[\n",
      "/var/folders/8y/6qgr48pn4js29rkc2ts9hck80000gn/T/ipykernel_13926/1676008170.py:12: PerformanceWarning: DataFrame is highly fragmented.  This is usually the result of calling `frame.insert` many times, which has poor performance.  Consider joining all columns at once using pd.concat(axis=1) instead. To get a de-fragmented frame, use `newframe = frame.copy()`\n",
      "  features_train_en[\n",
      "/var/folders/8y/6qgr48pn4js29rkc2ts9hck80000gn/T/ipykernel_13926/1676008170.py:12: PerformanceWarning: DataFrame is highly fragmented.  This is usually the result of calling `frame.insert` many times, which has poor performance.  Consider joining all columns at once using pd.concat(axis=1) instead. To get a de-fragmented frame, use `newframe = frame.copy()`\n",
      "  features_train_en[\n",
      "/var/folders/8y/6qgr48pn4js29rkc2ts9hck80000gn/T/ipykernel_13926/1676008170.py:12: PerformanceWarning: DataFrame is highly fragmented.  This is usually the result of calling `frame.insert` many times, which has poor performance.  Consider joining all columns at once using pd.concat(axis=1) instead. To get a de-fragmented frame, use `newframe = frame.copy()`\n",
      "  features_train_en[\n",
      "/var/folders/8y/6qgr48pn4js29rkc2ts9hck80000gn/T/ipykernel_13926/1676008170.py:12: PerformanceWarning: DataFrame is highly fragmented.  This is usually the result of calling `frame.insert` many times, which has poor performance.  Consider joining all columns at once using pd.concat(axis=1) instead. To get a de-fragmented frame, use `newframe = frame.copy()`\n",
      "  features_train_en[\n",
      "/var/folders/8y/6qgr48pn4js29rkc2ts9hck80000gn/T/ipykernel_13926/1676008170.py:12: PerformanceWarning: DataFrame is highly fragmented.  This is usually the result of calling `frame.insert` many times, which has poor performance.  Consider joining all columns at once using pd.concat(axis=1) instead. To get a de-fragmented frame, use `newframe = frame.copy()`\n",
      "  features_train_en[\n",
      "/var/folders/8y/6qgr48pn4js29rkc2ts9hck80000gn/T/ipykernel_13926/1676008170.py:12: PerformanceWarning: DataFrame is highly fragmented.  This is usually the result of calling `frame.insert` many times, which has poor performance.  Consider joining all columns at once using pd.concat(axis=1) instead. To get a de-fragmented frame, use `newframe = frame.copy()`\n",
      "  features_train_en[\n",
      "/var/folders/8y/6qgr48pn4js29rkc2ts9hck80000gn/T/ipykernel_13926/1676008170.py:12: PerformanceWarning: DataFrame is highly fragmented.  This is usually the result of calling `frame.insert` many times, which has poor performance.  Consider joining all columns at once using pd.concat(axis=1) instead. To get a de-fragmented frame, use `newframe = frame.copy()`\n",
      "  features_train_en[\n",
      "/var/folders/8y/6qgr48pn4js29rkc2ts9hck80000gn/T/ipykernel_13926/1676008170.py:12: PerformanceWarning: DataFrame is highly fragmented.  This is usually the result of calling `frame.insert` many times, which has poor performance.  Consider joining all columns at once using pd.concat(axis=1) instead. To get a de-fragmented frame, use `newframe = frame.copy()`\n",
      "  features_train_en[\n"
     ]
    }
   ],
   "source": [
    "# drop='first' удаляет первый признак из закодированных:\n",
    "# таким образом обходим dummy-ловушку\n",
    "# задаём handle_unknown='ignore':\n",
    "# игнорируется ранее невстречающиеся значения признака (при transform)\n",
    "encoder_ohe = OneHotEncoder(drop='first', handle_unknown='ignore', sparse=False)\n",
    "\n",
    "# обучаем энкодер на заданных категориальных признаках тренировочной выборки\n",
    "encoder_ohe.fit(features_train_en[cat_features])\n",
    "\n",
    "# добавляем закодированные признаки в features_train_ohe\n",
    "# encoder_ohe.get_feature_names_out() позволяет получить названия колонок\n",
    "features_train_en[\n",
    "    encoder_ohe.get_feature_names_out()\n",
    "] = encoder_ohe.transform(features_train_en[cat_features])\n",
    "\n",
    "# удаляем незакодированные категориальные признаки (изначальные колонки)\n",
    "features_train_en = features_train_en.drop(cat_features, axis=1)\n",
    "\n",
    "# создаём скелер\n",
    "#scaler = StandardScaler()\n",
    "\n",
    "# обучаем его на численных признаках тренировочной выборки, трансформируем её же\n",
    "#features_train_en[num_features] = scaler.fit_transform(features_train_en[num_features])"
   ]
  },
  {
   "cell_type": "code",
   "execution_count": 85,
   "metadata": {},
   "outputs": [
    {
     "data": {
      "text/html": [
       "<div>\n",
       "<style scoped>\n",
       "    .dataframe tbody tr th:only-of-type {\n",
       "        vertical-align: middle;\n",
       "    }\n",
       "\n",
       "    .dataframe tbody tr th {\n",
       "        vertical-align: top;\n",
       "    }\n",
       "\n",
       "    .dataframe thead th {\n",
       "        text-align: right;\n",
       "    }\n",
       "</style>\n",
       "<table border=\"1\" class=\"dataframe\">\n",
       "  <thead>\n",
       "    <tr style=\"text-align: right;\">\n",
       "      <th></th>\n",
       "      <th>power</th>\n",
       "      <th>kilometer</th>\n",
       "      <th>age</th>\n",
       "      <th>vehicle_type_convertible</th>\n",
       "      <th>vehicle_type_coupe</th>\n",
       "      <th>vehicle_type_other</th>\n",
       "      <th>vehicle_type_sedan</th>\n",
       "      <th>vehicle_type_small</th>\n",
       "      <th>vehicle_type_suv</th>\n",
       "      <th>vehicle_type_unknown</th>\n",
       "      <th>...</th>\n",
       "      <th>brand_smart</th>\n",
       "      <th>brand_sonstige_autos</th>\n",
       "      <th>brand_subaru</th>\n",
       "      <th>brand_suzuki</th>\n",
       "      <th>brand_toyota</th>\n",
       "      <th>brand_trabant</th>\n",
       "      <th>brand_volkswagen</th>\n",
       "      <th>brand_volvo</th>\n",
       "      <th>repaired_unknown</th>\n",
       "      <th>repaired_yes</th>\n",
       "    </tr>\n",
       "  </thead>\n",
       "  <tbody>\n",
       "    <tr>\n",
       "      <th>287884</th>\n",
       "      <td>115</td>\n",
       "      <td>150000</td>\n",
       "      <td>10</td>\n",
       "      <td>0.0</td>\n",
       "      <td>0.0</td>\n",
       "      <td>0.0</td>\n",
       "      <td>0.0</td>\n",
       "      <td>0.0</td>\n",
       "      <td>0.0</td>\n",
       "      <td>0.0</td>\n",
       "      <td>...</td>\n",
       "      <td>0.0</td>\n",
       "      <td>0.0</td>\n",
       "      <td>0.0</td>\n",
       "      <td>0.0</td>\n",
       "      <td>0.0</td>\n",
       "      <td>0.0</td>\n",
       "      <td>0.0</td>\n",
       "      <td>0.0</td>\n",
       "      <td>0.0</td>\n",
       "      <td>0.0</td>\n",
       "    </tr>\n",
       "    <tr>\n",
       "      <th>10497</th>\n",
       "      <td>60</td>\n",
       "      <td>70000</td>\n",
       "      <td>7</td>\n",
       "      <td>0.0</td>\n",
       "      <td>0.0</td>\n",
       "      <td>0.0</td>\n",
       "      <td>0.0</td>\n",
       "      <td>1.0</td>\n",
       "      <td>0.0</td>\n",
       "      <td>0.0</td>\n",
       "      <td>...</td>\n",
       "      <td>0.0</td>\n",
       "      <td>0.0</td>\n",
       "      <td>0.0</td>\n",
       "      <td>0.0</td>\n",
       "      <td>0.0</td>\n",
       "      <td>0.0</td>\n",
       "      <td>0.0</td>\n",
       "      <td>0.0</td>\n",
       "      <td>0.0</td>\n",
       "      <td>0.0</td>\n",
       "    </tr>\n",
       "    <tr>\n",
       "      <th>246540</th>\n",
       "      <td>90</td>\n",
       "      <td>150000</td>\n",
       "      <td>9</td>\n",
       "      <td>0.0</td>\n",
       "      <td>0.0</td>\n",
       "      <td>0.0</td>\n",
       "      <td>1.0</td>\n",
       "      <td>0.0</td>\n",
       "      <td>0.0</td>\n",
       "      <td>0.0</td>\n",
       "      <td>...</td>\n",
       "      <td>0.0</td>\n",
       "      <td>0.0</td>\n",
       "      <td>0.0</td>\n",
       "      <td>0.0</td>\n",
       "      <td>0.0</td>\n",
       "      <td>0.0</td>\n",
       "      <td>0.0</td>\n",
       "      <td>0.0</td>\n",
       "      <td>0.0</td>\n",
       "      <td>0.0</td>\n",
       "    </tr>\n",
       "    <tr>\n",
       "      <th>179449</th>\n",
       "      <td>231</td>\n",
       "      <td>80000</td>\n",
       "      <td>12</td>\n",
       "      <td>0.0</td>\n",
       "      <td>0.0</td>\n",
       "      <td>0.0</td>\n",
       "      <td>1.0</td>\n",
       "      <td>0.0</td>\n",
       "      <td>0.0</td>\n",
       "      <td>0.0</td>\n",
       "      <td>...</td>\n",
       "      <td>0.0</td>\n",
       "      <td>0.0</td>\n",
       "      <td>0.0</td>\n",
       "      <td>0.0</td>\n",
       "      <td>0.0</td>\n",
       "      <td>0.0</td>\n",
       "      <td>0.0</td>\n",
       "      <td>0.0</td>\n",
       "      <td>0.0</td>\n",
       "      <td>0.0</td>\n",
       "    </tr>\n",
       "    <tr>\n",
       "      <th>346641</th>\n",
       "      <td>68</td>\n",
       "      <td>80000</td>\n",
       "      <td>8</td>\n",
       "      <td>0.0</td>\n",
       "      <td>0.0</td>\n",
       "      <td>0.0</td>\n",
       "      <td>0.0</td>\n",
       "      <td>1.0</td>\n",
       "      <td>0.0</td>\n",
       "      <td>0.0</td>\n",
       "      <td>...</td>\n",
       "      <td>0.0</td>\n",
       "      <td>0.0</td>\n",
       "      <td>0.0</td>\n",
       "      <td>0.0</td>\n",
       "      <td>1.0</td>\n",
       "      <td>0.0</td>\n",
       "      <td>0.0</td>\n",
       "      <td>0.0</td>\n",
       "      <td>0.0</td>\n",
       "      <td>0.0</td>\n",
       "    </tr>\n",
       "  </tbody>\n",
       "</table>\n",
       "<p>5 rows × 305 columns</p>\n",
       "</div>"
      ],
      "text/plain": [
       "        power  kilometer  age  vehicle_type_convertible  vehicle_type_coupe  \\\n",
       "287884    115     150000   10                       0.0                 0.0   \n",
       "10497      60      70000    7                       0.0                 0.0   \n",
       "246540     90     150000    9                       0.0                 0.0   \n",
       "179449    231      80000   12                       0.0                 0.0   \n",
       "346641     68      80000    8                       0.0                 0.0   \n",
       "\n",
       "        vehicle_type_other  vehicle_type_sedan  vehicle_type_small  \\\n",
       "287884                 0.0                 0.0                 0.0   \n",
       "10497                  0.0                 0.0                 1.0   \n",
       "246540                 0.0                 1.0                 0.0   \n",
       "179449                 0.0                 1.0                 0.0   \n",
       "346641                 0.0                 0.0                 1.0   \n",
       "\n",
       "        vehicle_type_suv  vehicle_type_unknown  ...  brand_smart  \\\n",
       "287884               0.0                   0.0  ...          0.0   \n",
       "10497                0.0                   0.0  ...          0.0   \n",
       "246540               0.0                   0.0  ...          0.0   \n",
       "179449               0.0                   0.0  ...          0.0   \n",
       "346641               0.0                   0.0  ...          0.0   \n",
       "\n",
       "        brand_sonstige_autos  brand_subaru  brand_suzuki  brand_toyota  \\\n",
       "287884                   0.0           0.0           0.0           0.0   \n",
       "10497                    0.0           0.0           0.0           0.0   \n",
       "246540                   0.0           0.0           0.0           0.0   \n",
       "179449                   0.0           0.0           0.0           0.0   \n",
       "346641                   0.0           0.0           0.0           1.0   \n",
       "\n",
       "        brand_trabant  brand_volkswagen  brand_volvo  repaired_unknown  \\\n",
       "287884            0.0               0.0          0.0               0.0   \n",
       "10497             0.0               0.0          0.0               0.0   \n",
       "246540            0.0               0.0          0.0               0.0   \n",
       "179449            0.0               0.0          0.0               0.0   \n",
       "346641            0.0               0.0          0.0               0.0   \n",
       "\n",
       "        repaired_yes  \n",
       "287884           0.0  \n",
       "10497            0.0  \n",
       "246540           0.0  \n",
       "179449           0.0  \n",
       "346641           0.0  \n",
       "\n",
       "[5 rows x 305 columns]"
      ]
     },
     "execution_count": 85,
     "metadata": {},
     "output_type": "execute_result"
    }
   ],
   "source": [
    "# смотрим на результат\n",
    "features_train_en.head()"
   ]
  },
  {
   "cell_type": "code",
   "execution_count": 87,
   "metadata": {},
   "outputs": [
    {
     "name": "stderr",
     "output_type": "stream",
     "text": [
      "/var/folders/8y/6qgr48pn4js29rkc2ts9hck80000gn/T/ipykernel_13926/2404999408.py:2: PerformanceWarning: DataFrame is highly fragmented.  This is usually the result of calling `frame.insert` many times, which has poor performance.  Consider joining all columns at once using pd.concat(axis=1) instead. To get a de-fragmented frame, use `newframe = frame.copy()`\n",
      "  features_valid_en[\n",
      "/var/folders/8y/6qgr48pn4js29rkc2ts9hck80000gn/T/ipykernel_13926/2404999408.py:2: PerformanceWarning: DataFrame is highly fragmented.  This is usually the result of calling `frame.insert` many times, which has poor performance.  Consider joining all columns at once using pd.concat(axis=1) instead. To get a de-fragmented frame, use `newframe = frame.copy()`\n",
      "  features_valid_en[\n",
      "/var/folders/8y/6qgr48pn4js29rkc2ts9hck80000gn/T/ipykernel_13926/2404999408.py:2: PerformanceWarning: DataFrame is highly fragmented.  This is usually the result of calling `frame.insert` many times, which has poor performance.  Consider joining all columns at once using pd.concat(axis=1) instead. To get a de-fragmented frame, use `newframe = frame.copy()`\n",
      "  features_valid_en[\n",
      "/var/folders/8y/6qgr48pn4js29rkc2ts9hck80000gn/T/ipykernel_13926/2404999408.py:2: PerformanceWarning: DataFrame is highly fragmented.  This is usually the result of calling `frame.insert` many times, which has poor performance.  Consider joining all columns at once using pd.concat(axis=1) instead. To get a de-fragmented frame, use `newframe = frame.copy()`\n",
      "  features_valid_en[\n",
      "/var/folders/8y/6qgr48pn4js29rkc2ts9hck80000gn/T/ipykernel_13926/2404999408.py:2: PerformanceWarning: DataFrame is highly fragmented.  This is usually the result of calling `frame.insert` many times, which has poor performance.  Consider joining all columns at once using pd.concat(axis=1) instead. To get a de-fragmented frame, use `newframe = frame.copy()`\n",
      "  features_valid_en[\n",
      "/var/folders/8y/6qgr48pn4js29rkc2ts9hck80000gn/T/ipykernel_13926/2404999408.py:2: PerformanceWarning: DataFrame is highly fragmented.  This is usually the result of calling `frame.insert` many times, which has poor performance.  Consider joining all columns at once using pd.concat(axis=1) instead. To get a de-fragmented frame, use `newframe = frame.copy()`\n",
      "  features_valid_en[\n",
      "/var/folders/8y/6qgr48pn4js29rkc2ts9hck80000gn/T/ipykernel_13926/2404999408.py:2: PerformanceWarning: DataFrame is highly fragmented.  This is usually the result of calling `frame.insert` many times, which has poor performance.  Consider joining all columns at once using pd.concat(axis=1) instead. To get a de-fragmented frame, use `newframe = frame.copy()`\n",
      "  features_valid_en[\n",
      "/var/folders/8y/6qgr48pn4js29rkc2ts9hck80000gn/T/ipykernel_13926/2404999408.py:2: PerformanceWarning: DataFrame is highly fragmented.  This is usually the result of calling `frame.insert` many times, which has poor performance.  Consider joining all columns at once using pd.concat(axis=1) instead. To get a de-fragmented frame, use `newframe = frame.copy()`\n",
      "  features_valid_en[\n",
      "/var/folders/8y/6qgr48pn4js29rkc2ts9hck80000gn/T/ipykernel_13926/2404999408.py:2: PerformanceWarning: DataFrame is highly fragmented.  This is usually the result of calling `frame.insert` many times, which has poor performance.  Consider joining all columns at once using pd.concat(axis=1) instead. To get a de-fragmented frame, use `newframe = frame.copy()`\n",
      "  features_valid_en[\n",
      "/var/folders/8y/6qgr48pn4js29rkc2ts9hck80000gn/T/ipykernel_13926/2404999408.py:2: PerformanceWarning: DataFrame is highly fragmented.  This is usually the result of calling `frame.insert` many times, which has poor performance.  Consider joining all columns at once using pd.concat(axis=1) instead. To get a de-fragmented frame, use `newframe = frame.copy()`\n",
      "  features_valid_en[\n",
      "/var/folders/8y/6qgr48pn4js29rkc2ts9hck80000gn/T/ipykernel_13926/2404999408.py:2: PerformanceWarning: DataFrame is highly fragmented.  This is usually the result of calling `frame.insert` many times, which has poor performance.  Consider joining all columns at once using pd.concat(axis=1) instead. To get a de-fragmented frame, use `newframe = frame.copy()`\n",
      "  features_valid_en[\n",
      "/var/folders/8y/6qgr48pn4js29rkc2ts9hck80000gn/T/ipykernel_13926/2404999408.py:2: PerformanceWarning: DataFrame is highly fragmented.  This is usually the result of calling `frame.insert` many times, which has poor performance.  Consider joining all columns at once using pd.concat(axis=1) instead. To get a de-fragmented frame, use `newframe = frame.copy()`\n",
      "  features_valid_en[\n",
      "/var/folders/8y/6qgr48pn4js29rkc2ts9hck80000gn/T/ipykernel_13926/2404999408.py:2: PerformanceWarning: DataFrame is highly fragmented.  This is usually the result of calling `frame.insert` many times, which has poor performance.  Consider joining all columns at once using pd.concat(axis=1) instead. To get a de-fragmented frame, use `newframe = frame.copy()`\n",
      "  features_valid_en[\n",
      "/var/folders/8y/6qgr48pn4js29rkc2ts9hck80000gn/T/ipykernel_13926/2404999408.py:2: PerformanceWarning: DataFrame is highly fragmented.  This is usually the result of calling `frame.insert` many times, which has poor performance.  Consider joining all columns at once using pd.concat(axis=1) instead. To get a de-fragmented frame, use `newframe = frame.copy()`\n",
      "  features_valid_en[\n",
      "/var/folders/8y/6qgr48pn4js29rkc2ts9hck80000gn/T/ipykernel_13926/2404999408.py:2: PerformanceWarning: DataFrame is highly fragmented.  This is usually the result of calling `frame.insert` many times, which has poor performance.  Consider joining all columns at once using pd.concat(axis=1) instead. To get a de-fragmented frame, use `newframe = frame.copy()`\n",
      "  features_valid_en[\n",
      "/var/folders/8y/6qgr48pn4js29rkc2ts9hck80000gn/T/ipykernel_13926/2404999408.py:2: PerformanceWarning: DataFrame is highly fragmented.  This is usually the result of calling `frame.insert` many times, which has poor performance.  Consider joining all columns at once using pd.concat(axis=1) instead. To get a de-fragmented frame, use `newframe = frame.copy()`\n",
      "  features_valid_en[\n",
      "/var/folders/8y/6qgr48pn4js29rkc2ts9hck80000gn/T/ipykernel_13926/2404999408.py:2: PerformanceWarning: DataFrame is highly fragmented.  This is usually the result of calling `frame.insert` many times, which has poor performance.  Consider joining all columns at once using pd.concat(axis=1) instead. To get a de-fragmented frame, use `newframe = frame.copy()`\n",
      "  features_valid_en[\n",
      "/var/folders/8y/6qgr48pn4js29rkc2ts9hck80000gn/T/ipykernel_13926/2404999408.py:2: PerformanceWarning: DataFrame is highly fragmented.  This is usually the result of calling `frame.insert` many times, which has poor performance.  Consider joining all columns at once using pd.concat(axis=1) instead. To get a de-fragmented frame, use `newframe = frame.copy()`\n",
      "  features_valid_en[\n",
      "/var/folders/8y/6qgr48pn4js29rkc2ts9hck80000gn/T/ipykernel_13926/2404999408.py:2: PerformanceWarning: DataFrame is highly fragmented.  This is usually the result of calling `frame.insert` many times, which has poor performance.  Consider joining all columns at once using pd.concat(axis=1) instead. To get a de-fragmented frame, use `newframe = frame.copy()`\n",
      "  features_valid_en[\n",
      "/var/folders/8y/6qgr48pn4js29rkc2ts9hck80000gn/T/ipykernel_13926/2404999408.py:2: PerformanceWarning: DataFrame is highly fragmented.  This is usually the result of calling `frame.insert` many times, which has poor performance.  Consider joining all columns at once using pd.concat(axis=1) instead. To get a de-fragmented frame, use `newframe = frame.copy()`\n",
      "  features_valid_en[\n",
      "/var/folders/8y/6qgr48pn4js29rkc2ts9hck80000gn/T/ipykernel_13926/2404999408.py:2: PerformanceWarning: DataFrame is highly fragmented.  This is usually the result of calling `frame.insert` many times, which has poor performance.  Consider joining all columns at once using pd.concat(axis=1) instead. To get a de-fragmented frame, use `newframe = frame.copy()`\n",
      "  features_valid_en[\n",
      "/var/folders/8y/6qgr48pn4js29rkc2ts9hck80000gn/T/ipykernel_13926/2404999408.py:2: PerformanceWarning: DataFrame is highly fragmented.  This is usually the result of calling `frame.insert` many times, which has poor performance.  Consider joining all columns at once using pd.concat(axis=1) instead. To get a de-fragmented frame, use `newframe = frame.copy()`\n",
      "  features_valid_en[\n",
      "/var/folders/8y/6qgr48pn4js29rkc2ts9hck80000gn/T/ipykernel_13926/2404999408.py:2: PerformanceWarning: DataFrame is highly fragmented.  This is usually the result of calling `frame.insert` many times, which has poor performance.  Consider joining all columns at once using pd.concat(axis=1) instead. To get a de-fragmented frame, use `newframe = frame.copy()`\n",
      "  features_valid_en[\n",
      "/var/folders/8y/6qgr48pn4js29rkc2ts9hck80000gn/T/ipykernel_13926/2404999408.py:2: PerformanceWarning: DataFrame is highly fragmented.  This is usually the result of calling `frame.insert` many times, which has poor performance.  Consider joining all columns at once using pd.concat(axis=1) instead. To get a de-fragmented frame, use `newframe = frame.copy()`\n",
      "  features_valid_en[\n",
      "/var/folders/8y/6qgr48pn4js29rkc2ts9hck80000gn/T/ipykernel_13926/2404999408.py:2: PerformanceWarning: DataFrame is highly fragmented.  This is usually the result of calling `frame.insert` many times, which has poor performance.  Consider joining all columns at once using pd.concat(axis=1) instead. To get a de-fragmented frame, use `newframe = frame.copy()`\n",
      "  features_valid_en[\n",
      "/var/folders/8y/6qgr48pn4js29rkc2ts9hck80000gn/T/ipykernel_13926/2404999408.py:2: PerformanceWarning: DataFrame is highly fragmented.  This is usually the result of calling `frame.insert` many times, which has poor performance.  Consider joining all columns at once using pd.concat(axis=1) instead. To get a de-fragmented frame, use `newframe = frame.copy()`\n",
      "  features_valid_en[\n",
      "/var/folders/8y/6qgr48pn4js29rkc2ts9hck80000gn/T/ipykernel_13926/2404999408.py:2: PerformanceWarning: DataFrame is highly fragmented.  This is usually the result of calling `frame.insert` many times, which has poor performance.  Consider joining all columns at once using pd.concat(axis=1) instead. To get a de-fragmented frame, use `newframe = frame.copy()`\n",
      "  features_valid_en[\n",
      "/var/folders/8y/6qgr48pn4js29rkc2ts9hck80000gn/T/ipykernel_13926/2404999408.py:2: PerformanceWarning: DataFrame is highly fragmented.  This is usually the result of calling `frame.insert` many times, which has poor performance.  Consider joining all columns at once using pd.concat(axis=1) instead. To get a de-fragmented frame, use `newframe = frame.copy()`\n",
      "  features_valid_en[\n",
      "/var/folders/8y/6qgr48pn4js29rkc2ts9hck80000gn/T/ipykernel_13926/2404999408.py:2: PerformanceWarning: DataFrame is highly fragmented.  This is usually the result of calling `frame.insert` many times, which has poor performance.  Consider joining all columns at once using pd.concat(axis=1) instead. To get a de-fragmented frame, use `newframe = frame.copy()`\n",
      "  features_valid_en[\n",
      "/var/folders/8y/6qgr48pn4js29rkc2ts9hck80000gn/T/ipykernel_13926/2404999408.py:2: PerformanceWarning: DataFrame is highly fragmented.  This is usually the result of calling `frame.insert` many times, which has poor performance.  Consider joining all columns at once using pd.concat(axis=1) instead. To get a de-fragmented frame, use `newframe = frame.copy()`\n",
      "  features_valid_en[\n",
      "/var/folders/8y/6qgr48pn4js29rkc2ts9hck80000gn/T/ipykernel_13926/2404999408.py:2: PerformanceWarning: DataFrame is highly fragmented.  This is usually the result of calling `frame.insert` many times, which has poor performance.  Consider joining all columns at once using pd.concat(axis=1) instead. To get a de-fragmented frame, use `newframe = frame.copy()`\n",
      "  features_valid_en[\n",
      "/var/folders/8y/6qgr48pn4js29rkc2ts9hck80000gn/T/ipykernel_13926/2404999408.py:2: PerformanceWarning: DataFrame is highly fragmented.  This is usually the result of calling `frame.insert` many times, which has poor performance.  Consider joining all columns at once using pd.concat(axis=1) instead. To get a de-fragmented frame, use `newframe = frame.copy()`\n",
      "  features_valid_en[\n",
      "/var/folders/8y/6qgr48pn4js29rkc2ts9hck80000gn/T/ipykernel_13926/2404999408.py:2: PerformanceWarning: DataFrame is highly fragmented.  This is usually the result of calling `frame.insert` many times, which has poor performance.  Consider joining all columns at once using pd.concat(axis=1) instead. To get a de-fragmented frame, use `newframe = frame.copy()`\n",
      "  features_valid_en[\n",
      "/var/folders/8y/6qgr48pn4js29rkc2ts9hck80000gn/T/ipykernel_13926/2404999408.py:2: PerformanceWarning: DataFrame is highly fragmented.  This is usually the result of calling `frame.insert` many times, which has poor performance.  Consider joining all columns at once using pd.concat(axis=1) instead. To get a de-fragmented frame, use `newframe = frame.copy()`\n",
      "  features_valid_en[\n",
      "/var/folders/8y/6qgr48pn4js29rkc2ts9hck80000gn/T/ipykernel_13926/2404999408.py:2: PerformanceWarning: DataFrame is highly fragmented.  This is usually the result of calling `frame.insert` many times, which has poor performance.  Consider joining all columns at once using pd.concat(axis=1) instead. To get a de-fragmented frame, use `newframe = frame.copy()`\n",
      "  features_valid_en[\n",
      "/var/folders/8y/6qgr48pn4js29rkc2ts9hck80000gn/T/ipykernel_13926/2404999408.py:2: PerformanceWarning: DataFrame is highly fragmented.  This is usually the result of calling `frame.insert` many times, which has poor performance.  Consider joining all columns at once using pd.concat(axis=1) instead. To get a de-fragmented frame, use `newframe = frame.copy()`\n",
      "  features_valid_en[\n",
      "/var/folders/8y/6qgr48pn4js29rkc2ts9hck80000gn/T/ipykernel_13926/2404999408.py:2: PerformanceWarning: DataFrame is highly fragmented.  This is usually the result of calling `frame.insert` many times, which has poor performance.  Consider joining all columns at once using pd.concat(axis=1) instead. To get a de-fragmented frame, use `newframe = frame.copy()`\n",
      "  features_valid_en[\n",
      "/var/folders/8y/6qgr48pn4js29rkc2ts9hck80000gn/T/ipykernel_13926/2404999408.py:2: PerformanceWarning: DataFrame is highly fragmented.  This is usually the result of calling `frame.insert` many times, which has poor performance.  Consider joining all columns at once using pd.concat(axis=1) instead. To get a de-fragmented frame, use `newframe = frame.copy()`\n",
      "  features_valid_en[\n",
      "/var/folders/8y/6qgr48pn4js29rkc2ts9hck80000gn/T/ipykernel_13926/2404999408.py:2: PerformanceWarning: DataFrame is highly fragmented.  This is usually the result of calling `frame.insert` many times, which has poor performance.  Consider joining all columns at once using pd.concat(axis=1) instead. To get a de-fragmented frame, use `newframe = frame.copy()`\n",
      "  features_valid_en[\n",
      "/var/folders/8y/6qgr48pn4js29rkc2ts9hck80000gn/T/ipykernel_13926/2404999408.py:2: PerformanceWarning: DataFrame is highly fragmented.  This is usually the result of calling `frame.insert` many times, which has poor performance.  Consider joining all columns at once using pd.concat(axis=1) instead. To get a de-fragmented frame, use `newframe = frame.copy()`\n",
      "  features_valid_en[\n",
      "/var/folders/8y/6qgr48pn4js29rkc2ts9hck80000gn/T/ipykernel_13926/2404999408.py:2: PerformanceWarning: DataFrame is highly fragmented.  This is usually the result of calling `frame.insert` many times, which has poor performance.  Consider joining all columns at once using pd.concat(axis=1) instead. To get a de-fragmented frame, use `newframe = frame.copy()`\n",
      "  features_valid_en[\n",
      "/var/folders/8y/6qgr48pn4js29rkc2ts9hck80000gn/T/ipykernel_13926/2404999408.py:2: PerformanceWarning: DataFrame is highly fragmented.  This is usually the result of calling `frame.insert` many times, which has poor performance.  Consider joining all columns at once using pd.concat(axis=1) instead. To get a de-fragmented frame, use `newframe = frame.copy()`\n",
      "  features_valid_en[\n",
      "/var/folders/8y/6qgr48pn4js29rkc2ts9hck80000gn/T/ipykernel_13926/2404999408.py:2: PerformanceWarning: DataFrame is highly fragmented.  This is usually the result of calling `frame.insert` many times, which has poor performance.  Consider joining all columns at once using pd.concat(axis=1) instead. To get a de-fragmented frame, use `newframe = frame.copy()`\n",
      "  features_valid_en[\n",
      "/var/folders/8y/6qgr48pn4js29rkc2ts9hck80000gn/T/ipykernel_13926/2404999408.py:2: PerformanceWarning: DataFrame is highly fragmented.  This is usually the result of calling `frame.insert` many times, which has poor performance.  Consider joining all columns at once using pd.concat(axis=1) instead. To get a de-fragmented frame, use `newframe = frame.copy()`\n",
      "  features_valid_en[\n",
      "/var/folders/8y/6qgr48pn4js29rkc2ts9hck80000gn/T/ipykernel_13926/2404999408.py:2: PerformanceWarning: DataFrame is highly fragmented.  This is usually the result of calling `frame.insert` many times, which has poor performance.  Consider joining all columns at once using pd.concat(axis=1) instead. To get a de-fragmented frame, use `newframe = frame.copy()`\n",
      "  features_valid_en[\n",
      "/var/folders/8y/6qgr48pn4js29rkc2ts9hck80000gn/T/ipykernel_13926/2404999408.py:2: PerformanceWarning: DataFrame is highly fragmented.  This is usually the result of calling `frame.insert` many times, which has poor performance.  Consider joining all columns at once using pd.concat(axis=1) instead. To get a de-fragmented frame, use `newframe = frame.copy()`\n",
      "  features_valid_en[\n",
      "/var/folders/8y/6qgr48pn4js29rkc2ts9hck80000gn/T/ipykernel_13926/2404999408.py:2: PerformanceWarning: DataFrame is highly fragmented.  This is usually the result of calling `frame.insert` many times, which has poor performance.  Consider joining all columns at once using pd.concat(axis=1) instead. To get a de-fragmented frame, use `newframe = frame.copy()`\n",
      "  features_valid_en[\n",
      "/var/folders/8y/6qgr48pn4js29rkc2ts9hck80000gn/T/ipykernel_13926/2404999408.py:2: PerformanceWarning: DataFrame is highly fragmented.  This is usually the result of calling `frame.insert` many times, which has poor performance.  Consider joining all columns at once using pd.concat(axis=1) instead. To get a de-fragmented frame, use `newframe = frame.copy()`\n",
      "  features_valid_en[\n",
      "/var/folders/8y/6qgr48pn4js29rkc2ts9hck80000gn/T/ipykernel_13926/2404999408.py:2: PerformanceWarning: DataFrame is highly fragmented.  This is usually the result of calling `frame.insert` many times, which has poor performance.  Consider joining all columns at once using pd.concat(axis=1) instead. To get a de-fragmented frame, use `newframe = frame.copy()`\n",
      "  features_valid_en[\n",
      "/var/folders/8y/6qgr48pn4js29rkc2ts9hck80000gn/T/ipykernel_13926/2404999408.py:2: PerformanceWarning: DataFrame is highly fragmented.  This is usually the result of calling `frame.insert` many times, which has poor performance.  Consider joining all columns at once using pd.concat(axis=1) instead. To get a de-fragmented frame, use `newframe = frame.copy()`\n",
      "  features_valid_en[\n",
      "/var/folders/8y/6qgr48pn4js29rkc2ts9hck80000gn/T/ipykernel_13926/2404999408.py:2: PerformanceWarning: DataFrame is highly fragmented.  This is usually the result of calling `frame.insert` many times, which has poor performance.  Consider joining all columns at once using pd.concat(axis=1) instead. To get a de-fragmented frame, use `newframe = frame.copy()`\n",
      "  features_valid_en[\n",
      "/var/folders/8y/6qgr48pn4js29rkc2ts9hck80000gn/T/ipykernel_13926/2404999408.py:2: PerformanceWarning: DataFrame is highly fragmented.  This is usually the result of calling `frame.insert` many times, which has poor performance.  Consider joining all columns at once using pd.concat(axis=1) instead. To get a de-fragmented frame, use `newframe = frame.copy()`\n",
      "  features_valid_en[\n",
      "/var/folders/8y/6qgr48pn4js29rkc2ts9hck80000gn/T/ipykernel_13926/2404999408.py:2: PerformanceWarning: DataFrame is highly fragmented.  This is usually the result of calling `frame.insert` many times, which has poor performance.  Consider joining all columns at once using pd.concat(axis=1) instead. To get a de-fragmented frame, use `newframe = frame.copy()`\n",
      "  features_valid_en[\n",
      "/var/folders/8y/6qgr48pn4js29rkc2ts9hck80000gn/T/ipykernel_13926/2404999408.py:2: PerformanceWarning: DataFrame is highly fragmented.  This is usually the result of calling `frame.insert` many times, which has poor performance.  Consider joining all columns at once using pd.concat(axis=1) instead. To get a de-fragmented frame, use `newframe = frame.copy()`\n",
      "  features_valid_en[\n",
      "/var/folders/8y/6qgr48pn4js29rkc2ts9hck80000gn/T/ipykernel_13926/2404999408.py:2: PerformanceWarning: DataFrame is highly fragmented.  This is usually the result of calling `frame.insert` many times, which has poor performance.  Consider joining all columns at once using pd.concat(axis=1) instead. To get a de-fragmented frame, use `newframe = frame.copy()`\n",
      "  features_valid_en[\n",
      "/var/folders/8y/6qgr48pn4js29rkc2ts9hck80000gn/T/ipykernel_13926/2404999408.py:2: PerformanceWarning: DataFrame is highly fragmented.  This is usually the result of calling `frame.insert` many times, which has poor performance.  Consider joining all columns at once using pd.concat(axis=1) instead. To get a de-fragmented frame, use `newframe = frame.copy()`\n",
      "  features_valid_en[\n",
      "/var/folders/8y/6qgr48pn4js29rkc2ts9hck80000gn/T/ipykernel_13926/2404999408.py:2: PerformanceWarning: DataFrame is highly fragmented.  This is usually the result of calling `frame.insert` many times, which has poor performance.  Consider joining all columns at once using pd.concat(axis=1) instead. To get a de-fragmented frame, use `newframe = frame.copy()`\n",
      "  features_valid_en[\n",
      "/var/folders/8y/6qgr48pn4js29rkc2ts9hck80000gn/T/ipykernel_13926/2404999408.py:2: PerformanceWarning: DataFrame is highly fragmented.  This is usually the result of calling `frame.insert` many times, which has poor performance.  Consider joining all columns at once using pd.concat(axis=1) instead. To get a de-fragmented frame, use `newframe = frame.copy()`\n",
      "  features_valid_en[\n",
      "/var/folders/8y/6qgr48pn4js29rkc2ts9hck80000gn/T/ipykernel_13926/2404999408.py:2: PerformanceWarning: DataFrame is highly fragmented.  This is usually the result of calling `frame.insert` many times, which has poor performance.  Consider joining all columns at once using pd.concat(axis=1) instead. To get a de-fragmented frame, use `newframe = frame.copy()`\n",
      "  features_valid_en[\n",
      "/var/folders/8y/6qgr48pn4js29rkc2ts9hck80000gn/T/ipykernel_13926/2404999408.py:2: PerformanceWarning: DataFrame is highly fragmented.  This is usually the result of calling `frame.insert` many times, which has poor performance.  Consider joining all columns at once using pd.concat(axis=1) instead. To get a de-fragmented frame, use `newframe = frame.copy()`\n",
      "  features_valid_en[\n",
      "/var/folders/8y/6qgr48pn4js29rkc2ts9hck80000gn/T/ipykernel_13926/2404999408.py:2: PerformanceWarning: DataFrame is highly fragmented.  This is usually the result of calling `frame.insert` many times, which has poor performance.  Consider joining all columns at once using pd.concat(axis=1) instead. To get a de-fragmented frame, use `newframe = frame.copy()`\n",
      "  features_valid_en[\n",
      "/var/folders/8y/6qgr48pn4js29rkc2ts9hck80000gn/T/ipykernel_13926/2404999408.py:2: PerformanceWarning: DataFrame is highly fragmented.  This is usually the result of calling `frame.insert` many times, which has poor performance.  Consider joining all columns at once using pd.concat(axis=1) instead. To get a de-fragmented frame, use `newframe = frame.copy()`\n",
      "  features_valid_en[\n",
      "/var/folders/8y/6qgr48pn4js29rkc2ts9hck80000gn/T/ipykernel_13926/2404999408.py:2: PerformanceWarning: DataFrame is highly fragmented.  This is usually the result of calling `frame.insert` many times, which has poor performance.  Consider joining all columns at once using pd.concat(axis=1) instead. To get a de-fragmented frame, use `newframe = frame.copy()`\n",
      "  features_valid_en[\n",
      "/var/folders/8y/6qgr48pn4js29rkc2ts9hck80000gn/T/ipykernel_13926/2404999408.py:2: PerformanceWarning: DataFrame is highly fragmented.  This is usually the result of calling `frame.insert` many times, which has poor performance.  Consider joining all columns at once using pd.concat(axis=1) instead. To get a de-fragmented frame, use `newframe = frame.copy()`\n",
      "  features_valid_en[\n",
      "/var/folders/8y/6qgr48pn4js29rkc2ts9hck80000gn/T/ipykernel_13926/2404999408.py:2: PerformanceWarning: DataFrame is highly fragmented.  This is usually the result of calling `frame.insert` many times, which has poor performance.  Consider joining all columns at once using pd.concat(axis=1) instead. To get a de-fragmented frame, use `newframe = frame.copy()`\n",
      "  features_valid_en[\n",
      "/var/folders/8y/6qgr48pn4js29rkc2ts9hck80000gn/T/ipykernel_13926/2404999408.py:2: PerformanceWarning: DataFrame is highly fragmented.  This is usually the result of calling `frame.insert` many times, which has poor performance.  Consider joining all columns at once using pd.concat(axis=1) instead. To get a de-fragmented frame, use `newframe = frame.copy()`\n",
      "  features_valid_en[\n",
      "/var/folders/8y/6qgr48pn4js29rkc2ts9hck80000gn/T/ipykernel_13926/2404999408.py:2: PerformanceWarning: DataFrame is highly fragmented.  This is usually the result of calling `frame.insert` many times, which has poor performance.  Consider joining all columns at once using pd.concat(axis=1) instead. To get a de-fragmented frame, use `newframe = frame.copy()`\n",
      "  features_valid_en[\n",
      "/var/folders/8y/6qgr48pn4js29rkc2ts9hck80000gn/T/ipykernel_13926/2404999408.py:2: PerformanceWarning: DataFrame is highly fragmented.  This is usually the result of calling `frame.insert` many times, which has poor performance.  Consider joining all columns at once using pd.concat(axis=1) instead. To get a de-fragmented frame, use `newframe = frame.copy()`\n",
      "  features_valid_en[\n",
      "/var/folders/8y/6qgr48pn4js29rkc2ts9hck80000gn/T/ipykernel_13926/2404999408.py:2: PerformanceWarning: DataFrame is highly fragmented.  This is usually the result of calling `frame.insert` many times, which has poor performance.  Consider joining all columns at once using pd.concat(axis=1) instead. To get a de-fragmented frame, use `newframe = frame.copy()`\n",
      "  features_valid_en[\n",
      "/var/folders/8y/6qgr48pn4js29rkc2ts9hck80000gn/T/ipykernel_13926/2404999408.py:2: PerformanceWarning: DataFrame is highly fragmented.  This is usually the result of calling `frame.insert` many times, which has poor performance.  Consider joining all columns at once using pd.concat(axis=1) instead. To get a de-fragmented frame, use `newframe = frame.copy()`\n",
      "  features_valid_en[\n",
      "/var/folders/8y/6qgr48pn4js29rkc2ts9hck80000gn/T/ipykernel_13926/2404999408.py:2: PerformanceWarning: DataFrame is highly fragmented.  This is usually the result of calling `frame.insert` many times, which has poor performance.  Consider joining all columns at once using pd.concat(axis=1) instead. To get a de-fragmented frame, use `newframe = frame.copy()`\n",
      "  features_valid_en[\n",
      "/var/folders/8y/6qgr48pn4js29rkc2ts9hck80000gn/T/ipykernel_13926/2404999408.py:2: PerformanceWarning: DataFrame is highly fragmented.  This is usually the result of calling `frame.insert` many times, which has poor performance.  Consider joining all columns at once using pd.concat(axis=1) instead. To get a de-fragmented frame, use `newframe = frame.copy()`\n",
      "  features_valid_en[\n",
      "/var/folders/8y/6qgr48pn4js29rkc2ts9hck80000gn/T/ipykernel_13926/2404999408.py:2: PerformanceWarning: DataFrame is highly fragmented.  This is usually the result of calling `frame.insert` many times, which has poor performance.  Consider joining all columns at once using pd.concat(axis=1) instead. To get a de-fragmented frame, use `newframe = frame.copy()`\n",
      "  features_valid_en[\n",
      "/var/folders/8y/6qgr48pn4js29rkc2ts9hck80000gn/T/ipykernel_13926/2404999408.py:2: PerformanceWarning: DataFrame is highly fragmented.  This is usually the result of calling `frame.insert` many times, which has poor performance.  Consider joining all columns at once using pd.concat(axis=1) instead. To get a de-fragmented frame, use `newframe = frame.copy()`\n",
      "  features_valid_en[\n",
      "/var/folders/8y/6qgr48pn4js29rkc2ts9hck80000gn/T/ipykernel_13926/2404999408.py:2: PerformanceWarning: DataFrame is highly fragmented.  This is usually the result of calling `frame.insert` many times, which has poor performance.  Consider joining all columns at once using pd.concat(axis=1) instead. To get a de-fragmented frame, use `newframe = frame.copy()`\n",
      "  features_valid_en[\n",
      "/var/folders/8y/6qgr48pn4js29rkc2ts9hck80000gn/T/ipykernel_13926/2404999408.py:2: PerformanceWarning: DataFrame is highly fragmented.  This is usually the result of calling `frame.insert` many times, which has poor performance.  Consider joining all columns at once using pd.concat(axis=1) instead. To get a de-fragmented frame, use `newframe = frame.copy()`\n",
      "  features_valid_en[\n",
      "/var/folders/8y/6qgr48pn4js29rkc2ts9hck80000gn/T/ipykernel_13926/2404999408.py:2: PerformanceWarning: DataFrame is highly fragmented.  This is usually the result of calling `frame.insert` many times, which has poor performance.  Consider joining all columns at once using pd.concat(axis=1) instead. To get a de-fragmented frame, use `newframe = frame.copy()`\n",
      "  features_valid_en[\n",
      "/var/folders/8y/6qgr48pn4js29rkc2ts9hck80000gn/T/ipykernel_13926/2404999408.py:2: PerformanceWarning: DataFrame is highly fragmented.  This is usually the result of calling `frame.insert` many times, which has poor performance.  Consider joining all columns at once using pd.concat(axis=1) instead. To get a de-fragmented frame, use `newframe = frame.copy()`\n",
      "  features_valid_en[\n",
      "/var/folders/8y/6qgr48pn4js29rkc2ts9hck80000gn/T/ipykernel_13926/2404999408.py:2: PerformanceWarning: DataFrame is highly fragmented.  This is usually the result of calling `frame.insert` many times, which has poor performance.  Consider joining all columns at once using pd.concat(axis=1) instead. To get a de-fragmented frame, use `newframe = frame.copy()`\n",
      "  features_valid_en[\n",
      "/var/folders/8y/6qgr48pn4js29rkc2ts9hck80000gn/T/ipykernel_13926/2404999408.py:2: PerformanceWarning: DataFrame is highly fragmented.  This is usually the result of calling `frame.insert` many times, which has poor performance.  Consider joining all columns at once using pd.concat(axis=1) instead. To get a de-fragmented frame, use `newframe = frame.copy()`\n",
      "  features_valid_en[\n",
      "/var/folders/8y/6qgr48pn4js29rkc2ts9hck80000gn/T/ipykernel_13926/2404999408.py:2: PerformanceWarning: DataFrame is highly fragmented.  This is usually the result of calling `frame.insert` many times, which has poor performance.  Consider joining all columns at once using pd.concat(axis=1) instead. To get a de-fragmented frame, use `newframe = frame.copy()`\n",
      "  features_valid_en[\n",
      "/var/folders/8y/6qgr48pn4js29rkc2ts9hck80000gn/T/ipykernel_13926/2404999408.py:2: PerformanceWarning: DataFrame is highly fragmented.  This is usually the result of calling `frame.insert` many times, which has poor performance.  Consider joining all columns at once using pd.concat(axis=1) instead. To get a de-fragmented frame, use `newframe = frame.copy()`\n",
      "  features_valid_en[\n",
      "/var/folders/8y/6qgr48pn4js29rkc2ts9hck80000gn/T/ipykernel_13926/2404999408.py:2: PerformanceWarning: DataFrame is highly fragmented.  This is usually the result of calling `frame.insert` many times, which has poor performance.  Consider joining all columns at once using pd.concat(axis=1) instead. To get a de-fragmented frame, use `newframe = frame.copy()`\n",
      "  features_valid_en[\n",
      "/var/folders/8y/6qgr48pn4js29rkc2ts9hck80000gn/T/ipykernel_13926/2404999408.py:2: PerformanceWarning: DataFrame is highly fragmented.  This is usually the result of calling `frame.insert` many times, which has poor performance.  Consider joining all columns at once using pd.concat(axis=1) instead. To get a de-fragmented frame, use `newframe = frame.copy()`\n",
      "  features_valid_en[\n",
      "/var/folders/8y/6qgr48pn4js29rkc2ts9hck80000gn/T/ipykernel_13926/2404999408.py:2: PerformanceWarning: DataFrame is highly fragmented.  This is usually the result of calling `frame.insert` many times, which has poor performance.  Consider joining all columns at once using pd.concat(axis=1) instead. To get a de-fragmented frame, use `newframe = frame.copy()`\n",
      "  features_valid_en[\n",
      "/var/folders/8y/6qgr48pn4js29rkc2ts9hck80000gn/T/ipykernel_13926/2404999408.py:2: PerformanceWarning: DataFrame is highly fragmented.  This is usually the result of calling `frame.insert` many times, which has poor performance.  Consider joining all columns at once using pd.concat(axis=1) instead. To get a de-fragmented frame, use `newframe = frame.copy()`\n",
      "  features_valid_en[\n",
      "/var/folders/8y/6qgr48pn4js29rkc2ts9hck80000gn/T/ipykernel_13926/2404999408.py:2: PerformanceWarning: DataFrame is highly fragmented.  This is usually the result of calling `frame.insert` many times, which has poor performance.  Consider joining all columns at once using pd.concat(axis=1) instead. To get a de-fragmented frame, use `newframe = frame.copy()`\n",
      "  features_valid_en[\n",
      "/var/folders/8y/6qgr48pn4js29rkc2ts9hck80000gn/T/ipykernel_13926/2404999408.py:2: PerformanceWarning: DataFrame is highly fragmented.  This is usually the result of calling `frame.insert` many times, which has poor performance.  Consider joining all columns at once using pd.concat(axis=1) instead. To get a de-fragmented frame, use `newframe = frame.copy()`\n",
      "  features_valid_en[\n",
      "/var/folders/8y/6qgr48pn4js29rkc2ts9hck80000gn/T/ipykernel_13926/2404999408.py:2: PerformanceWarning: DataFrame is highly fragmented.  This is usually the result of calling `frame.insert` many times, which has poor performance.  Consider joining all columns at once using pd.concat(axis=1) instead. To get a de-fragmented frame, use `newframe = frame.copy()`\n",
      "  features_valid_en[\n",
      "/var/folders/8y/6qgr48pn4js29rkc2ts9hck80000gn/T/ipykernel_13926/2404999408.py:2: PerformanceWarning: DataFrame is highly fragmented.  This is usually the result of calling `frame.insert` many times, which has poor performance.  Consider joining all columns at once using pd.concat(axis=1) instead. To get a de-fragmented frame, use `newframe = frame.copy()`\n",
      "  features_valid_en[\n",
      "/var/folders/8y/6qgr48pn4js29rkc2ts9hck80000gn/T/ipykernel_13926/2404999408.py:2: PerformanceWarning: DataFrame is highly fragmented.  This is usually the result of calling `frame.insert` many times, which has poor performance.  Consider joining all columns at once using pd.concat(axis=1) instead. To get a de-fragmented frame, use `newframe = frame.copy()`\n",
      "  features_valid_en[\n",
      "/var/folders/8y/6qgr48pn4js29rkc2ts9hck80000gn/T/ipykernel_13926/2404999408.py:2: PerformanceWarning: DataFrame is highly fragmented.  This is usually the result of calling `frame.insert` many times, which has poor performance.  Consider joining all columns at once using pd.concat(axis=1) instead. To get a de-fragmented frame, use `newframe = frame.copy()`\n",
      "  features_valid_en[\n",
      "/var/folders/8y/6qgr48pn4js29rkc2ts9hck80000gn/T/ipykernel_13926/2404999408.py:2: PerformanceWarning: DataFrame is highly fragmented.  This is usually the result of calling `frame.insert` many times, which has poor performance.  Consider joining all columns at once using pd.concat(axis=1) instead. To get a de-fragmented frame, use `newframe = frame.copy()`\n",
      "  features_valid_en[\n",
      "/var/folders/8y/6qgr48pn4js29rkc2ts9hck80000gn/T/ipykernel_13926/2404999408.py:2: PerformanceWarning: DataFrame is highly fragmented.  This is usually the result of calling `frame.insert` many times, which has poor performance.  Consider joining all columns at once using pd.concat(axis=1) instead. To get a de-fragmented frame, use `newframe = frame.copy()`\n",
      "  features_valid_en[\n",
      "/var/folders/8y/6qgr48pn4js29rkc2ts9hck80000gn/T/ipykernel_13926/2404999408.py:2: PerformanceWarning: DataFrame is highly fragmented.  This is usually the result of calling `frame.insert` many times, which has poor performance.  Consider joining all columns at once using pd.concat(axis=1) instead. To get a de-fragmented frame, use `newframe = frame.copy()`\n",
      "  features_valid_en[\n",
      "/var/folders/8y/6qgr48pn4js29rkc2ts9hck80000gn/T/ipykernel_13926/2404999408.py:2: PerformanceWarning: DataFrame is highly fragmented.  This is usually the result of calling `frame.insert` many times, which has poor performance.  Consider joining all columns at once using pd.concat(axis=1) instead. To get a de-fragmented frame, use `newframe = frame.copy()`\n",
      "  features_valid_en[\n",
      "/var/folders/8y/6qgr48pn4js29rkc2ts9hck80000gn/T/ipykernel_13926/2404999408.py:2: PerformanceWarning: DataFrame is highly fragmented.  This is usually the result of calling `frame.insert` many times, which has poor performance.  Consider joining all columns at once using pd.concat(axis=1) instead. To get a de-fragmented frame, use `newframe = frame.copy()`\n",
      "  features_valid_en[\n",
      "/var/folders/8y/6qgr48pn4js29rkc2ts9hck80000gn/T/ipykernel_13926/2404999408.py:2: PerformanceWarning: DataFrame is highly fragmented.  This is usually the result of calling `frame.insert` many times, which has poor performance.  Consider joining all columns at once using pd.concat(axis=1) instead. To get a de-fragmented frame, use `newframe = frame.copy()`\n",
      "  features_valid_en[\n",
      "/var/folders/8y/6qgr48pn4js29rkc2ts9hck80000gn/T/ipykernel_13926/2404999408.py:2: PerformanceWarning: DataFrame is highly fragmented.  This is usually the result of calling `frame.insert` many times, which has poor performance.  Consider joining all columns at once using pd.concat(axis=1) instead. To get a de-fragmented frame, use `newframe = frame.copy()`\n",
      "  features_valid_en[\n",
      "/var/folders/8y/6qgr48pn4js29rkc2ts9hck80000gn/T/ipykernel_13926/2404999408.py:2: PerformanceWarning: DataFrame is highly fragmented.  This is usually the result of calling `frame.insert` many times, which has poor performance.  Consider joining all columns at once using pd.concat(axis=1) instead. To get a de-fragmented frame, use `newframe = frame.copy()`\n",
      "  features_valid_en[\n",
      "/var/folders/8y/6qgr48pn4js29rkc2ts9hck80000gn/T/ipykernel_13926/2404999408.py:2: PerformanceWarning: DataFrame is highly fragmented.  This is usually the result of calling `frame.insert` many times, which has poor performance.  Consider joining all columns at once using pd.concat(axis=1) instead. To get a de-fragmented frame, use `newframe = frame.copy()`\n",
      "  features_valid_en[\n",
      "/var/folders/8y/6qgr48pn4js29rkc2ts9hck80000gn/T/ipykernel_13926/2404999408.py:2: PerformanceWarning: DataFrame is highly fragmented.  This is usually the result of calling `frame.insert` many times, which has poor performance.  Consider joining all columns at once using pd.concat(axis=1) instead. To get a de-fragmented frame, use `newframe = frame.copy()`\n",
      "  features_valid_en[\n",
      "/var/folders/8y/6qgr48pn4js29rkc2ts9hck80000gn/T/ipykernel_13926/2404999408.py:2: PerformanceWarning: DataFrame is highly fragmented.  This is usually the result of calling `frame.insert` many times, which has poor performance.  Consider joining all columns at once using pd.concat(axis=1) instead. To get a de-fragmented frame, use `newframe = frame.copy()`\n",
      "  features_valid_en[\n",
      "/var/folders/8y/6qgr48pn4js29rkc2ts9hck80000gn/T/ipykernel_13926/2404999408.py:2: PerformanceWarning: DataFrame is highly fragmented.  This is usually the result of calling `frame.insert` many times, which has poor performance.  Consider joining all columns at once using pd.concat(axis=1) instead. To get a de-fragmented frame, use `newframe = frame.copy()`\n",
      "  features_valid_en[\n",
      "/var/folders/8y/6qgr48pn4js29rkc2ts9hck80000gn/T/ipykernel_13926/2404999408.py:2: PerformanceWarning: DataFrame is highly fragmented.  This is usually the result of calling `frame.insert` many times, which has poor performance.  Consider joining all columns at once using pd.concat(axis=1) instead. To get a de-fragmented frame, use `newframe = frame.copy()`\n",
      "  features_valid_en[\n",
      "/var/folders/8y/6qgr48pn4js29rkc2ts9hck80000gn/T/ipykernel_13926/2404999408.py:2: PerformanceWarning: DataFrame is highly fragmented.  This is usually the result of calling `frame.insert` many times, which has poor performance.  Consider joining all columns at once using pd.concat(axis=1) instead. To get a de-fragmented frame, use `newframe = frame.copy()`\n",
      "  features_valid_en[\n",
      "/var/folders/8y/6qgr48pn4js29rkc2ts9hck80000gn/T/ipykernel_13926/2404999408.py:2: PerformanceWarning: DataFrame is highly fragmented.  This is usually the result of calling `frame.insert` many times, which has poor performance.  Consider joining all columns at once using pd.concat(axis=1) instead. To get a de-fragmented frame, use `newframe = frame.copy()`\n",
      "  features_valid_en[\n",
      "/var/folders/8y/6qgr48pn4js29rkc2ts9hck80000gn/T/ipykernel_13926/2404999408.py:2: PerformanceWarning: DataFrame is highly fragmented.  This is usually the result of calling `frame.insert` many times, which has poor performance.  Consider joining all columns at once using pd.concat(axis=1) instead. To get a de-fragmented frame, use `newframe = frame.copy()`\n",
      "  features_valid_en[\n",
      "/var/folders/8y/6qgr48pn4js29rkc2ts9hck80000gn/T/ipykernel_13926/2404999408.py:2: PerformanceWarning: DataFrame is highly fragmented.  This is usually the result of calling `frame.insert` many times, which has poor performance.  Consider joining all columns at once using pd.concat(axis=1) instead. To get a de-fragmented frame, use `newframe = frame.copy()`\n",
      "  features_valid_en[\n",
      "/var/folders/8y/6qgr48pn4js29rkc2ts9hck80000gn/T/ipykernel_13926/2404999408.py:2: PerformanceWarning: DataFrame is highly fragmented.  This is usually the result of calling `frame.insert` many times, which has poor performance.  Consider joining all columns at once using pd.concat(axis=1) instead. To get a de-fragmented frame, use `newframe = frame.copy()`\n",
      "  features_valid_en[\n",
      "/var/folders/8y/6qgr48pn4js29rkc2ts9hck80000gn/T/ipykernel_13926/2404999408.py:2: PerformanceWarning: DataFrame is highly fragmented.  This is usually the result of calling `frame.insert` many times, which has poor performance.  Consider joining all columns at once using pd.concat(axis=1) instead. To get a de-fragmented frame, use `newframe = frame.copy()`\n",
      "  features_valid_en[\n",
      "/var/folders/8y/6qgr48pn4js29rkc2ts9hck80000gn/T/ipykernel_13926/2404999408.py:2: PerformanceWarning: DataFrame is highly fragmented.  This is usually the result of calling `frame.insert` many times, which has poor performance.  Consider joining all columns at once using pd.concat(axis=1) instead. To get a de-fragmented frame, use `newframe = frame.copy()`\n",
      "  features_valid_en[\n",
      "/var/folders/8y/6qgr48pn4js29rkc2ts9hck80000gn/T/ipykernel_13926/2404999408.py:2: PerformanceWarning: DataFrame is highly fragmented.  This is usually the result of calling `frame.insert` many times, which has poor performance.  Consider joining all columns at once using pd.concat(axis=1) instead. To get a de-fragmented frame, use `newframe = frame.copy()`\n",
      "  features_valid_en[\n",
      "/var/folders/8y/6qgr48pn4js29rkc2ts9hck80000gn/T/ipykernel_13926/2404999408.py:2: PerformanceWarning: DataFrame is highly fragmented.  This is usually the result of calling `frame.insert` many times, which has poor performance.  Consider joining all columns at once using pd.concat(axis=1) instead. To get a de-fragmented frame, use `newframe = frame.copy()`\n",
      "  features_valid_en[\n",
      "/var/folders/8y/6qgr48pn4js29rkc2ts9hck80000gn/T/ipykernel_13926/2404999408.py:2: PerformanceWarning: DataFrame is highly fragmented.  This is usually the result of calling `frame.insert` many times, which has poor performance.  Consider joining all columns at once using pd.concat(axis=1) instead. To get a de-fragmented frame, use `newframe = frame.copy()`\n",
      "  features_valid_en[\n",
      "/var/folders/8y/6qgr48pn4js29rkc2ts9hck80000gn/T/ipykernel_13926/2404999408.py:2: PerformanceWarning: DataFrame is highly fragmented.  This is usually the result of calling `frame.insert` many times, which has poor performance.  Consider joining all columns at once using pd.concat(axis=1) instead. To get a de-fragmented frame, use `newframe = frame.copy()`\n",
      "  features_valid_en[\n",
      "/var/folders/8y/6qgr48pn4js29rkc2ts9hck80000gn/T/ipykernel_13926/2404999408.py:2: PerformanceWarning: DataFrame is highly fragmented.  This is usually the result of calling `frame.insert` many times, which has poor performance.  Consider joining all columns at once using pd.concat(axis=1) instead. To get a de-fragmented frame, use `newframe = frame.copy()`\n",
      "  features_valid_en[\n",
      "/var/folders/8y/6qgr48pn4js29rkc2ts9hck80000gn/T/ipykernel_13926/2404999408.py:2: PerformanceWarning: DataFrame is highly fragmented.  This is usually the result of calling `frame.insert` many times, which has poor performance.  Consider joining all columns at once using pd.concat(axis=1) instead. To get a de-fragmented frame, use `newframe = frame.copy()`\n",
      "  features_valid_en[\n",
      "/var/folders/8y/6qgr48pn4js29rkc2ts9hck80000gn/T/ipykernel_13926/2404999408.py:2: PerformanceWarning: DataFrame is highly fragmented.  This is usually the result of calling `frame.insert` many times, which has poor performance.  Consider joining all columns at once using pd.concat(axis=1) instead. To get a de-fragmented frame, use `newframe = frame.copy()`\n",
      "  features_valid_en[\n",
      "/var/folders/8y/6qgr48pn4js29rkc2ts9hck80000gn/T/ipykernel_13926/2404999408.py:2: PerformanceWarning: DataFrame is highly fragmented.  This is usually the result of calling `frame.insert` many times, which has poor performance.  Consider joining all columns at once using pd.concat(axis=1) instead. To get a de-fragmented frame, use `newframe = frame.copy()`\n",
      "  features_valid_en[\n",
      "/var/folders/8y/6qgr48pn4js29rkc2ts9hck80000gn/T/ipykernel_13926/2404999408.py:2: PerformanceWarning: DataFrame is highly fragmented.  This is usually the result of calling `frame.insert` many times, which has poor performance.  Consider joining all columns at once using pd.concat(axis=1) instead. To get a de-fragmented frame, use `newframe = frame.copy()`\n",
      "  features_valid_en[\n",
      "/var/folders/8y/6qgr48pn4js29rkc2ts9hck80000gn/T/ipykernel_13926/2404999408.py:2: PerformanceWarning: DataFrame is highly fragmented.  This is usually the result of calling `frame.insert` many times, which has poor performance.  Consider joining all columns at once using pd.concat(axis=1) instead. To get a de-fragmented frame, use `newframe = frame.copy()`\n",
      "  features_valid_en[\n",
      "/var/folders/8y/6qgr48pn4js29rkc2ts9hck80000gn/T/ipykernel_13926/2404999408.py:2: PerformanceWarning: DataFrame is highly fragmented.  This is usually the result of calling `frame.insert` many times, which has poor performance.  Consider joining all columns at once using pd.concat(axis=1) instead. To get a de-fragmented frame, use `newframe = frame.copy()`\n",
      "  features_valid_en[\n",
      "/var/folders/8y/6qgr48pn4js29rkc2ts9hck80000gn/T/ipykernel_13926/2404999408.py:2: PerformanceWarning: DataFrame is highly fragmented.  This is usually the result of calling `frame.insert` many times, which has poor performance.  Consider joining all columns at once using pd.concat(axis=1) instead. To get a de-fragmented frame, use `newframe = frame.copy()`\n",
      "  features_valid_en[\n",
      "/var/folders/8y/6qgr48pn4js29rkc2ts9hck80000gn/T/ipykernel_13926/2404999408.py:2: PerformanceWarning: DataFrame is highly fragmented.  This is usually the result of calling `frame.insert` many times, which has poor performance.  Consider joining all columns at once using pd.concat(axis=1) instead. To get a de-fragmented frame, use `newframe = frame.copy()`\n",
      "  features_valid_en[\n",
      "/var/folders/8y/6qgr48pn4js29rkc2ts9hck80000gn/T/ipykernel_13926/2404999408.py:2: PerformanceWarning: DataFrame is highly fragmented.  This is usually the result of calling `frame.insert` many times, which has poor performance.  Consider joining all columns at once using pd.concat(axis=1) instead. To get a de-fragmented frame, use `newframe = frame.copy()`\n",
      "  features_valid_en[\n",
      "/var/folders/8y/6qgr48pn4js29rkc2ts9hck80000gn/T/ipykernel_13926/2404999408.py:2: PerformanceWarning: DataFrame is highly fragmented.  This is usually the result of calling `frame.insert` many times, which has poor performance.  Consider joining all columns at once using pd.concat(axis=1) instead. To get a de-fragmented frame, use `newframe = frame.copy()`\n",
      "  features_valid_en[\n",
      "/var/folders/8y/6qgr48pn4js29rkc2ts9hck80000gn/T/ipykernel_13926/2404999408.py:2: PerformanceWarning: DataFrame is highly fragmented.  This is usually the result of calling `frame.insert` many times, which has poor performance.  Consider joining all columns at once using pd.concat(axis=1) instead. To get a de-fragmented frame, use `newframe = frame.copy()`\n",
      "  features_valid_en[\n",
      "/var/folders/8y/6qgr48pn4js29rkc2ts9hck80000gn/T/ipykernel_13926/2404999408.py:2: PerformanceWarning: DataFrame is highly fragmented.  This is usually the result of calling `frame.insert` many times, which has poor performance.  Consider joining all columns at once using pd.concat(axis=1) instead. To get a de-fragmented frame, use `newframe = frame.copy()`\n",
      "  features_valid_en[\n",
      "/var/folders/8y/6qgr48pn4js29rkc2ts9hck80000gn/T/ipykernel_13926/2404999408.py:2: PerformanceWarning: DataFrame is highly fragmented.  This is usually the result of calling `frame.insert` many times, which has poor performance.  Consider joining all columns at once using pd.concat(axis=1) instead. To get a de-fragmented frame, use `newframe = frame.copy()`\n",
      "  features_valid_en[\n",
      "/var/folders/8y/6qgr48pn4js29rkc2ts9hck80000gn/T/ipykernel_13926/2404999408.py:2: PerformanceWarning: DataFrame is highly fragmented.  This is usually the result of calling `frame.insert` many times, which has poor performance.  Consider joining all columns at once using pd.concat(axis=1) instead. To get a de-fragmented frame, use `newframe = frame.copy()`\n",
      "  features_valid_en[\n",
      "/var/folders/8y/6qgr48pn4js29rkc2ts9hck80000gn/T/ipykernel_13926/2404999408.py:2: PerformanceWarning: DataFrame is highly fragmented.  This is usually the result of calling `frame.insert` many times, which has poor performance.  Consider joining all columns at once using pd.concat(axis=1) instead. To get a de-fragmented frame, use `newframe = frame.copy()`\n",
      "  features_valid_en[\n",
      "/var/folders/8y/6qgr48pn4js29rkc2ts9hck80000gn/T/ipykernel_13926/2404999408.py:2: PerformanceWarning: DataFrame is highly fragmented.  This is usually the result of calling `frame.insert` many times, which has poor performance.  Consider joining all columns at once using pd.concat(axis=1) instead. To get a de-fragmented frame, use `newframe = frame.copy()`\n",
      "  features_valid_en[\n",
      "/var/folders/8y/6qgr48pn4js29rkc2ts9hck80000gn/T/ipykernel_13926/2404999408.py:2: PerformanceWarning: DataFrame is highly fragmented.  This is usually the result of calling `frame.insert` many times, which has poor performance.  Consider joining all columns at once using pd.concat(axis=1) instead. To get a de-fragmented frame, use `newframe = frame.copy()`\n",
      "  features_valid_en[\n",
      "/var/folders/8y/6qgr48pn4js29rkc2ts9hck80000gn/T/ipykernel_13926/2404999408.py:2: PerformanceWarning: DataFrame is highly fragmented.  This is usually the result of calling `frame.insert` many times, which has poor performance.  Consider joining all columns at once using pd.concat(axis=1) instead. To get a de-fragmented frame, use `newframe = frame.copy()`\n",
      "  features_valid_en[\n",
      "/var/folders/8y/6qgr48pn4js29rkc2ts9hck80000gn/T/ipykernel_13926/2404999408.py:2: PerformanceWarning: DataFrame is highly fragmented.  This is usually the result of calling `frame.insert` many times, which has poor performance.  Consider joining all columns at once using pd.concat(axis=1) instead. To get a de-fragmented frame, use `newframe = frame.copy()`\n",
      "  features_valid_en[\n",
      "/var/folders/8y/6qgr48pn4js29rkc2ts9hck80000gn/T/ipykernel_13926/2404999408.py:2: PerformanceWarning: DataFrame is highly fragmented.  This is usually the result of calling `frame.insert` many times, which has poor performance.  Consider joining all columns at once using pd.concat(axis=1) instead. To get a de-fragmented frame, use `newframe = frame.copy()`\n",
      "  features_valid_en[\n",
      "/var/folders/8y/6qgr48pn4js29rkc2ts9hck80000gn/T/ipykernel_13926/2404999408.py:2: PerformanceWarning: DataFrame is highly fragmented.  This is usually the result of calling `frame.insert` many times, which has poor performance.  Consider joining all columns at once using pd.concat(axis=1) instead. To get a de-fragmented frame, use `newframe = frame.copy()`\n",
      "  features_valid_en[\n",
      "/var/folders/8y/6qgr48pn4js29rkc2ts9hck80000gn/T/ipykernel_13926/2404999408.py:2: PerformanceWarning: DataFrame is highly fragmented.  This is usually the result of calling `frame.insert` many times, which has poor performance.  Consider joining all columns at once using pd.concat(axis=1) instead. To get a de-fragmented frame, use `newframe = frame.copy()`\n",
      "  features_valid_en[\n",
      "/var/folders/8y/6qgr48pn4js29rkc2ts9hck80000gn/T/ipykernel_13926/2404999408.py:2: PerformanceWarning: DataFrame is highly fragmented.  This is usually the result of calling `frame.insert` many times, which has poor performance.  Consider joining all columns at once using pd.concat(axis=1) instead. To get a de-fragmented frame, use `newframe = frame.copy()`\n",
      "  features_valid_en[\n",
      "/var/folders/8y/6qgr48pn4js29rkc2ts9hck80000gn/T/ipykernel_13926/2404999408.py:2: PerformanceWarning: DataFrame is highly fragmented.  This is usually the result of calling `frame.insert` many times, which has poor performance.  Consider joining all columns at once using pd.concat(axis=1) instead. To get a de-fragmented frame, use `newframe = frame.copy()`\n",
      "  features_valid_en[\n",
      "/var/folders/8y/6qgr48pn4js29rkc2ts9hck80000gn/T/ipykernel_13926/2404999408.py:2: PerformanceWarning: DataFrame is highly fragmented.  This is usually the result of calling `frame.insert` many times, which has poor performance.  Consider joining all columns at once using pd.concat(axis=1) instead. To get a de-fragmented frame, use `newframe = frame.copy()`\n",
      "  features_valid_en[\n",
      "/var/folders/8y/6qgr48pn4js29rkc2ts9hck80000gn/T/ipykernel_13926/2404999408.py:2: PerformanceWarning: DataFrame is highly fragmented.  This is usually the result of calling `frame.insert` many times, which has poor performance.  Consider joining all columns at once using pd.concat(axis=1) instead. To get a de-fragmented frame, use `newframe = frame.copy()`\n",
      "  features_valid_en[\n",
      "/var/folders/8y/6qgr48pn4js29rkc2ts9hck80000gn/T/ipykernel_13926/2404999408.py:2: PerformanceWarning: DataFrame is highly fragmented.  This is usually the result of calling `frame.insert` many times, which has poor performance.  Consider joining all columns at once using pd.concat(axis=1) instead. To get a de-fragmented frame, use `newframe = frame.copy()`\n",
      "  features_valid_en[\n",
      "/var/folders/8y/6qgr48pn4js29rkc2ts9hck80000gn/T/ipykernel_13926/2404999408.py:2: PerformanceWarning: DataFrame is highly fragmented.  This is usually the result of calling `frame.insert` many times, which has poor performance.  Consider joining all columns at once using pd.concat(axis=1) instead. To get a de-fragmented frame, use `newframe = frame.copy()`\n",
      "  features_valid_en[\n",
      "/var/folders/8y/6qgr48pn4js29rkc2ts9hck80000gn/T/ipykernel_13926/2404999408.py:2: PerformanceWarning: DataFrame is highly fragmented.  This is usually the result of calling `frame.insert` many times, which has poor performance.  Consider joining all columns at once using pd.concat(axis=1) instead. To get a de-fragmented frame, use `newframe = frame.copy()`\n",
      "  features_valid_en[\n",
      "/var/folders/8y/6qgr48pn4js29rkc2ts9hck80000gn/T/ipykernel_13926/2404999408.py:2: PerformanceWarning: DataFrame is highly fragmented.  This is usually the result of calling `frame.insert` many times, which has poor performance.  Consider joining all columns at once using pd.concat(axis=1) instead. To get a de-fragmented frame, use `newframe = frame.copy()`\n",
      "  features_valid_en[\n",
      "/var/folders/8y/6qgr48pn4js29rkc2ts9hck80000gn/T/ipykernel_13926/2404999408.py:2: PerformanceWarning: DataFrame is highly fragmented.  This is usually the result of calling `frame.insert` many times, which has poor performance.  Consider joining all columns at once using pd.concat(axis=1) instead. To get a de-fragmented frame, use `newframe = frame.copy()`\n",
      "  features_valid_en[\n",
      "/var/folders/8y/6qgr48pn4js29rkc2ts9hck80000gn/T/ipykernel_13926/2404999408.py:2: PerformanceWarning: DataFrame is highly fragmented.  This is usually the result of calling `frame.insert` many times, which has poor performance.  Consider joining all columns at once using pd.concat(axis=1) instead. To get a de-fragmented frame, use `newframe = frame.copy()`\n",
      "  features_valid_en[\n",
      "/var/folders/8y/6qgr48pn4js29rkc2ts9hck80000gn/T/ipykernel_13926/2404999408.py:2: PerformanceWarning: DataFrame is highly fragmented.  This is usually the result of calling `frame.insert` many times, which has poor performance.  Consider joining all columns at once using pd.concat(axis=1) instead. To get a de-fragmented frame, use `newframe = frame.copy()`\n",
      "  features_valid_en[\n",
      "/var/folders/8y/6qgr48pn4js29rkc2ts9hck80000gn/T/ipykernel_13926/2404999408.py:2: PerformanceWarning: DataFrame is highly fragmented.  This is usually the result of calling `frame.insert` many times, which has poor performance.  Consider joining all columns at once using pd.concat(axis=1) instead. To get a de-fragmented frame, use `newframe = frame.copy()`\n",
      "  features_valid_en[\n",
      "/var/folders/8y/6qgr48pn4js29rkc2ts9hck80000gn/T/ipykernel_13926/2404999408.py:2: PerformanceWarning: DataFrame is highly fragmented.  This is usually the result of calling `frame.insert` many times, which has poor performance.  Consider joining all columns at once using pd.concat(axis=1) instead. To get a de-fragmented frame, use `newframe = frame.copy()`\n",
      "  features_valid_en[\n",
      "/var/folders/8y/6qgr48pn4js29rkc2ts9hck80000gn/T/ipykernel_13926/2404999408.py:2: PerformanceWarning: DataFrame is highly fragmented.  This is usually the result of calling `frame.insert` many times, which has poor performance.  Consider joining all columns at once using pd.concat(axis=1) instead. To get a de-fragmented frame, use `newframe = frame.copy()`\n",
      "  features_valid_en[\n",
      "/var/folders/8y/6qgr48pn4js29rkc2ts9hck80000gn/T/ipykernel_13926/2404999408.py:2: PerformanceWarning: DataFrame is highly fragmented.  This is usually the result of calling `frame.insert` many times, which has poor performance.  Consider joining all columns at once using pd.concat(axis=1) instead. To get a de-fragmented frame, use `newframe = frame.copy()`\n",
      "  features_valid_en[\n",
      "/var/folders/8y/6qgr48pn4js29rkc2ts9hck80000gn/T/ipykernel_13926/2404999408.py:2: PerformanceWarning: DataFrame is highly fragmented.  This is usually the result of calling `frame.insert` many times, which has poor performance.  Consider joining all columns at once using pd.concat(axis=1) instead. To get a de-fragmented frame, use `newframe = frame.copy()`\n",
      "  features_valid_en[\n",
      "/var/folders/8y/6qgr48pn4js29rkc2ts9hck80000gn/T/ipykernel_13926/2404999408.py:2: PerformanceWarning: DataFrame is highly fragmented.  This is usually the result of calling `frame.insert` many times, which has poor performance.  Consider joining all columns at once using pd.concat(axis=1) instead. To get a de-fragmented frame, use `newframe = frame.copy()`\n",
      "  features_valid_en[\n",
      "/var/folders/8y/6qgr48pn4js29rkc2ts9hck80000gn/T/ipykernel_13926/2404999408.py:2: PerformanceWarning: DataFrame is highly fragmented.  This is usually the result of calling `frame.insert` many times, which has poor performance.  Consider joining all columns at once using pd.concat(axis=1) instead. To get a de-fragmented frame, use `newframe = frame.copy()`\n",
      "  features_valid_en[\n",
      "/var/folders/8y/6qgr48pn4js29rkc2ts9hck80000gn/T/ipykernel_13926/2404999408.py:2: PerformanceWarning: DataFrame is highly fragmented.  This is usually the result of calling `frame.insert` many times, which has poor performance.  Consider joining all columns at once using pd.concat(axis=1) instead. To get a de-fragmented frame, use `newframe = frame.copy()`\n",
      "  features_valid_en[\n",
      "/var/folders/8y/6qgr48pn4js29rkc2ts9hck80000gn/T/ipykernel_13926/2404999408.py:2: PerformanceWarning: DataFrame is highly fragmented.  This is usually the result of calling `frame.insert` many times, which has poor performance.  Consider joining all columns at once using pd.concat(axis=1) instead. To get a de-fragmented frame, use `newframe = frame.copy()`\n",
      "  features_valid_en[\n",
      "/var/folders/8y/6qgr48pn4js29rkc2ts9hck80000gn/T/ipykernel_13926/2404999408.py:2: PerformanceWarning: DataFrame is highly fragmented.  This is usually the result of calling `frame.insert` many times, which has poor performance.  Consider joining all columns at once using pd.concat(axis=1) instead. To get a de-fragmented frame, use `newframe = frame.copy()`\n",
      "  features_valid_en[\n",
      "/var/folders/8y/6qgr48pn4js29rkc2ts9hck80000gn/T/ipykernel_13926/2404999408.py:2: PerformanceWarning: DataFrame is highly fragmented.  This is usually the result of calling `frame.insert` many times, which has poor performance.  Consider joining all columns at once using pd.concat(axis=1) instead. To get a de-fragmented frame, use `newframe = frame.copy()`\n",
      "  features_valid_en[\n",
      "/var/folders/8y/6qgr48pn4js29rkc2ts9hck80000gn/T/ipykernel_13926/2404999408.py:2: PerformanceWarning: DataFrame is highly fragmented.  This is usually the result of calling `frame.insert` many times, which has poor performance.  Consider joining all columns at once using pd.concat(axis=1) instead. To get a de-fragmented frame, use `newframe = frame.copy()`\n",
      "  features_valid_en[\n",
      "/var/folders/8y/6qgr48pn4js29rkc2ts9hck80000gn/T/ipykernel_13926/2404999408.py:2: PerformanceWarning: DataFrame is highly fragmented.  This is usually the result of calling `frame.insert` many times, which has poor performance.  Consider joining all columns at once using pd.concat(axis=1) instead. To get a de-fragmented frame, use `newframe = frame.copy()`\n",
      "  features_valid_en[\n",
      "/var/folders/8y/6qgr48pn4js29rkc2ts9hck80000gn/T/ipykernel_13926/2404999408.py:2: PerformanceWarning: DataFrame is highly fragmented.  This is usually the result of calling `frame.insert` many times, which has poor performance.  Consider joining all columns at once using pd.concat(axis=1) instead. To get a de-fragmented frame, use `newframe = frame.copy()`\n",
      "  features_valid_en[\n",
      "/var/folders/8y/6qgr48pn4js29rkc2ts9hck80000gn/T/ipykernel_13926/2404999408.py:2: PerformanceWarning: DataFrame is highly fragmented.  This is usually the result of calling `frame.insert` many times, which has poor performance.  Consider joining all columns at once using pd.concat(axis=1) instead. To get a de-fragmented frame, use `newframe = frame.copy()`\n",
      "  features_valid_en[\n",
      "/var/folders/8y/6qgr48pn4js29rkc2ts9hck80000gn/T/ipykernel_13926/2404999408.py:2: PerformanceWarning: DataFrame is highly fragmented.  This is usually the result of calling `frame.insert` many times, which has poor performance.  Consider joining all columns at once using pd.concat(axis=1) instead. To get a de-fragmented frame, use `newframe = frame.copy()`\n",
      "  features_valid_en[\n",
      "/var/folders/8y/6qgr48pn4js29rkc2ts9hck80000gn/T/ipykernel_13926/2404999408.py:2: PerformanceWarning: DataFrame is highly fragmented.  This is usually the result of calling `frame.insert` many times, which has poor performance.  Consider joining all columns at once using pd.concat(axis=1) instead. To get a de-fragmented frame, use `newframe = frame.copy()`\n",
      "  features_valid_en[\n",
      "/var/folders/8y/6qgr48pn4js29rkc2ts9hck80000gn/T/ipykernel_13926/2404999408.py:2: PerformanceWarning: DataFrame is highly fragmented.  This is usually the result of calling `frame.insert` many times, which has poor performance.  Consider joining all columns at once using pd.concat(axis=1) instead. To get a de-fragmented frame, use `newframe = frame.copy()`\n",
      "  features_valid_en[\n",
      "/var/folders/8y/6qgr48pn4js29rkc2ts9hck80000gn/T/ipykernel_13926/2404999408.py:2: PerformanceWarning: DataFrame is highly fragmented.  This is usually the result of calling `frame.insert` many times, which has poor performance.  Consider joining all columns at once using pd.concat(axis=1) instead. To get a de-fragmented frame, use `newframe = frame.copy()`\n",
      "  features_valid_en[\n",
      "/var/folders/8y/6qgr48pn4js29rkc2ts9hck80000gn/T/ipykernel_13926/2404999408.py:2: PerformanceWarning: DataFrame is highly fragmented.  This is usually the result of calling `frame.insert` many times, which has poor performance.  Consider joining all columns at once using pd.concat(axis=1) instead. To get a de-fragmented frame, use `newframe = frame.copy()`\n",
      "  features_valid_en[\n",
      "/var/folders/8y/6qgr48pn4js29rkc2ts9hck80000gn/T/ipykernel_13926/2404999408.py:2: PerformanceWarning: DataFrame is highly fragmented.  This is usually the result of calling `frame.insert` many times, which has poor performance.  Consider joining all columns at once using pd.concat(axis=1) instead. To get a de-fragmented frame, use `newframe = frame.copy()`\n",
      "  features_valid_en[\n",
      "/var/folders/8y/6qgr48pn4js29rkc2ts9hck80000gn/T/ipykernel_13926/2404999408.py:2: PerformanceWarning: DataFrame is highly fragmented.  This is usually the result of calling `frame.insert` many times, which has poor performance.  Consider joining all columns at once using pd.concat(axis=1) instead. To get a de-fragmented frame, use `newframe = frame.copy()`\n",
      "  features_valid_en[\n",
      "/var/folders/8y/6qgr48pn4js29rkc2ts9hck80000gn/T/ipykernel_13926/2404999408.py:2: PerformanceWarning: DataFrame is highly fragmented.  This is usually the result of calling `frame.insert` many times, which has poor performance.  Consider joining all columns at once using pd.concat(axis=1) instead. To get a de-fragmented frame, use `newframe = frame.copy()`\n",
      "  features_valid_en[\n",
      "/var/folders/8y/6qgr48pn4js29rkc2ts9hck80000gn/T/ipykernel_13926/2404999408.py:2: PerformanceWarning: DataFrame is highly fragmented.  This is usually the result of calling `frame.insert` many times, which has poor performance.  Consider joining all columns at once using pd.concat(axis=1) instead. To get a de-fragmented frame, use `newframe = frame.copy()`\n",
      "  features_valid_en[\n",
      "/var/folders/8y/6qgr48pn4js29rkc2ts9hck80000gn/T/ipykernel_13926/2404999408.py:2: PerformanceWarning: DataFrame is highly fragmented.  This is usually the result of calling `frame.insert` many times, which has poor performance.  Consider joining all columns at once using pd.concat(axis=1) instead. To get a de-fragmented frame, use `newframe = frame.copy()`\n",
      "  features_valid_en[\n",
      "/var/folders/8y/6qgr48pn4js29rkc2ts9hck80000gn/T/ipykernel_13926/2404999408.py:2: PerformanceWarning: DataFrame is highly fragmented.  This is usually the result of calling `frame.insert` many times, which has poor performance.  Consider joining all columns at once using pd.concat(axis=1) instead. To get a de-fragmented frame, use `newframe = frame.copy()`\n",
      "  features_valid_en[\n",
      "/var/folders/8y/6qgr48pn4js29rkc2ts9hck80000gn/T/ipykernel_13926/2404999408.py:2: PerformanceWarning: DataFrame is highly fragmented.  This is usually the result of calling `frame.insert` many times, which has poor performance.  Consider joining all columns at once using pd.concat(axis=1) instead. To get a de-fragmented frame, use `newframe = frame.copy()`\n",
      "  features_valid_en[\n",
      "/var/folders/8y/6qgr48pn4js29rkc2ts9hck80000gn/T/ipykernel_13926/2404999408.py:2: PerformanceWarning: DataFrame is highly fragmented.  This is usually the result of calling `frame.insert` many times, which has poor performance.  Consider joining all columns at once using pd.concat(axis=1) instead. To get a de-fragmented frame, use `newframe = frame.copy()`\n",
      "  features_valid_en[\n",
      "/var/folders/8y/6qgr48pn4js29rkc2ts9hck80000gn/T/ipykernel_13926/2404999408.py:2: PerformanceWarning: DataFrame is highly fragmented.  This is usually the result of calling `frame.insert` many times, which has poor performance.  Consider joining all columns at once using pd.concat(axis=1) instead. To get a de-fragmented frame, use `newframe = frame.copy()`\n",
      "  features_valid_en[\n",
      "/var/folders/8y/6qgr48pn4js29rkc2ts9hck80000gn/T/ipykernel_13926/2404999408.py:2: PerformanceWarning: DataFrame is highly fragmented.  This is usually the result of calling `frame.insert` many times, which has poor performance.  Consider joining all columns at once using pd.concat(axis=1) instead. To get a de-fragmented frame, use `newframe = frame.copy()`\n",
      "  features_valid_en[\n",
      "/var/folders/8y/6qgr48pn4js29rkc2ts9hck80000gn/T/ipykernel_13926/2404999408.py:2: PerformanceWarning: DataFrame is highly fragmented.  This is usually the result of calling `frame.insert` many times, which has poor performance.  Consider joining all columns at once using pd.concat(axis=1) instead. To get a de-fragmented frame, use `newframe = frame.copy()`\n",
      "  features_valid_en[\n",
      "/var/folders/8y/6qgr48pn4js29rkc2ts9hck80000gn/T/ipykernel_13926/2404999408.py:2: PerformanceWarning: DataFrame is highly fragmented.  This is usually the result of calling `frame.insert` many times, which has poor performance.  Consider joining all columns at once using pd.concat(axis=1) instead. To get a de-fragmented frame, use `newframe = frame.copy()`\n",
      "  features_valid_en[\n",
      "/var/folders/8y/6qgr48pn4js29rkc2ts9hck80000gn/T/ipykernel_13926/2404999408.py:2: PerformanceWarning: DataFrame is highly fragmented.  This is usually the result of calling `frame.insert` many times, which has poor performance.  Consider joining all columns at once using pd.concat(axis=1) instead. To get a de-fragmented frame, use `newframe = frame.copy()`\n",
      "  features_valid_en[\n",
      "/var/folders/8y/6qgr48pn4js29rkc2ts9hck80000gn/T/ipykernel_13926/2404999408.py:2: PerformanceWarning: DataFrame is highly fragmented.  This is usually the result of calling `frame.insert` many times, which has poor performance.  Consider joining all columns at once using pd.concat(axis=1) instead. To get a de-fragmented frame, use `newframe = frame.copy()`\n",
      "  features_valid_en[\n",
      "/var/folders/8y/6qgr48pn4js29rkc2ts9hck80000gn/T/ipykernel_13926/2404999408.py:2: PerformanceWarning: DataFrame is highly fragmented.  This is usually the result of calling `frame.insert` many times, which has poor performance.  Consider joining all columns at once using pd.concat(axis=1) instead. To get a de-fragmented frame, use `newframe = frame.copy()`\n",
      "  features_valid_en[\n",
      "/var/folders/8y/6qgr48pn4js29rkc2ts9hck80000gn/T/ipykernel_13926/2404999408.py:2: PerformanceWarning: DataFrame is highly fragmented.  This is usually the result of calling `frame.insert` many times, which has poor performance.  Consider joining all columns at once using pd.concat(axis=1) instead. To get a de-fragmented frame, use `newframe = frame.copy()`\n",
      "  features_valid_en[\n",
      "/var/folders/8y/6qgr48pn4js29rkc2ts9hck80000gn/T/ipykernel_13926/2404999408.py:2: PerformanceWarning: DataFrame is highly fragmented.  This is usually the result of calling `frame.insert` many times, which has poor performance.  Consider joining all columns at once using pd.concat(axis=1) instead. To get a de-fragmented frame, use `newframe = frame.copy()`\n",
      "  features_valid_en[\n",
      "/var/folders/8y/6qgr48pn4js29rkc2ts9hck80000gn/T/ipykernel_13926/2404999408.py:2: PerformanceWarning: DataFrame is highly fragmented.  This is usually the result of calling `frame.insert` many times, which has poor performance.  Consider joining all columns at once using pd.concat(axis=1) instead. To get a de-fragmented frame, use `newframe = frame.copy()`\n",
      "  features_valid_en[\n",
      "/var/folders/8y/6qgr48pn4js29rkc2ts9hck80000gn/T/ipykernel_13926/2404999408.py:2: PerformanceWarning: DataFrame is highly fragmented.  This is usually the result of calling `frame.insert` many times, which has poor performance.  Consider joining all columns at once using pd.concat(axis=1) instead. To get a de-fragmented frame, use `newframe = frame.copy()`\n",
      "  features_valid_en[\n",
      "/var/folders/8y/6qgr48pn4js29rkc2ts9hck80000gn/T/ipykernel_13926/2404999408.py:2: PerformanceWarning: DataFrame is highly fragmented.  This is usually the result of calling `frame.insert` many times, which has poor performance.  Consider joining all columns at once using pd.concat(axis=1) instead. To get a de-fragmented frame, use `newframe = frame.copy()`\n",
      "  features_valid_en[\n",
      "/var/folders/8y/6qgr48pn4js29rkc2ts9hck80000gn/T/ipykernel_13926/2404999408.py:2: PerformanceWarning: DataFrame is highly fragmented.  This is usually the result of calling `frame.insert` many times, which has poor performance.  Consider joining all columns at once using pd.concat(axis=1) instead. To get a de-fragmented frame, use `newframe = frame.copy()`\n",
      "  features_valid_en[\n",
      "/var/folders/8y/6qgr48pn4js29rkc2ts9hck80000gn/T/ipykernel_13926/2404999408.py:2: PerformanceWarning: DataFrame is highly fragmented.  This is usually the result of calling `frame.insert` many times, which has poor performance.  Consider joining all columns at once using pd.concat(axis=1) instead. To get a de-fragmented frame, use `newframe = frame.copy()`\n",
      "  features_valid_en[\n",
      "/var/folders/8y/6qgr48pn4js29rkc2ts9hck80000gn/T/ipykernel_13926/2404999408.py:2: PerformanceWarning: DataFrame is highly fragmented.  This is usually the result of calling `frame.insert` many times, which has poor performance.  Consider joining all columns at once using pd.concat(axis=1) instead. To get a de-fragmented frame, use `newframe = frame.copy()`\n",
      "  features_valid_en[\n",
      "/var/folders/8y/6qgr48pn4js29rkc2ts9hck80000gn/T/ipykernel_13926/2404999408.py:2: PerformanceWarning: DataFrame is highly fragmented.  This is usually the result of calling `frame.insert` many times, which has poor performance.  Consider joining all columns at once using pd.concat(axis=1) instead. To get a de-fragmented frame, use `newframe = frame.copy()`\n",
      "  features_valid_en[\n",
      "/var/folders/8y/6qgr48pn4js29rkc2ts9hck80000gn/T/ipykernel_13926/2404999408.py:2: PerformanceWarning: DataFrame is highly fragmented.  This is usually the result of calling `frame.insert` many times, which has poor performance.  Consider joining all columns at once using pd.concat(axis=1) instead. To get a de-fragmented frame, use `newframe = frame.copy()`\n",
      "  features_valid_en[\n",
      "/var/folders/8y/6qgr48pn4js29rkc2ts9hck80000gn/T/ipykernel_13926/2404999408.py:2: PerformanceWarning: DataFrame is highly fragmented.  This is usually the result of calling `frame.insert` many times, which has poor performance.  Consider joining all columns at once using pd.concat(axis=1) instead. To get a de-fragmented frame, use `newframe = frame.copy()`\n",
      "  features_valid_en[\n",
      "/var/folders/8y/6qgr48pn4js29rkc2ts9hck80000gn/T/ipykernel_13926/2404999408.py:2: PerformanceWarning: DataFrame is highly fragmented.  This is usually the result of calling `frame.insert` many times, which has poor performance.  Consider joining all columns at once using pd.concat(axis=1) instead. To get a de-fragmented frame, use `newframe = frame.copy()`\n",
      "  features_valid_en[\n",
      "/var/folders/8y/6qgr48pn4js29rkc2ts9hck80000gn/T/ipykernel_13926/2404999408.py:2: PerformanceWarning: DataFrame is highly fragmented.  This is usually the result of calling `frame.insert` many times, which has poor performance.  Consider joining all columns at once using pd.concat(axis=1) instead. To get a de-fragmented frame, use `newframe = frame.copy()`\n",
      "  features_valid_en[\n",
      "/var/folders/8y/6qgr48pn4js29rkc2ts9hck80000gn/T/ipykernel_13926/2404999408.py:2: PerformanceWarning: DataFrame is highly fragmented.  This is usually the result of calling `frame.insert` many times, which has poor performance.  Consider joining all columns at once using pd.concat(axis=1) instead. To get a de-fragmented frame, use `newframe = frame.copy()`\n",
      "  features_valid_en[\n",
      "/var/folders/8y/6qgr48pn4js29rkc2ts9hck80000gn/T/ipykernel_13926/2404999408.py:2: PerformanceWarning: DataFrame is highly fragmented.  This is usually the result of calling `frame.insert` many times, which has poor performance.  Consider joining all columns at once using pd.concat(axis=1) instead. To get a de-fragmented frame, use `newframe = frame.copy()`\n",
      "  features_valid_en[\n",
      "/var/folders/8y/6qgr48pn4js29rkc2ts9hck80000gn/T/ipykernel_13926/2404999408.py:2: PerformanceWarning: DataFrame is highly fragmented.  This is usually the result of calling `frame.insert` many times, which has poor performance.  Consider joining all columns at once using pd.concat(axis=1) instead. To get a de-fragmented frame, use `newframe = frame.copy()`\n",
      "  features_valid_en[\n",
      "/var/folders/8y/6qgr48pn4js29rkc2ts9hck80000gn/T/ipykernel_13926/2404999408.py:2: PerformanceWarning: DataFrame is highly fragmented.  This is usually the result of calling `frame.insert` many times, which has poor performance.  Consider joining all columns at once using pd.concat(axis=1) instead. To get a de-fragmented frame, use `newframe = frame.copy()`\n",
      "  features_valid_en[\n",
      "/var/folders/8y/6qgr48pn4js29rkc2ts9hck80000gn/T/ipykernel_13926/2404999408.py:2: PerformanceWarning: DataFrame is highly fragmented.  This is usually the result of calling `frame.insert` many times, which has poor performance.  Consider joining all columns at once using pd.concat(axis=1) instead. To get a de-fragmented frame, use `newframe = frame.copy()`\n",
      "  features_valid_en[\n",
      "/var/folders/8y/6qgr48pn4js29rkc2ts9hck80000gn/T/ipykernel_13926/2404999408.py:2: PerformanceWarning: DataFrame is highly fragmented.  This is usually the result of calling `frame.insert` many times, which has poor performance.  Consider joining all columns at once using pd.concat(axis=1) instead. To get a de-fragmented frame, use `newframe = frame.copy()`\n",
      "  features_valid_en[\n"
     ]
    }
   ],
   "source": [
    "# энкодером, который обучен на ТРЕНИРОВОЧНОЙ ВЫБОРКЕ, кодируем валидационную\n",
    "features_valid_en[\n",
    "    encoder_ohe.get_feature_names_out()\n",
    "] = encoder_ohe.transform(features_valid_en[cat_features])\n",
    "\n",
    "features_valid_en = features_valid_en.drop(cat_features, axis=1)\n",
    "\n",
    "# скелером, который обучен на ТРЕНИРОВОЧНОЙ ВЫБОРКЕ, масштабируем валидационную\n",
    "#features_valid_en[num_features] = scaler.transform(\n",
    "#    features_valid_en[num_features]\n",
    "#)"
   ]
  },
  {
   "cell_type": "code",
   "execution_count": 88,
   "metadata": {},
   "outputs": [
    {
     "data": {
      "text/html": [
       "<div>\n",
       "<style scoped>\n",
       "    .dataframe tbody tr th:only-of-type {\n",
       "        vertical-align: middle;\n",
       "    }\n",
       "\n",
       "    .dataframe tbody tr th {\n",
       "        vertical-align: top;\n",
       "    }\n",
       "\n",
       "    .dataframe thead th {\n",
       "        text-align: right;\n",
       "    }\n",
       "</style>\n",
       "<table border=\"1\" class=\"dataframe\">\n",
       "  <thead>\n",
       "    <tr style=\"text-align: right;\">\n",
       "      <th></th>\n",
       "      <th>power</th>\n",
       "      <th>kilometer</th>\n",
       "      <th>age</th>\n",
       "      <th>vehicle_type_convertible</th>\n",
       "      <th>vehicle_type_coupe</th>\n",
       "      <th>vehicle_type_other</th>\n",
       "      <th>vehicle_type_sedan</th>\n",
       "      <th>vehicle_type_small</th>\n",
       "      <th>vehicle_type_suv</th>\n",
       "      <th>vehicle_type_unknown</th>\n",
       "      <th>...</th>\n",
       "      <th>brand_smart</th>\n",
       "      <th>brand_sonstige_autos</th>\n",
       "      <th>brand_subaru</th>\n",
       "      <th>brand_suzuki</th>\n",
       "      <th>brand_toyota</th>\n",
       "      <th>brand_trabant</th>\n",
       "      <th>brand_volkswagen</th>\n",
       "      <th>brand_volvo</th>\n",
       "      <th>repaired_unknown</th>\n",
       "      <th>repaired_yes</th>\n",
       "    </tr>\n",
       "  </thead>\n",
       "  <tbody>\n",
       "    <tr>\n",
       "      <th>303201</th>\n",
       "      <td>150</td>\n",
       "      <td>100000</td>\n",
       "      <td>13</td>\n",
       "      <td>0.0</td>\n",
       "      <td>0.0</td>\n",
       "      <td>0.0</td>\n",
       "      <td>1.0</td>\n",
       "      <td>0.0</td>\n",
       "      <td>0.0</td>\n",
       "      <td>0.0</td>\n",
       "      <td>...</td>\n",
       "      <td>0.0</td>\n",
       "      <td>0.0</td>\n",
       "      <td>0.0</td>\n",
       "      <td>0.0</td>\n",
       "      <td>0.0</td>\n",
       "      <td>0.0</td>\n",
       "      <td>0.0</td>\n",
       "      <td>0.0</td>\n",
       "      <td>0.0</td>\n",
       "      <td>0.0</td>\n",
       "    </tr>\n",
       "    <tr>\n",
       "      <th>194478</th>\n",
       "      <td>136</td>\n",
       "      <td>150000</td>\n",
       "      <td>16</td>\n",
       "      <td>0.0</td>\n",
       "      <td>0.0</td>\n",
       "      <td>0.0</td>\n",
       "      <td>0.0</td>\n",
       "      <td>0.0</td>\n",
       "      <td>0.0</td>\n",
       "      <td>0.0</td>\n",
       "      <td>...</td>\n",
       "      <td>0.0</td>\n",
       "      <td>0.0</td>\n",
       "      <td>0.0</td>\n",
       "      <td>0.0</td>\n",
       "      <td>0.0</td>\n",
       "      <td>0.0</td>\n",
       "      <td>0.0</td>\n",
       "      <td>0.0</td>\n",
       "      <td>1.0</td>\n",
       "      <td>0.0</td>\n",
       "    </tr>\n",
       "    <tr>\n",
       "      <th>261977</th>\n",
       "      <td>118</td>\n",
       "      <td>150000</td>\n",
       "      <td>11</td>\n",
       "      <td>0.0</td>\n",
       "      <td>0.0</td>\n",
       "      <td>0.0</td>\n",
       "      <td>0.0</td>\n",
       "      <td>0.0</td>\n",
       "      <td>0.0</td>\n",
       "      <td>1.0</td>\n",
       "      <td>...</td>\n",
       "      <td>0.0</td>\n",
       "      <td>0.0</td>\n",
       "      <td>0.0</td>\n",
       "      <td>0.0</td>\n",
       "      <td>0.0</td>\n",
       "      <td>0.0</td>\n",
       "      <td>0.0</td>\n",
       "      <td>0.0</td>\n",
       "      <td>0.0</td>\n",
       "      <td>1.0</td>\n",
       "    </tr>\n",
       "    <tr>\n",
       "      <th>219585</th>\n",
       "      <td>103</td>\n",
       "      <td>150000</td>\n",
       "      <td>14</td>\n",
       "      <td>0.0</td>\n",
       "      <td>0.0</td>\n",
       "      <td>0.0</td>\n",
       "      <td>1.0</td>\n",
       "      <td>0.0</td>\n",
       "      <td>0.0</td>\n",
       "      <td>0.0</td>\n",
       "      <td>...</td>\n",
       "      <td>0.0</td>\n",
       "      <td>0.0</td>\n",
       "      <td>0.0</td>\n",
       "      <td>0.0</td>\n",
       "      <td>0.0</td>\n",
       "      <td>0.0</td>\n",
       "      <td>0.0</td>\n",
       "      <td>0.0</td>\n",
       "      <td>0.0</td>\n",
       "      <td>0.0</td>\n",
       "    </tr>\n",
       "    <tr>\n",
       "      <th>322571</th>\n",
       "      <td>197</td>\n",
       "      <td>125000</td>\n",
       "      <td>9</td>\n",
       "      <td>0.0</td>\n",
       "      <td>0.0</td>\n",
       "      <td>0.0</td>\n",
       "      <td>0.0</td>\n",
       "      <td>0.0</td>\n",
       "      <td>0.0</td>\n",
       "      <td>0.0</td>\n",
       "      <td>...</td>\n",
       "      <td>0.0</td>\n",
       "      <td>0.0</td>\n",
       "      <td>0.0</td>\n",
       "      <td>0.0</td>\n",
       "      <td>0.0</td>\n",
       "      <td>0.0</td>\n",
       "      <td>0.0</td>\n",
       "      <td>0.0</td>\n",
       "      <td>0.0</td>\n",
       "      <td>0.0</td>\n",
       "    </tr>\n",
       "  </tbody>\n",
       "</table>\n",
       "<p>5 rows × 305 columns</p>\n",
       "</div>"
      ],
      "text/plain": [
       "        power  kilometer  age  vehicle_type_convertible  vehicle_type_coupe  \\\n",
       "303201    150     100000   13                       0.0                 0.0   \n",
       "194478    136     150000   16                       0.0                 0.0   \n",
       "261977    118     150000   11                       0.0                 0.0   \n",
       "219585    103     150000   14                       0.0                 0.0   \n",
       "322571    197     125000    9                       0.0                 0.0   \n",
       "\n",
       "        vehicle_type_other  vehicle_type_sedan  vehicle_type_small  \\\n",
       "303201                 0.0                 1.0                 0.0   \n",
       "194478                 0.0                 0.0                 0.0   \n",
       "261977                 0.0                 0.0                 0.0   \n",
       "219585                 0.0                 1.0                 0.0   \n",
       "322571                 0.0                 0.0                 0.0   \n",
       "\n",
       "        vehicle_type_suv  vehicle_type_unknown  ...  brand_smart  \\\n",
       "303201               0.0                   0.0  ...          0.0   \n",
       "194478               0.0                   0.0  ...          0.0   \n",
       "261977               0.0                   1.0  ...          0.0   \n",
       "219585               0.0                   0.0  ...          0.0   \n",
       "322571               0.0                   0.0  ...          0.0   \n",
       "\n",
       "        brand_sonstige_autos  brand_subaru  brand_suzuki  brand_toyota  \\\n",
       "303201                   0.0           0.0           0.0           0.0   \n",
       "194478                   0.0           0.0           0.0           0.0   \n",
       "261977                   0.0           0.0           0.0           0.0   \n",
       "219585                   0.0           0.0           0.0           0.0   \n",
       "322571                   0.0           0.0           0.0           0.0   \n",
       "\n",
       "        brand_trabant  brand_volkswagen  brand_volvo  repaired_unknown  \\\n",
       "303201            0.0               0.0          0.0               0.0   \n",
       "194478            0.0               0.0          0.0               1.0   \n",
       "261977            0.0               0.0          0.0               0.0   \n",
       "219585            0.0               0.0          0.0               0.0   \n",
       "322571            0.0               0.0          0.0               0.0   \n",
       "\n",
       "        repaired_yes  \n",
       "303201           0.0  \n",
       "194478           0.0  \n",
       "261977           1.0  \n",
       "219585           0.0  \n",
       "322571           0.0  \n",
       "\n",
       "[5 rows x 305 columns]"
      ]
     },
     "execution_count": 88,
     "metadata": {},
     "output_type": "execute_result"
    }
   ],
   "source": [
    "# смотрим на результат\n",
    "features_valid_en.head()"
   ]
  },
  {
   "cell_type": "code",
   "execution_count": 90,
   "metadata": {},
   "outputs": [
    {
     "name": "stderr",
     "output_type": "stream",
     "text": [
      "/var/folders/8y/6qgr48pn4js29rkc2ts9hck80000gn/T/ipykernel_13926/1141318347.py:2: PerformanceWarning: DataFrame is highly fragmented.  This is usually the result of calling `frame.insert` many times, which has poor performance.  Consider joining all columns at once using pd.concat(axis=1) instead. To get a de-fragmented frame, use `newframe = frame.copy()`\n",
      "  features_test_en[\n",
      "/var/folders/8y/6qgr48pn4js29rkc2ts9hck80000gn/T/ipykernel_13926/1141318347.py:2: PerformanceWarning: DataFrame is highly fragmented.  This is usually the result of calling `frame.insert` many times, which has poor performance.  Consider joining all columns at once using pd.concat(axis=1) instead. To get a de-fragmented frame, use `newframe = frame.copy()`\n",
      "  features_test_en[\n",
      "/var/folders/8y/6qgr48pn4js29rkc2ts9hck80000gn/T/ipykernel_13926/1141318347.py:2: PerformanceWarning: DataFrame is highly fragmented.  This is usually the result of calling `frame.insert` many times, which has poor performance.  Consider joining all columns at once using pd.concat(axis=1) instead. To get a de-fragmented frame, use `newframe = frame.copy()`\n",
      "  features_test_en[\n",
      "/var/folders/8y/6qgr48pn4js29rkc2ts9hck80000gn/T/ipykernel_13926/1141318347.py:2: PerformanceWarning: DataFrame is highly fragmented.  This is usually the result of calling `frame.insert` many times, which has poor performance.  Consider joining all columns at once using pd.concat(axis=1) instead. To get a de-fragmented frame, use `newframe = frame.copy()`\n",
      "  features_test_en[\n",
      "/var/folders/8y/6qgr48pn4js29rkc2ts9hck80000gn/T/ipykernel_13926/1141318347.py:2: PerformanceWarning: DataFrame is highly fragmented.  This is usually the result of calling `frame.insert` many times, which has poor performance.  Consider joining all columns at once using pd.concat(axis=1) instead. To get a de-fragmented frame, use `newframe = frame.copy()`\n",
      "  features_test_en[\n",
      "/var/folders/8y/6qgr48pn4js29rkc2ts9hck80000gn/T/ipykernel_13926/1141318347.py:2: PerformanceWarning: DataFrame is highly fragmented.  This is usually the result of calling `frame.insert` many times, which has poor performance.  Consider joining all columns at once using pd.concat(axis=1) instead. To get a de-fragmented frame, use `newframe = frame.copy()`\n",
      "  features_test_en[\n",
      "/var/folders/8y/6qgr48pn4js29rkc2ts9hck80000gn/T/ipykernel_13926/1141318347.py:2: PerformanceWarning: DataFrame is highly fragmented.  This is usually the result of calling `frame.insert` many times, which has poor performance.  Consider joining all columns at once using pd.concat(axis=1) instead. To get a de-fragmented frame, use `newframe = frame.copy()`\n",
      "  features_test_en[\n",
      "/var/folders/8y/6qgr48pn4js29rkc2ts9hck80000gn/T/ipykernel_13926/1141318347.py:2: PerformanceWarning: DataFrame is highly fragmented.  This is usually the result of calling `frame.insert` many times, which has poor performance.  Consider joining all columns at once using pd.concat(axis=1) instead. To get a de-fragmented frame, use `newframe = frame.copy()`\n",
      "  features_test_en[\n",
      "/var/folders/8y/6qgr48pn4js29rkc2ts9hck80000gn/T/ipykernel_13926/1141318347.py:2: PerformanceWarning: DataFrame is highly fragmented.  This is usually the result of calling `frame.insert` many times, which has poor performance.  Consider joining all columns at once using pd.concat(axis=1) instead. To get a de-fragmented frame, use `newframe = frame.copy()`\n",
      "  features_test_en[\n",
      "/var/folders/8y/6qgr48pn4js29rkc2ts9hck80000gn/T/ipykernel_13926/1141318347.py:2: PerformanceWarning: DataFrame is highly fragmented.  This is usually the result of calling `frame.insert` many times, which has poor performance.  Consider joining all columns at once using pd.concat(axis=1) instead. To get a de-fragmented frame, use `newframe = frame.copy()`\n",
      "  features_test_en[\n",
      "/var/folders/8y/6qgr48pn4js29rkc2ts9hck80000gn/T/ipykernel_13926/1141318347.py:2: PerformanceWarning: DataFrame is highly fragmented.  This is usually the result of calling `frame.insert` many times, which has poor performance.  Consider joining all columns at once using pd.concat(axis=1) instead. To get a de-fragmented frame, use `newframe = frame.copy()`\n",
      "  features_test_en[\n",
      "/var/folders/8y/6qgr48pn4js29rkc2ts9hck80000gn/T/ipykernel_13926/1141318347.py:2: PerformanceWarning: DataFrame is highly fragmented.  This is usually the result of calling `frame.insert` many times, which has poor performance.  Consider joining all columns at once using pd.concat(axis=1) instead. To get a de-fragmented frame, use `newframe = frame.copy()`\n",
      "  features_test_en[\n",
      "/var/folders/8y/6qgr48pn4js29rkc2ts9hck80000gn/T/ipykernel_13926/1141318347.py:2: PerformanceWarning: DataFrame is highly fragmented.  This is usually the result of calling `frame.insert` many times, which has poor performance.  Consider joining all columns at once using pd.concat(axis=1) instead. To get a de-fragmented frame, use `newframe = frame.copy()`\n",
      "  features_test_en[\n",
      "/var/folders/8y/6qgr48pn4js29rkc2ts9hck80000gn/T/ipykernel_13926/1141318347.py:2: PerformanceWarning: DataFrame is highly fragmented.  This is usually the result of calling `frame.insert` many times, which has poor performance.  Consider joining all columns at once using pd.concat(axis=1) instead. To get a de-fragmented frame, use `newframe = frame.copy()`\n",
      "  features_test_en[\n",
      "/var/folders/8y/6qgr48pn4js29rkc2ts9hck80000gn/T/ipykernel_13926/1141318347.py:2: PerformanceWarning: DataFrame is highly fragmented.  This is usually the result of calling `frame.insert` many times, which has poor performance.  Consider joining all columns at once using pd.concat(axis=1) instead. To get a de-fragmented frame, use `newframe = frame.copy()`\n",
      "  features_test_en[\n",
      "/var/folders/8y/6qgr48pn4js29rkc2ts9hck80000gn/T/ipykernel_13926/1141318347.py:2: PerformanceWarning: DataFrame is highly fragmented.  This is usually the result of calling `frame.insert` many times, which has poor performance.  Consider joining all columns at once using pd.concat(axis=1) instead. To get a de-fragmented frame, use `newframe = frame.copy()`\n",
      "  features_test_en[\n",
      "/var/folders/8y/6qgr48pn4js29rkc2ts9hck80000gn/T/ipykernel_13926/1141318347.py:2: PerformanceWarning: DataFrame is highly fragmented.  This is usually the result of calling `frame.insert` many times, which has poor performance.  Consider joining all columns at once using pd.concat(axis=1) instead. To get a de-fragmented frame, use `newframe = frame.copy()`\n",
      "  features_test_en[\n",
      "/var/folders/8y/6qgr48pn4js29rkc2ts9hck80000gn/T/ipykernel_13926/1141318347.py:2: PerformanceWarning: DataFrame is highly fragmented.  This is usually the result of calling `frame.insert` many times, which has poor performance.  Consider joining all columns at once using pd.concat(axis=1) instead. To get a de-fragmented frame, use `newframe = frame.copy()`\n",
      "  features_test_en[\n",
      "/var/folders/8y/6qgr48pn4js29rkc2ts9hck80000gn/T/ipykernel_13926/1141318347.py:2: PerformanceWarning: DataFrame is highly fragmented.  This is usually the result of calling `frame.insert` many times, which has poor performance.  Consider joining all columns at once using pd.concat(axis=1) instead. To get a de-fragmented frame, use `newframe = frame.copy()`\n",
      "  features_test_en[\n",
      "/var/folders/8y/6qgr48pn4js29rkc2ts9hck80000gn/T/ipykernel_13926/1141318347.py:2: PerformanceWarning: DataFrame is highly fragmented.  This is usually the result of calling `frame.insert` many times, which has poor performance.  Consider joining all columns at once using pd.concat(axis=1) instead. To get a de-fragmented frame, use `newframe = frame.copy()`\n",
      "  features_test_en[\n",
      "/var/folders/8y/6qgr48pn4js29rkc2ts9hck80000gn/T/ipykernel_13926/1141318347.py:2: PerformanceWarning: DataFrame is highly fragmented.  This is usually the result of calling `frame.insert` many times, which has poor performance.  Consider joining all columns at once using pd.concat(axis=1) instead. To get a de-fragmented frame, use `newframe = frame.copy()`\n",
      "  features_test_en[\n",
      "/var/folders/8y/6qgr48pn4js29rkc2ts9hck80000gn/T/ipykernel_13926/1141318347.py:2: PerformanceWarning: DataFrame is highly fragmented.  This is usually the result of calling `frame.insert` many times, which has poor performance.  Consider joining all columns at once using pd.concat(axis=1) instead. To get a de-fragmented frame, use `newframe = frame.copy()`\n",
      "  features_test_en[\n",
      "/var/folders/8y/6qgr48pn4js29rkc2ts9hck80000gn/T/ipykernel_13926/1141318347.py:2: PerformanceWarning: DataFrame is highly fragmented.  This is usually the result of calling `frame.insert` many times, which has poor performance.  Consider joining all columns at once using pd.concat(axis=1) instead. To get a de-fragmented frame, use `newframe = frame.copy()`\n",
      "  features_test_en[\n",
      "/var/folders/8y/6qgr48pn4js29rkc2ts9hck80000gn/T/ipykernel_13926/1141318347.py:2: PerformanceWarning: DataFrame is highly fragmented.  This is usually the result of calling `frame.insert` many times, which has poor performance.  Consider joining all columns at once using pd.concat(axis=1) instead. To get a de-fragmented frame, use `newframe = frame.copy()`\n",
      "  features_test_en[\n",
      "/var/folders/8y/6qgr48pn4js29rkc2ts9hck80000gn/T/ipykernel_13926/1141318347.py:2: PerformanceWarning: DataFrame is highly fragmented.  This is usually the result of calling `frame.insert` many times, which has poor performance.  Consider joining all columns at once using pd.concat(axis=1) instead. To get a de-fragmented frame, use `newframe = frame.copy()`\n",
      "  features_test_en[\n",
      "/var/folders/8y/6qgr48pn4js29rkc2ts9hck80000gn/T/ipykernel_13926/1141318347.py:2: PerformanceWarning: DataFrame is highly fragmented.  This is usually the result of calling `frame.insert` many times, which has poor performance.  Consider joining all columns at once using pd.concat(axis=1) instead. To get a de-fragmented frame, use `newframe = frame.copy()`\n",
      "  features_test_en[\n",
      "/var/folders/8y/6qgr48pn4js29rkc2ts9hck80000gn/T/ipykernel_13926/1141318347.py:2: PerformanceWarning: DataFrame is highly fragmented.  This is usually the result of calling `frame.insert` many times, which has poor performance.  Consider joining all columns at once using pd.concat(axis=1) instead. To get a de-fragmented frame, use `newframe = frame.copy()`\n",
      "  features_test_en[\n",
      "/var/folders/8y/6qgr48pn4js29rkc2ts9hck80000gn/T/ipykernel_13926/1141318347.py:2: PerformanceWarning: DataFrame is highly fragmented.  This is usually the result of calling `frame.insert` many times, which has poor performance.  Consider joining all columns at once using pd.concat(axis=1) instead. To get a de-fragmented frame, use `newframe = frame.copy()`\n",
      "  features_test_en[\n",
      "/var/folders/8y/6qgr48pn4js29rkc2ts9hck80000gn/T/ipykernel_13926/1141318347.py:2: PerformanceWarning: DataFrame is highly fragmented.  This is usually the result of calling `frame.insert` many times, which has poor performance.  Consider joining all columns at once using pd.concat(axis=1) instead. To get a de-fragmented frame, use `newframe = frame.copy()`\n",
      "  features_test_en[\n",
      "/var/folders/8y/6qgr48pn4js29rkc2ts9hck80000gn/T/ipykernel_13926/1141318347.py:2: PerformanceWarning: DataFrame is highly fragmented.  This is usually the result of calling `frame.insert` many times, which has poor performance.  Consider joining all columns at once using pd.concat(axis=1) instead. To get a de-fragmented frame, use `newframe = frame.copy()`\n",
      "  features_test_en[\n",
      "/var/folders/8y/6qgr48pn4js29rkc2ts9hck80000gn/T/ipykernel_13926/1141318347.py:2: PerformanceWarning: DataFrame is highly fragmented.  This is usually the result of calling `frame.insert` many times, which has poor performance.  Consider joining all columns at once using pd.concat(axis=1) instead. To get a de-fragmented frame, use `newframe = frame.copy()`\n",
      "  features_test_en[\n",
      "/var/folders/8y/6qgr48pn4js29rkc2ts9hck80000gn/T/ipykernel_13926/1141318347.py:2: PerformanceWarning: DataFrame is highly fragmented.  This is usually the result of calling `frame.insert` many times, which has poor performance.  Consider joining all columns at once using pd.concat(axis=1) instead. To get a de-fragmented frame, use `newframe = frame.copy()`\n",
      "  features_test_en[\n",
      "/var/folders/8y/6qgr48pn4js29rkc2ts9hck80000gn/T/ipykernel_13926/1141318347.py:2: PerformanceWarning: DataFrame is highly fragmented.  This is usually the result of calling `frame.insert` many times, which has poor performance.  Consider joining all columns at once using pd.concat(axis=1) instead. To get a de-fragmented frame, use `newframe = frame.copy()`\n",
      "  features_test_en[\n",
      "/var/folders/8y/6qgr48pn4js29rkc2ts9hck80000gn/T/ipykernel_13926/1141318347.py:2: PerformanceWarning: DataFrame is highly fragmented.  This is usually the result of calling `frame.insert` many times, which has poor performance.  Consider joining all columns at once using pd.concat(axis=1) instead. To get a de-fragmented frame, use `newframe = frame.copy()`\n",
      "  features_test_en[\n",
      "/var/folders/8y/6qgr48pn4js29rkc2ts9hck80000gn/T/ipykernel_13926/1141318347.py:2: PerformanceWarning: DataFrame is highly fragmented.  This is usually the result of calling `frame.insert` many times, which has poor performance.  Consider joining all columns at once using pd.concat(axis=1) instead. To get a de-fragmented frame, use `newframe = frame.copy()`\n",
      "  features_test_en[\n",
      "/var/folders/8y/6qgr48pn4js29rkc2ts9hck80000gn/T/ipykernel_13926/1141318347.py:2: PerformanceWarning: DataFrame is highly fragmented.  This is usually the result of calling `frame.insert` many times, which has poor performance.  Consider joining all columns at once using pd.concat(axis=1) instead. To get a de-fragmented frame, use `newframe = frame.copy()`\n",
      "  features_test_en[\n",
      "/var/folders/8y/6qgr48pn4js29rkc2ts9hck80000gn/T/ipykernel_13926/1141318347.py:2: PerformanceWarning: DataFrame is highly fragmented.  This is usually the result of calling `frame.insert` many times, which has poor performance.  Consider joining all columns at once using pd.concat(axis=1) instead. To get a de-fragmented frame, use `newframe = frame.copy()`\n",
      "  features_test_en[\n",
      "/var/folders/8y/6qgr48pn4js29rkc2ts9hck80000gn/T/ipykernel_13926/1141318347.py:2: PerformanceWarning: DataFrame is highly fragmented.  This is usually the result of calling `frame.insert` many times, which has poor performance.  Consider joining all columns at once using pd.concat(axis=1) instead. To get a de-fragmented frame, use `newframe = frame.copy()`\n",
      "  features_test_en[\n",
      "/var/folders/8y/6qgr48pn4js29rkc2ts9hck80000gn/T/ipykernel_13926/1141318347.py:2: PerformanceWarning: DataFrame is highly fragmented.  This is usually the result of calling `frame.insert` many times, which has poor performance.  Consider joining all columns at once using pd.concat(axis=1) instead. To get a de-fragmented frame, use `newframe = frame.copy()`\n",
      "  features_test_en[\n",
      "/var/folders/8y/6qgr48pn4js29rkc2ts9hck80000gn/T/ipykernel_13926/1141318347.py:2: PerformanceWarning: DataFrame is highly fragmented.  This is usually the result of calling `frame.insert` many times, which has poor performance.  Consider joining all columns at once using pd.concat(axis=1) instead. To get a de-fragmented frame, use `newframe = frame.copy()`\n",
      "  features_test_en[\n",
      "/var/folders/8y/6qgr48pn4js29rkc2ts9hck80000gn/T/ipykernel_13926/1141318347.py:2: PerformanceWarning: DataFrame is highly fragmented.  This is usually the result of calling `frame.insert` many times, which has poor performance.  Consider joining all columns at once using pd.concat(axis=1) instead. To get a de-fragmented frame, use `newframe = frame.copy()`\n",
      "  features_test_en[\n",
      "/var/folders/8y/6qgr48pn4js29rkc2ts9hck80000gn/T/ipykernel_13926/1141318347.py:2: PerformanceWarning: DataFrame is highly fragmented.  This is usually the result of calling `frame.insert` many times, which has poor performance.  Consider joining all columns at once using pd.concat(axis=1) instead. To get a de-fragmented frame, use `newframe = frame.copy()`\n",
      "  features_test_en[\n",
      "/var/folders/8y/6qgr48pn4js29rkc2ts9hck80000gn/T/ipykernel_13926/1141318347.py:2: PerformanceWarning: DataFrame is highly fragmented.  This is usually the result of calling `frame.insert` many times, which has poor performance.  Consider joining all columns at once using pd.concat(axis=1) instead. To get a de-fragmented frame, use `newframe = frame.copy()`\n",
      "  features_test_en[\n",
      "/var/folders/8y/6qgr48pn4js29rkc2ts9hck80000gn/T/ipykernel_13926/1141318347.py:2: PerformanceWarning: DataFrame is highly fragmented.  This is usually the result of calling `frame.insert` many times, which has poor performance.  Consider joining all columns at once using pd.concat(axis=1) instead. To get a de-fragmented frame, use `newframe = frame.copy()`\n",
      "  features_test_en[\n",
      "/var/folders/8y/6qgr48pn4js29rkc2ts9hck80000gn/T/ipykernel_13926/1141318347.py:2: PerformanceWarning: DataFrame is highly fragmented.  This is usually the result of calling `frame.insert` many times, which has poor performance.  Consider joining all columns at once using pd.concat(axis=1) instead. To get a de-fragmented frame, use `newframe = frame.copy()`\n",
      "  features_test_en[\n",
      "/var/folders/8y/6qgr48pn4js29rkc2ts9hck80000gn/T/ipykernel_13926/1141318347.py:2: PerformanceWarning: DataFrame is highly fragmented.  This is usually the result of calling `frame.insert` many times, which has poor performance.  Consider joining all columns at once using pd.concat(axis=1) instead. To get a de-fragmented frame, use `newframe = frame.copy()`\n",
      "  features_test_en[\n",
      "/var/folders/8y/6qgr48pn4js29rkc2ts9hck80000gn/T/ipykernel_13926/1141318347.py:2: PerformanceWarning: DataFrame is highly fragmented.  This is usually the result of calling `frame.insert` many times, which has poor performance.  Consider joining all columns at once using pd.concat(axis=1) instead. To get a de-fragmented frame, use `newframe = frame.copy()`\n",
      "  features_test_en[\n",
      "/var/folders/8y/6qgr48pn4js29rkc2ts9hck80000gn/T/ipykernel_13926/1141318347.py:2: PerformanceWarning: DataFrame is highly fragmented.  This is usually the result of calling `frame.insert` many times, which has poor performance.  Consider joining all columns at once using pd.concat(axis=1) instead. To get a de-fragmented frame, use `newframe = frame.copy()`\n",
      "  features_test_en[\n",
      "/var/folders/8y/6qgr48pn4js29rkc2ts9hck80000gn/T/ipykernel_13926/1141318347.py:2: PerformanceWarning: DataFrame is highly fragmented.  This is usually the result of calling `frame.insert` many times, which has poor performance.  Consider joining all columns at once using pd.concat(axis=1) instead. To get a de-fragmented frame, use `newframe = frame.copy()`\n",
      "  features_test_en[\n",
      "/var/folders/8y/6qgr48pn4js29rkc2ts9hck80000gn/T/ipykernel_13926/1141318347.py:2: PerformanceWarning: DataFrame is highly fragmented.  This is usually the result of calling `frame.insert` many times, which has poor performance.  Consider joining all columns at once using pd.concat(axis=1) instead. To get a de-fragmented frame, use `newframe = frame.copy()`\n",
      "  features_test_en[\n",
      "/var/folders/8y/6qgr48pn4js29rkc2ts9hck80000gn/T/ipykernel_13926/1141318347.py:2: PerformanceWarning: DataFrame is highly fragmented.  This is usually the result of calling `frame.insert` many times, which has poor performance.  Consider joining all columns at once using pd.concat(axis=1) instead. To get a de-fragmented frame, use `newframe = frame.copy()`\n",
      "  features_test_en[\n",
      "/var/folders/8y/6qgr48pn4js29rkc2ts9hck80000gn/T/ipykernel_13926/1141318347.py:2: PerformanceWarning: DataFrame is highly fragmented.  This is usually the result of calling `frame.insert` many times, which has poor performance.  Consider joining all columns at once using pd.concat(axis=1) instead. To get a de-fragmented frame, use `newframe = frame.copy()`\n",
      "  features_test_en[\n",
      "/var/folders/8y/6qgr48pn4js29rkc2ts9hck80000gn/T/ipykernel_13926/1141318347.py:2: PerformanceWarning: DataFrame is highly fragmented.  This is usually the result of calling `frame.insert` many times, which has poor performance.  Consider joining all columns at once using pd.concat(axis=1) instead. To get a de-fragmented frame, use `newframe = frame.copy()`\n",
      "  features_test_en[\n",
      "/var/folders/8y/6qgr48pn4js29rkc2ts9hck80000gn/T/ipykernel_13926/1141318347.py:2: PerformanceWarning: DataFrame is highly fragmented.  This is usually the result of calling `frame.insert` many times, which has poor performance.  Consider joining all columns at once using pd.concat(axis=1) instead. To get a de-fragmented frame, use `newframe = frame.copy()`\n",
      "  features_test_en[\n",
      "/var/folders/8y/6qgr48pn4js29rkc2ts9hck80000gn/T/ipykernel_13926/1141318347.py:2: PerformanceWarning: DataFrame is highly fragmented.  This is usually the result of calling `frame.insert` many times, which has poor performance.  Consider joining all columns at once using pd.concat(axis=1) instead. To get a de-fragmented frame, use `newframe = frame.copy()`\n",
      "  features_test_en[\n",
      "/var/folders/8y/6qgr48pn4js29rkc2ts9hck80000gn/T/ipykernel_13926/1141318347.py:2: PerformanceWarning: DataFrame is highly fragmented.  This is usually the result of calling `frame.insert` many times, which has poor performance.  Consider joining all columns at once using pd.concat(axis=1) instead. To get a de-fragmented frame, use `newframe = frame.copy()`\n",
      "  features_test_en[\n",
      "/var/folders/8y/6qgr48pn4js29rkc2ts9hck80000gn/T/ipykernel_13926/1141318347.py:2: PerformanceWarning: DataFrame is highly fragmented.  This is usually the result of calling `frame.insert` many times, which has poor performance.  Consider joining all columns at once using pd.concat(axis=1) instead. To get a de-fragmented frame, use `newframe = frame.copy()`\n",
      "  features_test_en[\n",
      "/var/folders/8y/6qgr48pn4js29rkc2ts9hck80000gn/T/ipykernel_13926/1141318347.py:2: PerformanceWarning: DataFrame is highly fragmented.  This is usually the result of calling `frame.insert` many times, which has poor performance.  Consider joining all columns at once using pd.concat(axis=1) instead. To get a de-fragmented frame, use `newframe = frame.copy()`\n",
      "  features_test_en[\n",
      "/var/folders/8y/6qgr48pn4js29rkc2ts9hck80000gn/T/ipykernel_13926/1141318347.py:2: PerformanceWarning: DataFrame is highly fragmented.  This is usually the result of calling `frame.insert` many times, which has poor performance.  Consider joining all columns at once using pd.concat(axis=1) instead. To get a de-fragmented frame, use `newframe = frame.copy()`\n",
      "  features_test_en[\n",
      "/var/folders/8y/6qgr48pn4js29rkc2ts9hck80000gn/T/ipykernel_13926/1141318347.py:2: PerformanceWarning: DataFrame is highly fragmented.  This is usually the result of calling `frame.insert` many times, which has poor performance.  Consider joining all columns at once using pd.concat(axis=1) instead. To get a de-fragmented frame, use `newframe = frame.copy()`\n",
      "  features_test_en[\n",
      "/var/folders/8y/6qgr48pn4js29rkc2ts9hck80000gn/T/ipykernel_13926/1141318347.py:2: PerformanceWarning: DataFrame is highly fragmented.  This is usually the result of calling `frame.insert` many times, which has poor performance.  Consider joining all columns at once using pd.concat(axis=1) instead. To get a de-fragmented frame, use `newframe = frame.copy()`\n",
      "  features_test_en[\n",
      "/var/folders/8y/6qgr48pn4js29rkc2ts9hck80000gn/T/ipykernel_13926/1141318347.py:2: PerformanceWarning: DataFrame is highly fragmented.  This is usually the result of calling `frame.insert` many times, which has poor performance.  Consider joining all columns at once using pd.concat(axis=1) instead. To get a de-fragmented frame, use `newframe = frame.copy()`\n",
      "  features_test_en[\n",
      "/var/folders/8y/6qgr48pn4js29rkc2ts9hck80000gn/T/ipykernel_13926/1141318347.py:2: PerformanceWarning: DataFrame is highly fragmented.  This is usually the result of calling `frame.insert` many times, which has poor performance.  Consider joining all columns at once using pd.concat(axis=1) instead. To get a de-fragmented frame, use `newframe = frame.copy()`\n",
      "  features_test_en[\n",
      "/var/folders/8y/6qgr48pn4js29rkc2ts9hck80000gn/T/ipykernel_13926/1141318347.py:2: PerformanceWarning: DataFrame is highly fragmented.  This is usually the result of calling `frame.insert` many times, which has poor performance.  Consider joining all columns at once using pd.concat(axis=1) instead. To get a de-fragmented frame, use `newframe = frame.copy()`\n",
      "  features_test_en[\n",
      "/var/folders/8y/6qgr48pn4js29rkc2ts9hck80000gn/T/ipykernel_13926/1141318347.py:2: PerformanceWarning: DataFrame is highly fragmented.  This is usually the result of calling `frame.insert` many times, which has poor performance.  Consider joining all columns at once using pd.concat(axis=1) instead. To get a de-fragmented frame, use `newframe = frame.copy()`\n",
      "  features_test_en[\n",
      "/var/folders/8y/6qgr48pn4js29rkc2ts9hck80000gn/T/ipykernel_13926/1141318347.py:2: PerformanceWarning: DataFrame is highly fragmented.  This is usually the result of calling `frame.insert` many times, which has poor performance.  Consider joining all columns at once using pd.concat(axis=1) instead. To get a de-fragmented frame, use `newframe = frame.copy()`\n",
      "  features_test_en[\n",
      "/var/folders/8y/6qgr48pn4js29rkc2ts9hck80000gn/T/ipykernel_13926/1141318347.py:2: PerformanceWarning: DataFrame is highly fragmented.  This is usually the result of calling `frame.insert` many times, which has poor performance.  Consider joining all columns at once using pd.concat(axis=1) instead. To get a de-fragmented frame, use `newframe = frame.copy()`\n",
      "  features_test_en[\n",
      "/var/folders/8y/6qgr48pn4js29rkc2ts9hck80000gn/T/ipykernel_13926/1141318347.py:2: PerformanceWarning: DataFrame is highly fragmented.  This is usually the result of calling `frame.insert` many times, which has poor performance.  Consider joining all columns at once using pd.concat(axis=1) instead. To get a de-fragmented frame, use `newframe = frame.copy()`\n",
      "  features_test_en[\n",
      "/var/folders/8y/6qgr48pn4js29rkc2ts9hck80000gn/T/ipykernel_13926/1141318347.py:2: PerformanceWarning: DataFrame is highly fragmented.  This is usually the result of calling `frame.insert` many times, which has poor performance.  Consider joining all columns at once using pd.concat(axis=1) instead. To get a de-fragmented frame, use `newframe = frame.copy()`\n",
      "  features_test_en[\n",
      "/var/folders/8y/6qgr48pn4js29rkc2ts9hck80000gn/T/ipykernel_13926/1141318347.py:2: PerformanceWarning: DataFrame is highly fragmented.  This is usually the result of calling `frame.insert` many times, which has poor performance.  Consider joining all columns at once using pd.concat(axis=1) instead. To get a de-fragmented frame, use `newframe = frame.copy()`\n",
      "  features_test_en[\n",
      "/var/folders/8y/6qgr48pn4js29rkc2ts9hck80000gn/T/ipykernel_13926/1141318347.py:2: PerformanceWarning: DataFrame is highly fragmented.  This is usually the result of calling `frame.insert` many times, which has poor performance.  Consider joining all columns at once using pd.concat(axis=1) instead. To get a de-fragmented frame, use `newframe = frame.copy()`\n",
      "  features_test_en[\n",
      "/var/folders/8y/6qgr48pn4js29rkc2ts9hck80000gn/T/ipykernel_13926/1141318347.py:2: PerformanceWarning: DataFrame is highly fragmented.  This is usually the result of calling `frame.insert` many times, which has poor performance.  Consider joining all columns at once using pd.concat(axis=1) instead. To get a de-fragmented frame, use `newframe = frame.copy()`\n",
      "  features_test_en[\n",
      "/var/folders/8y/6qgr48pn4js29rkc2ts9hck80000gn/T/ipykernel_13926/1141318347.py:2: PerformanceWarning: DataFrame is highly fragmented.  This is usually the result of calling `frame.insert` many times, which has poor performance.  Consider joining all columns at once using pd.concat(axis=1) instead. To get a de-fragmented frame, use `newframe = frame.copy()`\n",
      "  features_test_en[\n",
      "/var/folders/8y/6qgr48pn4js29rkc2ts9hck80000gn/T/ipykernel_13926/1141318347.py:2: PerformanceWarning: DataFrame is highly fragmented.  This is usually the result of calling `frame.insert` many times, which has poor performance.  Consider joining all columns at once using pd.concat(axis=1) instead. To get a de-fragmented frame, use `newframe = frame.copy()`\n",
      "  features_test_en[\n",
      "/var/folders/8y/6qgr48pn4js29rkc2ts9hck80000gn/T/ipykernel_13926/1141318347.py:2: PerformanceWarning: DataFrame is highly fragmented.  This is usually the result of calling `frame.insert` many times, which has poor performance.  Consider joining all columns at once using pd.concat(axis=1) instead. To get a de-fragmented frame, use `newframe = frame.copy()`\n",
      "  features_test_en[\n",
      "/var/folders/8y/6qgr48pn4js29rkc2ts9hck80000gn/T/ipykernel_13926/1141318347.py:2: PerformanceWarning: DataFrame is highly fragmented.  This is usually the result of calling `frame.insert` many times, which has poor performance.  Consider joining all columns at once using pd.concat(axis=1) instead. To get a de-fragmented frame, use `newframe = frame.copy()`\n",
      "  features_test_en[\n",
      "/var/folders/8y/6qgr48pn4js29rkc2ts9hck80000gn/T/ipykernel_13926/1141318347.py:2: PerformanceWarning: DataFrame is highly fragmented.  This is usually the result of calling `frame.insert` many times, which has poor performance.  Consider joining all columns at once using pd.concat(axis=1) instead. To get a de-fragmented frame, use `newframe = frame.copy()`\n",
      "  features_test_en[\n",
      "/var/folders/8y/6qgr48pn4js29rkc2ts9hck80000gn/T/ipykernel_13926/1141318347.py:2: PerformanceWarning: DataFrame is highly fragmented.  This is usually the result of calling `frame.insert` many times, which has poor performance.  Consider joining all columns at once using pd.concat(axis=1) instead. To get a de-fragmented frame, use `newframe = frame.copy()`\n",
      "  features_test_en[\n",
      "/var/folders/8y/6qgr48pn4js29rkc2ts9hck80000gn/T/ipykernel_13926/1141318347.py:2: PerformanceWarning: DataFrame is highly fragmented.  This is usually the result of calling `frame.insert` many times, which has poor performance.  Consider joining all columns at once using pd.concat(axis=1) instead. To get a de-fragmented frame, use `newframe = frame.copy()`\n",
      "  features_test_en[\n",
      "/var/folders/8y/6qgr48pn4js29rkc2ts9hck80000gn/T/ipykernel_13926/1141318347.py:2: PerformanceWarning: DataFrame is highly fragmented.  This is usually the result of calling `frame.insert` many times, which has poor performance.  Consider joining all columns at once using pd.concat(axis=1) instead. To get a de-fragmented frame, use `newframe = frame.copy()`\n",
      "  features_test_en[\n",
      "/var/folders/8y/6qgr48pn4js29rkc2ts9hck80000gn/T/ipykernel_13926/1141318347.py:2: PerformanceWarning: DataFrame is highly fragmented.  This is usually the result of calling `frame.insert` many times, which has poor performance.  Consider joining all columns at once using pd.concat(axis=1) instead. To get a de-fragmented frame, use `newframe = frame.copy()`\n",
      "  features_test_en[\n",
      "/var/folders/8y/6qgr48pn4js29rkc2ts9hck80000gn/T/ipykernel_13926/1141318347.py:2: PerformanceWarning: DataFrame is highly fragmented.  This is usually the result of calling `frame.insert` many times, which has poor performance.  Consider joining all columns at once using pd.concat(axis=1) instead. To get a de-fragmented frame, use `newframe = frame.copy()`\n",
      "  features_test_en[\n",
      "/var/folders/8y/6qgr48pn4js29rkc2ts9hck80000gn/T/ipykernel_13926/1141318347.py:2: PerformanceWarning: DataFrame is highly fragmented.  This is usually the result of calling `frame.insert` many times, which has poor performance.  Consider joining all columns at once using pd.concat(axis=1) instead. To get a de-fragmented frame, use `newframe = frame.copy()`\n",
      "  features_test_en[\n",
      "/var/folders/8y/6qgr48pn4js29rkc2ts9hck80000gn/T/ipykernel_13926/1141318347.py:2: PerformanceWarning: DataFrame is highly fragmented.  This is usually the result of calling `frame.insert` many times, which has poor performance.  Consider joining all columns at once using pd.concat(axis=1) instead. To get a de-fragmented frame, use `newframe = frame.copy()`\n",
      "  features_test_en[\n",
      "/var/folders/8y/6qgr48pn4js29rkc2ts9hck80000gn/T/ipykernel_13926/1141318347.py:2: PerformanceWarning: DataFrame is highly fragmented.  This is usually the result of calling `frame.insert` many times, which has poor performance.  Consider joining all columns at once using pd.concat(axis=1) instead. To get a de-fragmented frame, use `newframe = frame.copy()`\n",
      "  features_test_en[\n",
      "/var/folders/8y/6qgr48pn4js29rkc2ts9hck80000gn/T/ipykernel_13926/1141318347.py:2: PerformanceWarning: DataFrame is highly fragmented.  This is usually the result of calling `frame.insert` many times, which has poor performance.  Consider joining all columns at once using pd.concat(axis=1) instead. To get a de-fragmented frame, use `newframe = frame.copy()`\n",
      "  features_test_en[\n",
      "/var/folders/8y/6qgr48pn4js29rkc2ts9hck80000gn/T/ipykernel_13926/1141318347.py:2: PerformanceWarning: DataFrame is highly fragmented.  This is usually the result of calling `frame.insert` many times, which has poor performance.  Consider joining all columns at once using pd.concat(axis=1) instead. To get a de-fragmented frame, use `newframe = frame.copy()`\n",
      "  features_test_en[\n",
      "/var/folders/8y/6qgr48pn4js29rkc2ts9hck80000gn/T/ipykernel_13926/1141318347.py:2: PerformanceWarning: DataFrame is highly fragmented.  This is usually the result of calling `frame.insert` many times, which has poor performance.  Consider joining all columns at once using pd.concat(axis=1) instead. To get a de-fragmented frame, use `newframe = frame.copy()`\n",
      "  features_test_en[\n",
      "/var/folders/8y/6qgr48pn4js29rkc2ts9hck80000gn/T/ipykernel_13926/1141318347.py:2: PerformanceWarning: DataFrame is highly fragmented.  This is usually the result of calling `frame.insert` many times, which has poor performance.  Consider joining all columns at once using pd.concat(axis=1) instead. To get a de-fragmented frame, use `newframe = frame.copy()`\n",
      "  features_test_en[\n",
      "/var/folders/8y/6qgr48pn4js29rkc2ts9hck80000gn/T/ipykernel_13926/1141318347.py:2: PerformanceWarning: DataFrame is highly fragmented.  This is usually the result of calling `frame.insert` many times, which has poor performance.  Consider joining all columns at once using pd.concat(axis=1) instead. To get a de-fragmented frame, use `newframe = frame.copy()`\n",
      "  features_test_en[\n",
      "/var/folders/8y/6qgr48pn4js29rkc2ts9hck80000gn/T/ipykernel_13926/1141318347.py:2: PerformanceWarning: DataFrame is highly fragmented.  This is usually the result of calling `frame.insert` many times, which has poor performance.  Consider joining all columns at once using pd.concat(axis=1) instead. To get a de-fragmented frame, use `newframe = frame.copy()`\n",
      "  features_test_en[\n",
      "/var/folders/8y/6qgr48pn4js29rkc2ts9hck80000gn/T/ipykernel_13926/1141318347.py:2: PerformanceWarning: DataFrame is highly fragmented.  This is usually the result of calling `frame.insert` many times, which has poor performance.  Consider joining all columns at once using pd.concat(axis=1) instead. To get a de-fragmented frame, use `newframe = frame.copy()`\n",
      "  features_test_en[\n",
      "/var/folders/8y/6qgr48pn4js29rkc2ts9hck80000gn/T/ipykernel_13926/1141318347.py:2: PerformanceWarning: DataFrame is highly fragmented.  This is usually the result of calling `frame.insert` many times, which has poor performance.  Consider joining all columns at once using pd.concat(axis=1) instead. To get a de-fragmented frame, use `newframe = frame.copy()`\n",
      "  features_test_en[\n",
      "/var/folders/8y/6qgr48pn4js29rkc2ts9hck80000gn/T/ipykernel_13926/1141318347.py:2: PerformanceWarning: DataFrame is highly fragmented.  This is usually the result of calling `frame.insert` many times, which has poor performance.  Consider joining all columns at once using pd.concat(axis=1) instead. To get a de-fragmented frame, use `newframe = frame.copy()`\n",
      "  features_test_en[\n",
      "/var/folders/8y/6qgr48pn4js29rkc2ts9hck80000gn/T/ipykernel_13926/1141318347.py:2: PerformanceWarning: DataFrame is highly fragmented.  This is usually the result of calling `frame.insert` many times, which has poor performance.  Consider joining all columns at once using pd.concat(axis=1) instead. To get a de-fragmented frame, use `newframe = frame.copy()`\n",
      "  features_test_en[\n",
      "/var/folders/8y/6qgr48pn4js29rkc2ts9hck80000gn/T/ipykernel_13926/1141318347.py:2: PerformanceWarning: DataFrame is highly fragmented.  This is usually the result of calling `frame.insert` many times, which has poor performance.  Consider joining all columns at once using pd.concat(axis=1) instead. To get a de-fragmented frame, use `newframe = frame.copy()`\n",
      "  features_test_en[\n",
      "/var/folders/8y/6qgr48pn4js29rkc2ts9hck80000gn/T/ipykernel_13926/1141318347.py:2: PerformanceWarning: DataFrame is highly fragmented.  This is usually the result of calling `frame.insert` many times, which has poor performance.  Consider joining all columns at once using pd.concat(axis=1) instead. To get a de-fragmented frame, use `newframe = frame.copy()`\n",
      "  features_test_en[\n",
      "/var/folders/8y/6qgr48pn4js29rkc2ts9hck80000gn/T/ipykernel_13926/1141318347.py:2: PerformanceWarning: DataFrame is highly fragmented.  This is usually the result of calling `frame.insert` many times, which has poor performance.  Consider joining all columns at once using pd.concat(axis=1) instead. To get a de-fragmented frame, use `newframe = frame.copy()`\n",
      "  features_test_en[\n",
      "/var/folders/8y/6qgr48pn4js29rkc2ts9hck80000gn/T/ipykernel_13926/1141318347.py:2: PerformanceWarning: DataFrame is highly fragmented.  This is usually the result of calling `frame.insert` many times, which has poor performance.  Consider joining all columns at once using pd.concat(axis=1) instead. To get a de-fragmented frame, use `newframe = frame.copy()`\n",
      "  features_test_en[\n",
      "/var/folders/8y/6qgr48pn4js29rkc2ts9hck80000gn/T/ipykernel_13926/1141318347.py:2: PerformanceWarning: DataFrame is highly fragmented.  This is usually the result of calling `frame.insert` many times, which has poor performance.  Consider joining all columns at once using pd.concat(axis=1) instead. To get a de-fragmented frame, use `newframe = frame.copy()`\n",
      "  features_test_en[\n",
      "/var/folders/8y/6qgr48pn4js29rkc2ts9hck80000gn/T/ipykernel_13926/1141318347.py:2: PerformanceWarning: DataFrame is highly fragmented.  This is usually the result of calling `frame.insert` many times, which has poor performance.  Consider joining all columns at once using pd.concat(axis=1) instead. To get a de-fragmented frame, use `newframe = frame.copy()`\n",
      "  features_test_en[\n",
      "/var/folders/8y/6qgr48pn4js29rkc2ts9hck80000gn/T/ipykernel_13926/1141318347.py:2: PerformanceWarning: DataFrame is highly fragmented.  This is usually the result of calling `frame.insert` many times, which has poor performance.  Consider joining all columns at once using pd.concat(axis=1) instead. To get a de-fragmented frame, use `newframe = frame.copy()`\n",
      "  features_test_en[\n",
      "/var/folders/8y/6qgr48pn4js29rkc2ts9hck80000gn/T/ipykernel_13926/1141318347.py:2: PerformanceWarning: DataFrame is highly fragmented.  This is usually the result of calling `frame.insert` many times, which has poor performance.  Consider joining all columns at once using pd.concat(axis=1) instead. To get a de-fragmented frame, use `newframe = frame.copy()`\n",
      "  features_test_en[\n",
      "/var/folders/8y/6qgr48pn4js29rkc2ts9hck80000gn/T/ipykernel_13926/1141318347.py:2: PerformanceWarning: DataFrame is highly fragmented.  This is usually the result of calling `frame.insert` many times, which has poor performance.  Consider joining all columns at once using pd.concat(axis=1) instead. To get a de-fragmented frame, use `newframe = frame.copy()`\n",
      "  features_test_en[\n",
      "/var/folders/8y/6qgr48pn4js29rkc2ts9hck80000gn/T/ipykernel_13926/1141318347.py:2: PerformanceWarning: DataFrame is highly fragmented.  This is usually the result of calling `frame.insert` many times, which has poor performance.  Consider joining all columns at once using pd.concat(axis=1) instead. To get a de-fragmented frame, use `newframe = frame.copy()`\n",
      "  features_test_en[\n",
      "/var/folders/8y/6qgr48pn4js29rkc2ts9hck80000gn/T/ipykernel_13926/1141318347.py:2: PerformanceWarning: DataFrame is highly fragmented.  This is usually the result of calling `frame.insert` many times, which has poor performance.  Consider joining all columns at once using pd.concat(axis=1) instead. To get a de-fragmented frame, use `newframe = frame.copy()`\n",
      "  features_test_en[\n",
      "/var/folders/8y/6qgr48pn4js29rkc2ts9hck80000gn/T/ipykernel_13926/1141318347.py:2: PerformanceWarning: DataFrame is highly fragmented.  This is usually the result of calling `frame.insert` many times, which has poor performance.  Consider joining all columns at once using pd.concat(axis=1) instead. To get a de-fragmented frame, use `newframe = frame.copy()`\n",
      "  features_test_en[\n",
      "/var/folders/8y/6qgr48pn4js29rkc2ts9hck80000gn/T/ipykernel_13926/1141318347.py:2: PerformanceWarning: DataFrame is highly fragmented.  This is usually the result of calling `frame.insert` many times, which has poor performance.  Consider joining all columns at once using pd.concat(axis=1) instead. To get a de-fragmented frame, use `newframe = frame.copy()`\n",
      "  features_test_en[\n",
      "/var/folders/8y/6qgr48pn4js29rkc2ts9hck80000gn/T/ipykernel_13926/1141318347.py:2: PerformanceWarning: DataFrame is highly fragmented.  This is usually the result of calling `frame.insert` many times, which has poor performance.  Consider joining all columns at once using pd.concat(axis=1) instead. To get a de-fragmented frame, use `newframe = frame.copy()`\n",
      "  features_test_en[\n",
      "/var/folders/8y/6qgr48pn4js29rkc2ts9hck80000gn/T/ipykernel_13926/1141318347.py:2: PerformanceWarning: DataFrame is highly fragmented.  This is usually the result of calling `frame.insert` many times, which has poor performance.  Consider joining all columns at once using pd.concat(axis=1) instead. To get a de-fragmented frame, use `newframe = frame.copy()`\n",
      "  features_test_en[\n",
      "/var/folders/8y/6qgr48pn4js29rkc2ts9hck80000gn/T/ipykernel_13926/1141318347.py:2: PerformanceWarning: DataFrame is highly fragmented.  This is usually the result of calling `frame.insert` many times, which has poor performance.  Consider joining all columns at once using pd.concat(axis=1) instead. To get a de-fragmented frame, use `newframe = frame.copy()`\n",
      "  features_test_en[\n",
      "/var/folders/8y/6qgr48pn4js29rkc2ts9hck80000gn/T/ipykernel_13926/1141318347.py:2: PerformanceWarning: DataFrame is highly fragmented.  This is usually the result of calling `frame.insert` many times, which has poor performance.  Consider joining all columns at once using pd.concat(axis=1) instead. To get a de-fragmented frame, use `newframe = frame.copy()`\n",
      "  features_test_en[\n",
      "/var/folders/8y/6qgr48pn4js29rkc2ts9hck80000gn/T/ipykernel_13926/1141318347.py:2: PerformanceWarning: DataFrame is highly fragmented.  This is usually the result of calling `frame.insert` many times, which has poor performance.  Consider joining all columns at once using pd.concat(axis=1) instead. To get a de-fragmented frame, use `newframe = frame.copy()`\n",
      "  features_test_en[\n",
      "/var/folders/8y/6qgr48pn4js29rkc2ts9hck80000gn/T/ipykernel_13926/1141318347.py:2: PerformanceWarning: DataFrame is highly fragmented.  This is usually the result of calling `frame.insert` many times, which has poor performance.  Consider joining all columns at once using pd.concat(axis=1) instead. To get a de-fragmented frame, use `newframe = frame.copy()`\n",
      "  features_test_en[\n",
      "/var/folders/8y/6qgr48pn4js29rkc2ts9hck80000gn/T/ipykernel_13926/1141318347.py:2: PerformanceWarning: DataFrame is highly fragmented.  This is usually the result of calling `frame.insert` many times, which has poor performance.  Consider joining all columns at once using pd.concat(axis=1) instead. To get a de-fragmented frame, use `newframe = frame.copy()`\n",
      "  features_test_en[\n",
      "/var/folders/8y/6qgr48pn4js29rkc2ts9hck80000gn/T/ipykernel_13926/1141318347.py:2: PerformanceWarning: DataFrame is highly fragmented.  This is usually the result of calling `frame.insert` many times, which has poor performance.  Consider joining all columns at once using pd.concat(axis=1) instead. To get a de-fragmented frame, use `newframe = frame.copy()`\n",
      "  features_test_en[\n",
      "/var/folders/8y/6qgr48pn4js29rkc2ts9hck80000gn/T/ipykernel_13926/1141318347.py:2: PerformanceWarning: DataFrame is highly fragmented.  This is usually the result of calling `frame.insert` many times, which has poor performance.  Consider joining all columns at once using pd.concat(axis=1) instead. To get a de-fragmented frame, use `newframe = frame.copy()`\n",
      "  features_test_en[\n",
      "/var/folders/8y/6qgr48pn4js29rkc2ts9hck80000gn/T/ipykernel_13926/1141318347.py:2: PerformanceWarning: DataFrame is highly fragmented.  This is usually the result of calling `frame.insert` many times, which has poor performance.  Consider joining all columns at once using pd.concat(axis=1) instead. To get a de-fragmented frame, use `newframe = frame.copy()`\n",
      "  features_test_en[\n",
      "/var/folders/8y/6qgr48pn4js29rkc2ts9hck80000gn/T/ipykernel_13926/1141318347.py:2: PerformanceWarning: DataFrame is highly fragmented.  This is usually the result of calling `frame.insert` many times, which has poor performance.  Consider joining all columns at once using pd.concat(axis=1) instead. To get a de-fragmented frame, use `newframe = frame.copy()`\n",
      "  features_test_en[\n",
      "/var/folders/8y/6qgr48pn4js29rkc2ts9hck80000gn/T/ipykernel_13926/1141318347.py:2: PerformanceWarning: DataFrame is highly fragmented.  This is usually the result of calling `frame.insert` many times, which has poor performance.  Consider joining all columns at once using pd.concat(axis=1) instead. To get a de-fragmented frame, use `newframe = frame.copy()`\n",
      "  features_test_en[\n",
      "/var/folders/8y/6qgr48pn4js29rkc2ts9hck80000gn/T/ipykernel_13926/1141318347.py:2: PerformanceWarning: DataFrame is highly fragmented.  This is usually the result of calling `frame.insert` many times, which has poor performance.  Consider joining all columns at once using pd.concat(axis=1) instead. To get a de-fragmented frame, use `newframe = frame.copy()`\n",
      "  features_test_en[\n",
      "/var/folders/8y/6qgr48pn4js29rkc2ts9hck80000gn/T/ipykernel_13926/1141318347.py:2: PerformanceWarning: DataFrame is highly fragmented.  This is usually the result of calling `frame.insert` many times, which has poor performance.  Consider joining all columns at once using pd.concat(axis=1) instead. To get a de-fragmented frame, use `newframe = frame.copy()`\n",
      "  features_test_en[\n",
      "/var/folders/8y/6qgr48pn4js29rkc2ts9hck80000gn/T/ipykernel_13926/1141318347.py:2: PerformanceWarning: DataFrame is highly fragmented.  This is usually the result of calling `frame.insert` many times, which has poor performance.  Consider joining all columns at once using pd.concat(axis=1) instead. To get a de-fragmented frame, use `newframe = frame.copy()`\n",
      "  features_test_en[\n",
      "/var/folders/8y/6qgr48pn4js29rkc2ts9hck80000gn/T/ipykernel_13926/1141318347.py:2: PerformanceWarning: DataFrame is highly fragmented.  This is usually the result of calling `frame.insert` many times, which has poor performance.  Consider joining all columns at once using pd.concat(axis=1) instead. To get a de-fragmented frame, use `newframe = frame.copy()`\n",
      "  features_test_en[\n",
      "/var/folders/8y/6qgr48pn4js29rkc2ts9hck80000gn/T/ipykernel_13926/1141318347.py:2: PerformanceWarning: DataFrame is highly fragmented.  This is usually the result of calling `frame.insert` many times, which has poor performance.  Consider joining all columns at once using pd.concat(axis=1) instead. To get a de-fragmented frame, use `newframe = frame.copy()`\n",
      "  features_test_en[\n",
      "/var/folders/8y/6qgr48pn4js29rkc2ts9hck80000gn/T/ipykernel_13926/1141318347.py:2: PerformanceWarning: DataFrame is highly fragmented.  This is usually the result of calling `frame.insert` many times, which has poor performance.  Consider joining all columns at once using pd.concat(axis=1) instead. To get a de-fragmented frame, use `newframe = frame.copy()`\n",
      "  features_test_en[\n",
      "/var/folders/8y/6qgr48pn4js29rkc2ts9hck80000gn/T/ipykernel_13926/1141318347.py:2: PerformanceWarning: DataFrame is highly fragmented.  This is usually the result of calling `frame.insert` many times, which has poor performance.  Consider joining all columns at once using pd.concat(axis=1) instead. To get a de-fragmented frame, use `newframe = frame.copy()`\n",
      "  features_test_en[\n",
      "/var/folders/8y/6qgr48pn4js29rkc2ts9hck80000gn/T/ipykernel_13926/1141318347.py:2: PerformanceWarning: DataFrame is highly fragmented.  This is usually the result of calling `frame.insert` many times, which has poor performance.  Consider joining all columns at once using pd.concat(axis=1) instead. To get a de-fragmented frame, use `newframe = frame.copy()`\n",
      "  features_test_en[\n",
      "/var/folders/8y/6qgr48pn4js29rkc2ts9hck80000gn/T/ipykernel_13926/1141318347.py:2: PerformanceWarning: DataFrame is highly fragmented.  This is usually the result of calling `frame.insert` many times, which has poor performance.  Consider joining all columns at once using pd.concat(axis=1) instead. To get a de-fragmented frame, use `newframe = frame.copy()`\n",
      "  features_test_en[\n",
      "/var/folders/8y/6qgr48pn4js29rkc2ts9hck80000gn/T/ipykernel_13926/1141318347.py:2: PerformanceWarning: DataFrame is highly fragmented.  This is usually the result of calling `frame.insert` many times, which has poor performance.  Consider joining all columns at once using pd.concat(axis=1) instead. To get a de-fragmented frame, use `newframe = frame.copy()`\n",
      "  features_test_en[\n",
      "/var/folders/8y/6qgr48pn4js29rkc2ts9hck80000gn/T/ipykernel_13926/1141318347.py:2: PerformanceWarning: DataFrame is highly fragmented.  This is usually the result of calling `frame.insert` many times, which has poor performance.  Consider joining all columns at once using pd.concat(axis=1) instead. To get a de-fragmented frame, use `newframe = frame.copy()`\n",
      "  features_test_en[\n",
      "/var/folders/8y/6qgr48pn4js29rkc2ts9hck80000gn/T/ipykernel_13926/1141318347.py:2: PerformanceWarning: DataFrame is highly fragmented.  This is usually the result of calling `frame.insert` many times, which has poor performance.  Consider joining all columns at once using pd.concat(axis=1) instead. To get a de-fragmented frame, use `newframe = frame.copy()`\n",
      "  features_test_en[\n",
      "/var/folders/8y/6qgr48pn4js29rkc2ts9hck80000gn/T/ipykernel_13926/1141318347.py:2: PerformanceWarning: DataFrame is highly fragmented.  This is usually the result of calling `frame.insert` many times, which has poor performance.  Consider joining all columns at once using pd.concat(axis=1) instead. To get a de-fragmented frame, use `newframe = frame.copy()`\n",
      "  features_test_en[\n",
      "/var/folders/8y/6qgr48pn4js29rkc2ts9hck80000gn/T/ipykernel_13926/1141318347.py:2: PerformanceWarning: DataFrame is highly fragmented.  This is usually the result of calling `frame.insert` many times, which has poor performance.  Consider joining all columns at once using pd.concat(axis=1) instead. To get a de-fragmented frame, use `newframe = frame.copy()`\n",
      "  features_test_en[\n",
      "/var/folders/8y/6qgr48pn4js29rkc2ts9hck80000gn/T/ipykernel_13926/1141318347.py:2: PerformanceWarning: DataFrame is highly fragmented.  This is usually the result of calling `frame.insert` many times, which has poor performance.  Consider joining all columns at once using pd.concat(axis=1) instead. To get a de-fragmented frame, use `newframe = frame.copy()`\n",
      "  features_test_en[\n",
      "/var/folders/8y/6qgr48pn4js29rkc2ts9hck80000gn/T/ipykernel_13926/1141318347.py:2: PerformanceWarning: DataFrame is highly fragmented.  This is usually the result of calling `frame.insert` many times, which has poor performance.  Consider joining all columns at once using pd.concat(axis=1) instead. To get a de-fragmented frame, use `newframe = frame.copy()`\n",
      "  features_test_en[\n",
      "/var/folders/8y/6qgr48pn4js29rkc2ts9hck80000gn/T/ipykernel_13926/1141318347.py:2: PerformanceWarning: DataFrame is highly fragmented.  This is usually the result of calling `frame.insert` many times, which has poor performance.  Consider joining all columns at once using pd.concat(axis=1) instead. To get a de-fragmented frame, use `newframe = frame.copy()`\n",
      "  features_test_en[\n",
      "/var/folders/8y/6qgr48pn4js29rkc2ts9hck80000gn/T/ipykernel_13926/1141318347.py:2: PerformanceWarning: DataFrame is highly fragmented.  This is usually the result of calling `frame.insert` many times, which has poor performance.  Consider joining all columns at once using pd.concat(axis=1) instead. To get a de-fragmented frame, use `newframe = frame.copy()`\n",
      "  features_test_en[\n",
      "/var/folders/8y/6qgr48pn4js29rkc2ts9hck80000gn/T/ipykernel_13926/1141318347.py:2: PerformanceWarning: DataFrame is highly fragmented.  This is usually the result of calling `frame.insert` many times, which has poor performance.  Consider joining all columns at once using pd.concat(axis=1) instead. To get a de-fragmented frame, use `newframe = frame.copy()`\n",
      "  features_test_en[\n",
      "/var/folders/8y/6qgr48pn4js29rkc2ts9hck80000gn/T/ipykernel_13926/1141318347.py:2: PerformanceWarning: DataFrame is highly fragmented.  This is usually the result of calling `frame.insert` many times, which has poor performance.  Consider joining all columns at once using pd.concat(axis=1) instead. To get a de-fragmented frame, use `newframe = frame.copy()`\n",
      "  features_test_en[\n",
      "/var/folders/8y/6qgr48pn4js29rkc2ts9hck80000gn/T/ipykernel_13926/1141318347.py:2: PerformanceWarning: DataFrame is highly fragmented.  This is usually the result of calling `frame.insert` many times, which has poor performance.  Consider joining all columns at once using pd.concat(axis=1) instead. To get a de-fragmented frame, use `newframe = frame.copy()`\n",
      "  features_test_en[\n",
      "/var/folders/8y/6qgr48pn4js29rkc2ts9hck80000gn/T/ipykernel_13926/1141318347.py:2: PerformanceWarning: DataFrame is highly fragmented.  This is usually the result of calling `frame.insert` many times, which has poor performance.  Consider joining all columns at once using pd.concat(axis=1) instead. To get a de-fragmented frame, use `newframe = frame.copy()`\n",
      "  features_test_en[\n",
      "/var/folders/8y/6qgr48pn4js29rkc2ts9hck80000gn/T/ipykernel_13926/1141318347.py:2: PerformanceWarning: DataFrame is highly fragmented.  This is usually the result of calling `frame.insert` many times, which has poor performance.  Consider joining all columns at once using pd.concat(axis=1) instead. To get a de-fragmented frame, use `newframe = frame.copy()`\n",
      "  features_test_en[\n",
      "/var/folders/8y/6qgr48pn4js29rkc2ts9hck80000gn/T/ipykernel_13926/1141318347.py:2: PerformanceWarning: DataFrame is highly fragmented.  This is usually the result of calling `frame.insert` many times, which has poor performance.  Consider joining all columns at once using pd.concat(axis=1) instead. To get a de-fragmented frame, use `newframe = frame.copy()`\n",
      "  features_test_en[\n",
      "/var/folders/8y/6qgr48pn4js29rkc2ts9hck80000gn/T/ipykernel_13926/1141318347.py:2: PerformanceWarning: DataFrame is highly fragmented.  This is usually the result of calling `frame.insert` many times, which has poor performance.  Consider joining all columns at once using pd.concat(axis=1) instead. To get a de-fragmented frame, use `newframe = frame.copy()`\n",
      "  features_test_en[\n",
      "/var/folders/8y/6qgr48pn4js29rkc2ts9hck80000gn/T/ipykernel_13926/1141318347.py:2: PerformanceWarning: DataFrame is highly fragmented.  This is usually the result of calling `frame.insert` many times, which has poor performance.  Consider joining all columns at once using pd.concat(axis=1) instead. To get a de-fragmented frame, use `newframe = frame.copy()`\n",
      "  features_test_en[\n",
      "/var/folders/8y/6qgr48pn4js29rkc2ts9hck80000gn/T/ipykernel_13926/1141318347.py:2: PerformanceWarning: DataFrame is highly fragmented.  This is usually the result of calling `frame.insert` many times, which has poor performance.  Consider joining all columns at once using pd.concat(axis=1) instead. To get a de-fragmented frame, use `newframe = frame.copy()`\n",
      "  features_test_en[\n",
      "/var/folders/8y/6qgr48pn4js29rkc2ts9hck80000gn/T/ipykernel_13926/1141318347.py:2: PerformanceWarning: DataFrame is highly fragmented.  This is usually the result of calling `frame.insert` many times, which has poor performance.  Consider joining all columns at once using pd.concat(axis=1) instead. To get a de-fragmented frame, use `newframe = frame.copy()`\n",
      "  features_test_en[\n",
      "/var/folders/8y/6qgr48pn4js29rkc2ts9hck80000gn/T/ipykernel_13926/1141318347.py:2: PerformanceWarning: DataFrame is highly fragmented.  This is usually the result of calling `frame.insert` many times, which has poor performance.  Consider joining all columns at once using pd.concat(axis=1) instead. To get a de-fragmented frame, use `newframe = frame.copy()`\n",
      "  features_test_en[\n",
      "/var/folders/8y/6qgr48pn4js29rkc2ts9hck80000gn/T/ipykernel_13926/1141318347.py:2: PerformanceWarning: DataFrame is highly fragmented.  This is usually the result of calling `frame.insert` many times, which has poor performance.  Consider joining all columns at once using pd.concat(axis=1) instead. To get a de-fragmented frame, use `newframe = frame.copy()`\n",
      "  features_test_en[\n",
      "/var/folders/8y/6qgr48pn4js29rkc2ts9hck80000gn/T/ipykernel_13926/1141318347.py:2: PerformanceWarning: DataFrame is highly fragmented.  This is usually the result of calling `frame.insert` many times, which has poor performance.  Consider joining all columns at once using pd.concat(axis=1) instead. To get a de-fragmented frame, use `newframe = frame.copy()`\n",
      "  features_test_en[\n",
      "/var/folders/8y/6qgr48pn4js29rkc2ts9hck80000gn/T/ipykernel_13926/1141318347.py:2: PerformanceWarning: DataFrame is highly fragmented.  This is usually the result of calling `frame.insert` many times, which has poor performance.  Consider joining all columns at once using pd.concat(axis=1) instead. To get a de-fragmented frame, use `newframe = frame.copy()`\n",
      "  features_test_en[\n",
      "/var/folders/8y/6qgr48pn4js29rkc2ts9hck80000gn/T/ipykernel_13926/1141318347.py:2: PerformanceWarning: DataFrame is highly fragmented.  This is usually the result of calling `frame.insert` many times, which has poor performance.  Consider joining all columns at once using pd.concat(axis=1) instead. To get a de-fragmented frame, use `newframe = frame.copy()`\n",
      "  features_test_en[\n",
      "/var/folders/8y/6qgr48pn4js29rkc2ts9hck80000gn/T/ipykernel_13926/1141318347.py:2: PerformanceWarning: DataFrame is highly fragmented.  This is usually the result of calling `frame.insert` many times, which has poor performance.  Consider joining all columns at once using pd.concat(axis=1) instead. To get a de-fragmented frame, use `newframe = frame.copy()`\n",
      "  features_test_en[\n",
      "/var/folders/8y/6qgr48pn4js29rkc2ts9hck80000gn/T/ipykernel_13926/1141318347.py:2: PerformanceWarning: DataFrame is highly fragmented.  This is usually the result of calling `frame.insert` many times, which has poor performance.  Consider joining all columns at once using pd.concat(axis=1) instead. To get a de-fragmented frame, use `newframe = frame.copy()`\n",
      "  features_test_en[\n",
      "/var/folders/8y/6qgr48pn4js29rkc2ts9hck80000gn/T/ipykernel_13926/1141318347.py:2: PerformanceWarning: DataFrame is highly fragmented.  This is usually the result of calling `frame.insert` many times, which has poor performance.  Consider joining all columns at once using pd.concat(axis=1) instead. To get a de-fragmented frame, use `newframe = frame.copy()`\n",
      "  features_test_en[\n",
      "/var/folders/8y/6qgr48pn4js29rkc2ts9hck80000gn/T/ipykernel_13926/1141318347.py:2: PerformanceWarning: DataFrame is highly fragmented.  This is usually the result of calling `frame.insert` many times, which has poor performance.  Consider joining all columns at once using pd.concat(axis=1) instead. To get a de-fragmented frame, use `newframe = frame.copy()`\n",
      "  features_test_en[\n",
      "/var/folders/8y/6qgr48pn4js29rkc2ts9hck80000gn/T/ipykernel_13926/1141318347.py:2: PerformanceWarning: DataFrame is highly fragmented.  This is usually the result of calling `frame.insert` many times, which has poor performance.  Consider joining all columns at once using pd.concat(axis=1) instead. To get a de-fragmented frame, use `newframe = frame.copy()`\n",
      "  features_test_en[\n",
      "/var/folders/8y/6qgr48pn4js29rkc2ts9hck80000gn/T/ipykernel_13926/1141318347.py:2: PerformanceWarning: DataFrame is highly fragmented.  This is usually the result of calling `frame.insert` many times, which has poor performance.  Consider joining all columns at once using pd.concat(axis=1) instead. To get a de-fragmented frame, use `newframe = frame.copy()`\n",
      "  features_test_en[\n",
      "/var/folders/8y/6qgr48pn4js29rkc2ts9hck80000gn/T/ipykernel_13926/1141318347.py:2: PerformanceWarning: DataFrame is highly fragmented.  This is usually the result of calling `frame.insert` many times, which has poor performance.  Consider joining all columns at once using pd.concat(axis=1) instead. To get a de-fragmented frame, use `newframe = frame.copy()`\n",
      "  features_test_en[\n",
      "/var/folders/8y/6qgr48pn4js29rkc2ts9hck80000gn/T/ipykernel_13926/1141318347.py:2: PerformanceWarning: DataFrame is highly fragmented.  This is usually the result of calling `frame.insert` many times, which has poor performance.  Consider joining all columns at once using pd.concat(axis=1) instead. To get a de-fragmented frame, use `newframe = frame.copy()`\n",
      "  features_test_en[\n",
      "/var/folders/8y/6qgr48pn4js29rkc2ts9hck80000gn/T/ipykernel_13926/1141318347.py:2: PerformanceWarning: DataFrame is highly fragmented.  This is usually the result of calling `frame.insert` many times, which has poor performance.  Consider joining all columns at once using pd.concat(axis=1) instead. To get a de-fragmented frame, use `newframe = frame.copy()`\n",
      "  features_test_en[\n",
      "/var/folders/8y/6qgr48pn4js29rkc2ts9hck80000gn/T/ipykernel_13926/1141318347.py:2: PerformanceWarning: DataFrame is highly fragmented.  This is usually the result of calling `frame.insert` many times, which has poor performance.  Consider joining all columns at once using pd.concat(axis=1) instead. To get a de-fragmented frame, use `newframe = frame.copy()`\n",
      "  features_test_en[\n",
      "/var/folders/8y/6qgr48pn4js29rkc2ts9hck80000gn/T/ipykernel_13926/1141318347.py:2: PerformanceWarning: DataFrame is highly fragmented.  This is usually the result of calling `frame.insert` many times, which has poor performance.  Consider joining all columns at once using pd.concat(axis=1) instead. To get a de-fragmented frame, use `newframe = frame.copy()`\n",
      "  features_test_en[\n",
      "/var/folders/8y/6qgr48pn4js29rkc2ts9hck80000gn/T/ipykernel_13926/1141318347.py:2: PerformanceWarning: DataFrame is highly fragmented.  This is usually the result of calling `frame.insert` many times, which has poor performance.  Consider joining all columns at once using pd.concat(axis=1) instead. To get a de-fragmented frame, use `newframe = frame.copy()`\n",
      "  features_test_en[\n",
      "/var/folders/8y/6qgr48pn4js29rkc2ts9hck80000gn/T/ipykernel_13926/1141318347.py:2: PerformanceWarning: DataFrame is highly fragmented.  This is usually the result of calling `frame.insert` many times, which has poor performance.  Consider joining all columns at once using pd.concat(axis=1) instead. To get a de-fragmented frame, use `newframe = frame.copy()`\n",
      "  features_test_en[\n",
      "/var/folders/8y/6qgr48pn4js29rkc2ts9hck80000gn/T/ipykernel_13926/1141318347.py:2: PerformanceWarning: DataFrame is highly fragmented.  This is usually the result of calling `frame.insert` many times, which has poor performance.  Consider joining all columns at once using pd.concat(axis=1) instead. To get a de-fragmented frame, use `newframe = frame.copy()`\n",
      "  features_test_en[\n",
      "/var/folders/8y/6qgr48pn4js29rkc2ts9hck80000gn/T/ipykernel_13926/1141318347.py:2: PerformanceWarning: DataFrame is highly fragmented.  This is usually the result of calling `frame.insert` many times, which has poor performance.  Consider joining all columns at once using pd.concat(axis=1) instead. To get a de-fragmented frame, use `newframe = frame.copy()`\n",
      "  features_test_en[\n",
      "/var/folders/8y/6qgr48pn4js29rkc2ts9hck80000gn/T/ipykernel_13926/1141318347.py:2: PerformanceWarning: DataFrame is highly fragmented.  This is usually the result of calling `frame.insert` many times, which has poor performance.  Consider joining all columns at once using pd.concat(axis=1) instead. To get a de-fragmented frame, use `newframe = frame.copy()`\n",
      "  features_test_en[\n",
      "/var/folders/8y/6qgr48pn4js29rkc2ts9hck80000gn/T/ipykernel_13926/1141318347.py:2: PerformanceWarning: DataFrame is highly fragmented.  This is usually the result of calling `frame.insert` many times, which has poor performance.  Consider joining all columns at once using pd.concat(axis=1) instead. To get a de-fragmented frame, use `newframe = frame.copy()`\n",
      "  features_test_en[\n",
      "/var/folders/8y/6qgr48pn4js29rkc2ts9hck80000gn/T/ipykernel_13926/1141318347.py:2: PerformanceWarning: DataFrame is highly fragmented.  This is usually the result of calling `frame.insert` many times, which has poor performance.  Consider joining all columns at once using pd.concat(axis=1) instead. To get a de-fragmented frame, use `newframe = frame.copy()`\n",
      "  features_test_en[\n",
      "/var/folders/8y/6qgr48pn4js29rkc2ts9hck80000gn/T/ipykernel_13926/1141318347.py:2: PerformanceWarning: DataFrame is highly fragmented.  This is usually the result of calling `frame.insert` many times, which has poor performance.  Consider joining all columns at once using pd.concat(axis=1) instead. To get a de-fragmented frame, use `newframe = frame.copy()`\n",
      "  features_test_en[\n",
      "/var/folders/8y/6qgr48pn4js29rkc2ts9hck80000gn/T/ipykernel_13926/1141318347.py:2: PerformanceWarning: DataFrame is highly fragmented.  This is usually the result of calling `frame.insert` many times, which has poor performance.  Consider joining all columns at once using pd.concat(axis=1) instead. To get a de-fragmented frame, use `newframe = frame.copy()`\n",
      "  features_test_en[\n",
      "/var/folders/8y/6qgr48pn4js29rkc2ts9hck80000gn/T/ipykernel_13926/1141318347.py:2: PerformanceWarning: DataFrame is highly fragmented.  This is usually the result of calling `frame.insert` many times, which has poor performance.  Consider joining all columns at once using pd.concat(axis=1) instead. To get a de-fragmented frame, use `newframe = frame.copy()`\n",
      "  features_test_en[\n",
      "/var/folders/8y/6qgr48pn4js29rkc2ts9hck80000gn/T/ipykernel_13926/1141318347.py:2: PerformanceWarning: DataFrame is highly fragmented.  This is usually the result of calling `frame.insert` many times, which has poor performance.  Consider joining all columns at once using pd.concat(axis=1) instead. To get a de-fragmented frame, use `newframe = frame.copy()`\n",
      "  features_test_en[\n",
      "/var/folders/8y/6qgr48pn4js29rkc2ts9hck80000gn/T/ipykernel_13926/1141318347.py:2: PerformanceWarning: DataFrame is highly fragmented.  This is usually the result of calling `frame.insert` many times, which has poor performance.  Consider joining all columns at once using pd.concat(axis=1) instead. To get a de-fragmented frame, use `newframe = frame.copy()`\n",
      "  features_test_en[\n",
      "/var/folders/8y/6qgr48pn4js29rkc2ts9hck80000gn/T/ipykernel_13926/1141318347.py:2: PerformanceWarning: DataFrame is highly fragmented.  This is usually the result of calling `frame.insert` many times, which has poor performance.  Consider joining all columns at once using pd.concat(axis=1) instead. To get a de-fragmented frame, use `newframe = frame.copy()`\n",
      "  features_test_en[\n",
      "/var/folders/8y/6qgr48pn4js29rkc2ts9hck80000gn/T/ipykernel_13926/1141318347.py:2: PerformanceWarning: DataFrame is highly fragmented.  This is usually the result of calling `frame.insert` many times, which has poor performance.  Consider joining all columns at once using pd.concat(axis=1) instead. To get a de-fragmented frame, use `newframe = frame.copy()`\n",
      "  features_test_en[\n",
      "/var/folders/8y/6qgr48pn4js29rkc2ts9hck80000gn/T/ipykernel_13926/1141318347.py:2: PerformanceWarning: DataFrame is highly fragmented.  This is usually the result of calling `frame.insert` many times, which has poor performance.  Consider joining all columns at once using pd.concat(axis=1) instead. To get a de-fragmented frame, use `newframe = frame.copy()`\n",
      "  features_test_en[\n",
      "/var/folders/8y/6qgr48pn4js29rkc2ts9hck80000gn/T/ipykernel_13926/1141318347.py:2: PerformanceWarning: DataFrame is highly fragmented.  This is usually the result of calling `frame.insert` many times, which has poor performance.  Consider joining all columns at once using pd.concat(axis=1) instead. To get a de-fragmented frame, use `newframe = frame.copy()`\n",
      "  features_test_en[\n",
      "/var/folders/8y/6qgr48pn4js29rkc2ts9hck80000gn/T/ipykernel_13926/1141318347.py:2: PerformanceWarning: DataFrame is highly fragmented.  This is usually the result of calling `frame.insert` many times, which has poor performance.  Consider joining all columns at once using pd.concat(axis=1) instead. To get a de-fragmented frame, use `newframe = frame.copy()`\n",
      "  features_test_en[\n",
      "/var/folders/8y/6qgr48pn4js29rkc2ts9hck80000gn/T/ipykernel_13926/1141318347.py:2: PerformanceWarning: DataFrame is highly fragmented.  This is usually the result of calling `frame.insert` many times, which has poor performance.  Consider joining all columns at once using pd.concat(axis=1) instead. To get a de-fragmented frame, use `newframe = frame.copy()`\n",
      "  features_test_en[\n",
      "/var/folders/8y/6qgr48pn4js29rkc2ts9hck80000gn/T/ipykernel_13926/1141318347.py:2: PerformanceWarning: DataFrame is highly fragmented.  This is usually the result of calling `frame.insert` many times, which has poor performance.  Consider joining all columns at once using pd.concat(axis=1) instead. To get a de-fragmented frame, use `newframe = frame.copy()`\n",
      "  features_test_en[\n",
      "/var/folders/8y/6qgr48pn4js29rkc2ts9hck80000gn/T/ipykernel_13926/1141318347.py:2: PerformanceWarning: DataFrame is highly fragmented.  This is usually the result of calling `frame.insert` many times, which has poor performance.  Consider joining all columns at once using pd.concat(axis=1) instead. To get a de-fragmented frame, use `newframe = frame.copy()`\n",
      "  features_test_en[\n",
      "/var/folders/8y/6qgr48pn4js29rkc2ts9hck80000gn/T/ipykernel_13926/1141318347.py:2: PerformanceWarning: DataFrame is highly fragmented.  This is usually the result of calling `frame.insert` many times, which has poor performance.  Consider joining all columns at once using pd.concat(axis=1) instead. To get a de-fragmented frame, use `newframe = frame.copy()`\n",
      "  features_test_en[\n",
      "/var/folders/8y/6qgr48pn4js29rkc2ts9hck80000gn/T/ipykernel_13926/1141318347.py:2: PerformanceWarning: DataFrame is highly fragmented.  This is usually the result of calling `frame.insert` many times, which has poor performance.  Consider joining all columns at once using pd.concat(axis=1) instead. To get a de-fragmented frame, use `newframe = frame.copy()`\n",
      "  features_test_en[\n",
      "/var/folders/8y/6qgr48pn4js29rkc2ts9hck80000gn/T/ipykernel_13926/1141318347.py:2: PerformanceWarning: DataFrame is highly fragmented.  This is usually the result of calling `frame.insert` many times, which has poor performance.  Consider joining all columns at once using pd.concat(axis=1) instead. To get a de-fragmented frame, use `newframe = frame.copy()`\n",
      "  features_test_en[\n",
      "/var/folders/8y/6qgr48pn4js29rkc2ts9hck80000gn/T/ipykernel_13926/1141318347.py:2: PerformanceWarning: DataFrame is highly fragmented.  This is usually the result of calling `frame.insert` many times, which has poor performance.  Consider joining all columns at once using pd.concat(axis=1) instead. To get a de-fragmented frame, use `newframe = frame.copy()`\n",
      "  features_test_en[\n",
      "/var/folders/8y/6qgr48pn4js29rkc2ts9hck80000gn/T/ipykernel_13926/1141318347.py:2: PerformanceWarning: DataFrame is highly fragmented.  This is usually the result of calling `frame.insert` many times, which has poor performance.  Consider joining all columns at once using pd.concat(axis=1) instead. To get a de-fragmented frame, use `newframe = frame.copy()`\n",
      "  features_test_en[\n",
      "/var/folders/8y/6qgr48pn4js29rkc2ts9hck80000gn/T/ipykernel_13926/1141318347.py:2: PerformanceWarning: DataFrame is highly fragmented.  This is usually the result of calling `frame.insert` many times, which has poor performance.  Consider joining all columns at once using pd.concat(axis=1) instead. To get a de-fragmented frame, use `newframe = frame.copy()`\n",
      "  features_test_en[\n",
      "/var/folders/8y/6qgr48pn4js29rkc2ts9hck80000gn/T/ipykernel_13926/1141318347.py:2: PerformanceWarning: DataFrame is highly fragmented.  This is usually the result of calling `frame.insert` many times, which has poor performance.  Consider joining all columns at once using pd.concat(axis=1) instead. To get a de-fragmented frame, use `newframe = frame.copy()`\n",
      "  features_test_en[\n",
      "/var/folders/8y/6qgr48pn4js29rkc2ts9hck80000gn/T/ipykernel_13926/1141318347.py:2: PerformanceWarning: DataFrame is highly fragmented.  This is usually the result of calling `frame.insert` many times, which has poor performance.  Consider joining all columns at once using pd.concat(axis=1) instead. To get a de-fragmented frame, use `newframe = frame.copy()`\n",
      "  features_test_en[\n",
      "/var/folders/8y/6qgr48pn4js29rkc2ts9hck80000gn/T/ipykernel_13926/1141318347.py:2: PerformanceWarning: DataFrame is highly fragmented.  This is usually the result of calling `frame.insert` many times, which has poor performance.  Consider joining all columns at once using pd.concat(axis=1) instead. To get a de-fragmented frame, use `newframe = frame.copy()`\n",
      "  features_test_en[\n",
      "/var/folders/8y/6qgr48pn4js29rkc2ts9hck80000gn/T/ipykernel_13926/1141318347.py:2: PerformanceWarning: DataFrame is highly fragmented.  This is usually the result of calling `frame.insert` many times, which has poor performance.  Consider joining all columns at once using pd.concat(axis=1) instead. To get a de-fragmented frame, use `newframe = frame.copy()`\n",
      "  features_test_en[\n",
      "/var/folders/8y/6qgr48pn4js29rkc2ts9hck80000gn/T/ipykernel_13926/1141318347.py:2: PerformanceWarning: DataFrame is highly fragmented.  This is usually the result of calling `frame.insert` many times, which has poor performance.  Consider joining all columns at once using pd.concat(axis=1) instead. To get a de-fragmented frame, use `newframe = frame.copy()`\n",
      "  features_test_en[\n",
      "/var/folders/8y/6qgr48pn4js29rkc2ts9hck80000gn/T/ipykernel_13926/1141318347.py:2: PerformanceWarning: DataFrame is highly fragmented.  This is usually the result of calling `frame.insert` many times, which has poor performance.  Consider joining all columns at once using pd.concat(axis=1) instead. To get a de-fragmented frame, use `newframe = frame.copy()`\n",
      "  features_test_en[\n",
      "/var/folders/8y/6qgr48pn4js29rkc2ts9hck80000gn/T/ipykernel_13926/1141318347.py:2: PerformanceWarning: DataFrame is highly fragmented.  This is usually the result of calling `frame.insert` many times, which has poor performance.  Consider joining all columns at once using pd.concat(axis=1) instead. To get a de-fragmented frame, use `newframe = frame.copy()`\n",
      "  features_test_en[\n",
      "/var/folders/8y/6qgr48pn4js29rkc2ts9hck80000gn/T/ipykernel_13926/1141318347.py:2: PerformanceWarning: DataFrame is highly fragmented.  This is usually the result of calling `frame.insert` many times, which has poor performance.  Consider joining all columns at once using pd.concat(axis=1) instead. To get a de-fragmented frame, use `newframe = frame.copy()`\n",
      "  features_test_en[\n",
      "/var/folders/8y/6qgr48pn4js29rkc2ts9hck80000gn/T/ipykernel_13926/1141318347.py:2: PerformanceWarning: DataFrame is highly fragmented.  This is usually the result of calling `frame.insert` many times, which has poor performance.  Consider joining all columns at once using pd.concat(axis=1) instead. To get a de-fragmented frame, use `newframe = frame.copy()`\n",
      "  features_test_en[\n",
      "/var/folders/8y/6qgr48pn4js29rkc2ts9hck80000gn/T/ipykernel_13926/1141318347.py:2: PerformanceWarning: DataFrame is highly fragmented.  This is usually the result of calling `frame.insert` many times, which has poor performance.  Consider joining all columns at once using pd.concat(axis=1) instead. To get a de-fragmented frame, use `newframe = frame.copy()`\n",
      "  features_test_en[\n",
      "/var/folders/8y/6qgr48pn4js29rkc2ts9hck80000gn/T/ipykernel_13926/1141318347.py:2: PerformanceWarning: DataFrame is highly fragmented.  This is usually the result of calling `frame.insert` many times, which has poor performance.  Consider joining all columns at once using pd.concat(axis=1) instead. To get a de-fragmented frame, use `newframe = frame.copy()`\n",
      "  features_test_en[\n",
      "/var/folders/8y/6qgr48pn4js29rkc2ts9hck80000gn/T/ipykernel_13926/1141318347.py:2: PerformanceWarning: DataFrame is highly fragmented.  This is usually the result of calling `frame.insert` many times, which has poor performance.  Consider joining all columns at once using pd.concat(axis=1) instead. To get a de-fragmented frame, use `newframe = frame.copy()`\n",
      "  features_test_en[\n",
      "/var/folders/8y/6qgr48pn4js29rkc2ts9hck80000gn/T/ipykernel_13926/1141318347.py:2: PerformanceWarning: DataFrame is highly fragmented.  This is usually the result of calling `frame.insert` many times, which has poor performance.  Consider joining all columns at once using pd.concat(axis=1) instead. To get a de-fragmented frame, use `newframe = frame.copy()`\n",
      "  features_test_en[\n",
      "/var/folders/8y/6qgr48pn4js29rkc2ts9hck80000gn/T/ipykernel_13926/1141318347.py:2: PerformanceWarning: DataFrame is highly fragmented.  This is usually the result of calling `frame.insert` many times, which has poor performance.  Consider joining all columns at once using pd.concat(axis=1) instead. To get a de-fragmented frame, use `newframe = frame.copy()`\n",
      "  features_test_en[\n"
     ]
    }
   ],
   "source": [
    "# энкодером, который обучен на ТРЕНИРОВОЧНОЙ ВЫБОРКЕ, кодируем тестовую\n",
    "features_test_en[\n",
    "    encoder_ohe.get_feature_names_out()\n",
    "] = encoder_ohe.transform(features_test_en[cat_features])\n",
    "\n",
    "features_test_en = features_test_en.drop(cat_features, axis=1)\n",
    "\n",
    "# скелером, который обучен на ТРЕНИРОВОЧНОЙ ВЫБОРКЕ, масштабируем тестовую\n",
    "#features_test_en[num_features] = scaler.transform(\n",
    "#    features_test_en[num_features]\n",
    "#)"
   ]
  },
  {
   "cell_type": "code",
   "execution_count": 93,
   "metadata": {},
   "outputs": [
    {
     "data": {
      "text/html": [
       "<div>\n",
       "<style scoped>\n",
       "    .dataframe tbody tr th:only-of-type {\n",
       "        vertical-align: middle;\n",
       "    }\n",
       "\n",
       "    .dataframe tbody tr th {\n",
       "        vertical-align: top;\n",
       "    }\n",
       "\n",
       "    .dataframe thead th {\n",
       "        text-align: right;\n",
       "    }\n",
       "</style>\n",
       "<table border=\"1\" class=\"dataframe\">\n",
       "  <thead>\n",
       "    <tr style=\"text-align: right;\">\n",
       "      <th></th>\n",
       "      <th>power</th>\n",
       "      <th>kilometer</th>\n",
       "      <th>age</th>\n",
       "      <th>vehicle_type_convertible</th>\n",
       "      <th>vehicle_type_coupe</th>\n",
       "      <th>vehicle_type_other</th>\n",
       "      <th>vehicle_type_sedan</th>\n",
       "      <th>vehicle_type_small</th>\n",
       "      <th>vehicle_type_suv</th>\n",
       "      <th>vehicle_type_unknown</th>\n",
       "      <th>...</th>\n",
       "      <th>brand_smart</th>\n",
       "      <th>brand_sonstige_autos</th>\n",
       "      <th>brand_subaru</th>\n",
       "      <th>brand_suzuki</th>\n",
       "      <th>brand_toyota</th>\n",
       "      <th>brand_trabant</th>\n",
       "      <th>brand_volkswagen</th>\n",
       "      <th>brand_volvo</th>\n",
       "      <th>repaired_unknown</th>\n",
       "      <th>repaired_yes</th>\n",
       "    </tr>\n",
       "  </thead>\n",
       "  <tbody>\n",
       "    <tr>\n",
       "      <th>260845</th>\n",
       "      <td>105</td>\n",
       "      <td>150000</td>\n",
       "      <td>16</td>\n",
       "      <td>0.0</td>\n",
       "      <td>0.0</td>\n",
       "      <td>0.0</td>\n",
       "      <td>0.0</td>\n",
       "      <td>0.0</td>\n",
       "      <td>1.0</td>\n",
       "      <td>0.0</td>\n",
       "      <td>...</td>\n",
       "      <td>0.0</td>\n",
       "      <td>0.0</td>\n",
       "      <td>0.0</td>\n",
       "      <td>0.0</td>\n",
       "      <td>0.0</td>\n",
       "      <td>0.0</td>\n",
       "      <td>0.0</td>\n",
       "      <td>0.0</td>\n",
       "      <td>0.0</td>\n",
       "      <td>0.0</td>\n",
       "    </tr>\n",
       "    <tr>\n",
       "      <th>215555</th>\n",
       "      <td>140</td>\n",
       "      <td>150000</td>\n",
       "      <td>7</td>\n",
       "      <td>0.0</td>\n",
       "      <td>0.0</td>\n",
       "      <td>0.0</td>\n",
       "      <td>0.0</td>\n",
       "      <td>0.0</td>\n",
       "      <td>0.0</td>\n",
       "      <td>0.0</td>\n",
       "      <td>...</td>\n",
       "      <td>0.0</td>\n",
       "      <td>0.0</td>\n",
       "      <td>0.0</td>\n",
       "      <td>0.0</td>\n",
       "      <td>0.0</td>\n",
       "      <td>0.0</td>\n",
       "      <td>0.0</td>\n",
       "      <td>0.0</td>\n",
       "      <td>0.0</td>\n",
       "      <td>0.0</td>\n",
       "    </tr>\n",
       "    <tr>\n",
       "      <th>185258</th>\n",
       "      <td>85</td>\n",
       "      <td>150000</td>\n",
       "      <td>21</td>\n",
       "      <td>1.0</td>\n",
       "      <td>0.0</td>\n",
       "      <td>0.0</td>\n",
       "      <td>0.0</td>\n",
       "      <td>0.0</td>\n",
       "      <td>0.0</td>\n",
       "      <td>0.0</td>\n",
       "      <td>...</td>\n",
       "      <td>0.0</td>\n",
       "      <td>0.0</td>\n",
       "      <td>0.0</td>\n",
       "      <td>0.0</td>\n",
       "      <td>0.0</td>\n",
       "      <td>0.0</td>\n",
       "      <td>0.0</td>\n",
       "      <td>0.0</td>\n",
       "      <td>1.0</td>\n",
       "      <td>0.0</td>\n",
       "    </tr>\n",
       "    <tr>\n",
       "      <th>176022</th>\n",
       "      <td>110</td>\n",
       "      <td>150000</td>\n",
       "      <td>14</td>\n",
       "      <td>0.0</td>\n",
       "      <td>0.0</td>\n",
       "      <td>0.0</td>\n",
       "      <td>1.0</td>\n",
       "      <td>0.0</td>\n",
       "      <td>0.0</td>\n",
       "      <td>0.0</td>\n",
       "      <td>...</td>\n",
       "      <td>0.0</td>\n",
       "      <td>0.0</td>\n",
       "      <td>0.0</td>\n",
       "      <td>0.0</td>\n",
       "      <td>1.0</td>\n",
       "      <td>0.0</td>\n",
       "      <td>0.0</td>\n",
       "      <td>0.0</td>\n",
       "      <td>0.0</td>\n",
       "      <td>0.0</td>\n",
       "    </tr>\n",
       "    <tr>\n",
       "      <th>74838</th>\n",
       "      <td>105</td>\n",
       "      <td>150000</td>\n",
       "      <td>9</td>\n",
       "      <td>0.0</td>\n",
       "      <td>0.0</td>\n",
       "      <td>0.0</td>\n",
       "      <td>1.0</td>\n",
       "      <td>0.0</td>\n",
       "      <td>0.0</td>\n",
       "      <td>0.0</td>\n",
       "      <td>...</td>\n",
       "      <td>0.0</td>\n",
       "      <td>0.0</td>\n",
       "      <td>0.0</td>\n",
       "      <td>0.0</td>\n",
       "      <td>0.0</td>\n",
       "      <td>0.0</td>\n",
       "      <td>1.0</td>\n",
       "      <td>0.0</td>\n",
       "      <td>0.0</td>\n",
       "      <td>1.0</td>\n",
       "    </tr>\n",
       "  </tbody>\n",
       "</table>\n",
       "<p>5 rows × 305 columns</p>\n",
       "</div>"
      ],
      "text/plain": [
       "        power  kilometer  age  vehicle_type_convertible  vehicle_type_coupe  \\\n",
       "260845    105     150000   16                       0.0                 0.0   \n",
       "215555    140     150000    7                       0.0                 0.0   \n",
       "185258     85     150000   21                       1.0                 0.0   \n",
       "176022    110     150000   14                       0.0                 0.0   \n",
       "74838     105     150000    9                       0.0                 0.0   \n",
       "\n",
       "        vehicle_type_other  vehicle_type_sedan  vehicle_type_small  \\\n",
       "260845                 0.0                 0.0                 0.0   \n",
       "215555                 0.0                 0.0                 0.0   \n",
       "185258                 0.0                 0.0                 0.0   \n",
       "176022                 0.0                 1.0                 0.0   \n",
       "74838                  0.0                 1.0                 0.0   \n",
       "\n",
       "        vehicle_type_suv  vehicle_type_unknown  ...  brand_smart  \\\n",
       "260845               1.0                   0.0  ...          0.0   \n",
       "215555               0.0                   0.0  ...          0.0   \n",
       "185258               0.0                   0.0  ...          0.0   \n",
       "176022               0.0                   0.0  ...          0.0   \n",
       "74838                0.0                   0.0  ...          0.0   \n",
       "\n",
       "        brand_sonstige_autos  brand_subaru  brand_suzuki  brand_toyota  \\\n",
       "260845                   0.0           0.0           0.0           0.0   \n",
       "215555                   0.0           0.0           0.0           0.0   \n",
       "185258                   0.0           0.0           0.0           0.0   \n",
       "176022                   0.0           0.0           0.0           1.0   \n",
       "74838                    0.0           0.0           0.0           0.0   \n",
       "\n",
       "        brand_trabant  brand_volkswagen  brand_volvo  repaired_unknown  \\\n",
       "260845            0.0               0.0          0.0               0.0   \n",
       "215555            0.0               0.0          0.0               0.0   \n",
       "185258            0.0               0.0          0.0               1.0   \n",
       "176022            0.0               0.0          0.0               0.0   \n",
       "74838             0.0               1.0          0.0               0.0   \n",
       "\n",
       "        repaired_yes  \n",
       "260845           0.0  \n",
       "215555           0.0  \n",
       "185258           0.0  \n",
       "176022           0.0  \n",
       "74838            1.0  \n",
       "\n",
       "[5 rows x 305 columns]"
      ]
     },
     "execution_count": 93,
     "metadata": {},
     "output_type": "execute_result"
    }
   ],
   "source": [
    "# смотрим на результат\n",
    "features_test_en.head()"
   ]
  },
  {
   "cell_type": "code",
   "execution_count": 94,
   "metadata": {},
   "outputs": [
    {
     "data": {
      "text/plain": [
       "((173772, 305), (57924, 305), (57924, 305))"
      ]
     },
     "execution_count": 94,
     "metadata": {},
     "output_type": "execute_result"
    }
   ],
   "source": [
    "# получилось одинаковое количество признаков\n",
    "features_train_en.shape, features_valid_en.shape, features_test_en.shape"
   ]
  },
  {
   "cell_type": "code",
   "execution_count": 95,
   "metadata": {},
   "outputs": [
    {
     "data": {
      "text/plain": [
       "0"
      ]
     },
     "execution_count": 95,
     "metadata": {},
     "output_type": "execute_result"
    }
   ],
   "source": [
    "# получились одинаковые признаки в тренировочной и валидационной выборках\n",
    "(features_train_en.columns != features_valid_en.columns).sum()"
   ]
  },
  {
   "cell_type": "code",
   "execution_count": 96,
   "metadata": {},
   "outputs": [
    {
     "data": {
      "text/plain": [
       "0"
      ]
     },
     "execution_count": 96,
     "metadata": {},
     "output_type": "execute_result"
    }
   ],
   "source": [
    "# получились одинаковые признаки в тренировочной и тестовой выборках\n",
    "(features_train_en.columns != features_test_en.columns).sum()"
   ]
  },
  {
   "cell_type": "code",
   "execution_count": 97,
   "metadata": {},
   "outputs": [
    {
     "name": "stderr",
     "output_type": "stream",
     "text": [
      "/var/folders/8y/6qgr48pn4js29rkc2ts9hck80000gn/T/ipykernel_13926/1236510076.py:10: UserWarning: With alpha=0, this algorithm does not converge well. You are advised to use the LinearRegression estimator\n",
      "  model_en.fit(features_train_en, target_train_en) # обучаем модель на тренировочной выборке\n",
      "/Users/sergeypervov/opt/anaconda3/lib/python3.9/site-packages/sklearn/linear_model/_coordinate_descent.py:648: UserWarning: Coordinate descent with no regularization may lead to unexpected results and is discouraged.\n",
      "  model = cd_fast.enet_coordinate_descent(\n",
      "/Users/sergeypervov/opt/anaconda3/lib/python3.9/site-packages/sklearn/linear_model/_coordinate_descent.py:648: ConvergenceWarning: Objective did not converge. You might want to increase the number of iterations, check the scale of the features or consider increasing regularisation. Duality gap: 4.722e+11, tolerance: 3.611e+08 Linear regression models with null weight for the l1 regularization term are more efficiently fitted using one of the solvers implemented in sklearn.linear_model.Ridge/RidgeCV instead.\n",
      "  model = cd_fast.enet_coordinate_descent(\n",
      "/var/folders/8y/6qgr48pn4js29rkc2ts9hck80000gn/T/ipykernel_13926/1236510076.py:10: UserWarning: With alpha=0, this algorithm does not converge well. You are advised to use the LinearRegression estimator\n",
      "  model_en.fit(features_train_en, target_train_en) # обучаем модель на тренировочной выборке\n",
      "/Users/sergeypervov/opt/anaconda3/lib/python3.9/site-packages/sklearn/linear_model/_coordinate_descent.py:648: UserWarning: Coordinate descent with no regularization may lead to unexpected results and is discouraged.\n",
      "  model = cd_fast.enet_coordinate_descent(\n",
      "/Users/sergeypervov/opt/anaconda3/lib/python3.9/site-packages/sklearn/linear_model/_coordinate_descent.py:648: ConvergenceWarning: Objective did not converge. You might want to increase the number of iterations, check the scale of the features or consider increasing regularisation. Duality gap: 4.722e+11, tolerance: 3.611e+08 Linear regression models with null weight for the l1 regularization term are more efficiently fitted using one of the solvers implemented in sklearn.linear_model.Ridge/RidgeCV instead.\n",
      "  model = cd_fast.enet_coordinate_descent(\n",
      "/var/folders/8y/6qgr48pn4js29rkc2ts9hck80000gn/T/ipykernel_13926/1236510076.py:10: UserWarning: With alpha=0, this algorithm does not converge well. You are advised to use the LinearRegression estimator\n",
      "  model_en.fit(features_train_en, target_train_en) # обучаем модель на тренировочной выборке\n",
      "/Users/sergeypervov/opt/anaconda3/lib/python3.9/site-packages/sklearn/linear_model/_coordinate_descent.py:648: UserWarning: Coordinate descent with no regularization may lead to unexpected results and is discouraged.\n",
      "  model = cd_fast.enet_coordinate_descent(\n",
      "/Users/sergeypervov/opt/anaconda3/lib/python3.9/site-packages/sklearn/linear_model/_coordinate_descent.py:648: ConvergenceWarning: Objective did not converge. You might want to increase the number of iterations, check the scale of the features or consider increasing regularisation. Duality gap: 4.722e+11, tolerance: 3.611e+08 Linear regression models with null weight for the l1 regularization term are more efficiently fitted using one of the solvers implemented in sklearn.linear_model.Ridge/RidgeCV instead.\n",
      "  model = cd_fast.enet_coordinate_descent(\n",
      "/var/folders/8y/6qgr48pn4js29rkc2ts9hck80000gn/T/ipykernel_13926/1236510076.py:10: UserWarning: With alpha=0, this algorithm does not converge well. You are advised to use the LinearRegression estimator\n",
      "  model_en.fit(features_train_en, target_train_en) # обучаем модель на тренировочной выборке\n",
      "/Users/sergeypervov/opt/anaconda3/lib/python3.9/site-packages/sklearn/linear_model/_coordinate_descent.py:648: UserWarning: Coordinate descent with no regularization may lead to unexpected results and is discouraged.\n",
      "  model = cd_fast.enet_coordinate_descent(\n",
      "/Users/sergeypervov/opt/anaconda3/lib/python3.9/site-packages/sklearn/linear_model/_coordinate_descent.py:648: ConvergenceWarning: Objective did not converge. You might want to increase the number of iterations, check the scale of the features or consider increasing regularisation. Duality gap: 4.722e+11, tolerance: 3.611e+08 Linear regression models with null weight for the l1 regularization term are more efficiently fitted using one of the solvers implemented in sklearn.linear_model.Ridge/RidgeCV instead.\n",
      "  model = cd_fast.enet_coordinate_descent(\n",
      "/var/folders/8y/6qgr48pn4js29rkc2ts9hck80000gn/T/ipykernel_13926/1236510076.py:10: UserWarning: With alpha=0, this algorithm does not converge well. You are advised to use the LinearRegression estimator\n",
      "  model_en.fit(features_train_en, target_train_en) # обучаем модель на тренировочной выборке\n",
      "/Users/sergeypervov/opt/anaconda3/lib/python3.9/site-packages/sklearn/linear_model/_coordinate_descent.py:648: UserWarning: Coordinate descent with no regularization may lead to unexpected results and is discouraged.\n",
      "  model = cd_fast.enet_coordinate_descent(\n",
      "/Users/sergeypervov/opt/anaconda3/lib/python3.9/site-packages/sklearn/linear_model/_coordinate_descent.py:648: ConvergenceWarning: Objective did not converge. You might want to increase the number of iterations, check the scale of the features or consider increasing regularisation. Duality gap: 4.722e+11, tolerance: 3.611e+08 Linear regression models with null weight for the l1 regularization term are more efficiently fitted using one of the solvers implemented in sklearn.linear_model.Ridge/RidgeCV instead.\n",
      "  model = cd_fast.enet_coordinate_descent(\n",
      "/var/folders/8y/6qgr48pn4js29rkc2ts9hck80000gn/T/ipykernel_13926/1236510076.py:10: UserWarning: With alpha=0, this algorithm does not converge well. You are advised to use the LinearRegression estimator\n",
      "  model_en.fit(features_train_en, target_train_en) # обучаем модель на тренировочной выборке\n",
      "/Users/sergeypervov/opt/anaconda3/lib/python3.9/site-packages/sklearn/linear_model/_coordinate_descent.py:648: UserWarning: Coordinate descent with no regularization may lead to unexpected results and is discouraged.\n",
      "  model = cd_fast.enet_coordinate_descent(\n",
      "/Users/sergeypervov/opt/anaconda3/lib/python3.9/site-packages/sklearn/linear_model/_coordinate_descent.py:648: ConvergenceWarning: Objective did not converge. You might want to increase the number of iterations, check the scale of the features or consider increasing regularisation. Duality gap: 4.722e+11, tolerance: 3.611e+08 Linear regression models with null weight for the l1 regularization term are more efficiently fitted using one of the solvers implemented in sklearn.linear_model.Ridge/RidgeCV instead.\n",
      "  model = cd_fast.enet_coordinate_descent(\n",
      "/Users/sergeypervov/opt/anaconda3/lib/python3.9/site-packages/sklearn/linear_model/_coordinate_descent.py:648: ConvergenceWarning: Objective did not converge. You might want to increase the number of iterations, check the scale of the features or consider increasing regularisation. Duality gap: 7.030e+11, tolerance: 3.611e+08 Linear regression models with null weight for the l1 regularization term are more efficiently fitted using one of the solvers implemented in sklearn.linear_model.Ridge/RidgeCV instead.\n",
      "  model = cd_fast.enet_coordinate_descent(\n",
      "/var/folders/8y/6qgr48pn4js29rkc2ts9hck80000gn/T/ipykernel_13926/1236510076.py:10: UserWarning: With alpha=0, this algorithm does not converge well. You are advised to use the LinearRegression estimator\n",
      "  model_en.fit(features_train_en, target_train_en) # обучаем модель на тренировочной выборке\n",
      "/Users/sergeypervov/opt/anaconda3/lib/python3.9/site-packages/sklearn/linear_model/_coordinate_descent.py:648: UserWarning: Coordinate descent with no regularization may lead to unexpected results and is discouraged.\n",
      "  model = cd_fast.enet_coordinate_descent(\n",
      "/Users/sergeypervov/opt/anaconda3/lib/python3.9/site-packages/sklearn/linear_model/_coordinate_descent.py:648: ConvergenceWarning: Objective did not converge. You might want to increase the number of iterations, check the scale of the features or consider increasing regularisation. Duality gap: 4.722e+11, tolerance: 3.611e+08 Linear regression models with null weight for the l1 regularization term are more efficiently fitted using one of the solvers implemented in sklearn.linear_model.Ridge/RidgeCV instead.\n",
      "  model = cd_fast.enet_coordinate_descent(\n",
      "/var/folders/8y/6qgr48pn4js29rkc2ts9hck80000gn/T/ipykernel_13926/1236510076.py:10: UserWarning: With alpha=0, this algorithm does not converge well. You are advised to use the LinearRegression estimator\n",
      "  model_en.fit(features_train_en, target_train_en) # обучаем модель на тренировочной выборке\n",
      "/Users/sergeypervov/opt/anaconda3/lib/python3.9/site-packages/sklearn/linear_model/_coordinate_descent.py:648: UserWarning: Coordinate descent with no regularization may lead to unexpected results and is discouraged.\n",
      "  model = cd_fast.enet_coordinate_descent(\n",
      "/Users/sergeypervov/opt/anaconda3/lib/python3.9/site-packages/sklearn/linear_model/_coordinate_descent.py:648: ConvergenceWarning: Objective did not converge. You might want to increase the number of iterations, check the scale of the features or consider increasing regularisation. Duality gap: 4.722e+11, tolerance: 3.611e+08 Linear regression models with null weight for the l1 regularization term are more efficiently fitted using one of the solvers implemented in sklearn.linear_model.Ridge/RidgeCV instead.\n",
      "  model = cd_fast.enet_coordinate_descent(\n",
      "/var/folders/8y/6qgr48pn4js29rkc2ts9hck80000gn/T/ipykernel_13926/1236510076.py:10: UserWarning: With alpha=0, this algorithm does not converge well. You are advised to use the LinearRegression estimator\n",
      "  model_en.fit(features_train_en, target_train_en) # обучаем модель на тренировочной выборке\n",
      "/Users/sergeypervov/opt/anaconda3/lib/python3.9/site-packages/sklearn/linear_model/_coordinate_descent.py:648: UserWarning: Coordinate descent with no regularization may lead to unexpected results and is discouraged.\n",
      "  model = cd_fast.enet_coordinate_descent(\n",
      "/Users/sergeypervov/opt/anaconda3/lib/python3.9/site-packages/sklearn/linear_model/_coordinate_descent.py:648: ConvergenceWarning: Objective did not converge. You might want to increase the number of iterations, check the scale of the features or consider increasing regularisation. Duality gap: 4.722e+11, tolerance: 3.611e+08 Linear regression models with null weight for the l1 regularization term are more efficiently fitted using one of the solvers implemented in sklearn.linear_model.Ridge/RidgeCV instead.\n",
      "  model = cd_fast.enet_coordinate_descent(\n",
      "/var/folders/8y/6qgr48pn4js29rkc2ts9hck80000gn/T/ipykernel_13926/1236510076.py:10: UserWarning: With alpha=0, this algorithm does not converge well. You are advised to use the LinearRegression estimator\n",
      "  model_en.fit(features_train_en, target_train_en) # обучаем модель на тренировочной выборке\n",
      "/Users/sergeypervov/opt/anaconda3/lib/python3.9/site-packages/sklearn/linear_model/_coordinate_descent.py:648: UserWarning: Coordinate descent with no regularization may lead to unexpected results and is discouraged.\n",
      "  model = cd_fast.enet_coordinate_descent(\n",
      "/Users/sergeypervov/opt/anaconda3/lib/python3.9/site-packages/sklearn/linear_model/_coordinate_descent.py:648: ConvergenceWarning: Objective did not converge. You might want to increase the number of iterations, check the scale of the features or consider increasing regularisation. Duality gap: 4.722e+11, tolerance: 3.611e+08 Linear regression models with null weight for the l1 regularization term are more efficiently fitted using one of the solvers implemented in sklearn.linear_model.Ridge/RidgeCV instead.\n",
      "  model = cd_fast.enet_coordinate_descent(\n",
      "/var/folders/8y/6qgr48pn4js29rkc2ts9hck80000gn/T/ipykernel_13926/1236510076.py:10: UserWarning: With alpha=0, this algorithm does not converge well. You are advised to use the LinearRegression estimator\n",
      "  model_en.fit(features_train_en, target_train_en) # обучаем модель на тренировочной выборке\n",
      "/Users/sergeypervov/opt/anaconda3/lib/python3.9/site-packages/sklearn/linear_model/_coordinate_descent.py:648: UserWarning: Coordinate descent with no regularization may lead to unexpected results and is discouraged.\n",
      "  model = cd_fast.enet_coordinate_descent(\n",
      "/Users/sergeypervov/opt/anaconda3/lib/python3.9/site-packages/sklearn/linear_model/_coordinate_descent.py:648: ConvergenceWarning: Objective did not converge. You might want to increase the number of iterations, check the scale of the features or consider increasing regularisation. Duality gap: 4.722e+11, tolerance: 3.611e+08 Linear regression models with null weight for the l1 regularization term are more efficiently fitted using one of the solvers implemented in sklearn.linear_model.Ridge/RidgeCV instead.\n",
      "  model = cd_fast.enet_coordinate_descent(\n",
      "/var/folders/8y/6qgr48pn4js29rkc2ts9hck80000gn/T/ipykernel_13926/1236510076.py:10: UserWarning: With alpha=0, this algorithm does not converge well. You are advised to use the LinearRegression estimator\n",
      "  model_en.fit(features_train_en, target_train_en) # обучаем модель на тренировочной выборке\n",
      "/Users/sergeypervov/opt/anaconda3/lib/python3.9/site-packages/sklearn/linear_model/_coordinate_descent.py:648: UserWarning: Coordinate descent with no regularization may lead to unexpected results and is discouraged.\n",
      "  model = cd_fast.enet_coordinate_descent(\n",
      "/Users/sergeypervov/opt/anaconda3/lib/python3.9/site-packages/sklearn/linear_model/_coordinate_descent.py:648: ConvergenceWarning: Objective did not converge. You might want to increase the number of iterations, check the scale of the features or consider increasing regularisation. Duality gap: 4.722e+11, tolerance: 3.611e+08 Linear regression models with null weight for the l1 regularization term are more efficiently fitted using one of the solvers implemented in sklearn.linear_model.Ridge/RidgeCV instead.\n",
      "  model = cd_fast.enet_coordinate_descent(\n",
      "/Users/sergeypervov/opt/anaconda3/lib/python3.9/site-packages/sklearn/linear_model/_coordinate_descent.py:648: ConvergenceWarning: Objective did not converge. You might want to increase the number of iterations, check the scale of the features or consider increasing regularisation. Duality gap: 7.030e+11, tolerance: 3.611e+08 Linear regression models with null weight for the l1 regularization term are more efficiently fitted using one of the solvers implemented in sklearn.linear_model.Ridge/RidgeCV instead.\n",
      "  model = cd_fast.enet_coordinate_descent(\n"
     ]
    }
   ],
   "source": [
    "best_en_model = None\n",
    "best_en_rmse = 10000\n",
    "best_en_iters = 0\n",
    "best_en_alpha = 0\n",
    "best_en_ratio = 0\n",
    "for iters in range(500, 1001, 500):\n",
    "    for alpha in range(0, 2, 1):\n",
    "        for ratio in np.arange(0, 1.1, 0.2):\n",
    "            model_en = ElasticNet(alpha=alpha, l1_ratio=ratio, max_iter=iters, random_state=RS)\n",
    "            model_en.fit(features_train_en, target_train_en) # обучаем модель на тренировочной выборке\n",
    "            pred_valid_en = model_en.predict(features_valid_en) \n",
    "            rmse_en = mean_squared_error(target_valid_en, pred_valid_en, squared=False) #считаем качество модели на вал-й в-ке\n",
    "            if rmse_en < best_en_rmse:\n",
    "                best_en_model = model_en # сохраняем наилучшую модель\n",
    "                best_en_rmse = rmse_en #  сохраняем наилучшее значение метрики rmse на валидационных данных\n",
    "                best_en_iters = iters #  сохраняем наилучшее значение гиперпараметра max_iter на валидационных данных\n",
    "                best_en_alpha = alpha #  сохраняем наилучшее значение гиперпараметра alpha на валидационных данных\n",
    "                best_en_ratio = ratio #  сохраняем наилучшее значение гиперпараметра l1_ratio на валидационных данных"
   ]
  },
  {
   "cell_type": "code",
   "execution_count": 99,
   "metadata": {
    "scrolled": false
   },
   "outputs": [
    {
     "name": "stdout",
     "output_type": "stream",
     "text": [
      "Качество лучшей модели ElasticNet: 2309.603012206169 количество итераций: 1000 альфа: 0 соотношение l1: 0.0\n"
     ]
    }
   ],
   "source": [
    "print('Качество лучшей модели ElasticNet:', best_en_rmse, 'количество итераций:', best_en_iters,\\\n",
    "'альфа:', best_en_alpha, 'соотношение l1:', best_en_ratio)"
   ]
  },
  {
   "cell_type": "code",
   "execution_count": 100,
   "metadata": {},
   "outputs": [
    {
     "name": "stderr",
     "output_type": "stream",
     "text": [
      "<timed eval>:1: UserWarning: With alpha=0, this algorithm does not converge well. You are advised to use the LinearRegression estimator\n",
      "/Users/sergeypervov/opt/anaconda3/lib/python3.9/site-packages/sklearn/linear_model/_coordinate_descent.py:648: UserWarning: Coordinate descent with no regularization may lead to unexpected results and is discouraged.\n",
      "  model = cd_fast.enet_coordinate_descent(\n"
     ]
    },
    {
     "name": "stdout",
     "output_type": "stream",
     "text": [
      "CPU times: user 3min 44s, sys: 1.68 s, total: 3min 45s\n",
      "Wall time: 1min 58s\n"
     ]
    },
    {
     "name": "stderr",
     "output_type": "stream",
     "text": [
      "/Users/sergeypervov/opt/anaconda3/lib/python3.9/site-packages/sklearn/linear_model/_coordinate_descent.py:648: ConvergenceWarning: Objective did not converge. You might want to increase the number of iterations, check the scale of the features or consider increasing regularisation. Duality gap: 4.722e+11, tolerance: 3.611e+08 Linear regression models with null weight for the l1 regularization term are more efficiently fitted using one of the solvers implemented in sklearn.linear_model.Ridge/RidgeCV instead.\n",
      "  model = cd_fast.enet_coordinate_descent(\n"
     ]
    },
    {
     "data": {
      "text/html": [
       "<style>#sk-container-id-2 {color: black;background-color: white;}#sk-container-id-2 pre{padding: 0;}#sk-container-id-2 div.sk-toggleable {background-color: white;}#sk-container-id-2 label.sk-toggleable__label {cursor: pointer;display: block;width: 100%;margin-bottom: 0;padding: 0.3em;box-sizing: border-box;text-align: center;}#sk-container-id-2 label.sk-toggleable__label-arrow:before {content: \"▸\";float: left;margin-right: 0.25em;color: #696969;}#sk-container-id-2 label.sk-toggleable__label-arrow:hover:before {color: black;}#sk-container-id-2 div.sk-estimator:hover label.sk-toggleable__label-arrow:before {color: black;}#sk-container-id-2 div.sk-toggleable__content {max-height: 0;max-width: 0;overflow: hidden;text-align: left;background-color: #f0f8ff;}#sk-container-id-2 div.sk-toggleable__content pre {margin: 0.2em;color: black;border-radius: 0.25em;background-color: #f0f8ff;}#sk-container-id-2 input.sk-toggleable__control:checked~div.sk-toggleable__content {max-height: 200px;max-width: 100%;overflow: auto;}#sk-container-id-2 input.sk-toggleable__control:checked~label.sk-toggleable__label-arrow:before {content: \"▾\";}#sk-container-id-2 div.sk-estimator input.sk-toggleable__control:checked~label.sk-toggleable__label {background-color: #d4ebff;}#sk-container-id-2 div.sk-label input.sk-toggleable__control:checked~label.sk-toggleable__label {background-color: #d4ebff;}#sk-container-id-2 input.sk-hidden--visually {border: 0;clip: rect(1px 1px 1px 1px);clip: rect(1px, 1px, 1px, 1px);height: 1px;margin: -1px;overflow: hidden;padding: 0;position: absolute;width: 1px;}#sk-container-id-2 div.sk-estimator {font-family: monospace;background-color: #f0f8ff;border: 1px dotted black;border-radius: 0.25em;box-sizing: border-box;margin-bottom: 0.5em;}#sk-container-id-2 div.sk-estimator:hover {background-color: #d4ebff;}#sk-container-id-2 div.sk-parallel-item::after {content: \"\";width: 100%;border-bottom: 1px solid gray;flex-grow: 1;}#sk-container-id-2 div.sk-label:hover label.sk-toggleable__label {background-color: #d4ebff;}#sk-container-id-2 div.sk-serial::before {content: \"\";position: absolute;border-left: 1px solid gray;box-sizing: border-box;top: 0;bottom: 0;left: 50%;z-index: 0;}#sk-container-id-2 div.sk-serial {display: flex;flex-direction: column;align-items: center;background-color: white;padding-right: 0.2em;padding-left: 0.2em;position: relative;}#sk-container-id-2 div.sk-item {position: relative;z-index: 1;}#sk-container-id-2 div.sk-parallel {display: flex;align-items: stretch;justify-content: center;background-color: white;position: relative;}#sk-container-id-2 div.sk-item::before, #sk-container-id-2 div.sk-parallel-item::before {content: \"\";position: absolute;border-left: 1px solid gray;box-sizing: border-box;top: 0;bottom: 0;left: 50%;z-index: -1;}#sk-container-id-2 div.sk-parallel-item {display: flex;flex-direction: column;z-index: 1;position: relative;background-color: white;}#sk-container-id-2 div.sk-parallel-item:first-child::after {align-self: flex-end;width: 50%;}#sk-container-id-2 div.sk-parallel-item:last-child::after {align-self: flex-start;width: 50%;}#sk-container-id-2 div.sk-parallel-item:only-child::after {width: 0;}#sk-container-id-2 div.sk-dashed-wrapped {border: 1px dashed gray;margin: 0 0.4em 0.5em 0.4em;box-sizing: border-box;padding-bottom: 0.4em;background-color: white;}#sk-container-id-2 div.sk-label label {font-family: monospace;font-weight: bold;display: inline-block;line-height: 1.2em;}#sk-container-id-2 div.sk-label-container {text-align: center;}#sk-container-id-2 div.sk-container {/* jupyter's `normalize.less` sets `[hidden] { display: none; }` but bootstrap.min.css set `[hidden] { display: none !important; }` so we also need the `!important` here to be able to override the default hidden behavior on the sphinx rendered scikit-learn.org. See: https://github.com/scikit-learn/scikit-learn/issues/21755 */display: inline-block !important;position: relative;}#sk-container-id-2 div.sk-text-repr-fallback {display: none;}</style><div id=\"sk-container-id-2\" class=\"sk-top-container\"><div class=\"sk-text-repr-fallback\"><pre>ElasticNet(alpha=0, l1_ratio=0.0, random_state=12345)</pre><b>In a Jupyter environment, please rerun this cell to show the HTML representation or trust the notebook. <br />On GitHub, the HTML representation is unable to render, please try loading this page with nbviewer.org.</b></div><div class=\"sk-container\" hidden><div class=\"sk-item\"><div class=\"sk-estimator sk-toggleable\"><input class=\"sk-toggleable__control sk-hidden--visually\" id=\"sk-estimator-id-2\" type=\"checkbox\" checked><label for=\"sk-estimator-id-2\" class=\"sk-toggleable__label sk-toggleable__label-arrow\">ElasticNet</label><div class=\"sk-toggleable__content\"><pre>ElasticNet(alpha=0, l1_ratio=0.0, random_state=12345)</pre></div></div></div></div></div>"
      ],
      "text/plain": [
       "ElasticNet(alpha=0, l1_ratio=0.0, random_state=12345)"
      ]
     },
     "execution_count": 100,
     "metadata": {},
     "output_type": "execute_result"
    }
   ],
   "source": [
    "%%time\n",
    "\n",
    "best_en_model.fit(features_train_en, target_train_en)"
   ]
  },
  {
   "cell_type": "code",
   "execution_count": 115,
   "metadata": {},
   "outputs": [
    {
     "name": "stdout",
     "output_type": "stream",
     "text": [
      "CPU times: user 110 ms, sys: 88.5 ms, total: 198 ms\n",
      "Wall time: 204 ms\n"
     ]
    }
   ],
   "source": [
    "%%time\n",
    "\n",
    "best_pred_valid_en = best_en_model.predict(features_valid_en)"
   ]
  },
  {
   "cell_type": "markdown",
   "metadata": {},
   "source": [
    "## Анализ моделей"
   ]
  },
  {
   "cell_type": "code",
   "execution_count": 5,
   "metadata": {},
   "outputs": [
    {
     "data": {
      "text/html": [
       "<div>\n",
       "<style scoped>\n",
       "    .dataframe tbody tr th:only-of-type {\n",
       "        vertical-align: middle;\n",
       "    }\n",
       "\n",
       "    .dataframe tbody tr th {\n",
       "        vertical-align: top;\n",
       "    }\n",
       "\n",
       "    .dataframe thead th {\n",
       "        text-align: right;\n",
       "    }\n",
       "</style>\n",
       "<table border=\"1\" class=\"dataframe\">\n",
       "  <thead>\n",
       "    <tr style=\"text-align: right;\">\n",
       "      <th></th>\n",
       "      <th>model</th>\n",
       "      <th>fit_time</th>\n",
       "      <th>predict_time</th>\n",
       "      <th>RMSE</th>\n",
       "    </tr>\n",
       "  </thead>\n",
       "  <tbody>\n",
       "    <tr>\n",
       "      <th>0</th>\n",
       "      <td>CatBoostRegressor</td>\n",
       "      <td>2.33s</td>\n",
       "      <td>144ms</td>\n",
       "      <td>1654</td>\n",
       "    </tr>\n",
       "    <tr>\n",
       "      <th>1</th>\n",
       "      <td>LightGBMRegressor</td>\n",
       "      <td>776ms</td>\n",
       "      <td>185ms</td>\n",
       "      <td>1509</td>\n",
       "    </tr>\n",
       "    <tr>\n",
       "      <th>2</th>\n",
       "      <td>ElasticNet</td>\n",
       "      <td>1min 58s</td>\n",
       "      <td>204ms</td>\n",
       "      <td>2310</td>\n",
       "    </tr>\n",
       "  </tbody>\n",
       "</table>\n",
       "</div>"
      ],
      "text/plain": [
       "               model  fit_time predict_time  RMSE\n",
       "0  CatBoostRegressor     2.33s        144ms  1654\n",
       "1  LightGBMRegressor     776ms        185ms  1509\n",
       "2         ElasticNet  1min 58s        204ms  2310"
      ]
     },
     "execution_count": 5,
     "metadata": {},
     "output_type": "execute_result"
    }
   ],
   "source": [
    "models_comparison = pd.DataFrame()\n",
    "models_comparison['model'] = ['CatBoostRegressor', 'LightGBMRegressor', 'ElasticNet']\n",
    "models_comparison['fit_time'] = ['2.33s', '776ms', '1min 58s']\n",
    "models_comparison['predict_time'] = ['144ms', '185ms', '204ms']\n",
    "models_comparison['RMSE'] = ['1654', '1509', '2310']\n",
    "models_comparison"
   ]
  },
  {
   "cell_type": "markdown",
   "metadata": {},
   "source": [
    "Наиболее быстрой суммарно в обучении (776ms) и предсказании (185ms) + с лучшей метрикой RMSE (1509) показала себя модель LightGBMRegressor (возможно скорости поспособствовала возможность проставить параметр n_jobs=- 1, которого не прописано в документации к CatBoost), CatBoostRegressor несколько быстрее в предсказании (144ms), однако отстает в обучении (2.33s) и немного по метрике RMSE (1654). Линейная модель ElasticNet дает худшие из трех участников результаты и по скорости обучения (1min58s) + предсказания (204ms) и по метрике RMSE (2310), однако даже она в рамках требований по точности. По совокупности 3х факторов, важных для заказчика более оптимальной выглядит модель LightGBMRegressor. Проверим ее на тестовой выборке и сравним с базовой моделью. "
   ]
  },
  {
   "cell_type": "markdown",
   "metadata": {},
   "source": [
    "## Тестирование лучшей модели"
   ]
  },
  {
   "cell_type": "code",
   "execution_count": 374,
   "metadata": {},
   "outputs": [
    {
     "name": "stdout",
     "output_type": "stream",
     "text": [
      "CPU times: user 490 ms, sys: 32.4 ms, total: 523 ms\n",
      "Wall time: 226 ms\n"
     ]
    }
   ],
   "source": [
    "%%time\n",
    "\n",
    "pred_test_lgbmr = best_lgbmr_model.predict(features_test_lgbmr)"
   ]
  },
  {
   "cell_type": "code",
   "execution_count": 378,
   "metadata": {},
   "outputs": [
    {
     "name": "stdout",
     "output_type": "stream",
     "text": [
      "Значение RMSE выбранной модели LightGBMRegressor:       1505.51\n"
     ]
    }
   ],
   "source": [
    "best_lgbmr_model_test_rmse = mean_squared_error(target_test_lgbmr, pred_test_lgbmr, squared=False)\n",
    "\n",
    "print(f'Значение RMSE выбранной модели LightGBMRegressor: \\\n",
    "      {round(best_lgbmr_model_test_rmse, 2)}')"
   ]
  },
  {
   "cell_type": "code",
   "execution_count": 377,
   "metadata": {},
   "outputs": [
    {
     "name": "stdout",
     "output_type": "stream",
     "text": [
      "Значение RMSE константной модели, выдающей всегда медиану значений тренировочного таргета:       4864.43\n"
     ]
    }
   ],
   "source": [
    "dummy = DummyRegressor(strategy='median')\n",
    "\n",
    "dummy.fit(features_train_lgbmr, target_train_lgbmr)\n",
    "\n",
    "predicted_dummy = dummy.predict(features_test_lgbmr)\n",
    "\n",
    "\n",
    "print(f'Значение RMSE константной модели, выдающей всегда медиану значений тренировочного таргета: \\\n",
    "      {round(mean_squared_error(target_test_lgbmr, predicted_dummy, squared=False), 2)}')"
   ]
  },
  {
   "cell_type": "markdown",
   "metadata": {},
   "source": [
    "**Вывод:** Выбранная модель показала себя с аналогичным успехом и при испытаниях на тестовой выборке. В сравнении с константной моделью показала более чем в 3 раза лучшее значение целевой метрики. "
   ]
  }
 ],
 "metadata": {
  "kernelspec": {
   "display_name": "Python 3 (ipykernel)",
   "language": "python",
   "name": "python3"
  },
  "language_info": {
   "codemirror_mode": {
    "name": "ipython",
    "version": 3
   },
   "file_extension": ".py",
   "mimetype": "text/x-python",
   "name": "python",
   "nbconvert_exporter": "python",
   "pygments_lexer": "ipython3",
   "version": "3.9.12"
  },
  "toc": {
   "base_numbering": 1,
   "nav_menu": {},
   "number_sections": true,
   "sideBar": true,
   "skip_h1_title": true,
   "title_cell": "Table of Contents",
   "title_sidebar": "Contents",
   "toc_cell": false,
   "toc_position": {},
   "toc_section_display": true,
   "toc_window_display": false
  }
 },
 "nbformat": 4,
 "nbformat_minor": 2
}
