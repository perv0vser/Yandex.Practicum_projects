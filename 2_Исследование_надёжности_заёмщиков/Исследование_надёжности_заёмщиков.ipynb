{
 "cells": [
  {
   "cell_type": "markdown",
   "id": "61704c0d",
   "metadata": {
    "deletable": false,
    "editable": false,
    "id": "c81daeeb"
   },
   "source": [
    "# Исследование надежности заемщиков\n"
   ]
  },
  {
   "cell_type": "markdown",
   "id": "a55327e7",
   "metadata": {
    "deletable": false,
    "editable": false,
    "id": "827c20bf"
   },
   "source": [
    "Во второй части проекта вы выполните шаги 3 и 4. Их вручную проверит ревьюер.\n",
    "Чтобы вам не пришлось писать код заново для шагов 1 и 2, мы добавили авторские решения в ячейки с кодом. \n",
    "\n"
   ]
  },
  {
   "cell_type": "markdown",
   "id": "8a5abec1",
   "metadata": {
    "deletable": false,
    "editable": false,
    "id": "744d7639"
   },
   "source": [
    "## Откройте таблицу и изучите общую информацию о данных"
   ]
  },
  {
   "cell_type": "markdown",
   "id": "cf278f77",
   "metadata": {
    "deletable": false,
    "editable": false,
    "id": "e7a14c31"
   },
   "source": [
    "**Задание 1. Импортируйте библиотеку pandas. Считайте данные из csv-файла в датафрейм и сохраните в переменную `data`. Путь к файлу:**\n",
    "\n",
    "`/datasets/data.csv`"
   ]
  },
  {
   "cell_type": "code",
   "execution_count": 1,
   "id": "d56859eb",
   "metadata": {
    "deletable": false,
    "id": "7bcf75c9"
   },
   "outputs": [],
   "source": [
    "import pandas as pd\n",
    "\n",
    "try:\n",
    "    data = pd.read_csv('/datasets/data.csv')\n",
    "except:\n",
    "    data = pd.read_csv('https://code.s3.yandex.net/datasets/data.csv')"
   ]
  },
  {
   "cell_type": "markdown",
   "id": "9e9efc56",
   "metadata": {
    "deletable": false,
    "editable": false,
    "id": "b8038fe3"
   },
   "source": [
    "**Задание 2. Выведите первые 20 строчек датафрейма `data` на экран.**"
   ]
  },
  {
   "cell_type": "code",
   "execution_count": 2,
   "id": "f79fadb3",
   "metadata": {
    "deletable": false,
    "id": "2a7cab99",
    "outputId": "1a8f3ef2-d323-4ec2-ddf7-89670b5944c4"
   },
   "outputs": [
    {
     "data": {
      "text/html": [
       "<div>\n",
       "<style scoped>\n",
       "    .dataframe tbody tr th:only-of-type {\n",
       "        vertical-align: middle;\n",
       "    }\n",
       "\n",
       "    .dataframe tbody tr th {\n",
       "        vertical-align: top;\n",
       "    }\n",
       "\n",
       "    .dataframe thead th {\n",
       "        text-align: right;\n",
       "    }\n",
       "</style>\n",
       "<table border=\"1\" class=\"dataframe\">\n",
       "  <thead>\n",
       "    <tr style=\"text-align: right;\">\n",
       "      <th></th>\n",
       "      <th>children</th>\n",
       "      <th>days_employed</th>\n",
       "      <th>dob_years</th>\n",
       "      <th>education</th>\n",
       "      <th>education_id</th>\n",
       "      <th>family_status</th>\n",
       "      <th>family_status_id</th>\n",
       "      <th>gender</th>\n",
       "      <th>income_type</th>\n",
       "      <th>debt</th>\n",
       "      <th>total_income</th>\n",
       "      <th>purpose</th>\n",
       "    </tr>\n",
       "  </thead>\n",
       "  <tbody>\n",
       "    <tr>\n",
       "      <th>0</th>\n",
       "      <td>1</td>\n",
       "      <td>-8437.673028</td>\n",
       "      <td>42</td>\n",
       "      <td>высшее</td>\n",
       "      <td>0</td>\n",
       "      <td>женат / замужем</td>\n",
       "      <td>0</td>\n",
       "      <td>F</td>\n",
       "      <td>сотрудник</td>\n",
       "      <td>0</td>\n",
       "      <td>253875.639453</td>\n",
       "      <td>покупка жилья</td>\n",
       "    </tr>\n",
       "    <tr>\n",
       "      <th>1</th>\n",
       "      <td>1</td>\n",
       "      <td>-4024.803754</td>\n",
       "      <td>36</td>\n",
       "      <td>среднее</td>\n",
       "      <td>1</td>\n",
       "      <td>женат / замужем</td>\n",
       "      <td>0</td>\n",
       "      <td>F</td>\n",
       "      <td>сотрудник</td>\n",
       "      <td>0</td>\n",
       "      <td>112080.014102</td>\n",
       "      <td>приобретение автомобиля</td>\n",
       "    </tr>\n",
       "    <tr>\n",
       "      <th>2</th>\n",
       "      <td>0</td>\n",
       "      <td>-5623.422610</td>\n",
       "      <td>33</td>\n",
       "      <td>Среднее</td>\n",
       "      <td>1</td>\n",
       "      <td>женат / замужем</td>\n",
       "      <td>0</td>\n",
       "      <td>M</td>\n",
       "      <td>сотрудник</td>\n",
       "      <td>0</td>\n",
       "      <td>145885.952297</td>\n",
       "      <td>покупка жилья</td>\n",
       "    </tr>\n",
       "    <tr>\n",
       "      <th>3</th>\n",
       "      <td>3</td>\n",
       "      <td>-4124.747207</td>\n",
       "      <td>32</td>\n",
       "      <td>среднее</td>\n",
       "      <td>1</td>\n",
       "      <td>женат / замужем</td>\n",
       "      <td>0</td>\n",
       "      <td>M</td>\n",
       "      <td>сотрудник</td>\n",
       "      <td>0</td>\n",
       "      <td>267628.550329</td>\n",
       "      <td>дополнительное образование</td>\n",
       "    </tr>\n",
       "    <tr>\n",
       "      <th>4</th>\n",
       "      <td>0</td>\n",
       "      <td>340266.072047</td>\n",
       "      <td>53</td>\n",
       "      <td>среднее</td>\n",
       "      <td>1</td>\n",
       "      <td>гражданский брак</td>\n",
       "      <td>1</td>\n",
       "      <td>F</td>\n",
       "      <td>пенсионер</td>\n",
       "      <td>0</td>\n",
       "      <td>158616.077870</td>\n",
       "      <td>сыграть свадьбу</td>\n",
       "    </tr>\n",
       "    <tr>\n",
       "      <th>5</th>\n",
       "      <td>0</td>\n",
       "      <td>-926.185831</td>\n",
       "      <td>27</td>\n",
       "      <td>высшее</td>\n",
       "      <td>0</td>\n",
       "      <td>гражданский брак</td>\n",
       "      <td>1</td>\n",
       "      <td>M</td>\n",
       "      <td>компаньон</td>\n",
       "      <td>0</td>\n",
       "      <td>255763.565419</td>\n",
       "      <td>покупка жилья</td>\n",
       "    </tr>\n",
       "    <tr>\n",
       "      <th>6</th>\n",
       "      <td>0</td>\n",
       "      <td>-2879.202052</td>\n",
       "      <td>43</td>\n",
       "      <td>высшее</td>\n",
       "      <td>0</td>\n",
       "      <td>женат / замужем</td>\n",
       "      <td>0</td>\n",
       "      <td>F</td>\n",
       "      <td>компаньон</td>\n",
       "      <td>0</td>\n",
       "      <td>240525.971920</td>\n",
       "      <td>операции с жильем</td>\n",
       "    </tr>\n",
       "    <tr>\n",
       "      <th>7</th>\n",
       "      <td>0</td>\n",
       "      <td>-152.779569</td>\n",
       "      <td>50</td>\n",
       "      <td>СРЕДНЕЕ</td>\n",
       "      <td>1</td>\n",
       "      <td>женат / замужем</td>\n",
       "      <td>0</td>\n",
       "      <td>M</td>\n",
       "      <td>сотрудник</td>\n",
       "      <td>0</td>\n",
       "      <td>135823.934197</td>\n",
       "      <td>образование</td>\n",
       "    </tr>\n",
       "    <tr>\n",
       "      <th>8</th>\n",
       "      <td>2</td>\n",
       "      <td>-6929.865299</td>\n",
       "      <td>35</td>\n",
       "      <td>ВЫСШЕЕ</td>\n",
       "      <td>0</td>\n",
       "      <td>гражданский брак</td>\n",
       "      <td>1</td>\n",
       "      <td>F</td>\n",
       "      <td>сотрудник</td>\n",
       "      <td>0</td>\n",
       "      <td>95856.832424</td>\n",
       "      <td>на проведение свадьбы</td>\n",
       "    </tr>\n",
       "    <tr>\n",
       "      <th>9</th>\n",
       "      <td>0</td>\n",
       "      <td>-2188.756445</td>\n",
       "      <td>41</td>\n",
       "      <td>среднее</td>\n",
       "      <td>1</td>\n",
       "      <td>женат / замужем</td>\n",
       "      <td>0</td>\n",
       "      <td>M</td>\n",
       "      <td>сотрудник</td>\n",
       "      <td>0</td>\n",
       "      <td>144425.938277</td>\n",
       "      <td>покупка жилья для семьи</td>\n",
       "    </tr>\n",
       "    <tr>\n",
       "      <th>10</th>\n",
       "      <td>2</td>\n",
       "      <td>-4171.483647</td>\n",
       "      <td>36</td>\n",
       "      <td>высшее</td>\n",
       "      <td>0</td>\n",
       "      <td>женат / замужем</td>\n",
       "      <td>0</td>\n",
       "      <td>M</td>\n",
       "      <td>компаньон</td>\n",
       "      <td>0</td>\n",
       "      <td>113943.491460</td>\n",
       "      <td>покупка недвижимости</td>\n",
       "    </tr>\n",
       "    <tr>\n",
       "      <th>11</th>\n",
       "      <td>0</td>\n",
       "      <td>-792.701887</td>\n",
       "      <td>40</td>\n",
       "      <td>среднее</td>\n",
       "      <td>1</td>\n",
       "      <td>женат / замужем</td>\n",
       "      <td>0</td>\n",
       "      <td>F</td>\n",
       "      <td>сотрудник</td>\n",
       "      <td>0</td>\n",
       "      <td>77069.234271</td>\n",
       "      <td>покупка коммерческой недвижимости</td>\n",
       "    </tr>\n",
       "    <tr>\n",
       "      <th>12</th>\n",
       "      <td>0</td>\n",
       "      <td>NaN</td>\n",
       "      <td>65</td>\n",
       "      <td>среднее</td>\n",
       "      <td>1</td>\n",
       "      <td>гражданский брак</td>\n",
       "      <td>1</td>\n",
       "      <td>M</td>\n",
       "      <td>пенсионер</td>\n",
       "      <td>0</td>\n",
       "      <td>NaN</td>\n",
       "      <td>сыграть свадьбу</td>\n",
       "    </tr>\n",
       "    <tr>\n",
       "      <th>13</th>\n",
       "      <td>0</td>\n",
       "      <td>-1846.641941</td>\n",
       "      <td>54</td>\n",
       "      <td>неоконченное высшее</td>\n",
       "      <td>2</td>\n",
       "      <td>женат / замужем</td>\n",
       "      <td>0</td>\n",
       "      <td>F</td>\n",
       "      <td>сотрудник</td>\n",
       "      <td>0</td>\n",
       "      <td>130458.228857</td>\n",
       "      <td>приобретение автомобиля</td>\n",
       "    </tr>\n",
       "    <tr>\n",
       "      <th>14</th>\n",
       "      <td>0</td>\n",
       "      <td>-1844.956182</td>\n",
       "      <td>56</td>\n",
       "      <td>высшее</td>\n",
       "      <td>0</td>\n",
       "      <td>гражданский брак</td>\n",
       "      <td>1</td>\n",
       "      <td>F</td>\n",
       "      <td>компаньон</td>\n",
       "      <td>1</td>\n",
       "      <td>165127.911772</td>\n",
       "      <td>покупка жилой недвижимости</td>\n",
       "    </tr>\n",
       "    <tr>\n",
       "      <th>15</th>\n",
       "      <td>1</td>\n",
       "      <td>-972.364419</td>\n",
       "      <td>26</td>\n",
       "      <td>среднее</td>\n",
       "      <td>1</td>\n",
       "      <td>женат / замужем</td>\n",
       "      <td>0</td>\n",
       "      <td>F</td>\n",
       "      <td>сотрудник</td>\n",
       "      <td>0</td>\n",
       "      <td>116820.904450</td>\n",
       "      <td>строительство собственной недвижимости</td>\n",
       "    </tr>\n",
       "    <tr>\n",
       "      <th>16</th>\n",
       "      <td>0</td>\n",
       "      <td>-1719.934226</td>\n",
       "      <td>35</td>\n",
       "      <td>среднее</td>\n",
       "      <td>1</td>\n",
       "      <td>женат / замужем</td>\n",
       "      <td>0</td>\n",
       "      <td>F</td>\n",
       "      <td>сотрудник</td>\n",
       "      <td>0</td>\n",
       "      <td>289202.704229</td>\n",
       "      <td>недвижимость</td>\n",
       "    </tr>\n",
       "    <tr>\n",
       "      <th>17</th>\n",
       "      <td>0</td>\n",
       "      <td>-2369.999720</td>\n",
       "      <td>33</td>\n",
       "      <td>высшее</td>\n",
       "      <td>0</td>\n",
       "      <td>гражданский брак</td>\n",
       "      <td>1</td>\n",
       "      <td>M</td>\n",
       "      <td>сотрудник</td>\n",
       "      <td>0</td>\n",
       "      <td>90410.586745</td>\n",
       "      <td>строительство недвижимости</td>\n",
       "    </tr>\n",
       "    <tr>\n",
       "      <th>18</th>\n",
       "      <td>0</td>\n",
       "      <td>400281.136913</td>\n",
       "      <td>53</td>\n",
       "      <td>среднее</td>\n",
       "      <td>1</td>\n",
       "      <td>вдовец / вдова</td>\n",
       "      <td>2</td>\n",
       "      <td>F</td>\n",
       "      <td>пенсионер</td>\n",
       "      <td>0</td>\n",
       "      <td>56823.777243</td>\n",
       "      <td>на покупку подержанного автомобиля</td>\n",
       "    </tr>\n",
       "    <tr>\n",
       "      <th>19</th>\n",
       "      <td>0</td>\n",
       "      <td>-10038.818549</td>\n",
       "      <td>48</td>\n",
       "      <td>СРЕДНЕЕ</td>\n",
       "      <td>1</td>\n",
       "      <td>в разводе</td>\n",
       "      <td>3</td>\n",
       "      <td>F</td>\n",
       "      <td>сотрудник</td>\n",
       "      <td>0</td>\n",
       "      <td>242831.107982</td>\n",
       "      <td>на покупку своего автомобиля</td>\n",
       "    </tr>\n",
       "  </tbody>\n",
       "</table>\n",
       "</div>"
      ],
      "text/plain": [
       "    children  days_employed  dob_years            education  education_id  \\\n",
       "0          1   -8437.673028         42               высшее             0   \n",
       "1          1   -4024.803754         36              среднее             1   \n",
       "2          0   -5623.422610         33              Среднее             1   \n",
       "3          3   -4124.747207         32              среднее             1   \n",
       "4          0  340266.072047         53              среднее             1   \n",
       "5          0    -926.185831         27               высшее             0   \n",
       "6          0   -2879.202052         43               высшее             0   \n",
       "7          0    -152.779569         50              СРЕДНЕЕ             1   \n",
       "8          2   -6929.865299         35               ВЫСШЕЕ             0   \n",
       "9          0   -2188.756445         41              среднее             1   \n",
       "10         2   -4171.483647         36               высшее             0   \n",
       "11         0    -792.701887         40              среднее             1   \n",
       "12         0            NaN         65              среднее             1   \n",
       "13         0   -1846.641941         54  неоконченное высшее             2   \n",
       "14         0   -1844.956182         56               высшее             0   \n",
       "15         1    -972.364419         26              среднее             1   \n",
       "16         0   -1719.934226         35              среднее             1   \n",
       "17         0   -2369.999720         33               высшее             0   \n",
       "18         0  400281.136913         53              среднее             1   \n",
       "19         0  -10038.818549         48              СРЕДНЕЕ             1   \n",
       "\n",
       "       family_status  family_status_id gender income_type  debt  \\\n",
       "0    женат / замужем                 0      F   сотрудник     0   \n",
       "1    женат / замужем                 0      F   сотрудник     0   \n",
       "2    женат / замужем                 0      M   сотрудник     0   \n",
       "3    женат / замужем                 0      M   сотрудник     0   \n",
       "4   гражданский брак                 1      F   пенсионер     0   \n",
       "5   гражданский брак                 1      M   компаньон     0   \n",
       "6    женат / замужем                 0      F   компаньон     0   \n",
       "7    женат / замужем                 0      M   сотрудник     0   \n",
       "8   гражданский брак                 1      F   сотрудник     0   \n",
       "9    женат / замужем                 0      M   сотрудник     0   \n",
       "10   женат / замужем                 0      M   компаньон     0   \n",
       "11   женат / замужем                 0      F   сотрудник     0   \n",
       "12  гражданский брак                 1      M   пенсионер     0   \n",
       "13   женат / замужем                 0      F   сотрудник     0   \n",
       "14  гражданский брак                 1      F   компаньон     1   \n",
       "15   женат / замужем                 0      F   сотрудник     0   \n",
       "16   женат / замужем                 0      F   сотрудник     0   \n",
       "17  гражданский брак                 1      M   сотрудник     0   \n",
       "18    вдовец / вдова                 2      F   пенсионер     0   \n",
       "19         в разводе                 3      F   сотрудник     0   \n",
       "\n",
       "     total_income                                 purpose  \n",
       "0   253875.639453                           покупка жилья  \n",
       "1   112080.014102                 приобретение автомобиля  \n",
       "2   145885.952297                           покупка жилья  \n",
       "3   267628.550329              дополнительное образование  \n",
       "4   158616.077870                         сыграть свадьбу  \n",
       "5   255763.565419                           покупка жилья  \n",
       "6   240525.971920                       операции с жильем  \n",
       "7   135823.934197                             образование  \n",
       "8    95856.832424                   на проведение свадьбы  \n",
       "9   144425.938277                 покупка жилья для семьи  \n",
       "10  113943.491460                    покупка недвижимости  \n",
       "11   77069.234271       покупка коммерческой недвижимости  \n",
       "12            NaN                         сыграть свадьбу  \n",
       "13  130458.228857                 приобретение автомобиля  \n",
       "14  165127.911772              покупка жилой недвижимости  \n",
       "15  116820.904450  строительство собственной недвижимости  \n",
       "16  289202.704229                            недвижимость  \n",
       "17   90410.586745              строительство недвижимости  \n",
       "18   56823.777243      на покупку подержанного автомобиля  \n",
       "19  242831.107982            на покупку своего автомобиля  "
      ]
     },
     "execution_count": 2,
     "metadata": {},
     "output_type": "execute_result"
    }
   ],
   "source": [
    "data.head(20)"
   ]
  },
  {
   "cell_type": "markdown",
   "id": "cb0e1947",
   "metadata": {
    "deletable": false,
    "editable": false,
    "id": "1c12e233"
   },
   "source": [
    "**Задание 3. Выведите основную информацию о датафрейме с помощью метода `info()`.**"
   ]
  },
  {
   "cell_type": "code",
   "execution_count": 3,
   "id": "6fd8984a",
   "metadata": {
    "deletable": false,
    "id": "2b757bca",
    "outputId": "15376089-8dad-46c9-b520-c05248d43158"
   },
   "outputs": [
    {
     "name": "stdout",
     "output_type": "stream",
     "text": [
      "<class 'pandas.core.frame.DataFrame'>\n",
      "RangeIndex: 21525 entries, 0 to 21524\n",
      "Data columns (total 12 columns):\n",
      " #   Column            Non-Null Count  Dtype  \n",
      "---  ------            --------------  -----  \n",
      " 0   children          21525 non-null  int64  \n",
      " 1   days_employed     19351 non-null  float64\n",
      " 2   dob_years         21525 non-null  int64  \n",
      " 3   education         21525 non-null  object \n",
      " 4   education_id      21525 non-null  int64  \n",
      " 5   family_status     21525 non-null  object \n",
      " 6   family_status_id  21525 non-null  int64  \n",
      " 7   gender            21525 non-null  object \n",
      " 8   income_type       21525 non-null  object \n",
      " 9   debt              21525 non-null  int64  \n",
      " 10  total_income      19351 non-null  float64\n",
      " 11  purpose           21525 non-null  object \n",
      "dtypes: float64(2), int64(5), object(5)\n",
      "memory usage: 2.0+ MB\n"
     ]
    }
   ],
   "source": [
    "data.info()"
   ]
  },
  {
   "cell_type": "markdown",
   "id": "3149213f",
   "metadata": {
    "deletable": false,
    "editable": false,
    "id": "333ec665"
   },
   "source": [
    "## Предобработка данных"
   ]
  },
  {
   "cell_type": "markdown",
   "id": "5a15f599",
   "metadata": {
    "deletable": false,
    "editable": false,
    "id": "02d92d53"
   },
   "source": [
    "### Удаление пропусков"
   ]
  },
  {
   "cell_type": "markdown",
   "id": "3d1506ab",
   "metadata": {
    "deletable": false,
    "editable": false,
    "id": "cd84967c"
   },
   "source": [
    "**Задание 4. Выведите количество пропущенных значений для каждого столбца. Используйте комбинацию двух методов.**"
   ]
  },
  {
   "cell_type": "code",
   "execution_count": 4,
   "id": "af6079f9",
   "metadata": {
    "deletable": false,
    "id": "7f9b2309",
    "outputId": "81f4d817-781c-465c-ed15-91ce4446810d"
   },
   "outputs": [
    {
     "data": {
      "text/plain": [
       "children               0\n",
       "days_employed       2174\n",
       "dob_years              0\n",
       "education              0\n",
       "education_id           0\n",
       "family_status          0\n",
       "family_status_id       0\n",
       "gender                 0\n",
       "income_type            0\n",
       "debt                   0\n",
       "total_income        2174\n",
       "purpose                0\n",
       "dtype: int64"
      ]
     },
     "execution_count": 4,
     "metadata": {},
     "output_type": "execute_result"
    }
   ],
   "source": [
    "data.isna().sum()"
   ]
  },
  {
   "cell_type": "markdown",
   "id": "e9f6c7ea",
   "metadata": {
    "deletable": false,
    "editable": false,
    "id": "db86e27b"
   },
   "source": [
    "**Задание 5. В двух столбцах есть пропущенные значения. Один из них — `days_employed`. Пропуски в этом столбце вы обработаете на следующем этапе. Другой столбец с пропущенными значениями — `total_income` — хранит данные о доходах. На сумму дохода сильнее всего влияет тип занятости, поэтому заполнить пропуски в этом столбце нужно медианным значением по каждому типу из столбца `income_type`. Например, у человека с типом занятости `сотрудник` пропуск в столбце `total_income` должен быть заполнен медианным доходом среди всех записей с тем же типом.**"
   ]
  },
  {
   "cell_type": "code",
   "execution_count": 5,
   "id": "4773749b",
   "metadata": {
    "deletable": false,
    "id": "42006a93"
   },
   "outputs": [],
   "source": [
    "for t in data['income_type'].unique():\n",
    "    data.loc[(data['income_type'] == t) & (data['total_income'].isna()), 'total_income'] = \\\n",
    "    data.loc[(data['income_type'] == t), 'total_income'].median()"
   ]
  },
  {
   "cell_type": "markdown",
   "id": "b97ffa7a",
   "metadata": {
    "deletable": false,
    "editable": false,
    "id": "89da5ece"
   },
   "source": [
    "### Обработка аномальных значений"
   ]
  },
  {
   "cell_type": "markdown",
   "id": "18ebeddc",
   "metadata": {
    "deletable": false,
    "editable": false,
    "id": "57964554"
   },
   "source": [
    "**Задание 6. В данных могут встречаться артефакты (аномалии) — значения, которые не отражают действительность и появились по какой-то ошибке. таким артефактом будет отрицательное количество дней трудового стажа в столбце `days_employed`. Для реальных данных это нормально. Обработайте значения в этом столбце: замените все отрицательные значения положительными с помощью метода `abs()`.**"
   ]
  },
  {
   "cell_type": "code",
   "execution_count": 6,
   "id": "bd43ce71",
   "metadata": {
    "deletable": false,
    "id": "f6f055bf"
   },
   "outputs": [],
   "source": [
    "data['days_employed'] = data['days_employed'].abs()"
   ]
  },
  {
   "cell_type": "markdown",
   "id": "c063d805",
   "metadata": {
    "deletable": false,
    "editable": false,
    "id": "6107dd2f"
   },
   "source": [
    "**Задание 7. Для каждого типа занятости выведите медианное значение трудового стажа `days_employed` в днях.**"
   ]
  },
  {
   "cell_type": "code",
   "execution_count": 7,
   "id": "9dab6f71",
   "metadata": {
    "deletable": false,
    "id": "85a5faf6",
    "outputId": "801ef80e-522b-4668-f34e-565af7432bcf"
   },
   "outputs": [
    {
     "data": {
      "text/plain": [
       "income_type\n",
       "безработный        366413.652744\n",
       "в декрете            3296.759962\n",
       "госслужащий          2689.368353\n",
       "компаньон            1547.382223\n",
       "пенсионер          365213.306266\n",
       "предприниматель       520.848083\n",
       "сотрудник            1574.202821\n",
       "студент               578.751554\n",
       "Name: days_employed, dtype: float64"
      ]
     },
     "execution_count": 7,
     "metadata": {},
     "output_type": "execute_result"
    }
   ],
   "source": [
    "data.groupby('income_type')['days_employed'].agg('median')"
   ]
  },
  {
   "cell_type": "markdown",
   "id": "6f0d054d",
   "metadata": {
    "deletable": false,
    "editable": false,
    "id": "38d1a030"
   },
   "source": [
    "У двух типов (безработные и пенсионеры) получатся аномально большие значения. Исправить такие значения сложно, поэтому оставьте их как есть. Тем более этот столбец не понадобится вам для исследования."
   ]
  },
  {
   "cell_type": "markdown",
   "id": "42741ffc",
   "metadata": {
    "deletable": false,
    "editable": false,
    "id": "d8a9f147"
   },
   "source": [
    "**Задание 8. Выведите перечень уникальных значений столбца `children`.**"
   ]
  },
  {
   "cell_type": "code",
   "execution_count": 8,
   "id": "14c3b4dc",
   "metadata": {
    "deletable": false,
    "id": "ef5056eb",
    "outputId": "6975b15c-7f95-4697-d16d-a0c79b657b03"
   },
   "outputs": [
    {
     "data": {
      "text/plain": [
       "array([ 1,  0,  3,  2, -1,  4, 20,  5])"
      ]
     },
     "execution_count": 8,
     "metadata": {},
     "output_type": "execute_result"
    }
   ],
   "source": [
    "data['children'].unique()"
   ]
  },
  {
   "cell_type": "markdown",
   "id": "63f56202",
   "metadata": {
    "deletable": false,
    "editable": false,
    "id": "40b9ebf2"
   },
   "source": [
    "**Задание 9. В столбце `children` есть два аномальных значения. Удалите строки, в которых встречаются такие аномальные значения из датафрейма `data`.**"
   ]
  },
  {
   "cell_type": "code",
   "execution_count": 9,
   "id": "9de2936d",
   "metadata": {
    "deletable": false,
    "id": "3ff9801d"
   },
   "outputs": [],
   "source": [
    "data = data[(data['children'] != -1) & (data['children'] != 20)]"
   ]
  },
  {
   "cell_type": "markdown",
   "id": "b50fff2b",
   "metadata": {
    "deletable": false,
    "editable": false,
    "id": "bbc4d0ce"
   },
   "source": [
    "**Задание 10. Ещё раз выведите перечень уникальных значений столбца `children`, чтобы убедиться, что артефакты удалены.**"
   ]
  },
  {
   "cell_type": "code",
   "execution_count": 10,
   "id": "76b6c977",
   "metadata": {
    "deletable": false,
    "id": "ad4fa8b7",
    "outputId": "b2097101-d49d-44d9-901b-32a65c9463d1"
   },
   "outputs": [
    {
     "data": {
      "text/plain": [
       "array([1, 0, 3, 2, 4, 5])"
      ]
     },
     "execution_count": 10,
     "metadata": {},
     "output_type": "execute_result"
    }
   ],
   "source": [
    "data['children'].unique()"
   ]
  },
  {
   "cell_type": "markdown",
   "id": "a23ba625",
   "metadata": {
    "deletable": false,
    "editable": false,
    "id": "75440b63"
   },
   "source": [
    "### Удаление пропусков (продолжение)"
   ]
  },
  {
   "cell_type": "markdown",
   "id": "c6286f63",
   "metadata": {
    "deletable": false,
    "editable": false,
    "id": "f4ea573f"
   },
   "source": [
    "**Задание 11. Заполните пропуски в столбце `days_employed` медианными значениями по каждого типа занятости `income_type`.**"
   ]
  },
  {
   "cell_type": "code",
   "execution_count": 11,
   "id": "a28e205a",
   "metadata": {
    "deletable": false,
    "id": "af6b1a7e"
   },
   "outputs": [],
   "source": [
    "for t in data['income_type'].unique():\n",
    "    data.loc[(data['income_type'] == t) & (data['days_employed'].isna()), 'days_employed'] = \\\n",
    "    data.loc[(data['income_type'] == t), 'days_employed'].median()"
   ]
  },
  {
   "cell_type": "markdown",
   "id": "2baf6490",
   "metadata": {
    "deletable": false,
    "editable": false,
    "id": "2753f40d"
   },
   "source": [
    "**Задание 12. Убедитесь, что все пропуски заполнены. Проверьте себя и ещё раз выведите количество пропущенных значений для каждого столбца с помощью двух методов.**"
   ]
  },
  {
   "cell_type": "code",
   "execution_count": 12,
   "id": "e6bc64ff",
   "metadata": {
    "deletable": false,
    "id": "55f78bc2",
    "outputId": "8da1e4e1-358e-4e87-98c9-f261bce0a7b2"
   },
   "outputs": [
    {
     "data": {
      "text/plain": [
       "children            0\n",
       "days_employed       0\n",
       "dob_years           0\n",
       "education           0\n",
       "education_id        0\n",
       "family_status       0\n",
       "family_status_id    0\n",
       "gender              0\n",
       "income_type         0\n",
       "debt                0\n",
       "total_income        0\n",
       "purpose             0\n",
       "dtype: int64"
      ]
     },
     "execution_count": 12,
     "metadata": {},
     "output_type": "execute_result"
    }
   ],
   "source": [
    "data.isna().sum()"
   ]
  },
  {
   "cell_type": "markdown",
   "id": "e725db9c",
   "metadata": {
    "deletable": false,
    "editable": false,
    "id": "ddc81e43"
   },
   "source": [
    "### Изменение типов данных"
   ]
  },
  {
   "cell_type": "markdown",
   "id": "36298952",
   "metadata": {
    "deletable": false,
    "editable": false,
    "id": "42d19d24"
   },
   "source": [
    "**Задание 13. Замените вещественный тип данных в столбце `total_income` на целочисленный с помощью метода `astype()`.**"
   ]
  },
  {
   "cell_type": "code",
   "execution_count": 13,
   "id": "ec76226e",
   "metadata": {
    "deletable": false,
    "id": "920b65ad"
   },
   "outputs": [],
   "source": [
    "data['total_income'] = data['total_income'].astype(int)"
   ]
  },
  {
   "cell_type": "markdown",
   "id": "5542b689",
   "metadata": {
    "deletable": false,
    "editable": false,
    "id": "80c420ba"
   },
   "source": [
    "### Обработка дубликатов"
   ]
  },
  {
   "cell_type": "markdown",
   "id": "a0445940",
   "metadata": {
    "deletable": false,
    "editable": false
   },
   "source": [
    "**Задание 14. Обработайте неявные дубликаты в столбце `education`. В этом столбце есть одни и те же значения, но записанные по-разному: с использованием заглавных и строчных букв. Приведите их к нижнему регистру. Проверьте остальные столбцы.**"
   ]
  },
  {
   "cell_type": "code",
   "execution_count": 14,
   "id": "24afa391",
   "metadata": {
    "deletable": false
   },
   "outputs": [],
   "source": [
    "data['education'] = data['education'].str.lower()"
   ]
  },
  {
   "cell_type": "markdown",
   "id": "41877e95",
   "metadata": {
    "deletable": false,
    "editable": false,
    "id": "dc587695"
   },
   "source": [
    "**Задание 15. Выведите на экран количество строк-дубликатов в данных. Если такие строки присутствуют, удалите их.**"
   ]
  },
  {
   "cell_type": "code",
   "execution_count": 15,
   "id": "6925053d",
   "metadata": {
    "deletable": false,
    "id": "3ee445e4",
    "outputId": "9684deba-1934-42d1-99e1-cda61740f822"
   },
   "outputs": [
    {
     "data": {
      "text/plain": [
       "71"
      ]
     },
     "execution_count": 15,
     "metadata": {},
     "output_type": "execute_result"
    }
   ],
   "source": [
    "data.duplicated().sum()"
   ]
  },
  {
   "cell_type": "code",
   "execution_count": 16,
   "id": "24010e3e",
   "metadata": {
    "deletable": false,
    "id": "8575fe05"
   },
   "outputs": [],
   "source": [
    "data = data.drop_duplicates()"
   ]
  },
  {
   "cell_type": "markdown",
   "id": "882b7001",
   "metadata": {
    "deletable": false,
    "editable": false,
    "id": "9904cf55"
   },
   "source": [
    "### Категоризация данных"
   ]
  },
  {
   "cell_type": "markdown",
   "id": "5165a005",
   "metadata": {
    "deletable": false,
    "editable": false,
    "id": "72fcc8a2"
   },
   "source": [
    "**Задание 16. На основании диапазонов, указанных ниже, создайте в датафрейме `data` столбец `total_income_category` с категориями:**\n",
    "\n",
    "- 0–30000 — `'E'`;\n",
    "- 30001–50000 — `'D'`;\n",
    "- 50001–200000 — `'C'`;\n",
    "- 200001–1000000 — `'B'`;\n",
    "- 1000001 и выше — `'A'`.\n",
    "\n",
    "\n",
    "**Например, кредитополучателю с доходом 25000 нужно назначить категорию `'E'`, а клиенту, получающему 235000, — `'B'`. Используйте собственную функцию с именем `categorize_income()` и метод `apply()`.**"
   ]
  },
  {
   "cell_type": "code",
   "execution_count": 17,
   "id": "504b9eb0",
   "metadata": {
    "deletable": false,
    "id": "e1771346"
   },
   "outputs": [],
   "source": [
    "def categorize_income(income):\n",
    "    try:\n",
    "        if 0 <= income <= 30000:\n",
    "            return 'E'\n",
    "        elif 30001 <= income <= 50000:\n",
    "            return 'D'\n",
    "        elif 50001 <= income <= 200000:\n",
    "            return 'C'\n",
    "        elif 200001 <= income <= 1000000:\n",
    "            return 'B'\n",
    "        elif income >= 1000001:\n",
    "            return 'A'\n",
    "    except:\n",
    "        pass"
   ]
  },
  {
   "cell_type": "code",
   "execution_count": 18,
   "id": "0028cb81",
   "metadata": {
    "deletable": false,
    "id": "d5f3586d"
   },
   "outputs": [],
   "source": [
    "data['total_income_category'] = data['total_income'].apply(categorize_income)"
   ]
  },
  {
   "cell_type": "markdown",
   "id": "a2d1dd0d",
   "metadata": {
    "deletable": false,
    "editable": false,
    "id": "dde49b5c"
   },
   "source": [
    "**Задание 17. Выведите на экран перечень уникальных целей взятия кредита из столбца `purpose`.**"
   ]
  },
  {
   "cell_type": "code",
   "execution_count": 19,
   "id": "a20c2029",
   "metadata": {
    "deletable": false,
    "id": "f67ce9b3",
    "outputId": "673c12d9-7d7e-4ae0-9812-c622c89dd244"
   },
   "outputs": [
    {
     "data": {
      "text/plain": [
       "array(['покупка жилья', 'приобретение автомобиля',\n",
       "       'дополнительное образование', 'сыграть свадьбу',\n",
       "       'операции с жильем', 'образование', 'на проведение свадьбы',\n",
       "       'покупка жилья для семьи', 'покупка недвижимости',\n",
       "       'покупка коммерческой недвижимости', 'покупка жилой недвижимости',\n",
       "       'строительство собственной недвижимости', 'недвижимость',\n",
       "       'строительство недвижимости', 'на покупку подержанного автомобиля',\n",
       "       'на покупку своего автомобиля',\n",
       "       'операции с коммерческой недвижимостью',\n",
       "       'строительство жилой недвижимости', 'жилье',\n",
       "       'операции со своей недвижимостью', 'автомобили',\n",
       "       'заняться образованием', 'сделка с подержанным автомобилем',\n",
       "       'получение образования', 'автомобиль', 'свадьба',\n",
       "       'получение дополнительного образования', 'покупка своего жилья',\n",
       "       'операции с недвижимостью', 'получение высшего образования',\n",
       "       'свой автомобиль', 'сделка с автомобилем',\n",
       "       'профильное образование', 'высшее образование',\n",
       "       'покупка жилья для сдачи', 'на покупку автомобиля', 'ремонт жилью',\n",
       "       'заняться высшим образованием'], dtype=object)"
      ]
     },
     "execution_count": 19,
     "metadata": {},
     "output_type": "execute_result"
    }
   ],
   "source": [
    "data['purpose'].unique()"
   ]
  },
  {
   "cell_type": "markdown",
   "id": "68c78e5b",
   "metadata": {
    "deletable": false,
    "editable": false,
    "id": "85d0aef0"
   },
   "source": [
    "**Задание 18. Создайте функцию, которая на основании данных из столбца `purpose` сформирует новый столбец `purpose_category`, в который войдут следующие категории:**\n",
    "\n",
    "- `'операции с автомобилем'`,\n",
    "- `'операции с недвижимостью'`,\n",
    "- `'проведение свадьбы'`,\n",
    "- `'получение образования'`.\n",
    "\n",
    "**Например, если в столбце `purpose` находится подстрока `'на покупку автомобиля'`, то в столбце `purpose_category` должна появиться строка `'операции с автомобилем'`.**\n",
    "\n",
    "**Используйте собственную функцию с именем `categorize_purpose()` и метод `apply()`. Изучите данные в столбце `purpose` и определите, какие подстроки помогут вам правильно определить категорию.**"
   ]
  },
  {
   "cell_type": "code",
   "execution_count": 20,
   "id": "9f665aac",
   "metadata": {
    "deletable": false,
    "id": "e149fab4"
   },
   "outputs": [],
   "source": [
    "def categorize_purpose(row):\n",
    "    try:\n",
    "        if 'автом' in row:\n",
    "            return 'операции с автомобилем'\n",
    "        elif 'жил' in row or 'недвиж' in row:\n",
    "            return 'операции с недвижимостью'\n",
    "        elif 'свад' in row:\n",
    "            return 'проведение свадьбы'\n",
    "        elif 'образов' in row:\n",
    "            return 'получение образования'\n",
    "    except:\n",
    "        return 'нет категории'"
   ]
  },
  {
   "cell_type": "code",
   "execution_count": 21,
   "id": "ed520464",
   "metadata": {
    "deletable": false,
    "id": "bf36e69b"
   },
   "outputs": [],
   "source": [
    "data['purpose_category'] = data['purpose'].apply(categorize_purpose)"
   ]
  },
  {
   "cell_type": "markdown",
   "id": "00c5cc4c",
   "metadata": {
    "deletable": false,
    "editable": false,
    "id": "09b242bf"
   },
   "source": [
    "### Шаг 3. Исследуйте данные и ответьте на вопросы"
   ]
  },
  {
   "cell_type": "markdown",
   "id": "a5bd4020",
   "metadata": {
    "deletable": false,
    "editable": false,
    "id": "c5d66278"
   },
   "source": [
    "#### 3.1 Есть ли зависимость между количеством детей и возвратом кредита в срок?"
   ]
  },
  {
   "cell_type": "code",
   "execution_count": 22,
   "id": "8e923b55",
   "metadata": {
    "deletable": false,
    "id": "2cacfc4a"
   },
   "outputs": [
    {
     "data": {
      "text/html": [
       "<div>\n",
       "<style scoped>\n",
       "    .dataframe tbody tr th:only-of-type {\n",
       "        vertical-align: middle;\n",
       "    }\n",
       "\n",
       "    .dataframe tbody tr th {\n",
       "        vertical-align: top;\n",
       "    }\n",
       "\n",
       "    .dataframe thead tr th {\n",
       "        text-align: left;\n",
       "    }\n",
       "\n",
       "    .dataframe thead tr:last-of-type th {\n",
       "        text-align: right;\n",
       "    }\n",
       "</style>\n",
       "<table border=\"1\" class=\"dataframe\">\n",
       "  <thead>\n",
       "    <tr>\n",
       "      <th></th>\n",
       "      <th colspan=\"2\" halign=\"left\">debt</th>\n",
       "      <th>children_part</th>\n",
       "    </tr>\n",
       "    <tr>\n",
       "      <th></th>\n",
       "      <th>count</th>\n",
       "      <th>mean</th>\n",
       "      <th></th>\n",
       "    </tr>\n",
       "    <tr>\n",
       "      <th>children</th>\n",
       "      <th></th>\n",
       "      <th></th>\n",
       "      <th></th>\n",
       "    </tr>\n",
       "  </thead>\n",
       "  <tbody>\n",
       "    <tr>\n",
       "      <th>0</th>\n",
       "      <td>14091</td>\n",
       "      <td>0.075438</td>\n",
       "      <td>0.660588</td>\n",
       "    </tr>\n",
       "    <tr>\n",
       "      <th>1</th>\n",
       "      <td>4808</td>\n",
       "      <td>0.092346</td>\n",
       "      <td>0.225400</td>\n",
       "    </tr>\n",
       "    <tr>\n",
       "      <th>2</th>\n",
       "      <td>2052</td>\n",
       "      <td>0.094542</td>\n",
       "      <td>0.096198</td>\n",
       "    </tr>\n",
       "    <tr>\n",
       "      <th>3</th>\n",
       "      <td>330</td>\n",
       "      <td>0.081818</td>\n",
       "      <td>0.015470</td>\n",
       "    </tr>\n",
       "    <tr>\n",
       "      <th>4</th>\n",
       "      <td>41</td>\n",
       "      <td>0.097561</td>\n",
       "      <td>0.001922</td>\n",
       "    </tr>\n",
       "    <tr>\n",
       "      <th>5</th>\n",
       "      <td>9</td>\n",
       "      <td>0.000000</td>\n",
       "      <td>0.000422</td>\n",
       "    </tr>\n",
       "  </tbody>\n",
       "</table>\n",
       "</div>"
      ],
      "text/plain": [
       "           debt           children_part\n",
       "          count      mean              \n",
       "children                               \n",
       "0         14091  0.075438      0.660588\n",
       "1          4808  0.092346      0.225400\n",
       "2          2052  0.094542      0.096198\n",
       "3           330  0.081818      0.015470\n",
       "4            41  0.097561      0.001922\n",
       "5             9  0.000000      0.000422"
      ]
     },
     "execution_count": 22,
     "metadata": {},
     "output_type": "execute_result"
    }
   ],
   "source": [
    "#группируем данные по кол-ву детей с выводом количества заемщиков и доли должников среди них \n",
    "#в виде сводной таблицы с помощью groupby: долю можно вывести сразу через mean или вывести\n",
    "#количество должников и вывести результаты расчетов в отдельной таблице - см. закомментированный вариант\n",
    "#к сводной таблице для наглядности добавим столбец со значениями доли каждой группы заемщиков от общего числа\n",
    "\n",
    "data_groupedby_children = data.groupby('children').agg({'debt': ['count', 'mean']})\n",
    "\n",
    "#data_groupedby_children = data.groupby('children').agg({'debt': ['count', 'sum']})\n",
    "\n",
    "#debt_children_ratio = data_groupedby_children['debt']['sum'] / data_groupedby_children['debt']['count']\n",
    "\n",
    "data_groupedby_children['children_part'] = data_groupedby_children['debt']['count'] / data_groupedby_children['debt']['count'].sum()\n",
    "\n",
    "data_groupedby_children\n"
   ]
  },
  {
   "cell_type": "markdown",
   "id": "fe842d2c",
   "metadata": {
    "deletable": false,
    "id": "3a6b99ec"
   },
   "source": [
    "**Вывод:** в целом можно сказать, что процент должников среди бездетных заемщиков (7.5%) ниже, чем среди тех, у кого 1-4 ребенка (медианное значение около 9.3%), при этом доля должников среди тех, у кого трое детей немного снижается (до 8.2%) относительно тех, у кого 1, 2 и 4 ребенка (медиана 9.4%). Что касается тех, у кого 5 детей, то доля должников среди них нулевая. Однако само количество заемщиков значительно снижается с прибавлением каждого следующего ребенка, так бездетные составляют 66.1% заемщиков банка, люди, имеющие 1 ребенка уже всего 22.5%, 2х - 9.6%, 3х - 1.5%, 4х - 0.2%, а 5х вообще менее десятой доли % - это всего 9 человек против тысяч среди тех, у кого не более 2 детей и то, что среди них не встретилось должников не гарантирует, что данное соотношение будет релевантно для большей выборки. 9 человек - слишком маленькая группа, чтобы отличить закономерность от шума, поэтому данными по этой группе можно пренебречь. Тем не менее, тот факт, что доля должников среди имеющих 1-4 детей выше почти на 2%, чем среди бездетных даже при значительно меньшем количестве группы, позволяет говорить о более предпочтительном месте в кредитном рейтинге для бездетных, относительно заемщиков с детьми."
   ]
  },
  {
   "cell_type": "markdown",
   "id": "87510dea",
   "metadata": {
    "deletable": false,
    "editable": false,
    "id": "97be82ca"
   },
   "source": [
    "#### 3.2 Есть ли зависимость между семейным положением и возвратом кредита в срок?"
   ]
  },
  {
   "cell_type": "code",
   "execution_count": 23,
   "id": "7725d5b6",
   "metadata": {
    "deletable": false,
    "id": "dc3f7ee8"
   },
   "outputs": [
    {
     "data": {
      "text/html": [
       "<div>\n",
       "<style scoped>\n",
       "    .dataframe tbody tr th:only-of-type {\n",
       "        vertical-align: middle;\n",
       "    }\n",
       "\n",
       "    .dataframe tbody tr th {\n",
       "        vertical-align: top;\n",
       "    }\n",
       "\n",
       "    .dataframe thead tr th {\n",
       "        text-align: left;\n",
       "    }\n",
       "\n",
       "    .dataframe thead tr:last-of-type th {\n",
       "        text-align: right;\n",
       "    }\n",
       "</style>\n",
       "<table border=\"1\" class=\"dataframe\">\n",
       "  <thead>\n",
       "    <tr>\n",
       "      <th></th>\n",
       "      <th colspan=\"2\" halign=\"left\">debt</th>\n",
       "      <th>family_status_part</th>\n",
       "    </tr>\n",
       "    <tr>\n",
       "      <th></th>\n",
       "      <th>count</th>\n",
       "      <th>mean</th>\n",
       "      <th></th>\n",
       "    </tr>\n",
       "    <tr>\n",
       "      <th>family_status</th>\n",
       "      <th></th>\n",
       "      <th></th>\n",
       "      <th></th>\n",
       "    </tr>\n",
       "  </thead>\n",
       "  <tbody>\n",
       "    <tr>\n",
       "      <th>Не женат / не замужем</th>\n",
       "      <td>2796</td>\n",
       "      <td>0.097639</td>\n",
       "      <td>0.131077</td>\n",
       "    </tr>\n",
       "    <tr>\n",
       "      <th>в разводе</th>\n",
       "      <td>1189</td>\n",
       "      <td>0.070648</td>\n",
       "      <td>0.055740</td>\n",
       "    </tr>\n",
       "    <tr>\n",
       "      <th>вдовец / вдова</th>\n",
       "      <td>951</td>\n",
       "      <td>0.066246</td>\n",
       "      <td>0.044583</td>\n",
       "    </tr>\n",
       "    <tr>\n",
       "      <th>гражданский брак</th>\n",
       "      <td>4134</td>\n",
       "      <td>0.093130</td>\n",
       "      <td>0.193802</td>\n",
       "    </tr>\n",
       "    <tr>\n",
       "      <th>женат / замужем</th>\n",
       "      <td>12261</td>\n",
       "      <td>0.075606</td>\n",
       "      <td>0.574797</td>\n",
       "    </tr>\n",
       "  </tbody>\n",
       "</table>\n",
       "</div>"
      ],
      "text/plain": [
       "                        debt           family_status_part\n",
       "                       count      mean                   \n",
       "family_status                                            \n",
       "Не женат / не замужем   2796  0.097639           0.131077\n",
       "в разводе               1189  0.070648           0.055740\n",
       "вдовец / вдова           951  0.066246           0.044583\n",
       "гражданский брак        4134  0.093130           0.193802\n",
       "женат / замужем        12261  0.075606           0.574797"
      ]
     },
     "execution_count": 23,
     "metadata": {},
     "output_type": "execute_result"
    }
   ],
   "source": [
    "data_groupedby_family_status = data.groupby('family_status').agg({'debt': ['count', 'mean']})\n",
    "\n",
    "data_groupedby_family_status['family_status_part'] = data_groupedby_family_status['debt']['count'] / data_groupedby_family_status['debt']['count'].sum()\n",
    "\n",
    "data_groupedby_family_status \n"
   ]
  },
  {
   "cell_type": "markdown",
   "id": "bf97e858",
   "metadata": {
    "deletable": false,
    "id": "1cef7837"
   },
   "source": [
    "**Вывод:** Самые низкие доли должников наблюдаются среди групп: \"вдовец/вдова\", \"в разводе\" и \"женат/замужем\" (6.6%, 7.1% и 7.5% соответственно). При этом люди, состоящие в браке составляют 57.4% заемщиков, а бывшие в браке наоборот наименьшие доли суммарно (в соотношении почти 50/50) дающие почти 10% от общего количества. Ощутимо выше доля должников среди заемщиков, живущих в гражданском браке - 9.3% при доле в общей массе в 19.3% и, наконец, наибольший процент неплательщиков (9.7%) среди не состоящих и не состоявших ни в каком браке (при их доле в общей массе в 13.1%). Возможно, прослеживается связь между долей ответственности, которую людям уже приходилось брать на себя в связи с личными отношениями и степенью ответственности, с которой они подходили к кредитным вопросам. Так люди, состоящие или прошедшие через брак более ответственны к своим кредитным обязательствам, а не женатые официально менее ответственны. При этом больше всего кредитами пользуются люди, состоящие в официальном браке, на втором месте те, кто состоит в гражданском браке (почти в 3 раза меньше) и уже в 3 учередь не состоящие и не состоявшие ни в каком браке (более, чем в 4 раза меньше). Похоже, что наличие второй половины создает ощутимо больше спроса на кредиты и чем более узаконены узы, тем выше спрос.     "
   ]
  },
  {
   "cell_type": "markdown",
   "id": "dc241712",
   "metadata": {
    "deletable": false,
    "editable": false,
    "id": "1e8b2fca"
   },
   "source": [
    "#### 3.3 Есть ли зависимость между уровнем дохода и возвратом кредита в срок?"
   ]
  },
  {
   "cell_type": "code",
   "execution_count": 24,
   "id": "dd1ed960",
   "metadata": {
    "deletable": false,
    "id": "cd7e3720"
   },
   "outputs": [
    {
     "data": {
      "text/html": [
       "<div>\n",
       "<style scoped>\n",
       "    .dataframe tbody tr th:only-of-type {\n",
       "        vertical-align: middle;\n",
       "    }\n",
       "\n",
       "    .dataframe tbody tr th {\n",
       "        vertical-align: top;\n",
       "    }\n",
       "\n",
       "    .dataframe thead tr th {\n",
       "        text-align: left;\n",
       "    }\n",
       "\n",
       "    .dataframe thead tr:last-of-type th {\n",
       "        text-align: right;\n",
       "    }\n",
       "</style>\n",
       "<table border=\"1\" class=\"dataframe\">\n",
       "  <thead>\n",
       "    <tr>\n",
       "      <th></th>\n",
       "      <th colspan=\"2\" halign=\"left\">debt</th>\n",
       "      <th>total_income_part</th>\n",
       "    </tr>\n",
       "    <tr>\n",
       "      <th></th>\n",
       "      <th>count</th>\n",
       "      <th>mean</th>\n",
       "      <th></th>\n",
       "    </tr>\n",
       "    <tr>\n",
       "      <th>total_income_category</th>\n",
       "      <th></th>\n",
       "      <th></th>\n",
       "      <th></th>\n",
       "    </tr>\n",
       "  </thead>\n",
       "  <tbody>\n",
       "    <tr>\n",
       "      <th>A</th>\n",
       "      <td>25</td>\n",
       "      <td>0.080000</td>\n",
       "      <td>0.001172</td>\n",
       "    </tr>\n",
       "    <tr>\n",
       "      <th>B</th>\n",
       "      <td>5014</td>\n",
       "      <td>0.070602</td>\n",
       "      <td>0.235057</td>\n",
       "    </tr>\n",
       "    <tr>\n",
       "      <th>C</th>\n",
       "      <td>15921</td>\n",
       "      <td>0.084982</td>\n",
       "      <td>0.746379</td>\n",
       "    </tr>\n",
       "    <tr>\n",
       "      <th>D</th>\n",
       "      <td>349</td>\n",
       "      <td>0.060172</td>\n",
       "      <td>0.016361</td>\n",
       "    </tr>\n",
       "    <tr>\n",
       "      <th>E</th>\n",
       "      <td>22</td>\n",
       "      <td>0.090909</td>\n",
       "      <td>0.001031</td>\n",
       "    </tr>\n",
       "  </tbody>\n",
       "</table>\n",
       "</div>"
      ],
      "text/plain": [
       "                        debt           total_income_part\n",
       "                       count      mean                  \n",
       "total_income_category                                   \n",
       "A                         25  0.080000          0.001172\n",
       "B                       5014  0.070602          0.235057\n",
       "C                      15921  0.084982          0.746379\n",
       "D                        349  0.060172          0.016361\n",
       "E                         22  0.090909          0.001031"
      ]
     },
     "execution_count": 24,
     "metadata": {},
     "output_type": "execute_result"
    }
   ],
   "source": [
    "#действуем аналогично предыдущему заданию\n",
    "\n",
    "data_groupedby_total_income = data.groupby('total_income_category').agg({'debt': ['count', 'mean']})\n",
    "\n",
    "#data_groupedby_total_income = data.groupby('total_income_category').agg({'debt': ['count', 'sum']})\n",
    "\n",
    "#debt_total_income_ratio = data_groupedby_total_income['debt']['sum'] / data_groupedby_total_income['debt']['count']\n",
    "\n",
    "data_groupedby_total_income['total_income_part'] = data_groupedby_total_income['debt']['count'] / data_groupedby_total_income['debt']['count'].sum()\n",
    "\n",
    "data_groupedby_total_income \n"
   ]
  },
  {
   "cell_type": "markdown",
   "id": "8cb824b3",
   "metadata": {
    "deletable": false,
    "id": "e8593def"
   },
   "source": [
    "**Вывод:** почти 3/4 заемщиков сосредоточены в диапазоне доходов свыше 50000 и до 200000 руб. включительно. Еще почти четверть за диапазоном более 200000 и до 1 млн. руб включительно. Все остальные группы составляют незначительные доли, а количество людей в них не позволит отличить шум от закономерности. Поэтому для определения зависимости корректно будет использовать только группы C и B. При том, что заемщиков с уровнем доходов свыше 200 тыс. руб. в 3 раза меньше (что логично, так как и людей с такими доходами в целом меньше), наблюдается снижение доли должников (т.е. растет надежность заемщиков) по мере роста уровня доходов. Помимо того, что с ростом доходов растет платежеспособность людей, возможно, также растет и уровень финансовой грамотности, умения трезво оценивать свои силы и ответственности / важности сохранения репутации. "
   ]
  },
  {
   "cell_type": "markdown",
   "id": "ec21fd48",
   "metadata": {
    "deletable": false,
    "editable": false,
    "id": "99ecbd1f"
   },
   "source": [
    "#### 3.4 Как разные цели кредита влияют на его возврат в срок?"
   ]
  },
  {
   "cell_type": "code",
   "execution_count": 25,
   "id": "56a17fe5",
   "metadata": {
    "deletable": false,
    "id": "2b687290"
   },
   "outputs": [
    {
     "data": {
      "text/html": [
       "<div>\n",
       "<style scoped>\n",
       "    .dataframe tbody tr th:only-of-type {\n",
       "        vertical-align: middle;\n",
       "    }\n",
       "\n",
       "    .dataframe tbody tr th {\n",
       "        vertical-align: top;\n",
       "    }\n",
       "\n",
       "    .dataframe thead tr th {\n",
       "        text-align: left;\n",
       "    }\n",
       "\n",
       "    .dataframe thead tr:last-of-type th {\n",
       "        text-align: right;\n",
       "    }\n",
       "</style>\n",
       "<table border=\"1\" class=\"dataframe\">\n",
       "  <thead>\n",
       "    <tr>\n",
       "      <th></th>\n",
       "      <th colspan=\"2\" halign=\"left\">debt</th>\n",
       "      <th>purpose_category_part</th>\n",
       "    </tr>\n",
       "    <tr>\n",
       "      <th></th>\n",
       "      <th>count</th>\n",
       "      <th>mean</th>\n",
       "      <th></th>\n",
       "    </tr>\n",
       "    <tr>\n",
       "      <th>purpose_category</th>\n",
       "      <th></th>\n",
       "      <th></th>\n",
       "      <th></th>\n",
       "    </tr>\n",
       "  </thead>\n",
       "  <tbody>\n",
       "    <tr>\n",
       "      <th>операции с автомобилем</th>\n",
       "      <td>4279</td>\n",
       "      <td>0.093480</td>\n",
       "      <td>0.200600</td>\n",
       "    </tr>\n",
       "    <tr>\n",
       "      <th>операции с недвижимостью</th>\n",
       "      <td>10751</td>\n",
       "      <td>0.072551</td>\n",
       "      <td>0.504008</td>\n",
       "    </tr>\n",
       "    <tr>\n",
       "      <th>получение образования</th>\n",
       "      <td>3988</td>\n",
       "      <td>0.092528</td>\n",
       "      <td>0.186958</td>\n",
       "    </tr>\n",
       "    <tr>\n",
       "      <th>проведение свадьбы</th>\n",
       "      <td>2313</td>\n",
       "      <td>0.079118</td>\n",
       "      <td>0.108434</td>\n",
       "    </tr>\n",
       "  </tbody>\n",
       "</table>\n",
       "</div>"
      ],
      "text/plain": [
       "                           debt           purpose_category_part\n",
       "                          count      mean                      \n",
       "purpose_category                                               \n",
       "операции с автомобилем     4279  0.093480              0.200600\n",
       "операции с недвижимостью  10751  0.072551              0.504008\n",
       "получение образования      3988  0.092528              0.186958\n",
       "проведение свадьбы         2313  0.079118              0.108434"
      ]
     },
     "execution_count": 25,
     "metadata": {},
     "output_type": "execute_result"
    }
   ],
   "source": [
    "data_groupedby_purpose_category = data.groupby('purpose_category').agg({'debt': ['count', 'mean']})\n",
    "\n",
    "data_groupedby_purpose_category['purpose_category_part'] = data_groupedby_purpose_category['debt']['count'] / data_groupedby_purpose_category['debt']['count'].sum()\n",
    "\n",
    "data_groupedby_purpose_category \n"
   ]
  },
  {
   "cell_type": "markdown",
   "id": "854e97b9",
   "metadata": {
    "deletable": false,
    "id": "b4bb2ce6"
   },
   "source": [
    "**Вывод:** ожидаемо наиболее популярны кредиты на недвижимость - 50% от общей массы, при этом и надежност таких заемщиков наиболее высока - 7.3% должников - видимо сказывается уровень серьезности и взвешенности решений, связанных с вопросами \"крыши над головой\". Немного хуже рейтинг у заемщиков для целей проведения свадьбы - 7.9% должников (при доле в 10.8% от общей массы кредитов). Разница не столь велика - видимо сказывается серьезность принятых на себя обязательств по созданию новой \"ячейки общества\", возможная помощь родителей и нежелание омрачать прекрасный повод разбирательствами с банком. На 3м месте по отсутствию должников заемщики для целей получения образования - уже 9.3% (при доле в 18.6% от общей массы кредитов). Возможно сказывается (теоретически) более низкий возраст, жизненный опыт и уровень дохода целевых потребителей подобных кредитов, однако и помощь родителей может выручать с другой стороны. И с небольшой разницей в худшую сторону 4 место занимают заемщики на операции с автомобилем - 9.3% должников (при доле в 20% от общей массы). Несмотря на поговорку, при нынешних ценах на машины - это скорее роскошь, а не средство, особенно в сравнении с другими 3 группами. И видимо людям реже удается трезво оценить свои финансовые возможности в погоне за комфортом передвижения или неким статусом, игрушкой для взрослых (в некоторых случаях).  "
   ]
  },
  {
   "cell_type": "markdown",
   "id": "a4a5d828",
   "metadata": {
    "deletable": false,
    "editable": false,
    "id": "09c3ac4c"
   },
   "source": [
    "#### 3.5 Приведите возможные причины появления пропусков в исходных данных."
   ]
  },
  {
   "cell_type": "markdown",
   "id": "649c709e",
   "metadata": {
    "deletable": false,
    "id": "9da2ceda"
   },
   "source": [
    "*Ответ:* пропуски в равном количестве присутствовали в столбцах с трудовым стажем и доходом заемщиков. Анализ данных показал, что пропуски в этих столбцах допущены в одних и тех же строках и нет явной зависимости наличия пропусков от типа занятости, возраста или пола заемщика (см. комментарии к задаче 4). Можно предположить, что пропуски носят либо технический характер (так как не были выгружены данные по одним и тем же строкам), либо конкретные заемщики по каким-то причинам не предоставляли данную информацию (но в таком случае не совсем понятно, каким образом они смогли подтвердить свою платежеспособность для одобрения выдачи кредита банком, поэтому данный вариант менее вероятен).  "
   ]
  },
  {
   "cell_type": "markdown",
   "id": "053bbf99",
   "metadata": {
    "deletable": false,
    "editable": false,
    "id": "7b0487d6"
   },
   "source": [
    "#### 3.6 Объясните, почему заполнить пропуски медианным значением — лучшее решение для количественных переменных."
   ]
  },
  {
   "cell_type": "markdown",
   "id": "9ac84660",
   "metadata": {
    "deletable": false,
    "id": "7ecf2b8e"
   },
   "source": [
    "*Ответ:* в случае применения среднего арифметического крайние значения, сильно отличающиеся от основной группы могут сильно стянуть в сврою сторону среднее значение. Медиана как раз выбирает среднее, исходя из большинства имеющихся значений и подставив такое число в общий ряд вместо пропусков мы меньше рискуем получить отклонение от основной группы (создать больше шума)."
   ]
  },
  {
   "cell_type": "markdown",
   "id": "27fdc776",
   "metadata": {
    "deletable": false,
    "editable": false,
    "id": "6db5255a"
   },
   "source": [
    "### Шаг 4: общий вывод."
   ]
  },
  {
   "cell_type": "markdown",
   "id": "718cc558",
   "metadata": {
    "deletable": false,
    "id": "bad65432"
   },
   "source": [
    "**Общий вывод:** Определенная зависимость шансов на возврат кредита от количества детей, семейного положения, дохода и целей кредита наблюдается. Бездетные заемщики (составляют 66.1% от общей массы), по имеющимся данным, выглядят предпочтительнее тех, у кого есть дети. Люди, бывшие в браке или в нем состоящие (в сумме составляющие порядка 66%) предпочтительнее свободных и живущих в гражданском браке. Кредиты на недвижимость и свадьбы возвращаются стабильнее (и составляют порядка 61% от общего числа), чем на образование и автомобили. \n",
    "Чем больше уровень дохода, тем чаще заемщики возвращают кредиты. Почти 75% заемщиков сосредоточены в диапазоне доходов свыше 50000 и до 200000 руб. включительно. Еще почти 25% за диапазоном более 200000 и до 1 млн. руб включительно."
   ]
  }
 ],
 "metadata": {
  "ExecuteTimeLog": [
   {
    "duration": 44,
    "start_time": "2022-10-22T18:29:33.319Z"
   },
   {
    "duration": 6,
    "start_time": "2022-10-22T18:29:38.321Z"
   },
   {
    "duration": 763,
    "start_time": "2022-10-22T18:30:03.315Z"
   },
   {
    "duration": 31,
    "start_time": "2022-10-22T18:30:06.094Z"
   },
   {
    "duration": 22,
    "start_time": "2022-10-22T18:30:10.009Z"
   },
   {
    "duration": 9,
    "start_time": "2022-10-22T18:30:13.460Z"
   },
   {
    "duration": 37,
    "start_time": "2022-10-22T18:30:17.123Z"
   },
   {
    "duration": 5,
    "start_time": "2022-10-22T18:30:19.827Z"
   },
   {
    "duration": 9,
    "start_time": "2022-10-22T18:30:21.978Z"
   },
   {
    "duration": 6,
    "start_time": "2022-10-22T18:30:25.998Z"
   },
   {
    "duration": 14,
    "start_time": "2022-10-22T18:30:30.783Z"
   },
   {
    "duration": 5,
    "start_time": "2022-10-22T18:30:35.476Z"
   },
   {
    "duration": 41,
    "start_time": "2022-10-22T18:30:39.378Z"
   },
   {
    "duration": 9,
    "start_time": "2022-10-22T18:30:42.114Z"
   },
   {
    "duration": 4,
    "start_time": "2022-10-22T18:30:45.351Z"
   },
   {
    "duration": 10,
    "start_time": "2022-10-22T18:30:48.753Z"
   },
   {
    "duration": 17,
    "start_time": "2022-10-22T18:30:50.665Z"
   },
   {
    "duration": 15,
    "start_time": "2022-10-22T18:30:52.457Z"
   },
   {
    "duration": 4,
    "start_time": "2022-10-22T18:30:59.179Z"
   },
   {
    "duration": 12,
    "start_time": "2022-10-22T18:31:01.794Z"
   },
   {
    "duration": 6,
    "start_time": "2022-10-22T18:31:03.913Z"
   },
   {
    "duration": 3,
    "start_time": "2022-10-22T18:31:09.611Z"
   },
   {
    "duration": 11,
    "start_time": "2022-10-22T18:31:11.215Z"
   },
   {
    "duration": 8,
    "start_time": "2022-10-22T18:31:16.482Z"
   },
   {
    "duration": 13,
    "start_time": "2022-10-22T18:46:35.831Z"
   },
   {
    "duration": 11,
    "start_time": "2022-10-22T18:46:44.501Z"
   },
   {
    "duration": 12,
    "start_time": "2022-10-22T18:51:22.719Z"
   },
   {
    "duration": 9,
    "start_time": "2022-10-22T18:51:38.519Z"
   },
   {
    "duration": 11,
    "start_time": "2022-10-22T18:52:16.961Z"
   },
   {
    "duration": 9,
    "start_time": "2022-10-22T18:53:20.748Z"
   },
   {
    "duration": 940,
    "start_time": "2022-10-22T18:55:11.687Z"
   },
   {
    "duration": 106,
    "start_time": "2022-10-22T18:57:58.822Z"
   },
   {
    "duration": 1287,
    "start_time": "2022-10-22T18:58:48.030Z"
   },
   {
    "duration": 217,
    "start_time": "2022-10-22T18:58:56.439Z"
   },
   {
    "duration": 40,
    "start_time": "2022-10-22T18:59:38.666Z"
   },
   {
    "duration": 10,
    "start_time": "2022-10-22T19:00:29.155Z"
   },
   {
    "duration": 14,
    "start_time": "2022-10-22T19:01:39.863Z"
   },
   {
    "duration": 93,
    "start_time": "2022-10-22T19:01:58.667Z"
   },
   {
    "duration": 17,
    "start_time": "2022-10-22T19:02:04.398Z"
   },
   {
    "duration": 14,
    "start_time": "2022-10-22T19:02:19.052Z"
   },
   {
    "duration": 9,
    "start_time": "2022-10-22T19:03:13.158Z"
   },
   {
    "duration": 13,
    "start_time": "2022-10-22T19:03:21.049Z"
   },
   {
    "duration": 17,
    "start_time": "2022-10-22T19:21:14.411Z"
   },
   {
    "duration": 16,
    "start_time": "2022-10-22T20:37:24.779Z"
   },
   {
    "duration": 18,
    "start_time": "2022-10-22T20:40:54.786Z"
   },
   {
    "duration": 17,
    "start_time": "2022-10-22T21:36:14.178Z"
   },
   {
    "duration": 17,
    "start_time": "2022-10-22T21:46:25.919Z"
   },
   {
    "duration": 42,
    "start_time": "2022-10-23T19:57:28.423Z"
   },
   {
    "duration": 438,
    "start_time": "2022-10-23T19:57:48.749Z"
   },
   {
    "duration": 20,
    "start_time": "2022-10-23T19:57:52.704Z"
   },
   {
    "duration": 28,
    "start_time": "2022-10-23T19:57:57.534Z"
   },
   {
    "duration": 28,
    "start_time": "2022-10-23T20:00:07.043Z"
   },
   {
    "duration": 6,
    "start_time": "2022-10-23T20:00:30.003Z"
   },
   {
    "duration": 8,
    "start_time": "2022-10-23T20:00:37.902Z"
   },
   {
    "duration": 20,
    "start_time": "2022-10-23T20:01:13.451Z"
   },
   {
    "duration": 306,
    "start_time": "2022-10-23T20:10:41.699Z"
   },
   {
    "duration": 363,
    "start_time": "2022-10-23T20:11:21.729Z"
   },
   {
    "duration": 18,
    "start_time": "2022-10-23T20:11:35.526Z"
   },
   {
    "duration": 309,
    "start_time": "2022-10-23T20:12:52.081Z"
   },
   {
    "duration": 19,
    "start_time": "2022-10-23T20:13:06.699Z"
   },
   {
    "duration": 6,
    "start_time": "2022-10-23T20:13:46.176Z"
   },
   {
    "duration": 15,
    "start_time": "2022-10-23T20:13:58.902Z"
   },
   {
    "duration": 12,
    "start_time": "2022-10-23T20:14:18.464Z"
   },
   {
    "duration": 17,
    "start_time": "2022-10-23T20:16:01.185Z"
   },
   {
    "duration": 17,
    "start_time": "2022-10-23T20:34:12.996Z"
   },
   {
    "duration": 12,
    "start_time": "2022-10-23T20:34:56.256Z"
   },
   {
    "duration": 14,
    "start_time": "2022-10-23T20:36:37.620Z"
   },
   {
    "duration": 19,
    "start_time": "2022-10-23T20:42:27.124Z"
   },
   {
    "duration": 6,
    "start_time": "2022-10-23T20:43:19.986Z"
   },
   {
    "duration": 9,
    "start_time": "2022-10-23T20:56:15.890Z"
   },
   {
    "duration": 11,
    "start_time": "2022-10-23T20:56:55.242Z"
   },
   {
    "duration": 588,
    "start_time": "2022-10-23T20:57:56.970Z"
   },
   {
    "duration": 12,
    "start_time": "2022-10-23T20:58:30.223Z"
   },
   {
    "duration": 41,
    "start_time": "2022-10-23T21:20:33.598Z"
   },
   {
    "duration": 24,
    "start_time": "2022-10-23T21:22:13.866Z"
   },
   {
    "duration": 16,
    "start_time": "2022-10-23T21:23:07.344Z"
   },
   {
    "duration": 29,
    "start_time": "2022-10-23T21:24:11.304Z"
   },
   {
    "duration": 19,
    "start_time": "2022-10-23T21:25:32.137Z"
   },
   {
    "duration": 45,
    "start_time": "2022-10-23T21:25:41.255Z"
   },
   {
    "duration": 29,
    "start_time": "2022-10-23T21:26:02.132Z"
   },
   {
    "duration": 12,
    "start_time": "2022-10-23T21:27:07.726Z"
   },
   {
    "duration": 18,
    "start_time": "2022-10-23T21:28:39.376Z"
   },
   {
    "duration": 12,
    "start_time": "2022-10-23T21:30:07.441Z"
   },
   {
    "duration": 13,
    "start_time": "2022-10-23T21:31:09.675Z"
   },
   {
    "duration": 786,
    "start_time": "2022-10-23T21:40:28.564Z"
   },
   {
    "duration": 15,
    "start_time": "2022-10-23T21:41:04.358Z"
   },
   {
    "duration": 71,
    "start_time": "2022-10-23T21:43:49.455Z"
   },
   {
    "duration": 14,
    "start_time": "2022-10-23T21:43:52.016Z"
   },
   {
    "duration": 13,
    "start_time": "2022-10-23T21:43:57.220Z"
   },
   {
    "duration": 9,
    "start_time": "2022-10-23T21:44:03.262Z"
   },
   {
    "duration": 30,
    "start_time": "2022-10-23T21:44:07.197Z"
   },
   {
    "duration": 4,
    "start_time": "2022-10-23T21:44:11.996Z"
   },
   {
    "duration": 8,
    "start_time": "2022-10-23T21:44:14.131Z"
   },
   {
    "duration": 5,
    "start_time": "2022-10-23T21:44:20.054Z"
   },
   {
    "duration": 6,
    "start_time": "2022-10-23T21:44:24.740Z"
   },
   {
    "duration": 5,
    "start_time": "2022-10-23T21:44:28.189Z"
   },
   {
    "duration": 35,
    "start_time": "2022-10-23T21:44:32.293Z"
   },
   {
    "duration": 13,
    "start_time": "2022-10-23T21:44:35.729Z"
   },
   {
    "duration": 3,
    "start_time": "2022-10-23T21:44:39.552Z"
   },
   {
    "duration": 13,
    "start_time": "2022-10-23T21:44:44.403Z"
   },
   {
    "duration": 20,
    "start_time": "2022-10-23T21:44:46.497Z"
   },
   {
    "duration": 16,
    "start_time": "2022-10-23T21:44:48.324Z"
   },
   {
    "duration": 4,
    "start_time": "2022-10-23T21:44:52.331Z"
   },
   {
    "duration": 10,
    "start_time": "2022-10-23T21:44:57.406Z"
   },
   {
    "duration": 8,
    "start_time": "2022-10-23T21:45:00.332Z"
   },
   {
    "duration": 5,
    "start_time": "2022-10-23T21:45:04.812Z"
   },
   {
    "duration": 7,
    "start_time": "2022-10-23T21:45:08.521Z"
   },
   {
    "duration": 12,
    "start_time": "2022-10-23T21:45:14.038Z"
   },
   {
    "duration": 16,
    "start_time": "2022-10-23T21:58:56.873Z"
   },
   {
    "duration": 13,
    "start_time": "2022-10-23T21:59:47.826Z"
   },
   {
    "duration": 23,
    "start_time": "2022-10-23T22:00:27.102Z"
   },
   {
    "duration": 19,
    "start_time": "2022-10-23T22:17:24.143Z"
   },
   {
    "duration": 17,
    "start_time": "2022-10-23T22:18:36.494Z"
   },
   {
    "duration": 18,
    "start_time": "2022-10-23T22:20:26.761Z"
   },
   {
    "duration": 18,
    "start_time": "2022-10-23T22:22:49.586Z"
   },
   {
    "duration": 16,
    "start_time": "2022-10-23T22:26:05.796Z"
   },
   {
    "duration": 20,
    "start_time": "2022-10-23T22:31:34.539Z"
   },
   {
    "duration": 15,
    "start_time": "2022-10-23T22:34:15.620Z"
   },
   {
    "duration": 16,
    "start_time": "2022-10-23T22:35:17.012Z"
   },
   {
    "duration": 15,
    "start_time": "2022-10-23T22:39:50.981Z"
   },
   {
    "duration": 501,
    "start_time": "2022-10-24T03:55:06.572Z"
   },
   {
    "duration": 20,
    "start_time": "2022-10-24T03:55:07.075Z"
   },
   {
    "duration": 26,
    "start_time": "2022-10-24T03:55:07.096Z"
   },
   {
    "duration": 9,
    "start_time": "2022-10-24T03:55:07.124Z"
   },
   {
    "duration": 32,
    "start_time": "2022-10-24T03:55:07.134Z"
   },
   {
    "duration": 3,
    "start_time": "2022-10-24T03:55:07.168Z"
   },
   {
    "duration": 13,
    "start_time": "2022-10-24T03:55:07.173Z"
   },
   {
    "duration": 13,
    "start_time": "2022-10-24T03:55:07.188Z"
   },
   {
    "duration": 8,
    "start_time": "2022-10-24T03:55:07.202Z"
   },
   {
    "duration": 9,
    "start_time": "2022-10-24T03:55:07.213Z"
   },
   {
    "duration": 43,
    "start_time": "2022-10-24T03:55:07.224Z"
   },
   {
    "duration": 10,
    "start_time": "2022-10-24T03:55:07.269Z"
   },
   {
    "duration": 23,
    "start_time": "2022-10-24T03:55:07.280Z"
   },
   {
    "duration": 12,
    "start_time": "2022-10-24T03:55:07.304Z"
   },
   {
    "duration": 18,
    "start_time": "2022-10-24T03:55:07.317Z"
   },
   {
    "duration": 15,
    "start_time": "2022-10-24T03:55:07.337Z"
   },
   {
    "duration": 4,
    "start_time": "2022-10-24T03:55:07.353Z"
   },
   {
    "duration": 22,
    "start_time": "2022-10-24T03:55:07.358Z"
   },
   {
    "duration": 25,
    "start_time": "2022-10-24T03:55:07.381Z"
   },
   {
    "duration": 5,
    "start_time": "2022-10-24T03:55:07.408Z"
   },
   {
    "duration": 11,
    "start_time": "2022-10-24T03:55:07.414Z"
   },
   {
    "duration": 20,
    "start_time": "2022-10-24T03:55:07.427Z"
   },
   {
    "duration": 17,
    "start_time": "2022-10-24T03:55:07.449Z"
   },
   {
    "duration": 39,
    "start_time": "2022-10-24T03:55:07.467Z"
   },
   {
    "duration": 16,
    "start_time": "2022-10-24T03:55:07.508Z"
   },
   {
    "duration": 57,
    "start_time": "2022-10-24T03:59:11.092Z"
   },
   {
    "duration": 48,
    "start_time": "2022-10-24T03:59:43.451Z"
   }
  ],
  "celltoolbar": "Необработанный формат ячейки",
  "colab": {
   "name": "dpp_template_part2.ipynb",
   "provenance": []
  },
  "kernelspec": {
   "display_name": "Python 3 (ipykernel)",
   "language": "python",
   "name": "python3"
  },
  "language_info": {
   "codemirror_mode": {
    "name": "ipython",
    "version": 3
   },
   "file_extension": ".py",
   "mimetype": "text/x-python",
   "name": "python",
   "nbconvert_exporter": "python",
   "pygments_lexer": "ipython3",
   "version": "3.9.12"
  },
  "toc": {
   "base_numbering": 1,
   "nav_menu": {},
   "number_sections": true,
   "sideBar": true,
   "skip_h1_title": true,
   "title_cell": "Table of Contents",
   "title_sidebar": "Contents",
   "toc_cell": false,
   "toc_position": {},
   "toc_section_display": true,
   "toc_window_display": false
  }
 },
 "nbformat": 4,
 "nbformat_minor": 5
}
