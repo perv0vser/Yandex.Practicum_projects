{
 "cells": [
  {
   "cell_type": "markdown",
   "metadata": {},
   "source": [
    "# Рекомендация тарифов"
   ]
  },
  {
   "cell_type": "markdown",
   "metadata": {},
   "source": [
    "В нашем распоряжении данные о поведении клиентов телеком компании, которые уже перешли на эти тарифы. Нужно построить модель для задачи классификации, которая выберет подходящий тариф.\n",
    "\n",
    "Требуется построить модель с максимально большим значением метрики *accuracy*. Чтобы считать проект успешным, нужно довести долю правильных ответов по крайней мере до 0.75."
   ]
  },
  {
   "cell_type": "markdown",
   "metadata": {},
   "source": [
    "Описание данных\n",
    "Каждый объект в наборе данных — это информация о поведении одного пользователя за месяц. Известно:\n",
    " - сalls — количество звонков,\n",
    " - minutes — суммарная длительность звонков в минутах,\n",
    " - messages — количество sms-сообщений,\n",
    " - mb_used — израсходованный интернет-трафик в Мб,\n",
    " - is_ultra — каким тарифом пользовался в течение месяца («Ультра» — 1, «Смарт» — 0)."
   ]
  },
  {
   "cell_type": "code",
   "execution_count": 1,
   "metadata": {},
   "outputs": [],
   "source": [
    "import pandas as pd\n",
    "\n",
    "from sklearn.tree import DecisionTreeClassifier\n",
    "from sklearn.ensemble import RandomForestClassifier\n",
    "from sklearn.linear_model import LogisticRegression\n",
    "from sklearn.dummy import DummyClassifier\n",
    "\n",
    "from sklearn.metrics import accuracy_score\n",
    "from sklearn.model_selection import train_test_split "
   ]
  },
  {
   "cell_type": "markdown",
   "metadata": {},
   "source": [
    "## Откройте и изучите файл"
   ]
  },
  {
   "cell_type": "code",
   "execution_count": 2,
   "metadata": {},
   "outputs": [
    {
     "data": {
      "text/html": [
       "<div>\n",
       "<style scoped>\n",
       "    .dataframe tbody tr th:only-of-type {\n",
       "        vertical-align: middle;\n",
       "    }\n",
       "\n",
       "    .dataframe tbody tr th {\n",
       "        vertical-align: top;\n",
       "    }\n",
       "\n",
       "    .dataframe thead th {\n",
       "        text-align: right;\n",
       "    }\n",
       "</style>\n",
       "<table border=\"1\" class=\"dataframe\">\n",
       "  <thead>\n",
       "    <tr style=\"text-align: right;\">\n",
       "      <th></th>\n",
       "      <th>calls</th>\n",
       "      <th>minutes</th>\n",
       "      <th>messages</th>\n",
       "      <th>mb_used</th>\n",
       "      <th>is_ultra</th>\n",
       "    </tr>\n",
       "  </thead>\n",
       "  <tbody>\n",
       "    <tr>\n",
       "      <th>403</th>\n",
       "      <td>40.0</td>\n",
       "      <td>285.77</td>\n",
       "      <td>6.0</td>\n",
       "      <td>19721.43</td>\n",
       "      <td>0</td>\n",
       "    </tr>\n",
       "    <tr>\n",
       "      <th>2181</th>\n",
       "      <td>76.0</td>\n",
       "      <td>524.56</td>\n",
       "      <td>0.0</td>\n",
       "      <td>5291.10</td>\n",
       "      <td>1</td>\n",
       "    </tr>\n",
       "    <tr>\n",
       "      <th>2575</th>\n",
       "      <td>74.0</td>\n",
       "      <td>617.02</td>\n",
       "      <td>69.0</td>\n",
       "      <td>20878.34</td>\n",
       "      <td>0</td>\n",
       "    </tr>\n",
       "    <tr>\n",
       "      <th>754</th>\n",
       "      <td>98.0</td>\n",
       "      <td>723.12</td>\n",
       "      <td>10.0</td>\n",
       "      <td>14688.44</td>\n",
       "      <td>0</td>\n",
       "    </tr>\n",
       "    <tr>\n",
       "      <th>2292</th>\n",
       "      <td>67.0</td>\n",
       "      <td>560.62</td>\n",
       "      <td>68.0</td>\n",
       "      <td>16663.57</td>\n",
       "      <td>0</td>\n",
       "    </tr>\n",
       "  </tbody>\n",
       "</table>\n",
       "</div>"
      ],
      "text/plain": [
       "      calls  minutes  messages   mb_used  is_ultra\n",
       "403    40.0   285.77       6.0  19721.43         0\n",
       "2181   76.0   524.56       0.0   5291.10         1\n",
       "2575   74.0   617.02      69.0  20878.34         0\n",
       "754    98.0   723.12      10.0  14688.44         0\n",
       "2292   67.0   560.62      68.0  16663.57         0"
      ]
     },
     "execution_count": 2,
     "metadata": {},
     "output_type": "execute_result"
    }
   ],
   "source": [
    "try:\n",
    "    df = pd.read_csv('/datasets/users_behavior.csv') # читаем csv-файл и сохраняем в переменную df\n",
    "except:\n",
    "    df = pd.read_csv('https://code.s3.yandex.net/datasets/users_behavior.csv') \n",
    "\n",
    "df.sample(5)  # смотрим рандомные 5 строк данных"
   ]
  },
  {
   "cell_type": "code",
   "execution_count": 3,
   "metadata": {},
   "outputs": [
    {
     "name": "stdout",
     "output_type": "stream",
     "text": [
      "<class 'pandas.core.frame.DataFrame'>\n",
      "RangeIndex: 3214 entries, 0 to 3213\n",
      "Data columns (total 5 columns):\n",
      " #   Column    Non-Null Count  Dtype  \n",
      "---  ------    --------------  -----  \n",
      " 0   calls     3214 non-null   float64\n",
      " 1   minutes   3214 non-null   float64\n",
      " 2   messages  3214 non-null   float64\n",
      " 3   mb_used   3214 non-null   float64\n",
      " 4   is_ultra  3214 non-null   int64  \n",
      "dtypes: float64(4), int64(1)\n",
      "memory usage: 125.7 KB\n"
     ]
    }
   ],
   "source": [
    "df.info()"
   ]
  },
  {
   "cell_type": "markdown",
   "metadata": {},
   "source": [
    "**Вывод:** Форматы данных адекватные. Пропусков нет, можно использовать данные для обучения."
   ]
  },
  {
   "cell_type": "code",
   "execution_count": 4,
   "metadata": {
    "scrolled": true
   },
   "outputs": [
    {
     "data": {
      "text/html": [
       "<div>\n",
       "<style scoped>\n",
       "    .dataframe tbody tr th:only-of-type {\n",
       "        vertical-align: middle;\n",
       "    }\n",
       "\n",
       "    .dataframe tbody tr th {\n",
       "        vertical-align: top;\n",
       "    }\n",
       "\n",
       "    .dataframe thead th {\n",
       "        text-align: right;\n",
       "    }\n",
       "</style>\n",
       "<table border=\"1\" class=\"dataframe\">\n",
       "  <thead>\n",
       "    <tr style=\"text-align: right;\">\n",
       "      <th></th>\n",
       "      <th>calls</th>\n",
       "      <th>minutes</th>\n",
       "      <th>messages</th>\n",
       "      <th>mb_used</th>\n",
       "      <th>is_ultra</th>\n",
       "    </tr>\n",
       "  </thead>\n",
       "  <tbody>\n",
       "    <tr>\n",
       "      <th>count</th>\n",
       "      <td>3214.000000</td>\n",
       "      <td>3214.000000</td>\n",
       "      <td>3214.000000</td>\n",
       "      <td>3214.000000</td>\n",
       "      <td>3214.000000</td>\n",
       "    </tr>\n",
       "    <tr>\n",
       "      <th>mean</th>\n",
       "      <td>63.038892</td>\n",
       "      <td>438.208787</td>\n",
       "      <td>38.281269</td>\n",
       "      <td>17207.673836</td>\n",
       "      <td>0.306472</td>\n",
       "    </tr>\n",
       "    <tr>\n",
       "      <th>std</th>\n",
       "      <td>33.236368</td>\n",
       "      <td>234.569872</td>\n",
       "      <td>36.148326</td>\n",
       "      <td>7570.968246</td>\n",
       "      <td>0.461100</td>\n",
       "    </tr>\n",
       "    <tr>\n",
       "      <th>min</th>\n",
       "      <td>0.000000</td>\n",
       "      <td>0.000000</td>\n",
       "      <td>0.000000</td>\n",
       "      <td>0.000000</td>\n",
       "      <td>0.000000</td>\n",
       "    </tr>\n",
       "    <tr>\n",
       "      <th>25%</th>\n",
       "      <td>40.000000</td>\n",
       "      <td>274.575000</td>\n",
       "      <td>9.000000</td>\n",
       "      <td>12491.902500</td>\n",
       "      <td>0.000000</td>\n",
       "    </tr>\n",
       "    <tr>\n",
       "      <th>50%</th>\n",
       "      <td>62.000000</td>\n",
       "      <td>430.600000</td>\n",
       "      <td>30.000000</td>\n",
       "      <td>16943.235000</td>\n",
       "      <td>0.000000</td>\n",
       "    </tr>\n",
       "    <tr>\n",
       "      <th>75%</th>\n",
       "      <td>82.000000</td>\n",
       "      <td>571.927500</td>\n",
       "      <td>57.000000</td>\n",
       "      <td>21424.700000</td>\n",
       "      <td>1.000000</td>\n",
       "    </tr>\n",
       "    <tr>\n",
       "      <th>max</th>\n",
       "      <td>244.000000</td>\n",
       "      <td>1632.060000</td>\n",
       "      <td>224.000000</td>\n",
       "      <td>49745.730000</td>\n",
       "      <td>1.000000</td>\n",
       "    </tr>\n",
       "  </tbody>\n",
       "</table>\n",
       "</div>"
      ],
      "text/plain": [
       "             calls      minutes     messages       mb_used     is_ultra\n",
       "count  3214.000000  3214.000000  3214.000000   3214.000000  3214.000000\n",
       "mean     63.038892   438.208787    38.281269  17207.673836     0.306472\n",
       "std      33.236368   234.569872    36.148326   7570.968246     0.461100\n",
       "min       0.000000     0.000000     0.000000      0.000000     0.000000\n",
       "25%      40.000000   274.575000     9.000000  12491.902500     0.000000\n",
       "50%      62.000000   430.600000    30.000000  16943.235000     0.000000\n",
       "75%      82.000000   571.927500    57.000000  21424.700000     1.000000\n",
       "max     244.000000  1632.060000   224.000000  49745.730000     1.000000"
      ]
     },
     "execution_count": 4,
     "metadata": {},
     "output_type": "execute_result"
    }
   ],
   "source": [
    "df.describe()"
   ]
  },
  {
   "cell_type": "markdown",
   "metadata": {},
   "source": [
    "**Вывод:** Отрицательных значений в столбцах со звонками, минутами, сообщениями и мб нет, данные выглядят адекватными."
   ]
  },
  {
   "cell_type": "markdown",
   "metadata": {},
   "source": [
    "## Разбейте данные на выборки"
   ]
  },
  {
   "cell_type": "markdown",
   "metadata": {},
   "source": [
    "Разделите исходные данные на обучающую, валидационную и тестовую выборки."
   ]
  },
  {
   "cell_type": "code",
   "execution_count": 5,
   "metadata": {},
   "outputs": [],
   "source": [
    "features = df.drop(['is_ultra'], axis=1) \n",
    "target = df['is_ultra']\n",
    "# у нас ситуация, когда есть исходные данные и нужно их поделить на 3 выборки: делим в соотношении 3:1:1 (60%, 20%, 20%). \n",
    "# Метод train_test_split не дает возможности сразу разделить данные на 3 части, поэтому применяем его 2 раза последовательно:  \n",
    "features_train_valid, features_test, target_train_valid, target_test = train_test_split(\n",
    "    features, target, test_size=0.2, random_state=12345) # отделяем 20% данных для тестовой выборки\n",
    "features_train, features_valid, target_train, target_valid = train_test_split(\n",
    "    features_train_valid, target_train_valid, test_size=0.25, random_state=12345) # отделяем 20% (25% от оставшихся) \n",
    "                                                                                  # данных для валидационной выборки"
   ]
  },
  {
   "cell_type": "markdown",
   "metadata": {},
   "source": [
    "## Исследуем модели"
   ]
  },
  {
   "cell_type": "markdown",
   "metadata": {},
   "source": [
    "Исследуйте качество разных моделей, меняя гиперпараметры. Кратко напишите выводы исследования."
   ]
  },
  {
   "cell_type": "code",
   "execution_count": 6,
   "metadata": {},
   "outputs": [
    {
     "name": "stdout",
     "output_type": "stream",
     "text": [
      "Качество лучшего дерева решений на валидационной выборке: 0.77 Глубина дерева: 3\n"
     ]
    }
   ],
   "source": [
    "# дерево решений\n",
    "\n",
    "best_tree_model = None\n",
    "best_tree_result = 0\n",
    "best_tree_depth = 0\n",
    "for depth in range(1, 11):\n",
    "    model = DecisionTreeClassifier(random_state=12345, max_depth=depth) \n",
    "    model.fit(features_train, target_train) # обучаем модель на тренировочной выборке\n",
    "    result = round(model.score(features_valid, target_valid), 2) # считаем качество модели на валидационной выборке\n",
    "    if result > best_tree_result:\n",
    "        best_tree_model = model # сохраняем наилучшую модель\n",
    "        best_tree_result = result #  сохраняем наилучшее значение метрики accuracy на валидационных данных\n",
    "        best_tree_depth = depth #  сохраняем наилучшее значение гиперпараметра depth на валидационных данных\n",
    "print(\"Качество лучшего дерева решений на валидационной выборке:\", best_tree_result, \"Глубина дерева:\", best_tree_depth)\n"
   ]
  },
  {
   "cell_type": "code",
   "execution_count": 7,
   "metadata": {
    "scrolled": true
   },
   "outputs": [
    {
     "name": "stdout",
     "output_type": "stream",
     "text": [
      "Качество лучшего случайного леса на валидационной выборке: 0.8 Количество деревьев: 20 Максимальная глубина: 10\n"
     ]
    }
   ],
   "source": [
    "# случайный лес\n",
    "\n",
    "best_forest_model = None\n",
    "best_forest_result = 0\n",
    "best_forest_est = 0\n",
    "best_forest_depth = 0\n",
    "for est in range(10, 51, 10):\n",
    "    for depth in range (1, 11):\n",
    "        model = RandomForestClassifier(random_state=12345, n_estimators=est, max_depth=depth)\n",
    "        model.fit(features_train, target_train) # обучаем модель на тренировочной выборке\n",
    "        result = round(model.score(features_valid, target_valid), 2) # считаем качество модели на валидационной выборке\n",
    "        if result > best_forest_result:\n",
    "            best_forest_model = model # сохраняем наилучшую модель\n",
    "            best_forest_result = result #  сохраняем наилучшее значение метрики accuracy на валидационных данных\n",
    "            best_forest_est = est #  сохраняем наилучшее значение гиперпараметра n_estimators на валидационных данных\n",
    "            best_forest_depth = depth #  сохраняем наилучшее значение гиперпараметра depth на валидационных данных\n",
    "print(\"Качество лучшего случайного леса на валидационной выборке:\", best_forest_result, \"Количество деревьев:\", best_forest_est,\\\n",
    "\"Максимальная глубина:\", best_forest_depth)\n"
   ]
  },
  {
   "cell_type": "code",
   "execution_count": 8,
   "metadata": {},
   "outputs": [
    {
     "name": "stdout",
     "output_type": "stream",
     "text": [
      "Качество логистической регрессии на валидационной выборке: 0.73\n"
     ]
    }
   ],
   "source": [
    "model = LogisticRegression(random_state=12345, solver='lbfgs', max_iter=100) \n",
    "model.fit(features_train, target_train) \n",
    "result = round(model.score(features_valid, target_valid), 2)\n",
    "\n",
    "print(\"Качество логистической регрессии на валидационной выборке:\", result)"
   ]
  },
  {
   "cell_type": "markdown",
   "metadata": {},
   "source": [
    "**Вывод:** Худший показатель качества модели у логистической регрессии (0.73), однако, скорость вычислений была наиболее высокой. Второй результат по качеству (0.77) у дерева решений при глубине дерева 3, скорость вычислений так же средняя. Первый результат по качеству у случайного леса (0.8) при количестве деревьев 20 и максимальной глубине 10, однако и скорость вычислений самая низкая."
   ]
  },
  {
   "cell_type": "markdown",
   "metadata": {},
   "source": [
    "## Проверка модели на тестовой выборке"
   ]
  },
  {
   "cell_type": "code",
   "execution_count": 9,
   "metadata": {
    "scrolled": true
   },
   "outputs": [
    {
     "name": "stdout",
     "output_type": "stream",
     "text": [
      "Качество модели на тестовой выборке: 0.79\n"
     ]
    }
   ],
   "source": [
    "model = RandomForestClassifier(random_state=12345, n_estimators=20, max_depth=10)\n",
    "model.fit(features_train, target_train) # обучаем модель на тренировочной выборке\n",
    "test_result = round(model.score(features_test, target_test), 2) # проверяем модель на тестовой выборке\n",
    "print(\"Качество модели на тестовой выборке:\", test_result)"
   ]
  },
  {
   "cell_type": "markdown",
   "metadata": {},
   "source": [
    "**Вывод:** Качество модели немного упало на тестовой выборке по сравнению с результатами на валидационной выборке. Тем не менее значение параметра не меньше 0.75. Цель достигнута."
   ]
  },
  {
   "cell_type": "markdown",
   "metadata": {},
   "source": [
    "## Проверка модели на адекватность"
   ]
  },
  {
   "cell_type": "markdown",
   "metadata": {},
   "source": [
    "Дополнительное задание: проверьте модели на вменяемость. Ничего страшного, если не получится: эти данные сложнее тех, с которыми вы работали раньше. В следующем курсе подробнее об этом расскажем."
   ]
  },
  {
   "cell_type": "code",
   "execution_count": 10,
   "metadata": {},
   "outputs": [
    {
     "name": "stdout",
     "output_type": "stream",
     "text": [
      "Качество модели DummyClassifier: 0.7\n"
     ]
    }
   ],
   "source": [
    "#внедрим baseline модель на основе DummyClassifier из пакета sklearn со стратегией most_frequent\n",
    "model = DummyClassifier(strategy='most_frequent', random_state=12345)\n",
    "model.fit(features_train, target_train)\n",
    "result_dumclass = round(model.score(features_test, target_test), 2)\n",
    "print(\"Качество модели DummyClassifier:\", result_dumclass)"
   ]
  },
  {
   "cell_type": "markdown",
   "metadata": {},
   "source": [
    "**Комментарий:** Качество более наивной модели на тестовой выборке 0.7, а выбранной модели 0.79, что подтверждает ее адекватность и более качественную работу."
   ]
  }
 ],
 "metadata": {
  "ExecuteTimeLog": [
   {
    "duration": 1341,
    "start_time": "2022-12-14T22:41:42.230Z"
   },
   {
    "duration": 96,
    "start_time": "2022-12-14T22:41:43.576Z"
   },
   {
    "duration": 13,
    "start_time": "2022-12-14T22:41:43.674Z"
   },
   {
    "duration": 31,
    "start_time": "2022-12-14T22:41:43.689Z"
   },
   {
    "duration": 11,
    "start_time": "2022-12-14T22:41:44.215Z"
   },
   {
    "duration": 104,
    "start_time": "2022-12-14T22:41:45.400Z"
   },
   {
    "duration": 4840,
    "start_time": "2022-12-14T22:41:45.593Z"
   },
   {
    "duration": 50,
    "start_time": "2022-12-14T22:41:50.435Z"
   },
   {
    "duration": 109,
    "start_time": "2022-12-14T22:41:50.487Z"
   },
   {
    "duration": 7,
    "start_time": "2022-12-14T22:41:50.601Z"
   },
   {
    "duration": 9,
    "start_time": "2022-12-14T22:42:15.147Z"
   },
   {
    "duration": 7,
    "start_time": "2022-12-14T22:42:27.744Z"
   },
   {
    "duration": 7,
    "start_time": "2022-12-14T22:42:43.664Z"
   },
   {
    "duration": 4,
    "start_time": "2022-12-14T22:48:34.396Z"
   },
   {
    "duration": 38,
    "start_time": "2022-12-14T22:48:34.694Z"
   },
   {
    "duration": 20,
    "start_time": "2022-12-14T22:48:34.847Z"
   },
   {
    "duration": 32,
    "start_time": "2022-12-14T22:48:35.167Z"
   },
   {
    "duration": 11,
    "start_time": "2022-12-14T22:48:36.356Z"
   },
   {
    "duration": 79,
    "start_time": "2022-12-14T22:48:37.228Z"
   },
   {
    "duration": 4262,
    "start_time": "2022-12-14T22:48:37.412Z"
   },
   {
    "duration": 49,
    "start_time": "2022-12-14T22:48:41.676Z"
   },
   {
    "duration": 97,
    "start_time": "2022-12-14T22:48:41.727Z"
   },
   {
    "duration": 5,
    "start_time": "2022-12-14T22:48:41.826Z"
   },
   {
    "duration": 2655,
    "start_time": "2022-12-15T15:38:43.575Z"
   },
   {
    "duration": 89,
    "start_time": "2022-12-15T15:38:46.233Z"
   },
   {
    "duration": 12,
    "start_time": "2022-12-15T15:38:46.324Z"
   },
   {
    "duration": 81,
    "start_time": "2022-12-15T15:38:46.338Z"
   },
   {
    "duration": 11,
    "start_time": "2022-12-15T15:38:46.421Z"
   },
   {
    "duration": 215,
    "start_time": "2022-12-15T15:38:46.434Z"
   },
   {
    "duration": 8180,
    "start_time": "2022-12-15T15:38:46.652Z"
   },
   {
    "duration": 103,
    "start_time": "2022-12-15T15:38:54.834Z"
   },
   {
    "duration": 178,
    "start_time": "2022-12-15T15:38:54.939Z"
   },
   {
    "duration": 6,
    "start_time": "2022-12-15T15:38:55.119Z"
   }
  ],
  "kernelspec": {
   "display_name": "Python 3 (ipykernel)",
   "language": "python",
   "name": "python3"
  },
  "language_info": {
   "codemirror_mode": {
    "name": "ipython",
    "version": 3
   },
   "file_extension": ".py",
   "mimetype": "text/x-python",
   "name": "python",
   "nbconvert_exporter": "python",
   "pygments_lexer": "ipython3",
   "version": "3.9.12"
  },
  "toc": {
   "base_numbering": 1,
   "nav_menu": {},
   "number_sections": true,
   "sideBar": true,
   "skip_h1_title": true,
   "title_cell": "Table of Contents",
   "title_sidebar": "Contents",
   "toc_cell": false,
   "toc_position": {
    "height": "calc(100% - 180px)",
    "left": "10px",
    "top": "150px",
    "width": "165px"
   },
   "toc_section_display": true,
   "toc_window_display": true
  }
 },
 "nbformat": 4,
 "nbformat_minor": 2
}
